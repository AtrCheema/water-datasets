{
 "cells": [
  {
   "cell_type": "markdown",
   "metadata": {},
   "source": [
    "\n",
    "# Summary of Rainfall Runoff datasets\n"
   ]
  },
  {
   "cell_type": "code",
   "execution_count": 1,
   "metadata": {
    "collapsed": false,
    "execution": {
     "iopub.execute_input": "2024-10-20T10:15:21.324380Z",
     "iopub.status.busy": "2024-10-20T10:15:21.323934Z",
     "iopub.status.idle": "2024-10-20T10:15:22.023258Z",
     "shell.execute_reply": "2024-10-20T10:15:22.022559Z"
    }
   },
   "outputs": [
    {
     "name": "stdout",
     "output_type": "stream",
     "text": [
      "/home/abbaa0a/water-datasets\n"
     ]
    },
    {
     "name": "stdout",
     "output_type": "stream",
     "text": [
      "numpy 1.26.4\n",
      "pandas 1.5.3\n",
      "water_datasets 0.1.0\n",
      "python 3.12.4 | packaged by Anaconda, Inc. | (main, Jun 18 2024, 15:12:24) [GCC 11.2.0]\n",
      "os posix\n",
      "matplotlib 3.8.4\n",
      "shapefile 2.3.1\n",
      "xarray 2024.7.0\n",
      "netCDF4 1.6.2\n",
      "scipy 1.13.0\n",
      "Script Executed on:  20 October 2024 10:15:22\n",
      "tot_cpus 112\n",
      "avail_cpus 112\n",
      "mem_gib 251.52819442749023\n"
     ]
    }
   ],
   "source": [
    "import os\n",
    "import site\n",
    "\n",
    "wd_dir = os.path.dirname(os.path.dirname(os.path.dirname(os.path.dirname(os.path.realpath('__file__')))))\n",
    "# wd_dir = os.path.dirname(os.path.dirname(os.path.realpath('__file__')))\n",
    "# wd_dir = os.path.dirname(os.path.realpath('__file__'))\n",
    "print(wd_dir)\n",
    "site.addsitedir(wd_dir)\n",
    "\n",
    "import textwrap\n",
    "\n",
    "from water_datasets.utils import print_info\n",
    "from water_datasets import RainfallRunoff\n",
    "\n",
    "print_info()\n",
    "\n",
    "gscad_path = '/mnt/datawaha/hyex/atr/gscad_database/raw'"
   ]
  },
  {
   "cell_type": "markdown",
   "metadata": {},
   "source": [
    "## CAMELS_AUS\n",
    "\n"
   ]
  },
  {
   "cell_type": "code",
   "execution_count": 2,
   "metadata": {
    "collapsed": false,
    "execution": {
     "iopub.execute_input": "2024-10-20T10:15:22.027302Z",
     "iopub.status.busy": "2024-10-20T10:15:22.027032Z",
     "iopub.status.idle": "2024-10-20T10:15:22.066645Z",
     "shell.execute_reply": "2024-10-20T10:15:22.065862Z"
    }
   },
   "outputs": [
    {
     "name": "stdout",
     "output_type": "stream",
     "text": [
      "CAMELS_AUS with 222 stations, 26 dynamic and 166 static features\n"
     ]
    }
   ],
   "source": [
    "dataset = RainfallRunoff('CAMELS_AUS', path=os.path.join(gscad_path, 'CAMELS_AUS_V1'), version=1, verbosity=0)\n",
    "print(dataset)"
   ]
  },
  {
   "cell_type": "code",
   "execution_count": 3,
   "metadata": {
    "collapsed": false,
    "execution": {
     "iopub.execute_input": "2024-10-20T10:15:22.070329Z",
     "iopub.status.busy": "2024-10-20T10:15:22.070003Z",
     "iopub.status.idle": "2024-10-20T10:15:22.085081Z",
     "shell.execute_reply": "2024-10-20T10:15:22.084317Z"
    }
   },
   "outputs": [
    {
     "name": "stdout",
     "output_type": "stream",
     "text": [
      "Q5, Q95, anngro_mega, anngro_meso, anngro_micro, aridity, baseflow_index, carbnatesed,\n",
      "catchment_area, catchment_di, claya, clayb, confinement, daystart, daystart_P, daystart_Q,\n",
      "distupdamw, drainage_division, elev_max, elev_mean, elev_min, elev_range, elongratio, end_date,\n",
      "erosivity, extract_ind_fac, flow_div_fac, flow_regime_di, frac_snow, geol_prim, geol_prim_prop,\n",
      "geol_sec, geol_sec_prop, gromega_seas, gromeso_seas, gromicro_seas, hdf_mean, high_prec_dur,\n",
      "high_prec_freq, high_prec_timing, high_q_dur, high_q_freq, igneous, impound_fac, infrastruc_fac,\n",
      "ksat, landuse_fac, lat_centroid, lat_outlet, lc01_extracti, lc03_waterbo, lc04_saltlak,\n",
      "lc05_irrcrop, lc06_irrpast, lc07_irrsuga, lc08_rfcropp, lc09_rfpastu, lc10_rfsugar, lc11_wetlands,\n",
      "lc14_tussclo, lc15_alpineg, lc16_openhum, lc18_opentus, lc19_shrbsca, lc24_shrbden, lc25_shrbope,\n",
      "lc31_forclos, lc32_foropen, lc33_woodope, lc34_woodspa, lc35_urbanar, leveebank_fac, long_centroid,\n",
      "long_outlet, low_prec_dur, low_prec_freq, low_prec_timing, low_q_dur, low_q_freq, map_zone,\n",
      "mean_slope_pct, metamorph, mrvbf_prop_0, mrvbf_prop_1, mrvbf_prop_2, mrvbf_prop_3, mrvbf_prop_4,\n",
      "mrvbf_prop_5, mrvbf_prop_6, mrvbf_prop_7, mrvbf_prop_8, mrvbf_prop_9, nested_status,\n",
      "next_station_ds, notes, npp_1, npp_10, npp_11, npp_12, npp_2, npp_3, npp_4, npp_5, npp_6, npp_7,\n",
      "npp_8, npp_9, npp_ann, num_nested_within, nvis_bare_e, nvis_bare_n, nvis_forests_e, nvis_forests_n,\n",
      "nvis_grasses_e, nvis_grasses_n, nvis_nodata_e, nvis_nodata_n, nvis_shrubs_e, nvis_shrubs_n,\n",
      "nvis_woodlands_e, nvis_woodlands_n, oldrock, othersed, p_mean, p_seasonality, pet_mean, pop_gt_1,\n",
      "pop_gt_10, pop_max, pop_mean, prop_forested, prop_missing_data, q_mean, q_uncert_n,\n",
      "q_uncert_num_curves, q_uncert_q10, q_uncert_q10_lower, q_uncert_q10_upper, q_uncert_q50,\n",
      "q_uncert_q50_lower, q_uncert_q50_upper, q_uncert_q90, q_uncert_q90_lower, q_uncert_q90_upper,\n",
      "relief, reliefratio, river_di, river_region, runoff_ratio, sanda, sedvolc, settlement_fac, silicsed,\n",
      "slope_fdc, solpawhc, solum_thickness, start_date, state_alt, state_outlet, station_name, strahler,\n",
      "strdensity, stream_elas, unconsoldted, upsdist, zero_q_freq\n"
     ]
    }
   ],
   "source": [
    "static_features = dataset.static_features\n",
    "static_features.sort()\n",
    "print(textwrap.fill(\", \".join(static_features), width=100))"
   ]
  },
  {
   "cell_type": "code",
   "execution_count": 4,
   "metadata": {
    "collapsed": false,
    "execution": {
     "iopub.execute_input": "2024-10-20T10:15:22.088258Z",
     "iopub.status.busy": "2024-10-20T10:15:22.087975Z",
     "iopub.status.idle": "2024-10-20T10:15:22.122087Z",
     "shell.execute_reply": "2024-10-20T10:15:22.121350Z"
    }
   },
   "outputs": [
    {
     "name": "stdout",
     "output_type": "stream",
     "text": [
      "(222, 166)\n"
     ]
    }
   ],
   "source": [
    "df = dataset.fetch_static_features()\n",
    "print(df.shape)"
   ]
  },
  {
   "cell_type": "code",
   "execution_count": 5,
   "metadata": {
    "collapsed": false,
    "execution": {
     "iopub.execute_input": "2024-10-20T10:15:22.125095Z",
     "iopub.status.busy": "2024-10-20T10:15:22.124835Z",
     "iopub.status.idle": "2024-10-20T10:15:22.137775Z",
     "shell.execute_reply": "2024-10-20T10:15:22.137027Z"
    }
   },
   "outputs": [
    {
     "name": "stdout",
     "output_type": "stream",
     "text": [
      "1175\n"
     ]
    },
    {
     "data": {
      "text/plain": [
       "station_name         0\n",
       "drainage_division    0\n",
       "river_region         0\n",
       "notes                0\n",
       "lat_outlet           0\n",
       "                    ..\n",
       "npp_8                0\n",
       "npp_9                0\n",
       "npp_10               0\n",
       "npp_11               0\n",
       "npp_12               0\n",
       "Length: 166, dtype: int64"
      ]
     },
     "execution_count": 5,
     "metadata": {},
     "output_type": "execute_result"
    }
   ],
   "source": [
    "print(df.isna().sum().sum())\n",
    "df.isna().sum()"
   ]
  },
  {
   "cell_type": "markdown",
   "metadata": {},
   "source": [
    "find those columns which have at least one NaN value\n",
    "\n"
   ]
  },
  {
   "cell_type": "code",
   "execution_count": 6,
   "metadata": {
    "collapsed": false,
    "execution": {
     "iopub.execute_input": "2024-10-20T10:15:22.140937Z",
     "iopub.status.busy": "2024-10-20T10:15:22.140590Z",
     "iopub.status.idle": "2024-10-20T10:15:22.165027Z",
     "shell.execute_reply": "2024-10-20T10:15:22.164711Z"
    }
   },
   "outputs": [
    {
     "data": {
      "text/html": [
       "<div>\n",
       "<style scoped>\n",
       "    .dataframe tbody tr th:only-of-type {\n",
       "        vertical-align: middle;\n",
       "    }\n",
       "\n",
       "    .dataframe tbody tr th {\n",
       "        vertical-align: top;\n",
       "    }\n",
       "\n",
       "    .dataframe thead th {\n",
       "        text-align: right;\n",
       "    }\n",
       "</style>\n",
       "<table border=\"1\" class=\"dataframe\">\n",
       "  <thead>\n",
       "    <tr style=\"text-align: right;\">\n",
       "      <th></th>\n",
       "      <th>state_alt</th>\n",
       "      <th>next_station_ds</th>\n",
       "      <th>q_uncert_num_curves</th>\n",
       "      <th>q_uncert_n</th>\n",
       "      <th>q_uncert_q10</th>\n",
       "      <th>q_uncert_q10_upper</th>\n",
       "      <th>q_uncert_q10_lower</th>\n",
       "      <th>q_uncert_q50</th>\n",
       "      <th>q_uncert_q50_upper</th>\n",
       "      <th>q_uncert_q50_lower</th>\n",
       "      <th>q_uncert_q90</th>\n",
       "      <th>q_uncert_q90_upper</th>\n",
       "      <th>q_uncert_q90_lower</th>\n",
       "    </tr>\n",
       "    <tr>\n",
       "      <th>station_id</th>\n",
       "      <th></th>\n",
       "      <th></th>\n",
       "      <th></th>\n",
       "      <th></th>\n",
       "      <th></th>\n",
       "      <th></th>\n",
       "      <th></th>\n",
       "      <th></th>\n",
       "      <th></th>\n",
       "      <th></th>\n",
       "      <th></th>\n",
       "      <th></th>\n",
       "      <th></th>\n",
       "    </tr>\n",
       "  </thead>\n",
       "  <tbody>\n",
       "    <tr>\n",
       "      <th>912101A</th>\n",
       "      <td>NT</td>\n",
       "      <td>NaN</td>\n",
       "      <td>3.0</td>\n",
       "      <td>15226.0</td>\n",
       "      <td>0.015122</td>\n",
       "      <td>25.07%</td>\n",
       "      <td>-21.06%</td>\n",
       "      <td>0.027200</td>\n",
       "      <td>20.06%</td>\n",
       "      <td>-17.82%</td>\n",
       "      <td>0.121670</td>\n",
       "      <td>18.46%</td>\n",
       "      <td>-15.13%</td>\n",
       "    </tr>\n",
       "    <tr>\n",
       "      <th>912105A</th>\n",
       "      <td>NT</td>\n",
       "      <td>912101A</td>\n",
       "      <td>1.0</td>\n",
       "      <td>15232.0</td>\n",
       "      <td>0.016572</td>\n",
       "      <td>196.84%</td>\n",
       "      <td>-93.24%</td>\n",
       "      <td>0.031969</td>\n",
       "      <td>129.72%</td>\n",
       "      <td>-77.38%</td>\n",
       "      <td>0.161384</td>\n",
       "      <td>49.79%</td>\n",
       "      <td>-40.02%</td>\n",
       "    </tr>\n",
       "    <tr>\n",
       "      <th>915011A</th>\n",
       "      <td>NaN</td>\n",
       "      <td>NaN</td>\n",
       "      <td>NaN</td>\n",
       "      <td>NaN</td>\n",
       "      <td>NaN</td>\n",
       "      <td>NaN</td>\n",
       "      <td>NaN</td>\n",
       "      <td>NaN</td>\n",
       "      <td>NaN</td>\n",
       "      <td>NaN</td>\n",
       "      <td>NaN</td>\n",
       "      <td>NaN</td>\n",
       "      <td>NaN</td>\n",
       "    </tr>\n",
       "    <tr>\n",
       "      <th>917107A</th>\n",
       "      <td>NaN</td>\n",
       "      <td>NaN</td>\n",
       "      <td>2.0</td>\n",
       "      <td>15772.0</td>\n",
       "      <td>0.001552</td>\n",
       "      <td>143.47%</td>\n",
       "      <td>-66.93%</td>\n",
       "      <td>0.036077</td>\n",
       "      <td>51.70%</td>\n",
       "      <td>-37.00%</td>\n",
       "      <td>0.371124</td>\n",
       "      <td>26.85%</td>\n",
       "      <td>-22.30%</td>\n",
       "    </tr>\n",
       "    <tr>\n",
       "      <th>919003A</th>\n",
       "      <td>NaN</td>\n",
       "      <td>NaN</td>\n",
       "      <td>1.0</td>\n",
       "      <td>14933.0</td>\n",
       "      <td>0.004731</td>\n",
       "      <td>21.65%</td>\n",
       "      <td>-18.16%</td>\n",
       "      <td>0.053229</td>\n",
       "      <td>15.45%</td>\n",
       "      <td>-13.59%</td>\n",
       "      <td>1.273285</td>\n",
       "      <td>NaN</td>\n",
       "      <td>NaN</td>\n",
       "    </tr>\n",
       "    <tr>\n",
       "      <th>...</th>\n",
       "      <td>...</td>\n",
       "      <td>...</td>\n",
       "      <td>...</td>\n",
       "      <td>...</td>\n",
       "      <td>...</td>\n",
       "      <td>...</td>\n",
       "      <td>...</td>\n",
       "      <td>...</td>\n",
       "      <td>...</td>\n",
       "      <td>...</td>\n",
       "      <td>...</td>\n",
       "      <td>...</td>\n",
       "      <td>...</td>\n",
       "    </tr>\n",
       "    <tr>\n",
       "      <th>312061</th>\n",
       "      <td>NaN</td>\n",
       "      <td>NaN</td>\n",
       "      <td>NaN</td>\n",
       "      <td>NaN</td>\n",
       "      <td>NaN</td>\n",
       "      <td>NaN</td>\n",
       "      <td>NaN</td>\n",
       "      <td>NaN</td>\n",
       "      <td>NaN</td>\n",
       "      <td>NaN</td>\n",
       "      <td>NaN</td>\n",
       "      <td>NaN</td>\n",
       "      <td>NaN</td>\n",
       "    </tr>\n",
       "    <tr>\n",
       "      <th>314207</th>\n",
       "      <td>NaN</td>\n",
       "      <td>NaN</td>\n",
       "      <td>NaN</td>\n",
       "      <td>NaN</td>\n",
       "      <td>NaN</td>\n",
       "      <td>NaN</td>\n",
       "      <td>NaN</td>\n",
       "      <td>NaN</td>\n",
       "      <td>NaN</td>\n",
       "      <td>NaN</td>\n",
       "      <td>NaN</td>\n",
       "      <td>NaN</td>\n",
       "      <td>NaN</td>\n",
       "    </tr>\n",
       "    <tr>\n",
       "      <th>314213</th>\n",
       "      <td>NaN</td>\n",
       "      <td>NaN</td>\n",
       "      <td>NaN</td>\n",
       "      <td>NaN</td>\n",
       "      <td>NaN</td>\n",
       "      <td>NaN</td>\n",
       "      <td>NaN</td>\n",
       "      <td>NaN</td>\n",
       "      <td>NaN</td>\n",
       "      <td>NaN</td>\n",
       "      <td>NaN</td>\n",
       "      <td>NaN</td>\n",
       "      <td>NaN</td>\n",
       "    </tr>\n",
       "    <tr>\n",
       "      <th>315450</th>\n",
       "      <td>NaN</td>\n",
       "      <td>NaN</td>\n",
       "      <td>NaN</td>\n",
       "      <td>NaN</td>\n",
       "      <td>NaN</td>\n",
       "      <td>NaN</td>\n",
       "      <td>NaN</td>\n",
       "      <td>NaN</td>\n",
       "      <td>NaN</td>\n",
       "      <td>NaN</td>\n",
       "      <td>NaN</td>\n",
       "      <td>NaN</td>\n",
       "      <td>NaN</td>\n",
       "    </tr>\n",
       "    <tr>\n",
       "      <th>318076</th>\n",
       "      <td>NaN</td>\n",
       "      <td>NaN</td>\n",
       "      <td>NaN</td>\n",
       "      <td>NaN</td>\n",
       "      <td>NaN</td>\n",
       "      <td>NaN</td>\n",
       "      <td>NaN</td>\n",
       "      <td>NaN</td>\n",
       "      <td>NaN</td>\n",
       "      <td>NaN</td>\n",
       "      <td>NaN</td>\n",
       "      <td>NaN</td>\n",
       "      <td>NaN</td>\n",
       "    </tr>\n",
       "  </tbody>\n",
       "</table>\n",
       "<p>222 rows × 13 columns</p>\n",
       "</div>"
      ],
      "text/plain": [
       "           state_alt next_station_ds  q_uncert_num_curves  q_uncert_n  \\\n",
       "station_id                                                              \n",
       "912101A           NT             NaN                  3.0     15226.0   \n",
       "912105A           NT         912101A                  1.0     15232.0   \n",
       "915011A          NaN             NaN                  NaN         NaN   \n",
       "917107A          NaN             NaN                  2.0     15772.0   \n",
       "919003A          NaN             NaN                  1.0     14933.0   \n",
       "...              ...             ...                  ...         ...   \n",
       "312061           NaN             NaN                  NaN         NaN   \n",
       "314207           NaN             NaN                  NaN         NaN   \n",
       "314213           NaN             NaN                  NaN         NaN   \n",
       "315450           NaN             NaN                  NaN         NaN   \n",
       "318076           NaN             NaN                  NaN         NaN   \n",
       "\n",
       "            q_uncert_q10 q_uncert_q10_upper q_uncert_q10_lower  q_uncert_q50  \\\n",
       "station_id                                                                     \n",
       "912101A         0.015122             25.07%            -21.06%      0.027200   \n",
       "912105A         0.016572            196.84%            -93.24%      0.031969   \n",
       "915011A              NaN                NaN                NaN           NaN   \n",
       "917107A         0.001552            143.47%            -66.93%      0.036077   \n",
       "919003A         0.004731             21.65%            -18.16%      0.053229   \n",
       "...                  ...                ...                ...           ...   \n",
       "312061               NaN                NaN                NaN           NaN   \n",
       "314207               NaN                NaN                NaN           NaN   \n",
       "314213               NaN                NaN                NaN           NaN   \n",
       "315450               NaN                NaN                NaN           NaN   \n",
       "318076               NaN                NaN                NaN           NaN   \n",
       "\n",
       "           q_uncert_q50_upper q_uncert_q50_lower  q_uncert_q90  \\\n",
       "station_id                                                       \n",
       "912101A                20.06%            -17.82%      0.121670   \n",
       "912105A               129.72%            -77.38%      0.161384   \n",
       "915011A                   NaN                NaN           NaN   \n",
       "917107A                51.70%            -37.00%      0.371124   \n",
       "919003A                15.45%            -13.59%      1.273285   \n",
       "...                       ...                ...           ...   \n",
       "312061                    NaN                NaN           NaN   \n",
       "314207                    NaN                NaN           NaN   \n",
       "314213                    NaN                NaN           NaN   \n",
       "315450                    NaN                NaN           NaN   \n",
       "318076                    NaN                NaN           NaN   \n",
       "\n",
       "           q_uncert_q90_upper q_uncert_q90_lower  \n",
       "station_id                                        \n",
       "912101A                18.46%            -15.13%  \n",
       "912105A                49.79%            -40.02%  \n",
       "915011A                   NaN                NaN  \n",
       "917107A                26.85%            -22.30%  \n",
       "919003A                   NaN                NaN  \n",
       "...                       ...                ...  \n",
       "312061                    NaN                NaN  \n",
       "314207                    NaN                NaN  \n",
       "314213                    NaN                NaN  \n",
       "315450                    NaN                NaN  \n",
       "318076                    NaN                NaN  \n",
       "\n",
       "[222 rows x 13 columns]"
      ]
     },
     "execution_count": 6,
     "metadata": {},
     "output_type": "execute_result"
    }
   ],
   "source": [
    "df.loc[:, (df.isna().sum()>0)]"
   ]
  },
  {
   "cell_type": "code",
   "execution_count": 7,
   "metadata": {
    "collapsed": false,
    "execution": {
     "iopub.execute_input": "2024-10-20T10:15:22.167922Z",
     "iopub.status.busy": "2024-10-20T10:15:22.167661Z",
     "iopub.status.idle": "2024-10-20T10:15:22.172816Z",
     "shell.execute_reply": "2024-10-20T10:15:22.172511Z"
    }
   },
   "outputs": [
    {
     "data": {
      "text/plain": [
       "state_alt              212\n",
       "next_station_ds        192\n",
       "q_uncert_num_curves     56\n",
       "q_uncert_n              56\n",
       "q_uncert_q10            56\n",
       "q_uncert_q10_upper     118\n",
       "q_uncert_q10_lower     118\n",
       "q_uncert_q50            56\n",
       "q_uncert_q50_upper      66\n",
       "q_uncert_q50_lower      67\n",
       "q_uncert_q90            56\n",
       "q_uncert_q90_upper      61\n",
       "q_uncert_q90_lower      61\n",
       "dtype: int64"
      ]
     },
     "execution_count": 7,
     "metadata": {},
     "output_type": "execute_result"
    }
   ],
   "source": [
    "df.loc[:, (df.isna().sum()>0)].isna().sum()"
   ]
  },
  {
   "cell_type": "code",
   "execution_count": 8,
   "metadata": {
    "collapsed": false,
    "execution": {
     "iopub.execute_input": "2024-10-20T10:15:22.176226Z",
     "iopub.status.busy": "2024-10-20T10:15:22.175761Z",
     "iopub.status.idle": "2024-10-20T10:15:22.179846Z",
     "shell.execute_reply": "2024-10-20T10:15:22.179040Z"
    }
   },
   "outputs": [
    {
     "name": "stdout",
     "output_type": "stream",
     "text": [
      "et_morton_actual_SILO, et_morton_point_SILO, et_morton_wet_SILO, et_short_crop_SILO,\n",
      "et_tall_crop_SILO, evap_morton_lake_SILO, evap_pan_SILO, evap_syn_SILO, max_temp_C, min_temp_C,\n",
      "mslp_SILO, obs_q_cms, obs_q_mmd, precipitation_AWAP, precipitation_SILO, precipitation_var_AWAP,\n",
      "radiation_SILO, rh_tmax_SILO, rh_tmin_SILO, solarrad_AWAP, streamflow_MLd_inclInfilled, tmax_AWAP,\n",
      "tmin_AWAP, vp_SILO, vp_deficit_SILO, vprp_AWAP\n"
     ]
    }
   ],
   "source": [
    "dynamic_features = dataset.dynamic_features\n",
    "dynamic_features.sort()\n",
    "print(textwrap.fill(\", \".join(dynamic_features), width=100))"
   ]
  },
  {
   "cell_type": "code",
   "execution_count": 9,
   "metadata": {
    "collapsed": false,
    "execution": {
     "iopub.execute_input": "2024-10-20T10:15:22.182752Z",
     "iopub.status.busy": "2024-10-20T10:15:22.182439Z",
     "iopub.status.idle": "2024-10-20T10:15:22.218429Z",
     "shell.execute_reply": "2024-10-20T10:15:22.217809Z"
    }
   },
   "outputs": [
    {
     "name": "stdout",
     "output_type": "stream",
     "text": [
      "CAMELS_AUS with 561 stations, 26 dynamic and 187 static features\n"
     ]
    }
   ],
   "source": [
    "dataset = RainfallRunoff('CAMELS_AUS', path=os.path.join(gscad_path, 'CAMELS'), version=2, verbosity=0)\n",
    "print(dataset)"
   ]
  },
  {
   "cell_type": "code",
   "execution_count": 10,
   "metadata": {
    "collapsed": false,
    "execution": {
     "iopub.execute_input": "2024-10-20T10:15:22.220989Z",
     "iopub.status.busy": "2024-10-20T10:15:22.220731Z",
     "iopub.status.idle": "2024-10-20T10:15:22.233622Z",
     "shell.execute_reply": "2024-10-20T10:15:22.232773Z"
    }
   },
   "outputs": [
    {
     "name": "stdout",
     "output_type": "stream",
     "text": [
      "anngro_mega, anngro_meso, anngro_micro, aridity, carbnatesed, catchment_area, catchment_di, claya,\n",
      "clayb, confinement, daystart, daystart_P, daystart_Q, distupdamw, drainage_division, elev_max,\n",
      "elev_mean, elev_min, elev_range, elongratio, end_date, erosivity, extract_ind_fac, flow_div_fac,\n",
      "flow_regime_di, frac_snow, geol_prim, geol_prim_prop, geol_sec, geol_sec_prop, gromega_seas,\n",
      "gromeso_seas, gromicro_seas, high_prec_dur, high_prec_freq, high_prec_timing, igneous, impound_fac,\n",
      "infrastruc_fac, ksat, landuse_fac, lat_centroid, lat_outlet, lc01_extracti, lc03_waterbo,\n",
      "lc04_saltlak, lc05_irrcrop, lc06_irrpast, lc07_irrsuga, lc08_rfcropp, lc09_rfpastu, lc10_rfsugar,\n",
      "lc11_wetlands, lc14_tussclo, lc15_alpineg, lc16_openhum, lc18_opentus, lc19_shrbsca, lc24_shrbden,\n",
      "lc25_shrbope, lc31_forclos, lc32_foropen, lc33_woodope, lc34_woodspa, lc35_urbanar, leveebank_fac,\n",
      "long_centroid, long_outlet, low_prec_dur, low_prec_freq, low_prec_timing, map_zone, mean_slope_pct,\n",
      "metamorph, mrvbf_prop_0, mrvbf_prop_1, mrvbf_prop_2, mrvbf_prop_3, mrvbf_prop_4, mrvbf_prop_5,\n",
      "mrvbf_prop_6, mrvbf_prop_7, mrvbf_prop_8, mrvbf_prop_9, nested_status, next_station_ds, notes,\n",
      "npp_1, npp_10, npp_11, npp_12, npp_2, npp_3, npp_4, npp_5, npp_6, npp_7, npp_8, npp_9, npp_ann,\n",
      "num_nested_within, nvis_bare_e, nvis_bare_n, nvis_forests_e, nvis_forests_n, nvis_grasses_e,\n",
      "nvis_grasses_n, nvis_nodata_e, nvis_nodata_n, nvis_shrubs_e, nvis_shrubs_n, nvis_woodlands_e,\n",
      "nvis_woodlands_n, oldrock, othersed, p_mean, p_seasonality, pet_mean, pop_gt_1, pop_gt_10, pop_max,\n",
      "pop_mean, prop_forested, prop_missing_data, q_uncert_Q_above, q_uncert_days_above,\n",
      "q_uncert_rmse_all, q_uncert_rmse_lower, q_uncert_rmse_upper, q_uncert_unique_curves, relief,\n",
      "reliefratio, river_di, river_region, sanda, sedvolc, settlement_fac, sig_dur_RespTime,\n",
      "sig_dur_high_Q_dur, sig_dur_low_Q_dur, sig_dur_zero_Q_dur, sig_freq_high_Q_freq,\n",
      "sig_freq_low_Q_freq, sig_freq_zero_Q_freq, sig_mag_BFI, sig_mag_BaseMag, sig_mag_Q5, sig_mag_Q95,\n",
      "sig_mag_Q_7_day_max, sig_mag_Q_7_day_min, sig_mag_Q_CoV, sig_mag_Q_mean, sig_mag_Q_skew,\n",
      "sig_mag_Q_var, sig_mag_VarIdx, sig_other_EventRR, sig_other_PeakDistribution,\n",
      "sig_other_PeakDistribution_low, sig_other_QP_elasticity, sig_other_RR_seasonality,\n",
      "sig_other_SnowDayRatio, sig_other_SnowStorage, sig_other_Spearmans_rho, sig_other_StorageFromBase,\n",
      "sig_other_TotalRR, sig_other_ratio_Event_TotalRR, sig_roc_AC1, sig_roc_AC1_low, sig_roc_BaseRecesK,\n",
      "sig_roc_FDC_slope, sig_roc_FlashIdx, sig_roc_RLD, sig_roc_RecesK_early, sig_roc_RecesVarSeasonality,\n",
      "sig_timing_HFD_mean, sig_timing_HFI_mean, silicsed, solpawhc, solum_thickness, start_date,\n",
      "state_alt, state_outlet, station_name, strahler, strdensity, unconsoldted, upsdist\n"
     ]
    }
   ],
   "source": [
    "static_features = dataset.static_features\n",
    "static_features.sort()\n",
    "print(textwrap.fill(\", \".join(static_features), width=100))"
   ]
  },
  {
   "cell_type": "code",
   "execution_count": 11,
   "metadata": {
    "collapsed": false,
    "execution": {
     "iopub.execute_input": "2024-10-20T10:15:22.237420Z",
     "iopub.status.busy": "2024-10-20T10:15:22.237031Z",
     "iopub.status.idle": "2024-10-20T10:15:22.282511Z",
     "shell.execute_reply": "2024-10-20T10:15:22.281848Z"
    }
   },
   "outputs": [
    {
     "name": "stdout",
     "output_type": "stream",
     "text": [
      "(561, 187)\n"
     ]
    }
   ],
   "source": [
    "df = dataset.fetch_static_features()\n",
    "print(df.shape)"
   ]
  },
  {
   "cell_type": "code",
   "execution_count": 12,
   "metadata": {
    "collapsed": false,
    "execution": {
     "iopub.execute_input": "2024-10-20T10:15:22.286047Z",
     "iopub.status.busy": "2024-10-20T10:15:22.285787Z",
     "iopub.status.idle": "2024-10-20T10:15:22.297659Z",
     "shell.execute_reply": "2024-10-20T10:15:22.296590Z"
    }
   },
   "outputs": [
    {
     "name": "stdout",
     "output_type": "stream",
     "text": [
      "1643\n"
     ]
    },
    {
     "data": {
      "text/plain": [
       "station_name         0\n",
       "drainage_division    0\n",
       "river_region         0\n",
       "notes                0\n",
       "lat_outlet           0\n",
       "                    ..\n",
       "npp_8                0\n",
       "npp_9                0\n",
       "npp_10               0\n",
       "npp_11               0\n",
       "npp_12               0\n",
       "Length: 187, dtype: int64"
      ]
     },
     "execution_count": 12,
     "metadata": {},
     "output_type": "execute_result"
    }
   ],
   "source": [
    "print(df.isna().sum().sum())\n",
    "df.isna().sum()"
   ]
  },
  {
   "cell_type": "markdown",
   "metadata": {},
   "source": [
    "find those columns which have at least one NaN value\n",
    "\n"
   ]
  },
  {
   "cell_type": "code",
   "execution_count": 13,
   "metadata": {
    "collapsed": false,
    "execution": {
     "iopub.execute_input": "2024-10-20T10:15:22.301214Z",
     "iopub.status.busy": "2024-10-20T10:15:22.300907Z",
     "iopub.status.idle": "2024-10-20T10:15:22.321343Z",
     "shell.execute_reply": "2024-10-20T10:15:22.320608Z"
    }
   },
   "outputs": [
    {
     "data": {
      "text/html": [
       "<div>\n",
       "<style scoped>\n",
       "    .dataframe tbody tr th:only-of-type {\n",
       "        vertical-align: middle;\n",
       "    }\n",
       "\n",
       "    .dataframe tbody tr th {\n",
       "        vertical-align: top;\n",
       "    }\n",
       "\n",
       "    .dataframe thead th {\n",
       "        text-align: right;\n",
       "    }\n",
       "</style>\n",
       "<table border=\"1\" class=\"dataframe\">\n",
       "  <thead>\n",
       "    <tr style=\"text-align: right;\">\n",
       "      <th></th>\n",
       "      <th>state_alt</th>\n",
       "      <th>next_station_ds</th>\n",
       "      <th>q_uncert_unique_curves</th>\n",
       "      <th>q_uncert_rmse_all</th>\n",
       "      <th>q_uncert_rmse_lower</th>\n",
       "      <th>q_uncert_rmse_upper</th>\n",
       "      <th>q_uncert_days_above</th>\n",
       "      <th>q_uncert_Q_above</th>\n",
       "      <th>sig_mag_VarIdx</th>\n",
       "      <th>sig_roc_FDC_slope</th>\n",
       "      <th>sig_other_PeakDistribution_low</th>\n",
       "    </tr>\n",
       "    <tr>\n",
       "      <th>station_id</th>\n",
       "      <th></th>\n",
       "      <th></th>\n",
       "      <th></th>\n",
       "      <th></th>\n",
       "      <th></th>\n",
       "      <th></th>\n",
       "      <th></th>\n",
       "      <th></th>\n",
       "      <th></th>\n",
       "      <th></th>\n",
       "      <th></th>\n",
       "    </tr>\n",
       "  </thead>\n",
       "  <tbody>\n",
       "    <tr>\n",
       "      <th>912101A</th>\n",
       "      <td>NT</td>\n",
       "      <td>NaN</td>\n",
       "      <td>NaN</td>\n",
       "      <td>NaN</td>\n",
       "      <td>NaN</td>\n",
       "      <td>NaN</td>\n",
       "      <td>NaN</td>\n",
       "      <td>NaN</td>\n",
       "      <td>0.292867</td>\n",
       "      <td>-1.916733</td>\n",
       "      <td>-2.180623</td>\n",
       "    </tr>\n",
       "    <tr>\n",
       "      <th>912105A</th>\n",
       "      <td>NT</td>\n",
       "      <td>912101A</td>\n",
       "      <td>NaN</td>\n",
       "      <td>NaN</td>\n",
       "      <td>NaN</td>\n",
       "      <td>NaN</td>\n",
       "      <td>NaN</td>\n",
       "      <td>NaN</td>\n",
       "      <td>0.304694</td>\n",
       "      <td>-1.795139</td>\n",
       "      <td>-1.254491</td>\n",
       "    </tr>\n",
       "    <tr>\n",
       "      <th>915011A</th>\n",
       "      <td>NaN</td>\n",
       "      <td>NaN</td>\n",
       "      <td>NaN</td>\n",
       "      <td>NaN</td>\n",
       "      <td>NaN</td>\n",
       "      <td>NaN</td>\n",
       "      <td>NaN</td>\n",
       "      <td>NaN</td>\n",
       "      <td>1.083646</td>\n",
       "      <td>NaN</td>\n",
       "      <td>-6.090788</td>\n",
       "    </tr>\n",
       "    <tr>\n",
       "      <th>915206A</th>\n",
       "      <td>NaN</td>\n",
       "      <td>NaN</td>\n",
       "      <td>25.0</td>\n",
       "      <td>25.172244</td>\n",
       "      <td>6.506520</td>\n",
       "      <td>20.955888</td>\n",
       "      <td>0.078362</td>\n",
       "      <td>19.011459</td>\n",
       "      <td>1.009843</td>\n",
       "      <td>NaN</td>\n",
       "      <td>-8.491230</td>\n",
       "    </tr>\n",
       "    <tr>\n",
       "      <th>917107A</th>\n",
       "      <td>NaN</td>\n",
       "      <td>NaN</td>\n",
       "      <td>16.0</td>\n",
       "      <td>53.380009</td>\n",
       "      <td>1168.007627</td>\n",
       "      <td>21.192680</td>\n",
       "      <td>0.132802</td>\n",
       "      <td>12.283859</td>\n",
       "      <td>0.641856</td>\n",
       "      <td>-3.957062</td>\n",
       "      <td>-3.631162</td>\n",
       "    </tr>\n",
       "    <tr>\n",
       "      <th>...</th>\n",
       "      <td>...</td>\n",
       "      <td>...</td>\n",
       "      <td>...</td>\n",
       "      <td>...</td>\n",
       "      <td>...</td>\n",
       "      <td>...</td>\n",
       "      <td>...</td>\n",
       "      <td>...</td>\n",
       "      <td>...</td>\n",
       "      <td>...</td>\n",
       "      <td>...</td>\n",
       "    </tr>\n",
       "    <tr>\n",
       "      <th>318150</th>\n",
       "      <td>NaN</td>\n",
       "      <td>318181</td>\n",
       "      <td>8.0</td>\n",
       "      <td>13.679565</td>\n",
       "      <td>13.569136</td>\n",
       "      <td>10.168856</td>\n",
       "      <td>0.000000</td>\n",
       "      <td>0.000000</td>\n",
       "      <td>0.459891</td>\n",
       "      <td>-3.489307</td>\n",
       "      <td>-5.351701</td>\n",
       "    </tr>\n",
       "    <tr>\n",
       "      <th>318181</th>\n",
       "      <td>NaN</td>\n",
       "      <td>NaN</td>\n",
       "      <td>24.0</td>\n",
       "      <td>8.209045</td>\n",
       "      <td>23.363542</td>\n",
       "      <td>5.920785</td>\n",
       "      <td>0.004200</td>\n",
       "      <td>0.450893</td>\n",
       "      <td>0.507649</td>\n",
       "      <td>-3.661257</td>\n",
       "      <td>-5.290249</td>\n",
       "    </tr>\n",
       "    <tr>\n",
       "      <th>318191</th>\n",
       "      <td>NaN</td>\n",
       "      <td>318150</td>\n",
       "      <td>11.0</td>\n",
       "      <td>8.226708</td>\n",
       "      <td>12.538870</td>\n",
       "      <td>6.093167</td>\n",
       "      <td>0.000000</td>\n",
       "      <td>0.000000</td>\n",
       "      <td>0.514683</td>\n",
       "      <td>-3.525028</td>\n",
       "      <td>-8.555535</td>\n",
       "    </tr>\n",
       "    <tr>\n",
       "      <th>318311</th>\n",
       "      <td>NaN</td>\n",
       "      <td>318150</td>\n",
       "      <td>10.0</td>\n",
       "      <td>19.588965</td>\n",
       "      <td>34.652832</td>\n",
       "      <td>14.517310</td>\n",
       "      <td>0.121428</td>\n",
       "      <td>11.333069</td>\n",
       "      <td>0.678704</td>\n",
       "      <td>-4.723863</td>\n",
       "      <td>-7.717046</td>\n",
       "    </tr>\n",
       "    <tr>\n",
       "      <th>319204</th>\n",
       "      <td>NaN</td>\n",
       "      <td>NaN</td>\n",
       "      <td>5.0</td>\n",
       "      <td>6.379150</td>\n",
       "      <td>20.465465</td>\n",
       "      <td>4.794664</td>\n",
       "      <td>0.005493</td>\n",
       "      <td>0.536084</td>\n",
       "      <td>0.683732</td>\n",
       "      <td>-5.213989</td>\n",
       "      <td>-6.477004</td>\n",
       "    </tr>\n",
       "  </tbody>\n",
       "</table>\n",
       "<p>561 rows × 11 columns</p>\n",
       "</div>"
      ],
      "text/plain": [
       "           state_alt next_station_ds  q_uncert_unique_curves  \\\n",
       "station_id                                                     \n",
       "912101A           NT             NaN                     NaN   \n",
       "912105A           NT         912101A                     NaN   \n",
       "915011A          NaN             NaN                     NaN   \n",
       "915206A          NaN             NaN                    25.0   \n",
       "917107A          NaN             NaN                    16.0   \n",
       "...              ...             ...                     ...   \n",
       "318150           NaN          318181                     8.0   \n",
       "318181           NaN             NaN                    24.0   \n",
       "318191           NaN          318150                    11.0   \n",
       "318311           NaN          318150                    10.0   \n",
       "319204           NaN             NaN                     5.0   \n",
       "\n",
       "            q_uncert_rmse_all  q_uncert_rmse_lower  q_uncert_rmse_upper  \\\n",
       "station_id                                                                \n",
       "912101A                   NaN                  NaN                  NaN   \n",
       "912105A                   NaN                  NaN                  NaN   \n",
       "915011A                   NaN                  NaN                  NaN   \n",
       "915206A             25.172244             6.506520            20.955888   \n",
       "917107A             53.380009          1168.007627            21.192680   \n",
       "...                       ...                  ...                  ...   \n",
       "318150              13.679565            13.569136            10.168856   \n",
       "318181               8.209045            23.363542             5.920785   \n",
       "318191               8.226708            12.538870             6.093167   \n",
       "318311              19.588965            34.652832            14.517310   \n",
       "319204               6.379150            20.465465             4.794664   \n",
       "\n",
       "            q_uncert_days_above  q_uncert_Q_above  sig_mag_VarIdx  \\\n",
       "station_id                                                          \n",
       "912101A                     NaN               NaN        0.292867   \n",
       "912105A                     NaN               NaN        0.304694   \n",
       "915011A                     NaN               NaN        1.083646   \n",
       "915206A                0.078362         19.011459        1.009843   \n",
       "917107A                0.132802         12.283859        0.641856   \n",
       "...                         ...               ...             ...   \n",
       "318150                 0.000000          0.000000        0.459891   \n",
       "318181                 0.004200          0.450893        0.507649   \n",
       "318191                 0.000000          0.000000        0.514683   \n",
       "318311                 0.121428         11.333069        0.678704   \n",
       "319204                 0.005493          0.536084        0.683732   \n",
       "\n",
       "            sig_roc_FDC_slope  sig_other_PeakDistribution_low  \n",
       "station_id                                                     \n",
       "912101A             -1.916733                       -2.180623  \n",
       "912105A             -1.795139                       -1.254491  \n",
       "915011A                   NaN                       -6.090788  \n",
       "915206A                   NaN                       -8.491230  \n",
       "917107A             -3.957062                       -3.631162  \n",
       "...                       ...                             ...  \n",
       "318150              -3.489307                       -5.351701  \n",
       "318181              -3.661257                       -5.290249  \n",
       "318191              -3.525028                       -8.555535  \n",
       "318311              -4.723863                       -7.717046  \n",
       "319204              -5.213989                       -6.477004  \n",
       "\n",
       "[561 rows x 11 columns]"
      ]
     },
     "execution_count": 13,
     "metadata": {},
     "output_type": "execute_result"
    }
   ],
   "source": [
    "df.loc[:, (df.isna().sum()>0)]"
   ]
  },
  {
   "cell_type": "code",
   "execution_count": 14,
   "metadata": {
    "collapsed": false,
    "execution": {
     "iopub.execute_input": "2024-10-20T10:15:22.325091Z",
     "iopub.status.busy": "2024-10-20T10:15:22.324750Z",
     "iopub.status.idle": "2024-10-20T10:15:22.333465Z",
     "shell.execute_reply": "2024-10-20T10:15:22.332849Z"
    }
   },
   "outputs": [
    {
     "data": {
      "text/plain": [
       "state_alt                         544\n",
       "next_station_ds                   391\n",
       "q_uncert_unique_curves            102\n",
       "q_uncert_rmse_all                 102\n",
       "q_uncert_rmse_lower               102\n",
       "q_uncert_rmse_upper               102\n",
       "q_uncert_days_above               102\n",
       "q_uncert_Q_above                  102\n",
       "sig_mag_VarIdx                      2\n",
       "sig_roc_FDC_slope                  91\n",
       "sig_other_PeakDistribution_low      3\n",
       "dtype: int64"
      ]
     },
     "execution_count": 14,
     "metadata": {},
     "output_type": "execute_result"
    }
   ],
   "source": [
    "df.loc[:, (df.isna().sum()>0)].isna().sum()"
   ]
  },
  {
   "cell_type": "code",
   "execution_count": 15,
   "metadata": {
    "collapsed": false,
    "execution": {
     "iopub.execute_input": "2024-10-20T10:15:22.336432Z",
     "iopub.status.busy": "2024-10-20T10:15:22.336108Z",
     "iopub.status.idle": "2024-10-20T10:15:22.340623Z",
     "shell.execute_reply": "2024-10-20T10:15:22.339948Z"
    }
   },
   "outputs": [
    {
     "name": "stdout",
     "output_type": "stream",
     "text": [
      "et_morton_actual_SILO, et_morton_point_SILO, et_morton_wet_SILO, et_short_crop_SILO,\n",
      "et_tall_crop_SILO, evap_morton_lake_SILO, evap_pan_SILO, evap_syn_SILO, max_temp_C, min_temp_C,\n",
      "mslp_SILO, obs_q_cms, obs_q_mmd, precipitation_AGCD, precipitation_SILO, precipitation_var_AGCD,\n",
      "radiation_SILO, rh_tmax_SILO, rh_tmin_SILO, streamflow_MLd_inclInfilled, tmax_AGCD, tmin_AGCD,\n",
      "vapourpres_h09_AGCD, vapourpres_h15_AGCD, vp_SILO, vp_deficit_SILO\n"
     ]
    }
   ],
   "source": [
    "dynamic_features = dataset.dynamic_features\n",
    "dynamic_features.sort()\n",
    "print(textwrap.fill(\", \".join(dynamic_features), width=100))"
   ]
  },
  {
   "cell_type": "markdown",
   "metadata": {},
   "source": [
    "## CAMELS_GB\n",
    "\n"
   ]
  },
  {
   "cell_type": "code",
   "execution_count": 16,
   "metadata": {
    "collapsed": false,
    "execution": {
     "iopub.execute_input": "2024-10-20T10:15:22.343445Z",
     "iopub.status.busy": "2024-10-20T10:15:22.343134Z",
     "iopub.status.idle": "2024-10-20T10:15:22.385599Z",
     "shell.execute_reply": "2024-10-20T10:15:22.384823Z"
    }
   },
   "outputs": [
    {
     "name": "stdout",
     "output_type": "stream",
     "text": [
      "CAMELS_GB with 671 stations, 10 dynamic and 145 static features\n"
     ]
    }
   ],
   "source": [
    "dataset = RainfallRunoff('CAMELS_GB', path=os.path.join(gscad_path, 'CAMELS'), verbosity=0)\n",
    "print(dataset)"
   ]
  },
  {
   "cell_type": "code",
   "execution_count": 17,
   "metadata": {
    "collapsed": false,
    "execution": {
     "iopub.execute_input": "2024-10-20T10:15:22.388246Z",
     "iopub.status.busy": "2024-10-20T10:15:22.388011Z",
     "iopub.status.idle": "2024-10-20T10:15:22.418057Z",
     "shell.execute_reply": "2024-10-20T10:15:22.417383Z"
    }
   },
   "outputs": [
    {
     "name": "stdout",
     "output_type": "stream",
     "text": [
      "Q5, Q95, abs_agriculture_perc, abs_amenities_perc, abs_energy_perc, abs_environmental_perc,\n",
      "abs_industry_perc, abs_watersupply_perc, area, aridity, bankfull_flow, bares_perc, baseflow_index,\n",
      "baseflow_index_ceh, benchmark_catch, bulkdens, bulkdens_5, bulkdens_50, bulkdens_95,\n",
      "bulkdens_missing, clay_perc, clay_perc_missing, conductivity_cosby, conductivity_cosby_5,\n",
      "conductivity_cosby_50, conductivity_cosby_95, conductivity_cosby_missing, conductivity_hypres,\n",
      "conductivity_hypres_5, conductivity_hypres_50, conductivity_hypres_95, conductivity_hypres_missing,\n",
      "crop_perc, discharges, dom_land_cover, dpsbar, dwood_perc, elev_10, elev_50, elev_90, elev_max,\n",
      "elev_mean, elev_min, ewood_perc, flow_perc_complete, flow_period_end, flow_period_start,\n",
      "frac_high_perc, frac_low_perc, frac_mod_perc, frac_snow, gauge_easting, gauge_elev, gauge_lat,\n",
      "gauge_lon, gauge_name, gauge_northing, grass_perc, groundwater_abs, hfd_mean, high_prec_dur,\n",
      "high_prec_freq, high_prec_timing, high_q_dur, high_q_freq, inter_high_perc, inter_low_perc,\n",
      "inter_mod_perc, inwater_perc, low_nsig_perc, low_prec_dur, low_prec_freq, low_prec_timing,\n",
      "low_q_dur, low_q_freq, no_gw_perc, nsig_low_perc, num_reservoir, organic_perc, organic_perc_missing,\n",
      "p_mean, p_seasonality, pet_mean, porosity_cosby, porosity_cosby_5, porosity_cosby_50,\n",
      "porosity_cosby_95, porosity_cosby_missing, porosity_hypres, porosity_hypres_5, porosity_hypres_50,\n",
      "porosity_hypres_95, porosity_hypres_missing, q25_uncert_lower, q25_uncert_upper, q50_uncert_lower,\n",
      "q50_uncert_upper, q5_uncert_lower, q5_uncert_upper, q75_uncert_lower, q75_uncert_upper,\n",
      "q95_uncert_lower, q95_uncert_upper, q99_uncert_lower, q99_uncert_upper, q_mean, quncert_meta,\n",
      "reservoir_cap, reservoir_drain, reservoir_env, reservoir_fs, reservoir_he, reservoir_nav,\n",
      "reservoir_nousedata, reservoir_wr, reservoir_year_first, reservoir_year_last, root_depth,\n",
      "root_depth_5, root_depth_50, root_depth_95, root_depth_missing, runoff_ratio, sand_perc,\n",
      "sand_perc_missing, shrub_perc, silt_perc, silt_perc_missing, slope_fdc, soil_depth_pelletier,\n",
      "soil_depth_pelletier_5, soil_depth_pelletier_50, soil_depth_pelletier_95,\n",
      "soil_depth_pelletier_missing, station_type, stream_elas, structurefull_flow, surfacewater_abs, tawc,\n",
      "tawc_5, tawc_50, tawc_95, tawc_missing, urban_perc, zero_q_freq\n"
     ]
    }
   ],
   "source": [
    "static_features = dataset.static_features\n",
    "static_features.sort()\n",
    "print(textwrap.fill(\", \".join(static_features), width=100))"
   ]
  },
  {
   "cell_type": "code",
   "execution_count": 18,
   "metadata": {
    "collapsed": false,
    "execution": {
     "iopub.execute_input": "2024-10-20T10:15:22.421725Z",
     "iopub.status.busy": "2024-10-20T10:15:22.421459Z",
     "iopub.status.idle": "2024-10-20T10:15:22.474268Z",
     "shell.execute_reply": "2024-10-20T10:15:22.473591Z"
    }
   },
   "outputs": [
    {
     "name": "stdout",
     "output_type": "stream",
     "text": [
      "(671, 145)\n"
     ]
    }
   ],
   "source": [
    "df = dataset.fetch_static_features()\n",
    "print(df.shape)"
   ]
  },
  {
   "cell_type": "code",
   "execution_count": 19,
   "metadata": {
    "collapsed": false,
    "execution": {
     "iopub.execute_input": "2024-10-20T10:15:22.477922Z",
     "iopub.status.busy": "2024-10-20T10:15:22.477646Z",
     "iopub.status.idle": "2024-10-20T10:15:22.488010Z",
     "shell.execute_reply": "2024-10-20T10:15:22.487328Z"
    }
   },
   "outputs": [
    {
     "name": "stdout",
     "output_type": "stream",
     "text": [
      "10316\n"
     ]
    },
    {
     "data": {
      "text/plain": [
       "q_mean                          0\n",
       "runoff_ratio                    0\n",
       "stream_elas                     0\n",
       "slope_fdc                       3\n",
       "baseflow_index                  0\n",
       "                               ..\n",
       "soil_depth_pelletier            0\n",
       "soil_depth_pelletier_missing    0\n",
       "soil_depth_pelletier_5          0\n",
       "soil_depth_pelletier_50         0\n",
       "soil_depth_pelletier_95         0\n",
       "Length: 145, dtype: int64"
      ]
     },
     "execution_count": 19,
     "metadata": {},
     "output_type": "execute_result"
    }
   ],
   "source": [
    "print(df.isna().sum().sum())\n",
    "df.isna().sum()"
   ]
  },
  {
   "cell_type": "markdown",
   "metadata": {},
   "source": [
    "find those columns which have at least one NaN value\n",
    "\n"
   ]
  },
  {
   "cell_type": "code",
   "execution_count": 20,
   "metadata": {
    "collapsed": false,
    "execution": {
     "iopub.execute_input": "2024-10-20T10:15:22.491053Z",
     "iopub.status.busy": "2024-10-20T10:15:22.490550Z",
     "iopub.status.idle": "2024-10-20T10:15:22.518397Z",
     "shell.execute_reply": "2024-10-20T10:15:22.517857Z"
    }
   },
   "outputs": [
    {
     "data": {
      "text/html": [
       "<div>\n",
       "<style scoped>\n",
       "    .dataframe tbody tr th:only-of-type {\n",
       "        vertical-align: middle;\n",
       "    }\n",
       "\n",
       "    .dataframe tbody tr th {\n",
       "        vertical-align: top;\n",
       "    }\n",
       "\n",
       "    .dataframe thead th {\n",
       "        text-align: right;\n",
       "    }\n",
       "</style>\n",
       "<table border=\"1\" class=\"dataframe\">\n",
       "  <thead>\n",
       "    <tr style=\"text-align: right;\">\n",
       "      <th></th>\n",
       "      <th>slope_fdc</th>\n",
       "      <th>high_prec_timing</th>\n",
       "      <th>low_prec_timing</th>\n",
       "      <th>surfacewater_abs</th>\n",
       "      <th>groundwater_abs</th>\n",
       "      <th>discharges</th>\n",
       "      <th>abs_agriculture_perc</th>\n",
       "      <th>abs_amenities_perc</th>\n",
       "      <th>abs_energy_perc</th>\n",
       "      <th>abs_environmental_perc</th>\n",
       "      <th>...</th>\n",
       "      <th>q25_uncert_upper</th>\n",
       "      <th>q25_uncert_lower</th>\n",
       "      <th>q50_uncert_upper</th>\n",
       "      <th>q50_uncert_lower</th>\n",
       "      <th>q75_uncert_upper</th>\n",
       "      <th>q75_uncert_lower</th>\n",
       "      <th>q95_uncert_upper</th>\n",
       "      <th>q95_uncert_lower</th>\n",
       "      <th>q99_uncert_upper</th>\n",
       "      <th>q99_uncert_lower</th>\n",
       "    </tr>\n",
       "    <tr>\n",
       "      <th>gauge_id</th>\n",
       "      <th></th>\n",
       "      <th></th>\n",
       "      <th></th>\n",
       "      <th></th>\n",
       "      <th></th>\n",
       "      <th></th>\n",
       "      <th></th>\n",
       "      <th></th>\n",
       "      <th></th>\n",
       "      <th></th>\n",
       "      <th></th>\n",
       "      <th></th>\n",
       "      <th></th>\n",
       "      <th></th>\n",
       "      <th></th>\n",
       "      <th></th>\n",
       "      <th></th>\n",
       "      <th></th>\n",
       "      <th></th>\n",
       "      <th></th>\n",
       "      <th></th>\n",
       "    </tr>\n",
       "  </thead>\n",
       "  <tbody>\n",
       "    <tr>\n",
       "      <th>38017</th>\n",
       "      <td>1.50</td>\n",
       "      <td>son</td>\n",
       "      <td>jja</td>\n",
       "      <td>0.000</td>\n",
       "      <td>0.054</td>\n",
       "      <td>0.005</td>\n",
       "      <td>28.43</td>\n",
       "      <td>0.00</td>\n",
       "      <td>0.00</td>\n",
       "      <td>0.00</td>\n",
       "      <td>...</td>\n",
       "      <td>21.59</td>\n",
       "      <td>-22.91</td>\n",
       "      <td>17.81</td>\n",
       "      <td>-17.37</td>\n",
       "      <td>13.07</td>\n",
       "      <td>-11.96</td>\n",
       "      <td>12.88</td>\n",
       "      <td>-12.67</td>\n",
       "      <td>10.38</td>\n",
       "      <td>-10.58</td>\n",
       "    </tr>\n",
       "    <tr>\n",
       "      <th>42001</th>\n",
       "      <td>3.80</td>\n",
       "      <td>son</td>\n",
       "      <td>jja</td>\n",
       "      <td>0.004</td>\n",
       "      <td>0.149</td>\n",
       "      <td>0.003</td>\n",
       "      <td>2.79</td>\n",
       "      <td>0.00</td>\n",
       "      <td>0.00</td>\n",
       "      <td>0.00</td>\n",
       "      <td>...</td>\n",
       "      <td>26.76</td>\n",
       "      <td>-25.97</td>\n",
       "      <td>15.90</td>\n",
       "      <td>-17.53</td>\n",
       "      <td>25.30</td>\n",
       "      <td>-22.87</td>\n",
       "      <td>24.43</td>\n",
       "      <td>-23.47</td>\n",
       "      <td>14.23</td>\n",
       "      <td>-12.56</td>\n",
       "    </tr>\n",
       "    <tr>\n",
       "      <th>55014</th>\n",
       "      <td>2.78</td>\n",
       "      <td>djf</td>\n",
       "      <td>jja</td>\n",
       "      <td>0.001</td>\n",
       "      <td>0.000</td>\n",
       "      <td>0.000</td>\n",
       "      <td>47.16</td>\n",
       "      <td>0.00</td>\n",
       "      <td>0.00</td>\n",
       "      <td>0.00</td>\n",
       "      <td>...</td>\n",
       "      <td>16.99</td>\n",
       "      <td>-16.77</td>\n",
       "      <td>15.09</td>\n",
       "      <td>-15.04</td>\n",
       "      <td>12.25</td>\n",
       "      <td>-12.34</td>\n",
       "      <td>14.04</td>\n",
       "      <td>-14.03</td>\n",
       "      <td>11.15</td>\n",
       "      <td>-11.15</td>\n",
       "    </tr>\n",
       "    <tr>\n",
       "      <th>27041</th>\n",
       "      <td>2.04</td>\n",
       "      <td>son</td>\n",
       "      <td>mam</td>\n",
       "      <td>0.047</td>\n",
       "      <td>0.053</td>\n",
       "      <td>0.014</td>\n",
       "      <td>58.32</td>\n",
       "      <td>0.12</td>\n",
       "      <td>14.58</td>\n",
       "      <td>0.00</td>\n",
       "      <td>...</td>\n",
       "      <td>14.67</td>\n",
       "      <td>-15.21</td>\n",
       "      <td>14.57</td>\n",
       "      <td>-14.52</td>\n",
       "      <td>14.56</td>\n",
       "      <td>-14.43</td>\n",
       "      <td>12.83</td>\n",
       "      <td>-13.23</td>\n",
       "      <td>9.28</td>\n",
       "      <td>-10.18</td>\n",
       "    </tr>\n",
       "    <tr>\n",
       "      <th>39078</th>\n",
       "      <td>2.02</td>\n",
       "      <td>son</td>\n",
       "      <td>jja</td>\n",
       "      <td>0.000</td>\n",
       "      <td>0.090</td>\n",
       "      <td>0.049</td>\n",
       "      <td>0.65</td>\n",
       "      <td>0.00</td>\n",
       "      <td>0.00</td>\n",
       "      <td>0.00</td>\n",
       "      <td>...</td>\n",
       "      <td>25.60</td>\n",
       "      <td>-26.23</td>\n",
       "      <td>16.68</td>\n",
       "      <td>-16.65</td>\n",
       "      <td>19.92</td>\n",
       "      <td>-19.76</td>\n",
       "      <td>16.59</td>\n",
       "      <td>-16.18</td>\n",
       "      <td>9.20</td>\n",
       "      <td>-8.61</td>\n",
       "    </tr>\n",
       "    <tr>\n",
       "      <th>...</th>\n",
       "      <td>...</td>\n",
       "      <td>...</td>\n",
       "      <td>...</td>\n",
       "      <td>...</td>\n",
       "      <td>...</td>\n",
       "      <td>...</td>\n",
       "      <td>...</td>\n",
       "      <td>...</td>\n",
       "      <td>...</td>\n",
       "      <td>...</td>\n",
       "      <td>...</td>\n",
       "      <td>...</td>\n",
       "      <td>...</td>\n",
       "      <td>...</td>\n",
       "      <td>...</td>\n",
       "      <td>...</td>\n",
       "      <td>...</td>\n",
       "      <td>...</td>\n",
       "      <td>...</td>\n",
       "      <td>...</td>\n",
       "      <td>...</td>\n",
       "    </tr>\n",
       "    <tr>\n",
       "      <th>66006</th>\n",
       "      <td>3.62</td>\n",
       "      <td>son</td>\n",
       "      <td>jja</td>\n",
       "      <td>NaN</td>\n",
       "      <td>NaN</td>\n",
       "      <td>NaN</td>\n",
       "      <td>NaN</td>\n",
       "      <td>NaN</td>\n",
       "      <td>NaN</td>\n",
       "      <td>NaN</td>\n",
       "      <td>...</td>\n",
       "      <td>17.83</td>\n",
       "      <td>-17.47</td>\n",
       "      <td>12.86</td>\n",
       "      <td>-12.66</td>\n",
       "      <td>10.78</td>\n",
       "      <td>-10.53</td>\n",
       "      <td>13.71</td>\n",
       "      <td>-13.75</td>\n",
       "      <td>10.86</td>\n",
       "      <td>-10.95</td>\n",
       "    </tr>\n",
       "    <tr>\n",
       "      <th>39014</th>\n",
       "      <td>1.72</td>\n",
       "      <td>son</td>\n",
       "      <td>jja</td>\n",
       "      <td>0.000</td>\n",
       "      <td>0.217</td>\n",
       "      <td>0.019</td>\n",
       "      <td>0.94</td>\n",
       "      <td>0.00</td>\n",
       "      <td>0.00</td>\n",
       "      <td>0.03</td>\n",
       "      <td>...</td>\n",
       "      <td>14.67</td>\n",
       "      <td>-13.54</td>\n",
       "      <td>14.00</td>\n",
       "      <td>-13.29</td>\n",
       "      <td>12.99</td>\n",
       "      <td>-12.63</td>\n",
       "      <td>9.83</td>\n",
       "      <td>-9.67</td>\n",
       "      <td>NaN</td>\n",
       "      <td>NaN</td>\n",
       "    </tr>\n",
       "    <tr>\n",
       "      <th>42010</th>\n",
       "      <td>1.06</td>\n",
       "      <td>son</td>\n",
       "      <td>jja</td>\n",
       "      <td>0.714</td>\n",
       "      <td>0.560</td>\n",
       "      <td>0.046</td>\n",
       "      <td>66.65</td>\n",
       "      <td>0.00</td>\n",
       "      <td>0.46</td>\n",
       "      <td>9.92</td>\n",
       "      <td>...</td>\n",
       "      <td>14.07</td>\n",
       "      <td>-14.02</td>\n",
       "      <td>11.30</td>\n",
       "      <td>-11.45</td>\n",
       "      <td>10.76</td>\n",
       "      <td>-10.73</td>\n",
       "      <td>9.78</td>\n",
       "      <td>-9.59</td>\n",
       "      <td>10.56</td>\n",
       "      <td>-10.19</td>\n",
       "    </tr>\n",
       "    <tr>\n",
       "      <th>42011</th>\n",
       "      <td>2.06</td>\n",
       "      <td>son</td>\n",
       "      <td>jja</td>\n",
       "      <td>0.000</td>\n",
       "      <td>0.068</td>\n",
       "      <td>0.070</td>\n",
       "      <td>0.69</td>\n",
       "      <td>0.00</td>\n",
       "      <td>0.00</td>\n",
       "      <td>0.00</td>\n",
       "      <td>...</td>\n",
       "      <td>11.80</td>\n",
       "      <td>-11.47</td>\n",
       "      <td>12.42</td>\n",
       "      <td>-12.60</td>\n",
       "      <td>8.67</td>\n",
       "      <td>-8.51</td>\n",
       "      <td>10.04</td>\n",
       "      <td>-9.41</td>\n",
       "      <td>10.72</td>\n",
       "      <td>-10.64</td>\n",
       "    </tr>\n",
       "    <tr>\n",
       "      <th>43009</th>\n",
       "      <td>3.63</td>\n",
       "      <td>son</td>\n",
       "      <td>jja</td>\n",
       "      <td>0.050</td>\n",
       "      <td>0.008</td>\n",
       "      <td>0.026</td>\n",
       "      <td>54.02</td>\n",
       "      <td>1.73</td>\n",
       "      <td>36.56</td>\n",
       "      <td>0.00</td>\n",
       "      <td>...</td>\n",
       "      <td>NaN</td>\n",
       "      <td>NaN</td>\n",
       "      <td>NaN</td>\n",
       "      <td>NaN</td>\n",
       "      <td>NaN</td>\n",
       "      <td>NaN</td>\n",
       "      <td>NaN</td>\n",
       "      <td>NaN</td>\n",
       "      <td>NaN</td>\n",
       "      <td>NaN</td>\n",
       "    </tr>\n",
       "  </tbody>\n",
       "</table>\n",
       "<p>671 rows × 38 columns</p>\n",
       "</div>"
      ],
      "text/plain": [
       "          slope_fdc high_prec_timing low_prec_timing  surfacewater_abs  \\\n",
       "gauge_id                                                                 \n",
       "38017          1.50              son             jja             0.000   \n",
       "42001          3.80              son             jja             0.004   \n",
       "55014          2.78              djf             jja             0.001   \n",
       "27041          2.04              son             mam             0.047   \n",
       "39078          2.02              son             jja             0.000   \n",
       "...             ...              ...             ...               ...   \n",
       "66006          3.62              son             jja               NaN   \n",
       "39014          1.72              son             jja             0.000   \n",
       "42010          1.06              son             jja             0.714   \n",
       "42011          2.06              son             jja             0.000   \n",
       "43009          3.63              son             jja             0.050   \n",
       "\n",
       "          groundwater_abs  discharges  abs_agriculture_perc  \\\n",
       "gauge_id                                                      \n",
       "38017               0.054       0.005                 28.43   \n",
       "42001               0.149       0.003                  2.79   \n",
       "55014               0.000       0.000                 47.16   \n",
       "27041               0.053       0.014                 58.32   \n",
       "39078               0.090       0.049                  0.65   \n",
       "...                   ...         ...                   ...   \n",
       "66006                 NaN         NaN                   NaN   \n",
       "39014               0.217       0.019                  0.94   \n",
       "42010               0.560       0.046                 66.65   \n",
       "42011               0.068       0.070                  0.69   \n",
       "43009               0.008       0.026                 54.02   \n",
       "\n",
       "          abs_amenities_perc  abs_energy_perc  abs_environmental_perc  ...  \\\n",
       "gauge_id                                                               ...   \n",
       "38017                   0.00             0.00                    0.00  ...   \n",
       "42001                   0.00             0.00                    0.00  ...   \n",
       "55014                   0.00             0.00                    0.00  ...   \n",
       "27041                   0.12            14.58                    0.00  ...   \n",
       "39078                   0.00             0.00                    0.00  ...   \n",
       "...                      ...              ...                     ...  ...   \n",
       "66006                    NaN              NaN                     NaN  ...   \n",
       "39014                   0.00             0.00                    0.03  ...   \n",
       "42010                   0.00             0.46                    9.92  ...   \n",
       "42011                   0.00             0.00                    0.00  ...   \n",
       "43009                   1.73            36.56                    0.00  ...   \n",
       "\n",
       "          q25_uncert_upper  q25_uncert_lower  q50_uncert_upper  \\\n",
       "gauge_id                                                         \n",
       "38017                21.59            -22.91             17.81   \n",
       "42001                26.76            -25.97             15.90   \n",
       "55014                16.99            -16.77             15.09   \n",
       "27041                14.67            -15.21             14.57   \n",
       "39078                25.60            -26.23             16.68   \n",
       "...                    ...               ...               ...   \n",
       "66006                17.83            -17.47             12.86   \n",
       "39014                14.67            -13.54             14.00   \n",
       "42010                14.07            -14.02             11.30   \n",
       "42011                11.80            -11.47             12.42   \n",
       "43009                  NaN               NaN               NaN   \n",
       "\n",
       "          q50_uncert_lower  q75_uncert_upper  q75_uncert_lower  \\\n",
       "gauge_id                                                         \n",
       "38017               -17.37             13.07            -11.96   \n",
       "42001               -17.53             25.30            -22.87   \n",
       "55014               -15.04             12.25            -12.34   \n",
       "27041               -14.52             14.56            -14.43   \n",
       "39078               -16.65             19.92            -19.76   \n",
       "...                    ...               ...               ...   \n",
       "66006               -12.66             10.78            -10.53   \n",
       "39014               -13.29             12.99            -12.63   \n",
       "42010               -11.45             10.76            -10.73   \n",
       "42011               -12.60              8.67             -8.51   \n",
       "43009                  NaN               NaN               NaN   \n",
       "\n",
       "          q95_uncert_upper  q95_uncert_lower  q99_uncert_upper  \\\n",
       "gauge_id                                                         \n",
       "38017                12.88            -12.67             10.38   \n",
       "42001                24.43            -23.47             14.23   \n",
       "55014                14.04            -14.03             11.15   \n",
       "27041                12.83            -13.23              9.28   \n",
       "39078                16.59            -16.18              9.20   \n",
       "...                    ...               ...               ...   \n",
       "66006                13.71            -13.75             10.86   \n",
       "39014                 9.83             -9.67               NaN   \n",
       "42010                 9.78             -9.59             10.56   \n",
       "42011                10.04             -9.41             10.72   \n",
       "43009                  NaN               NaN               NaN   \n",
       "\n",
       "          q99_uncert_lower  \n",
       "gauge_id                    \n",
       "38017               -10.58  \n",
       "42001               -12.56  \n",
       "55014               -11.15  \n",
       "27041               -10.18  \n",
       "39078                -8.61  \n",
       "...                    ...  \n",
       "66006               -10.95  \n",
       "39014                  NaN  \n",
       "42010               -10.19  \n",
       "42011               -10.64  \n",
       "43009                  NaN  \n",
       "\n",
       "[671 rows x 38 columns]"
      ]
     },
     "execution_count": 20,
     "metadata": {},
     "output_type": "execute_result"
    }
   ],
   "source": [
    "df.loc[:, (df.isna().sum()>0)]"
   ]
  },
  {
   "cell_type": "code",
   "execution_count": 21,
   "metadata": {
    "collapsed": false,
    "execution": {
     "iopub.execute_input": "2024-10-20T10:15:22.521352Z",
     "iopub.status.busy": "2024-10-20T10:15:22.521010Z",
     "iopub.status.idle": "2024-10-20T10:15:22.529836Z",
     "shell.execute_reply": "2024-10-20T10:15:22.529207Z"
    }
   },
   "outputs": [
    {
     "data": {
      "text/plain": [
       "slope_fdc                   3\n",
       "high_prec_timing           15\n",
       "low_prec_timing             3\n",
       "surfacewater_abs          229\n",
       "groundwater_abs           229\n",
       "discharges                231\n",
       "abs_agriculture_perc      313\n",
       "abs_amenities_perc        313\n",
       "abs_energy_perc           313\n",
       "abs_environmental_perc    313\n",
       "abs_industry_perc         313\n",
       "abs_watersupply_perc      313\n",
       "reservoir_he              509\n",
       "reservoir_nav             509\n",
       "reservoir_drain           509\n",
       "reservoir_wr              509\n",
       "reservoir_fs              509\n",
       "reservoir_env             509\n",
       "reservoir_nousedata       509\n",
       "reservoir_year_first      530\n",
       "reservoir_year_last       530\n",
       "dpsbar                      2\n",
       "elev_mean                   2\n",
       "station_type                1\n",
       "bankfull_flow             310\n",
       "structurefull_flow        408\n",
       "q5_uncert_upper           235\n",
       "q5_uncert_lower           235\n",
       "q25_uncert_upper          173\n",
       "q25_uncert_lower          173\n",
       "q50_uncert_upper          168\n",
       "q50_uncert_lower          168\n",
       "q75_uncert_upper          170\n",
       "q75_uncert_lower          170\n",
       "q95_uncert_upper          195\n",
       "q95_uncert_lower          195\n",
       "q99_uncert_upper          250\n",
       "q99_uncert_lower          250\n",
       "dtype: int64"
      ]
     },
     "execution_count": 21,
     "metadata": {},
     "output_type": "execute_result"
    }
   ],
   "source": [
    "df.loc[:, (df.isna().sum()>0)].isna().sum()"
   ]
  },
  {
   "cell_type": "code",
   "execution_count": 22,
   "metadata": {
    "collapsed": false,
    "execution": {
     "iopub.execute_input": "2024-10-20T10:15:22.532755Z",
     "iopub.status.busy": "2024-10-20T10:15:22.532428Z",
     "iopub.status.idle": "2024-10-20T10:15:22.536984Z",
     "shell.execute_reply": "2024-10-20T10:15:22.536264Z"
    }
   },
   "outputs": [
    {
     "name": "stdout",
     "output_type": "stream",
     "text": [
      "longwave_rad, mean_temp_C, obs_q_cms, obs_q_mmd, pcp_mm, peti, pm_pet_mm, rh_%, shortwave_rad,\n",
      "windspeed_ms\n"
     ]
    }
   ],
   "source": [
    "dynamic_features = dataset.dynamic_features\n",
    "dynamic_features.sort()\n",
    "print(textwrap.fill(\", \".join(dynamic_features), width=100))"
   ]
  },
  {
   "cell_type": "markdown",
   "metadata": {},
   "source": [
    "## CAMELS_BR\n",
    "\n"
   ]
  },
  {
   "cell_type": "code",
   "execution_count": 23,
   "metadata": {
    "collapsed": false,
    "execution": {
     "iopub.execute_input": "2024-10-20T10:15:22.540049Z",
     "iopub.status.busy": "2024-10-20T10:15:22.539637Z",
     "iopub.status.idle": "2024-10-20T10:15:22.570835Z",
     "shell.execute_reply": "2024-10-20T10:15:22.570027Z"
    }
   },
   "outputs": [
    {
     "name": "stdout",
     "output_type": "stream",
     "text": [
      "CAMELS_BR with 897 stations, 10 dynamic and 67 static features\n"
     ]
    }
   ],
   "source": [
    "dataset = RainfallRunoff('CAMELS_BR', path=os.path.join(gscad_path, 'CAMELS'), verbosity=0)\n",
    "print(dataset)"
   ]
  },
  {
   "cell_type": "code",
   "execution_count": 24,
   "metadata": {
    "collapsed": false,
    "execution": {
     "iopub.execute_input": "2024-10-20T10:15:22.573547Z",
     "iopub.status.busy": "2024-10-20T10:15:22.573204Z",
     "iopub.status.idle": "2024-10-20T10:15:22.586828Z",
     "shell.execute_reply": "2024-10-20T10:15:22.586072Z"
    }
   },
   "outputs": [
    {
     "name": "stdout",
     "output_type": "stream",
     "text": [
      "Q5, Q95, area, area_ana, area_gsim, area_gsim_quality, aridity, asynchronicity, barren_perc,\n",
      "baseflow_index, bedrock_depth, carb_rocks_perc, clay_perc, consumptive_use, consumptive_use_perc,\n",
      "crop_mosaic_perc, crop_perc, dom_land_cover, dom_land_cover_perc, elev_gauge, elev_mean, et_mean,\n",
      "forest_perc, frac_snow, gauge_lat, gauge_lon, gauge_name, gauge_region, geol_class_1st,\n",
      "geol_class_1st_perc, geol_class_2nd, geol_class_2nd_perc, geol_permeability, geol_porosity,\n",
      "grass_perc, hfd_mean, high_prec_dur, high_prec_freq, high_prec_timing, high_q_dur, high_q_freq,\n",
      "imperv_perc, low_prec_dur, low_prec_freq, low_prec_timing, low_q_dur, low_q_freq,\n",
      "org_carbon_content, p_mean, p_seasonality, pet_mean, q_mean, q_quality_control_perc,\n",
      "q_stream_stage_perc, regulation_degree, reservoirs_vol, runoff_ratio, sand_perc, shrub_perc,\n",
      "silt_perc, slope_fdc, slope_mean, snow_perc, stream_elas, water_table_depth, wet_perc, zero_q_freq"
     ]
    },
    {
     "name": "stdout",
     "output_type": "stream",
     "text": [
      "\n"
     ]
    }
   ],
   "source": [
    "static_features = dataset.static_features\n",
    "static_features.sort()\n",
    "print(textwrap.fill(\", \".join(static_features), width=100))"
   ]
  },
  {
   "cell_type": "code",
   "execution_count": 25,
   "metadata": {
    "collapsed": false,
    "execution": {
     "iopub.execute_input": "2024-10-20T10:15:22.590575Z",
     "iopub.status.busy": "2024-10-20T10:15:22.590228Z",
     "iopub.status.idle": "2024-10-20T10:15:22.641692Z",
     "shell.execute_reply": "2024-10-20T10:15:22.640672Z"
    }
   },
   "outputs": [
    {
     "name": "stdout",
     "output_type": "stream",
     "text": [
      "(897, 67)\n"
     ]
    }
   ],
   "source": [
    "df = dataset.fetch_static_features()\n",
    "print(df.shape)"
   ]
  },
  {
   "cell_type": "code",
   "execution_count": 26,
   "metadata": {
    "collapsed": false,
    "execution": {
     "iopub.execute_input": "2024-10-20T10:15:22.644939Z",
     "iopub.status.busy": "2024-10-20T10:15:22.644680Z",
     "iopub.status.idle": "2024-10-20T10:15:22.657387Z",
     "shell.execute_reply": "2024-10-20T10:15:22.656170Z"
    }
   },
   "outputs": [
    {
     "name": "stdout",
     "output_type": "stream",
     "text": [
      "133\n"
     ]
    },
    {
     "data": {
      "text/plain": [
       "p_mean               0\n",
       "pet_mean             0\n",
       "et_mean              0\n",
       "aridity              0\n",
       "p_seasonality        0\n",
       "                    ..\n",
       "water_table_depth    0\n",
       "elev_gauge           0\n",
       "elev_mean            0\n",
       "slope_mean           0\n",
       "area                 0\n",
       "Length: 67, dtype: int64"
      ]
     },
     "execution_count": 26,
     "metadata": {},
     "output_type": "execute_result"
    }
   ],
   "source": [
    "print(df.isna().sum().sum())\n",
    "df.isna().sum()"
   ]
  },
  {
   "cell_type": "markdown",
   "metadata": {},
   "source": [
    "find those columns which have at least one NaN value\n",
    "\n"
   ]
  },
  {
   "cell_type": "code",
   "execution_count": 27,
   "metadata": {
    "collapsed": false,
    "execution": {
     "iopub.execute_input": "2024-10-20T10:15:22.661350Z",
     "iopub.status.busy": "2024-10-20T10:15:22.660960Z",
     "iopub.status.idle": "2024-10-20T10:15:22.682922Z",
     "shell.execute_reply": "2024-10-20T10:15:22.681535Z"
    }
   },
   "outputs": [
    {
     "data": {
      "text/html": [
       "<div>\n",
       "<style scoped>\n",
       "    .dataframe tbody tr th:only-of-type {\n",
       "        vertical-align: middle;\n",
       "    }\n",
       "\n",
       "    .dataframe tbody tr th {\n",
       "        vertical-align: top;\n",
       "    }\n",
       "\n",
       "    .dataframe thead th {\n",
       "        text-align: right;\n",
       "    }\n",
       "</style>\n",
       "<table border=\"1\" class=\"dataframe\">\n",
       "  <thead>\n",
       "    <tr style=\"text-align: right;\">\n",
       "      <th></th>\n",
       "      <th>frac_snow</th>\n",
       "      <th>high_prec_timing</th>\n",
       "      <th>geol_class_2nd</th>\n",
       "      <th>slope_fdc</th>\n",
       "      <th>baseflow_index</th>\n",
       "      <th>area_ana</th>\n",
       "    </tr>\n",
       "    <tr>\n",
       "      <th>gauge_id</th>\n",
       "      <th></th>\n",
       "      <th></th>\n",
       "      <th></th>\n",
       "      <th></th>\n",
       "      <th></th>\n",
       "      <th></th>\n",
       "    </tr>\n",
       "  </thead>\n",
       "  <tbody>\n",
       "    <tr>\n",
       "      <th>58030000</th>\n",
       "      <td>0.0</td>\n",
       "      <td>djf</td>\n",
       "      <td>acid_plutonic_rocks</td>\n",
       "      <td>1.08954</td>\n",
       "      <td>0.79986</td>\n",
       "      <td>796.0</td>\n",
       "    </tr>\n",
       "    <tr>\n",
       "      <th>57170000</th>\n",
       "      <td>0.0</td>\n",
       "      <td>djf</td>\n",
       "      <td>acid_plutonic_rocks</td>\n",
       "      <td>1.35609</td>\n",
       "      <td>0.76520</td>\n",
       "      <td>980.0</td>\n",
       "    </tr>\n",
       "    <tr>\n",
       "      <th>39580000</th>\n",
       "      <td>0.0</td>\n",
       "      <td>mam</td>\n",
       "      <td>siliciclastic_sedimentary_rocks</td>\n",
       "      <td>1.68712</td>\n",
       "      <td>0.66356</td>\n",
       "      <td>756.0</td>\n",
       "    </tr>\n",
       "    <tr>\n",
       "      <th>41818000</th>\n",
       "      <td>0.0</td>\n",
       "      <td>djf</td>\n",
       "      <td>metamorphics</td>\n",
       "      <td>1.98782</td>\n",
       "      <td>0.64151</td>\n",
       "      <td>16600.0</td>\n",
       "    </tr>\n",
       "    <tr>\n",
       "      <th>58870000</th>\n",
       "      <td>0.0</td>\n",
       "      <td>djf</td>\n",
       "      <td>metamorphics</td>\n",
       "      <td>1.39838</td>\n",
       "      <td>0.71359</td>\n",
       "      <td>1120.0</td>\n",
       "    </tr>\n",
       "    <tr>\n",
       "      <th>...</th>\n",
       "      <td>...</td>\n",
       "      <td>...</td>\n",
       "      <td>...</td>\n",
       "      <td>...</td>\n",
       "      <td>...</td>\n",
       "      <td>...</td>\n",
       "    </tr>\n",
       "    <tr>\n",
       "      <th>26720000</th>\n",
       "      <td>0.0</td>\n",
       "      <td>djf</td>\n",
       "      <td>siliciclastic_sedimentary_rocks</td>\n",
       "      <td>6.72326</td>\n",
       "      <td>0.57567</td>\n",
       "      <td>6610.0</td>\n",
       "    </tr>\n",
       "    <tr>\n",
       "      <th>65925000</th>\n",
       "      <td>0.0</td>\n",
       "      <td>son</td>\n",
       "      <td>NaN</td>\n",
       "      <td>2.24256</td>\n",
       "      <td>0.54385</td>\n",
       "      <td>1660.0</td>\n",
       "    </tr>\n",
       "    <tr>\n",
       "      <th>39560000</th>\n",
       "      <td>0.0</td>\n",
       "      <td>mam</td>\n",
       "      <td>metamorphics</td>\n",
       "      <td>2.14107</td>\n",
       "      <td>0.65966</td>\n",
       "      <td>4910.0</td>\n",
       "    </tr>\n",
       "    <tr>\n",
       "      <th>71550000</th>\n",
       "      <td>0.0</td>\n",
       "      <td>son</td>\n",
       "      <td>siliciclastic_sedimentary_rocks</td>\n",
       "      <td>2.51894</td>\n",
       "      <td>0.58372</td>\n",
       "      <td>NaN</td>\n",
       "    </tr>\n",
       "    <tr>\n",
       "      <th>41539998</th>\n",
       "      <td>0.0</td>\n",
       "      <td>djf</td>\n",
       "      <td>metamorphics</td>\n",
       "      <td>1.74270</td>\n",
       "      <td>0.69456</td>\n",
       "      <td>NaN</td>\n",
       "    </tr>\n",
       "  </tbody>\n",
       "</table>\n",
       "<p>897 rows × 6 columns</p>\n",
       "</div>"
      ],
      "text/plain": [
       "          frac_snow high_prec_timing                   geol_class_2nd  \\\n",
       "gauge_id                                                                \n",
       "58030000        0.0              djf              acid_plutonic_rocks   \n",
       "57170000        0.0              djf              acid_plutonic_rocks   \n",
       "39580000        0.0              mam  siliciclastic_sedimentary_rocks   \n",
       "41818000        0.0              djf                     metamorphics   \n",
       "58870000        0.0              djf                     metamorphics   \n",
       "...             ...              ...                              ...   \n",
       "26720000        0.0              djf  siliciclastic_sedimentary_rocks   \n",
       "65925000        0.0              son                              NaN   \n",
       "39560000        0.0              mam                     metamorphics   \n",
       "71550000        0.0              son  siliciclastic_sedimentary_rocks   \n",
       "41539998        0.0              djf                     metamorphics   \n",
       "\n",
       "          slope_fdc  baseflow_index  area_ana  \n",
       "gauge_id                                       \n",
       "58030000    1.08954         0.79986     796.0  \n",
       "57170000    1.35609         0.76520     980.0  \n",
       "39580000    1.68712         0.66356     756.0  \n",
       "41818000    1.98782         0.64151   16600.0  \n",
       "58870000    1.39838         0.71359    1120.0  \n",
       "...             ...             ...       ...  \n",
       "26720000    6.72326         0.57567    6610.0  \n",
       "65925000    2.24256         0.54385    1660.0  \n",
       "39560000    2.14107         0.65966    4910.0  \n",
       "71550000    2.51894         0.58372       NaN  \n",
       "41539998    1.74270         0.69456       NaN  \n",
       "\n",
       "[897 rows x 6 columns]"
      ]
     },
     "execution_count": 27,
     "metadata": {},
     "output_type": "execute_result"
    }
   ],
   "source": [
    "df.loc[:, (df.isna().sum()>0)]"
   ]
  },
  {
   "cell_type": "code",
   "execution_count": 28,
   "metadata": {
    "collapsed": false,
    "execution": {
     "iopub.execute_input": "2024-10-20T10:15:22.687083Z",
     "iopub.status.busy": "2024-10-20T10:15:22.686756Z",
     "iopub.status.idle": "2024-10-20T10:15:22.699770Z",
     "shell.execute_reply": "2024-10-20T10:15:22.698667Z"
    }
   },
   "outputs": [
    {
     "data": {
      "text/plain": [
       "frac_snow            5\n",
       "high_prec_timing     4\n",
       "geol_class_2nd      47\n",
       "slope_fdc           16\n",
       "baseflow_index      18\n",
       "area_ana            43\n",
       "dtype: int64"
      ]
     },
     "execution_count": 28,
     "metadata": {},
     "output_type": "execute_result"
    }
   ],
   "source": [
    "df.loc[:, (df.isna().sum()>0)].isna().sum()"
   ]
  },
  {
   "cell_type": "code",
   "execution_count": 29,
   "metadata": {
    "collapsed": false,
    "execution": {
     "iopub.execute_input": "2024-10-20T10:15:22.703231Z",
     "iopub.status.busy": "2024-10-20T10:15:22.702870Z",
     "iopub.status.idle": "2024-10-20T10:15:22.707372Z",
     "shell.execute_reply": "2024-10-20T10:15:22.706692Z"
    }
   },
   "outputs": [
    {
     "name": "stdout",
     "output_type": "stream",
     "text": [
      "evapotransp_gleam, evapotransp_mgb, potential_evapotransp_gleam, precipitation_chirps,\n",
      "precipitation_cpc, precipitation_mswep, streamflow_mm, temperature_max, temperature_mean,\n",
      "temperature_min\n"
     ]
    }
   ],
   "source": [
    "dynamic_features = dataset.dynamic_features\n",
    "dynamic_features.sort()\n",
    "print(textwrap.fill(\", \".join(dynamic_features), width=100))"
   ]
  },
  {
   "cell_type": "markdown",
   "metadata": {},
   "source": [
    "## CAMELS_US\n",
    "\n"
   ]
  },
  {
   "cell_type": "code",
   "execution_count": 30,
   "metadata": {
    "collapsed": false,
    "execution": {
     "iopub.execute_input": "2024-10-20T10:15:22.710438Z",
     "iopub.status.busy": "2024-10-20T10:15:22.710141Z",
     "iopub.status.idle": "2024-10-20T10:15:22.739758Z",
     "shell.execute_reply": "2024-10-20T10:15:22.739044Z"
    }
   },
   "outputs": [
    {
     "name": "stdout",
     "output_type": "stream",
     "text": [
      "dataset is already downloaded at /mnt/datawaha/hyex/atr/gscad_database/raw/CAMELS/CAMELS_US\n"
     ]
    },
    {
     "name": "stdout",
     "output_type": "stream",
     "text": [
      "CAMELS_US with 671 stations, 8 dynamic and 59 static features\n"
     ]
    }
   ],
   "source": [
    "dataset = RainfallRunoff('CAMELS_US', path=os.path.join(gscad_path, 'CAMELS'), verbosity=0)\n",
    "print(dataset)"
   ]
  },
  {
   "cell_type": "code",
   "execution_count": 31,
   "metadata": {
    "collapsed": false,
    "execution": {
     "iopub.execute_input": "2024-10-20T10:15:22.742642Z",
     "iopub.status.busy": "2024-10-20T10:15:22.742265Z",
     "iopub.status.idle": "2024-10-20T10:15:22.756953Z",
     "shell.execute_reply": "2024-10-20T10:15:22.755449Z"
    }
   },
   "outputs": [
    {
     "name": "stdout",
     "output_type": "stream",
     "text": [
      "area_gages2, area_geospa_fabric, aridity, baseflow_index, carbonate_rocks_frac, clay_frac,\n",
      "dom_land_cover, dom_land_cover_frac, elev_mean, frac_forest, frac_snow, gauge_lat, gauge_lon,\n",
      "gauge_name, geol_1st_class, geol_2nd_class, geol_permeability, geol_porostiy, glim_1st_class_frac,\n",
      "glim_2nd_class_frac, gvf_diff, gvf_max, hfd_mean, high_prec_dur, high_prec_freq, high_prec_timing,\n",
      "high_q_dur, high_q_freq, huc_02, lai_diff, lai_max, low_prec_dur, low_prec_freq, low_prec_timing,\n",
      "low_q_dur, low_q_freq, max_water_content, organic_frac, other_frac, p_mean, p_seasonality, pet_mean,\n",
      "q5, q95, q_mean, root_depth_50, root_depth_99, runoff_ratio, sand_frac, silt_frac, slope_fdc,\n",
      "slope_mean, soil_conductivity, soil_depth_pelletier, soil_depth_statsgo, soil_porosity, stream_elas,\n",
      "water_frac, zero_q_freq\n"
     ]
    }
   ],
   "source": [
    "static_features = dataset.static_features\n",
    "static_features.sort()\n",
    "print(textwrap.fill(\", \".join(static_features), width=100))"
   ]
  },
  {
   "cell_type": "code",
   "execution_count": 32,
   "metadata": {
    "collapsed": false,
    "execution": {
     "iopub.execute_input": "2024-10-20T10:15:22.760775Z",
     "iopub.status.busy": "2024-10-20T10:15:22.760540Z",
     "iopub.status.idle": "2024-10-20T10:15:22.765638Z",
     "shell.execute_reply": "2024-10-20T10:15:22.764894Z"
    }
   },
   "outputs": [
    {
     "name": "stdout",
     "output_type": "stream",
     "text": [
      "dayl(s), max_temp_C, min_temp_C, obs_q_cms, pcp_mm, srad(W/m2), swe_mm, vp(Pa)\n"
     ]
    }
   ],
   "source": [
    "dynamic_features = dataset.dynamic_features\n",
    "dynamic_features.sort()\n",
    "print(textwrap.fill(\", \".join(dynamic_features), width=100))"
   ]
  },
  {
   "cell_type": "markdown",
   "metadata": {},
   "source": [
    "## CAMELS_CL\n",
    "\n"
   ]
  },
  {
   "cell_type": "code",
   "execution_count": 33,
   "metadata": {
    "collapsed": false,
    "execution": {
     "iopub.execute_input": "2024-10-20T10:15:22.769753Z",
     "iopub.status.busy": "2024-10-20T10:15:22.769171Z",
     "iopub.status.idle": "2024-10-20T10:15:22.842107Z",
     "shell.execute_reply": "2024-10-20T10:15:22.840622Z"
    }
   },
   "outputs": [
    {
     "name": "stdout",
     "output_type": "stream",
     "text": [
      "CAMELS_CL with 516 stations, 12 dynamic and 104 static features\n"
     ]
    }
   ],
   "source": [
    "dataset = RainfallRunoff('CAMELS_CL', path=os.path.join(gscad_path, 'CAMELS'), verbosity=0)\n",
    "print(dataset)"
   ]
  },
  {
   "cell_type": "code",
   "execution_count": 34,
   "metadata": {
    "collapsed": false,
    "execution": {
     "iopub.execute_input": "2024-10-20T10:15:22.845665Z",
     "iopub.status.busy": "2024-10-20T10:15:22.845441Z",
     "iopub.status.idle": "2024-10-20T10:15:22.896134Z",
     "shell.execute_reply": "2024-10-20T10:15:22.895113Z"
    }
   },
   "outputs": [
    {
     "name": "stdout",
     "output_type": "stream",
     "text": [
      "Q5, Q95, area, aridity_chirps, aridity_cr2met, aridity_mswep, aridity_tmpa, baseflow_index, big_dam,\n",
      "carb_rocks_frac, crop_frac, dom_land_cover, dom_land_cover_frac, elev_gauge, elev_max, elev_mean,\n",
      "elev_med, elev_min, forest_frac, fp_frac, fp_nf_index, frac_snow_chirps, frac_snow_cr2met,\n",
      "frac_snow_mswep, frac_snow_tmpa, gauge_lat, gauge_lon, gauge_name, geol_class_1st,\n",
      "geol_class_1st_frac, geol_class_2nd, geol_class_2nd_frac, grass_frac, gw_rights_flow, gw_rights_n,\n",
      "hfd_mean, high_prec_dur_chirps, high_prec_dur_cr2met, high_prec_dur_mswep, high_prec_dur_tmpa,\n",
      "high_prec_freq_chirps, high_prec_freq_cr2met, high_prec_freq_mswep, high_prec_freq_tmpa,\n",
      "high_prec_timing_chirps, high_prec_timing_cr2met, high_prec_timing_mswep, high_prec_timing_tmpa,\n",
      "high_q_dur, high_q_freq, imp_frac, interv_degree, land_cover_missing, lc_barren, lc_glacier,\n",
      "location_type, low_prec_dur_chirps, low_prec_dur_cr2met, low_prec_dur_mswep, low_prec_dur_tmpa,\n",
      "low_prec_freq_chirps, low_prec_freq_cr2met, low_prec_freq_mswep, low_prec_freq_tmpa,\n",
      "low_prec_timing_chirps, low_prec_timing_cr2met, low_prec_timing_mswep, low_prec_timing_tmpa,\n",
      "low_q_dur, low_q_freq, n_obs, nested_inner, nested_outer, nf_frac, p_mean_chirps, p_mean_cr2met,\n",
      "p_mean_mswep, p_mean_spread, p_mean_tmpa, p_seasonality_chirps, p_seasonality_cr2met,\n",
      "p_seasonality_mswep, p_seasonality_tmpa, pet_mean, q_mean, record_period_end, record_period_start,\n",
      "runoff_ratio_chirps, runoff_ratio_cr2met, runoff_ratio_mswep, runoff_ratio_tmpa, shrub_frac,\n",
      "slope_fdc, slope_mean, snow_frac, stream_elas_chirps, stream_elas_cr2met, stream_elas_mswep,\n",
      "stream_elas_tmpa, sur_rights_flow, sur_rights_n, swe_ratio, wet_frac, zero_q_freq\n"
     ]
    }
   ],
   "source": [
    "static_features = dataset.static_features\n",
    "static_features.sort()\n",
    "print(textwrap.fill(\", \".join(static_features), width=100))"
   ]
  },
  {
   "cell_type": "code",
   "execution_count": 35,
   "metadata": {
    "collapsed": false,
    "execution": {
     "iopub.execute_input": "2024-10-20T10:15:22.900681Z",
     "iopub.status.busy": "2024-10-20T10:15:22.900456Z",
     "iopub.status.idle": "2024-10-20T10:15:23.757158Z",
     "shell.execute_reply": "2024-10-20T10:15:23.755990Z"
    }
   },
   "outputs": [
    {
     "name": "stdout",
     "output_type": "stream",
     "text": [
      "(516, 104)\n"
     ]
    }
   ],
   "source": [
    "df = dataset.fetch_static_features()\n",
    "print(df.shape)"
   ]
  },
  {
   "cell_type": "code",
   "execution_count": 36,
   "metadata": {
    "collapsed": false,
    "execution": {
     "iopub.execute_input": "2024-10-20T10:15:23.761227Z",
     "iopub.status.busy": "2024-10-20T10:15:23.761002Z",
     "iopub.status.idle": "2024-10-20T10:15:23.787544Z",
     "shell.execute_reply": "2024-10-20T10:15:23.786823Z"
    }
   },
   "outputs": [
    {
     "name": "stdout",
     "output_type": "stream",
     "text": [
      "12185\n"
     ]
    },
    {
     "data": {
      "text/plain": [
       "gauge_id\n",
       "gauge_name             0\n",
       "gauge_lat              0\n",
       "gauge_lon              0\n",
       "record_period_start    0\n",
       "record_period_end      0\n",
       "                      ..\n",
       "sur_rights_flow        0\n",
       "interv_degree          0\n",
       "gw_rights_n            0\n",
       "gw_rights_flow         0\n",
       "big_dam                0\n",
       "Length: 104, dtype: int64"
      ]
     },
     "execution_count": 36,
     "metadata": {},
     "output_type": "execute_result"
    }
   ],
   "source": [
    "print(df.isna().sum().sum())\n",
    "df.isna().sum()"
   ]
  },
  {
   "cell_type": "markdown",
   "metadata": {},
   "source": [
    "find those rows which have at least one NaN value\n",
    "\n"
   ]
  },
  {
   "cell_type": "code",
   "execution_count": 37,
   "metadata": {
    "collapsed": false,
    "execution": {
     "iopub.execute_input": "2024-10-20T10:15:23.792128Z",
     "iopub.status.busy": "2024-10-20T10:15:23.791725Z",
     "iopub.status.idle": "2024-10-20T10:15:23.825116Z",
     "shell.execute_reply": "2024-10-20T10:15:23.823869Z"
    }
   },
   "outputs": [
    {
     "data": {
      "text/html": [
       "<div>\n",
       "<style scoped>\n",
       "    .dataframe tbody tr th:only-of-type {\n",
       "        vertical-align: middle;\n",
       "    }\n",
       "\n",
       "    .dataframe tbody tr th {\n",
       "        vertical-align: top;\n",
       "    }\n",
       "\n",
       "    .dataframe thead th {\n",
       "        text-align: right;\n",
       "    }\n",
       "</style>\n",
       "<table border=\"1\" class=\"dataframe\">\n",
       "  <thead>\n",
       "    <tr style=\"text-align: right;\">\n",
       "      <th>gauge_id</th>\n",
       "      <th>location_type</th>\n",
       "      <th>geol_class_2nd</th>\n",
       "      <th>p_mean_chirps</th>\n",
       "      <th>p_mean_tmpa</th>\n",
       "      <th>aridity_chirps</th>\n",
       "      <th>aridity_tmpa</th>\n",
       "      <th>p_seasonality_chirps</th>\n",
       "      <th>p_seasonality_tmpa</th>\n",
       "      <th>frac_snow_chirps</th>\n",
       "      <th>frac_snow_tmpa</th>\n",
       "      <th>...</th>\n",
       "      <th>baseflow_index</th>\n",
       "      <th>hfd_mean</th>\n",
       "      <th>Q95</th>\n",
       "      <th>Q5</th>\n",
       "      <th>high_q_freq</th>\n",
       "      <th>high_q_dur</th>\n",
       "      <th>low_q_freq</th>\n",
       "      <th>low_q_dur</th>\n",
       "      <th>zero_q_freq</th>\n",
       "      <th>swe_ratio</th>\n",
       "    </tr>\n",
       "  </thead>\n",
       "  <tbody>\n",
       "    <tr>\n",
       "      <th>8220009</th>\n",
       "      <td>NaN</td>\n",
       "      <td>Intermediate plutonic rocks</td>\n",
       "      <td>3.69311266</td>\n",
       "      <td>NaN</td>\n",
       "      <td>0.8586003</td>\n",
       "      <td>NaN</td>\n",
       "      <td>-1.074889369</td>\n",
       "      <td>NaN</td>\n",
       "      <td>0.0000000000000</td>\n",
       "      <td>NaN</td>\n",
       "      <td>...</td>\n",
       "      <td>NaN</td>\n",
       "      <td>NaN</td>\n",
       "      <td>NaN</td>\n",
       "      <td>NaN</td>\n",
       "      <td>NaN</td>\n",
       "      <td>NaN</td>\n",
       "      <td>NaN</td>\n",
       "      <td>NaN</td>\n",
       "      <td>NaN</td>\n",
       "      <td>NaN</td>\n",
       "    </tr>\n",
       "    <tr>\n",
       "      <th>10362001</th>\n",
       "      <td>coastal</td>\n",
       "      <td>Pyroclastics</td>\n",
       "      <td>4.34012320</td>\n",
       "      <td>NaN</td>\n",
       "      <td>0.6072567</td>\n",
       "      <td>NaN</td>\n",
       "      <td>-0.622200375</td>\n",
       "      <td>NaN</td>\n",
       "      <td>0.0002103480252</td>\n",
       "      <td>NaN</td>\n",
       "      <td>...</td>\n",
       "      <td>0.5624186</td>\n",
       "      <td>122.0500</td>\n",
       "      <td>6.015702219</td>\n",
       "      <td>0.10735714728</td>\n",
       "      <td>13.44168511</td>\n",
       "      <td>2.714286</td>\n",
       "      <td>117.13468456</td>\n",
       "      <td>29.341772</td>\n",
       "      <td>0.0000000000</td>\n",
       "      <td>NaN</td>\n",
       "    </tr>\n",
       "    <tr>\n",
       "      <th>7317005</th>\n",
       "      <td>NaN</td>\n",
       "      <td>Basic volcanic rocks</td>\n",
       "      <td>4.72452895</td>\n",
       "      <td>NaN</td>\n",
       "      <td>0.5293816</td>\n",
       "      <td>NaN</td>\n",
       "      <td>-0.960896391</td>\n",
       "      <td>NaN</td>\n",
       "      <td>0.1469334578557</td>\n",
       "      <td>NaN</td>\n",
       "      <td>...</td>\n",
       "      <td>NaN</td>\n",
       "      <td>NaN</td>\n",
       "      <td>NaN</td>\n",
       "      <td>NaN</td>\n",
       "      <td>NaN</td>\n",
       "      <td>NaN</td>\n",
       "      <td>NaN</td>\n",
       "      <td>NaN</td>\n",
       "      <td>NaN</td>\n",
       "      <td>NaN</td>\n",
       "    </tr>\n",
       "    <tr>\n",
       "      <th>2112005</th>\n",
       "      <td>NaN</td>\n",
       "      <td>Unconsolidated sediments</td>\n",
       "      <td>0.21673525</td>\n",
       "      <td>NaN</td>\n",
       "      <td>18.4153050</td>\n",
       "      <td>NaN</td>\n",
       "      <td>1.336308822</td>\n",
       "      <td>NaN</td>\n",
       "      <td>0.0002204325151</td>\n",
       "      <td>NaN</td>\n",
       "      <td>...</td>\n",
       "      <td>NaN</td>\n",
       "      <td>NaN</td>\n",
       "      <td>NaN</td>\n",
       "      <td>NaN</td>\n",
       "      <td>NaN</td>\n",
       "      <td>NaN</td>\n",
       "      <td>NaN</td>\n",
       "      <td>NaN</td>\n",
       "      <td>NaN</td>\n",
       "      <td>NaN</td>\n",
       "    </tr>\n",
       "    <tr>\n",
       "      <th>5746001</th>\n",
       "      <td>NaN</td>\n",
       "      <td>Unconsolidated sediments</td>\n",
       "      <td>1.16770048</td>\n",
       "      <td>NaN</td>\n",
       "      <td>3.1408824</td>\n",
       "      <td>NaN</td>\n",
       "      <td>-1.403499734</td>\n",
       "      <td>NaN</td>\n",
       "      <td>0.0000000000000</td>\n",
       "      <td>NaN</td>\n",
       "      <td>...</td>\n",
       "      <td>0.7183103</td>\n",
       "      <td>124.6000</td>\n",
       "      <td>1.580334352</td>\n",
       "      <td>0.22086357569</td>\n",
       "      <td>2.43736966</td>\n",
       "      <td>2.086957</td>\n",
       "      <td>8.17534408</td>\n",
       "      <td>13.416667</td>\n",
       "      <td>0.0000000000</td>\n",
       "      <td>0.003368185140</td>\n",
       "    </tr>\n",
       "    <tr>\n",
       "      <th>...</th>\n",
       "      <td>...</td>\n",
       "      <td>...</td>\n",
       "      <td>...</td>\n",
       "      <td>...</td>\n",
       "      <td>...</td>\n",
       "      <td>...</td>\n",
       "      <td>...</td>\n",
       "      <td>...</td>\n",
       "      <td>...</td>\n",
       "      <td>...</td>\n",
       "      <td>...</td>\n",
       "      <td>...</td>\n",
       "      <td>...</td>\n",
       "      <td>...</td>\n",
       "      <td>...</td>\n",
       "      <td>...</td>\n",
       "      <td>...</td>\n",
       "      <td>...</td>\n",
       "      <td>...</td>\n",
       "      <td>...</td>\n",
       "      <td>...</td>\n",
       "    </tr>\n",
       "    <tr>\n",
       "      <th>5101001</th>\n",
       "      <td>NaN</td>\n",
       "      <td>Acid plutonic rocks</td>\n",
       "      <td>0.72182012</td>\n",
       "      <td>NaN</td>\n",
       "      <td>4.7505564</td>\n",
       "      <td>NaN</td>\n",
       "      <td>-1.440400284</td>\n",
       "      <td>NaN</td>\n",
       "      <td>0.0038392564541</td>\n",
       "      <td>NaN</td>\n",
       "      <td>...</td>\n",
       "      <td>0.6971627</td>\n",
       "      <td>162.1176</td>\n",
       "      <td>2.386918187</td>\n",
       "      <td>0.01539947218</td>\n",
       "      <td>43.72596796</td>\n",
       "      <td>18.340909</td>\n",
       "      <td>148.08311081</td>\n",
       "      <td>44.803279</td>\n",
       "      <td>0.0000000000</td>\n",
       "      <td>0.344224603708</td>\n",
       "    </tr>\n",
       "    <tr>\n",
       "      <th>10401001</th>\n",
       "      <td>NaN</td>\n",
       "      <td>Metamorphics</td>\n",
       "      <td>4.61487255</td>\n",
       "      <td>NaN</td>\n",
       "      <td>0.5567343</td>\n",
       "      <td>NaN</td>\n",
       "      <td>-0.598618823</td>\n",
       "      <td>NaN</td>\n",
       "      <td>0.0007067884319</td>\n",
       "      <td>NaN</td>\n",
       "      <td>...</td>\n",
       "      <td>NaN</td>\n",
       "      <td>NaN</td>\n",
       "      <td>NaN</td>\n",
       "      <td>NaN</td>\n",
       "      <td>NaN</td>\n",
       "      <td>NaN</td>\n",
       "      <td>NaN</td>\n",
       "      <td>NaN</td>\n",
       "      <td>NaN</td>\n",
       "      <td>NaN</td>\n",
       "    </tr>\n",
       "    <tr>\n",
       "      <th>2110002</th>\n",
       "      <td>NaN</td>\n",
       "      <td>Siliciclastic sedimentary rocks</td>\n",
       "      <td>0.28986612</td>\n",
       "      <td>NaN</td>\n",
       "      <td>11.4299221</td>\n",
       "      <td>NaN</td>\n",
       "      <td>1.555320147</td>\n",
       "      <td>NaN</td>\n",
       "      <td>0.0021539836182</td>\n",
       "      <td>NaN</td>\n",
       "      <td>...</td>\n",
       "      <td>0.9021013</td>\n",
       "      <td>190.0625</td>\n",
       "      <td>0.014444286</td>\n",
       "      <td>0.00737807572</td>\n",
       "      <td>0.00000000</td>\n",
       "      <td>0.000000</td>\n",
       "      <td>0.00000000</td>\n",
       "      <td>0.000000</td>\n",
       "      <td>0.0000000000</td>\n",
       "      <td>NaN</td>\n",
       "    </tr>\n",
       "    <tr>\n",
       "      <th>8350001</th>\n",
       "      <td>NaN</td>\n",
       "      <td>Acid volcanic rocks</td>\n",
       "      <td>8.45346995</td>\n",
       "      <td>NaN</td>\n",
       "      <td>0.3105805</td>\n",
       "      <td>NaN</td>\n",
       "      <td>-0.836864115</td>\n",
       "      <td>NaN</td>\n",
       "      <td>0.0829756992572</td>\n",
       "      <td>NaN</td>\n",
       "      <td>...</td>\n",
       "      <td>NaN</td>\n",
       "      <td>NaN</td>\n",
       "      <td>NaN</td>\n",
       "      <td>NaN</td>\n",
       "      <td>NaN</td>\n",
       "      <td>NaN</td>\n",
       "      <td>NaN</td>\n",
       "      <td>NaN</td>\n",
       "      <td>NaN</td>\n",
       "      <td>NaN</td>\n",
       "    </tr>\n",
       "    <tr>\n",
       "      <th>11315001</th>\n",
       "      <td>NaN</td>\n",
       "      <td>Unconsolidated sediments</td>\n",
       "      <td>2.79655852</td>\n",
       "      <td>NaN</td>\n",
       "      <td>0.7749488</td>\n",
       "      <td>NaN</td>\n",
       "      <td>-0.306493095</td>\n",
       "      <td>NaN</td>\n",
       "      <td>0.1256086732201</td>\n",
       "      <td>NaN</td>\n",
       "      <td>...</td>\n",
       "      <td>NaN</td>\n",
       "      <td>NaN</td>\n",
       "      <td>NaN</td>\n",
       "      <td>NaN</td>\n",
       "      <td>NaN</td>\n",
       "      <td>NaN</td>\n",
       "      <td>NaN</td>\n",
       "      <td>NaN</td>\n",
       "      <td>NaN</td>\n",
       "      <td>NaN</td>\n",
       "    </tr>\n",
       "  </tbody>\n",
       "</table>\n",
       "<p>516 rows × 42 columns</p>\n",
       "</div>"
      ],
      "text/plain": [
       "gauge_id location_type                   geol_class_2nd p_mean_chirps  \\\n",
       "8220009            NaN      Intermediate plutonic rocks    3.69311266   \n",
       "10362001       coastal                     Pyroclastics    4.34012320   \n",
       "7317005            NaN             Basic volcanic rocks    4.72452895   \n",
       "2112005            NaN         Unconsolidated sediments    0.21673525   \n",
       "5746001            NaN         Unconsolidated sediments    1.16770048   \n",
       "...                ...                              ...           ...   \n",
       "5101001            NaN              Acid plutonic rocks    0.72182012   \n",
       "10401001           NaN                     Metamorphics    4.61487255   \n",
       "2110002            NaN  Siliciclastic sedimentary rocks    0.28986612   \n",
       "8350001            NaN              Acid volcanic rocks    8.45346995   \n",
       "11315001           NaN         Unconsolidated sediments    2.79655852   \n",
       "\n",
       "gauge_id p_mean_tmpa aridity_chirps aridity_tmpa p_seasonality_chirps  \\\n",
       "8220009          NaN      0.8586003          NaN         -1.074889369   \n",
       "10362001         NaN      0.6072567          NaN         -0.622200375   \n",
       "7317005          NaN      0.5293816          NaN         -0.960896391   \n",
       "2112005          NaN     18.4153050          NaN          1.336308822   \n",
       "5746001          NaN      3.1408824          NaN         -1.403499734   \n",
       "...              ...            ...          ...                  ...   \n",
       "5101001          NaN      4.7505564          NaN         -1.440400284   \n",
       "10401001         NaN      0.5567343          NaN         -0.598618823   \n",
       "2110002          NaN     11.4299221          NaN          1.555320147   \n",
       "8350001          NaN      0.3105805          NaN         -0.836864115   \n",
       "11315001         NaN      0.7749488          NaN         -0.306493095   \n",
       "\n",
       "gauge_id p_seasonality_tmpa frac_snow_chirps frac_snow_tmpa  ...  \\\n",
       "8220009                 NaN  0.0000000000000            NaN  ...   \n",
       "10362001                NaN  0.0002103480252            NaN  ...   \n",
       "7317005                 NaN  0.1469334578557            NaN  ...   \n",
       "2112005                 NaN  0.0002204325151            NaN  ...   \n",
       "5746001                 NaN  0.0000000000000            NaN  ...   \n",
       "...                     ...              ...            ...  ...   \n",
       "5101001                 NaN  0.0038392564541            NaN  ...   \n",
       "10401001                NaN  0.0007067884319            NaN  ...   \n",
       "2110002                 NaN  0.0021539836182            NaN  ...   \n",
       "8350001                 NaN  0.0829756992572            NaN  ...   \n",
       "11315001                NaN  0.1256086732201            NaN  ...   \n",
       "\n",
       "gauge_id baseflow_index  hfd_mean           Q95             Q5   high_q_freq  \\\n",
       "8220009             NaN       NaN           NaN            NaN           NaN   \n",
       "10362001      0.5624186  122.0500   6.015702219  0.10735714728   13.44168511   \n",
       "7317005             NaN       NaN           NaN            NaN           NaN   \n",
       "2112005             NaN       NaN           NaN            NaN           NaN   \n",
       "5746001       0.7183103  124.6000   1.580334352  0.22086357569    2.43736966   \n",
       "...                 ...       ...           ...            ...           ...   \n",
       "5101001       0.6971627  162.1176   2.386918187  0.01539947218   43.72596796   \n",
       "10401001            NaN       NaN           NaN            NaN           NaN   \n",
       "2110002       0.9021013  190.0625   0.014444286  0.00737807572    0.00000000   \n",
       "8350001             NaN       NaN           NaN            NaN           NaN   \n",
       "11315001            NaN       NaN           NaN            NaN           NaN   \n",
       "\n",
       "gauge_id  high_q_dur    low_q_freq   low_q_dur   zero_q_freq        swe_ratio  \n",
       "8220009          NaN           NaN         NaN           NaN              NaN  \n",
       "10362001    2.714286  117.13468456   29.341772  0.0000000000              NaN  \n",
       "7317005          NaN           NaN         NaN           NaN              NaN  \n",
       "2112005          NaN           NaN         NaN           NaN              NaN  \n",
       "5746001     2.086957    8.17534408   13.416667  0.0000000000   0.003368185140  \n",
       "...              ...           ...         ...           ...              ...  \n",
       "5101001    18.340909  148.08311081   44.803279  0.0000000000   0.344224603708  \n",
       "10401001         NaN           NaN         NaN           NaN              NaN  \n",
       "2110002     0.000000    0.00000000    0.000000  0.0000000000              NaN  \n",
       "8350001          NaN           NaN         NaN           NaN              NaN  \n",
       "11315001         NaN           NaN         NaN           NaN              NaN  \n",
       "\n",
       "[516 rows x 42 columns]"
      ]
     },
     "execution_count": 37,
     "metadata": {},
     "output_type": "execute_result"
    }
   ],
   "source": [
    "df.loc[:, (df.isna().sum()>0)]"
   ]
  },
  {
   "cell_type": "code",
   "execution_count": 38,
   "metadata": {
    "collapsed": false,
    "execution": {
     "iopub.execute_input": "2024-10-20T10:15:23.828882Z",
     "iopub.status.busy": "2024-10-20T10:15:23.828617Z",
     "iopub.status.idle": "2024-10-20T10:15:23.849585Z",
     "shell.execute_reply": "2024-10-20T10:15:23.848817Z"
    }
   },
   "outputs": [
    {
     "data": {
      "text/plain": [
       "gauge_id\n",
       "location_type              386\n",
       "geol_class_2nd              16\n",
       "p_mean_chirps               43\n",
       "p_mean_tmpa                516\n",
       "aridity_chirps              43\n",
       "aridity_tmpa               516\n",
       "p_seasonality_chirps        43\n",
       "p_seasonality_tmpa         516\n",
       "frac_snow_chirps            43\n",
       "frac_snow_tmpa             516\n",
       "high_prec_freq_chirps       43\n",
       "high_prec_freq_tmpa        516\n",
       "high_prec_dur_chirps        43\n",
       "high_prec_dur_tmpa         516\n",
       "high_prec_timing_chirps     43\n",
       "high_prec_timing_tmpa      516\n",
       "low_prec_freq_chirps        43\n",
       "low_prec_freq_tmpa         516\n",
       "low_prec_dur_chirps         43\n",
       "low_prec_dur_tmpa          516\n",
       "low_prec_timing_chirps      43\n",
       "low_prec_timing_tmpa       516\n",
       "q_mean                     278\n",
       "runoff_ratio_cr2met        278\n",
       "runoff_ratio_chirps        297\n",
       "runoff_ratio_mswep         278\n",
       "runoff_ratio_tmpa          516\n",
       "stream_elas_cr2met         278\n",
       "stream_elas_chirps         297\n",
       "stream_elas_mswep          278\n",
       "stream_elas_tmpa           516\n",
       "slope_fdc                  278\n",
       "baseflow_index             278\n",
       "hfd_mean                   278\n",
       "Q95                        278\n",
       "Q5                         278\n",
       "high_q_freq                278\n",
       "high_q_dur                 278\n",
       "low_q_freq                 278\n",
       "low_q_dur                  278\n",
       "zero_q_freq                278\n",
       "swe_ratio                  397\n",
       "dtype: int64"
      ]
     },
     "execution_count": 38,
     "metadata": {},
     "output_type": "execute_result"
    }
   ],
   "source": [
    "df.loc[:, (df.isna().sum()>0)].isna().sum()"
   ]
  },
  {
   "cell_type": "code",
   "execution_count": 39,
   "metadata": {
    "collapsed": false,
    "execution": {
     "iopub.execute_input": "2024-10-20T10:15:23.852880Z",
     "iopub.status.busy": "2024-10-20T10:15:23.852623Z",
     "iopub.status.idle": "2024-10-20T10:15:23.858401Z",
     "shell.execute_reply": "2024-10-20T10:15:23.857526Z"
    }
   },
   "outputs": [
    {
     "name": "stdout",
     "output_type": "stream",
     "text": [
      "max_temp_C, mean_temp_C, min_temp_C, obs_q_cms, obs_q_mmd, pcp_mm, pet_8d_modis, pet_hargreaves,\n",
      "precip_chirps, precip_cr2met, precip_tmpa, swe\n"
     ]
    }
   ],
   "source": [
    "dynamic_features = dataset.dynamic_features\n",
    "dynamic_features.sort()\n",
    "print(textwrap.fill(\", \".join(dynamic_features), width=100))"
   ]
  },
  {
   "cell_type": "markdown",
   "metadata": {},
   "source": [
    "## CAMELS_DK\n",
    "\n"
   ]
  },
  {
   "cell_type": "code",
   "execution_count": 40,
   "metadata": {
    "collapsed": false,
    "execution": {
     "iopub.execute_input": "2024-10-20T10:15:23.861829Z",
     "iopub.status.busy": "2024-10-20T10:15:23.861573Z",
     "iopub.status.idle": "2024-10-20T10:15:24.016826Z",
     "shell.execute_reply": "2024-10-20T10:15:24.015805Z"
    }
   },
   "outputs": [
    {
     "name": "stdout",
     "output_type": "stream",
     "text": [
      "CAMELS_DK with 304 stations, 13 dynamic and 119 static features\n"
     ]
    }
   ],
   "source": [
    "dataset = RainfallRunoff('CAMELS_DK', path=os.path.join(gscad_path, 'CAMELS'), verbosity=0)\n",
    "print(dataset)"
   ]
  },
  {
   "cell_type": "code",
   "execution_count": 41,
   "metadata": {
    "collapsed": false,
    "execution": {
     "iopub.execute_input": "2024-10-20T10:15:24.020093Z",
     "iopub.status.busy": "2024-10-20T10:15:24.019683Z",
     "iopub.status.idle": "2024-10-20T10:15:24.026100Z",
     "shell.execute_reply": "2024-10-20T10:15:24.025451Z"
    }
   },
   "outputs": [
    {
     "name": "stdout",
     "output_type": "stream",
     "text": [
      "FC, HCC, KS, MRC, THS, WP, aridity, bulk_density, catch_accum_number, catch_area, catch_flow_dir,\n",
      "catch_outlet_lat, catch_outlet_lon, chalk_d, dem_max, dem_mean, dem_median, dem_min,\n",
      "frac_snow_daily, gauge_record_pct, gauged_type, high_prec_dur, high_prec_freq, high_prec_timing,\n",
      "low_prec_dur, low_prec_freq, low_prec_timing, p_mean, p_seasonality, pct_aeolain_sand,\n",
      "pct_agriculture_corine_1990, pct_agriculture_corine_2000, pct_agriculture_corine_2006,\n",
      "pct_agriculture_corine_2012, pct_agriculture_corine_2018, pct_agriculture_levin_2011,\n",
      "pct_agriculture_levin_2016, pct_agriculture_levin_2018, pct_agriculture_levin_2021, pct_beach,\n",
      "pct_clay, pct_claynor_100, pct_claynor_200, pct_claynor_30, pct_claynor_60, pct_down_sand,\n",
      "pct_flat_area, pct_forest_corine_1990, pct_forest_corine_2000, pct_forest_corine_2006,\n",
      "pct_forest_corine_2012, pct_forest_corine_2018, pct_forest_levin_2011, pct_forest_levin_2016,\n",
      "pct_forest_levin_2018, pct_forest_levin_2021, pct_fsandno_100, pct_fsandno_200, pct_fsandno_30,\n",
      "pct_fsandno_60, pct_glaf_sand, pct_glal_clay, pct_glam_clay, pct_gravel, pct_gsandno_100,\n",
      "pct_gsandno_200, pct_gsandno_30, pct_gsandno_60, pct_marine_sand, pct_marsh,\n",
      "pct_naturedry_levin_2011, pct_naturedry_levin_2016, pct_naturedry_levin_2018,\n",
      "pct_naturedry_levin_2021, pct_naturewet_levin_2011, pct_naturewet_levin_2016,\n",
      "pct_naturewet_levin_2018, pct_naturewet_levin_2021, pct_organic, pct_sand, pct_sandy_till, pct_silt,\n",
      "pct_till, pct_urban_corine_1990, pct_urban_corine_2000, pct_urban_corine_2006,\n",
      "pct_urban_corine_2012, pct_urban_corine_2018, pct_urban_levin_2011, pct_urban_levin_2016,\n",
      "pct_urban_levin_2018, pct_urban_levin_2021, pct_water_corine_1990, pct_water_corine_2000,\n",
      "pct_water_corine_2006, pct_water_corine_2012, pct_water_corine_2018, pct_water_deposit,\n",
      "pct_water_levin_2011, pct_water_levin_2016, pct_water_levin_2018, pct_water_levin_2021,\n",
      "pct_wetlands_corine_1990, pct_wetlands_corine_2000, pct_wetlands_corine_2006,\n",
      "pct_wetlands_corine_2012, pct_wetlands_corine_2018, pet_mean, root_depth, slope_max, slope_mean,\n",
      "slope_median, slope_min, t_mean, tawc, uaquifer_d, uaquifer_t, uclay_t, usand_t\n"
     ]
    }
   ],
   "source": [
    "static_features = dataset.static_features\n",
    "static_features.sort()\n",
    "print(textwrap.fill(\", \".join(static_features), width=100))"
   ]
  },
  {
   "cell_type": "code",
   "execution_count": 42,
   "metadata": {
    "collapsed": false,
    "execution": {
     "iopub.execute_input": "2024-10-20T10:15:24.029357Z",
     "iopub.status.busy": "2024-10-20T10:15:24.028940Z",
     "iopub.status.idle": "2024-10-20T10:15:24.140011Z",
     "shell.execute_reply": "2024-10-20T10:15:24.138388Z"
    }
   },
   "outputs": [
    {
     "name": "stdout",
     "output_type": "stream",
     "text": [
      "(304, 119)\n"
     ]
    }
   ],
   "source": [
    "df = dataset.fetch_static_features()\n",
    "print(df.shape)"
   ]
  },
  {
   "cell_type": "code",
   "execution_count": 43,
   "metadata": {
    "collapsed": false,
    "execution": {
     "iopub.execute_input": "2024-10-20T10:15:24.143979Z",
     "iopub.status.busy": "2024-10-20T10:15:24.143730Z",
     "iopub.status.idle": "2024-10-20T10:15:24.156241Z",
     "shell.execute_reply": "2024-10-20T10:15:24.154923Z"
    }
   },
   "outputs": [
    {
     "name": "stdout",
     "output_type": "stream",
     "text": [
      "23\n"
     ]
    },
    {
     "data": {
      "text/plain": [
       "FC            0\n",
       "HCC           0\n",
       "KS            0\n",
       "MRC           0\n",
       "THS           0\n",
       "             ..\n",
       "tawc          0\n",
       "uaquifer_d    3\n",
       "uaquifer_t    3\n",
       "uclay_t       3\n",
       "usand_t       3\n",
       "Length: 119, dtype: int64"
      ]
     },
     "execution_count": 43,
     "metadata": {},
     "output_type": "execute_result"
    }
   ],
   "source": [
    "print(df.isna().sum().sum())\n",
    "df.isna().sum()"
   ]
  },
  {
   "cell_type": "markdown",
   "metadata": {},
   "source": [
    "find those columns which have at least one NaN value\n",
    "\n"
   ]
  },
  {
   "cell_type": "code",
   "execution_count": 44,
   "metadata": {
    "collapsed": false,
    "execution": {
     "iopub.execute_input": "2024-10-20T10:15:24.160461Z",
     "iopub.status.busy": "2024-10-20T10:15:24.160168Z",
     "iopub.status.idle": "2024-10-20T10:15:24.181633Z",
     "shell.execute_reply": "2024-10-20T10:15:24.180341Z"
    }
   },
   "outputs": [
    {
     "data": {
      "text/html": [
       "<div>\n",
       "<style scoped>\n",
       "    .dataframe tbody tr th:only-of-type {\n",
       "        vertical-align: middle;\n",
       "    }\n",
       "\n",
       "    .dataframe tbody tr th {\n",
       "        vertical-align: top;\n",
       "    }\n",
       "\n",
       "    .dataframe thead th {\n",
       "        text-align: right;\n",
       "    }\n",
       "</style>\n",
       "<table border=\"1\" class=\"dataframe\">\n",
       "  <thead>\n",
       "    <tr style=\"text-align: right;\">\n",
       "      <th></th>\n",
       "      <th>chalk_d</th>\n",
       "      <th>gauge_record_pct</th>\n",
       "      <th>uaquifer_d</th>\n",
       "      <th>uaquifer_t</th>\n",
       "      <th>uclay_t</th>\n",
       "      <th>usand_t</th>\n",
       "    </tr>\n",
       "  </thead>\n",
       "  <tbody>\n",
       "    <tr>\n",
       "      <th>16200607</th>\n",
       "      <td>348.941440</td>\n",
       "      <td>100.000000</td>\n",
       "      <td>6.166402</td>\n",
       "      <td>16.930742</td>\n",
       "      <td>5.468584</td>\n",
       "      <td>5.671323</td>\n",
       "    </tr>\n",
       "    <tr>\n",
       "      <th>37470466</th>\n",
       "      <td>451.491863</td>\n",
       "      <td>100.000000</td>\n",
       "      <td>0.630618</td>\n",
       "      <td>46.024319</td>\n",
       "      <td>0.550030</td>\n",
       "      <td>31.309439</td>\n",
       "    </tr>\n",
       "    <tr>\n",
       "      <th>67221267</th>\n",
       "      <td>82.682739</td>\n",
       "      <td>100.000000</td>\n",
       "      <td>30.316439</td>\n",
       "      <td>10.650221</td>\n",
       "      <td>28.674266</td>\n",
       "      <td>0.580311</td>\n",
       "    </tr>\n",
       "    <tr>\n",
       "      <th>35321353</th>\n",
       "      <td>425.690145</td>\n",
       "      <td>100.000000</td>\n",
       "      <td>7.186167</td>\n",
       "      <td>39.533252</td>\n",
       "      <td>6.985663</td>\n",
       "      <td>0.198207</td>\n",
       "    </tr>\n",
       "    <tr>\n",
       "      <th>53411137</th>\n",
       "      <td>287.510620</td>\n",
       "      <td>100.000000</td>\n",
       "      <td>15.445959</td>\n",
       "      <td>8.634338</td>\n",
       "      <td>15.021151</td>\n",
       "      <td>0.210060</td>\n",
       "    </tr>\n",
       "    <tr>\n",
       "      <th>...</th>\n",
       "      <td>...</td>\n",
       "      <td>...</td>\n",
       "      <td>...</td>\n",
       "      <td>...</td>\n",
       "      <td>...</td>\n",
       "      <td>...</td>\n",
       "    </tr>\n",
       "    <tr>\n",
       "      <th>32211121</th>\n",
       "      <td>68.721796</td>\n",
       "      <td>54.840134</td>\n",
       "      <td>7.125480</td>\n",
       "      <td>8.509604</td>\n",
       "      <td>6.253781</td>\n",
       "      <td>1.478004</td>\n",
       "    </tr>\n",
       "    <tr>\n",
       "      <th>42320708</th>\n",
       "      <td>155.292211</td>\n",
       "      <td>100.000000</td>\n",
       "      <td>24.663791</td>\n",
       "      <td>9.827164</td>\n",
       "      <td>21.955691</td>\n",
       "      <td>1.744912</td>\n",
       "    </tr>\n",
       "    <tr>\n",
       "      <th>71270476</th>\n",
       "      <td>10.931980</td>\n",
       "      <td>100.000000</td>\n",
       "      <td>9.366122</td>\n",
       "      <td>45.329497</td>\n",
       "      <td>9.176942</td>\n",
       "      <td>0.364699</td>\n",
       "    </tr>\n",
       "    <tr>\n",
       "      <th>32240800</th>\n",
       "      <td>19.045147</td>\n",
       "      <td>100.000000</td>\n",
       "      <td>9.834996</td>\n",
       "      <td>28.712421</td>\n",
       "      <td>9.284840</td>\n",
       "      <td>0.198684</td>\n",
       "    </tr>\n",
       "    <tr>\n",
       "      <th>42600042</th>\n",
       "      <td>124.778317</td>\n",
       "      <td>90.673026</td>\n",
       "      <td>12.625913</td>\n",
       "      <td>17.442115</td>\n",
       "      <td>12.289986</td>\n",
       "      <td>2.165011</td>\n",
       "    </tr>\n",
       "  </tbody>\n",
       "</table>\n",
       "<p>304 rows × 6 columns</p>\n",
       "</div>"
      ],
      "text/plain": [
       "             chalk_d  gauge_record_pct  uaquifer_d  uaquifer_t    uclay_t  \\\n",
       "16200607  348.941440        100.000000    6.166402   16.930742   5.468584   \n",
       "37470466  451.491863        100.000000    0.630618   46.024319   0.550030   \n",
       "67221267   82.682739        100.000000   30.316439   10.650221  28.674266   \n",
       "35321353  425.690145        100.000000    7.186167   39.533252   6.985663   \n",
       "53411137  287.510620        100.000000   15.445959    8.634338  15.021151   \n",
       "...              ...               ...         ...         ...        ...   \n",
       "32211121   68.721796         54.840134    7.125480    8.509604   6.253781   \n",
       "42320708  155.292211        100.000000   24.663791    9.827164  21.955691   \n",
       "71270476   10.931980        100.000000    9.366122   45.329497   9.176942   \n",
       "32240800   19.045147        100.000000    9.834996   28.712421   9.284840   \n",
       "42600042  124.778317         90.673026   12.625913   17.442115  12.289986   \n",
       "\n",
       "            usand_t  \n",
       "16200607   5.671323  \n",
       "37470466  31.309439  \n",
       "67221267   0.580311  \n",
       "35321353   0.198207  \n",
       "53411137   0.210060  \n",
       "...             ...  \n",
       "32211121   1.478004  \n",
       "42320708   1.744912  \n",
       "71270476   0.364699  \n",
       "32240800   0.198684  \n",
       "42600042   2.165011  \n",
       "\n",
       "[304 rows x 6 columns]"
      ]
     },
     "execution_count": 44,
     "metadata": {},
     "output_type": "execute_result"
    }
   ],
   "source": [
    "df.loc[:, (df.isna().sum()>0)]"
   ]
  },
  {
   "cell_type": "code",
   "execution_count": 45,
   "metadata": {
    "collapsed": false,
    "execution": {
     "iopub.execute_input": "2024-10-20T10:15:24.185762Z",
     "iopub.status.busy": "2024-10-20T10:15:24.185514Z",
     "iopub.status.idle": "2024-10-20T10:15:24.195534Z",
     "shell.execute_reply": "2024-10-20T10:15:24.194569Z"
    }
   },
   "outputs": [
    {
     "data": {
      "text/plain": [
       "chalk_d             3\n",
       "gauge_record_pct    8\n",
       "uaquifer_d          3\n",
       "uaquifer_t          3\n",
       "uclay_t             3\n",
       "usand_t             3\n",
       "dtype: int64"
      ]
     },
     "execution_count": 45,
     "metadata": {},
     "output_type": "execute_result"
    }
   ],
   "source": [
    "df.loc[:, (df.isna().sum()>0)].isna().sum()"
   ]
  },
  {
   "cell_type": "code",
   "execution_count": 46,
   "metadata": {
    "collapsed": false,
    "execution": {
     "iopub.execute_input": "2024-10-20T10:15:24.199748Z",
     "iopub.status.busy": "2024-10-20T10:15:24.199248Z",
     "iopub.status.idle": "2024-10-20T10:15:24.204255Z",
     "shell.execute_reply": "2024-10-20T10:15:24.203530Z"
    }
   },
   "outputs": [
    {
     "name": "stdout",
     "output_type": "stream",
     "text": [
      "Abstraction, DKM_dtp, DKM_eta, DKM_gwh, DKM_irr, DKM_sdr, DKM_sre, DKM_wcr, Qdkm, makkink_pet_mm,\n",
      "mean_temp_C, obs_q_cms, pcp_mm\n"
     ]
    }
   ],
   "source": [
    "dynamic_features = dataset.dynamic_features\n",
    "dynamic_features.sort()\n",
    "print(textwrap.fill(\", \".join(dynamic_features), width=100))"
   ]
  },
  {
   "cell_type": "markdown",
   "metadata": {},
   "source": [
    "## CAMELS_CH\n",
    "\n"
   ]
  },
  {
   "cell_type": "code",
   "execution_count": 47,
   "metadata": {
    "collapsed": false,
    "execution": {
     "iopub.execute_input": "2024-10-20T10:15:24.207793Z",
     "iopub.status.busy": "2024-10-20T10:15:24.207504Z",
     "iopub.status.idle": "2024-10-20T10:15:24.304776Z",
     "shell.execute_reply": "2024-10-20T10:15:24.303264Z"
    }
   },
   "outputs": [
    {
     "name": "stdout",
     "output_type": "stream",
     "text": [
      "CAMELS_CH with 331 stations, 9 dynamic and 209 static features\n"
     ]
    }
   ],
   "source": [
    "dataset = RainfallRunoff('CAMELS_CH', path=os.path.join(gscad_path, 'CAMELS'), verbosity=0)\n",
    "print(dataset)"
   ]
  },
  {
   "cell_type": "code",
   "execution_count": 48,
   "metadata": {
    "collapsed": false,
    "execution": {
     "iopub.execute_input": "2024-10-20T10:15:24.308259Z",
     "iopub.status.busy": "2024-10-20T10:15:24.308025Z",
     "iopub.status.idle": "2024-10-20T10:15:24.364537Z",
     "shell.execute_reply": "2024-10-20T10:15:24.363103Z"
    }
   },
   "outputs": [
    {
     "name": "stdout",
     "output_type": "stream",
     "text": [
      "Q5, Q95, aap, acid_plutonic, acid_volcanic, amk, api, area, aridity, baseflow_index_landson,\n",
      "basic_plutonic, basic_volcanic, bulk_dens, bulk_dens_25, bulk_dens_5, bulk_dens_50, bulk_dens_75,\n",
      "bulk_dens_90, bulk_dens_missing, bulk_dens_skewness, carbonate_sedimentary, clay_perc, clay_perc_25,\n",
      "clay_perc_5, clay_perc_50, clay_perc_75, clay_perc_90, clay_perc_missing, clay_perc_skewness,\n",
      "coarse_fragm_perc, coarse_fragm_perc_25, coarse_fragm_perc_5, coarse_fragm_perc_50,\n",
      "coarse_fragm_perc_75, coarse_fragm_perc_90, coarse_fragm_perc_missing, coarse_fragm_perc_skewness,\n",
      "conductivity, conductivity_25, conductivity_5, conductivity_50, conductivity_75, conductivity_90,\n",
      "conductivity_missing, conductivity_skewness, country, crop_perc, dens_inhabitants, dom_land_cover,\n",
      "dup, dwood_perc, elev_max, elev_mean, elev_min, elev_percentile10, elev_percentile25,\n",
      "elev_percentile50, elev_percentile75, elev_percentile90, ewood_perc, ext_area_perc, fju,\n",
      "flat_area_perc, frac_snow, gauge_easting, gauge_elevation, gauge_lat, gauge_lon, gauge_name,\n",
      "gauge_northing, geo_log10_permeability, geo_porosity, glac_area, glac_area_neighbours, glac_mass,\n",
      "glac_vol, grass_perc, hardrock_imperm_perc, hardrock_perc, hes, hfd_mean, high_prec_dur,\n",
      "high_prec_freq, high_prec_timing, high_q_dur, high_q_freq, hp_count, hp_inst_turb, hp_max_power,\n",
      "hp_qturb, ice_geo, ice_perc, id6, ind_end_date, ind_number_of_years, ind_start_date,\n",
      "intermediate_plutonic, inwater_perc, karst_perc, loose_rock_perc, low_prec_dur, low_prec_freq,\n",
      "low_prec_timing, low_q_dur, low_q_freq, metamorphics, mixed_sedimentary, mixed_wood_perc, mpk, mps,\n",
      "n_inhabitants, null_perc, num_reservoir, omm, ood, oos, ops, organic_perc, organic_perc_25,\n",
      "organic_perc_5, organic_perc_50, organic_perc_75, organic_perc_90, organic_perc_missing,\n",
      "organic_perc_skewness, osm, p_mean, p_seasonality, pet_mean, porosity, porosity_25, porosity_5,\n",
      "porosity_50, porosity_75, porosity_90, porosity_missing, porosity_skewness, pyroclastic, q_mean,\n",
      "qua, reservoir_cap, reservoir_fs, reservoir_he, reservoir_irr, reservoir_nousedata,\n",
      "reservoir_year_first, reservoir_year_last, rock_perc, root_depth, root_depth_25, root_depth_5,\n",
      "root_depth_50, root_depth_75, root_depth_90, root_depth_missing, root_depth_skewness, runoff_ratio,\n",
      "sal, sand_perc, sand_perc_25, sand_perc_5, sand_perc_50, sand_perc_75, sand_perc_90,\n",
      "sand_perc_missing, sand_perc_skewness, scrub_perc, sign_end_date, sign_number_of_years,\n",
      "sign_start_date, siliciclastic_sedimentary, silt_perc, silt_perc_25, silt_perc_5, silt_perc_50,\n",
      "silt_perc_75, silt_perc_90, silt_perc_missing, silt_perc_skewness, slope_fdc, slope_mean,\n",
      "steep_area_perc, stream_elas, sus, tie, tot_avail_water, tot_avail_water_25, tot_avail_water_5,\n",
      "tot_avail_water_50, tot_avail_water_75, tot_avail_water_90, tot_avail_water_missing,\n",
      "tot_avail_water_skewness, ukd, unconsol_coarse_perc, unconsol_fine_perc, unconsol_imperm_perc,\n",
      "unconsol_medium_perc, unconsol_sediments, uod, ups, urban_perc, usm, water_body_name,\n",
      "water_body_type, water_geo, water_perc, wetlands_perc, zero_q_freq\n"
     ]
    }
   ],
   "source": [
    "static_features = dataset.static_features\n",
    "static_features.sort()\n",
    "print(textwrap.fill(\", \".join(static_features), width=100))"
   ]
  },
  {
   "cell_type": "code",
   "execution_count": 49,
   "metadata": {
    "collapsed": false,
    "execution": {
     "iopub.execute_input": "2024-10-20T10:15:24.369070Z",
     "iopub.status.busy": "2024-10-20T10:15:24.368840Z",
     "iopub.status.idle": "2024-10-20T10:15:24.423747Z",
     "shell.execute_reply": "2024-10-20T10:15:24.422213Z"
    }
   },
   "outputs": [
    {
     "name": "stdout",
     "output_type": "stream",
     "text": [
      "(331, 209)\n"
     ]
    }
   ],
   "source": [
    "df = dataset.fetch_static_features()\n",
    "print(df.shape)"
   ]
  },
  {
   "cell_type": "code",
   "execution_count": 50,
   "metadata": {
    "collapsed": false,
    "execution": {
     "iopub.execute_input": "2024-10-20T10:15:24.427276Z",
     "iopub.status.busy": "2024-10-20T10:15:24.427004Z",
     "iopub.status.idle": "2024-10-20T10:15:24.443817Z",
     "shell.execute_reply": "2024-10-20T10:15:24.442719Z"
    }
   },
   "outputs": [
    {
     "name": "stdout",
     "output_type": "stream",
     "text": [
      "2097\n"
     ]
    },
    {
     "data": {
      "text/plain": [
       "ind_start_date         0\n",
       "ind_end_date           0\n",
       "ind_number_of_years    0\n",
       "p_mean                 0\n",
       "pet_mean               0\n",
       "                      ..\n",
       "elev_percentile90      0\n",
       "elev_max               0\n",
       "slope_mean             0\n",
       "flat_area_perc         0\n",
       "steep_area_perc        0\n",
       "Length: 209, dtype: int64"
      ]
     },
     "execution_count": 50,
     "metadata": {},
     "output_type": "execute_result"
    }
   ],
   "source": [
    "print(df.isna().sum().sum())\n",
    "df.isna().sum()"
   ]
  },
  {
   "cell_type": "markdown",
   "metadata": {},
   "source": [
    "find those columns which have at least one NaN value\n",
    "\n"
   ]
  },
  {
   "cell_type": "code",
   "execution_count": 51,
   "metadata": {
    "collapsed": false,
    "execution": {
     "iopub.execute_input": "2024-10-20T10:15:24.447880Z",
     "iopub.status.busy": "2024-10-20T10:15:24.447632Z",
     "iopub.status.idle": "2024-10-20T10:15:24.483957Z",
     "shell.execute_reply": "2024-10-20T10:15:24.483054Z"
    }
   },
   "outputs": [
    {
     "data": {
      "text/html": [
       "<div>\n",
       "<style scoped>\n",
       "    .dataframe tbody tr th:only-of-type {\n",
       "        vertical-align: middle;\n",
       "    }\n",
       "\n",
       "    .dataframe tbody tr th {\n",
       "        vertical-align: top;\n",
       "    }\n",
       "\n",
       "    .dataframe thead th {\n",
       "        text-align: right;\n",
       "    }\n",
       "</style>\n",
       "<table border=\"1\" class=\"dataframe\">\n",
       "  <thead>\n",
       "    <tr style=\"text-align: right;\">\n",
       "      <th></th>\n",
       "      <th>p_seasonality</th>\n",
       "      <th>frac_snow</th>\n",
       "      <th>high_prec_timing</th>\n",
       "      <th>low_prec_timing</th>\n",
       "      <th>reservoir_he</th>\n",
       "      <th>reservoir_fs</th>\n",
       "      <th>reservoir_irr</th>\n",
       "      <th>reservoir_nousedata</th>\n",
       "      <th>reservoir_year_first</th>\n",
       "      <th>reservoir_year_last</th>\n",
       "      <th>...</th>\n",
       "      <th>baseflow_index_landson</th>\n",
       "      <th>hfd_mean</th>\n",
       "      <th>Q5</th>\n",
       "      <th>Q95</th>\n",
       "      <th>high_q_freq</th>\n",
       "      <th>high_q_dur</th>\n",
       "      <th>low_q_freq</th>\n",
       "      <th>low_q_dur</th>\n",
       "      <th>zero_q_freq</th>\n",
       "      <th>silt_perc_skewness</th>\n",
       "    </tr>\n",
       "    <tr>\n",
       "      <th>gauge_id</th>\n",
       "      <th></th>\n",
       "      <th></th>\n",
       "      <th></th>\n",
       "      <th></th>\n",
       "      <th></th>\n",
       "      <th></th>\n",
       "      <th></th>\n",
       "      <th></th>\n",
       "      <th></th>\n",
       "      <th></th>\n",
       "      <th></th>\n",
       "      <th></th>\n",
       "      <th></th>\n",
       "      <th></th>\n",
       "      <th></th>\n",
       "      <th></th>\n",
       "      <th></th>\n",
       "      <th></th>\n",
       "      <th></th>\n",
       "      <th></th>\n",
       "      <th></th>\n",
       "    </tr>\n",
       "  </thead>\n",
       "  <tbody>\n",
       "    <tr>\n",
       "      <th>2004</th>\n",
       "      <td>0.159</td>\n",
       "      <td>0.039</td>\n",
       "      <td>jja</td>\n",
       "      <td>son</td>\n",
       "      <td>NaN</td>\n",
       "      <td>NaN</td>\n",
       "      <td>NaN</td>\n",
       "      <td>NaN</td>\n",
       "      <td>NaN</td>\n",
       "      <td>NaN</td>\n",
       "      <td>...</td>\n",
       "      <td>NaN</td>\n",
       "      <td>NaN</td>\n",
       "      <td>NaN</td>\n",
       "      <td>NaN</td>\n",
       "      <td>NaN</td>\n",
       "      <td>NaN</td>\n",
       "      <td>NaN</td>\n",
       "      <td>NaN</td>\n",
       "      <td>NaN</td>\n",
       "      <td>-0.252</td>\n",
       "    </tr>\n",
       "    <tr>\n",
       "      <th>2007</th>\n",
       "      <td>-0.118</td>\n",
       "      <td>0.170</td>\n",
       "      <td>djf</td>\n",
       "      <td>son</td>\n",
       "      <td>NaN</td>\n",
       "      <td>NaN</td>\n",
       "      <td>NaN</td>\n",
       "      <td>NaN</td>\n",
       "      <td>NaN</td>\n",
       "      <td>NaN</td>\n",
       "      <td>...</td>\n",
       "      <td>NaN</td>\n",
       "      <td>NaN</td>\n",
       "      <td>NaN</td>\n",
       "      <td>NaN</td>\n",
       "      <td>NaN</td>\n",
       "      <td>NaN</td>\n",
       "      <td>NaN</td>\n",
       "      <td>NaN</td>\n",
       "      <td>NaN</td>\n",
       "      <td>0.635</td>\n",
       "    </tr>\n",
       "    <tr>\n",
       "      <th>2009</th>\n",
       "      <td>0.078</td>\n",
       "      <td>0.436</td>\n",
       "      <td>jja</td>\n",
       "      <td>son</td>\n",
       "      <td>0.999</td>\n",
       "      <td>0.0</td>\n",
       "      <td>0.001</td>\n",
       "      <td>0.0</td>\n",
       "      <td>1914.0</td>\n",
       "      <td>1989.0</td>\n",
       "      <td>...</td>\n",
       "      <td>0.787</td>\n",
       "      <td>243.282</td>\n",
       "      <td>1.279</td>\n",
       "      <td>6.207</td>\n",
       "      <td>0.000</td>\n",
       "      <td>0.000</td>\n",
       "      <td>0.051</td>\n",
       "      <td>2.000</td>\n",
       "      <td>0.0</td>\n",
       "      <td>0.285</td>\n",
       "    </tr>\n",
       "    <tr>\n",
       "      <th>2011</th>\n",
       "      <td>0.106</td>\n",
       "      <td>0.474</td>\n",
       "      <td>son</td>\n",
       "      <td>son</td>\n",
       "      <td>0.998</td>\n",
       "      <td>0.0</td>\n",
       "      <td>0.002</td>\n",
       "      <td>0.0</td>\n",
       "      <td>1927.0</td>\n",
       "      <td>1989.0</td>\n",
       "      <td>...</td>\n",
       "      <td>0.751</td>\n",
       "      <td>263.667</td>\n",
       "      <td>0.821</td>\n",
       "      <td>6.681</td>\n",
       "      <td>0.051</td>\n",
       "      <td>1.000</td>\n",
       "      <td>0.436</td>\n",
       "      <td>1.000</td>\n",
       "      <td>0.0</td>\n",
       "      <td>0.267</td>\n",
       "    </tr>\n",
       "    <tr>\n",
       "      <th>2014</th>\n",
       "      <td>0.279</td>\n",
       "      <td>0.223</td>\n",
       "      <td>jja</td>\n",
       "      <td>son</td>\n",
       "      <td>1.000</td>\n",
       "      <td>0.0</td>\n",
       "      <td>0.000</td>\n",
       "      <td>0.0</td>\n",
       "      <td>1910.0</td>\n",
       "      <td>2015.0</td>\n",
       "      <td>...</td>\n",
       "      <td>NaN</td>\n",
       "      <td>NaN</td>\n",
       "      <td>NaN</td>\n",
       "      <td>NaN</td>\n",
       "      <td>NaN</td>\n",
       "      <td>NaN</td>\n",
       "      <td>NaN</td>\n",
       "      <td>NaN</td>\n",
       "      <td>NaN</td>\n",
       "      <td>0.421</td>\n",
       "    </tr>\n",
       "    <tr>\n",
       "      <th>...</th>\n",
       "      <td>...</td>\n",
       "      <td>...</td>\n",
       "      <td>...</td>\n",
       "      <td>...</td>\n",
       "      <td>...</td>\n",
       "      <td>...</td>\n",
       "      <td>...</td>\n",
       "      <td>...</td>\n",
       "      <td>...</td>\n",
       "      <td>...</td>\n",
       "      <td>...</td>\n",
       "      <td>...</td>\n",
       "      <td>...</td>\n",
       "      <td>...</td>\n",
       "      <td>...</td>\n",
       "      <td>...</td>\n",
       "      <td>...</td>\n",
       "      <td>...</td>\n",
       "      <td>...</td>\n",
       "      <td>...</td>\n",
       "      <td>...</td>\n",
       "    </tr>\n",
       "    <tr>\n",
       "      <th>6007</th>\n",
       "      <td>0.228</td>\n",
       "      <td>0.379</td>\n",
       "      <td>son</td>\n",
       "      <td>djf</td>\n",
       "      <td>1.000</td>\n",
       "      <td>0.0</td>\n",
       "      <td>0.000</td>\n",
       "      <td>0.0</td>\n",
       "      <td>2010.0</td>\n",
       "      <td>2010.0</td>\n",
       "      <td>...</td>\n",
       "      <td>0.715</td>\n",
       "      <td>211.333</td>\n",
       "      <td>1.298</td>\n",
       "      <td>8.789</td>\n",
       "      <td>2.005</td>\n",
       "      <td>1.714</td>\n",
       "      <td>2.451</td>\n",
       "      <td>7.333</td>\n",
       "      <td>0.0</td>\n",
       "      <td>0.393</td>\n",
       "    </tr>\n",
       "    <tr>\n",
       "      <th>6008</th>\n",
       "      <td>NaN</td>\n",
       "      <td>NaN</td>\n",
       "      <td>son</td>\n",
       "      <td>djf</td>\n",
       "      <td>NaN</td>\n",
       "      <td>NaN</td>\n",
       "      <td>NaN</td>\n",
       "      <td>NaN</td>\n",
       "      <td>NaN</td>\n",
       "      <td>NaN</td>\n",
       "      <td>...</td>\n",
       "      <td>0.602</td>\n",
       "      <td>188.875</td>\n",
       "      <td>0.632</td>\n",
       "      <td>10.751</td>\n",
       "      <td>4.385</td>\n",
       "      <td>2.593</td>\n",
       "      <td>29.315</td>\n",
       "      <td>8.069</td>\n",
       "      <td>0.0</td>\n",
       "      <td>-0.603</td>\n",
       "    </tr>\n",
       "    <tr>\n",
       "      <th>6009</th>\n",
       "      <td>NaN</td>\n",
       "      <td>NaN</td>\n",
       "      <td>son</td>\n",
       "      <td>djf</td>\n",
       "      <td>NaN</td>\n",
       "      <td>NaN</td>\n",
       "      <td>NaN</td>\n",
       "      <td>NaN</td>\n",
       "      <td>NaN</td>\n",
       "      <td>NaN</td>\n",
       "      <td>...</td>\n",
       "      <td>0.318</td>\n",
       "      <td>191.714</td>\n",
       "      <td>0.127</td>\n",
       "      <td>15.376</td>\n",
       "      <td>26.897</td>\n",
       "      <td>2.667</td>\n",
       "      <td>155.228</td>\n",
       "      <td>12.056</td>\n",
       "      <td>0.0</td>\n",
       "      <td>0.310</td>\n",
       "    </tr>\n",
       "    <tr>\n",
       "      <th>6010</th>\n",
       "      <td>NaN</td>\n",
       "      <td>NaN</td>\n",
       "      <td>son</td>\n",
       "      <td>djf</td>\n",
       "      <td>NaN</td>\n",
       "      <td>NaN</td>\n",
       "      <td>NaN</td>\n",
       "      <td>NaN</td>\n",
       "      <td>NaN</td>\n",
       "      <td>NaN</td>\n",
       "      <td>...</td>\n",
       "      <td>0.494</td>\n",
       "      <td>198.400</td>\n",
       "      <td>1.002</td>\n",
       "      <td>12.617</td>\n",
       "      <td>12.195</td>\n",
       "      <td>2.103</td>\n",
       "      <td>4.998</td>\n",
       "      <td>3.571</td>\n",
       "      <td>0.0</td>\n",
       "      <td>-0.744</td>\n",
       "    </tr>\n",
       "    <tr>\n",
       "      <th>6011</th>\n",
       "      <td>0.272</td>\n",
       "      <td>0.110</td>\n",
       "      <td>NaN</td>\n",
       "      <td>djf</td>\n",
       "      <td>1.000</td>\n",
       "      <td>0.0</td>\n",
       "      <td>0.000</td>\n",
       "      <td>0.0</td>\n",
       "      <td>1918.0</td>\n",
       "      <td>2010.0</td>\n",
       "      <td>...</td>\n",
       "      <td>0.697</td>\n",
       "      <td>204.250</td>\n",
       "      <td>1.165</td>\n",
       "      <td>10.371</td>\n",
       "      <td>0.000</td>\n",
       "      <td>0.000</td>\n",
       "      <td>0.000</td>\n",
       "      <td>0.000</td>\n",
       "      <td>0.0</td>\n",
       "      <td>0.272</td>\n",
       "    </tr>\n",
       "  </tbody>\n",
       "</table>\n",
       "<p>331 rows × 26 columns</p>\n",
       "</div>"
      ],
      "text/plain": [
       "          p_seasonality  frac_snow high_prec_timing low_prec_timing  \\\n",
       "gauge_id                                                              \n",
       "2004              0.159      0.039              jja             son   \n",
       "2007             -0.118      0.170              djf             son   \n",
       "2009              0.078      0.436              jja             son   \n",
       "2011              0.106      0.474              son             son   \n",
       "2014              0.279      0.223              jja             son   \n",
       "...                 ...        ...              ...             ...   \n",
       "6007              0.228      0.379              son             djf   \n",
       "6008                NaN        NaN              son             djf   \n",
       "6009                NaN        NaN              son             djf   \n",
       "6010                NaN        NaN              son             djf   \n",
       "6011              0.272      0.110              NaN             djf   \n",
       "\n",
       "          reservoir_he  reservoir_fs  reservoir_irr  reservoir_nousedata  \\\n",
       "gauge_id                                                                   \n",
       "2004               NaN           NaN            NaN                  NaN   \n",
       "2007               NaN           NaN            NaN                  NaN   \n",
       "2009             0.999           0.0          0.001                  0.0   \n",
       "2011             0.998           0.0          0.002                  0.0   \n",
       "2014             1.000           0.0          0.000                  0.0   \n",
       "...                ...           ...            ...                  ...   \n",
       "6007             1.000           0.0          0.000                  0.0   \n",
       "6008               NaN           NaN            NaN                  NaN   \n",
       "6009               NaN           NaN            NaN                  NaN   \n",
       "6010               NaN           NaN            NaN                  NaN   \n",
       "6011             1.000           0.0          0.000                  0.0   \n",
       "\n",
       "          reservoir_year_first  reservoir_year_last  ...  \\\n",
       "gauge_id                                             ...   \n",
       "2004                       NaN                  NaN  ...   \n",
       "2007                       NaN                  NaN  ...   \n",
       "2009                    1914.0               1989.0  ...   \n",
       "2011                    1927.0               1989.0  ...   \n",
       "2014                    1910.0               2015.0  ...   \n",
       "...                        ...                  ...  ...   \n",
       "6007                    2010.0               2010.0  ...   \n",
       "6008                       NaN                  NaN  ...   \n",
       "6009                       NaN                  NaN  ...   \n",
       "6010                       NaN                  NaN  ...   \n",
       "6011                    1918.0               2010.0  ...   \n",
       "\n",
       "         baseflow_index_landson hfd_mean     Q5     Q95  high_q_freq  \\\n",
       "gauge_id                                                               \n",
       "2004                        NaN      NaN    NaN     NaN          NaN   \n",
       "2007                        NaN      NaN    NaN     NaN          NaN   \n",
       "2009                      0.787  243.282  1.279   6.207        0.000   \n",
       "2011                      0.751  263.667  0.821   6.681        0.051   \n",
       "2014                        NaN      NaN    NaN     NaN          NaN   \n",
       "...                         ...      ...    ...     ...          ...   \n",
       "6007                      0.715  211.333  1.298   8.789        2.005   \n",
       "6008                      0.602  188.875  0.632  10.751        4.385   \n",
       "6009                      0.318  191.714  0.127  15.376       26.897   \n",
       "6010                      0.494  198.400  1.002  12.617       12.195   \n",
       "6011                      0.697  204.250  1.165  10.371        0.000   \n",
       "\n",
       "          high_q_dur  low_q_freq  low_q_dur  zero_q_freq  silt_perc_skewness  \n",
       "gauge_id                                                                      \n",
       "2004             NaN         NaN        NaN          NaN              -0.252  \n",
       "2007             NaN         NaN        NaN          NaN               0.635  \n",
       "2009           0.000       0.051      2.000          0.0               0.285  \n",
       "2011           1.000       0.436      1.000          0.0               0.267  \n",
       "2014             NaN         NaN        NaN          NaN               0.421  \n",
       "...              ...         ...        ...          ...                 ...  \n",
       "6007           1.714       2.451      7.333          0.0               0.393  \n",
       "6008           2.593      29.315      8.069          0.0              -0.603  \n",
       "6009           2.667     155.228     12.056          0.0               0.310  \n",
       "6010           2.103       4.998      3.571          0.0              -0.744  \n",
       "6011           0.000       0.000      0.000          0.0               0.272  \n",
       "\n",
       "[331 rows x 26 columns]"
      ]
     },
     "execution_count": 51,
     "metadata": {},
     "output_type": "execute_result"
    }
   ],
   "source": [
    "df.loc[:, (df.isna().sum()>0)]"
   ]
  },
  {
   "cell_type": "code",
   "execution_count": 52,
   "metadata": {
    "collapsed": false,
    "execution": {
     "iopub.execute_input": "2024-10-20T10:15:24.487337Z",
     "iopub.status.busy": "2024-10-20T10:15:24.486985Z",
     "iopub.status.idle": "2024-10-20T10:15:24.498196Z",
     "shell.execute_reply": "2024-10-20T10:15:24.497183Z"
    }
   },
   "outputs": [
    {
     "data": {
      "text/plain": [
       "p_seasonality              54\n",
       "frac_snow                  54\n",
       "high_prec_timing           13\n",
       "low_prec_timing             5\n",
       "reservoir_he              223\n",
       "reservoir_fs              223\n",
       "reservoir_irr             223\n",
       "reservoir_nousedata       223\n",
       "reservoir_year_first      223\n",
       "reservoir_year_last       223\n",
       "sign_start_date            42\n",
       "sign_end_date              42\n",
       "q_mean                     42\n",
       "runoff_ratio               42\n",
       "stream_elas                44\n",
       "slope_fdc                  42\n",
       "baseflow_index_landson     42\n",
       "hfd_mean                   42\n",
       "Q5                         42\n",
       "Q95                        42\n",
       "high_q_freq                42\n",
       "high_q_dur                 42\n",
       "low_q_freq                 42\n",
       "low_q_dur                  42\n",
       "zero_q_freq                42\n",
       "silt_perc_skewness          1\n",
       "dtype: int64"
      ]
     },
     "execution_count": 52,
     "metadata": {},
     "output_type": "execute_result"
    }
   ],
   "source": [
    "df.loc[:, (df.isna().sum()>0)].isna().sum()"
   ]
  },
  {
   "cell_type": "code",
   "execution_count": 53,
   "metadata": {
    "collapsed": false,
    "execution": {
     "iopub.execute_input": "2024-10-20T10:15:24.501544Z",
     "iopub.status.busy": "2024-10-20T10:15:24.501302Z",
     "iopub.status.idle": "2024-10-20T10:15:24.506925Z",
     "shell.execute_reply": "2024-10-20T10:15:24.506050Z"
    }
   },
   "outputs": [
    {
     "name": "stdout",
     "output_type": "stream",
     "text": [
      "max_temp_C, mean_temp_C, min_temp_C, obs_q_cms, obs_q_mmd, pcp_mm, rel_sun_dur(%), swe_mm,\n",
      "waterlevel(m)\n"
     ]
    }
   ],
   "source": [
    "dynamic_features = dataset.dynamic_features\n",
    "dynamic_features.sort()\n",
    "print(textwrap.fill(\", \".join(dynamic_features), width=100))"
   ]
  },
  {
   "cell_type": "markdown",
   "metadata": {},
   "source": [
    "## CAMELS_DE\n",
    "\n"
   ]
  },
  {
   "cell_type": "code",
   "execution_count": 54,
   "metadata": {
    "collapsed": false,
    "execution": {
     "iopub.execute_input": "2024-10-20T10:15:24.510443Z",
     "iopub.status.busy": "2024-10-20T10:15:24.510201Z",
     "iopub.status.idle": "2024-10-20T10:15:24.651220Z",
     "shell.execute_reply": "2024-10-20T10:15:24.650275Z"
    }
   },
   "outputs": [
    {
     "name": "stdout",
     "output_type": "stream",
     "text": [
      "CAMELS_DE with 1555 stations, 21 dynamic and 111 static features\n"
     ]
    }
   ],
   "source": [
    "dataset = RainfallRunoff('CAMELS_DE', path=os.path.join(gscad_path, 'CAMELS'), verbosity=0)\n",
    "print(dataset)"
   ]
  },
  {
   "cell_type": "code",
   "execution_count": 55,
   "metadata": {
    "collapsed": false,
    "execution": {
     "iopub.execute_input": "2024-10-20T10:15:24.654080Z",
     "iopub.status.busy": "2024-10-20T10:15:24.653760Z",
     "iopub.status.idle": "2024-10-20T10:15:24.710396Z",
     "shell.execute_reply": "2024-10-20T10:15:24.709428Z"
    }
   },
   "outputs": [
    {
     "name": "stdout",
     "output_type": "stream",
     "text": [
      "NSE_conceptual, NSE_lstm, Q5, Q95, agricultural_areas_perc, aquifer_aquitard_mixed_perc,\n",
      "aquifer_perc, aquitard_perc, area, area_metadata, artificial_surfaces_perc,\n",
      "bulk_density_0_30cm_mean, bulk_density_100_200cm_mean, bulk_density_30_100cm_mean,\n",
      "cavity_fissure_karst_perc, cavity_fissure_perc, cavity_fissure_pores_perc, cavity_pores_perc,\n",
      "clay_0_30cm_mean, clay_100_200cm_mean, clay_30_100cm_mean, coarse_fragments_0_30cm_mean,\n",
      "coarse_fragments_100_200cm_mean, coarse_fragments_30_100cm_mean, consolidation_solid_rock_perc,\n",
      "consolidation_unconsolidated_rock_perc, dams_names, dams_num, dams_purposes, dams_river_names,\n",
      "dams_total_lake_area, dams_total_lake_volume, dams_year_first, dams_year_last, elev_5, elev_50,\n",
      "elev_95, elev_max, elev_mean, elev_min, federal_state, flow_perc_complete, flow_period_end,\n",
      "flow_period_start, forests_and_seminatural_areas_perc, frac_snow, gauge_easting, gauge_elev,\n",
      "gauge_elev_metadata, gauge_lat, gauge_lon, gauge_name, gauge_northing,\n",
      "geochemical_rocktype_anthropogenically_modified_through_filling_perc,\n",
      "geochemical_rocktype_carbonatic_perc, geochemical_rocktype_halitic_perc,\n",
      "geochemical_rocktype_silicate_carbonatic_perc,\n",
      "geochemical_rocktype_silicate_organic_components_perc, geochemical_rocktype_silicate_perc,\n",
      "geochemical_rocktype_sulfatic_halitic_perc, geochemical_rocktype_sulfatic_perc, hfd_mean,\n",
      "high_prec_dur, high_prec_freq, high_prec_timing, high_q_dur, high_q_freq, kf_extremely_low_perc,\n",
      "kf_high_perc, kf_highly_variable_perc, kf_low_perc, kf_low_to_extremely_low_perc, kf_medium_perc,\n",
      "kf_medium_to_moderate_perc, kf_moderate_perc, kf_moderate_to_low_perc, kf_very_high_perc,\n",
      "kf_very_high_to_high_perc, kf_very_low_perc, low_prec_dur, low_prec_freq, low_prec_timing,\n",
      "low_q_dur, low_q_freq, no_data_perc, p_mean, p_seasonality, provider_id, q_mean,\n",
      "rocktype_magmatite_perc, rocktype_metamorphite_perc, rocktype_sediment_perc, runoff_ratio,\n",
      "sand_0_30cm_mean, sand_100_200cm_mean, sand_30_100cm_mean, silt_0_30cm_mean, silt_100_200cm_mean,\n",
      "silt_30_100cm_mean, slope_fdc, soil_organic_carbon_0_30cm_mean, soil_organic_carbon_100_200cm_mean,\n",
      "soil_organic_carbon_30_100cm_mean, testing_perc_complete, training_perc_complete,\n",
      "validation_perc_complete, water_bodies_perc, water_body_name, waterbody_perc, wetlands_perc,\n",
      "zero_q_freq\n"
     ]
    }
   ],
   "source": [
    "static_features = dataset.static_features\n",
    "static_features.sort()\n",
    "print(textwrap.fill(\", \".join(static_features), width=100))"
   ]
  },
  {
   "cell_type": "code",
   "execution_count": 56,
   "metadata": {
    "collapsed": false,
    "execution": {
     "iopub.execute_input": "2024-10-20T10:15:24.714119Z",
     "iopub.status.busy": "2024-10-20T10:15:24.713791Z",
     "iopub.status.idle": "2024-10-20T10:15:24.792248Z",
     "shell.execute_reply": "2024-10-20T10:15:24.790871Z"
    }
   },
   "outputs": [
    {
     "name": "stdout",
     "output_type": "stream",
     "text": [
      "(1555, 111)\n"
     ]
    }
   ],
   "source": [
    "df = dataset.fetch_static_features()\n",
    "print(df.shape)"
   ]
  },
  {
   "cell_type": "code",
   "execution_count": 57,
   "metadata": {
    "collapsed": false,
    "execution": {
     "iopub.execute_input": "2024-10-20T10:15:24.796430Z",
     "iopub.status.busy": "2024-10-20T10:15:24.796214Z",
     "iopub.status.idle": "2024-10-20T10:15:24.816793Z",
     "shell.execute_reply": "2024-10-20T10:15:24.816106Z"
    }
   },
   "outputs": [
    {
     "name": "stdout",
     "output_type": "stream",
     "text": [
      "6862\n"
     ]
    },
    {
     "data": {
      "text/plain": [
       "p_mean            0\n",
       "p_seasonality     0\n",
       "frac_snow         0\n",
       "high_prec_freq    0\n",
       "high_prec_dur     0\n",
       "                 ..\n",
       "elev_min          0\n",
       "elev_5            0\n",
       "elev_50           0\n",
       "elev_95           0\n",
       "elev_max          0\n",
       "Length: 111, dtype: int64"
      ]
     },
     "execution_count": 57,
     "metadata": {},
     "output_type": "execute_result"
    }
   ],
   "source": [
    "print(df.isna().sum().sum())\n",
    "df.isna().sum()"
   ]
  },
  {
   "cell_type": "markdown",
   "metadata": {},
   "source": [
    "find those columns which have at least one NaN value\n",
    "\n"
   ]
  },
  {
   "cell_type": "code",
   "execution_count": 58,
   "metadata": {
    "collapsed": false,
    "execution": {
     "iopub.execute_input": "2024-10-20T10:15:24.820020Z",
     "iopub.status.busy": "2024-10-20T10:15:24.819673Z",
     "iopub.status.idle": "2024-10-20T10:15:24.847834Z",
     "shell.execute_reply": "2024-10-20T10:15:24.846672Z"
    }
   },
   "outputs": [
    {
     "data": {
      "text/html": [
       "<div>\n",
       "<style scoped>\n",
       "    .dataframe tbody tr th:only-of-type {\n",
       "        vertical-align: middle;\n",
       "    }\n",
       "\n",
       "    .dataframe tbody tr th {\n",
       "        vertical-align: top;\n",
       "    }\n",
       "\n",
       "    .dataframe thead th {\n",
       "        text-align: right;\n",
       "    }\n",
       "</style>\n",
       "<table border=\"1\" class=\"dataframe\">\n",
       "  <thead>\n",
       "    <tr style=\"text-align: right;\">\n",
       "      <th></th>\n",
       "      <th>high_prec_timing</th>\n",
       "      <th>low_prec_timing</th>\n",
       "      <th>dams_names</th>\n",
       "      <th>dams_river_names</th>\n",
       "      <th>dams_year_first</th>\n",
       "      <th>dams_year_last</th>\n",
       "      <th>dams_total_lake_area</th>\n",
       "      <th>dams_total_lake_volume</th>\n",
       "      <th>dams_purposes</th>\n",
       "      <th>NSE_lstm</th>\n",
       "      <th>NSE_conceptual</th>\n",
       "      <th>gauge_elev_metadata</th>\n",
       "    </tr>\n",
       "    <tr>\n",
       "      <th>gauge_id</th>\n",
       "      <th></th>\n",
       "      <th></th>\n",
       "      <th></th>\n",
       "      <th></th>\n",
       "      <th></th>\n",
       "      <th></th>\n",
       "      <th></th>\n",
       "      <th></th>\n",
       "      <th></th>\n",
       "      <th></th>\n",
       "      <th></th>\n",
       "      <th></th>\n",
       "    </tr>\n",
       "  </thead>\n",
       "  <tbody>\n",
       "    <tr>\n",
       "      <th>DEA11180</th>\n",
       "      <td>jja</td>\n",
       "      <td>mam</td>\n",
       "      <td>Aabachtalsperre|Borchen Hochwasserrückhaltebec...</td>\n",
       "      <td>Aabookach (Afte)|Afte bzw. Wiele|Altenau (Alme...</td>\n",
       "      <td>1930.0</td>\n",
       "      <td>1996.0</td>\n",
       "      <td>10.28</td>\n",
       "      <td>71.90</td>\n",
       "      <td>Water supply|Recreational use|Flood control</td>\n",
       "      <td>0.929</td>\n",
       "      <td>0.854</td>\n",
       "      <td>30.86</td>\n",
       "    </tr>\n",
       "    <tr>\n",
       "      <th>DEE10940</th>\n",
       "      <td>jja</td>\n",
       "      <td>mam</td>\n",
       "      <td>NaN</td>\n",
       "      <td>NaN</td>\n",
       "      <td>NaN</td>\n",
       "      <td>NaN</td>\n",
       "      <td>0.00</td>\n",
       "      <td>0.00</td>\n",
       "      <td>NaN</td>\n",
       "      <td>0.094</td>\n",
       "      <td>0.140</td>\n",
       "      <td>69.77</td>\n",
       "    </tr>\n",
       "    <tr>\n",
       "      <th>DE911160</th>\n",
       "      <td>jja</td>\n",
       "      <td>mam</td>\n",
       "      <td>NaN</td>\n",
       "      <td>NaN</td>\n",
       "      <td>NaN</td>\n",
       "      <td>NaN</td>\n",
       "      <td>0.00</td>\n",
       "      <td>0.00</td>\n",
       "      <td>NaN</td>\n",
       "      <td>0.841</td>\n",
       "      <td>0.844</td>\n",
       "      <td>NaN</td>\n",
       "    </tr>\n",
       "    <tr>\n",
       "      <th>DE212640</th>\n",
       "      <td>jja</td>\n",
       "      <td>son</td>\n",
       "      <td>NaN</td>\n",
       "      <td>NaN</td>\n",
       "      <td>NaN</td>\n",
       "      <td>NaN</td>\n",
       "      <td>0.00</td>\n",
       "      <td>0.00</td>\n",
       "      <td>NaN</td>\n",
       "      <td>0.727</td>\n",
       "      <td>0.620</td>\n",
       "      <td>326.68</td>\n",
       "    </tr>\n",
       "    <tr>\n",
       "      <th>DE112130</th>\n",
       "      <td>mam</td>\n",
       "      <td>mam</td>\n",
       "      <td>NaN</td>\n",
       "      <td>NaN</td>\n",
       "      <td>NaN</td>\n",
       "      <td>NaN</td>\n",
       "      <td>0.00</td>\n",
       "      <td>0.00</td>\n",
       "      <td>NaN</td>\n",
       "      <td>0.688</td>\n",
       "      <td>0.605</td>\n",
       "      <td>105.48</td>\n",
       "    </tr>\n",
       "    <tr>\n",
       "      <th>...</th>\n",
       "      <td>...</td>\n",
       "      <td>...</td>\n",
       "      <td>...</td>\n",
       "      <td>...</td>\n",
       "      <td>...</td>\n",
       "      <td>...</td>\n",
       "      <td>...</td>\n",
       "      <td>...</td>\n",
       "      <td>...</td>\n",
       "      <td>...</td>\n",
       "      <td>...</td>\n",
       "      <td>...</td>\n",
       "    </tr>\n",
       "    <tr>\n",
       "      <th>DEF13210</th>\n",
       "      <td>jja</td>\n",
       "      <td>mam</td>\n",
       "      <td>NaN</td>\n",
       "      <td>NaN</td>\n",
       "      <td>NaN</td>\n",
       "      <td>NaN</td>\n",
       "      <td>0.00</td>\n",
       "      <td>0.00</td>\n",
       "      <td>NaN</td>\n",
       "      <td>0.917</td>\n",
       "      <td>NaN</td>\n",
       "      <td>NaN</td>\n",
       "    </tr>\n",
       "    <tr>\n",
       "      <th>DEF10460</th>\n",
       "      <td>jja</td>\n",
       "      <td>mam</td>\n",
       "      <td>NaN</td>\n",
       "      <td>NaN</td>\n",
       "      <td>NaN</td>\n",
       "      <td>NaN</td>\n",
       "      <td>0.00</td>\n",
       "      <td>0.00</td>\n",
       "      <td>NaN</td>\n",
       "      <td>0.574</td>\n",
       "      <td>0.355</td>\n",
       "      <td>NaN</td>\n",
       "    </tr>\n",
       "    <tr>\n",
       "      <th>DE912320</th>\n",
       "      <td>jja</td>\n",
       "      <td>mam</td>\n",
       "      <td>NaN</td>\n",
       "      <td>NaN</td>\n",
       "      <td>NaN</td>\n",
       "      <td>NaN</td>\n",
       "      <td>0.00</td>\n",
       "      <td>0.00</td>\n",
       "      <td>NaN</td>\n",
       "      <td>0.770</td>\n",
       "      <td>0.589</td>\n",
       "      <td>NaN</td>\n",
       "    </tr>\n",
       "    <tr>\n",
       "      <th>DEA11090</th>\n",
       "      <td>jja</td>\n",
       "      <td>mam</td>\n",
       "      <td>Aabachtalsperre|Borchen Hochwasserrückhaltebec...</td>\n",
       "      <td>Afte bzw. Wiele|Aabookach (Afte)|Altenau (Alme...</td>\n",
       "      <td>1974.0</td>\n",
       "      <td>1996.0</td>\n",
       "      <td>5.37</td>\n",
       "      <td>39.41</td>\n",
       "      <td>Water supply|Flood control</td>\n",
       "      <td>0.928</td>\n",
       "      <td>0.884</td>\n",
       "      <td>63.64</td>\n",
       "    </tr>\n",
       "    <tr>\n",
       "      <th>DE213310</th>\n",
       "      <td>jja</td>\n",
       "      <td>son</td>\n",
       "      <td>NaN</td>\n",
       "      <td>NaN</td>\n",
       "      <td>NaN</td>\n",
       "      <td>NaN</td>\n",
       "      <td>0.00</td>\n",
       "      <td>0.00</td>\n",
       "      <td>NaN</td>\n",
       "      <td>0.637</td>\n",
       "      <td>0.512</td>\n",
       "      <td>542.11</td>\n",
       "    </tr>\n",
       "  </tbody>\n",
       "</table>\n",
       "<p>1555 rows × 12 columns</p>\n",
       "</div>"
      ],
      "text/plain": [
       "         high_prec_timing low_prec_timing  \\\n",
       "gauge_id                                    \n",
       "DEA11180              jja             mam   \n",
       "DEE10940              jja             mam   \n",
       "DE911160              jja             mam   \n",
       "DE212640              jja             son   \n",
       "DE112130              mam             mam   \n",
       "...                   ...             ...   \n",
       "DEF13210              jja             mam   \n",
       "DEF10460              jja             mam   \n",
       "DE912320              jja             mam   \n",
       "DEA11090              jja             mam   \n",
       "DE213310              jja             son   \n",
       "\n",
       "                                                 dams_names  \\\n",
       "gauge_id                                                      \n",
       "DEA11180  Aabachtalsperre|Borchen Hochwasserrückhaltebec...   \n",
       "DEE10940                                                NaN   \n",
       "DE911160                                                NaN   \n",
       "DE212640                                                NaN   \n",
       "DE112130                                                NaN   \n",
       "...                                                     ...   \n",
       "DEF13210                                                NaN   \n",
       "DEF10460                                                NaN   \n",
       "DE912320                                                NaN   \n",
       "DEA11090  Aabachtalsperre|Borchen Hochwasserrückhaltebec...   \n",
       "DE213310                                                NaN   \n",
       "\n",
       "                                           dams_river_names  dams_year_first  \\\n",
       "gauge_id                                                                       \n",
       "DEA11180  Aabookach (Afte)|Afte bzw. Wiele|Altenau (Alme...           1930.0   \n",
       "DEE10940                                                NaN              NaN   \n",
       "DE911160                                                NaN              NaN   \n",
       "DE212640                                                NaN              NaN   \n",
       "DE112130                                                NaN              NaN   \n",
       "...                                                     ...              ...   \n",
       "DEF13210                                                NaN              NaN   \n",
       "DEF10460                                                NaN              NaN   \n",
       "DE912320                                                NaN              NaN   \n",
       "DEA11090  Afte bzw. Wiele|Aabookach (Afte)|Altenau (Alme...           1974.0   \n",
       "DE213310                                                NaN              NaN   \n",
       "\n",
       "          dams_year_last  dams_total_lake_area  dams_total_lake_volume  \\\n",
       "gauge_id                                                                 \n",
       "DEA11180          1996.0                 10.28                   71.90   \n",
       "DEE10940             NaN                  0.00                    0.00   \n",
       "DE911160             NaN                  0.00                    0.00   \n",
       "DE212640             NaN                  0.00                    0.00   \n",
       "DE112130             NaN                  0.00                    0.00   \n",
       "...                  ...                   ...                     ...   \n",
       "DEF13210             NaN                  0.00                    0.00   \n",
       "DEF10460             NaN                  0.00                    0.00   \n",
       "DE912320             NaN                  0.00                    0.00   \n",
       "DEA11090          1996.0                  5.37                   39.41   \n",
       "DE213310             NaN                  0.00                    0.00   \n",
       "\n",
       "                                        dams_purposes  NSE_lstm  \\\n",
       "gauge_id                                                          \n",
       "DEA11180  Water supply|Recreational use|Flood control     0.929   \n",
       "DEE10940                                          NaN     0.094   \n",
       "DE911160                                          NaN     0.841   \n",
       "DE212640                                          NaN     0.727   \n",
       "DE112130                                          NaN     0.688   \n",
       "...                                               ...       ...   \n",
       "DEF13210                                          NaN     0.917   \n",
       "DEF10460                                          NaN     0.574   \n",
       "DE912320                                          NaN     0.770   \n",
       "DEA11090                   Water supply|Flood control     0.928   \n",
       "DE213310                                          NaN     0.637   \n",
       "\n",
       "          NSE_conceptual  gauge_elev_metadata  \n",
       "gauge_id                                       \n",
       "DEA11180           0.854                30.86  \n",
       "DEE10940           0.140                69.77  \n",
       "DE911160           0.844                  NaN  \n",
       "DE212640           0.620               326.68  \n",
       "DE112130           0.605               105.48  \n",
       "...                  ...                  ...  \n",
       "DEF13210             NaN                  NaN  \n",
       "DEF10460           0.355                  NaN  \n",
       "DE912320           0.589                  NaN  \n",
       "DEA11090           0.884                63.64  \n",
       "DE213310           0.512               542.11  \n",
       "\n",
       "[1555 rows x 12 columns]"
      ]
     },
     "execution_count": 58,
     "metadata": {},
     "output_type": "execute_result"
    }
   ],
   "source": [
    "df.loc[:, (df.isna().sum()>0)]"
   ]
  },
  {
   "cell_type": "code",
   "execution_count": 59,
   "metadata": {
    "collapsed": false,
    "execution": {
     "iopub.execute_input": "2024-10-20T10:15:24.851623Z",
     "iopub.status.busy": "2024-10-20T10:15:24.851296Z",
     "iopub.status.idle": "2024-10-20T10:15:24.863838Z",
     "shell.execute_reply": "2024-10-20T10:15:24.863101Z"
    }
   },
   "outputs": [
    {
     "data": {
      "text/plain": [
       "high_prec_timing             8\n",
       "low_prec_timing              3\n",
       "dams_names                1240\n",
       "dams_river_names          1240\n",
       "dams_year_first           1251\n",
       "dams_year_last            1251\n",
       "dams_total_lake_area        41\n",
       "dams_total_lake_volume       2\n",
       "dams_purposes             1241\n",
       "NSE_lstm                    43\n",
       "NSE_conceptual             157\n",
       "gauge_elev_metadata        385\n",
       "dtype: int64"
      ]
     },
     "execution_count": 59,
     "metadata": {},
     "output_type": "execute_result"
    }
   ],
   "source": [
    "df.loc[:, (df.isna().sum()>0)].isna().sum()"
   ]
  },
  {
   "cell_type": "code",
   "execution_count": 60,
   "metadata": {
    "collapsed": false,
    "execution": {
     "iopub.execute_input": "2024-10-20T10:15:24.867176Z",
     "iopub.status.busy": "2024-10-20T10:15:24.866800Z",
     "iopub.status.idle": "2024-10-20T10:15:24.943148Z",
     "shell.execute_reply": "2024-10-20T10:15:24.942056Z"
    }
   },
   "outputs": [
    {
     "name": "stdout",
     "output_type": "stream",
     "text": [
      "max_pcp_mm, max_rh_%, max_temp_C, mean_pcp_mm, mean_rh_%, mean_temp_C, median_pcp_mm, median_rh_%,\n",
      "min_pcp_mm, min_rh_%, min_temp_C, obs_q_cms, obs_q_mmd, radiation_global_max, radiation_global_mean,\n",
      "radiation_global_median, radiation_global_min, radiation_global_stdev, std_pcp_mm, std_rh_%,\n",
      "water_level\n"
     ]
    }
   ],
   "source": [
    "dynamic_features = dataset.dynamic_features\n",
    "dynamic_features.sort()\n",
    "print(textwrap.fill(\", \".join(dynamic_features), width=100))"
   ]
  },
  {
   "cell_type": "markdown",
   "metadata": {},
   "source": [
    "## CAMELS_SE\n",
    "\n"
   ]
  },
  {
   "cell_type": "code",
   "execution_count": 61,
   "metadata": {
    "collapsed": false,
    "execution": {
     "iopub.execute_input": "2024-10-20T10:15:24.946373Z",
     "iopub.status.busy": "2024-10-20T10:15:24.946044Z",
     "iopub.status.idle": "2024-10-20T10:15:24.988021Z",
     "shell.execute_reply": "2024-10-20T10:15:24.986565Z"
    }
   },
   "outputs": [
    {
     "name": "stdout",
     "output_type": "stream",
     "text": [
      "CAMELS_SE with 50 stations, 4 dynamic and 76 static features\n"
     ]
    }
   ],
   "source": [
    "dataset = RainfallRunoff('CAMELS_SE', path=os.path.join(gscad_path, 'CAMELS'), verbosity=0)\n",
    "print(dataset)"
   ]
  },
  {
   "cell_type": "code",
   "execution_count": 62,
   "metadata": {
    "collapsed": false,
    "execution": {
     "iopub.execute_input": "2024-10-20T10:15:24.992279Z",
     "iopub.status.busy": "2024-10-20T10:15:24.991917Z",
     "iopub.status.idle": "2024-10-20T10:15:24.997429Z",
     "shell.execute_reply": "2024-10-20T10:15:24.996562Z"
    }
   },
   "outputs": [
    {
     "name": "stdout",
     "output_type": "stream",
     "text": [
      "Agriculture_percentage, Area_km2, Bedrock_percentage_sc, Clayey_till_and_clay_till_percentage_sc,\n",
      "DOR, Elevation_mabsl, Forest_percentage, Glacier_percentage_sc, Glaciers_percentage,\n",
      "Glaciofluvial_sediment_percentage_sc, Latitude_WGS84, Longitude_WGS84, Name, Open_land_percentage,\n",
      "Peat_percentage_sc, Pmean_mm_year, Postglacial_sand_and_gravel_percentage_sc, RegVol_m3,\n",
      "S01_Qmean_CNP_61_90, S01_Qmean_CNP_91_20, S01_Qmean_hs, S02_Qcoeff_CNP_61_90, S02_Qcoeff_CNP_91_20,\n",
      "S02_Qcoeff_hs, S03_COM_CNP_61_90, S03_COM_CNP_91_20, S03_COM_hs, S04_SPD_CNP_61_90,\n",
      "S04_SPD_CNP_91_20, S04_SPD_hs, S05_Qmean_spring_CNP_61_90, S05_Qmean_spring_CNP_91_20,\n",
      "S05_Qmean_spring_hs, S06_Qmean_summer_CNP_61_90, S06_Qmean_summer_CNP_91_20, S06_Qmean_summer_hs,\n",
      "S07_Qmean_autumn_CNP_61_90, S07_Qmean_autumn_CNP_91_20, S07_Qmean_autumn_hs,\n",
      "S08_Qmean_winter_CNP_61_90, S08_Qmean_winter_CNP_91_20, S08_Qmean_winter_hs, S09_LFfreq_CNP_61_90,\n",
      "S09_LFfreq_CNP_91_20, S09_LFfreq_hs, S10_T_minQ_d30_CNP_61_90, S10_T_minQ_d30_CNP_91_20,\n",
      "S10_T_minQ_d30_hs, S11_minQ_d7_CNP_61_90, S11_minQ_d7_CNP_91_20, S11_minQ_d7_hs,\n",
      "S12_minQ_d30_CNP_61_90, S12_minQ_d30_CNP_91_20, S12_minQ_d30_hs, S13_HFfreq_CNP_61_90,\n",
      "S13_HFfreq_CNP_91_20, S13_HFfreq_hs, S14_T_maxQ_d1_CNP_61_90, S14_T_maxQ_d1_CNP_91_20,\n",
      "S14_T_maxQ_d1_hs, S15_maxQ_d30_CNP_61_90, S15_maxQ_d30_CNP_91_20, S15_maxQ_d30_hs,\n",
      "S16_maxQ_d1_CNP_61_90, S16_maxQ_d1_CNP_91_20, S16_maxQ_d1_hs, Shrubs_and_grassland_percentage,\n",
      "Silt_percentage_sc, Slope_mean_degree, Till_and_weathered_deposit_percentage_sc, Till_percentage_sc,\n",
      "Tmean_C, Urban_percentage, Water_percentage, Water_percentage_sc, Wetlands_percentage\n"
     ]
    }
   ],
   "source": [
    "static_features = dataset.static_features\n",
    "static_features.sort()\n",
    "print(textwrap.fill(\", \".join(static_features), width=100))"
   ]
  },
  {
   "cell_type": "code",
   "execution_count": 63,
   "metadata": {
    "collapsed": false,
    "execution": {
     "iopub.execute_input": "2024-10-20T10:15:25.001325Z",
     "iopub.status.busy": "2024-10-20T10:15:25.000639Z",
     "iopub.status.idle": "2024-10-20T10:15:25.026631Z",
     "shell.execute_reply": "2024-10-20T10:15:25.025544Z"
    }
   },
   "outputs": [
    {
     "name": "stdout",
     "output_type": "stream",
     "text": [
      "(50, 76)\n"
     ]
    }
   ],
   "source": [
    "df = dataset.fetch_static_features()\n",
    "print(df.shape)"
   ]
  },
  {
   "cell_type": "code",
   "execution_count": 64,
   "metadata": {
    "collapsed": false,
    "execution": {
     "iopub.execute_input": "2024-10-20T10:15:25.029322Z",
     "iopub.status.busy": "2024-10-20T10:15:25.028985Z",
     "iopub.status.idle": "2024-10-20T10:15:25.038687Z",
     "shell.execute_reply": "2024-10-20T10:15:25.037528Z"
    }
   },
   "outputs": [
    {
     "name": "stdout",
     "output_type": "stream",
     "text": [
      "0\n"
     ]
    },
    {
     "data": {
      "text/plain": [
       "Agriculture_percentage                     0\n",
       "Area_km2                                   0\n",
       "Bedrock_percentage_sc                      0\n",
       "Clayey_till_and_clay_till_percentage_sc    0\n",
       "DOR                                        0\n",
       "                                          ..\n",
       "Tmean_C                                    0\n",
       "Urban_percentage                           0\n",
       "Water_percentage                           0\n",
       "Water_percentage_sc                        0\n",
       "Wetlands_percentage                        0\n",
       "Length: 76, dtype: int64"
      ]
     },
     "execution_count": 64,
     "metadata": {},
     "output_type": "execute_result"
    }
   ],
   "source": [
    "print(df.isna().sum().sum())\n",
    "df.isna().sum()"
   ]
  },
  {
   "cell_type": "markdown",
   "metadata": {},
   "source": [
    "find those columns which have at least one NaN value\n",
    "\n"
   ]
  },
  {
   "cell_type": "code",
   "execution_count": 65,
   "metadata": {
    "collapsed": false,
    "execution": {
     "iopub.execute_input": "2024-10-20T10:15:25.042531Z",
     "iopub.status.busy": "2024-10-20T10:15:25.041997Z",
     "iopub.status.idle": "2024-10-20T10:15:25.048413Z",
     "shell.execute_reply": "2024-10-20T10:15:25.047683Z"
    }
   },
   "outputs": [
    {
     "name": "stdout",
     "output_type": "stream",
     "text": [
      "No NaN values\n"
     ]
    }
   ],
   "source": [
    "if df.isna().sum().sum()>0:\n",
    "    df.loc[:, (df.isna().sum()>0)]\n",
    "else:\n",
    "    print('No NaN values')"
   ]
  },
  {
   "cell_type": "code",
   "execution_count": 66,
   "metadata": {
    "collapsed": false,
    "execution": {
     "iopub.execute_input": "2024-10-20T10:15:25.052036Z",
     "iopub.status.busy": "2024-10-20T10:15:25.051691Z",
     "iopub.status.idle": "2024-10-20T10:15:25.058942Z",
     "shell.execute_reply": "2024-10-20T10:15:25.058276Z"
    }
   },
   "outputs": [
    {
     "data": {
      "text/plain": [
       "Series([], dtype: float64)"
      ]
     },
     "execution_count": 66,
     "metadata": {},
     "output_type": "execute_result"
    }
   ],
   "source": [
    "df.loc[:, (df.isna().sum()>0)].isna().sum()"
   ]
  },
  {
   "cell_type": "code",
   "execution_count": 67,
   "metadata": {
    "collapsed": false,
    "execution": {
     "iopub.execute_input": "2024-10-20T10:15:25.062616Z",
     "iopub.status.busy": "2024-10-20T10:15:25.062325Z",
     "iopub.status.idle": "2024-10-20T10:15:25.067426Z",
     "shell.execute_reply": "2024-10-20T10:15:25.066839Z"
    }
   },
   "outputs": [
    {
     "name": "stdout",
     "output_type": "stream",
     "text": [
      "mean_temp_C, obs_q_cms, obs_q_mmd, pcp_mm\n"
     ]
    }
   ],
   "source": [
    "dynamic_features = dataset.dynamic_features\n",
    "dynamic_features.sort()\n",
    "print(textwrap.fill(\", \".join(dynamic_features), width=100))"
   ]
  },
  {
   "cell_type": "markdown",
   "metadata": {},
   "source": [
    "## CAMELS_IND\n",
    "\n"
   ]
  },
  {
   "cell_type": "code",
   "execution_count": 68,
   "metadata": {
    "collapsed": false,
    "execution": {
     "iopub.execute_input": "2024-10-20T10:15:25.071079Z",
     "iopub.status.busy": "2024-10-20T10:15:25.070711Z",
     "iopub.status.idle": "2024-10-20T10:15:25.382028Z",
     "shell.execute_reply": "2024-10-20T10:15:25.381209Z"
    }
   },
   "outputs": [
    {
     "name": "stdout",
     "output_type": "stream",
     "text": [
      "CAMELS_IND with 472 stations, 20 dynamic and 210 static features\n"
     ]
    }
   ],
   "source": [
    "dataset = RainfallRunoff('CAMELS_IND', path=os.path.join(gscad_path, 'CAMELS'), verbosity=0)\n",
    "print(dataset)"
   ]
  },
  {
   "cell_type": "code",
   "execution_count": 69,
   "metadata": {
    "collapsed": false,
    "execution": {
     "iopub.execute_input": "2024-10-20T10:15:25.385329Z",
     "iopub.status.busy": "2024-10-20T10:15:25.384967Z",
     "iopub.status.idle": "2024-10-20T10:15:25.392047Z",
     "shell.execute_reply": "2024-10-20T10:15:25.391050Z"
    }
   },
   "outputs": [
    {
     "name": "stdout",
     "output_type": "stream",
     "text": [
      "aet_gleam_mean, ai_mean, annual_max_1day, annual_max_30day, annual_max_3day, annual_max_7day,\n",
      "annual_max_90day, annual_min_7day, annual_q, aridity_p_pet, aridity_pet_aet, asynchronicity,\n",
      "bare_frac, bfi, built_area_frac, bulkdens_sub_major, bulkdens_sub_mean, bulkdens_top_major,\n",
      "bulkdense_top_mean, carb_rocks_frac, cen_time, clay_frac_sub, clay_frac_top, crops_frac,\n",
      "crops_frac_1985, crops_frac_1995, crops_frac_2005, cv_apr_flow, cv_aug_flow, cv_dec_flow,\n",
      "cv_feb_flow, cv_jan_flow, cv_jul_flow, cv_jun_flow, cv_mar_flow, cv_may_flow, cv_nov_flow,\n",
      "cv_oct_flow, cv_sep_flow, cwc_area, cwc_lat, cwc_lon, cwc_river, cwc_site_name, dom_land_cover,\n",
      "dom_land_cover_frac, doy_max_flow, doy_max_flow_7, doy_min_flow, doy_min_flow_7, drinking_frac,\n",
      "dspbar, elev_max, elev_mean, elev_median, elev_min, evap_canopy_anum, evap_canopy_max,\n",
      "evap_canopy_mean, evap_canopy_min, evap_surface_anum, evap_surface_max, evap_surface_mean,\n",
      "evap_surface_min, fall_days, fall_rate_mean, fall_rate_median, first_dam_year, flood_frac,\n",
      "flooded_veg_frac, flow_availability, freq_q_high, freq_q_low, gauge_elevation, geol_class_1st,\n",
      "geol_class_1st_frac, geol_class_2nd, geol_class_2nd_frac, geol_permeability, geol_porosity,\n",
      "ghi_area, ghi_group, ghi_lat, ghi_lon, ghi_stn_id, gini_flow, gravel_frac_sub, gravel_frac_top,\n",
      "high_prec_dur, high_prec_freq, high_prec_timing, hsg_major, hydroelec_frac, irrigation_frac,\n",
      "lai_diff, lai_max, lai_mean, lai_min, last_dam_year, low_prec_dur, low_prec_freq, low_prec_timing,\n",
      "max_high_prec_dur, max_low_prec_dur, mean_anum_flow, mean_apr_flow, mean_atmn_flow, mean_aug_flow,\n",
      "mean_dec_flow, mean_feb_flow, mean_jan_flow, mean_jul_flow, mean_jun_flow, mean_mar_flow,\n",
      "mean_may_flow, mean_nov_flow, mean_oct_flow, mean_sep_flow, mean_sumr_flow, mean_swmn_flow,\n",
      "mean_wint_flow, month_1day_max, month_1day_min, n_dams, navigation_frac, num_dams, num_hyd_alt,\n",
      "org_carb_sub_major, org_carb_sub_mean, org_carb_top_major, org_carb_top_mean, organic_frac_sub,\n",
      "organic_frac_top, overflow_frac, p_annual_variability, p_max, p_mean, p_mean_anum,\n",
      "p_monthly_variability, p_unif, pet_gleam_mean, pet_max, pet_mean, pet_mean_anum, pet_min,\n",
      "pop_density_2000, pop_density_2005, pop_density_2010, pop_density_2015, pop_density_2020, q_10,\n",
      "q_25, q_25_swmn, q_50, q_50_swmn, q_5_swmn, q_75, q_75_swmn, q_90, q_95_swmn, q_cv, q_high_days,\n",
      "q_low_days, q_mean, q_mean_swmn, q_zero, range_frac, rel_hum_mean, res_store_sum, reservoir_index,\n",
      "rise_days, rise_rate_mean, rise_rate_median, river_basin, runoff_ratio, sand_frac_sub,\n",
      "sand_frac_top, silt_frac_sub, silt_frac_top, slope_fdc, slope_max, slope_mean, slope_median,\n",
      "slope_min, sm_lvl1_mean, sm_lvl2_mean, sm_lvl3_mean, sm_lvl4_mean, soil_awc_sub, soil_awc_top,\n",
      "soil_awsc_major, soil_awsc_max, soil_awsc_min, soil_conductivity_sub, soil_conductivity_top,\n",
      "soil_depth, srad_lw_mean, srad_sw_mean, streamflow_elas, tailing_frac, tmax_mean, tmin_mean,\n",
      "total_storage, trees_frac, urban_frac_1985, urban_frac_1995, urban_frac_2005, water_frac, wind_mean,\n",
      "wtd\n"
     ]
    }
   ],
   "source": [
    "static_features = dataset.static_features\n",
    "static_features.sort()\n",
    "print(textwrap.fill(\", \".join(static_features), width=100))"
   ]
  },
  {
   "cell_type": "code",
   "execution_count": 70,
   "metadata": {
    "collapsed": false,
    "execution": {
     "iopub.execute_input": "2024-10-20T10:15:25.395630Z",
     "iopub.status.busy": "2024-10-20T10:15:25.395339Z",
     "iopub.status.idle": "2024-10-20T10:15:25.454131Z",
     "shell.execute_reply": "2024-10-20T10:15:25.453231Z"
    }
   },
   "outputs": [
    {
     "name": "stdout",
     "output_type": "stream",
     "text": [
      "(472, 210)\n"
     ]
    }
   ],
   "source": [
    "df = dataset.fetch_static_features()\n",
    "print(df.shape)"
   ]
  },
  {
   "cell_type": "code",
   "execution_count": 71,
   "metadata": {
    "collapsed": false,
    "execution": {
     "iopub.execute_input": "2024-10-20T10:15:25.457029Z",
     "iopub.status.busy": "2024-10-20T10:15:25.456804Z",
     "iopub.status.idle": "2024-10-20T10:15:25.476282Z",
     "shell.execute_reply": "2024-10-20T10:15:25.475022Z"
    }
   },
   "outputs": [
    {
     "name": "stdout",
     "output_type": "stream",
     "text": [
      "20322\n"
     ]
    },
    {
     "data": {
      "text/plain": [
       "aet_gleam_mean        0\n",
       "ai_mean               0\n",
       "annual_max_1day     300\n",
       "annual_max_30day    300\n",
       "annual_max_3day     300\n",
       "                   ... \n",
       "urban_frac_1995       0\n",
       "urban_frac_2005       0\n",
       "water_frac            0\n",
       "wind_mean             0\n",
       "wtd                   0\n",
       "Length: 210, dtype: int64"
      ]
     },
     "execution_count": 71,
     "metadata": {},
     "output_type": "execute_result"
    }
   ],
   "source": [
    "print(df.isna().sum().sum())\n",
    "df.isna().sum()"
   ]
  },
  {
   "cell_type": "markdown",
   "metadata": {},
   "source": [
    "find those columns which have at least one NaN value\n",
    "\n"
   ]
  },
  {
   "cell_type": "code",
   "execution_count": 72,
   "metadata": {
    "collapsed": false,
    "execution": {
     "iopub.execute_input": "2024-10-20T10:15:25.480200Z",
     "iopub.status.busy": "2024-10-20T10:15:25.479860Z",
     "iopub.status.idle": "2024-10-20T10:15:25.514845Z",
     "shell.execute_reply": "2024-10-20T10:15:25.514160Z"
    }
   },
   "outputs": [
    {
     "data": {
      "text/html": [
       "<div>\n",
       "<style scoped>\n",
       "    .dataframe tbody tr th:only-of-type {\n",
       "        vertical-align: middle;\n",
       "    }\n",
       "\n",
       "    .dataframe tbody tr th {\n",
       "        vertical-align: top;\n",
       "    }\n",
       "\n",
       "    .dataframe thead th {\n",
       "        text-align: right;\n",
       "    }\n",
       "</style>\n",
       "<table border=\"1\" class=\"dataframe\">\n",
       "  <thead>\n",
       "    <tr style=\"text-align: right;\">\n",
       "      <th></th>\n",
       "      <th>annual_max_1day</th>\n",
       "      <th>annual_max_30day</th>\n",
       "      <th>annual_max_3day</th>\n",
       "      <th>annual_max_7day</th>\n",
       "      <th>annual_max_90day</th>\n",
       "      <th>annual_min_7day</th>\n",
       "      <th>annual_q</th>\n",
       "      <th>bfi</th>\n",
       "      <th>bulkdens_sub_major</th>\n",
       "      <th>bulkdens_sub_mean</th>\n",
       "      <th>...</th>\n",
       "      <th>q_mean_swmn</th>\n",
       "      <th>q_zero</th>\n",
       "      <th>reservoir_index</th>\n",
       "      <th>rise_days</th>\n",
       "      <th>rise_rate_mean</th>\n",
       "      <th>rise_rate_median</th>\n",
       "      <th>runoff_ratio</th>\n",
       "      <th>slope_fdc</th>\n",
       "      <th>streamflow_elas</th>\n",
       "      <th>tailing_frac</th>\n",
       "    </tr>\n",
       "    <tr>\n",
       "      <th>gauge_id</th>\n",
       "      <th></th>\n",
       "      <th></th>\n",
       "      <th></th>\n",
       "      <th></th>\n",
       "      <th></th>\n",
       "      <th></th>\n",
       "      <th></th>\n",
       "      <th></th>\n",
       "      <th></th>\n",
       "      <th></th>\n",
       "      <th></th>\n",
       "      <th></th>\n",
       "      <th></th>\n",
       "      <th></th>\n",
       "      <th></th>\n",
       "      <th></th>\n",
       "      <th></th>\n",
       "      <th></th>\n",
       "      <th></th>\n",
       "      <th></th>\n",
       "      <th></th>\n",
       "    </tr>\n",
       "  </thead>\n",
       "  <tbody>\n",
       "    <tr>\n",
       "      <th>3001</th>\n",
       "      <td>NaN</td>\n",
       "      <td>NaN</td>\n",
       "      <td>NaN</td>\n",
       "      <td>NaN</td>\n",
       "      <td>NaN</td>\n",
       "      <td>NaN</td>\n",
       "      <td>NaN</td>\n",
       "      <td>NaN</td>\n",
       "      <td>1.33</td>\n",
       "      <td>1.291356</td>\n",
       "      <td>...</td>\n",
       "      <td>0.568</td>\n",
       "      <td>NaN</td>\n",
       "      <td>NaN</td>\n",
       "      <td>NaN</td>\n",
       "      <td>NaN</td>\n",
       "      <td>NaN</td>\n",
       "      <td>NaN</td>\n",
       "      <td>NaN</td>\n",
       "      <td>NaN</td>\n",
       "      <td>0.000000</td>\n",
       "    </tr>\n",
       "    <tr>\n",
       "      <th>3002</th>\n",
       "      <td>756.807</td>\n",
       "      <td>136.155</td>\n",
       "      <td>485.599</td>\n",
       "      <td>284.301</td>\n",
       "      <td>90.494</td>\n",
       "      <td>0.000</td>\n",
       "      <td>828.584</td>\n",
       "      <td>0.372</td>\n",
       "      <td>1.45</td>\n",
       "      <td>1.450000</td>\n",
       "      <td>...</td>\n",
       "      <td>4.587</td>\n",
       "      <td>86.667</td>\n",
       "      <td>0.000688</td>\n",
       "      <td>62.00</td>\n",
       "      <td>38.509</td>\n",
       "      <td>3.07</td>\n",
       "      <td>0.472</td>\n",
       "      <td>NaN</td>\n",
       "      <td>3.744</td>\n",
       "      <td>0.000000</td>\n",
       "    </tr>\n",
       "    <tr>\n",
       "      <th>3003</th>\n",
       "      <td>NaN</td>\n",
       "      <td>NaN</td>\n",
       "      <td>NaN</td>\n",
       "      <td>NaN</td>\n",
       "      <td>NaN</td>\n",
       "      <td>NaN</td>\n",
       "      <td>NaN</td>\n",
       "      <td>NaN</td>\n",
       "      <td>1.21</td>\n",
       "      <td>1.210000</td>\n",
       "      <td>...</td>\n",
       "      <td>NaN</td>\n",
       "      <td>NaN</td>\n",
       "      <td>NaN</td>\n",
       "      <td>NaN</td>\n",
       "      <td>NaN</td>\n",
       "      <td>NaN</td>\n",
       "      <td>NaN</td>\n",
       "      <td>NaN</td>\n",
       "      <td>NaN</td>\n",
       "      <td>0.000000</td>\n",
       "    </tr>\n",
       "    <tr>\n",
       "      <th>3004</th>\n",
       "      <td>NaN</td>\n",
       "      <td>NaN</td>\n",
       "      <td>NaN</td>\n",
       "      <td>NaN</td>\n",
       "      <td>NaN</td>\n",
       "      <td>NaN</td>\n",
       "      <td>NaN</td>\n",
       "      <td>NaN</td>\n",
       "      <td>1.21</td>\n",
       "      <td>1.211649</td>\n",
       "      <td>...</td>\n",
       "      <td>NaN</td>\n",
       "      <td>NaN</td>\n",
       "      <td>NaN</td>\n",
       "      <td>NaN</td>\n",
       "      <td>NaN</td>\n",
       "      <td>NaN</td>\n",
       "      <td>NaN</td>\n",
       "      <td>NaN</td>\n",
       "      <td>NaN</td>\n",
       "      <td>0.000000</td>\n",
       "    </tr>\n",
       "    <tr>\n",
       "      <th>3005</th>\n",
       "      <td>14640.524</td>\n",
       "      <td>3780.572</td>\n",
       "      <td>11975.203</td>\n",
       "      <td>8184.747</td>\n",
       "      <td>2305.069</td>\n",
       "      <td>5.293</td>\n",
       "      <td>21163.952</td>\n",
       "      <td>0.385</td>\n",
       "      <td>1.21</td>\n",
       "      <td>1.218816</td>\n",
       "      <td>...</td>\n",
       "      <td>3.028</td>\n",
       "      <td>0.000</td>\n",
       "      <td>0.507788</td>\n",
       "      <td>131.75</td>\n",
       "      <td>324.324</td>\n",
       "      <td>5.46</td>\n",
       "      <td>0.331</td>\n",
       "      <td>2.859</td>\n",
       "      <td>1.925</td>\n",
       "      <td>0.000000</td>\n",
       "    </tr>\n",
       "    <tr>\n",
       "      <th>...</th>\n",
       "      <td>...</td>\n",
       "      <td>...</td>\n",
       "      <td>...</td>\n",
       "      <td>...</td>\n",
       "      <td>...</td>\n",
       "      <td>...</td>\n",
       "      <td>...</td>\n",
       "      <td>...</td>\n",
       "      <td>...</td>\n",
       "      <td>...</td>\n",
       "      <td>...</td>\n",
       "      <td>...</td>\n",
       "      <td>...</td>\n",
       "      <td>...</td>\n",
       "      <td>...</td>\n",
       "      <td>...</td>\n",
       "      <td>...</td>\n",
       "      <td>...</td>\n",
       "      <td>...</td>\n",
       "      <td>...</td>\n",
       "      <td>...</td>\n",
       "    </tr>\n",
       "    <tr>\n",
       "      <th>17021</th>\n",
       "      <td>NaN</td>\n",
       "      <td>NaN</td>\n",
       "      <td>NaN</td>\n",
       "      <td>NaN</td>\n",
       "      <td>NaN</td>\n",
       "      <td>NaN</td>\n",
       "      <td>NaN</td>\n",
       "      <td>NaN</td>\n",
       "      <td>NaN</td>\n",
       "      <td>1.291081</td>\n",
       "      <td>...</td>\n",
       "      <td>NaN</td>\n",
       "      <td>NaN</td>\n",
       "      <td>NaN</td>\n",
       "      <td>NaN</td>\n",
       "      <td>NaN</td>\n",
       "      <td>NaN</td>\n",
       "      <td>NaN</td>\n",
       "      <td>NaN</td>\n",
       "      <td>NaN</td>\n",
       "      <td>0.000000</td>\n",
       "    </tr>\n",
       "    <tr>\n",
       "      <th>17022</th>\n",
       "      <td>370.817</td>\n",
       "      <td>98.813</td>\n",
       "      <td>269.619</td>\n",
       "      <td>191.648</td>\n",
       "      <td>60.805</td>\n",
       "      <td>0.060</td>\n",
       "      <td>322.091</td>\n",
       "      <td>0.254</td>\n",
       "      <td>NaN</td>\n",
       "      <td>1.318424</td>\n",
       "      <td>...</td>\n",
       "      <td>0.005</td>\n",
       "      <td>148.950</td>\n",
       "      <td>1.030649</td>\n",
       "      <td>78.20</td>\n",
       "      <td>12.834</td>\n",
       "      <td>0.43</td>\n",
       "      <td>0.034</td>\n",
       "      <td>NaN</td>\n",
       "      <td>2.049</td>\n",
       "      <td>0.117647</td>\n",
       "    </tr>\n",
       "    <tr>\n",
       "      <th>17023</th>\n",
       "      <td>NaN</td>\n",
       "      <td>NaN</td>\n",
       "      <td>NaN</td>\n",
       "      <td>NaN</td>\n",
       "      <td>NaN</td>\n",
       "      <td>NaN</td>\n",
       "      <td>NaN</td>\n",
       "      <td>NaN</td>\n",
       "      <td>NaN</td>\n",
       "      <td>1.211304</td>\n",
       "      <td>...</td>\n",
       "      <td>NaN</td>\n",
       "      <td>NaN</td>\n",
       "      <td>NaN</td>\n",
       "      <td>NaN</td>\n",
       "      <td>NaN</td>\n",
       "      <td>NaN</td>\n",
       "      <td>NaN</td>\n",
       "      <td>NaN</td>\n",
       "      <td>NaN</td>\n",
       "      <td>0.000000</td>\n",
       "    </tr>\n",
       "    <tr>\n",
       "      <th>17024</th>\n",
       "      <td>609.535</td>\n",
       "      <td>154.046</td>\n",
       "      <td>460.329</td>\n",
       "      <td>312.861</td>\n",
       "      <td>81.274</td>\n",
       "      <td>0.000</td>\n",
       "      <td>356.873</td>\n",
       "      <td>0.169</td>\n",
       "      <td>NaN</td>\n",
       "      <td>1.320490</td>\n",
       "      <td>...</td>\n",
       "      <td>0.001</td>\n",
       "      <td>306.800</td>\n",
       "      <td>0.942509</td>\n",
       "      <td>21.65</td>\n",
       "      <td>55.641</td>\n",
       "      <td>5.30</td>\n",
       "      <td>0.031</td>\n",
       "      <td>NaN</td>\n",
       "      <td>2.977</td>\n",
       "      <td>0.117647</td>\n",
       "    </tr>\n",
       "    <tr>\n",
       "      <th>17025</th>\n",
       "      <td>NaN</td>\n",
       "      <td>NaN</td>\n",
       "      <td>NaN</td>\n",
       "      <td>NaN</td>\n",
       "      <td>NaN</td>\n",
       "      <td>NaN</td>\n",
       "      <td>NaN</td>\n",
       "      <td>NaN</td>\n",
       "      <td>NaN</td>\n",
       "      <td>1.330000</td>\n",
       "      <td>...</td>\n",
       "      <td>NaN</td>\n",
       "      <td>NaN</td>\n",
       "      <td>NaN</td>\n",
       "      <td>NaN</td>\n",
       "      <td>NaN</td>\n",
       "      <td>NaN</td>\n",
       "      <td>NaN</td>\n",
       "      <td>NaN</td>\n",
       "      <td>NaN</td>\n",
       "      <td>NaN</td>\n",
       "    </tr>\n",
       "  </tbody>\n",
       "</table>\n",
       "<p>472 rows × 86 columns</p>\n",
       "</div>"
      ],
      "text/plain": [
       "          annual_max_1day  annual_max_30day  annual_max_3day  annual_max_7day  \\\n",
       "gauge_id                                                                        \n",
       "3001                  NaN               NaN              NaN              NaN   \n",
       "3002              756.807           136.155          485.599          284.301   \n",
       "3003                  NaN               NaN              NaN              NaN   \n",
       "3004                  NaN               NaN              NaN              NaN   \n",
       "3005            14640.524          3780.572        11975.203         8184.747   \n",
       "...                   ...               ...              ...              ...   \n",
       "17021                 NaN               NaN              NaN              NaN   \n",
       "17022             370.817            98.813          269.619          191.648   \n",
       "17023                 NaN               NaN              NaN              NaN   \n",
       "17024             609.535           154.046          460.329          312.861   \n",
       "17025                 NaN               NaN              NaN              NaN   \n",
       "\n",
       "          annual_max_90day  annual_min_7day   annual_q    bfi  \\\n",
       "gauge_id                                                        \n",
       "3001                   NaN              NaN        NaN    NaN   \n",
       "3002                90.494            0.000    828.584  0.372   \n",
       "3003                   NaN              NaN        NaN    NaN   \n",
       "3004                   NaN              NaN        NaN    NaN   \n",
       "3005              2305.069            5.293  21163.952  0.385   \n",
       "...                    ...              ...        ...    ...   \n",
       "17021                  NaN              NaN        NaN    NaN   \n",
       "17022               60.805            0.060    322.091  0.254   \n",
       "17023                  NaN              NaN        NaN    NaN   \n",
       "17024               81.274            0.000    356.873  0.169   \n",
       "17025                  NaN              NaN        NaN    NaN   \n",
       "\n",
       "          bulkdens_sub_major  bulkdens_sub_mean  ...  q_mean_swmn   q_zero  \\\n",
       "gauge_id                                         ...                         \n",
       "3001                    1.33           1.291356  ...        0.568      NaN   \n",
       "3002                    1.45           1.450000  ...        4.587   86.667   \n",
       "3003                    1.21           1.210000  ...          NaN      NaN   \n",
       "3004                    1.21           1.211649  ...          NaN      NaN   \n",
       "3005                    1.21           1.218816  ...        3.028    0.000   \n",
       "...                      ...                ...  ...          ...      ...   \n",
       "17021                    NaN           1.291081  ...          NaN      NaN   \n",
       "17022                    NaN           1.318424  ...        0.005  148.950   \n",
       "17023                    NaN           1.211304  ...          NaN      NaN   \n",
       "17024                    NaN           1.320490  ...        0.001  306.800   \n",
       "17025                    NaN           1.330000  ...          NaN      NaN   \n",
       "\n",
       "          reservoir_index  rise_days  rise_rate_mean  rise_rate_median  \\\n",
       "gauge_id                                                                 \n",
       "3001                  NaN        NaN             NaN               NaN   \n",
       "3002             0.000688      62.00          38.509              3.07   \n",
       "3003                  NaN        NaN             NaN               NaN   \n",
       "3004                  NaN        NaN             NaN               NaN   \n",
       "3005             0.507788     131.75         324.324              5.46   \n",
       "...                   ...        ...             ...               ...   \n",
       "17021                 NaN        NaN             NaN               NaN   \n",
       "17022            1.030649      78.20          12.834              0.43   \n",
       "17023                 NaN        NaN             NaN               NaN   \n",
       "17024            0.942509      21.65          55.641              5.30   \n",
       "17025                 NaN        NaN             NaN               NaN   \n",
       "\n",
       "          runoff_ratio  slope_fdc  streamflow_elas  tailing_frac  \n",
       "gauge_id                                                          \n",
       "3001               NaN        NaN              NaN      0.000000  \n",
       "3002             0.472        NaN            3.744      0.000000  \n",
       "3003               NaN        NaN              NaN      0.000000  \n",
       "3004               NaN        NaN              NaN      0.000000  \n",
       "3005             0.331      2.859            1.925      0.000000  \n",
       "...                ...        ...              ...           ...  \n",
       "17021              NaN        NaN              NaN      0.000000  \n",
       "17022            0.034        NaN            2.049      0.117647  \n",
       "17023              NaN        NaN              NaN      0.000000  \n",
       "17024            0.031        NaN            2.977      0.117647  \n",
       "17025              NaN        NaN              NaN           NaN  \n",
       "\n",
       "[472 rows x 86 columns]"
      ]
     },
     "execution_count": 72,
     "metadata": {},
     "output_type": "execute_result"
    }
   ],
   "source": [
    "df.loc[:, (df.isna().sum()>0)]"
   ]
  },
  {
   "cell_type": "code",
   "execution_count": 73,
   "metadata": {
    "collapsed": false,
    "execution": {
     "iopub.execute_input": "2024-10-20T10:15:25.518278Z",
     "iopub.status.busy": "2024-10-20T10:15:25.517953Z",
     "iopub.status.idle": "2024-10-20T10:15:25.529614Z",
     "shell.execute_reply": "2024-10-20T10:15:25.528276Z"
    }
   },
   "outputs": [
    {
     "data": {
      "text/plain": [
       "annual_max_1day     300\n",
       "annual_max_30day    300\n",
       "annual_max_3day     300\n",
       "annual_max_7day     300\n",
       "annual_max_90day    300\n",
       "                   ... \n",
       "rise_rate_median    299\n",
       "runoff_ratio        244\n",
       "slope_fdc           331\n",
       "streamflow_elas     271\n",
       "tailing_frac         66\n",
       "Length: 86, dtype: int64"
      ]
     },
     "execution_count": 73,
     "metadata": {},
     "output_type": "execute_result"
    }
   ],
   "source": [
    "df.loc[:, (df.isna().sum()>0)].isna().sum()"
   ]
  },
  {
   "cell_type": "code",
   "execution_count": 74,
   "metadata": {
    "collapsed": false,
    "execution": {
     "iopub.execute_input": "2024-10-20T10:15:25.533345Z",
     "iopub.status.busy": "2024-10-20T10:15:25.533095Z",
     "iopub.status.idle": "2024-10-20T10:15:25.538069Z",
     "shell.execute_reply": "2024-10-20T10:15:25.537327Z"
    }
   },
   "outputs": [
    {
     "name": "stdout",
     "output_type": "stream",
     "text": [
      "aet_gleam(mm/day), evap_canopy(kg/m2/s), evap_surface(kg/m2/s), max_temp_C, mean_temp_C, min_temp_C,\n",
      "obs_q_cms, pcp_mm, pet(mm/day), pet_gleam(mm/day), rh_%, sm_lvl1(kg/m2), sm_lvl2(kg/m2),\n",
      "sm_lvl3(kg/m2), sm_lvl4(kg/m2), srad_lw(w/m2), srad_sw(w/m2), wind_u(m/s), wind_v(m/s), windspeed_ms\n"
     ]
    }
   ],
   "source": [
    "dynamic_features = dataset.dynamic_features\n",
    "dynamic_features.sort()\n",
    "print(textwrap.fill(\", \".join(dynamic_features), width=100))"
   ]
  },
  {
   "cell_type": "markdown",
   "metadata": {},
   "source": [
    "## LamaHCE\n",
    "\n"
   ]
  },
  {
   "cell_type": "code",
   "execution_count": 75,
   "metadata": {
    "collapsed": false,
    "execution": {
     "iopub.execute_input": "2024-10-20T10:15:25.541402Z",
     "iopub.status.busy": "2024-10-20T10:15:25.541162Z",
     "iopub.status.idle": "2024-10-20T10:15:25.780535Z",
     "shell.execute_reply": "2024-10-20T10:15:25.779496Z"
    }
   },
   "outputs": [
    {
     "name": "stdout",
     "output_type": "stream",
     "text": [
      "LamaHCE with 859 stations, 22 dynamic and 80 static features\n"
     ]
    }
   ],
   "source": [
    "dataset = RainfallRunoff('LamaHCE', timestep='D', data_type='total_upstrm', path=gscad_path, verbosity=0)\n",
    "print(dataset)"
   ]
  },
  {
   "cell_type": "code",
   "execution_count": 76,
   "metadata": {
    "collapsed": false,
    "execution": {
     "iopub.execute_input": "2024-10-20T10:15:25.783455Z",
     "iopub.status.busy": "2024-10-20T10:15:25.783245Z",
     "iopub.status.idle": "2024-10-20T10:15:25.788755Z",
     "shell.execute_reply": "2024-10-20T10:15:25.787657Z"
    }
   },
   "outputs": [
    {
     "name": "stdout",
     "output_type": "stream",
     "text": [
      "agr_fra, area_calc, area_gov, area_ratio, aridity, bare_fra, bedrk_dep, clay_fra, country,\n",
      "degimpact, diur_art, diur_glac, elev, elev_mean, elev_med, elev_ran, elev_std, elon_ratio, et0_mean,\n",
      "eta_mean, fedstate, forest_fra, frac_snow, gaps, gc_dom, gc_ig_fra, gc_mt_fra, gc_pa_fra, gc_pb_fra,\n",
      "gc_pi_fra, gc_py_fra, gc_sc_fra, gc_sm_fra, gc_ss_fra, gc_su_fra, gc_va_fra, gc_vb_fra, gc_wb_fra,\n",
      "geol_perme, geol_poros, glac_fra, govnr, grav_fra, gvf_diff, gvf_max, hi_prec_du, hi_prec_fr,\n",
      "hi_prec_ti, lai_diff, lai_max, lake_fra, lat, lc_dom, lo_prec_du, lo_prec_fr, lo_prec_ti, lon,\n",
      "mvert_ang, mvert_dist, name, ndvi_max, ndvi_min, obsbeg_day, obsbeg_hr, obsend, oc_fra, p_mean,\n",
      "p_season, region, river, root_dep, sand_fra, silt_fra, slope_mean, soil_condu, soil_poros,\n",
      "soil_tawc, strm_dens, typimpact, urban_fra\n"
     ]
    }
   ],
   "source": [
    "static_features = dataset.static_features\n",
    "static_features.sort()\n",
    "print(textwrap.fill(\", \".join(static_features), width=100))"
   ]
  },
  {
   "cell_type": "code",
   "execution_count": 77,
   "metadata": {
    "collapsed": false,
    "execution": {
     "iopub.execute_input": "2024-10-20T10:15:25.792404Z",
     "iopub.status.busy": "2024-10-20T10:15:25.791801Z",
     "iopub.status.idle": "2024-10-20T10:15:25.830729Z",
     "shell.execute_reply": "2024-10-20T10:15:25.829625Z"
    }
   },
   "outputs": [
    {
     "name": "stdout",
     "output_type": "stream",
     "text": [
      "(859, 80)\n"
     ]
    }
   ],
   "source": [
    "df = dataset.fetch_static_features()\n",
    "print(df.shape)"
   ]
  },
  {
   "cell_type": "code",
   "execution_count": 78,
   "metadata": {
    "collapsed": false,
    "execution": {
     "iopub.execute_input": "2024-10-20T10:15:25.833807Z",
     "iopub.status.busy": "2024-10-20T10:15:25.833585Z",
     "iopub.status.idle": "2024-10-20T10:15:25.846577Z",
     "shell.execute_reply": "2024-10-20T10:15:25.845547Z"
    }
   },
   "outputs": [
    {
     "name": "stdout",
     "output_type": "stream",
     "text": [
      "46\n"
     ]
    },
    {
     "data": {
      "text/plain": [
       "agr_fra       0\n",
       "area_calc     0\n",
       "area_gov      0\n",
       "area_ratio    0\n",
       "aridity       0\n",
       "             ..\n",
       "soil_poros    0\n",
       "soil_tawc     0\n",
       "strm_dens     0\n",
       "typimpact     0\n",
       "urban_fra     0\n",
       "Length: 80, dtype: int64"
      ]
     },
     "execution_count": 78,
     "metadata": {},
     "output_type": "execute_result"
    }
   ],
   "source": [
    "print(df.isna().sum().sum())\n",
    "df.isna().sum()"
   ]
  },
  {
   "cell_type": "markdown",
   "metadata": {},
   "source": [
    "find those columns which have at least one NaN value\n",
    "\n"
   ]
  },
  {
   "cell_type": "code",
   "execution_count": 79,
   "metadata": {
    "collapsed": false,
    "execution": {
     "iopub.execute_input": "2024-10-20T10:15:25.850259Z",
     "iopub.status.busy": "2024-10-20T10:15:25.850015Z",
     "iopub.status.idle": "2024-10-20T10:15:25.865600Z",
     "shell.execute_reply": "2024-10-20T10:15:25.864302Z"
    }
   },
   "outputs": [
    {
     "data": {
      "text/html": [
       "<div>\n",
       "<style scoped>\n",
       "    .dataframe tbody tr th:only-of-type {\n",
       "        vertical-align: middle;\n",
       "    }\n",
       "\n",
       "    .dataframe tbody tr th {\n",
       "        vertical-align: top;\n",
       "    }\n",
       "\n",
       "    .dataframe thead th {\n",
       "        text-align: right;\n",
       "    }\n",
       "</style>\n",
       "<table border=\"1\" class=\"dataframe\">\n",
       "  <thead>\n",
       "    <tr style=\"text-align: right;\">\n",
       "      <th></th>\n",
       "      <th>geol_perme</th>\n",
       "      <th>hi_prec_ti</th>\n",
       "      <th>lo_prec_ti</th>\n",
       "    </tr>\n",
       "    <tr>\n",
       "      <th>ID</th>\n",
       "      <th></th>\n",
       "      <th></th>\n",
       "      <th></th>\n",
       "    </tr>\n",
       "  </thead>\n",
       "  <tbody>\n",
       "    <tr>\n",
       "      <th>826</th>\n",
       "      <td>-12.4</td>\n",
       "      <td>NaN</td>\n",
       "      <td>son</td>\n",
       "    </tr>\n",
       "    <tr>\n",
       "      <th>819</th>\n",
       "      <td>-11.5</td>\n",
       "      <td>son</td>\n",
       "      <td>djf</td>\n",
       "    </tr>\n",
       "    <tr>\n",
       "      <th>79</th>\n",
       "      <td>-13.3</td>\n",
       "      <td>jja</td>\n",
       "      <td>djf</td>\n",
       "    </tr>\n",
       "    <tr>\n",
       "      <th>696</th>\n",
       "      <td>-12.2</td>\n",
       "      <td>jja</td>\n",
       "      <td>djf</td>\n",
       "    </tr>\n",
       "    <tr>\n",
       "      <th>98</th>\n",
       "      <td>-12.0</td>\n",
       "      <td>jja</td>\n",
       "      <td>djf</td>\n",
       "    </tr>\n",
       "    <tr>\n",
       "      <th>...</th>\n",
       "      <td>...</td>\n",
       "      <td>...</td>\n",
       "      <td>...</td>\n",
       "    </tr>\n",
       "    <tr>\n",
       "      <th>261</th>\n",
       "      <td>-12.1</td>\n",
       "      <td>jja</td>\n",
       "      <td>djf</td>\n",
       "    </tr>\n",
       "    <tr>\n",
       "      <th>587</th>\n",
       "      <td>-12.9</td>\n",
       "      <td>jja</td>\n",
       "      <td>djf</td>\n",
       "    </tr>\n",
       "    <tr>\n",
       "      <th>827</th>\n",
       "      <td>-12.6</td>\n",
       "      <td>jja</td>\n",
       "      <td>son</td>\n",
       "    </tr>\n",
       "    <tr>\n",
       "      <th>250</th>\n",
       "      <td>-13.4</td>\n",
       "      <td>jja</td>\n",
       "      <td>djf</td>\n",
       "    </tr>\n",
       "    <tr>\n",
       "      <th>72</th>\n",
       "      <td>-12.4</td>\n",
       "      <td>jja</td>\n",
       "      <td>djf</td>\n",
       "    </tr>\n",
       "  </tbody>\n",
       "</table>\n",
       "<p>859 rows × 3 columns</p>\n",
       "</div>"
      ],
      "text/plain": [
       "     geol_perme hi_prec_ti lo_prec_ti\n",
       "ID                                   \n",
       "826       -12.4        NaN        son\n",
       "819       -11.5        son        djf\n",
       "79        -13.3        jja        djf\n",
       "696       -12.2        jja        djf\n",
       "98        -12.0        jja        djf\n",
       "..          ...        ...        ...\n",
       "261       -12.1        jja        djf\n",
       "587       -12.9        jja        djf\n",
       "827       -12.6        jja        son\n",
       "250       -13.4        jja        djf\n",
       "72        -12.4        jja        djf\n",
       "\n",
       "[859 rows x 3 columns]"
      ]
     },
     "execution_count": 79,
     "metadata": {},
     "output_type": "execute_result"
    }
   ],
   "source": [
    "df.loc[:, (df.isna().sum()>0)]"
   ]
  },
  {
   "cell_type": "code",
   "execution_count": 80,
   "metadata": {
    "collapsed": false,
    "execution": {
     "iopub.execute_input": "2024-10-20T10:15:25.869478Z",
     "iopub.status.busy": "2024-10-20T10:15:25.869218Z",
     "iopub.status.idle": "2024-10-20T10:15:25.880696Z",
     "shell.execute_reply": "2024-10-20T10:15:25.879980Z"
    }
   },
   "outputs": [
    {
     "data": {
      "text/plain": [
       "geol_perme     1\n",
       "hi_prec_ti    42\n",
       "lo_prec_ti     3\n",
       "dtype: int64"
      ]
     },
     "execution_count": 80,
     "metadata": {},
     "output_type": "execute_result"
    }
   ],
   "source": [
    "df.loc[:, (df.isna().sum()>0)].isna().sum()"
   ]
  },
  {
   "cell_type": "code",
   "execution_count": 81,
   "metadata": {
    "collapsed": false,
    "execution": {
     "iopub.execute_input": "2024-10-20T10:15:25.884177Z",
     "iopub.status.busy": "2024-10-20T10:15:25.883821Z",
     "iopub.status.idle": "2024-10-20T10:15:25.965863Z",
     "shell.execute_reply": "2024-10-20T10:15:25.964966Z"
    }
   },
   "outputs": [
    {
     "name": "stdout",
     "output_type": "stream",
     "text": [
      "10m_wind_u, 10m_wind_v, 2m_dp_temp_max, 2m_dp_temp_mean, 2m_dp_temp_min, fcst_alb, lai_high_veg,\n",
      "lai_low_veg, max_temp_C, mean_temp_C, min_temp_C, obs_q_cms, pcp_mm, surf_net_solar_rad_max,\n",
      "surf_net_solar_rad_mean, surf_net_therm_rad_max, surf_net_therm_rad_mean, surf_press, swe_mm,\n",
      "total_et, volsw_123, volsw_4\n"
     ]
    }
   ],
   "source": [
    "dynamic_features = dataset.dynamic_features\n",
    "dynamic_features.sort()\n",
    "print(textwrap.fill(\", \".join(dynamic_features), width=100))"
   ]
  },
  {
   "cell_type": "code",
   "execution_count": 82,
   "metadata": {
    "collapsed": false,
    "execution": {
     "iopub.execute_input": "2024-10-20T10:15:25.969082Z",
     "iopub.status.busy": "2024-10-20T10:15:25.968855Z",
     "iopub.status.idle": "2024-10-20T10:15:27.892708Z",
     "shell.execute_reply": "2024-10-20T10:15:27.891644Z"
    }
   },
   "outputs": [
    {
     "name": "stdout",
     "output_type": "stream",
     "text": [
      "LamaHCE with 859 stations, 16 dynamic and 84 static features\n"
     ]
    }
   ],
   "source": [
    "dataset = RainfallRunoff('LamaHCE', timestep='H', data_type='total_upstrm', path=gscad_path, verbosity=0)\n",
    "print(dataset)"
   ]
  },
  {
   "cell_type": "code",
   "execution_count": 83,
   "metadata": {
    "collapsed": false,
    "execution": {
     "iopub.execute_input": "2024-10-20T10:15:27.897073Z",
     "iopub.status.busy": "2024-10-20T10:15:27.896846Z",
     "iopub.status.idle": "2024-10-20T10:15:27.902711Z",
     "shell.execute_reply": "2024-10-20T10:15:27.901767Z"
    }
   },
   "outputs": [
    {
     "name": "stdout",
     "output_type": "stream",
     "text": [
      "agr_fra, area_calc, area_gov, area_ratio, arid_1, arid_2, bare_fra, bedrk_dep, clay_fra, country,\n",
      "degimpact, diur_art, diur_glac, elev, elev_mean, elev_med, elev_ran, elev_std, elon_ratio, et0_mean,\n",
      "eta_mean, fedstate, forest_fra, frac_snow, gaps_post, gaps_pre, gc_dom, gc_ig_fra, gc_mt_fra,\n",
      "gc_pa_fra, gc_pb_fra, gc_pi_fra, gc_py_fra, gc_sc_fra, gc_sm_fra, gc_ss_fra, gc_su_fra, gc_va_fra,\n",
      "gc_vb_fra, gc_wb_fra, geol_perme, geol_poros, glac_fra, govnr, grav_fra, gvf_diff, gvf_max,\n",
      "hi_prec_du, hi_prec_fr, hi_prec_ti, lai_diff, lai_max, lake_fra, lat, lc_dom, lo_prec_du,\n",
      "lo_prec_fr, lo_prec_ti, lon, mvert_ang, mvert_dist, name, ndvi_max, ndvi_min, nrs_euhyd, nrs_rivat,\n",
      "obsbeg_day, obsbeg_hr, obsend, oc_fra, p_mean, p_season, region, river, root_dep, sand_fra,\n",
      "silt_fra, slope_mean, soil_condu, soil_poros, soil_tawc, strm_dens, typimpact, urban_fra\n"
     ]
    }
   ],
   "source": [
    "static_features = dataset.static_features\n",
    "static_features.sort()\n",
    "print(textwrap.fill(\", \".join(static_features), width=100))"
   ]
  },
  {
   "cell_type": "code",
   "execution_count": 84,
   "metadata": {
    "collapsed": false,
    "execution": {
     "iopub.execute_input": "2024-10-20T10:15:27.908370Z",
     "iopub.status.busy": "2024-10-20T10:15:27.907748Z",
     "iopub.status.idle": "2024-10-20T10:15:27.948987Z",
     "shell.execute_reply": "2024-10-20T10:15:27.948057Z"
    }
   },
   "outputs": [
    {
     "name": "stdout",
     "output_type": "stream",
     "text": [
      "(859, 84)\n"
     ]
    }
   ],
   "source": [
    "df = dataset.fetch_static_features()\n",
    "print(df.shape)"
   ]
  },
  {
   "cell_type": "code",
   "execution_count": 85,
   "metadata": {
    "collapsed": false,
    "execution": {
     "iopub.execute_input": "2024-10-20T10:15:27.951860Z",
     "iopub.status.busy": "2024-10-20T10:15:27.951641Z",
     "iopub.status.idle": "2024-10-20T10:15:27.963792Z",
     "shell.execute_reply": "2024-10-20T10:15:27.963103Z"
    }
   },
   "outputs": [
    {
     "name": "stdout",
     "output_type": "stream",
     "text": [
      "65\n"
     ]
    },
    {
     "data": {
      "text/plain": [
       "agr_fra       0\n",
       "area_calc     0\n",
       "area_gov      0\n",
       "area_ratio    0\n",
       "arid_1        0\n",
       "             ..\n",
       "soil_poros    0\n",
       "soil_tawc     0\n",
       "strm_dens     0\n",
       "typimpact     0\n",
       "urban_fra     0\n",
       "Length: 84, dtype: int64"
      ]
     },
     "execution_count": 85,
     "metadata": {},
     "output_type": "execute_result"
    }
   ],
   "source": [
    "print(df.isna().sum().sum())\n",
    "df.isna().sum()"
   ]
  },
  {
   "cell_type": "markdown",
   "metadata": {},
   "source": [
    "find those columns which have at least one NaN value\n",
    "\n"
   ]
  },
  {
   "cell_type": "code",
   "execution_count": 86,
   "metadata": {
    "collapsed": false,
    "execution": {
     "iopub.execute_input": "2024-10-20T10:15:27.967145Z",
     "iopub.status.busy": "2024-10-20T10:15:27.966891Z",
     "iopub.status.idle": "2024-10-20T10:15:27.985593Z",
     "shell.execute_reply": "2024-10-20T10:15:27.984891Z"
    }
   },
   "outputs": [
    {
     "data": {
      "text/html": [
       "<div>\n",
       "<style scoped>\n",
       "    .dataframe tbody tr th:only-of-type {\n",
       "        vertical-align: middle;\n",
       "    }\n",
       "\n",
       "    .dataframe tbody tr th {\n",
       "        vertical-align: top;\n",
       "    }\n",
       "\n",
       "    .dataframe thead th {\n",
       "        text-align: right;\n",
       "    }\n",
       "</style>\n",
       "<table border=\"1\" class=\"dataframe\">\n",
       "  <thead>\n",
       "    <tr style=\"text-align: right;\">\n",
       "      <th></th>\n",
       "      <th>geol_perme</th>\n",
       "      <th>hi_prec_ti</th>\n",
       "      <th>lo_prec_ti</th>\n",
       "      <th>nrs_rivat</th>\n",
       "    </tr>\n",
       "    <tr>\n",
       "      <th>ID</th>\n",
       "      <th></th>\n",
       "      <th></th>\n",
       "      <th></th>\n",
       "      <th></th>\n",
       "    </tr>\n",
       "  </thead>\n",
       "  <tbody>\n",
       "    <tr>\n",
       "      <th>826</th>\n",
       "      <td>-12.4</td>\n",
       "      <td>NaN</td>\n",
       "      <td>son</td>\n",
       "      <td>20376803.0</td>\n",
       "    </tr>\n",
       "    <tr>\n",
       "      <th>819</th>\n",
       "      <td>-11.5</td>\n",
       "      <td>son</td>\n",
       "      <td>djf</td>\n",
       "      <td>20464042.0</td>\n",
       "    </tr>\n",
       "    <tr>\n",
       "      <th>79</th>\n",
       "      <td>-13.3</td>\n",
       "      <td>jja</td>\n",
       "      <td>djf</td>\n",
       "      <td>20454049.0</td>\n",
       "    </tr>\n",
       "    <tr>\n",
       "      <th>696</th>\n",
       "      <td>-12.2</td>\n",
       "      <td>jja</td>\n",
       "      <td>djf</td>\n",
       "      <td>20424102.0</td>\n",
       "    </tr>\n",
       "    <tr>\n",
       "      <th>98</th>\n",
       "      <td>-12.0</td>\n",
       "      <td>jja</td>\n",
       "      <td>djf</td>\n",
       "      <td>20440228.0</td>\n",
       "    </tr>\n",
       "    <tr>\n",
       "      <th>...</th>\n",
       "      <td>...</td>\n",
       "      <td>...</td>\n",
       "      <td>...</td>\n",
       "      <td>...</td>\n",
       "    </tr>\n",
       "    <tr>\n",
       "      <th>261</th>\n",
       "      <td>-12.1</td>\n",
       "      <td>jja</td>\n",
       "      <td>djf</td>\n",
       "      <td>20428827.0</td>\n",
       "    </tr>\n",
       "    <tr>\n",
       "      <th>587</th>\n",
       "      <td>-12.9</td>\n",
       "      <td>jja</td>\n",
       "      <td>djf</td>\n",
       "      <td>20461304.0</td>\n",
       "    </tr>\n",
       "    <tr>\n",
       "      <th>827</th>\n",
       "      <td>-12.6</td>\n",
       "      <td>jja</td>\n",
       "      <td>son</td>\n",
       "      <td>20379436.0</td>\n",
       "    </tr>\n",
       "    <tr>\n",
       "      <th>250</th>\n",
       "      <td>-13.4</td>\n",
       "      <td>jja</td>\n",
       "      <td>djf</td>\n",
       "      <td>20441631.0</td>\n",
       "    </tr>\n",
       "    <tr>\n",
       "      <th>72</th>\n",
       "      <td>-12.4</td>\n",
       "      <td>jja</td>\n",
       "      <td>djf</td>\n",
       "      <td>20451775.0</td>\n",
       "    </tr>\n",
       "  </tbody>\n",
       "</table>\n",
       "<p>859 rows × 4 columns</p>\n",
       "</div>"
      ],
      "text/plain": [
       "     geol_perme hi_prec_ti lo_prec_ti   nrs_rivat\n",
       "ID                                               \n",
       "826       -12.4        NaN        son  20376803.0\n",
       "819       -11.5        son        djf  20464042.0\n",
       "79        -13.3        jja        djf  20454049.0\n",
       "696       -12.2        jja        djf  20424102.0\n",
       "98        -12.0        jja        djf  20440228.0\n",
       "..          ...        ...        ...         ...\n",
       "261       -12.1        jja        djf  20428827.0\n",
       "587       -12.9        jja        djf  20461304.0\n",
       "827       -12.6        jja        son  20379436.0\n",
       "250       -13.4        jja        djf  20441631.0\n",
       "72        -12.4        jja        djf  20451775.0\n",
       "\n",
       "[859 rows x 4 columns]"
      ]
     },
     "execution_count": 86,
     "metadata": {},
     "output_type": "execute_result"
    }
   ],
   "source": [
    "df.loc[:, (df.isna().sum()>0)]"
   ]
  },
  {
   "cell_type": "code",
   "execution_count": 87,
   "metadata": {
    "collapsed": false,
    "execution": {
     "iopub.execute_input": "2024-10-20T10:15:27.989138Z",
     "iopub.status.busy": "2024-10-20T10:15:27.988827Z",
     "iopub.status.idle": "2024-10-20T10:15:27.999223Z",
     "shell.execute_reply": "2024-10-20T10:15:27.998486Z"
    }
   },
   "outputs": [
    {
     "data": {
      "text/plain": [
       "geol_perme     1\n",
       "hi_prec_ti    42\n",
       "lo_prec_ti     3\n",
       "nrs_rivat     19\n",
       "dtype: int64"
      ]
     },
     "execution_count": 87,
     "metadata": {},
     "output_type": "execute_result"
    }
   ],
   "source": [
    "df.loc[:, (df.isna().sum()>0)].isna().sum()"
   ]
  },
  {
   "cell_type": "code",
   "execution_count": 88,
   "metadata": {
    "collapsed": false,
    "execution": {
     "iopub.execute_input": "2024-10-20T10:15:28.002465Z",
     "iopub.status.busy": "2024-10-20T10:15:28.001827Z",
     "iopub.status.idle": "2024-10-20T10:15:28.949166Z",
     "shell.execute_reply": "2024-10-20T10:15:28.948151Z"
    }
   },
   "outputs": [
    {
     "name": "stdout",
     "output_type": "stream",
     "text": [
      "10m_wind_u, 10m_wind_v, 2m_dp_temp, fcst_alb, lai_high_veg, lai_low_veg, mean_temp_C, obs_q_cms,\n",
      "pcp_mm, surf_net_solar_rad, surf_net_therm_rad, surf_press, swe_mm, total_et, volsw_123, volsw_4\n"
     ]
    }
   ],
   "source": [
    "dynamic_features = dataset.dynamic_features\n",
    "dynamic_features.sort()\n",
    "print(textwrap.fill(\", \".join(dynamic_features), width=100))"
   ]
  },
  {
   "cell_type": "markdown",
   "metadata": {},
   "source": [
    "## LamaHIce\n",
    "\n"
   ]
  },
  {
   "cell_type": "code",
   "execution_count": 89,
   "metadata": {
    "collapsed": false,
    "execution": {
     "iopub.execute_input": "2024-10-20T10:15:28.952855Z",
     "iopub.status.busy": "2024-10-20T10:15:28.952547Z",
     "iopub.status.idle": "2024-10-20T10:15:29.046643Z",
     "shell.execute_reply": "2024-10-20T10:15:29.045503Z"
    }
   },
   "outputs": [
    {
     "name": "stdout",
     "output_type": "stream",
     "text": [
      "LamaHIce with 111 stations, 36 dynamic and 154 static features\n"
     ]
    }
   ],
   "source": [
    "dataset = RainfallRunoff('LamaHIce', timestep='D', data_type='total_upstrm', \n",
    "                         path=os.path.join(gscad_path, 'LamaHIce_daily'), verbosity=0)\n",
    "print(dataset)"
   ]
  },
  {
   "cell_type": "code",
   "execution_count": 90,
   "metadata": {
    "collapsed": false,
    "execution": {
     "iopub.execute_input": "2024-10-20T10:15:29.050842Z",
     "iopub.status.busy": "2024-10-20T10:15:29.050441Z",
     "iopub.status.idle": "2024-10-20T10:15:29.058262Z",
     "shell.execute_reply": "2024-10-20T10:15:29.056990Z"
    }
   },
   "outputs": [
    {
     "name": "stdout",
     "output_type": "stream",
     "text": [
      "ET_ERA5L_all_basin, ET_ERA5L_unfiltered_basin, ET_rav_all_basin, ET_rav_unfiltered_basin,\n",
      "PET_ERA5L_all_basin, PET_ERA5L_unfiltered_basin, PET_rav_all_basin, PET_rav_unfiltered_basin,\n",
      "P_ERA5L_all_basin, P_ERA5L_unfiltered_basin, P_rav_all_basin, P_rav_unfiltered_basin, Q5_basin,\n",
      "Q5_gauge, Q95_basin, Q95_gauge, Q_all_basin, Q_unfiltered_basin, VHM_no_gauge, V_no_gauge,\n",
      "agr_fra_basin, area_calc_basin, aridity_ERA5L_basin, aridity_basin, asp_mean_basin, bare_fra_basin,\n",
      "baseflow_index_ladson_basin, baseflow_index_ladson_gauge, bedrk_dep_basin, clay_fra_basin,\n",
      "degimpact_basin, degimpact_gauge, elev_mean_basin, elev_med_basin, elev_ran_basin, elev_std_basin,\n",
      "elevation_gauge, elon_ratio_basin, forest_fra_basin, frac_snow_ERA5L_basin, frac_snow_basin,\n",
      "g621_fra_basin, g701_fra_basin, g743_fra_basin, g746_fra_basin, g_area_basin, g_aspect_basin,\n",
      "g_dom_NI_basin, g_frac_basin, g_lat_basin, g_lon_basin, g_max_el_basin, g_mean_el_basin,\n",
      "g_min_el_basin, g_slope_basin, g_slopel20_basin, gaps_hourly_gauge, gbinn_fra_basin,\n",
      "gbnew_fra_basin, gbold_fra_basin, gc_23_dom_basin, gc_23_pavr_basin, gc_23_pb_basin,\n",
      "gc_23_vapy_basin, gc_23_vb_basin, gc_23_vbpy_basin, gc_23_vbsr_basin, gc_dom_basin, gc_pa_fra_basin,\n",
      "gc_pb_fra_basin, gc_va_fra_basin, gc_vb_fra_basin, geometry_gauge, ggnew_fra_basin, ggold_fra_basin,\n",
      "ghraun_fra_basin, glac_fra_basin, gmob_fra_basin, grav_fra_basin, gsgos_fra_basin, gsinn_fra_basin,\n",
      "gsn_fra_basin, gsnew_fra_basin, gsold_fra_basin, gvf_diff_basin, gvf_max_basin, hfd_mean_basin,\n",
      "hfd_mean_gauge, high_prec_du_ERA5L_basin, high_prec_du_basin, high_prec_fr_ERA5L_basin,\n",
      "high_prec_fr_basin, high_prec_timing_ERA5L_basin, high_prec_timing_basin, high_q_dur_basin,\n",
      "high_q_dur_gauge, high_q_freq_basin, high_q_freq_gauge, lai_diff_basin, lai_max_basin,\n",
      "lake_fra_basin, lat_gauge, lc_dom_basin, lo_prec_fr_ERA5L_basin, lo_prec_fr_basin, lon_gauge,\n",
      "low_prec_du_ERA5L_basin, low_prec_du_basin, low_prec_timing_ERA5L_basin, low_prec_timing_basin,\n",
      "low_q_dur_basin, low_q_dur_gauge, low_q_freq_basin, low_q_freq_gauge, mvert_ang_basin,\n",
      "mvert_dist_basin, name_gauge, ndvi_max_basin, ndvi_min_basin, obsbeg_day_gauge, obsbeg_hr_gauge,\n",
      "obsend_day_gauge, obsend_hr_gauge, oc_fra_basin, p_mean_ERA5L_basin, p_mean_basin,\n",
      "p_season_ERA5L_basin, p_season_basin, pet_mean_ERA5L_basin, q_mean_basin, q_mean_gauge,\n",
      "ref_et_mean_basin, river_gauge, root_dep_basin, runoff_ratio_basin, runoff_ratio_gauge,\n",
      "sand_fra_basin, scrub_fra_basin, silt_fra_basin, slope_fdc_basin, slope_fdc_gauge, slope_mean_basin,\n",
      "soil_poros_basin, soil_tawc_basin, stream_elas_basin, stream_elas_gauge, strm_dens_basin,\n",
      "typimpact_basin, typimpact_gauge, urban_fra_basin, water_year_all_basin,\n",
      "water_year_unfiltered_basin, wetl_fra_basin, zero_q_freq_gauge\n"
     ]
    }
   ],
   "source": [
    "static_features = dataset.static_features\n",
    "static_features.sort()\n",
    "print(textwrap.fill(\", \".join(static_features), width=100))"
   ]
  },
  {
   "cell_type": "code",
   "execution_count": 91,
   "metadata": {
    "collapsed": false,
    "execution": {
     "iopub.execute_input": "2024-10-20T10:15:29.062150Z",
     "iopub.status.busy": "2024-10-20T10:15:29.061852Z",
     "iopub.status.idle": "2024-10-20T10:15:29.096852Z",
     "shell.execute_reply": "2024-10-20T10:15:29.095936Z"
    }
   },
   "outputs": [
    {
     "name": "stdout",
     "output_type": "stream",
     "text": [
      "(111, 154)\n"
     ]
    }
   ],
   "source": [
    "df = dataset.fetch_static_features()\n",
    "print(df.shape)"
   ]
  },
  {
   "cell_type": "code",
   "execution_count": 92,
   "metadata": {
    "collapsed": false,
    "execution": {
     "iopub.execute_input": "2024-10-20T10:15:29.099657Z",
     "iopub.status.busy": "2024-10-20T10:15:29.099309Z",
     "iopub.status.idle": "2024-10-20T10:15:29.113702Z",
     "shell.execute_reply": "2024-10-20T10:15:29.113030Z"
    }
   },
   "outputs": [
    {
     "name": "stdout",
     "output_type": "stream",
     "text": [
      "2013\n"
     ]
    },
    {
     "data": {
      "text/plain": [
       "ET_ERA5L_all_basin             37\n",
       "ET_ERA5L_unfiltered_basin      14\n",
       "ET_rav_all_basin               37\n",
       "ET_rav_unfiltered_basin        14\n",
       "PET_ERA5L_all_basin            37\n",
       "                               ..\n",
       "urban_fra_basin                 0\n",
       "water_year_all_basin           37\n",
       "water_year_unfiltered_basin    14\n",
       "wetl_fra_basin                  0\n",
       "zero_q_freq_gauge              37\n",
       "Length: 154, dtype: int64"
      ]
     },
     "execution_count": 92,
     "metadata": {},
     "output_type": "execute_result"
    }
   ],
   "source": [
    "print(df.isna().sum().sum())\n",
    "df.isna().sum()"
   ]
  },
  {
   "cell_type": "markdown",
   "metadata": {},
   "source": [
    "find those columns which have at least one NaN value\n",
    "\n"
   ]
  },
  {
   "cell_type": "code",
   "execution_count": 93,
   "metadata": {
    "collapsed": false,
    "execution": {
     "iopub.execute_input": "2024-10-20T10:15:29.116957Z",
     "iopub.status.busy": "2024-10-20T10:15:29.116713Z",
     "iopub.status.idle": "2024-10-20T10:15:29.150247Z",
     "shell.execute_reply": "2024-10-20T10:15:29.149282Z"
    }
   },
   "outputs": [
    {
     "data": {
      "text/html": [
       "<div>\n",
       "<style scoped>\n",
       "    .dataframe tbody tr th:only-of-type {\n",
       "        vertical-align: middle;\n",
       "    }\n",
       "\n",
       "    .dataframe tbody tr th {\n",
       "        vertical-align: top;\n",
       "    }\n",
       "\n",
       "    .dataframe thead th {\n",
       "        text-align: right;\n",
       "    }\n",
       "</style>\n",
       "<table border=\"1\" class=\"dataframe\">\n",
       "  <thead>\n",
       "    <tr style=\"text-align: right;\">\n",
       "      <th></th>\n",
       "      <th>ET_ERA5L_all_basin</th>\n",
       "      <th>ET_ERA5L_unfiltered_basin</th>\n",
       "      <th>ET_rav_all_basin</th>\n",
       "      <th>ET_rav_unfiltered_basin</th>\n",
       "      <th>PET_ERA5L_all_basin</th>\n",
       "      <th>PET_ERA5L_unfiltered_basin</th>\n",
       "      <th>PET_rav_all_basin</th>\n",
       "      <th>PET_rav_unfiltered_basin</th>\n",
       "      <th>P_ERA5L_all_basin</th>\n",
       "      <th>P_ERA5L_unfiltered_basin</th>\n",
       "      <th>...</th>\n",
       "      <th>q_mean_gauge</th>\n",
       "      <th>runoff_ratio_basin</th>\n",
       "      <th>runoff_ratio_gauge</th>\n",
       "      <th>slope_fdc_basin</th>\n",
       "      <th>slope_fdc_gauge</th>\n",
       "      <th>stream_elas_basin</th>\n",
       "      <th>stream_elas_gauge</th>\n",
       "      <th>water_year_all_basin</th>\n",
       "      <th>water_year_unfiltered_basin</th>\n",
       "      <th>zero_q_freq_gauge</th>\n",
       "    </tr>\n",
       "    <tr>\n",
       "      <th>id</th>\n",
       "      <th></th>\n",
       "      <th></th>\n",
       "      <th></th>\n",
       "      <th></th>\n",
       "      <th></th>\n",
       "      <th></th>\n",
       "      <th></th>\n",
       "      <th></th>\n",
       "      <th></th>\n",
       "      <th></th>\n",
       "      <th></th>\n",
       "      <th></th>\n",
       "      <th></th>\n",
       "      <th></th>\n",
       "      <th></th>\n",
       "      <th></th>\n",
       "      <th></th>\n",
       "      <th></th>\n",
       "      <th></th>\n",
       "      <th></th>\n",
       "      <th></th>\n",
       "    </tr>\n",
       "  </thead>\n",
       "  <tbody>\n",
       "    <tr>\n",
       "      <th>79</th>\n",
       "      <td>0.640192</td>\n",
       "      <td>0.636492</td>\n",
       "      <td>0.634929</td>\n",
       "      <td>0.633861</td>\n",
       "      <td>1.295533</td>\n",
       "      <td>1.293016</td>\n",
       "      <td>0.547516</td>\n",
       "      <td>0.557275</td>\n",
       "      <td>4.648427</td>\n",
       "      <td>4.631319</td>\n",
       "      <td>...</td>\n",
       "      <td>9.389204</td>\n",
       "      <td>1.786</td>\n",
       "      <td>1.785626</td>\n",
       "      <td>0.404</td>\n",
       "      <td>0.404174</td>\n",
       "      <td>0.507</td>\n",
       "      <td>0.506978</td>\n",
       "      <td>2000.272524</td>\n",
       "      <td>1999.000666</td>\n",
       "      <td>0.0</td>\n",
       "    </tr>\n",
       "    <tr>\n",
       "      <th>98</th>\n",
       "      <td>0.603482</td>\n",
       "      <td>0.593119</td>\n",
       "      <td>0.599214</td>\n",
       "      <td>0.588846</td>\n",
       "      <td>2.000104</td>\n",
       "      <td>1.942428</td>\n",
       "      <td>0.559626</td>\n",
       "      <td>0.536703</td>\n",
       "      <td>4.717848</td>\n",
       "      <td>4.647344</td>\n",
       "      <td>...</td>\n",
       "      <td>5.951890</td>\n",
       "      <td>1.178</td>\n",
       "      <td>1.178091</td>\n",
       "      <td>0.561</td>\n",
       "      <td>0.560945</td>\n",
       "      <td>0.666</td>\n",
       "      <td>0.666312</td>\n",
       "      <td>2010.601150</td>\n",
       "      <td>2011.000632</td>\n",
       "      <td>0.0</td>\n",
       "    </tr>\n",
       "    <tr>\n",
       "      <th>25</th>\n",
       "      <td>1.378187</td>\n",
       "      <td>1.396363</td>\n",
       "      <td>0.668298</td>\n",
       "      <td>0.665824</td>\n",
       "      <td>4.609922</td>\n",
       "      <td>4.601343</td>\n",
       "      <td>0.529151</td>\n",
       "      <td>0.506576</td>\n",
       "      <td>5.546952</td>\n",
       "      <td>5.682186</td>\n",
       "      <td>...</td>\n",
       "      <td>10.316638</td>\n",
       "      <td>2.346</td>\n",
       "      <td>2.345917</td>\n",
       "      <td>1.441</td>\n",
       "      <td>1.440679</td>\n",
       "      <td>0.579</td>\n",
       "      <td>0.579003</td>\n",
       "      <td>2004.386057</td>\n",
       "      <td>2003.470929</td>\n",
       "      <td>0.0</td>\n",
       "    </tr>\n",
       "    <tr>\n",
       "      <th>1</th>\n",
       "      <td>0.710055</td>\n",
       "      <td>0.718156</td>\n",
       "      <td>0.651314</td>\n",
       "      <td>0.655982</td>\n",
       "      <td>1.472727</td>\n",
       "      <td>1.473907</td>\n",
       "      <td>0.616380</td>\n",
       "      <td>0.603120</td>\n",
       "      <td>3.769304</td>\n",
       "      <td>3.859496</td>\n",
       "      <td>...</td>\n",
       "      <td>4.546374</td>\n",
       "      <td>1.115</td>\n",
       "      <td>1.114759</td>\n",
       "      <td>2.715</td>\n",
       "      <td>2.715291</td>\n",
       "      <td>1.365</td>\n",
       "      <td>1.364999</td>\n",
       "      <td>2010.248973</td>\n",
       "      <td>2010.499609</td>\n",
       "      <td>0.0</td>\n",
       "    </tr>\n",
       "    <tr>\n",
       "      <th>34</th>\n",
       "      <td>NaN</td>\n",
       "      <td>0.436237</td>\n",
       "      <td>NaN</td>\n",
       "      <td>0.282329</td>\n",
       "      <td>NaN</td>\n",
       "      <td>0.656889</td>\n",
       "      <td>NaN</td>\n",
       "      <td>0.243403</td>\n",
       "      <td>NaN</td>\n",
       "      <td>3.560044</td>\n",
       "      <td>...</td>\n",
       "      <td>NaN</td>\n",
       "      <td>NaN</td>\n",
       "      <td>NaN</td>\n",
       "      <td>NaN</td>\n",
       "      <td>NaN</td>\n",
       "      <td>NaN</td>\n",
       "      <td>NaN</td>\n",
       "      <td>NaN</td>\n",
       "      <td>1999.000666</td>\n",
       "      <td>NaN</td>\n",
       "    </tr>\n",
       "    <tr>\n",
       "      <th>...</th>\n",
       "      <td>...</td>\n",
       "      <td>...</td>\n",
       "      <td>...</td>\n",
       "      <td>...</td>\n",
       "      <td>...</td>\n",
       "      <td>...</td>\n",
       "      <td>...</td>\n",
       "      <td>...</td>\n",
       "      <td>...</td>\n",
       "      <td>...</td>\n",
       "      <td>...</td>\n",
       "      <td>...</td>\n",
       "      <td>...</td>\n",
       "      <td>...</td>\n",
       "      <td>...</td>\n",
       "      <td>...</td>\n",
       "      <td>...</td>\n",
       "      <td>...</td>\n",
       "      <td>...</td>\n",
       "      <td>...</td>\n",
       "      <td>...</td>\n",
       "    </tr>\n",
       "    <tr>\n",
       "      <th>94</th>\n",
       "      <td>NaN</td>\n",
       "      <td>0.565821</td>\n",
       "      <td>NaN</td>\n",
       "      <td>0.646134</td>\n",
       "      <td>NaN</td>\n",
       "      <td>1.009009</td>\n",
       "      <td>NaN</td>\n",
       "      <td>0.569345</td>\n",
       "      <td>NaN</td>\n",
       "      <td>2.851701</td>\n",
       "      <td>...</td>\n",
       "      <td>NaN</td>\n",
       "      <td>NaN</td>\n",
       "      <td>NaN</td>\n",
       "      <td>NaN</td>\n",
       "      <td>NaN</td>\n",
       "      <td>NaN</td>\n",
       "      <td>NaN</td>\n",
       "      <td>NaN</td>\n",
       "      <td>2010.014082</td>\n",
       "      <td>NaN</td>\n",
       "    </tr>\n",
       "    <tr>\n",
       "      <th>54</th>\n",
       "      <td>0.286762</td>\n",
       "      <td>0.318574</td>\n",
       "      <td>0.428488</td>\n",
       "      <td>0.405101</td>\n",
       "      <td>0.409014</td>\n",
       "      <td>0.466285</td>\n",
       "      <td>0.490258</td>\n",
       "      <td>0.472720</td>\n",
       "      <td>4.375074</td>\n",
       "      <td>4.262709</td>\n",
       "      <td>...</td>\n",
       "      <td>6.364638</td>\n",
       "      <td>1.014</td>\n",
       "      <td>1.014307</td>\n",
       "      <td>3.767</td>\n",
       "      <td>3.766742</td>\n",
       "      <td>0.929</td>\n",
       "      <td>0.929429</td>\n",
       "      <td>1997.000000</td>\n",
       "      <td>2000.226138</td>\n",
       "      <td>0.0</td>\n",
       "    </tr>\n",
       "    <tr>\n",
       "      <th>77</th>\n",
       "      <td>0.383486</td>\n",
       "      <td>0.368716</td>\n",
       "      <td>0.464558</td>\n",
       "      <td>0.457334</td>\n",
       "      <td>0.557757</td>\n",
       "      <td>0.534627</td>\n",
       "      <td>0.620087</td>\n",
       "      <td>0.598473</td>\n",
       "      <td>3.094146</td>\n",
       "      <td>3.139548</td>\n",
       "      <td>...</td>\n",
       "      <td>2.217995</td>\n",
       "      <td>0.781</td>\n",
       "      <td>0.780813</td>\n",
       "      <td>1.384</td>\n",
       "      <td>1.383765</td>\n",
       "      <td>0.459</td>\n",
       "      <td>0.458724</td>\n",
       "      <td>2000.151013</td>\n",
       "      <td>2002.000000</td>\n",
       "      <td>0.0</td>\n",
       "    </tr>\n",
       "    <tr>\n",
       "      <th>80</th>\n",
       "      <td>0.649492</td>\n",
       "      <td>0.646736</td>\n",
       "      <td>0.529909</td>\n",
       "      <td>0.521922</td>\n",
       "      <td>1.126047</td>\n",
       "      <td>1.143551</td>\n",
       "      <td>0.468229</td>\n",
       "      <td>0.485154</td>\n",
       "      <td>4.652074</td>\n",
       "      <td>4.312049</td>\n",
       "      <td>...</td>\n",
       "      <td>4.225174</td>\n",
       "      <td>0.871</td>\n",
       "      <td>0.870663</td>\n",
       "      <td>1.945</td>\n",
       "      <td>1.945021</td>\n",
       "      <td>0.913</td>\n",
       "      <td>0.913007</td>\n",
       "      <td>2008.890240</td>\n",
       "      <td>2009.224360</td>\n",
       "      <td>0.0</td>\n",
       "    </tr>\n",
       "    <tr>\n",
       "      <th>72</th>\n",
       "      <td>NaN</td>\n",
       "      <td>0.476955</td>\n",
       "      <td>NaN</td>\n",
       "      <td>0.385069</td>\n",
       "      <td>NaN</td>\n",
       "      <td>0.928519</td>\n",
       "      <td>NaN</td>\n",
       "      <td>0.511240</td>\n",
       "      <td>NaN</td>\n",
       "      <td>3.048227</td>\n",
       "      <td>...</td>\n",
       "      <td>NaN</td>\n",
       "      <td>NaN</td>\n",
       "      <td>NaN</td>\n",
       "      <td>NaN</td>\n",
       "      <td>NaN</td>\n",
       "      <td>NaN</td>\n",
       "      <td>NaN</td>\n",
       "      <td>NaN</td>\n",
       "      <td>2007.389354</td>\n",
       "      <td>NaN</td>\n",
       "    </tr>\n",
       "  </tbody>\n",
       "</table>\n",
       "<p>111 rows × 53 columns</p>\n",
       "</div>"
      ],
      "text/plain": [
       "    ET_ERA5L_all_basin  ET_ERA5L_unfiltered_basin  ET_rav_all_basin  \\\n",
       "id                                                                    \n",
       "79            0.640192                   0.636492          0.634929   \n",
       "98            0.603482                   0.593119          0.599214   \n",
       "25            1.378187                   1.396363          0.668298   \n",
       "1             0.710055                   0.718156          0.651314   \n",
       "34                 NaN                   0.436237               NaN   \n",
       "..                 ...                        ...               ...   \n",
       "94                 NaN                   0.565821               NaN   \n",
       "54            0.286762                   0.318574          0.428488   \n",
       "77            0.383486                   0.368716          0.464558   \n",
       "80            0.649492                   0.646736          0.529909   \n",
       "72                 NaN                   0.476955               NaN   \n",
       "\n",
       "    ET_rav_unfiltered_basin  PET_ERA5L_all_basin  PET_ERA5L_unfiltered_basin  \\\n",
       "id                                                                             \n",
       "79                 0.633861             1.295533                    1.293016   \n",
       "98                 0.588846             2.000104                    1.942428   \n",
       "25                 0.665824             4.609922                    4.601343   \n",
       "1                  0.655982             1.472727                    1.473907   \n",
       "34                 0.282329                  NaN                    0.656889   \n",
       "..                      ...                  ...                         ...   \n",
       "94                 0.646134                  NaN                    1.009009   \n",
       "54                 0.405101             0.409014                    0.466285   \n",
       "77                 0.457334             0.557757                    0.534627   \n",
       "80                 0.521922             1.126047                    1.143551   \n",
       "72                 0.385069                  NaN                    0.928519   \n",
       "\n",
       "    PET_rav_all_basin  PET_rav_unfiltered_basin  P_ERA5L_all_basin  \\\n",
       "id                                                                   \n",
       "79           0.547516                  0.557275           4.648427   \n",
       "98           0.559626                  0.536703           4.717848   \n",
       "25           0.529151                  0.506576           5.546952   \n",
       "1            0.616380                  0.603120           3.769304   \n",
       "34                NaN                  0.243403                NaN   \n",
       "..                ...                       ...                ...   \n",
       "94                NaN                  0.569345                NaN   \n",
       "54           0.490258                  0.472720           4.375074   \n",
       "77           0.620087                  0.598473           3.094146   \n",
       "80           0.468229                  0.485154           4.652074   \n",
       "72                NaN                  0.511240                NaN   \n",
       "\n",
       "    P_ERA5L_unfiltered_basin  ...  q_mean_gauge  runoff_ratio_basin  \\\n",
       "id                            ...                                     \n",
       "79                  4.631319  ...      9.389204               1.786   \n",
       "98                  4.647344  ...      5.951890               1.178   \n",
       "25                  5.682186  ...     10.316638               2.346   \n",
       "1                   3.859496  ...      4.546374               1.115   \n",
       "34                  3.560044  ...           NaN                 NaN   \n",
       "..                       ...  ...           ...                 ...   \n",
       "94                  2.851701  ...           NaN                 NaN   \n",
       "54                  4.262709  ...      6.364638               1.014   \n",
       "77                  3.139548  ...      2.217995               0.781   \n",
       "80                  4.312049  ...      4.225174               0.871   \n",
       "72                  3.048227  ...           NaN                 NaN   \n",
       "\n",
       "    runoff_ratio_gauge  slope_fdc_basin  slope_fdc_gauge  stream_elas_basin  \\\n",
       "id                                                                            \n",
       "79            1.785626            0.404         0.404174              0.507   \n",
       "98            1.178091            0.561         0.560945              0.666   \n",
       "25            2.345917            1.441         1.440679              0.579   \n",
       "1             1.114759            2.715         2.715291              1.365   \n",
       "34                 NaN              NaN              NaN                NaN   \n",
       "..                 ...              ...              ...                ...   \n",
       "94                 NaN              NaN              NaN                NaN   \n",
       "54            1.014307            3.767         3.766742              0.929   \n",
       "77            0.780813            1.384         1.383765              0.459   \n",
       "80            0.870663            1.945         1.945021              0.913   \n",
       "72                 NaN              NaN              NaN                NaN   \n",
       "\n",
       "    stream_elas_gauge  water_year_all_basin  water_year_unfiltered_basin  \\\n",
       "id                                                                         \n",
       "79           0.506978           2000.272524                  1999.000666   \n",
       "98           0.666312           2010.601150                  2011.000632   \n",
       "25           0.579003           2004.386057                  2003.470929   \n",
       "1            1.364999           2010.248973                  2010.499609   \n",
       "34                NaN                   NaN                  1999.000666   \n",
       "..                ...                   ...                          ...   \n",
       "94                NaN                   NaN                  2010.014082   \n",
       "54           0.929429           1997.000000                  2000.226138   \n",
       "77           0.458724           2000.151013                  2002.000000   \n",
       "80           0.913007           2008.890240                  2009.224360   \n",
       "72                NaN                   NaN                  2007.389354   \n",
       "\n",
       "    zero_q_freq_gauge  \n",
       "id                     \n",
       "79                0.0  \n",
       "98                0.0  \n",
       "25                0.0  \n",
       "1                 0.0  \n",
       "34                NaN  \n",
       "..                ...  \n",
       "94                NaN  \n",
       "54                0.0  \n",
       "77                0.0  \n",
       "80                0.0  \n",
       "72                NaN  \n",
       "\n",
       "[111 rows x 53 columns]"
      ]
     },
     "execution_count": 93,
     "metadata": {},
     "output_type": "execute_result"
    }
   ],
   "source": [
    "df.loc[:, (df.isna().sum()>0)]"
   ]
  },
  {
   "cell_type": "code",
   "execution_count": 94,
   "metadata": {
    "collapsed": false,
    "execution": {
     "iopub.execute_input": "2024-10-20T10:15:29.153618Z",
     "iopub.status.busy": "2024-10-20T10:15:29.153295Z",
     "iopub.status.idle": "2024-10-20T10:15:29.163467Z",
     "shell.execute_reply": "2024-10-20T10:15:29.162690Z"
    }
   },
   "outputs": [
    {
     "data": {
      "text/plain": [
       "ET_ERA5L_all_basin             37\n",
       "ET_ERA5L_unfiltered_basin      14\n",
       "ET_rav_all_basin               37\n",
       "ET_rav_unfiltered_basin        14\n",
       "PET_ERA5L_all_basin            37\n",
       "PET_ERA5L_unfiltered_basin     14\n",
       "PET_rav_all_basin              37\n",
       "PET_rav_unfiltered_basin       14\n",
       "P_ERA5L_all_basin              37\n",
       "P_ERA5L_unfiltered_basin       14\n",
       "P_rav_all_basin                37\n",
       "P_rav_unfiltered_basin         14\n",
       "Q5_basin                       37\n",
       "Q5_gauge                       37\n",
       "Q95_basin                      37\n",
       "Q95_gauge                      37\n",
       "Q_all_basin                    37\n",
       "Q_unfiltered_basin             14\n",
       "baseflow_index_ladson_basin    37\n",
       "baseflow_index_ladson_gauge    37\n",
       "g_aspect_basin                 47\n",
       "g_lat_basin                    47\n",
       "g_lon_basin                    47\n",
       "g_max_el_basin                 47\n",
       "g_mean_el_basin                47\n",
       "g_min_el_basin                 47\n",
       "g_slope_basin                  47\n",
       "g_slopel20_basin               47\n",
       "gaps_hourly_gauge              35\n",
       "hfd_mean_basin                 42\n",
       "hfd_mean_gauge                 42\n",
       "high_prec_timing_basin          4\n",
       "high_q_dur_basin               67\n",
       "high_q_dur_gauge               67\n",
       "high_q_freq_basin              67\n",
       "high_q_freq_gauge              67\n",
       "low_prec_timing_ERA5L_basin     2\n",
       "low_prec_timing_basin           1\n",
       "low_q_dur_basin                70\n",
       "low_q_dur_gauge                70\n",
       "low_q_freq_basin               70\n",
       "low_q_freq_gauge               70\n",
       "q_mean_basin                   37\n",
       "q_mean_gauge                   37\n",
       "runoff_ratio_basin             37\n",
       "runoff_ratio_gauge             37\n",
       "slope_fdc_basin                37\n",
       "slope_fdc_gauge                37\n",
       "stream_elas_basin              37\n",
       "stream_elas_gauge              37\n",
       "water_year_all_basin           37\n",
       "water_year_unfiltered_basin    14\n",
       "zero_q_freq_gauge              37\n",
       "dtype: int64"
      ]
     },
     "execution_count": 94,
     "metadata": {},
     "output_type": "execute_result"
    }
   ],
   "source": [
    "df.loc[:, (df.isna().sum()>0)].isna().sum()"
   ]
  },
  {
   "cell_type": "code",
   "execution_count": 95,
   "metadata": {
    "collapsed": false,
    "execution": {
     "iopub.execute_input": "2024-10-20T10:15:29.166801Z",
     "iopub.status.busy": "2024-10-20T10:15:29.166185Z",
     "iopub.status.idle": "2024-10-20T10:15:29.179643Z",
     "shell.execute_reply": "2024-10-20T10:15:29.178645Z"
    }
   },
   "outputs": [
    {
     "name": "stdout",
     "output_type": "stream",
     "text": [
      "10m_wind_u, 10m_wind_u_rav, 10m_wind_v, 10m_wind_v_rav, 2m_dp_temp_max, 2m_dp_temp_mean,\n",
      "2m_dp_temp_min, 2m_qv_rav, 2m_temp_rav, fcst_alb, grdflx_rav, lai_high_veg, lai_low_veg, max_temp_C,\n",
      "mean_temp_C, min_temp_C, obs_q_cms, pcp_mm, pet_mm, prec_carra, prec_rav, ref_et_mm,\n",
      "surf_dwn_solar_rad_rav, surf_dwn_therm_rad_rav, surf_net_solar_rad_max, surf_net_solar_rad_mean,\n",
      "surf_net_therm_rad_max, surf_net_therm_rad_mean, surf_outg_therm_rad_rav, surf_press,\n",
      "surf_press_rav, swe, total_et, total_et_rav, volsw_123, volsw_4\n"
     ]
    }
   ],
   "source": [
    "dynamic_features = dataset.dynamic_features\n",
    "dynamic_features.sort()\n",
    "print(textwrap.fill(\", \".join(dynamic_features), width=100))"
   ]
  },
  {
   "cell_type": "code",
   "execution_count": 96,
   "metadata": {
    "collapsed": false,
    "execution": {
     "iopub.execute_input": "2024-10-20T10:15:29.183099Z",
     "iopub.status.busy": "2024-10-20T10:15:29.182759Z",
     "iopub.status.idle": "2024-10-20T10:15:29.272929Z",
     "shell.execute_reply": "2024-10-20T10:15:29.271947Z"
    }
   },
   "outputs": [
    {
     "name": "stdout",
     "output_type": "stream",
     "text": [
      "LamaHIce with 76 stations, 28 dynamic and 154 static features\n"
     ]
    }
   ],
   "source": [
    "dataset = RainfallRunoff('LamaHIce', timestep='H', data_type='total_upstrm', path=gscad_path, verbosity=0)\n",
    "print(dataset)"
   ]
  },
  {
   "cell_type": "code",
   "execution_count": 97,
   "metadata": {
    "collapsed": false,
    "execution": {
     "iopub.execute_input": "2024-10-20T10:15:29.276496Z",
     "iopub.status.busy": "2024-10-20T10:15:29.276270Z",
     "iopub.status.idle": "2024-10-20T10:15:29.282316Z",
     "shell.execute_reply": "2024-10-20T10:15:29.281414Z"
    }
   },
   "outputs": [
    {
     "name": "stdout",
     "output_type": "stream",
     "text": [
      "ET_ERA5L_all_basin, ET_ERA5L_unfiltered_basin, ET_rav_all_basin, ET_rav_unfiltered_basin,\n",
      "PET_ERA5L_all_basin, PET_ERA5L_unfiltered_basin, PET_rav_all_basin, PET_rav_unfiltered_basin,\n",
      "P_ERA5L_all_basin, P_ERA5L_unfiltered_basin, P_rav_all_basin, P_rav_unfiltered_basin, Q5_basin,\n",
      "Q5_gauge, Q95_basin, Q95_gauge, Q_all_basin, Q_unfiltered_basin, VHM_no_gauge, V_no_gauge,\n",
      "agr_fra_basin, area_calc_basin, aridity_ERA5L_basin, aridity_basin, asp_mean_basin, bare_fra_basin,\n",
      "baseflow_index_ladson_basin, baseflow_index_ladson_gauge, bedrk_dep_basin, clay_fra_basin,\n",
      "degimpact_basin, degimpact_gauge, elev_mean_basin, elev_med_basin, elev_ran_basin, elev_std_basin,\n",
      "elevation_gauge, elon_ratio_basin, forest_fra_basin, frac_snow_ERA5L_basin, frac_snow_basin,\n",
      "g621_fra_basin, g701_fra_basin, g743_fra_basin, g746_fra_basin, g_area_basin, g_aspect_basin,\n",
      "g_dom_NI_basin, g_frac_basin, g_lat_basin, g_lon_basin, g_max_el_basin, g_mean_el_basin,\n",
      "g_min_el_basin, g_slope_basin, g_slopel20_basin, gaps_hourly_gauge, gbinn_fra_basin,\n",
      "gbnew_fra_basin, gbold_fra_basin, gc_23_dom_basin, gc_23_pavr_basin, gc_23_pb_basin,\n",
      "gc_23_vapy_basin, gc_23_vb_basin, gc_23_vbpy_basin, gc_23_vbsr_basin, gc_dom_basin, gc_pa_fra_basin,\n",
      "gc_pb_fra_basin, gc_va_fra_basin, gc_vb_fra_basin, geometry_gauge, ggnew_fra_basin, ggold_fra_basin,\n",
      "ghraun_fra_basin, glac_fra_basin, gmob_fra_basin, grav_fra_basin, gsgos_fra_basin, gsinn_fra_basin,\n",
      "gsn_fra_basin, gsnew_fra_basin, gsold_fra_basin, gvf_diff_basin, gvf_max_basin, hfd_mean_basin,\n",
      "hfd_mean_gauge, high_prec_du_ERA5L_basin, high_prec_du_basin, high_prec_fr_ERA5L_basin,\n",
      "high_prec_fr_basin, high_prec_timing_ERA5L_basin, high_prec_timing_basin, high_q_dur_basin,\n",
      "high_q_dur_gauge, high_q_freq_basin, high_q_freq_gauge, lai_diff_basin, lai_max_basin,\n",
      "lake_fra_basin, lat_gauge, lc_dom_basin, lo_prec_fr_ERA5L_basin, lo_prec_fr_basin, lon_gauge,\n",
      "low_prec_du_ERA5L_basin, low_prec_du_basin, low_prec_timing_ERA5L_basin, low_prec_timing_basin,\n",
      "low_q_dur_basin, low_q_dur_gauge, low_q_freq_basin, low_q_freq_gauge, mvert_ang_basin,\n",
      "mvert_dist_basin, name_gauge, ndvi_max_basin, ndvi_min_basin, obsbeg_day_gauge, obsbeg_hr_gauge,\n",
      "obsend_day_gauge, obsend_hr_gauge, oc_fra_basin, p_mean_ERA5L_basin, p_mean_basin,\n",
      "p_season_ERA5L_basin, p_season_basin, pet_mean_ERA5L_basin, q_mean_basin, q_mean_gauge,\n",
      "ref_et_mean_basin, river_gauge, root_dep_basin, runoff_ratio_basin, runoff_ratio_gauge,\n",
      "sand_fra_basin, scrub_fra_basin, silt_fra_basin, slope_fdc_basin, slope_fdc_gauge, slope_mean_basin,\n",
      "soil_poros_basin, soil_tawc_basin, stream_elas_basin, stream_elas_gauge, strm_dens_basin,\n",
      "typimpact_basin, typimpact_gauge, urban_fra_basin, water_year_all_basin,\n",
      "water_year_unfiltered_basin, wetl_fra_basin, zero_q_freq_gauge\n"
     ]
    }
   ],
   "source": [
    "static_features = dataset.static_features\n",
    "static_features.sort()\n",
    "print(textwrap.fill(\", \".join(static_features), width=100))"
   ]
  },
  {
   "cell_type": "code",
   "execution_count": 98,
   "metadata": {
    "collapsed": false,
    "execution": {
     "iopub.execute_input": "2024-10-20T10:15:29.286335Z",
     "iopub.status.busy": "2024-10-20T10:15:29.286063Z",
     "iopub.status.idle": "2024-10-20T10:15:29.321538Z",
     "shell.execute_reply": "2024-10-20T10:15:29.320450Z"
    }
   },
   "outputs": [
    {
     "name": "stdout",
     "output_type": "stream",
     "text": [
      "(76, 154)\n"
     ]
    }
   ],
   "source": [
    "df = dataset.fetch_static_features()\n",
    "print(df.shape)"
   ]
  },
  {
   "cell_type": "code",
   "execution_count": 99,
   "metadata": {
    "collapsed": false,
    "execution": {
     "iopub.execute_input": "2024-10-20T10:15:29.324331Z",
     "iopub.status.busy": "2024-10-20T10:15:29.323976Z",
     "iopub.status.idle": "2024-10-20T10:15:29.339271Z",
     "shell.execute_reply": "2024-10-20T10:15:29.338015Z"
    }
   },
   "outputs": [
    {
     "name": "stdout",
     "output_type": "stream",
     "text": [
      "1121\n"
     ]
    },
    {
     "data": {
      "text/plain": [
       "ET_ERA5L_all_basin             18\n",
       "ET_ERA5L_unfiltered_basin       3\n",
       "ET_rav_all_basin               18\n",
       "ET_rav_unfiltered_basin         3\n",
       "PET_ERA5L_all_basin            18\n",
       "                               ..\n",
       "urban_fra_basin                 0\n",
       "water_year_all_basin           18\n",
       "water_year_unfiltered_basin     3\n",
       "wetl_fra_basin                  0\n",
       "zero_q_freq_gauge              18\n",
       "Length: 154, dtype: int64"
      ]
     },
     "execution_count": 99,
     "metadata": {},
     "output_type": "execute_result"
    }
   ],
   "source": [
    "print(df.isna().sum().sum())\n",
    "df.isna().sum()"
   ]
  },
  {
   "cell_type": "markdown",
   "metadata": {},
   "source": [
    "find those columns which have at least one NaN value\n",
    "\n"
   ]
  },
  {
   "cell_type": "code",
   "execution_count": 100,
   "metadata": {
    "collapsed": false,
    "execution": {
     "iopub.execute_input": "2024-10-20T10:15:29.343363Z",
     "iopub.status.busy": "2024-10-20T10:15:29.343067Z",
     "iopub.status.idle": "2024-10-20T10:15:29.374135Z",
     "shell.execute_reply": "2024-10-20T10:15:29.373465Z"
    }
   },
   "outputs": [
    {
     "data": {
      "text/html": [
       "<div>\n",
       "<style scoped>\n",
       "    .dataframe tbody tr th:only-of-type {\n",
       "        vertical-align: middle;\n",
       "    }\n",
       "\n",
       "    .dataframe tbody tr th {\n",
       "        vertical-align: top;\n",
       "    }\n",
       "\n",
       "    .dataframe thead th {\n",
       "        text-align: right;\n",
       "    }\n",
       "</style>\n",
       "<table border=\"1\" class=\"dataframe\">\n",
       "  <thead>\n",
       "    <tr style=\"text-align: right;\">\n",
       "      <th></th>\n",
       "      <th>ET_ERA5L_all_basin</th>\n",
       "      <th>ET_ERA5L_unfiltered_basin</th>\n",
       "      <th>ET_rav_all_basin</th>\n",
       "      <th>ET_rav_unfiltered_basin</th>\n",
       "      <th>PET_ERA5L_all_basin</th>\n",
       "      <th>PET_ERA5L_unfiltered_basin</th>\n",
       "      <th>PET_rav_all_basin</th>\n",
       "      <th>PET_rav_unfiltered_basin</th>\n",
       "      <th>P_ERA5L_all_basin</th>\n",
       "      <th>P_ERA5L_unfiltered_basin</th>\n",
       "      <th>...</th>\n",
       "      <th>q_mean_gauge</th>\n",
       "      <th>runoff_ratio_basin</th>\n",
       "      <th>runoff_ratio_gauge</th>\n",
       "      <th>slope_fdc_basin</th>\n",
       "      <th>slope_fdc_gauge</th>\n",
       "      <th>stream_elas_basin</th>\n",
       "      <th>stream_elas_gauge</th>\n",
       "      <th>water_year_all_basin</th>\n",
       "      <th>water_year_unfiltered_basin</th>\n",
       "      <th>zero_q_freq_gauge</th>\n",
       "    </tr>\n",
       "    <tr>\n",
       "      <th>id</th>\n",
       "      <th></th>\n",
       "      <th></th>\n",
       "      <th></th>\n",
       "      <th></th>\n",
       "      <th></th>\n",
       "      <th></th>\n",
       "      <th></th>\n",
       "      <th></th>\n",
       "      <th></th>\n",
       "      <th></th>\n",
       "      <th></th>\n",
       "      <th></th>\n",
       "      <th></th>\n",
       "      <th></th>\n",
       "      <th></th>\n",
       "      <th></th>\n",
       "      <th></th>\n",
       "      <th></th>\n",
       "      <th></th>\n",
       "      <th></th>\n",
       "      <th></th>\n",
       "    </tr>\n",
       "  </thead>\n",
       "  <tbody>\n",
       "    <tr>\n",
       "      <th>79</th>\n",
       "      <td>0.640192</td>\n",
       "      <td>0.636492</td>\n",
       "      <td>0.634929</td>\n",
       "      <td>0.633861</td>\n",
       "      <td>1.295533</td>\n",
       "      <td>1.293016</td>\n",
       "      <td>0.547516</td>\n",
       "      <td>0.557275</td>\n",
       "      <td>4.648427</td>\n",
       "      <td>4.631319</td>\n",
       "      <td>...</td>\n",
       "      <td>9.389204</td>\n",
       "      <td>1.786</td>\n",
       "      <td>1.785626</td>\n",
       "      <td>0.404</td>\n",
       "      <td>0.404174</td>\n",
       "      <td>0.507</td>\n",
       "      <td>0.506978</td>\n",
       "      <td>2000.272524</td>\n",
       "      <td>1999.000666</td>\n",
       "      <td>0.0</td>\n",
       "    </tr>\n",
       "    <tr>\n",
       "      <th>98</th>\n",
       "      <td>0.603482</td>\n",
       "      <td>0.593119</td>\n",
       "      <td>0.599214</td>\n",
       "      <td>0.588846</td>\n",
       "      <td>2.000104</td>\n",
       "      <td>1.942428</td>\n",
       "      <td>0.559626</td>\n",
       "      <td>0.536703</td>\n",
       "      <td>4.717848</td>\n",
       "      <td>4.647344</td>\n",
       "      <td>...</td>\n",
       "      <td>5.951890</td>\n",
       "      <td>1.178</td>\n",
       "      <td>1.178091</td>\n",
       "      <td>0.561</td>\n",
       "      <td>0.560945</td>\n",
       "      <td>0.666</td>\n",
       "      <td>0.666312</td>\n",
       "      <td>2010.601150</td>\n",
       "      <td>2011.000632</td>\n",
       "      <td>0.0</td>\n",
       "    </tr>\n",
       "    <tr>\n",
       "      <th>25</th>\n",
       "      <td>1.378187</td>\n",
       "      <td>1.396363</td>\n",
       "      <td>0.668298</td>\n",
       "      <td>0.665824</td>\n",
       "      <td>4.609922</td>\n",
       "      <td>4.601343</td>\n",
       "      <td>0.529151</td>\n",
       "      <td>0.506576</td>\n",
       "      <td>5.546952</td>\n",
       "      <td>5.682186</td>\n",
       "      <td>...</td>\n",
       "      <td>10.316638</td>\n",
       "      <td>2.346</td>\n",
       "      <td>2.345917</td>\n",
       "      <td>1.441</td>\n",
       "      <td>1.440679</td>\n",
       "      <td>0.579</td>\n",
       "      <td>0.579003</td>\n",
       "      <td>2004.386057</td>\n",
       "      <td>2003.470929</td>\n",
       "      <td>0.0</td>\n",
       "    </tr>\n",
       "    <tr>\n",
       "      <th>1</th>\n",
       "      <td>0.710055</td>\n",
       "      <td>0.718156</td>\n",
       "      <td>0.651314</td>\n",
       "      <td>0.655982</td>\n",
       "      <td>1.472727</td>\n",
       "      <td>1.473907</td>\n",
       "      <td>0.616380</td>\n",
       "      <td>0.603120</td>\n",
       "      <td>3.769304</td>\n",
       "      <td>3.859496</td>\n",
       "      <td>...</td>\n",
       "      <td>4.546374</td>\n",
       "      <td>1.115</td>\n",
       "      <td>1.114759</td>\n",
       "      <td>2.715</td>\n",
       "      <td>2.715291</td>\n",
       "      <td>1.365</td>\n",
       "      <td>1.364999</td>\n",
       "      <td>2010.248973</td>\n",
       "      <td>2010.499609</td>\n",
       "      <td>0.0</td>\n",
       "    </tr>\n",
       "    <tr>\n",
       "      <th>34</th>\n",
       "      <td>NaN</td>\n",
       "      <td>0.436237</td>\n",
       "      <td>NaN</td>\n",
       "      <td>0.282329</td>\n",
       "      <td>NaN</td>\n",
       "      <td>0.656889</td>\n",
       "      <td>NaN</td>\n",
       "      <td>0.243403</td>\n",
       "      <td>NaN</td>\n",
       "      <td>3.560044</td>\n",
       "      <td>...</td>\n",
       "      <td>NaN</td>\n",
       "      <td>NaN</td>\n",
       "      <td>NaN</td>\n",
       "      <td>NaN</td>\n",
       "      <td>NaN</td>\n",
       "      <td>NaN</td>\n",
       "      <td>NaN</td>\n",
       "      <td>NaN</td>\n",
       "      <td>1999.000666</td>\n",
       "      <td>NaN</td>\n",
       "    </tr>\n",
       "    <tr>\n",
       "      <th>...</th>\n",
       "      <td>...</td>\n",
       "      <td>...</td>\n",
       "      <td>...</td>\n",
       "      <td>...</td>\n",
       "      <td>...</td>\n",
       "      <td>...</td>\n",
       "      <td>...</td>\n",
       "      <td>...</td>\n",
       "      <td>...</td>\n",
       "      <td>...</td>\n",
       "      <td>...</td>\n",
       "      <td>...</td>\n",
       "      <td>...</td>\n",
       "      <td>...</td>\n",
       "      <td>...</td>\n",
       "      <td>...</td>\n",
       "      <td>...</td>\n",
       "      <td>...</td>\n",
       "      <td>...</td>\n",
       "      <td>...</td>\n",
       "      <td>...</td>\n",
       "    </tr>\n",
       "    <tr>\n",
       "      <th>61</th>\n",
       "      <td>NaN</td>\n",
       "      <td>0.983718</td>\n",
       "      <td>NaN</td>\n",
       "      <td>0.833118</td>\n",
       "      <td>NaN</td>\n",
       "      <td>4.068661</td>\n",
       "      <td>NaN</td>\n",
       "      <td>0.638480</td>\n",
       "      <td>NaN</td>\n",
       "      <td>4.475473</td>\n",
       "      <td>...</td>\n",
       "      <td>NaN</td>\n",
       "      <td>NaN</td>\n",
       "      <td>NaN</td>\n",
       "      <td>NaN</td>\n",
       "      <td>NaN</td>\n",
       "      <td>NaN</td>\n",
       "      <td>NaN</td>\n",
       "      <td>NaN</td>\n",
       "      <td>2013.000608</td>\n",
       "      <td>NaN</td>\n",
       "    </tr>\n",
       "    <tr>\n",
       "      <th>94</th>\n",
       "      <td>NaN</td>\n",
       "      <td>0.565821</td>\n",
       "      <td>NaN</td>\n",
       "      <td>0.646134</td>\n",
       "      <td>NaN</td>\n",
       "      <td>1.009009</td>\n",
       "      <td>NaN</td>\n",
       "      <td>0.569345</td>\n",
       "      <td>NaN</td>\n",
       "      <td>2.851701</td>\n",
       "      <td>...</td>\n",
       "      <td>NaN</td>\n",
       "      <td>NaN</td>\n",
       "      <td>NaN</td>\n",
       "      <td>NaN</td>\n",
       "      <td>NaN</td>\n",
       "      <td>NaN</td>\n",
       "      <td>NaN</td>\n",
       "      <td>NaN</td>\n",
       "      <td>2010.014082</td>\n",
       "      <td>NaN</td>\n",
       "    </tr>\n",
       "    <tr>\n",
       "      <th>54</th>\n",
       "      <td>0.286762</td>\n",
       "      <td>0.318574</td>\n",
       "      <td>0.428488</td>\n",
       "      <td>0.405101</td>\n",
       "      <td>0.409014</td>\n",
       "      <td>0.466285</td>\n",
       "      <td>0.490258</td>\n",
       "      <td>0.472720</td>\n",
       "      <td>4.375074</td>\n",
       "      <td>4.262709</td>\n",
       "      <td>...</td>\n",
       "      <td>6.364638</td>\n",
       "      <td>1.014</td>\n",
       "      <td>1.014307</td>\n",
       "      <td>3.767</td>\n",
       "      <td>3.766742</td>\n",
       "      <td>0.929</td>\n",
       "      <td>0.929429</td>\n",
       "      <td>1997.000000</td>\n",
       "      <td>2000.226138</td>\n",
       "      <td>0.0</td>\n",
       "    </tr>\n",
       "    <tr>\n",
       "      <th>80</th>\n",
       "      <td>0.649492</td>\n",
       "      <td>0.646736</td>\n",
       "      <td>0.529909</td>\n",
       "      <td>0.521922</td>\n",
       "      <td>1.126047</td>\n",
       "      <td>1.143551</td>\n",
       "      <td>0.468229</td>\n",
       "      <td>0.485154</td>\n",
       "      <td>4.652074</td>\n",
       "      <td>4.312049</td>\n",
       "      <td>...</td>\n",
       "      <td>4.225174</td>\n",
       "      <td>0.871</td>\n",
       "      <td>0.870663</td>\n",
       "      <td>1.945</td>\n",
       "      <td>1.945021</td>\n",
       "      <td>0.913</td>\n",
       "      <td>0.913007</td>\n",
       "      <td>2008.890240</td>\n",
       "      <td>2009.224360</td>\n",
       "      <td>0.0</td>\n",
       "    </tr>\n",
       "    <tr>\n",
       "      <th>72</th>\n",
       "      <td>NaN</td>\n",
       "      <td>0.476955</td>\n",
       "      <td>NaN</td>\n",
       "      <td>0.385069</td>\n",
       "      <td>NaN</td>\n",
       "      <td>0.928519</td>\n",
       "      <td>NaN</td>\n",
       "      <td>0.511240</td>\n",
       "      <td>NaN</td>\n",
       "      <td>3.048227</td>\n",
       "      <td>...</td>\n",
       "      <td>NaN</td>\n",
       "      <td>NaN</td>\n",
       "      <td>NaN</td>\n",
       "      <td>NaN</td>\n",
       "      <td>NaN</td>\n",
       "      <td>NaN</td>\n",
       "      <td>NaN</td>\n",
       "      <td>NaN</td>\n",
       "      <td>2007.389354</td>\n",
       "      <td>NaN</td>\n",
       "    </tr>\n",
       "  </tbody>\n",
       "</table>\n",
       "<p>76 rows × 51 columns</p>\n",
       "</div>"
      ],
      "text/plain": [
       "    ET_ERA5L_all_basin  ET_ERA5L_unfiltered_basin  ET_rav_all_basin  \\\n",
       "id                                                                    \n",
       "79            0.640192                   0.636492          0.634929   \n",
       "98            0.603482                   0.593119          0.599214   \n",
       "25            1.378187                   1.396363          0.668298   \n",
       "1             0.710055                   0.718156          0.651314   \n",
       "34                 NaN                   0.436237               NaN   \n",
       "..                 ...                        ...               ...   \n",
       "61                 NaN                   0.983718               NaN   \n",
       "94                 NaN                   0.565821               NaN   \n",
       "54            0.286762                   0.318574          0.428488   \n",
       "80            0.649492                   0.646736          0.529909   \n",
       "72                 NaN                   0.476955               NaN   \n",
       "\n",
       "    ET_rav_unfiltered_basin  PET_ERA5L_all_basin  PET_ERA5L_unfiltered_basin  \\\n",
       "id                                                                             \n",
       "79                 0.633861             1.295533                    1.293016   \n",
       "98                 0.588846             2.000104                    1.942428   \n",
       "25                 0.665824             4.609922                    4.601343   \n",
       "1                  0.655982             1.472727                    1.473907   \n",
       "34                 0.282329                  NaN                    0.656889   \n",
       "..                      ...                  ...                         ...   \n",
       "61                 0.833118                  NaN                    4.068661   \n",
       "94                 0.646134                  NaN                    1.009009   \n",
       "54                 0.405101             0.409014                    0.466285   \n",
       "80                 0.521922             1.126047                    1.143551   \n",
       "72                 0.385069                  NaN                    0.928519   \n",
       "\n",
       "    PET_rav_all_basin  PET_rav_unfiltered_basin  P_ERA5L_all_basin  \\\n",
       "id                                                                   \n",
       "79           0.547516                  0.557275           4.648427   \n",
       "98           0.559626                  0.536703           4.717848   \n",
       "25           0.529151                  0.506576           5.546952   \n",
       "1            0.616380                  0.603120           3.769304   \n",
       "34                NaN                  0.243403                NaN   \n",
       "..                ...                       ...                ...   \n",
       "61                NaN                  0.638480                NaN   \n",
       "94                NaN                  0.569345                NaN   \n",
       "54           0.490258                  0.472720           4.375074   \n",
       "80           0.468229                  0.485154           4.652074   \n",
       "72                NaN                  0.511240                NaN   \n",
       "\n",
       "    P_ERA5L_unfiltered_basin  ...  q_mean_gauge  runoff_ratio_basin  \\\n",
       "id                            ...                                     \n",
       "79                  4.631319  ...      9.389204               1.786   \n",
       "98                  4.647344  ...      5.951890               1.178   \n",
       "25                  5.682186  ...     10.316638               2.346   \n",
       "1                   3.859496  ...      4.546374               1.115   \n",
       "34                  3.560044  ...           NaN                 NaN   \n",
       "..                       ...  ...           ...                 ...   \n",
       "61                  4.475473  ...           NaN                 NaN   \n",
       "94                  2.851701  ...           NaN                 NaN   \n",
       "54                  4.262709  ...      6.364638               1.014   \n",
       "80                  4.312049  ...      4.225174               0.871   \n",
       "72                  3.048227  ...           NaN                 NaN   \n",
       "\n",
       "    runoff_ratio_gauge  slope_fdc_basin  slope_fdc_gauge  stream_elas_basin  \\\n",
       "id                                                                            \n",
       "79            1.785626            0.404         0.404174              0.507   \n",
       "98            1.178091            0.561         0.560945              0.666   \n",
       "25            2.345917            1.441         1.440679              0.579   \n",
       "1             1.114759            2.715         2.715291              1.365   \n",
       "34                 NaN              NaN              NaN                NaN   \n",
       "..                 ...              ...              ...                ...   \n",
       "61                 NaN              NaN              NaN                NaN   \n",
       "94                 NaN              NaN              NaN                NaN   \n",
       "54            1.014307            3.767         3.766742              0.929   \n",
       "80            0.870663            1.945         1.945021              0.913   \n",
       "72                 NaN              NaN              NaN                NaN   \n",
       "\n",
       "    stream_elas_gauge  water_year_all_basin  water_year_unfiltered_basin  \\\n",
       "id                                                                         \n",
       "79           0.506978           2000.272524                  1999.000666   \n",
       "98           0.666312           2010.601150                  2011.000632   \n",
       "25           0.579003           2004.386057                  2003.470929   \n",
       "1            1.364999           2010.248973                  2010.499609   \n",
       "34                NaN                   NaN                  1999.000666   \n",
       "..                ...                   ...                          ...   \n",
       "61                NaN                   NaN                  2013.000608   \n",
       "94                NaN                   NaN                  2010.014082   \n",
       "54           0.929429           1997.000000                  2000.226138   \n",
       "80           0.913007           2008.890240                  2009.224360   \n",
       "72                NaN                   NaN                  2007.389354   \n",
       "\n",
       "    zero_q_freq_gauge  \n",
       "id                     \n",
       "79                0.0  \n",
       "98                0.0  \n",
       "25                0.0  \n",
       "1                 0.0  \n",
       "34                NaN  \n",
       "..                ...  \n",
       "61                NaN  \n",
       "94                NaN  \n",
       "54                0.0  \n",
       "80                0.0  \n",
       "72                NaN  \n",
       "\n",
       "[76 rows x 51 columns]"
      ]
     },
     "execution_count": 100,
     "metadata": {},
     "output_type": "execute_result"
    }
   ],
   "source": [
    "df.loc[:, (df.isna().sum()>0)]"
   ]
  },
  {
   "cell_type": "code",
   "execution_count": 101,
   "metadata": {
    "collapsed": false,
    "execution": {
     "iopub.execute_input": "2024-10-20T10:15:29.377459Z",
     "iopub.status.busy": "2024-10-20T10:15:29.377133Z",
     "iopub.status.idle": "2024-10-20T10:15:29.387502Z",
     "shell.execute_reply": "2024-10-20T10:15:29.386565Z"
    }
   },
   "outputs": [
    {
     "data": {
      "text/plain": [
       "ET_ERA5L_all_basin             18\n",
       "ET_ERA5L_unfiltered_basin       3\n",
       "ET_rav_all_basin               18\n",
       "ET_rav_unfiltered_basin         3\n",
       "PET_ERA5L_all_basin            18\n",
       "PET_ERA5L_unfiltered_basin      3\n",
       "PET_rav_all_basin              18\n",
       "PET_rav_unfiltered_basin        3\n",
       "P_ERA5L_all_basin              18\n",
       "P_ERA5L_unfiltered_basin        3\n",
       "P_rav_all_basin                18\n",
       "P_rav_unfiltered_basin          3\n",
       "Q5_basin                       18\n",
       "Q5_gauge                       18\n",
       "Q95_basin                      18\n",
       "Q95_gauge                      18\n",
       "Q_all_basin                    18\n",
       "Q_unfiltered_basin              3\n",
       "baseflow_index_ladson_basin    18\n",
       "baseflow_index_ladson_gauge    18\n",
       "g_aspect_basin                 36\n",
       "g_lat_basin                    36\n",
       "g_lon_basin                    36\n",
       "g_max_el_basin                 36\n",
       "g_mean_el_basin                36\n",
       "g_min_el_basin                 36\n",
       "g_slope_basin                  36\n",
       "g_slopel20_basin               36\n",
       "hfd_mean_basin                 21\n",
       "hfd_mean_gauge                 21\n",
       "high_prec_timing_basin          3\n",
       "high_q_dur_basin               41\n",
       "high_q_dur_gauge               41\n",
       "high_q_freq_basin              41\n",
       "high_q_freq_gauge              41\n",
       "low_prec_timing_ERA5L_basin     2\n",
       "low_q_dur_basin                46\n",
       "low_q_dur_gauge                46\n",
       "low_q_freq_basin               46\n",
       "low_q_freq_gauge               46\n",
       "q_mean_basin                   18\n",
       "q_mean_gauge                   18\n",
       "runoff_ratio_basin             18\n",
       "runoff_ratio_gauge             18\n",
       "slope_fdc_basin                18\n",
       "slope_fdc_gauge                18\n",
       "stream_elas_basin              18\n",
       "stream_elas_gauge              18\n",
       "water_year_all_basin           18\n",
       "water_year_unfiltered_basin     3\n",
       "zero_q_freq_gauge              18\n",
       "dtype: int64"
      ]
     },
     "execution_count": 101,
     "metadata": {},
     "output_type": "execute_result"
    }
   ],
   "source": [
    "df.loc[:, (df.isna().sum()>0)].isna().sum()"
   ]
  },
  {
   "cell_type": "code",
   "execution_count": 102,
   "metadata": {
    "collapsed": false,
    "execution": {
     "iopub.execute_input": "2024-10-20T10:15:29.391303Z",
     "iopub.status.busy": "2024-10-20T10:15:29.391036Z",
     "iopub.status.idle": "2024-10-20T10:15:29.405193Z",
     "shell.execute_reply": "2024-10-20T10:15:29.404083Z"
    }
   },
   "outputs": [
    {
     "name": "stdout",
     "output_type": "stream",
     "text": [
      "10m_wind_u, 10m_wind_u_rav, 10m_wind_v, 10m_wind_v_rav, 2m_dp_temp, 2m_qv_rav, 2m_temp_rav,\n",
      "fcst_alb, grdflx_rav, lai_high_veg, lai_low_veg, mean_temp_C, obs_q_cms, pcp_mm, pet_mm, prec_rav,\n",
      "surf_dwn_solar_rad_rav, surf_dwn_therm_rad_rav, surf_net_solar_rad, surf_net_therm_rad,\n",
      "surf_outg_therm_rad_rav, surf_press, surf_press_rav, swe, total_et, total_et_rav, volsw_123, volsw_4\n"
     ]
    }
   ],
   "source": [
    "dynamic_features = dataset.dynamic_features\n",
    "dynamic_features.sort()\n",
    "print(textwrap.fill(\", \".join(dynamic_features), width=100))"
   ]
  },
  {
   "cell_type": "markdown",
   "metadata": {},
   "source": [
    "## HYSETS\n",
    "\n"
   ]
  },
  {
   "cell_type": "code",
   "execution_count": 103,
   "metadata": {
    "collapsed": false,
    "execution": {
     "iopub.execute_input": "2024-10-20T10:15:29.409170Z",
     "iopub.status.busy": "2024-10-20T10:15:29.408891Z",
     "iopub.status.idle": "2024-10-20T10:15:29.662775Z",
     "shell.execute_reply": "2024-10-20T10:15:29.661734Z"
    }
   },
   "outputs": [
    {
     "name": "stdout",
     "output_type": "stream",
     "text": [
      "HYSETS with 14425 stations, 5 dynamic and 28 static features\n"
     ]
    }
   ],
   "source": [
    "dataset = RainfallRunoff('HYSETS', path=os.path.join(gscad_path, 'HYSETS'), verbosity=0)\n",
    "print(dataset)"
   ]
  },
  {
   "cell_type": "code",
   "execution_count": 104,
   "metadata": {
    "collapsed": false,
    "execution": {
     "iopub.execute_input": "2024-10-20T10:15:29.666154Z",
     "iopub.status.busy": "2024-10-20T10:15:29.665809Z",
     "iopub.status.idle": "2024-10-20T10:15:29.734990Z",
     "shell.execute_reply": "2024-10-20T10:15:29.733885Z"
    }
   },
   "outputs": [
    {
     "name": "stdout",
     "output_type": "stream",
     "text": [
      "Aspect_deg, Centroid_Lat_deg_N, Centroid_Lon_deg_E, Drainage_Area_GSIM_km2, Drainage_Area_km2,\n",
      "Elevation_m, Flag_Artificial_Boundaries, Flag_GSIM_boundaries, Flag_Land_Use_Extraction,\n",
      "Flag_Shape_Extraction, Flag_Subsoil_Extraction, Flag_Terrain_Extraction, Gravelius,\n",
      "Land_Use_Crops_frac, Land_Use_Forest_frac, Land_Use_Grass_frac, Land_Use_Shrubs_frac,\n",
      "Land_Use_Snow_Ice_frac, Land_Use_Urban_frac, Land_Use_Water_frac, Land_Use_Wetland_frac, Name,\n",
      "Official_ID, Perimeter, Permeability_logk_m2, Porosity_frac, Slope_deg, Source\n"
     ]
    }
   ],
   "source": [
    "static_features = dataset.static_features\n",
    "static_features.sort()\n",
    "print(textwrap.fill(\", \".join(static_features), width=100))"
   ]
  },
  {
   "cell_type": "code",
   "execution_count": 105,
   "metadata": {
    "collapsed": false,
    "execution": {
     "iopub.execute_input": "2024-10-20T10:15:29.738856Z",
     "iopub.status.busy": "2024-10-20T10:15:29.738507Z",
     "iopub.status.idle": "2024-10-20T10:15:29.951508Z",
     "shell.execute_reply": "2024-10-20T10:15:29.950492Z"
    }
   },
   "outputs": [
    {
     "name": "stdout",
     "output_type": "stream",
     "text": [
      "(14425, 28)\n"
     ]
    }
   ],
   "source": [
    "df = dataset.fetch_static_features()\n",
    "print(df.shape)"
   ]
  },
  {
   "cell_type": "code",
   "execution_count": 106,
   "metadata": {
    "collapsed": false,
    "execution": {
     "iopub.execute_input": "2024-10-20T10:15:29.955388Z",
     "iopub.status.busy": "2024-10-20T10:15:29.955035Z",
     "iopub.status.idle": "2024-10-20T10:15:29.978633Z",
     "shell.execute_reply": "2024-10-20T10:15:29.977898Z"
    }
   },
   "outputs": [
    {
     "name": "stdout",
     "output_type": "stream",
     "text": [
      "20179\n"
     ]
    },
    {
     "data": {
      "text/plain": [
       "Source                            0\n",
       "Name                              0\n",
       "Official_ID                       0\n",
       "Centroid_Lat_deg_N                0\n",
       "Centroid_Lon_deg_E                0\n",
       "Drainage_Area_km2                 0\n",
       "Drainage_Area_GSIM_km2        13561\n",
       "Flag_GSIM_boundaries              0\n",
       "Flag_Artificial_Boundaries        0\n",
       "Elevation_m                       6\n",
       "Slope_deg                         6\n",
       "Gravelius                      1633\n",
       "Perimeter                      1633\n",
       "Flag_Shape_Extraction             0\n",
       "Aspect_deg                        6\n",
       "Flag_Terrain_Extraction           0\n",
       "Land_Use_Forest_frac             13\n",
       "Land_Use_Grass_frac              13\n",
       "Land_Use_Wetland_frac            13\n",
       "Land_Use_Water_frac              13\n",
       "Land_Use_Urban_frac              13\n",
       "Land_Use_Shrubs_frac             13\n",
       "Land_Use_Crops_frac              13\n",
       "Land_Use_Snow_Ice_frac           13\n",
       "Flag_Land_Use_Extraction          0\n",
       "Permeability_logk_m2           1615\n",
       "Porosity_frac                  1615\n",
       "Flag_Subsoil_Extraction           0\n",
       "dtype: int64"
      ]
     },
     "execution_count": 106,
     "metadata": {},
     "output_type": "execute_result"
    }
   ],
   "source": [
    "print(df.isna().sum().sum())\n",
    "df.isna().sum()"
   ]
  },
  {
   "cell_type": "markdown",
   "metadata": {},
   "source": [
    "find those columns which have at least one NaN value\n",
    "\n"
   ]
  },
  {
   "cell_type": "code",
   "execution_count": 107,
   "metadata": {
    "collapsed": false,
    "execution": {
     "iopub.execute_input": "2024-10-20T10:15:29.982446Z",
     "iopub.status.busy": "2024-10-20T10:15:29.982115Z",
     "iopub.status.idle": "2024-10-20T10:15:30.015742Z",
     "shell.execute_reply": "2024-10-20T10:15:30.014898Z"
    }
   },
   "outputs": [
    {
     "data": {
      "text/html": [
       "<div>\n",
       "<style scoped>\n",
       "    .dataframe tbody tr th:only-of-type {\n",
       "        vertical-align: middle;\n",
       "    }\n",
       "\n",
       "    .dataframe tbody tr th {\n",
       "        vertical-align: top;\n",
       "    }\n",
       "\n",
       "    .dataframe thead th {\n",
       "        text-align: right;\n",
       "    }\n",
       "</style>\n",
       "<table border=\"1\" class=\"dataframe\">\n",
       "  <thead>\n",
       "    <tr style=\"text-align: right;\">\n",
       "      <th></th>\n",
       "      <th>Drainage_Area_GSIM_km2</th>\n",
       "      <th>Elevation_m</th>\n",
       "      <th>Slope_deg</th>\n",
       "      <th>Gravelius</th>\n",
       "      <th>Perimeter</th>\n",
       "      <th>Aspect_deg</th>\n",
       "      <th>Land_Use_Forest_frac</th>\n",
       "      <th>Land_Use_Grass_frac</th>\n",
       "      <th>Land_Use_Wetland_frac</th>\n",
       "      <th>Land_Use_Water_frac</th>\n",
       "      <th>Land_Use_Urban_frac</th>\n",
       "      <th>Land_Use_Shrubs_frac</th>\n",
       "      <th>Land_Use_Crops_frac</th>\n",
       "      <th>Land_Use_Snow_Ice_frac</th>\n",
       "      <th>Permeability_logk_m2</th>\n",
       "      <th>Porosity_frac</th>\n",
       "    </tr>\n",
       "    <tr>\n",
       "      <th>Watershed_ID</th>\n",
       "      <th></th>\n",
       "      <th></th>\n",
       "      <th></th>\n",
       "      <th></th>\n",
       "      <th></th>\n",
       "      <th></th>\n",
       "      <th></th>\n",
       "      <th></th>\n",
       "      <th></th>\n",
       "      <th></th>\n",
       "      <th></th>\n",
       "      <th></th>\n",
       "      <th></th>\n",
       "      <th></th>\n",
       "      <th></th>\n",
       "      <th></th>\n",
       "    </tr>\n",
       "  </thead>\n",
       "  <tbody>\n",
       "    <tr>\n",
       "      <th>1</th>\n",
       "      <td>NaN</td>\n",
       "      <td>362.3</td>\n",
       "      <td>3.5329</td>\n",
       "      <td>2.7834</td>\n",
       "      <td>1194.505</td>\n",
       "      <td>130.4023</td>\n",
       "      <td>0.7869</td>\n",
       "      <td>0.0147</td>\n",
       "      <td>0.0645</td>\n",
       "      <td>0.0258</td>\n",
       "      <td>0.0089</td>\n",
       "      <td>0.0749</td>\n",
       "      <td>0.0242</td>\n",
       "      <td>0.0</td>\n",
       "      <td>-14.719327</td>\n",
       "      <td>0.180905</td>\n",
       "    </tr>\n",
       "    <tr>\n",
       "      <th>2</th>\n",
       "      <td>NaN</td>\n",
       "      <td>353.4</td>\n",
       "      <td>4.6633</td>\n",
       "      <td>2.0656</td>\n",
       "      <td>269.164</td>\n",
       "      <td>91.7329</td>\n",
       "      <td>0.8452</td>\n",
       "      <td>0.0102</td>\n",
       "      <td>0.0228</td>\n",
       "      <td>0.0219</td>\n",
       "      <td>0.0174</td>\n",
       "      <td>0.0410</td>\n",
       "      <td>0.0414</td>\n",
       "      <td>0.0</td>\n",
       "      <td>-14.056491</td>\n",
       "      <td>0.206450</td>\n",
       "    </tr>\n",
       "    <tr>\n",
       "      <th>3</th>\n",
       "      <td>2693.814</td>\n",
       "      <td>293.3</td>\n",
       "      <td>4.4690</td>\n",
       "      <td>2.0620</td>\n",
       "      <td>381.994</td>\n",
       "      <td>223.9510</td>\n",
       "      <td>0.8207</td>\n",
       "      <td>0.0093</td>\n",
       "      <td>0.0032</td>\n",
       "      <td>0.0487</td>\n",
       "      <td>0.0230</td>\n",
       "      <td>0.0351</td>\n",
       "      <td>0.0600</td>\n",
       "      <td>0.0</td>\n",
       "      <td>-14.537390</td>\n",
       "      <td>0.165357</td>\n",
       "    </tr>\n",
       "    <tr>\n",
       "      <th>4</th>\n",
       "      <td>NaN</td>\n",
       "      <td>276.5</td>\n",
       "      <td>4.1819</td>\n",
       "      <td>2.4682</td>\n",
       "      <td>413.839</td>\n",
       "      <td>120.7400</td>\n",
       "      <td>0.6837</td>\n",
       "      <td>0.0226</td>\n",
       "      <td>0.1024</td>\n",
       "      <td>0.0630</td>\n",
       "      <td>0.0115</td>\n",
       "      <td>0.0641</td>\n",
       "      <td>0.0528</td>\n",
       "      <td>0.0</td>\n",
       "      <td>-14.687869</td>\n",
       "      <td>0.170597</td>\n",
       "    </tr>\n",
       "    <tr>\n",
       "      <th>5</th>\n",
       "      <td>NaN</td>\n",
       "      <td>201.8</td>\n",
       "      <td>2.8061</td>\n",
       "      <td>NaN</td>\n",
       "      <td>NaN</td>\n",
       "      <td>56.8902</td>\n",
       "      <td>0.0000</td>\n",
       "      <td>0.0000</td>\n",
       "      <td>0.0000</td>\n",
       "      <td>0.0000</td>\n",
       "      <td>0.0000</td>\n",
       "      <td>0.0000</td>\n",
       "      <td>1.0000</td>\n",
       "      <td>0.0</td>\n",
       "      <td>NaN</td>\n",
       "      <td>NaN</td>\n",
       "    </tr>\n",
       "    <tr>\n",
       "      <th>...</th>\n",
       "      <td>...</td>\n",
       "      <td>...</td>\n",
       "      <td>...</td>\n",
       "      <td>...</td>\n",
       "      <td>...</td>\n",
       "      <td>...</td>\n",
       "      <td>...</td>\n",
       "      <td>...</td>\n",
       "      <td>...</td>\n",
       "      <td>...</td>\n",
       "      <td>...</td>\n",
       "      <td>...</td>\n",
       "      <td>...</td>\n",
       "      <td>...</td>\n",
       "      <td>...</td>\n",
       "      <td>...</td>\n",
       "    </tr>\n",
       "    <tr>\n",
       "      <th>14421</th>\n",
       "      <td>NaN</td>\n",
       "      <td>1987.9</td>\n",
       "      <td>17.1982</td>\n",
       "      <td>2.0752</td>\n",
       "      <td>208.852</td>\n",
       "      <td>28.9860</td>\n",
       "      <td>0.5356</td>\n",
       "      <td>0.0330</td>\n",
       "      <td>0.0000</td>\n",
       "      <td>0.0000</td>\n",
       "      <td>0.0202</td>\n",
       "      <td>0.0170</td>\n",
       "      <td>0.3941</td>\n",
       "      <td>0.0</td>\n",
       "      <td>-13.160658</td>\n",
       "      <td>0.096755</td>\n",
       "    </tr>\n",
       "    <tr>\n",
       "      <th>14422</th>\n",
       "      <td>NaN</td>\n",
       "      <td>769.5</td>\n",
       "      <td>6.5921</td>\n",
       "      <td>1.5715</td>\n",
       "      <td>325.714</td>\n",
       "      <td>110.5607</td>\n",
       "      <td>0.1348</td>\n",
       "      <td>0.3106</td>\n",
       "      <td>0.0025</td>\n",
       "      <td>0.0024</td>\n",
       "      <td>0.0305</td>\n",
       "      <td>0.0300</td>\n",
       "      <td>0.4874</td>\n",
       "      <td>0.0</td>\n",
       "      <td>-12.698509</td>\n",
       "      <td>0.119993</td>\n",
       "    </tr>\n",
       "    <tr>\n",
       "      <th>14423</th>\n",
       "      <td>NaN</td>\n",
       "      <td>1883.2</td>\n",
       "      <td>14.7005</td>\n",
       "      <td>2.5953</td>\n",
       "      <td>1621.229</td>\n",
       "      <td>224.3422</td>\n",
       "      <td>0.8674</td>\n",
       "      <td>0.0437</td>\n",
       "      <td>0.0000</td>\n",
       "      <td>0.0026</td>\n",
       "      <td>0.0027</td>\n",
       "      <td>0.0429</td>\n",
       "      <td>0.0408</td>\n",
       "      <td>0.0</td>\n",
       "      <td>-12.976926</td>\n",
       "      <td>0.090284</td>\n",
       "    </tr>\n",
       "    <tr>\n",
       "      <th>14424</th>\n",
       "      <td>NaN</td>\n",
       "      <td>1791.2</td>\n",
       "      <td>12.1021</td>\n",
       "      <td>2.4269</td>\n",
       "      <td>1288.932</td>\n",
       "      <td>184.5177</td>\n",
       "      <td>0.7720</td>\n",
       "      <td>0.1524</td>\n",
       "      <td>0.0000</td>\n",
       "      <td>0.0013</td>\n",
       "      <td>0.0029</td>\n",
       "      <td>0.0474</td>\n",
       "      <td>0.0241</td>\n",
       "      <td>0.0</td>\n",
       "      <td>-12.968686</td>\n",
       "      <td>0.094042</td>\n",
       "    </tr>\n",
       "    <tr>\n",
       "      <th>14425</th>\n",
       "      <td>NaN</td>\n",
       "      <td>2179.1</td>\n",
       "      <td>5.9444</td>\n",
       "      <td>2.0769</td>\n",
       "      <td>165.762</td>\n",
       "      <td>112.0832</td>\n",
       "      <td>0.1605</td>\n",
       "      <td>0.5639</td>\n",
       "      <td>0.0000</td>\n",
       "      <td>0.0012</td>\n",
       "      <td>0.0091</td>\n",
       "      <td>0.1116</td>\n",
       "      <td>0.1536</td>\n",
       "      <td>0.0</td>\n",
       "      <td>-12.792099</td>\n",
       "      <td>0.168963</td>\n",
       "    </tr>\n",
       "  </tbody>\n",
       "</table>\n",
       "<p>14425 rows × 16 columns</p>\n",
       "</div>"
      ],
      "text/plain": [
       "              Drainage_Area_GSIM_km2  Elevation_m  Slope_deg  Gravelius  \\\n",
       "Watershed_ID                                                              \n",
       "1                                NaN        362.3     3.5329     2.7834   \n",
       "2                                NaN        353.4     4.6633     2.0656   \n",
       "3                           2693.814        293.3     4.4690     2.0620   \n",
       "4                                NaN        276.5     4.1819     2.4682   \n",
       "5                                NaN        201.8     2.8061        NaN   \n",
       "...                              ...          ...        ...        ...   \n",
       "14421                            NaN       1987.9    17.1982     2.0752   \n",
       "14422                            NaN        769.5     6.5921     1.5715   \n",
       "14423                            NaN       1883.2    14.7005     2.5953   \n",
       "14424                            NaN       1791.2    12.1021     2.4269   \n",
       "14425                            NaN       2179.1     5.9444     2.0769   \n",
       "\n",
       "              Perimeter  Aspect_deg  Land_Use_Forest_frac  \\\n",
       "Watershed_ID                                                \n",
       "1              1194.505    130.4023                0.7869   \n",
       "2               269.164     91.7329                0.8452   \n",
       "3               381.994    223.9510                0.8207   \n",
       "4               413.839    120.7400                0.6837   \n",
       "5                   NaN     56.8902                0.0000   \n",
       "...                 ...         ...                   ...   \n",
       "14421           208.852     28.9860                0.5356   \n",
       "14422           325.714    110.5607                0.1348   \n",
       "14423          1621.229    224.3422                0.8674   \n",
       "14424          1288.932    184.5177                0.7720   \n",
       "14425           165.762    112.0832                0.1605   \n",
       "\n",
       "              Land_Use_Grass_frac  Land_Use_Wetland_frac  Land_Use_Water_frac  \\\n",
       "Watershed_ID                                                                    \n",
       "1                          0.0147                 0.0645               0.0258   \n",
       "2                          0.0102                 0.0228               0.0219   \n",
       "3                          0.0093                 0.0032               0.0487   \n",
       "4                          0.0226                 0.1024               0.0630   \n",
       "5                          0.0000                 0.0000               0.0000   \n",
       "...                           ...                    ...                  ...   \n",
       "14421                      0.0330                 0.0000               0.0000   \n",
       "14422                      0.3106                 0.0025               0.0024   \n",
       "14423                      0.0437                 0.0000               0.0026   \n",
       "14424                      0.1524                 0.0000               0.0013   \n",
       "14425                      0.5639                 0.0000               0.0012   \n",
       "\n",
       "              Land_Use_Urban_frac  Land_Use_Shrubs_frac  Land_Use_Crops_frac  \\\n",
       "Watershed_ID                                                                   \n",
       "1                          0.0089                0.0749               0.0242   \n",
       "2                          0.0174                0.0410               0.0414   \n",
       "3                          0.0230                0.0351               0.0600   \n",
       "4                          0.0115                0.0641               0.0528   \n",
       "5                          0.0000                0.0000               1.0000   \n",
       "...                           ...                   ...                  ...   \n",
       "14421                      0.0202                0.0170               0.3941   \n",
       "14422                      0.0305                0.0300               0.4874   \n",
       "14423                      0.0027                0.0429               0.0408   \n",
       "14424                      0.0029                0.0474               0.0241   \n",
       "14425                      0.0091                0.1116               0.1536   \n",
       "\n",
       "              Land_Use_Snow_Ice_frac  Permeability_logk_m2  Porosity_frac  \n",
       "Watershed_ID                                                               \n",
       "1                                0.0            -14.719327       0.180905  \n",
       "2                                0.0            -14.056491       0.206450  \n",
       "3                                0.0            -14.537390       0.165357  \n",
       "4                                0.0            -14.687869       0.170597  \n",
       "5                                0.0                   NaN            NaN  \n",
       "...                              ...                   ...            ...  \n",
       "14421                            0.0            -13.160658       0.096755  \n",
       "14422                            0.0            -12.698509       0.119993  \n",
       "14423                            0.0            -12.976926       0.090284  \n",
       "14424                            0.0            -12.968686       0.094042  \n",
       "14425                            0.0            -12.792099       0.168963  \n",
       "\n",
       "[14425 rows x 16 columns]"
      ]
     },
     "execution_count": 107,
     "metadata": {},
     "output_type": "execute_result"
    }
   ],
   "source": [
    "df.loc[:, (df.isna().sum()>0)]"
   ]
  },
  {
   "cell_type": "code",
   "execution_count": 108,
   "metadata": {
    "collapsed": false,
    "execution": {
     "iopub.execute_input": "2024-10-20T10:15:30.019232Z",
     "iopub.status.busy": "2024-10-20T10:15:30.018910Z",
     "iopub.status.idle": "2024-10-20T10:15:30.036231Z",
     "shell.execute_reply": "2024-10-20T10:15:30.035323Z"
    }
   },
   "outputs": [
    {
     "data": {
      "text/plain": [
       "Drainage_Area_GSIM_km2    13561\n",
       "Elevation_m                   6\n",
       "Slope_deg                     6\n",
       "Gravelius                  1633\n",
       "Perimeter                  1633\n",
       "Aspect_deg                    6\n",
       "Land_Use_Forest_frac         13\n",
       "Land_Use_Grass_frac          13\n",
       "Land_Use_Wetland_frac        13\n",
       "Land_Use_Water_frac          13\n",
       "Land_Use_Urban_frac          13\n",
       "Land_Use_Shrubs_frac         13\n",
       "Land_Use_Crops_frac          13\n",
       "Land_Use_Snow_Ice_frac       13\n",
       "Permeability_logk_m2       1615\n",
       "Porosity_frac              1615\n",
       "dtype: int64"
      ]
     },
     "execution_count": 108,
     "metadata": {},
     "output_type": "execute_result"
    }
   ],
   "source": [
    "df.loc[:, (df.isna().sum()>0)].isna().sum()"
   ]
  },
  {
   "cell_type": "code",
   "execution_count": 109,
   "metadata": {
    "collapsed": false,
    "execution": {
     "iopub.execute_input": "2024-10-20T10:15:30.039685Z",
     "iopub.status.busy": "2024-10-20T10:15:30.039458Z",
     "iopub.status.idle": "2024-10-20T10:15:30.044303Z",
     "shell.execute_reply": "2024-10-20T10:15:30.043600Z"
    }
   },
   "outputs": [
    {
     "name": "stdout",
     "output_type": "stream",
     "text": [
      "discharge, pr, swe, tasmax, tasmin\n"
     ]
    }
   ],
   "source": [
    "dynamic_features = dataset.dynamic_features\n",
    "dynamic_features.sort()\n",
    "print(textwrap.fill(\", \".join(dynamic_features), width=100))"
   ]
  },
  {
   "cell_type": "markdown",
   "metadata": {},
   "source": [
    "## GRDCCaravan\n",
    "\n"
   ]
  },
  {
   "cell_type": "code",
   "execution_count": 110,
   "metadata": {
    "collapsed": false,
    "execution": {
     "iopub.execute_input": "2024-10-20T10:15:30.047757Z",
     "iopub.status.busy": "2024-10-20T10:15:30.047418Z",
     "iopub.status.idle": "2024-10-20T10:15:30.483967Z",
     "shell.execute_reply": "2024-10-20T10:15:30.482824Z"
    }
   },
   "outputs": [
    {
     "name": "stdout",
     "output_type": "stream",
     "text": [
      "GRDCCaravan with 5357 stations, 39 dynamic and 211 static features\n"
     ]
    }
   ],
   "source": [
    "dataset = RainfallRunoff('GRDCCaravan', path=gscad_path, verbosity=0)\n",
    "print(dataset)"
   ]
  },
  {
   "cell_type": "code",
   "execution_count": 111,
   "metadata": {
    "collapsed": false,
    "execution": {
     "iopub.execute_input": "2024-10-20T10:15:30.487615Z",
     "iopub.status.busy": "2024-10-20T10:15:30.487221Z",
     "iopub.status.idle": "2024-10-20T10:15:30.493959Z",
     "shell.execute_reply": "2024-10-20T10:15:30.492988Z"
    }
   },
   "outputs": [
    {
     "name": "stdout",
     "output_type": "stream",
     "text": [
      "aet_mm_s01, aet_mm_s02, aet_mm_s03, aet_mm_s04, aet_mm_s05, aet_mm_s06, aet_mm_s07, aet_mm_s08,\n",
      "aet_mm_s09, aet_mm_s10, aet_mm_s11, aet_mm_s12, aet_mm_syr, area,\n",
      "area_fraction_used_for_aggregation, ari_ix_sav, aridity, cls_cl_smj, cly_pc_sav, clz_cl_smj,\n",
      "cmi_ix_s01, cmi_ix_s02, cmi_ix_s03, cmi_ix_s04, cmi_ix_s05, cmi_ix_s06, cmi_ix_s07, cmi_ix_s08,\n",
      "cmi_ix_s09, cmi_ix_s10, cmi_ix_s11, cmi_ix_s12, cmi_ix_syr, country, crp_pc_sse, dis_m3_pmn,\n",
      "dis_m3_pmx, dis_m3_pyr, dor_pc_pva, ele_mt_sav, ele_mt_smn, ele_mt_smx, ero_kh_sav, fec_cl_smj,\n",
      "fmh_cl_smj, for_pc_sse, frac_snow, gauge_lat, gauge_lon, gauge_name, gdp_ud_sav, gdp_ud_ssu,\n",
      "gla_pc_sse, glc_cl_smj, glc_pc_s01, glc_pc_s02, glc_pc_s03, glc_pc_s04, glc_pc_s05, glc_pc_s06,\n",
      "glc_pc_s07, glc_pc_s08, glc_pc_s09, glc_pc_s10, glc_pc_s11, glc_pc_s12, glc_pc_s13, glc_pc_s14,\n",
      "glc_pc_s15, glc_pc_s16, glc_pc_s17, glc_pc_s18, glc_pc_s19, glc_pc_s20, glc_pc_s21, glc_pc_s22,\n",
      "gwt_cm_sav, hdi_ix_sav, hft_ix_s09, hft_ix_s93, high_prec_dur, high_prec_freq, inu_pc_slt,\n",
      "inu_pc_smn, inu_pc_smx, ire_pc_sse, kar_pc_sse, lit_cl_smj, lka_pc_sse, lkv_mc_usu, low_prec_dur,\n",
      "low_prec_freq, moisture_index, nli_ix_sav, p_mean, pac_pc_sse, pet_mean, pet_mm_s01, pet_mm_s02,\n",
      "pet_mm_s03, pet_mm_s04, pet_mm_s05, pet_mm_s06, pet_mm_s07, pet_mm_s08, pet_mm_s09, pet_mm_s10,\n",
      "pet_mm_s11, pet_mm_s12, pet_mm_syr, pnv_cl_smj, pnv_pc_s01, pnv_pc_s02, pnv_pc_s03, pnv_pc_s04,\n",
      "pnv_pc_s05, pnv_pc_s06, pnv_pc_s07, pnv_pc_s08, pnv_pc_s09, pnv_pc_s10, pnv_pc_s11, pnv_pc_s12,\n",
      "pnv_pc_s13, pnv_pc_s14, pnv_pc_s15, pop_ct_usu, ppd_pk_sav, pre_mm_s01, pre_mm_s02, pre_mm_s03,\n",
      "pre_mm_s04, pre_mm_s05, pre_mm_s06, pre_mm_s07, pre_mm_s08, pre_mm_s09, pre_mm_s10, pre_mm_s11,\n",
      "pre_mm_s12, pre_mm_syr, prm_pc_sse, pst_pc_sse, rdd_mk_sav, rev_mc_usu, ria_ha_usu, riv_tc_usu,\n",
      "run_mm_syr, seasonality, sgr_dk_sav, slp_dg_sav, slt_pc_sav, snd_pc_sav, snw_pc_s01, snw_pc_s02,\n",
      "snw_pc_s03, snw_pc_s04, snw_pc_s05, snw_pc_s06, snw_pc_s07, snw_pc_s08, snw_pc_s09, snw_pc_s10,\n",
      "snw_pc_s11, snw_pc_s12, snw_pc_smx, snw_pc_syr, soc_th_sav, swc_pc_s01, swc_pc_s02, swc_pc_s03,\n",
      "swc_pc_s04, swc_pc_s05, swc_pc_s06, swc_pc_s07, swc_pc_s08, swc_pc_s09, swc_pc_s10, swc_pc_s11,\n",
      "swc_pc_s12, swc_pc_syr, tbi_cl_smj, tec_cl_smj, tmp_dc_s01, tmp_dc_s02, tmp_dc_s03, tmp_dc_s04,\n",
      "tmp_dc_s05, tmp_dc_s06, tmp_dc_s07, tmp_dc_s08, tmp_dc_s09, tmp_dc_s10, tmp_dc_s11, tmp_dc_s12,\n",
      "tmp_dc_smn, tmp_dc_smx, tmp_dc_syr, urb_pc_sse, wet_cl_smj, wet_pc_s01, wet_pc_s02, wet_pc_s03,\n",
      "wet_pc_s04, wet_pc_s05, wet_pc_s06, wet_pc_s07, wet_pc_s08, wet_pc_s09, wet_pc_sg1, wet_pc_sg2\n"
     ]
    }
   ],
   "source": [
    "static_features = dataset.static_features\n",
    "static_features.sort()\n",
    "print(textwrap.fill(\", \".join(static_features), width=100))"
   ]
  },
  {
   "cell_type": "code",
   "execution_count": 112,
   "metadata": {
    "collapsed": false,
    "execution": {
     "iopub.execute_input": "2024-10-20T10:15:30.497264Z",
     "iopub.status.busy": "2024-10-20T10:15:30.496992Z",
     "iopub.status.idle": "2024-10-20T10:15:30.936142Z",
     "shell.execute_reply": "2024-10-20T10:15:30.934692Z"
    }
   },
   "outputs": [
    {
     "name": "stdout",
     "output_type": "stream",
     "text": [
      "(5357, 211)\n"
     ]
    }
   ],
   "source": [
    "df = dataset.fetch_static_features()\n",
    "print(df.shape)"
   ]
  },
  {
   "cell_type": "code",
   "execution_count": 113,
   "metadata": {
    "collapsed": false,
    "execution": {
     "iopub.execute_input": "2024-10-20T10:15:30.941231Z",
     "iopub.status.busy": "2024-10-20T10:15:30.941000Z",
     "iopub.status.idle": "2024-10-20T10:15:30.963979Z",
     "shell.execute_reply": "2024-10-20T10:15:30.962783Z"
    }
   },
   "outputs": [
    {
     "name": "stdout",
     "output_type": "stream",
     "text": [
      "0\n"
     ]
    },
    {
     "data": {
      "text/plain": [
       "gauge_lat         0\n",
       "gauge_lon         0\n",
       "gauge_name        0\n",
       "country           0\n",
       "area              0\n",
       "                 ..\n",
       "seasonality       0\n",
       "high_prec_freq    0\n",
       "high_prec_dur     0\n",
       "low_prec_freq     0\n",
       "low_prec_dur      0\n",
       "Length: 211, dtype: int64"
      ]
     },
     "execution_count": 113,
     "metadata": {},
     "output_type": "execute_result"
    }
   ],
   "source": [
    "print(df.isna().sum().sum())\n",
    "df.isna().sum()"
   ]
  },
  {
   "cell_type": "markdown",
   "metadata": {},
   "source": [
    "find those columns which have at least one NaN value\n",
    "\n"
   ]
  },
  {
   "cell_type": "code",
   "execution_count": 114,
   "metadata": {
    "collapsed": false,
    "execution": {
     "iopub.execute_input": "2024-10-20T10:15:30.968728Z",
     "iopub.status.busy": "2024-10-20T10:15:30.968429Z",
     "iopub.status.idle": "2024-10-20T10:15:30.981948Z",
     "shell.execute_reply": "2024-10-20T10:15:30.980769Z"
    }
   },
   "outputs": [
    {
     "name": "stdout",
     "output_type": "stream",
     "text": [
      "No NaN values\n"
     ]
    }
   ],
   "source": [
    "if df.isna().sum().sum()>0:\n",
    "    df.loc[:, (df.isna().sum()>0)]\n",
    "else:\n",
    "    print('No NaN values')"
   ]
  },
  {
   "cell_type": "code",
   "execution_count": 115,
   "metadata": {
    "collapsed": false,
    "execution": {
     "iopub.execute_input": "2024-10-20T10:15:30.985985Z",
     "iopub.status.busy": "2024-10-20T10:15:30.985726Z",
     "iopub.status.idle": "2024-10-20T10:15:31.006349Z",
     "shell.execute_reply": "2024-10-20T10:15:31.005193Z"
    }
   },
   "outputs": [
    {
     "data": {
      "text/plain": [
       "Series([], dtype: float64)"
      ]
     },
     "execution_count": 115,
     "metadata": {},
     "output_type": "execute_result"
    }
   ],
   "source": [
    "df.loc[:, (df.isna().sum()>0)].isna().sum()"
   ]
  },
  {
   "cell_type": "code",
   "execution_count": 116,
   "metadata": {
    "collapsed": false,
    "execution": {
     "iopub.execute_input": "2024-10-20T10:15:31.010739Z",
     "iopub.status.busy": "2024-10-20T10:15:31.010494Z",
     "iopub.status.idle": "2024-10-20T10:15:31.016675Z",
     "shell.execute_reply": "2024-10-20T10:15:31.015445Z"
    }
   },
   "outputs": [
    {
     "name": "stdout",
     "output_type": "stream",
     "text": [
      "dewpoint_temperature_2m_max, dewpoint_temperature_2m_mean, dewpoint_temperature_2m_min, max_temp_C,\n",
      "mean_temp_C, obs_q_cms, pcp_mm, potential_evaporation_sum, snow_depth_water_equivalent_max,\n",
      "snow_depth_water_equivalent_mean, snow_depth_water_equivalent_min, surface_net_solar_radiation_max,\n",
      "surface_net_solar_radiation_mean, surface_net_solar_radiation_min,\n",
      "surface_net_thermal_radiation_max, surface_net_thermal_radiation_mean,\n",
      "surface_net_thermal_radiation_min, surface_pressure_max, surface_pressure_mean,\n",
      "surface_pressure_min, temperature_2m_max, u_component_of_wind_10m_max, u_component_of_wind_10m_mean,\n",
      "u_component_of_wind_10m_min, v_component_of_wind_10m_max, v_component_of_wind_10m_mean,\n",
      "v_component_of_wind_10m_min, volumetric_soil_water_layer_1_max, volumetric_soil_water_layer_1_mean,\n",
      "volumetric_soil_water_layer_1_min, volumetric_soil_water_layer_2_max,\n",
      "volumetric_soil_water_layer_2_mean, volumetric_soil_water_layer_2_min,\n",
      "volumetric_soil_water_layer_3_max, volumetric_soil_water_layer_3_mean,\n",
      "volumetric_soil_water_layer_3_min, volumetric_soil_water_layer_4_max,\n",
      "volumetric_soil_water_layer_4_mean, volumetric_soil_water_layer_4_min\n"
     ]
    }
   ],
   "source": [
    "dynamic_features = dataset.dynamic_features\n",
    "dynamic_features.sort()\n",
    "print(textwrap.fill(\", \".join(dynamic_features), width=100))"
   ]
  },
  {
   "cell_type": "markdown",
   "metadata": {},
   "source": [
    "## Bull\n",
    "\n"
   ]
  },
  {
   "cell_type": "code",
   "execution_count": 117,
   "metadata": {
    "collapsed": false,
    "execution": {
     "iopub.execute_input": "2024-10-20T10:15:31.020871Z",
     "iopub.status.busy": "2024-10-20T10:15:31.020504Z",
     "iopub.status.idle": "2024-10-20T10:15:31.579375Z",
     "shell.execute_reply": "2024-10-20T10:15:31.578424Z"
    }
   },
   "outputs": [
    {
     "name": "stdout",
     "output_type": "stream",
     "text": [
      "Bull with 484 stations, 55 dynamic and 214 static features\n"
     ]
    }
   ],
   "source": [
    "dataset = RainfallRunoff('Bull', path=gscad_path, verbosity=0)\n",
    "print(dataset)"
   ]
  },
  {
   "cell_type": "code",
   "execution_count": 118,
   "metadata": {
    "collapsed": false,
    "execution": {
     "iopub.execute_input": "2024-10-20T10:15:31.583051Z",
     "iopub.status.busy": "2024-10-20T10:15:31.582795Z",
     "iopub.status.idle": "2024-10-20T10:15:31.589289Z",
     "shell.execute_reply": "2024-10-20T10:15:31.588207Z"
    }
   },
   "outputs": [
    {
     "name": "stdout",
     "output_type": "stream",
     "text": [
      "NSE, aet_mm_s01, aet_mm_s02, aet_mm_s03, aet_mm_s04, aet_mm_s05, aet_mm_s06, aet_mm_s07, aet_mm_s08,\n",
      "aet_mm_s09, aet_mm_s10, aet_mm_s11, aet_mm_s12, aet_mm_syr, area,\n",
      "area_fraction_used_for_aggregation, area_hydroatlas, ari_ix_sav, aridity, cls_cl_smj, cly_pc_sav,\n",
      "clz_cl_smj, cmi_ix_s01, cmi_ix_s02, cmi_ix_s03, cmi_ix_s04, cmi_ix_s05, cmi_ix_s06, cmi_ix_s07,\n",
      "cmi_ix_s08, cmi_ix_s09, cmi_ix_s10, cmi_ix_s11, cmi_ix_s12, cmi_ix_syr, country, crp_pc_sse,\n",
      "dis_m3_pmn, dis_m3_pmx, dis_m3_pyr, dor_pc_pva, ele_mt_sav, ele_mt_smn, ele_mt_smx, ero_kh_sav,\n",
      "fec_cl_smj, fmh_cl_smj, for_pc_sse, frac_snow, gauge_lat, gauge_lon, gauge_name, gdp_ud_sav,\n",
      "gdp_ud_ssu, gla_pc_sse, glc_cl_smj, glc_pc_s01, glc_pc_s02, glc_pc_s03, glc_pc_s04, glc_pc_s05,\n",
      "glc_pc_s06, glc_pc_s07, glc_pc_s08, glc_pc_s09, glc_pc_s10, glc_pc_s11, glc_pc_s12, glc_pc_s13,\n",
      "glc_pc_s14, glc_pc_s15, glc_pc_s16, glc_pc_s17, glc_pc_s18, glc_pc_s19, glc_pc_s20, glc_pc_s21,\n",
      "glc_pc_s22, gwt_cm_sav, hdi_ix_sav, hft_ix_s09, hft_ix_s93, high_prec_dur, high_prec_freq,\n",
      "inu_pc_slt, inu_pc_smn, inu_pc_smx, ire_pc_sse, kar_pc_sse, lit_cl_smj, lka_pc_sse, lkv_mc_usu,\n",
      "low_prec_dur, low_prec_freq, moisture_index, nli_ix_sav, non-altered, p_mean, pac_pc_sse, pet_mean,\n",
      "pet_mm_s01, pet_mm_s02, pet_mm_s03, pet_mm_s04, pet_mm_s05, pet_mm_s06, pet_mm_s07, pet_mm_s08,\n",
      "pet_mm_s09, pet_mm_s10, pet_mm_s11, pet_mm_s12, pet_mm_syr, pnv_cl_smj, pnv_pc_s01, pnv_pc_s02,\n",
      "pnv_pc_s03, pnv_pc_s04, pnv_pc_s05, pnv_pc_s06, pnv_pc_s07, pnv_pc_s08, pnv_pc_s09, pnv_pc_s10,\n",
      "pnv_pc_s11, pnv_pc_s12, pnv_pc_s13, pnv_pc_s14, pnv_pc_s15, pop_ct_usu, ppd_pk_sav, pre_mm_s01,\n",
      "pre_mm_s02, pre_mm_s03, pre_mm_s04, pre_mm_s05, pre_mm_s06, pre_mm_s07, pre_mm_s08, pre_mm_s09,\n",
      "pre_mm_s10, pre_mm_s11, pre_mm_s12, pre_mm_syr, prm_pc_sse, pst_pc_sse, rdd_mk_sav, rev_mc_usu,\n",
      "ria_ha_usu, riv_tc_usu, run_mm_syr, seasonality, sgr_dk_sav, slp_dg_sav, slt_pc_sav, snd_pc_sav,\n",
      "snw_pc_s01, snw_pc_s02, snw_pc_s03, snw_pc_s04, snw_pc_s05, snw_pc_s06, snw_pc_s07, snw_pc_s08,\n",
      "snw_pc_s09, snw_pc_s10, snw_pc_s11, snw_pc_s12, snw_pc_smx, snw_pc_syr, soc_th_sav, swc_pc_s01,\n",
      "swc_pc_s02, swc_pc_s03, swc_pc_s04, swc_pc_s05, swc_pc_s06, swc_pc_s07, swc_pc_s08, swc_pc_s09,\n",
      "swc_pc_s10, swc_pc_s11, swc_pc_s12, swc_pc_syr, tbi_cl_smj, tec_cl_smj, tmp_dc_s01, tmp_dc_s02,\n",
      "tmp_dc_s03, tmp_dc_s04, tmp_dc_s05, tmp_dc_s06, tmp_dc_s07, tmp_dc_s08, tmp_dc_s09, tmp_dc_s10,\n",
      "tmp_dc_s11, tmp_dc_s12, tmp_dc_smn, tmp_dc_smx, tmp_dc_syr, urb_pc_sse, wet_cl_smj, wet_pc_s01,\n",
      "wet_pc_s02, wet_pc_s03, wet_pc_s04, wet_pc_s05, wet_pc_s06, wet_pc_s07, wet_pc_s08, wet_pc_s09,\n",
      "wet_pc_sg1, wet_pc_sg2\n"
     ]
    }
   ],
   "source": [
    "static_features = dataset.static_features\n",
    "static_features.sort()\n",
    "print(textwrap.fill(\", \".join(static_features), width=100))"
   ]
  },
  {
   "cell_type": "code",
   "execution_count": 119,
   "metadata": {
    "collapsed": false,
    "execution": {
     "iopub.execute_input": "2024-10-20T10:15:31.593249Z",
     "iopub.status.busy": "2024-10-20T10:15:31.592913Z",
     "iopub.status.idle": "2024-10-20T10:15:31.637912Z",
     "shell.execute_reply": "2024-10-20T10:15:31.636944Z"
    }
   },
   "outputs": [
    {
     "name": "stdout",
     "output_type": "stream",
     "text": [
      "(484, 214)\n"
     ]
    }
   ],
   "source": [
    "df = dataset.fetch_static_features()\n",
    "print(df.shape)"
   ]
  },
  {
   "cell_type": "code",
   "execution_count": 120,
   "metadata": {
    "collapsed": false,
    "execution": {
     "iopub.execute_input": "2024-10-20T10:15:31.641662Z",
     "iopub.status.busy": "2024-10-20T10:15:31.641427Z",
     "iopub.status.idle": "2024-10-20T10:15:31.666468Z",
     "shell.execute_reply": "2024-10-20T10:15:31.665379Z"
    }
   },
   "outputs": [
    {
     "name": "stdout",
     "output_type": "stream",
     "text": [
      "0\n"
     ]
    },
    {
     "data": {
      "text/plain": [
       "NSE           0\n",
       "aet_mm_s01    0\n",
       "aet_mm_s02    0\n",
       "aet_mm_s03    0\n",
       "aet_mm_s04    0\n",
       "             ..\n",
       "wet_pc_s07    0\n",
       "wet_pc_s08    0\n",
       "wet_pc_s09    0\n",
       "wet_pc_sg1    0\n",
       "wet_pc_sg2    0\n",
       "Length: 214, dtype: int64"
      ]
     },
     "execution_count": 120,
     "metadata": {},
     "output_type": "execute_result"
    }
   ],
   "source": [
    "print(df.isna().sum().sum())\n",
    "df.isna().sum()"
   ]
  },
  {
   "cell_type": "markdown",
   "metadata": {},
   "source": [
    "find those columns which have at least one NaN value\n",
    "\n"
   ]
  },
  {
   "cell_type": "code",
   "execution_count": 121,
   "metadata": {
    "collapsed": false,
    "execution": {
     "iopub.execute_input": "2024-10-20T10:15:31.670874Z",
     "iopub.status.busy": "2024-10-20T10:15:31.670643Z",
     "iopub.status.idle": "2024-10-20T10:15:31.683335Z",
     "shell.execute_reply": "2024-10-20T10:15:31.682306Z"
    }
   },
   "outputs": [
    {
     "name": "stdout",
     "output_type": "stream",
     "text": [
      "No NaN values\n"
     ]
    }
   ],
   "source": [
    "if df.isna().sum().sum()>0:\n",
    "    df.loc[:, (df.isna().sum()>0)]\n",
    "else:\n",
    "    print('No NaN values')"
   ]
  },
  {
   "cell_type": "code",
   "execution_count": 122,
   "metadata": {
    "collapsed": false,
    "execution": {
     "iopub.execute_input": "2024-10-20T10:15:31.687172Z",
     "iopub.status.busy": "2024-10-20T10:15:31.686935Z",
     "iopub.status.idle": "2024-10-20T10:15:31.704144Z",
     "shell.execute_reply": "2024-10-20T10:15:31.703195Z"
    }
   },
   "outputs": [
    {
     "data": {
      "text/plain": [
       "Series([], dtype: float64)"
      ]
     },
     "execution_count": 122,
     "metadata": {},
     "output_type": "execute_result"
    }
   ],
   "source": [
    "df.loc[:, (df.isna().sum()>0)].isna().sum()"
   ]
  },
  {
   "cell_type": "code",
   "execution_count": 123,
   "metadata": {
    "collapsed": false,
    "execution": {
     "iopub.execute_input": "2024-10-20T10:15:31.708120Z",
     "iopub.status.busy": "2024-10-20T10:15:31.707850Z",
     "iopub.status.idle": "2024-10-20T10:15:31.713753Z",
     "shell.execute_reply": "2024-10-20T10:15:31.712858Z"
    }
   },
   "outputs": [
    {
     "name": "stdout",
     "output_type": "stream",
     "text": [
      "dewpoint_temperature_2m_max_BULL, dewpoint_temperature_2m_mean_BULL,\n",
      "dewpoint_temperature_2m_min_BULL, potential_evaporation_sum_BULL,\n",
      "potential_evapotranspiration_AEMET, potential_evapotranspiration_EMO1_arc,\n",
      "potential_evapotranspiration_ERA5_Land, snow_depth_water_equivalent_max_BULL,\n",
      "snow_depth_water_equivalent_mean_BULL, snow_depth_water_equivalent_min_BULL, streamflow,\n",
      "streamflow_BULL, surface_net_solar_radiation_max_BULL, surface_net_solar_radiation_mean_BULL,\n",
      "surface_net_solar_radiation_min_BULL, surface_net_thermal_radiation_max_BULL,\n",
      "surface_net_thermal_radiation_mean_BULL, surface_net_thermal_radiation_min_BULL,\n",
      "surface_pressure_max_BULL, surface_pressure_mean_BULL, surface_pressure_min_BULL,\n",
      "temperature_2m_max_BULL, temperature_2m_mean_BULL, temperature_2m_min_BULL, temperature_max_AEMET,\n",
      "temperature_max_EMO1_arc, temperature_max_ERA5_Land, temperature_mean_AEMET,\n",
      "temperature_mean_EMO1_arc, temperature_mean_ERA5_Land, temperature_min_AEMET,\n",
      "temperature_min_EMO1_arc, temperature_min_ERA5_Land, total_precipitation_AEMET,\n",
      "total_precipitation_EMO1_arc, total_precipitation_ERA5_Land, total_precipitation_sum_BULL,\n",
      "u_component_of_wind_10m_max_BULL, u_component_of_wind_10m_mean_BULL,\n",
      "u_component_of_wind_10m_min_BULL, v_component_of_wind_10m_max_BULL,\n",
      "v_component_of_wind_10m_mean_BULL, v_component_of_wind_10m_min_BULL,\n",
      "volumetric_soil_water_layer_1_max_BULL, volumetric_soil_water_layer_1_mean_BULL,\n",
      "volumetric_soil_water_layer_1_min_BULL, volumetric_soil_water_layer_2_max_BULL,\n",
      "volumetric_soil_water_layer_2_mean_BULL, volumetric_soil_water_layer_2_min_BULL,\n",
      "volumetric_soil_water_layer_3_max_BULL, volumetric_soil_water_layer_3_mean_BULL,\n",
      "volumetric_soil_water_layer_3_min_BULL, volumetric_soil_water_layer_4_max_BULL,\n",
      "volumetric_soil_water_layer_4_mean_BULL, volumetric_soil_water_layer_4_min_BULL\n"
     ]
    }
   ],
   "source": [
    "dynamic_features = dataset.dynamic_features\n",
    "dynamic_features.sort()\n",
    "print(textwrap.fill(\", \".join(dynamic_features), width=100))"
   ]
  },
  {
   "cell_type": "markdown",
   "metadata": {},
   "source": [
    "## WaterBenchIowa\n",
    "\n"
   ]
  },
  {
   "cell_type": "code",
   "execution_count": 124,
   "metadata": {
    "collapsed": false,
    "execution": {
     "iopub.execute_input": "2024-10-20T10:15:31.717379Z",
     "iopub.status.busy": "2024-10-20T10:15:31.716970Z",
     "iopub.status.idle": "2024-10-20T10:15:31.725777Z",
     "shell.execute_reply": "2024-10-20T10:15:31.724857Z"
    }
   },
   "outputs": [
    {
     "name": "stdout",
     "output_type": "stream",
     "text": [
      "WaterBenchIowa with 125 stations, 3 dynamic and 7 static features\n"
     ]
    }
   ],
   "source": [
    "dataset = RainfallRunoff('WaterBenchIowa', path=gscad_path, verbosity=0)\n",
    "print(dataset)"
   ]
  },
  {
   "cell_type": "code",
   "execution_count": 125,
   "metadata": {
    "collapsed": false,
    "execution": {
     "iopub.execute_input": "2024-10-20T10:15:31.729937Z",
     "iopub.status.busy": "2024-10-20T10:15:31.729600Z",
     "iopub.status.idle": "2024-10-20T10:15:31.735562Z",
     "shell.execute_reply": "2024-10-20T10:15:31.734425Z"
    }
   },
   "outputs": [
    {
     "name": "stdout",
     "output_type": "stream",
     "text": [
      "area, loam, sandy_clay_loam, silt, silty_clay_loam, slope, travel_time\n"
     ]
    }
   ],
   "source": [
    "static_features = dataset.static_features\n",
    "static_features.sort()\n",
    "print(textwrap.fill(\", \".join(static_features), width=100))"
   ]
  },
  {
   "cell_type": "code",
   "execution_count": 126,
   "metadata": {
    "collapsed": false,
    "execution": {
     "iopub.execute_input": "2024-10-20T10:15:31.739650Z",
     "iopub.status.busy": "2024-10-20T10:15:31.739309Z",
     "iopub.status.idle": "2024-10-20T10:15:32.229144Z",
     "shell.execute_reply": "2024-10-20T10:15:32.228217Z"
    }
   },
   "outputs": [
    {
     "name": "stdout",
     "output_type": "stream",
     "text": [
      "(125, 7)\n"
     ]
    }
   ],
   "source": [
    "df = dataset.fetch_static_features()\n",
    "print(df.shape)"
   ]
  },
  {
   "cell_type": "code",
   "execution_count": 127,
   "metadata": {
    "collapsed": false,
    "execution": {
     "iopub.execute_input": "2024-10-20T10:15:32.233218Z",
     "iopub.status.busy": "2024-10-20T10:15:32.232972Z",
     "iopub.status.idle": "2024-10-20T10:15:32.243688Z",
     "shell.execute_reply": "2024-10-20T10:15:32.242724Z"
    }
   },
   "outputs": [
    {
     "name": "stdout",
     "output_type": "stream",
     "text": [
      "0\n"
     ]
    },
    {
     "data": {
      "text/plain": [
       "travel_time        0\n",
       "area               0\n",
       "slope              0\n",
       "loam               0\n",
       "silt               0\n",
       "sandy_clay_loam    0\n",
       "silty_clay_loam    0\n",
       "dtype: int64"
      ]
     },
     "execution_count": 127,
     "metadata": {},
     "output_type": "execute_result"
    }
   ],
   "source": [
    "print(df.isna().sum().sum())\n",
    "df.isna().sum()"
   ]
  },
  {
   "cell_type": "markdown",
   "metadata": {},
   "source": [
    "find those columns which have at least one NaN value\n",
    "\n"
   ]
  },
  {
   "cell_type": "code",
   "execution_count": 128,
   "metadata": {
    "collapsed": false,
    "execution": {
     "iopub.execute_input": "2024-10-20T10:15:32.247367Z",
     "iopub.status.busy": "2024-10-20T10:15:32.247072Z",
     "iopub.status.idle": "2024-10-20T10:15:32.253956Z",
     "shell.execute_reply": "2024-10-20T10:15:32.252890Z"
    }
   },
   "outputs": [
    {
     "name": "stdout",
     "output_type": "stream",
     "text": [
      "No NaN values\n"
     ]
    }
   ],
   "source": [
    "if df.isna().sum().sum()>0:\n",
    "    df.loc[:, (df.isna().sum()>0)]\n",
    "else:\n",
    "    print('No NaN values')"
   ]
  },
  {
   "cell_type": "code",
   "execution_count": 129,
   "metadata": {
    "collapsed": false,
    "execution": {
     "iopub.execute_input": "2024-10-20T10:15:32.257478Z",
     "iopub.status.busy": "2024-10-20T10:15:32.257186Z",
     "iopub.status.idle": "2024-10-20T10:15:32.266067Z",
     "shell.execute_reply": "2024-10-20T10:15:32.265079Z"
    }
   },
   "outputs": [
    {
     "data": {
      "text/plain": [
       "Series([], dtype: float64)"
      ]
     },
     "execution_count": 129,
     "metadata": {},
     "output_type": "execute_result"
    }
   ],
   "source": [
    "df.loc[:, (df.isna().sum()>0)].isna().sum()"
   ]
  },
  {
   "cell_type": "code",
   "execution_count": 130,
   "metadata": {
    "collapsed": false,
    "execution": {
     "iopub.execute_input": "2024-10-20T10:15:32.270007Z",
     "iopub.status.busy": "2024-10-20T10:15:32.269695Z",
     "iopub.status.idle": "2024-10-20T10:15:32.275881Z",
     "shell.execute_reply": "2024-10-20T10:15:32.274717Z"
    }
   },
   "outputs": [
    {
     "name": "stdout",
     "output_type": "stream",
     "text": [
      "discharge, et, precipitation\n"
     ]
    }
   ],
   "source": [
    "dynamic_features = dataset.dynamic_features\n",
    "dynamic_features.sort()\n",
    "print(textwrap.fill(\", \".join(dynamic_features), width=100))"
   ]
  },
  {
   "cell_type": "markdown",
   "metadata": {},
   "source": [
    "## CCAM\n",
    "\n"
   ]
  },
  {
   "cell_type": "code",
   "execution_count": 131,
   "metadata": {
    "collapsed": false,
    "execution": {
     "iopub.execute_input": "2024-10-20T10:15:32.280056Z",
     "iopub.status.busy": "2024-10-20T10:15:32.279742Z",
     "iopub.status.idle": "2024-10-20T10:15:32.296520Z",
     "shell.execute_reply": "2024-10-20T10:15:32.295127Z"
    }
   },
   "outputs": [
    {
     "name": "stdout",
     "output_type": "stream",
     "text": [
      "CCAM with 102 stations, 16 dynamic and 124 static features\n"
     ]
    }
   ],
   "source": [
    "dataset = RainfallRunoff('CCAM', path=gscad_path, verbosity=0)\n",
    "print(dataset)"
   ]
  },
  {
   "cell_type": "code",
   "execution_count": 132,
   "metadata": {
    "collapsed": false,
    "execution": {
     "iopub.execute_input": "2024-10-20T10:15:32.301286Z",
     "iopub.status.busy": "2024-10-20T10:15:32.300923Z",
     "iopub.status.idle": "2024-10-20T10:15:32.309018Z",
     "shell.execute_reply": "2024-10-20T10:15:32.307726Z"
    }
   },
   "outputs": [
    {
     "name": "stdout",
     "output_type": "stream",
     "text": [
      "area, barren, bdticm, bldfie_sl1, bldfie_sl2, bldfie_sl3, bldfie_sl4, bldfie_sl5, bldfie_sl6,\n",
      "bldfie_sl7, cecsol_sl1, cecsol_sl2, cecsol_sl3, cecsol_sl4, cecsol_sl5, cecsol_sl6, cecsol_sl7,\n",
      "circulatory_ratio, clay, closed_shrubland, compactness_coefficient, cropland,\n",
      "cropland_natural_vegetaion, deciduous_broadleaf_tree, deciduous_needleleaf_tree, elev,\n",
      "elongation_ratio, ev, evergreen_broadleaf_tree, evergreen_needleleaf_tree, evp_mean, form_factor,\n",
      "frac_snow_daily, geol_permeability, geol_porosity, grassland, grav, gst_mean, high_prec_dur,\n",
      "high_prec_freq, high_prec_timing, ig, lai_dif, lai_max, lat, length, length_continuous_runoff,\n",
      "log_k_s_l1, log_k_s_l2, log_k_s_l3, log_k_s_l4, log_k_s_l5, log_k_s_l6, lon, low_prec_dur,\n",
      "low_prec_freq, low_prec_timing, mixed_forest, mt, nd, ndvi_mean, open_shrubland, orcdrc_sl1,\n",
      "orcdrc_sl2, orcdrc_sl3, orcdrc_sl4, orcdrc_sl5, orcdrc_sl6, orcdrc_sl7, pa, pb, pdep,\n",
      "permanent_wetland, pet_mean, phihox_sl1, phihox_sl2, phihox_sl3, phihox_sl4, phihox_sl5, phihox_sl6,\n",
      "phihox_sl7, pi, pop, pop_dnsty, por, pre_mean, prs_mean, py, rhu_mean, root_depth_50, root_depth_99,\n",
      "sand, savanna, sc, shape_factor, silt, slope, sm, snow_and_ice, som, ss, ssd_mean, su, tem_mean,\n",
      "theta_s_l1, theta_s_l2, theta_s_l3, theta_s_l4, theta_s_l5, theta_s_l6, tksatu_l1, tksatu_l2,\n",
      "tksatu_l3, tksatu_l4, tksatu_l5, tksatu_l6, urban_and_built-up_land, va, vb, vi, water_bodies, wb,\n",
      "win_mean, woody_savanna\n"
     ]
    }
   ],
   "source": [
    "static_features = dataset.static_features\n",
    "static_features.sort()\n",
    "print(textwrap.fill(\", \".join(static_features), width=100))"
   ]
  },
  {
   "cell_type": "code",
   "execution_count": 133,
   "metadata": {
    "collapsed": false,
    "execution": {
     "iopub.execute_input": "2024-10-20T10:15:32.313289Z",
     "iopub.status.busy": "2024-10-20T10:15:32.312953Z",
     "iopub.status.idle": "2024-10-20T10:15:32.512903Z",
     "shell.execute_reply": "2024-10-20T10:15:32.511715Z"
    }
   },
   "outputs": [
    {
     "name": "stdout",
     "output_type": "stream",
     "text": [
      "(102, 124)\n"
     ]
    }
   ],
   "source": [
    "df = dataset.fetch_static_features()\n",
    "print(df.shape)"
   ]
  },
  {
   "cell_type": "code",
   "execution_count": 134,
   "metadata": {
    "collapsed": false,
    "execution": {
     "iopub.execute_input": "2024-10-20T10:15:32.516906Z",
     "iopub.status.busy": "2024-10-20T10:15:32.516652Z",
     "iopub.status.idle": "2024-10-20T10:15:32.530070Z",
     "shell.execute_reply": "2024-10-20T10:15:32.529073Z"
    }
   },
   "outputs": [
    {
     "name": "stdout",
     "output_type": "stream",
     "text": [
      "0\n"
     ]
    },
    {
     "data": {
      "text/plain": [
       "area             0\n",
       "barren           0\n",
       "bdticm           0\n",
       "bldfie_sl1       0\n",
       "bldfie_sl2       0\n",
       "                ..\n",
       "vi               0\n",
       "water_bodies     0\n",
       "wb               0\n",
       "win_mean         0\n",
       "woody_savanna    0\n",
       "Length: 124, dtype: int64"
      ]
     },
     "execution_count": 134,
     "metadata": {},
     "output_type": "execute_result"
    }
   ],
   "source": [
    "print(df.isna().sum().sum())\n",
    "df.isna().sum()"
   ]
  },
  {
   "cell_type": "markdown",
   "metadata": {},
   "source": [
    "find those columns which have at least one NaN value\n",
    "\n"
   ]
  },
  {
   "cell_type": "code",
   "execution_count": 135,
   "metadata": {
    "collapsed": false,
    "execution": {
     "iopub.execute_input": "2024-10-20T10:15:32.534439Z",
     "iopub.status.busy": "2024-10-20T10:15:32.534185Z",
     "iopub.status.idle": "2024-10-20T10:15:32.543269Z",
     "shell.execute_reply": "2024-10-20T10:15:32.541885Z"
    }
   },
   "outputs": [
    {
     "name": "stdout",
     "output_type": "stream",
     "text": [
      "No NaN values\n"
     ]
    }
   ],
   "source": [
    "if df.isna().sum().sum()>0:\n",
    "    df.loc[:, (df.isna().sum()>0)]\n",
    "else:\n",
    "    print('No NaN values')"
   ]
  },
  {
   "cell_type": "code",
   "execution_count": 136,
   "metadata": {
    "collapsed": false,
    "execution": {
     "iopub.execute_input": "2024-10-20T10:15:32.547352Z",
     "iopub.status.busy": "2024-10-20T10:15:32.547008Z",
     "iopub.status.idle": "2024-10-20T10:15:32.557711Z",
     "shell.execute_reply": "2024-10-20T10:15:32.556940Z"
    }
   },
   "outputs": [
    {
     "data": {
      "text/plain": [
       "Series([], dtype: float64)"
      ]
     },
     "execution_count": 136,
     "metadata": {},
     "output_type": "execute_result"
    }
   ],
   "source": [
    "df.loc[:, (df.isna().sum()>0)].isna().sum()"
   ]
  },
  {
   "cell_type": "code",
   "execution_count": 137,
   "metadata": {
    "collapsed": false,
    "execution": {
     "iopub.execute_input": "2024-10-20T10:15:32.560937Z",
     "iopub.status.busy": "2024-10-20T10:15:32.560701Z",
     "iopub.status.idle": "2024-10-20T10:15:32.566021Z",
     "shell.execute_reply": "2024-10-20T10:15:32.565041Z"
    }
   },
   "outputs": [
    {
     "name": "stdout",
     "output_type": "stream",
     "text": [
      "evp, gst_max, gst_mean, gst_min, pre, prs_max, prs_mean, prs_min, q, rhu, ssd, tem_max, tem_mean,\n",
      "tem_min, win_max, win_mean\n"
     ]
    }
   ],
   "source": [
    "dynamic_features = dataset.dynamic_features\n",
    "dynamic_features.sort()\n",
    "print(textwrap.fill(\", \".join(dynamic_features), width=100))"
   ]
  },
  {
   "cell_type": "markdown",
   "metadata": {},
   "source": [
    "## CABra\n",
    "\n"
   ]
  },
  {
   "cell_type": "code",
   "execution_count": 138,
   "metadata": {
    "collapsed": false,
    "execution": {
     "iopub.execute_input": "2024-10-20T10:15:32.570046Z",
     "iopub.status.busy": "2024-10-20T10:15:32.569700Z",
     "iopub.status.idle": "2024-10-20T10:15:32.669924Z",
     "shell.execute_reply": "2024-10-20T10:15:32.668818Z"
    }
   },
   "outputs": [
    {
     "name": "stdout",
     "output_type": "stream",
     "text": [
      "CABra with 735 stations, 12 dynamic and 97 static features\n"
     ]
    }
   ],
   "source": [
    "dataset = RainfallRunoff('CABra', path=gscad_path, verbosity=0)\n",
    "print(dataset)"
   ]
  },
  {
   "cell_type": "code",
   "execution_count": 139,
   "metadata": {
    "collapsed": false,
    "execution": {
     "iopub.execute_input": "2024-10-20T10:15:32.673500Z",
     "iopub.status.busy": "2024-10-20T10:15:32.673263Z",
     "iopub.status.idle": "2024-10-20T10:15:32.720092Z",
     "shell.execute_reply": "2024-10-20T10:15:32.719015Z"
    }
   },
   "outputs": [
    {
     "name": "stdout",
     "output_type": "stream",
     "text": [
      "ANA_ID, ANA_ID, ANA_ID, ANA_ID, ANA_ID, ANA_ID, ANA_ID, ANA_ID, ANA_ID, aquif_name, aquif_type,\n",
      "aridity_index, baseflow_index, catch_area, catch_hand, catch_lith, catch_order, catch_slope,\n",
      "catch_wtd, clim_et, clim_p, clim_pet, clim_quality, clim_rh, clim_srad, clim_tmax, clim_tmin,\n",
      "clim_wind, cover_bare, cover_crops, cover_crops, cover_forest, cover_grass, cover_main, cover_moss,\n",
      "cover_shrub, cover_snow, cover_urban, cover_urban, cover_waterp, cover_waters, dist_urban,\n",
      "elev_gauge, elev_max, elev_mean, elev_min, fdc_slope, gauge_biome, gauge_hreg, gauge_state,\n",
      "hand_class, hdisturb_index, latitude, longitude, missing_data, ndvi_djf, ndvi_jja, ndvi_mam,\n",
      "ndvi_son, p_seasonality, q_1, q_5, q_95, q_99, q_cv, q_elasticity, q_hcv, q_hd, q_hf, q_hfd, q_lcv,\n",
      "q_ld, q_lf, q_mean, q_zero, quality_index, res_area, res_number, res_regulation, res_volume,\n",
      "runoff_coef, series_length, soil_bulk, soil_carbon, soil_clay, soil_depth, soil_sand, soil_silt,\n",
      "soil_textclass, soil_type, sub_hconduc, sub_permeability, sub_porosity, water_demand, well_dynamic,\n",
      "well_number, well_static\n"
     ]
    }
   ],
   "source": [
    "static_features = dataset.static_features\n",
    "static_features.sort()\n",
    "print(textwrap.fill(\", \".join(static_features), width=100))"
   ]
  },
  {
   "cell_type": "code",
   "execution_count": 140,
   "metadata": {
    "collapsed": false,
    "execution": {
     "iopub.execute_input": "2024-10-20T10:15:32.724968Z",
     "iopub.status.busy": "2024-10-20T10:15:32.724690Z",
     "iopub.status.idle": "2024-10-20T10:15:32.822714Z",
     "shell.execute_reply": "2024-10-20T10:15:32.821540Z"
    }
   },
   "outputs": [
    {
     "name": "stdout",
     "output_type": "stream",
     "text": [
      "(735, 97)\n"
     ]
    }
   ],
   "source": [
    "df = dataset.fetch_static_features()\n",
    "print(df.shape)"
   ]
  },
  {
   "cell_type": "code",
   "execution_count": 141,
   "metadata": {
    "collapsed": false,
    "execution": {
     "iopub.execute_input": "2024-10-20T10:15:32.826524Z",
     "iopub.status.busy": "2024-10-20T10:15:32.826287Z",
     "iopub.status.idle": "2024-10-20T10:15:32.842740Z",
     "shell.execute_reply": "2024-10-20T10:15:32.841712Z"
    }
   },
   "outputs": [
    {
     "name": "stdout",
     "output_type": "stream",
     "text": [
      "0\n"
     ]
    },
    {
     "data": {
      "text/plain": [
       "ANA_ID         0\n",
       "clim_p         0\n",
       "clim_tmin      0\n",
       "clim_tmax      0\n",
       "clim_rh        0\n",
       "              ..\n",
       "elev_min       0\n",
       "elev_max       0\n",
       "elev_gauge     0\n",
       "catch_slope    0\n",
       "catch_order    0\n",
       "Length: 97, dtype: int64"
      ]
     },
     "execution_count": 141,
     "metadata": {},
     "output_type": "execute_result"
    }
   ],
   "source": [
    "print(df.isna().sum().sum())\n",
    "df.isna().sum()"
   ]
  },
  {
   "cell_type": "markdown",
   "metadata": {},
   "source": [
    "find those columns which have at least one NaN value\n",
    "\n"
   ]
  },
  {
   "cell_type": "code",
   "execution_count": 142,
   "metadata": {
    "collapsed": false,
    "execution": {
     "iopub.execute_input": "2024-10-20T10:15:32.846675Z",
     "iopub.status.busy": "2024-10-20T10:15:32.846413Z",
     "iopub.status.idle": "2024-10-20T10:15:32.855046Z",
     "shell.execute_reply": "2024-10-20T10:15:32.854035Z"
    }
   },
   "outputs": [
    {
     "name": "stdout",
     "output_type": "stream",
     "text": [
      "No NaN values\n"
     ]
    }
   ],
   "source": [
    "if df.isna().sum().sum()>0:\n",
    "    df.loc[:, (df.isna().sum()>0)]\n",
    "else:\n",
    "    print('No NaN values')"
   ]
  },
  {
   "cell_type": "code",
   "execution_count": 143,
   "metadata": {
    "collapsed": false,
    "execution": {
     "iopub.execute_input": "2024-10-20T10:15:32.859397Z",
     "iopub.status.busy": "2024-10-20T10:15:32.858371Z",
     "iopub.status.idle": "2024-10-20T10:15:32.870414Z",
     "shell.execute_reply": "2024-10-20T10:15:32.869378Z"
    }
   },
   "outputs": [
    {
     "data": {
      "text/plain": [
       "Series([], dtype: float64)"
      ]
     },
     "execution_count": 143,
     "metadata": {},
     "output_type": "execute_result"
    }
   ],
   "source": [
    "df.loc[:, (df.isna().sum()>0)].isna().sum()"
   ]
  },
  {
   "cell_type": "code",
   "execution_count": 144,
   "metadata": {
    "collapsed": false,
    "execution": {
     "iopub.execute_input": "2024-10-20T10:15:32.874878Z",
     "iopub.status.busy": "2024-10-20T10:15:32.874505Z",
     "iopub.status.idle": "2024-10-20T10:15:32.880703Z",
     "shell.execute_reply": "2024-10-20T10:15:32.879479Z"
    }
   },
   "outputs": [
    {
     "name": "stdout",
     "output_type": "stream",
     "text": [
      "Quality, ens_max_temp_C, ens_min_temp_C, ens_pcp_mm, ens_rh_%, ens_windspeed_ms, et_ens, hg_pet_mm,\n",
      "obs_q_cms, pm_pet_mm, pt_pet_mm, srad_ens\n"
     ]
    }
   ],
   "source": [
    "dynamic_features = dataset.dynamic_features\n",
    "dynamic_features.sort()\n",
    "print(textwrap.fill(\", \".join(dynamic_features), width=100))"
   ]
  },
  {
   "cell_type": "markdown",
   "metadata": {},
   "source": [
    "## Simbi\n",
    "\n"
   ]
  },
  {
   "cell_type": "code",
   "execution_count": 145,
   "metadata": {
    "collapsed": false,
    "execution": {
     "iopub.execute_input": "2024-10-20T10:15:32.884645Z",
     "iopub.status.busy": "2024-10-20T10:15:32.884362Z",
     "iopub.status.idle": "2024-10-20T10:15:32.966742Z",
     "shell.execute_reply": "2024-10-20T10:15:32.965211Z"
    }
   },
   "outputs": [
    {
     "name": "stdout",
     "output_type": "stream",
     "text": [
      "Simbi with 70 stations, 3 dynamic and 232 static features\n"
     ]
    }
   ],
   "source": [
    "dataset = RainfallRunoff('Simbi', path= gscad_path, verbosity=0)\n",
    "print(dataset)"
   ]
  },
  {
   "cell_type": "code",
   "execution_count": 146,
   "metadata": {
    "collapsed": false,
    "execution": {
     "iopub.execute_input": "2024-10-20T10:15:32.970526Z",
     "iopub.status.busy": "2024-10-20T10:15:32.970272Z",
     "iopub.status.idle": "2024-10-20T10:15:32.978294Z",
     "shell.execute_reply": "2024-10-20T10:15:32.976895Z"
    }
   },
   "outputs": [
    {
     "name": "stdout",
     "output_type": "stream",
     "text": [
      "Alluvial aquifers with free water, Alluvial aquifers with partly confined water, Alluvium & detrital\n",
      "materials_geol, Andesites & rhyodacites_geol, Area, Aridity_mon_arid, BFI1_d, BFI2_d, BFI3_d, BFI_d,\n",
      "Basalt_geol, Beaches & dunes_lc_98, Carb_Rocks_Perc, Carbonate aquifers with marl intercalation,\n",
      "Closed Shrubland_lc_95, Continuous urban_lc_98, Cropland_lc_95, Crystalline formation,\n",
      "Cumul_Freq_1%, Cumul_Freq_10%, Cumul_Freq_100%, Cumul_Freq_11%, Cumul_Freq_12%, Cumul_Freq_13%,\n",
      "Cumul_Freq_14%, Cumul_Freq_15%, Cumul_Freq_16%, Cumul_Freq_17%, Cumul_Freq_18%, Cumul_Freq_19%,\n",
      "Cumul_Freq_2%, Cumul_Freq_20%, Cumul_Freq_21%, Cumul_Freq_22%, Cumul_Freq_23%, Cumul_Freq_24%,\n",
      "Cumul_Freq_25%, Cumul_Freq_26%, Cumul_Freq_27%, Cumul_Freq_28%, Cumul_Freq_29%, Cumul_Freq_3%,\n",
      "Cumul_Freq_30%, Cumul_Freq_31%, Cumul_Freq_32%, Cumul_Freq_33%, Cumul_Freq_34%, Cumul_Freq_35%,\n",
      "Cumul_Freq_36%, Cumul_Freq_37%, Cumul_Freq_38%, Cumul_Freq_39%, Cumul_Freq_4%, Cumul_Freq_40%,\n",
      "Cumul_Freq_41%, Cumul_Freq_42%, Cumul_Freq_43%, Cumul_Freq_44%, Cumul_Freq_45%, Cumul_Freq_46%,\n",
      "Cumul_Freq_47%, Cumul_Freq_48%, Cumul_Freq_49%, Cumul_Freq_5%, Cumul_Freq_50%, Cumul_Freq_51%,\n",
      "Cumul_Freq_52%, Cumul_Freq_53%, Cumul_Freq_54%, Cumul_Freq_55%, Cumul_Freq_56%, Cumul_Freq_57%,\n",
      "Cumul_Freq_58%, Cumul_Freq_59%, Cumul_Freq_6%, Cumul_Freq_60%, Cumul_Freq_61%, Cumul_Freq_62%,\n",
      "Cumul_Freq_63%, Cumul_Freq_64%, Cumul_Freq_65%, Cumul_Freq_66%, Cumul_Freq_67%, Cumul_Freq_68%,\n",
      "Cumul_Freq_69%, Cumul_Freq_7%, Cumul_Freq_70%, Cumul_Freq_71%, Cumul_Freq_72%, Cumul_Freq_73%,\n",
      "Cumul_Freq_74%, Cumul_Freq_75%, Cumul_Freq_76%, Cumul_Freq_77%, Cumul_Freq_78%, Cumul_Freq_79%,\n",
      "Cumul_Freq_8%, Cumul_Freq_80%, Cumul_Freq_81%, Cumul_Freq_82%, Cumul_Freq_83%, Cumul_Freq_84%,\n",
      "Cumul_Freq_85%, Cumul_Freq_86%, Cumul_Freq_87%, Cumul_Freq_88%, Cumul_Freq_89%, Cumul_Freq_9%,\n",
      "Cumul_Freq_90%, Cumul_Freq_91%, Cumul_Freq_92%, Cumul_Freq_93%, Cumul_Freq_94%, Cumul_Freq_95%,\n",
      "Cumul_Freq_96%, Cumul_Freq_97%, Cumul_Freq_98%, Cumul_Freq_99%, Deciduous Broadleaf Forest_lc_95,\n",
      "Deciduous Needleleaf Forest_lc_95, Dense agricultural crops_lc_98, Dense agroforestry systems_lc_98,\n",
      "Diorite & tonalite_geol, Discontinuous urban_lc_98, Dominant pastures_lc_98, ETP_5_mon_q5,\n",
      "ETP_95_mon_q95, ETP_mon_avg, Evergreen Broadleaf Forest_lc_95, Evergreen Needleleaf Forest_lc_95,\n",
      "Fissured & partitioned carbonate aquifers, Flysch & sandstone & limestone_geol, Forest_lc_98,\n",
      "Grassland_lc_95, Gravelius, Hard limestone_geol, Highly permeable fissured & porous carbonate\n",
      "aquifers, Industrial areas_lc_98, Karst aquifer, Lat_Cent, Lat_Exu, Lon_Cent, Lon_Exu, Low\n",
      "permeability sedimentary formation, Magma_Perc, Mangroves_lc_98, Marl & marly limestone_geol, Marl &\n",
      "sand_geol, Marly limestone_geol, Max_Elv, Medium-density agricultural crops_lc_98, Min_Elv, Mixed\n",
      "Forest_lc_95, More productive alluvial area, Open Shrubland_lc_95, P_5_mon_q5, P_95_mon_q95,\n",
      "P_max10_mon_QMXA10, P_min5_mon_QMNA5, P_mon_avg, Pasture with other presence_lc_98, Ports &\n",
      "airports_lc_98, Q1_5_mon_q5, Q1_95_mon_q95, Q1_max10_mon_QMXA10, Q1_min5_mon_QMNA5, Q1_mm_d_hq_dur,\n",
      "Q1_mm_d_hq_freq, Q1_mm_d_lq_dur, Q1_mm_d_lq_freq, Q1_mm_d_mean, Q1_mm_d_q5, Q1_mm_d_q95, Q1_mon_avg,\n",
      "Q2_5_mon_q5, Q2_95_mon_q95, Q2_max10_mon_QMXA10, Q2_min5_mon_QMNA5, Q2_mm_d_hq_dur, Q2_mm_d_hq_freq,\n",
      "Q2_mm_d_lq_dur, Q2_mm_d_lq_freq, Q2_mm_d_mean, Q2_mm_d_q5, Q2_mm_d_q95, Q2_mon_avg, Q3_5_mon_q5,\n",
      "Q3_95_mon_q95, Q3_max10_mon_QMXA10, Q3_min5_mon_QMNA5, Q3_mm_d_hq_dur, Q3_mm_d_hq_freq,\n",
      "Q3_mm_d_lq_dur, Q3_mm_d_lq_freq, Q3_mm_d_mean, Q3_mm_d_q5, Q3_mm_d_q95, Q3_mon_avg, Q_5_mon_q5,\n",
      "Q_95_mon_q95, Q_max10_mon_QMXA10, Q_min5_mon_QMNA5, Q_mm_d_hq_dur, Q_mm_d_hq_freq, Q_mm_d_lq_dur,\n",
      "Q_mm_d_lq_freq, Q_mm_d_mean, Q_mm_d_q5, Q_mm_d_q95, Q_mon_avg, Quarry_lc_98, River beds & recent\n",
      "alluvium_lc_98, Rock outcrops & bare soil_lc_98, Runoff_Ratio_mon_arid, Saline areas_lc_98,\n",
      "Savannahs with other presence_lc_98, Savannahs_lc_98, Sd_Elv, Sedim_Perc, Slope, Stream_density,\n",
      "Temp_5_mon_q5, Temp_95_mon_q95, Temp_mon_avg, Ultrabasic rocks_geol, Urban_lc_95, Volcano-\n",
      "sedimentary rock_geol, Water plan_lc_98, Water_lc_95, Wetlands_lc_98, Wooded Grassland_lc_95,\n",
      "Woodland_lc_95\n"
     ]
    }
   ],
   "source": [
    "static_features = dataset.static_features\n",
    "static_features.sort()\n",
    "print(textwrap.fill(\", \".join(static_features), width=100))"
   ]
  },
  {
   "cell_type": "code",
   "execution_count": 147,
   "metadata": {
    "collapsed": false,
    "execution": {
     "iopub.execute_input": "2024-10-20T10:15:32.982816Z",
     "iopub.status.busy": "2024-10-20T10:15:32.982378Z",
     "iopub.status.idle": "2024-10-20T10:15:33.122043Z",
     "shell.execute_reply": "2024-10-20T10:15:33.120528Z"
    }
   },
   "outputs": [
    {
     "name": "stdout",
     "output_type": "stream",
     "text": [
      "(24, 232)\n"
     ]
    }
   ],
   "source": [
    "df = dataset.fetch_static_features()\n",
    "print(df.shape)"
   ]
  },
  {
   "cell_type": "code",
   "execution_count": 148,
   "metadata": {
    "collapsed": false,
    "execution": {
     "iopub.execute_input": "2024-10-20T10:15:33.126104Z",
     "iopub.status.busy": "2024-10-20T10:15:33.125869Z",
     "iopub.status.idle": "2024-10-20T10:15:33.136965Z",
     "shell.execute_reply": "2024-10-20T10:15:33.135572Z"
    }
   },
   "outputs": [
    {
     "name": "stdout",
     "output_type": "stream",
     "text": [
      "96\n"
     ]
    },
    {
     "data": {
      "text/plain": [
       "Alluvial aquifers with free water               0\n",
       "Alluvial aquifers with partly confined water    0\n",
       "Alluvium & detrital materials_geol              0\n",
       "Andesites & rhyodacites_geol                    0\n",
       "Area                                            0\n",
       "                                               ..\n",
       "Water plan_lc_98                                0\n",
       "Water_lc_95                                     0\n",
       "Wetlands_lc_98                                  0\n",
       "Wooded Grassland_lc_95                          0\n",
       "Woodland_lc_95                                  0\n",
       "Length: 232, dtype: int64"
      ]
     },
     "execution_count": 148,
     "metadata": {},
     "output_type": "execute_result"
    }
   ],
   "source": [
    "print(df.isna().sum().sum())\n",
    "df.isna().sum()"
   ]
  },
  {
   "cell_type": "markdown",
   "metadata": {},
   "source": [
    "find those columns which have at least one NaN value\n",
    "\n"
   ]
  },
  {
   "cell_type": "code",
   "execution_count": 149,
   "metadata": {
    "collapsed": false,
    "execution": {
     "iopub.execute_input": "2024-10-20T10:15:33.141446Z",
     "iopub.status.busy": "2024-10-20T10:15:33.141081Z",
     "iopub.status.idle": "2024-10-20T10:15:33.190188Z",
     "shell.execute_reply": "2024-10-20T10:15:33.188803Z"
    }
   },
   "outputs": [
    {
     "data": {
      "text/html": [
       "<div>\n",
       "<style scoped>\n",
       "    .dataframe tbody tr th:only-of-type {\n",
       "        vertical-align: middle;\n",
       "    }\n",
       "\n",
       "    .dataframe tbody tr th {\n",
       "        vertical-align: top;\n",
       "    }\n",
       "\n",
       "    .dataframe thead th {\n",
       "        text-align: right;\n",
       "    }\n",
       "</style>\n",
       "<table border=\"1\" class=\"dataframe\">\n",
       "  <thead>\n",
       "    <tr style=\"text-align: right;\">\n",
       "      <th></th>\n",
       "      <th>BFI1_d</th>\n",
       "      <th>BFI2_d</th>\n",
       "      <th>BFI3_d</th>\n",
       "      <th>BFI_d</th>\n",
       "      <th>Q1_mm_d_hq_dur</th>\n",
       "      <th>Q1_mm_d_hq_freq</th>\n",
       "      <th>Q1_mm_d_lq_dur</th>\n",
       "      <th>Q1_mm_d_lq_freq</th>\n",
       "      <th>Q1_mm_d_mean</th>\n",
       "      <th>Q1_mm_d_q5</th>\n",
       "      <th>...</th>\n",
       "      <th>Q3_mm_d_mean</th>\n",
       "      <th>Q3_mm_d_q5</th>\n",
       "      <th>Q3_mm_d_q95</th>\n",
       "      <th>Q_mm_d_hq_dur</th>\n",
       "      <th>Q_mm_d_hq_freq</th>\n",
       "      <th>Q_mm_d_lq_dur</th>\n",
       "      <th>Q_mm_d_lq_freq</th>\n",
       "      <th>Q_mm_d_mean</th>\n",
       "      <th>Q_mm_d_q5</th>\n",
       "      <th>Q_mm_d_q95</th>\n",
       "    </tr>\n",
       "  </thead>\n",
       "  <tbody>\n",
       "    <tr>\n",
       "      <th>001</th>\n",
       "      <td>0.46</td>\n",
       "      <td>0.68</td>\n",
       "      <td>0.55</td>\n",
       "      <td>0.49</td>\n",
       "      <td>2.12</td>\n",
       "      <td>2.43</td>\n",
       "      <td>27.62</td>\n",
       "      <td>34.19</td>\n",
       "      <td>1.16</td>\n",
       "      <td>0.2</td>\n",
       "      <td>...</td>\n",
       "      <td>1.18</td>\n",
       "      <td>0.2</td>\n",
       "      <td>3.10</td>\n",
       "      <td>1.62</td>\n",
       "      <td>0.86</td>\n",
       "      <td>0.00</td>\n",
       "      <td>0.00</td>\n",
       "      <td>1.23</td>\n",
       "      <td>0.4</td>\n",
       "      <td>3.10</td>\n",
       "    </tr>\n",
       "    <tr>\n",
       "      <th>004</th>\n",
       "      <td>0.59</td>\n",
       "      <td>0.38</td>\n",
       "      <td>0.42</td>\n",
       "      <td>0.38</td>\n",
       "      <td>1.98</td>\n",
       "      <td>5.38</td>\n",
       "      <td>0.00</td>\n",
       "      <td>0.00</td>\n",
       "      <td>2.26</td>\n",
       "      <td>0.6</td>\n",
       "      <td>...</td>\n",
       "      <td>2.23</td>\n",
       "      <td>0.3</td>\n",
       "      <td>8.15</td>\n",
       "      <td>2.00</td>\n",
       "      <td>5.00</td>\n",
       "      <td>0.00</td>\n",
       "      <td>0.00</td>\n",
       "      <td>1.97</td>\n",
       "      <td>0.6</td>\n",
       "      <td>4.80</td>\n",
       "    </tr>\n",
       "    <tr>\n",
       "      <th>006</th>\n",
       "      <td>0.47</td>\n",
       "      <td>0.66</td>\n",
       "      <td>0.61</td>\n",
       "      <td>0.50</td>\n",
       "      <td>1.90</td>\n",
       "      <td>5.52</td>\n",
       "      <td>0.00</td>\n",
       "      <td>0.00</td>\n",
       "      <td>1.50</td>\n",
       "      <td>0.5</td>\n",
       "      <td>...</td>\n",
       "      <td>1.36</td>\n",
       "      <td>0.4</td>\n",
       "      <td>3.50</td>\n",
       "      <td>1.89</td>\n",
       "      <td>1.00</td>\n",
       "      <td>4.00</td>\n",
       "      <td>0.80</td>\n",
       "      <td>1.35</td>\n",
       "      <td>0.4</td>\n",
       "      <td>3.60</td>\n",
       "    </tr>\n",
       "    <tr>\n",
       "      <th>007</th>\n",
       "      <td>0.49</td>\n",
       "      <td>0.53</td>\n",
       "      <td>0.50</td>\n",
       "      <td>0.47</td>\n",
       "      <td>2.65</td>\n",
       "      <td>5.05</td>\n",
       "      <td>19.03</td>\n",
       "      <td>29.00</td>\n",
       "      <td>1.91</td>\n",
       "      <td>0.3</td>\n",
       "      <td>...</td>\n",
       "      <td>2.04</td>\n",
       "      <td>0.5</td>\n",
       "      <td>5.60</td>\n",
       "      <td>2.33</td>\n",
       "      <td>2.50</td>\n",
       "      <td>5.51</td>\n",
       "      <td>16.86</td>\n",
       "      <td>2.08</td>\n",
       "      <td>0.5</td>\n",
       "      <td>5.50</td>\n",
       "    </tr>\n",
       "    <tr>\n",
       "      <th>008</th>\n",
       "      <td>NaN</td>\n",
       "      <td>NaN</td>\n",
       "      <td>NaN</td>\n",
       "      <td>NaN</td>\n",
       "      <td>NaN</td>\n",
       "      <td>NaN</td>\n",
       "      <td>NaN</td>\n",
       "      <td>NaN</td>\n",
       "      <td>NaN</td>\n",
       "      <td>NaN</td>\n",
       "      <td>...</td>\n",
       "      <td>NaN</td>\n",
       "      <td>NaN</td>\n",
       "      <td>NaN</td>\n",
       "      <td>NaN</td>\n",
       "      <td>NaN</td>\n",
       "      <td>NaN</td>\n",
       "      <td>NaN</td>\n",
       "      <td>NaN</td>\n",
       "      <td>NaN</td>\n",
       "      <td>NaN</td>\n",
       "    </tr>\n",
       "    <tr>\n",
       "      <th>010</th>\n",
       "      <td>0.29</td>\n",
       "      <td>0.21</td>\n",
       "      <td>0.31</td>\n",
       "      <td>0.32</td>\n",
       "      <td>6.08</td>\n",
       "      <td>20.86</td>\n",
       "      <td>23.73</td>\n",
       "      <td>117.52</td>\n",
       "      <td>2.10</td>\n",
       "      <td>0.2</td>\n",
       "      <td>...</td>\n",
       "      <td>2.19</td>\n",
       "      <td>0.1</td>\n",
       "      <td>7.10</td>\n",
       "      <td>2.85</td>\n",
       "      <td>8.23</td>\n",
       "      <td>9.95</td>\n",
       "      <td>35.23</td>\n",
       "      <td>2.61</td>\n",
       "      <td>0.4</td>\n",
       "      <td>6.70</td>\n",
       "    </tr>\n",
       "    <tr>\n",
       "      <th>023</th>\n",
       "      <td>0.16</td>\n",
       "      <td>0.34</td>\n",
       "      <td>0.29</td>\n",
       "      <td>0.20</td>\n",
       "      <td>3.65</td>\n",
       "      <td>20.14</td>\n",
       "      <td>18.33</td>\n",
       "      <td>89.05</td>\n",
       "      <td>1.87</td>\n",
       "      <td>0.2</td>\n",
       "      <td>...</td>\n",
       "      <td>1.81</td>\n",
       "      <td>0.2</td>\n",
       "      <td>6.70</td>\n",
       "      <td>1.91</td>\n",
       "      <td>7.79</td>\n",
       "      <td>5.34</td>\n",
       "      <td>24.79</td>\n",
       "      <td>1.98</td>\n",
       "      <td>0.3</td>\n",
       "      <td>5.58</td>\n",
       "    </tr>\n",
       "    <tr>\n",
       "      <th>024</th>\n",
       "      <td>0.38</td>\n",
       "      <td>0.42</td>\n",
       "      <td>0.39</td>\n",
       "      <td>0.42</td>\n",
       "      <td>3.38</td>\n",
       "      <td>15.14</td>\n",
       "      <td>0.00</td>\n",
       "      <td>0.00</td>\n",
       "      <td>1.37</td>\n",
       "      <td>0.3</td>\n",
       "      <td>...</td>\n",
       "      <td>1.38</td>\n",
       "      <td>0.4</td>\n",
       "      <td>4.50</td>\n",
       "      <td>1.75</td>\n",
       "      <td>2.75</td>\n",
       "      <td>18.19</td>\n",
       "      <td>109.00</td>\n",
       "      <td>1.13</td>\n",
       "      <td>0.1</td>\n",
       "      <td>3.70</td>\n",
       "    </tr>\n",
       "    <tr>\n",
       "      <th>029</th>\n",
       "      <td>0.38</td>\n",
       "      <td>0.28</td>\n",
       "      <td>0.33</td>\n",
       "      <td>0.39</td>\n",
       "      <td>2.43</td>\n",
       "      <td>6.95</td>\n",
       "      <td>34.18</td>\n",
       "      <td>61.86</td>\n",
       "      <td>2.31</td>\n",
       "      <td>0.2</td>\n",
       "      <td>...</td>\n",
       "      <td>2.13</td>\n",
       "      <td>0.1</td>\n",
       "      <td>6.30</td>\n",
       "      <td>1.56</td>\n",
       "      <td>2.71</td>\n",
       "      <td>0.00</td>\n",
       "      <td>0.00</td>\n",
       "      <td>2.30</td>\n",
       "      <td>0.7</td>\n",
       "      <td>4.50</td>\n",
       "    </tr>\n",
       "    <tr>\n",
       "      <th>036</th>\n",
       "      <td>NaN</td>\n",
       "      <td>NaN</td>\n",
       "      <td>NaN</td>\n",
       "      <td>NaN</td>\n",
       "      <td>NaN</td>\n",
       "      <td>NaN</td>\n",
       "      <td>NaN</td>\n",
       "      <td>NaN</td>\n",
       "      <td>NaN</td>\n",
       "      <td>NaN</td>\n",
       "      <td>...</td>\n",
       "      <td>NaN</td>\n",
       "      <td>NaN</td>\n",
       "      <td>NaN</td>\n",
       "      <td>NaN</td>\n",
       "      <td>NaN</td>\n",
       "      <td>NaN</td>\n",
       "      <td>NaN</td>\n",
       "      <td>NaN</td>\n",
       "      <td>NaN</td>\n",
       "      <td>NaN</td>\n",
       "    </tr>\n",
       "    <tr>\n",
       "      <th>037</th>\n",
       "      <td>0.24</td>\n",
       "      <td>0.47</td>\n",
       "      <td>0.34</td>\n",
       "      <td>0.41</td>\n",
       "      <td>9.02</td>\n",
       "      <td>36.10</td>\n",
       "      <td>83.00</td>\n",
       "      <td>158.10</td>\n",
       "      <td>0.61</td>\n",
       "      <td>0.0</td>\n",
       "      <td>...</td>\n",
       "      <td>0.71</td>\n",
       "      <td>0.0</td>\n",
       "      <td>2.90</td>\n",
       "      <td>1.33</td>\n",
       "      <td>0.38</td>\n",
       "      <td>12.67</td>\n",
       "      <td>62.08</td>\n",
       "      <td>1.03</td>\n",
       "      <td>0.2</td>\n",
       "      <td>2.90</td>\n",
       "    </tr>\n",
       "    <tr>\n",
       "      <th>041</th>\n",
       "      <td>0.39</td>\n",
       "      <td>0.61</td>\n",
       "      <td>0.52</td>\n",
       "      <td>0.39</td>\n",
       "      <td>6.14</td>\n",
       "      <td>14.90</td>\n",
       "      <td>130.76</td>\n",
       "      <td>105.86</td>\n",
       "      <td>0.89</td>\n",
       "      <td>0.0</td>\n",
       "      <td>...</td>\n",
       "      <td>0.93</td>\n",
       "      <td>0.0</td>\n",
       "      <td>3.20</td>\n",
       "      <td>0.00</td>\n",
       "      <td>0.00</td>\n",
       "      <td>14.83</td>\n",
       "      <td>57.07</td>\n",
       "      <td>1.05</td>\n",
       "      <td>0.2</td>\n",
       "      <td>3.00</td>\n",
       "    </tr>\n",
       "    <tr>\n",
       "      <th>044</th>\n",
       "      <td>0.32</td>\n",
       "      <td>0.28</td>\n",
       "      <td>0.36</td>\n",
       "      <td>0.25</td>\n",
       "      <td>7.22</td>\n",
       "      <td>40.24</td>\n",
       "      <td>70.33</td>\n",
       "      <td>160.76</td>\n",
       "      <td>1.05</td>\n",
       "      <td>0.0</td>\n",
       "      <td>...</td>\n",
       "      <td>0.89</td>\n",
       "      <td>0.0</td>\n",
       "      <td>4.10</td>\n",
       "      <td>1.38</td>\n",
       "      <td>9.86</td>\n",
       "      <td>12.38</td>\n",
       "      <td>15.57</td>\n",
       "      <td>1.36</td>\n",
       "      <td>0.2</td>\n",
       "      <td>4.46</td>\n",
       "    </tr>\n",
       "    <tr>\n",
       "      <th>045</th>\n",
       "      <td>0.52</td>\n",
       "      <td>0.39</td>\n",
       "      <td>0.44</td>\n",
       "      <td>0.42</td>\n",
       "      <td>2.95</td>\n",
       "      <td>2.95</td>\n",
       "      <td>0.00</td>\n",
       "      <td>0.00</td>\n",
       "      <td>0.44</td>\n",
       "      <td>0.1</td>\n",
       "      <td>...</td>\n",
       "      <td>0.43</td>\n",
       "      <td>0.1</td>\n",
       "      <td>1.10</td>\n",
       "      <td>1.60</td>\n",
       "      <td>0.17</td>\n",
       "      <td>5.64</td>\n",
       "      <td>13.17</td>\n",
       "      <td>0.36</td>\n",
       "      <td>0.1</td>\n",
       "      <td>1.00</td>\n",
       "    </tr>\n",
       "    <tr>\n",
       "      <th>051</th>\n",
       "      <td>0.23</td>\n",
       "      <td>0.21</td>\n",
       "      <td>0.13</td>\n",
       "      <td>0.18</td>\n",
       "      <td>3.62</td>\n",
       "      <td>13.10</td>\n",
       "      <td>25.48</td>\n",
       "      <td>110.43</td>\n",
       "      <td>1.06</td>\n",
       "      <td>0.1</td>\n",
       "      <td>...</td>\n",
       "      <td>1.61</td>\n",
       "      <td>0.1</td>\n",
       "      <td>6.00</td>\n",
       "      <td>2.27</td>\n",
       "      <td>12.00</td>\n",
       "      <td>7.72</td>\n",
       "      <td>49.25</td>\n",
       "      <td>1.67</td>\n",
       "      <td>0.2</td>\n",
       "      <td>4.50</td>\n",
       "    </tr>\n",
       "    <tr>\n",
       "      <th>052</th>\n",
       "      <td>0.49</td>\n",
       "      <td>0.62</td>\n",
       "      <td>0.58</td>\n",
       "      <td>0.29</td>\n",
       "      <td>1.90</td>\n",
       "      <td>2.71</td>\n",
       "      <td>37.16</td>\n",
       "      <td>97.33</td>\n",
       "      <td>2.66</td>\n",
       "      <td>0.2</td>\n",
       "      <td>...</td>\n",
       "      <td>2.88</td>\n",
       "      <td>0.8</td>\n",
       "      <td>8.70</td>\n",
       "      <td>3.11</td>\n",
       "      <td>33.50</td>\n",
       "      <td>28.00</td>\n",
       "      <td>160.33</td>\n",
       "      <td>2.39</td>\n",
       "      <td>0.0</td>\n",
       "      <td>9.96</td>\n",
       "    </tr>\n",
       "    <tr>\n",
       "      <th>053</th>\n",
       "      <td>0.31</td>\n",
       "      <td>0.10</td>\n",
       "      <td>0.11</td>\n",
       "      <td>0.12</td>\n",
       "      <td>2.30</td>\n",
       "      <td>12.62</td>\n",
       "      <td>11.45</td>\n",
       "      <td>44.71</td>\n",
       "      <td>2.66</td>\n",
       "      <td>0.4</td>\n",
       "      <td>...</td>\n",
       "      <td>2.72</td>\n",
       "      <td>0.0</td>\n",
       "      <td>15.60</td>\n",
       "      <td>1.89</td>\n",
       "      <td>14.33</td>\n",
       "      <td>7.15</td>\n",
       "      <td>79.33</td>\n",
       "      <td>2.41</td>\n",
       "      <td>0.2</td>\n",
       "      <td>6.90</td>\n",
       "    </tr>\n",
       "    <tr>\n",
       "      <th>056</th>\n",
       "      <td>0.22</td>\n",
       "      <td>0.49</td>\n",
       "      <td>0.47</td>\n",
       "      <td>0.15</td>\n",
       "      <td>3.49</td>\n",
       "      <td>11.29</td>\n",
       "      <td>18.35</td>\n",
       "      <td>70.76</td>\n",
       "      <td>1.21</td>\n",
       "      <td>0.1</td>\n",
       "      <td>...</td>\n",
       "      <td>1.28</td>\n",
       "      <td>0.2</td>\n",
       "      <td>4.30</td>\n",
       "      <td>1.78</td>\n",
       "      <td>10.55</td>\n",
       "      <td>8.69</td>\n",
       "      <td>81.64</td>\n",
       "      <td>1.20</td>\n",
       "      <td>0.1</td>\n",
       "      <td>4.30</td>\n",
       "    </tr>\n",
       "    <tr>\n",
       "      <th>057</th>\n",
       "      <td>NaN</td>\n",
       "      <td>NaN</td>\n",
       "      <td>NaN</td>\n",
       "      <td>NaN</td>\n",
       "      <td>NaN</td>\n",
       "      <td>NaN</td>\n",
       "      <td>NaN</td>\n",
       "      <td>NaN</td>\n",
       "      <td>NaN</td>\n",
       "      <td>NaN</td>\n",
       "      <td>...</td>\n",
       "      <td>NaN</td>\n",
       "      <td>NaN</td>\n",
       "      <td>NaN</td>\n",
       "      <td>NaN</td>\n",
       "      <td>NaN</td>\n",
       "      <td>NaN</td>\n",
       "      <td>NaN</td>\n",
       "      <td>NaN</td>\n",
       "      <td>NaN</td>\n",
       "      <td>NaN</td>\n",
       "    </tr>\n",
       "    <tr>\n",
       "      <th>058</th>\n",
       "      <td>0.29</td>\n",
       "      <td>0.27</td>\n",
       "      <td>0.06</td>\n",
       "      <td>0.32</td>\n",
       "      <td>3.71</td>\n",
       "      <td>38.29</td>\n",
       "      <td>81.74</td>\n",
       "      <td>163.48</td>\n",
       "      <td>1.83</td>\n",
       "      <td>0.1</td>\n",
       "      <td>...</td>\n",
       "      <td>1.50</td>\n",
       "      <td>0.0</td>\n",
       "      <td>6.80</td>\n",
       "      <td>2.32</td>\n",
       "      <td>20.00</td>\n",
       "      <td>20.33</td>\n",
       "      <td>86.50</td>\n",
       "      <td>0.96</td>\n",
       "      <td>0.1</td>\n",
       "      <td>2.80</td>\n",
       "    </tr>\n",
       "    <tr>\n",
       "      <th>060</th>\n",
       "      <td>0.44</td>\n",
       "      <td>0.53</td>\n",
       "      <td>0.41</td>\n",
       "      <td>0.26</td>\n",
       "      <td>3.03</td>\n",
       "      <td>9.67</td>\n",
       "      <td>29.38</td>\n",
       "      <td>55.95</td>\n",
       "      <td>1.53</td>\n",
       "      <td>0.3</td>\n",
       "      <td>...</td>\n",
       "      <td>1.48</td>\n",
       "      <td>0.4</td>\n",
       "      <td>4.50</td>\n",
       "      <td>2.17</td>\n",
       "      <td>9.67</td>\n",
       "      <td>7.76</td>\n",
       "      <td>32.00</td>\n",
       "      <td>1.48</td>\n",
       "      <td>0.2</td>\n",
       "      <td>4.80</td>\n",
       "    </tr>\n",
       "    <tr>\n",
       "      <th>061</th>\n",
       "      <td>0.33</td>\n",
       "      <td>0.49</td>\n",
       "      <td>0.41</td>\n",
       "      <td>0.30</td>\n",
       "      <td>2.41</td>\n",
       "      <td>12.71</td>\n",
       "      <td>16.44</td>\n",
       "      <td>54.81</td>\n",
       "      <td>2.69</td>\n",
       "      <td>0.4</td>\n",
       "      <td>...</td>\n",
       "      <td>2.87</td>\n",
       "      <td>0.5</td>\n",
       "      <td>9.20</td>\n",
       "      <td>1.85</td>\n",
       "      <td>6.92</td>\n",
       "      <td>4.80</td>\n",
       "      <td>19.00</td>\n",
       "      <td>2.86</td>\n",
       "      <td>0.6</td>\n",
       "      <td>8.90</td>\n",
       "    </tr>\n",
       "    <tr>\n",
       "      <th>065</th>\n",
       "      <td>0.28</td>\n",
       "      <td>0.34</td>\n",
       "      <td>0.31</td>\n",
       "      <td>0.25</td>\n",
       "      <td>2.39</td>\n",
       "      <td>17.52</td>\n",
       "      <td>28.92</td>\n",
       "      <td>50.95</td>\n",
       "      <td>1.74</td>\n",
       "      <td>0.3</td>\n",
       "      <td>...</td>\n",
       "      <td>1.72</td>\n",
       "      <td>0.3</td>\n",
       "      <td>6.20</td>\n",
       "      <td>2.30</td>\n",
       "      <td>11.75</td>\n",
       "      <td>13.11</td>\n",
       "      <td>73.31</td>\n",
       "      <td>1.74</td>\n",
       "      <td>0.2</td>\n",
       "      <td>6.00</td>\n",
       "    </tr>\n",
       "    <tr>\n",
       "      <th>068</th>\n",
       "      <td>0.55</td>\n",
       "      <td>0.55</td>\n",
       "      <td>0.55</td>\n",
       "      <td>0.52</td>\n",
       "      <td>2.67</td>\n",
       "      <td>3.05</td>\n",
       "      <td>13.68</td>\n",
       "      <td>42.33</td>\n",
       "      <td>2.55</td>\n",
       "      <td>0.4</td>\n",
       "      <td>...</td>\n",
       "      <td>2.31</td>\n",
       "      <td>0.3</td>\n",
       "      <td>6.10</td>\n",
       "      <td>2.12</td>\n",
       "      <td>2.83</td>\n",
       "      <td>8.60</td>\n",
       "      <td>7.17</td>\n",
       "      <td>2.19</td>\n",
       "      <td>0.6</td>\n",
       "      <td>4.60</td>\n",
       "    </tr>\n",
       "  </tbody>\n",
       "</table>\n",
       "<p>24 rows × 32 columns</p>\n",
       "</div>"
      ],
      "text/plain": [
       "     BFI1_d  BFI2_d  BFI3_d  BFI_d  Q1_mm_d_hq_dur  Q1_mm_d_hq_freq  \\\n",
       "001    0.46    0.68    0.55   0.49            2.12             2.43   \n",
       "004    0.59    0.38    0.42   0.38            1.98             5.38   \n",
       "006    0.47    0.66    0.61   0.50            1.90             5.52   \n",
       "007    0.49    0.53    0.50   0.47            2.65             5.05   \n",
       "008     NaN     NaN     NaN    NaN             NaN              NaN   \n",
       "010    0.29    0.21    0.31   0.32            6.08            20.86   \n",
       "023    0.16    0.34    0.29   0.20            3.65            20.14   \n",
       "024    0.38    0.42    0.39   0.42            3.38            15.14   \n",
       "029    0.38    0.28    0.33   0.39            2.43             6.95   \n",
       "036     NaN     NaN     NaN    NaN             NaN              NaN   \n",
       "037    0.24    0.47    0.34   0.41            9.02            36.10   \n",
       "041    0.39    0.61    0.52   0.39            6.14            14.90   \n",
       "044    0.32    0.28    0.36   0.25            7.22            40.24   \n",
       "045    0.52    0.39    0.44   0.42            2.95             2.95   \n",
       "051    0.23    0.21    0.13   0.18            3.62            13.10   \n",
       "052    0.49    0.62    0.58   0.29            1.90             2.71   \n",
       "053    0.31    0.10    0.11   0.12            2.30            12.62   \n",
       "056    0.22    0.49    0.47   0.15            3.49            11.29   \n",
       "057     NaN     NaN     NaN    NaN             NaN              NaN   \n",
       "058    0.29    0.27    0.06   0.32            3.71            38.29   \n",
       "060    0.44    0.53    0.41   0.26            3.03             9.67   \n",
       "061    0.33    0.49    0.41   0.30            2.41            12.71   \n",
       "065    0.28    0.34    0.31   0.25            2.39            17.52   \n",
       "068    0.55    0.55    0.55   0.52            2.67             3.05   \n",
       "\n",
       "     Q1_mm_d_lq_dur  Q1_mm_d_lq_freq  Q1_mm_d_mean  Q1_mm_d_q5  ...  \\\n",
       "001           27.62            34.19          1.16         0.2  ...   \n",
       "004            0.00             0.00          2.26         0.6  ...   \n",
       "006            0.00             0.00          1.50         0.5  ...   \n",
       "007           19.03            29.00          1.91         0.3  ...   \n",
       "008             NaN              NaN           NaN         NaN  ...   \n",
       "010           23.73           117.52          2.10         0.2  ...   \n",
       "023           18.33            89.05          1.87         0.2  ...   \n",
       "024            0.00             0.00          1.37         0.3  ...   \n",
       "029           34.18            61.86          2.31         0.2  ...   \n",
       "036             NaN              NaN           NaN         NaN  ...   \n",
       "037           83.00           158.10          0.61         0.0  ...   \n",
       "041          130.76           105.86          0.89         0.0  ...   \n",
       "044           70.33           160.76          1.05         0.0  ...   \n",
       "045            0.00             0.00          0.44         0.1  ...   \n",
       "051           25.48           110.43          1.06         0.1  ...   \n",
       "052           37.16            97.33          2.66         0.2  ...   \n",
       "053           11.45            44.71          2.66         0.4  ...   \n",
       "056           18.35            70.76          1.21         0.1  ...   \n",
       "057             NaN              NaN           NaN         NaN  ...   \n",
       "058           81.74           163.48          1.83         0.1  ...   \n",
       "060           29.38            55.95          1.53         0.3  ...   \n",
       "061           16.44            54.81          2.69         0.4  ...   \n",
       "065           28.92            50.95          1.74         0.3  ...   \n",
       "068           13.68            42.33          2.55         0.4  ...   \n",
       "\n",
       "     Q3_mm_d_mean  Q3_mm_d_q5  Q3_mm_d_q95  Q_mm_d_hq_dur  Q_mm_d_hq_freq  \\\n",
       "001          1.18         0.2         3.10           1.62            0.86   \n",
       "004          2.23         0.3         8.15           2.00            5.00   \n",
       "006          1.36         0.4         3.50           1.89            1.00   \n",
       "007          2.04         0.5         5.60           2.33            2.50   \n",
       "008           NaN         NaN          NaN            NaN             NaN   \n",
       "010          2.19         0.1         7.10           2.85            8.23   \n",
       "023          1.81         0.2         6.70           1.91            7.79   \n",
       "024          1.38         0.4         4.50           1.75            2.75   \n",
       "029          2.13         0.1         6.30           1.56            2.71   \n",
       "036           NaN         NaN          NaN            NaN             NaN   \n",
       "037          0.71         0.0         2.90           1.33            0.38   \n",
       "041          0.93         0.0         3.20           0.00            0.00   \n",
       "044          0.89         0.0         4.10           1.38            9.86   \n",
       "045          0.43         0.1         1.10           1.60            0.17   \n",
       "051          1.61         0.1         6.00           2.27           12.00   \n",
       "052          2.88         0.8         8.70           3.11           33.50   \n",
       "053          2.72         0.0        15.60           1.89           14.33   \n",
       "056          1.28         0.2         4.30           1.78           10.55   \n",
       "057           NaN         NaN          NaN            NaN             NaN   \n",
       "058          1.50         0.0         6.80           2.32           20.00   \n",
       "060          1.48         0.4         4.50           2.17            9.67   \n",
       "061          2.87         0.5         9.20           1.85            6.92   \n",
       "065          1.72         0.3         6.20           2.30           11.75   \n",
       "068          2.31         0.3         6.10           2.12            2.83   \n",
       "\n",
       "     Q_mm_d_lq_dur  Q_mm_d_lq_freq  Q_mm_d_mean  Q_mm_d_q5  Q_mm_d_q95  \n",
       "001           0.00            0.00         1.23        0.4        3.10  \n",
       "004           0.00            0.00         1.97        0.6        4.80  \n",
       "006           4.00            0.80         1.35        0.4        3.60  \n",
       "007           5.51           16.86         2.08        0.5        5.50  \n",
       "008            NaN             NaN          NaN        NaN         NaN  \n",
       "010           9.95           35.23         2.61        0.4        6.70  \n",
       "023           5.34           24.79         1.98        0.3        5.58  \n",
       "024          18.19          109.00         1.13        0.1        3.70  \n",
       "029           0.00            0.00         2.30        0.7        4.50  \n",
       "036            NaN             NaN          NaN        NaN         NaN  \n",
       "037          12.67           62.08         1.03        0.2        2.90  \n",
       "041          14.83           57.07         1.05        0.2        3.00  \n",
       "044          12.38           15.57         1.36        0.2        4.46  \n",
       "045           5.64           13.17         0.36        0.1        1.00  \n",
       "051           7.72           49.25         1.67        0.2        4.50  \n",
       "052          28.00          160.33         2.39        0.0        9.96  \n",
       "053           7.15           79.33         2.41        0.2        6.90  \n",
       "056           8.69           81.64         1.20        0.1        4.30  \n",
       "057            NaN             NaN          NaN        NaN         NaN  \n",
       "058          20.33           86.50         0.96        0.1        2.80  \n",
       "060           7.76           32.00         1.48        0.2        4.80  \n",
       "061           4.80           19.00         2.86        0.6        8.90  \n",
       "065          13.11           73.31         1.74        0.2        6.00  \n",
       "068           8.60            7.17         2.19        0.6        4.60  \n",
       "\n",
       "[24 rows x 32 columns]"
      ]
     },
     "execution_count": 149,
     "metadata": {},
     "output_type": "execute_result"
    }
   ],
   "source": [
    "df.loc[:, (df.isna().sum()>0)]"
   ]
  },
  {
   "cell_type": "code",
   "execution_count": 150,
   "metadata": {
    "collapsed": false,
    "execution": {
     "iopub.execute_input": "2024-10-20T10:15:33.194360Z",
     "iopub.status.busy": "2024-10-20T10:15:33.194080Z",
     "iopub.status.idle": "2024-10-20T10:15:33.203927Z",
     "shell.execute_reply": "2024-10-20T10:15:33.202585Z"
    }
   },
   "outputs": [
    {
     "data": {
      "text/plain": [
       "BFI1_d             3\n",
       "BFI2_d             3\n",
       "BFI3_d             3\n",
       "BFI_d              3\n",
       "Q1_mm_d_hq_dur     3\n",
       "Q1_mm_d_hq_freq    3\n",
       "Q1_mm_d_lq_dur     3\n",
       "Q1_mm_d_lq_freq    3\n",
       "Q1_mm_d_mean       3\n",
       "Q1_mm_d_q5         3\n",
       "Q1_mm_d_q95        3\n",
       "Q2_mm_d_hq_dur     3\n",
       "Q2_mm_d_hq_freq    3\n",
       "Q2_mm_d_lq_dur     3\n",
       "Q2_mm_d_lq_freq    3\n",
       "Q2_mm_d_mean       3\n",
       "Q2_mm_d_q5         3\n",
       "Q2_mm_d_q95        3\n",
       "Q3_mm_d_hq_dur     3\n",
       "Q3_mm_d_hq_freq    3\n",
       "Q3_mm_d_lq_dur     3\n",
       "Q3_mm_d_lq_freq    3\n",
       "Q3_mm_d_mean       3\n",
       "Q3_mm_d_q5         3\n",
       "Q3_mm_d_q95        3\n",
       "Q_mm_d_hq_dur      3\n",
       "Q_mm_d_hq_freq     3\n",
       "Q_mm_d_lq_dur      3\n",
       "Q_mm_d_lq_freq     3\n",
       "Q_mm_d_mean        3\n",
       "Q_mm_d_q5          3\n",
       "Q_mm_d_q95         3\n",
       "dtype: int64"
      ]
     },
     "execution_count": 150,
     "metadata": {},
     "output_type": "execute_result"
    }
   ],
   "source": [
    "df.loc[:, (df.isna().sum()>0)].isna().sum()"
   ]
  },
  {
   "cell_type": "code",
   "execution_count": 151,
   "metadata": {
    "collapsed": false,
    "execution": {
     "iopub.execute_input": "2024-10-20T10:15:33.208154Z",
     "iopub.status.busy": "2024-10-20T10:15:33.207858Z",
     "iopub.status.idle": "2024-10-20T10:15:33.213409Z",
     "shell.execute_reply": "2024-10-20T10:15:33.212230Z"
    }
   },
   "outputs": [
    {
     "name": "stdout",
     "output_type": "stream",
     "text": [
      "pcp, q, temp\n"
     ]
    }
   ],
   "source": [
    "dynamic_features = dataset.dynamic_features\n",
    "dynamic_features.sort()\n",
    "print(textwrap.fill(\", \".join(dynamic_features), width=100))"
   ]
  }
 ],
 "metadata": {
  "kernelspec": {
   "display_name": "Python 3",
   "language": "python",
   "name": "python3"
  },
  "language_info": {
   "codemirror_mode": {
    "name": "ipython",
    "version": 3
   },
   "file_extension": ".py",
   "mimetype": "text/x-python",
   "name": "python",
   "nbconvert_exporter": "python",
   "pygments_lexer": "ipython3",
   "version": "3.12.4"
  }
 },
 "nbformat": 4,
 "nbformat_minor": 0
}

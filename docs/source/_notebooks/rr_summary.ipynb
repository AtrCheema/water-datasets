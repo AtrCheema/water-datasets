{
 "cells": [
  {
   "cell_type": "markdown",
   "metadata": {},
   "source": [
    "\n",
    "# Summary of Rainfall Runoff datasets\n"
   ]
  },
  {
   "cell_type": "code",
   "execution_count": 1,
   "metadata": {
    "collapsed": false,
    "execution": {
     "iopub.execute_input": "2024-10-18T21:11:53.726936Z",
     "iopub.status.busy": "2024-10-18T21:11:53.725706Z",
     "iopub.status.idle": "2024-10-18T21:11:56.171379Z",
     "shell.execute_reply": "2024-10-18T21:11:56.169900Z"
    }
   },
   "outputs": [
    {
     "name": "stdout",
     "output_type": "stream",
     "text": [
      "/home/abbaa0a/water-datasets\n"
     ]
    },
    {
     "name": "stdout",
     "output_type": "stream",
     "text": [
      "numpy 1.26.4\n",
      "pandas 1.5.3\n",
      "water_datasets 0.1.0\n",
      "python 3.12.4 | packaged by Anaconda, Inc. | (main, Jun 18 2024, 15:12:24) [GCC 11.2.0]\n",
      "os posix\n",
      "matplotlib 3.8.4\n",
      "shapefile 2.3.1\n",
      "xarray 2024.7.0\n",
      "netCDF4 1.6.2\n",
      "scipy 1.13.0\n",
      "Script Executed on:  18 October 2024 21:11:56\n",
      "tot_cpus 112\n",
      "avail_cpus 112\n",
      "mem_gib 251.52819442749023\n"
     ]
    }
   ],
   "source": [
    "import os\n",
    "import site\n",
    "\n",
    "wd_dir = os.path.dirname(os.path.dirname(os.path.dirname(os.path.dirname(os.path.realpath('__file__')))))\n",
    "#wd_dir = os.path.dirname(os.path.dirname(os.path.realpath('__file__')))\n",
    "# wd_dir = os.path.dirname(os.path.realpath('__file__'))\n",
    "print(wd_dir)\n",
    "site.addsitedir(wd_dir)\n",
    "\n",
    "import textwrap\n",
    "\n",
    "from water_datasets.utils import print_info\n",
    "from water_datasets import RainfallRunoff\n",
    "\n",
    "print_info()\n",
    "\n",
    "gscad_path = '/mnt/datawaha/hyex/atr/gscad_database/raw'"
   ]
  },
  {
   "cell_type": "markdown",
   "metadata": {},
   "source": [
    "## CAMELS_AUS\n",
    "\n"
   ]
  },
  {
   "cell_type": "code",
   "execution_count": 2,
   "metadata": {
    "collapsed": false,
    "execution": {
     "iopub.execute_input": "2024-10-18T21:11:56.180605Z",
     "iopub.status.busy": "2024-10-18T21:11:56.179035Z",
     "iopub.status.idle": "2024-10-18T21:11:56.241294Z",
     "shell.execute_reply": "2024-10-18T21:11:56.239786Z"
    }
   },
   "outputs": [
    {
     "name": "stdout",
     "output_type": "stream",
     "text": [
      "RainfallRunoff(CAMELS_AUS) with 222 stations, 26 dynamic and 166 static features\n"
     ]
    }
   ],
   "source": [
    "dataset = RainfallRunoff('CAMELS_AUS', path=os.path.join(gscad_path, 'CAMELS_AUS_V1'), version=1, verbosity=0)\n",
    "print(dataset)"
   ]
  },
  {
   "cell_type": "code",
   "execution_count": 3,
   "metadata": {
    "collapsed": false,
    "execution": {
     "iopub.execute_input": "2024-10-18T21:11:56.251692Z",
     "iopub.status.busy": "2024-10-18T21:11:56.250701Z",
     "iopub.status.idle": "2024-10-18T21:11:56.282254Z",
     "shell.execute_reply": "2024-10-18T21:11:56.280935Z"
    }
   },
   "outputs": [
    {
     "name": "stdout",
     "output_type": "stream",
     "text": [
      "station_name, drainage_division, river_region, notes, lat_outlet, long_outlet, lat_centroid,\n",
      "long_centroid, map_zone, catchment_area, state_outlet, state_alt, daystart, daystart_P, daystart_Q,\n",
      "nested_status, next_station_ds, num_nested_within, start_date, end_date, prop_missing_data,\n",
      "q_uncert_num_curves, q_uncert_n, q_uncert_q10, q_uncert_q10_upper, q_uncert_q10_lower, q_uncert_q50,\n",
      "q_uncert_q50_upper, q_uncert_q50_lower, q_uncert_q90, q_uncert_q90_upper, q_uncert_q90_lower,\n",
      "p_mean, pet_mean, aridity, p_seasonality, frac_snow, high_prec_freq, high_prec_dur,\n",
      "high_prec_timing, low_prec_freq, low_prec_dur, low_prec_timing, q_mean, runoff_ratio, stream_elas,\n",
      "slope_fdc, baseflow_index, hdf_mean, Q5, Q95, high_q_freq, high_q_dur, low_q_freq, low_q_dur,\n",
      "zero_q_freq, geol_prim, geol_prim_prop, geol_sec, geol_sec_prop, unconsoldted, igneous, silicsed,\n",
      "carbnatesed, othersed, metamorph, sedvolc, oldrock, claya, clayb, sanda, solum_thickness, ksat,\n",
      "solpawhc, elev_min, elev_max, elev_mean, elev_range, mean_slope_pct, upsdist, strdensity, strahler,\n",
      "elongratio, relief, reliefratio, mrvbf_prop_0, mrvbf_prop_1, mrvbf_prop_2, mrvbf_prop_3,\n",
      "mrvbf_prop_4, mrvbf_prop_5, mrvbf_prop_6, mrvbf_prop_7, mrvbf_prop_8, mrvbf_prop_9, confinement,\n",
      "lc01_extracti, lc03_waterbo, lc04_saltlak, lc05_irrcrop, lc06_irrpast, lc07_irrsuga, lc08_rfcropp,\n",
      "lc09_rfpastu, lc10_rfsugar, lc11_wetlands, lc14_tussclo, lc15_alpineg, lc16_openhum, lc18_opentus,\n",
      "lc19_shrbsca, lc24_shrbden, lc25_shrbope, lc31_forclos, lc32_foropen, lc33_woodope, lc34_woodspa,\n",
      "lc35_urbanar, prop_forested, nvis_grasses_n, nvis_grasses_e, nvis_forests_n, nvis_forests_e,\n",
      "nvis_shrubs_n, nvis_shrubs_e, nvis_woodlands_n, nvis_woodlands_e, nvis_bare_n, nvis_bare_e,\n",
      "nvis_nodata_n, nvis_nodata_e, distupdamw, impound_fac, flow_div_fac, leveebank_fac, infrastruc_fac,\n",
      "settlement_fac, extract_ind_fac, landuse_fac, catchment_di, flow_regime_di, river_di, pop_mean,\n",
      "pop_max, pop_gt_1, pop_gt_10, erosivity, anngro_mega, anngro_meso, anngro_micro, gromega_seas,\n",
      "gromeso_seas, gromicro_seas, npp_ann, npp_1, npp_2, npp_3, npp_4, npp_5, npp_6, npp_7, npp_8, npp_9,\n",
      "npp_10, npp_11, npp_12\n"
     ]
    }
   ],
   "source": [
    "print(textwrap.fill(\", \".join(dataset.static_features), width=100))"
   ]
  },
  {
   "cell_type": "code",
   "execution_count": 4,
   "metadata": {
    "collapsed": false,
    "execution": {
     "iopub.execute_input": "2024-10-18T21:11:56.291463Z",
     "iopub.status.busy": "2024-10-18T21:11:56.290195Z",
     "iopub.status.idle": "2024-10-18T21:11:56.358779Z",
     "shell.execute_reply": "2024-10-18T21:11:56.357558Z"
    }
   },
   "outputs": [
    {
     "name": "stdout",
     "output_type": "stream",
     "text": [
      "(222, 166)\n"
     ]
    }
   ],
   "source": [
    "df = dataset.fetch_static_features()\n",
    "print(df.shape)"
   ]
  },
  {
   "cell_type": "code",
   "execution_count": 5,
   "metadata": {
    "collapsed": false,
    "execution": {
     "iopub.execute_input": "2024-10-18T21:11:56.367445Z",
     "iopub.status.busy": "2024-10-18T21:11:56.366597Z",
     "iopub.status.idle": "2024-10-18T21:11:56.396985Z",
     "shell.execute_reply": "2024-10-18T21:11:56.395578Z"
    }
   },
   "outputs": [
    {
     "name": "stdout",
     "output_type": "stream",
     "text": [
      "1175\n"
     ]
    },
    {
     "data": {
      "text/plain": [
       "station_name         0\n",
       "drainage_division    0\n",
       "river_region         0\n",
       "notes                0\n",
       "lat_outlet           0\n",
       "                    ..\n",
       "npp_8                0\n",
       "npp_9                0\n",
       "npp_10               0\n",
       "npp_11               0\n",
       "npp_12               0\n",
       "Length: 166, dtype: int64"
      ]
     },
     "execution_count": 5,
     "metadata": {},
     "output_type": "execute_result"
    }
   ],
   "source": [
    "print(df.isna().sum().sum())\n",
    "df.isna().sum()"
   ]
  },
  {
   "cell_type": "markdown",
   "metadata": {},
   "source": [
    "find those columns which have at least one NaN value\n",
    "\n"
   ]
  },
  {
   "cell_type": "code",
   "execution_count": 6,
   "metadata": {
    "collapsed": false,
    "execution": {
     "iopub.execute_input": "2024-10-18T21:11:56.405504Z",
     "iopub.status.busy": "2024-10-18T21:11:56.404652Z",
     "iopub.status.idle": "2024-10-18T21:11:56.459091Z",
     "shell.execute_reply": "2024-10-18T21:11:56.457655Z"
    }
   },
   "outputs": [
    {
     "data": {
      "text/html": [
       "<div>\n",
       "<style scoped>\n",
       "    .dataframe tbody tr th:only-of-type {\n",
       "        vertical-align: middle;\n",
       "    }\n",
       "\n",
       "    .dataframe tbody tr th {\n",
       "        vertical-align: top;\n",
       "    }\n",
       "\n",
       "    .dataframe thead th {\n",
       "        text-align: right;\n",
       "    }\n",
       "</style>\n",
       "<table border=\"1\" class=\"dataframe\">\n",
       "  <thead>\n",
       "    <tr style=\"text-align: right;\">\n",
       "      <th></th>\n",
       "      <th>state_alt</th>\n",
       "      <th>next_station_ds</th>\n",
       "      <th>q_uncert_num_curves</th>\n",
       "      <th>q_uncert_n</th>\n",
       "      <th>q_uncert_q10</th>\n",
       "      <th>q_uncert_q10_upper</th>\n",
       "      <th>q_uncert_q10_lower</th>\n",
       "      <th>q_uncert_q50</th>\n",
       "      <th>q_uncert_q50_upper</th>\n",
       "      <th>q_uncert_q50_lower</th>\n",
       "      <th>q_uncert_q90</th>\n",
       "      <th>q_uncert_q90_upper</th>\n",
       "      <th>q_uncert_q90_lower</th>\n",
       "    </tr>\n",
       "    <tr>\n",
       "      <th>station_id</th>\n",
       "      <th></th>\n",
       "      <th></th>\n",
       "      <th></th>\n",
       "      <th></th>\n",
       "      <th></th>\n",
       "      <th></th>\n",
       "      <th></th>\n",
       "      <th></th>\n",
       "      <th></th>\n",
       "      <th></th>\n",
       "      <th></th>\n",
       "      <th></th>\n",
       "      <th></th>\n",
       "    </tr>\n",
       "  </thead>\n",
       "  <tbody>\n",
       "    <tr>\n",
       "      <th>912101A</th>\n",
       "      <td>NT</td>\n",
       "      <td>NaN</td>\n",
       "      <td>3.0</td>\n",
       "      <td>15226.0</td>\n",
       "      <td>0.015122</td>\n",
       "      <td>25.07%</td>\n",
       "      <td>-21.06%</td>\n",
       "      <td>0.027200</td>\n",
       "      <td>20.06%</td>\n",
       "      <td>-17.82%</td>\n",
       "      <td>0.121670</td>\n",
       "      <td>18.46%</td>\n",
       "      <td>-15.13%</td>\n",
       "    </tr>\n",
       "    <tr>\n",
       "      <th>912105A</th>\n",
       "      <td>NT</td>\n",
       "      <td>912101A</td>\n",
       "      <td>1.0</td>\n",
       "      <td>15232.0</td>\n",
       "      <td>0.016572</td>\n",
       "      <td>196.84%</td>\n",
       "      <td>-93.24%</td>\n",
       "      <td>0.031969</td>\n",
       "      <td>129.72%</td>\n",
       "      <td>-77.38%</td>\n",
       "      <td>0.161384</td>\n",
       "      <td>49.79%</td>\n",
       "      <td>-40.02%</td>\n",
       "    </tr>\n",
       "    <tr>\n",
       "      <th>915011A</th>\n",
       "      <td>NaN</td>\n",
       "      <td>NaN</td>\n",
       "      <td>NaN</td>\n",
       "      <td>NaN</td>\n",
       "      <td>NaN</td>\n",
       "      <td>NaN</td>\n",
       "      <td>NaN</td>\n",
       "      <td>NaN</td>\n",
       "      <td>NaN</td>\n",
       "      <td>NaN</td>\n",
       "      <td>NaN</td>\n",
       "      <td>NaN</td>\n",
       "      <td>NaN</td>\n",
       "    </tr>\n",
       "    <tr>\n",
       "      <th>917107A</th>\n",
       "      <td>NaN</td>\n",
       "      <td>NaN</td>\n",
       "      <td>2.0</td>\n",
       "      <td>15772.0</td>\n",
       "      <td>0.001552</td>\n",
       "      <td>143.47%</td>\n",
       "      <td>-66.93%</td>\n",
       "      <td>0.036077</td>\n",
       "      <td>51.70%</td>\n",
       "      <td>-37.00%</td>\n",
       "      <td>0.371124</td>\n",
       "      <td>26.85%</td>\n",
       "      <td>-22.30%</td>\n",
       "    </tr>\n",
       "    <tr>\n",
       "      <th>919003A</th>\n",
       "      <td>NaN</td>\n",
       "      <td>NaN</td>\n",
       "      <td>1.0</td>\n",
       "      <td>14933.0</td>\n",
       "      <td>0.004731</td>\n",
       "      <td>21.65%</td>\n",
       "      <td>-18.16%</td>\n",
       "      <td>0.053229</td>\n",
       "      <td>15.45%</td>\n",
       "      <td>-13.59%</td>\n",
       "      <td>1.273285</td>\n",
       "      <td>NaN</td>\n",
       "      <td>NaN</td>\n",
       "    </tr>\n",
       "    <tr>\n",
       "      <th>...</th>\n",
       "      <td>...</td>\n",
       "      <td>...</td>\n",
       "      <td>...</td>\n",
       "      <td>...</td>\n",
       "      <td>...</td>\n",
       "      <td>...</td>\n",
       "      <td>...</td>\n",
       "      <td>...</td>\n",
       "      <td>...</td>\n",
       "      <td>...</td>\n",
       "      <td>...</td>\n",
       "      <td>...</td>\n",
       "      <td>...</td>\n",
       "    </tr>\n",
       "    <tr>\n",
       "      <th>312061</th>\n",
       "      <td>NaN</td>\n",
       "      <td>NaN</td>\n",
       "      <td>NaN</td>\n",
       "      <td>NaN</td>\n",
       "      <td>NaN</td>\n",
       "      <td>NaN</td>\n",
       "      <td>NaN</td>\n",
       "      <td>NaN</td>\n",
       "      <td>NaN</td>\n",
       "      <td>NaN</td>\n",
       "      <td>NaN</td>\n",
       "      <td>NaN</td>\n",
       "      <td>NaN</td>\n",
       "    </tr>\n",
       "    <tr>\n",
       "      <th>314207</th>\n",
       "      <td>NaN</td>\n",
       "      <td>NaN</td>\n",
       "      <td>NaN</td>\n",
       "      <td>NaN</td>\n",
       "      <td>NaN</td>\n",
       "      <td>NaN</td>\n",
       "      <td>NaN</td>\n",
       "      <td>NaN</td>\n",
       "      <td>NaN</td>\n",
       "      <td>NaN</td>\n",
       "      <td>NaN</td>\n",
       "      <td>NaN</td>\n",
       "      <td>NaN</td>\n",
       "    </tr>\n",
       "    <tr>\n",
       "      <th>314213</th>\n",
       "      <td>NaN</td>\n",
       "      <td>NaN</td>\n",
       "      <td>NaN</td>\n",
       "      <td>NaN</td>\n",
       "      <td>NaN</td>\n",
       "      <td>NaN</td>\n",
       "      <td>NaN</td>\n",
       "      <td>NaN</td>\n",
       "      <td>NaN</td>\n",
       "      <td>NaN</td>\n",
       "      <td>NaN</td>\n",
       "      <td>NaN</td>\n",
       "      <td>NaN</td>\n",
       "    </tr>\n",
       "    <tr>\n",
       "      <th>315450</th>\n",
       "      <td>NaN</td>\n",
       "      <td>NaN</td>\n",
       "      <td>NaN</td>\n",
       "      <td>NaN</td>\n",
       "      <td>NaN</td>\n",
       "      <td>NaN</td>\n",
       "      <td>NaN</td>\n",
       "      <td>NaN</td>\n",
       "      <td>NaN</td>\n",
       "      <td>NaN</td>\n",
       "      <td>NaN</td>\n",
       "      <td>NaN</td>\n",
       "      <td>NaN</td>\n",
       "    </tr>\n",
       "    <tr>\n",
       "      <th>318076</th>\n",
       "      <td>NaN</td>\n",
       "      <td>NaN</td>\n",
       "      <td>NaN</td>\n",
       "      <td>NaN</td>\n",
       "      <td>NaN</td>\n",
       "      <td>NaN</td>\n",
       "      <td>NaN</td>\n",
       "      <td>NaN</td>\n",
       "      <td>NaN</td>\n",
       "      <td>NaN</td>\n",
       "      <td>NaN</td>\n",
       "      <td>NaN</td>\n",
       "      <td>NaN</td>\n",
       "    </tr>\n",
       "  </tbody>\n",
       "</table>\n",
       "<p>222 rows × 13 columns</p>\n",
       "</div>"
      ],
      "text/plain": [
       "           state_alt next_station_ds  q_uncert_num_curves  q_uncert_n  \\\n",
       "station_id                                                              \n",
       "912101A           NT             NaN                  3.0     15226.0   \n",
       "912105A           NT         912101A                  1.0     15232.0   \n",
       "915011A          NaN             NaN                  NaN         NaN   \n",
       "917107A          NaN             NaN                  2.0     15772.0   \n",
       "919003A          NaN             NaN                  1.0     14933.0   \n",
       "...              ...             ...                  ...         ...   \n",
       "312061           NaN             NaN                  NaN         NaN   \n",
       "314207           NaN             NaN                  NaN         NaN   \n",
       "314213           NaN             NaN                  NaN         NaN   \n",
       "315450           NaN             NaN                  NaN         NaN   \n",
       "318076           NaN             NaN                  NaN         NaN   \n",
       "\n",
       "            q_uncert_q10 q_uncert_q10_upper q_uncert_q10_lower  q_uncert_q50  \\\n",
       "station_id                                                                     \n",
       "912101A         0.015122             25.07%            -21.06%      0.027200   \n",
       "912105A         0.016572            196.84%            -93.24%      0.031969   \n",
       "915011A              NaN                NaN                NaN           NaN   \n",
       "917107A         0.001552            143.47%            -66.93%      0.036077   \n",
       "919003A         0.004731             21.65%            -18.16%      0.053229   \n",
       "...                  ...                ...                ...           ...   \n",
       "312061               NaN                NaN                NaN           NaN   \n",
       "314207               NaN                NaN                NaN           NaN   \n",
       "314213               NaN                NaN                NaN           NaN   \n",
       "315450               NaN                NaN                NaN           NaN   \n",
       "318076               NaN                NaN                NaN           NaN   \n",
       "\n",
       "           q_uncert_q50_upper q_uncert_q50_lower  q_uncert_q90  \\\n",
       "station_id                                                       \n",
       "912101A                20.06%            -17.82%      0.121670   \n",
       "912105A               129.72%            -77.38%      0.161384   \n",
       "915011A                   NaN                NaN           NaN   \n",
       "917107A                51.70%            -37.00%      0.371124   \n",
       "919003A                15.45%            -13.59%      1.273285   \n",
       "...                       ...                ...           ...   \n",
       "312061                    NaN                NaN           NaN   \n",
       "314207                    NaN                NaN           NaN   \n",
       "314213                    NaN                NaN           NaN   \n",
       "315450                    NaN                NaN           NaN   \n",
       "318076                    NaN                NaN           NaN   \n",
       "\n",
       "           q_uncert_q90_upper q_uncert_q90_lower  \n",
       "station_id                                        \n",
       "912101A                18.46%            -15.13%  \n",
       "912105A                49.79%            -40.02%  \n",
       "915011A                   NaN                NaN  \n",
       "917107A                26.85%            -22.30%  \n",
       "919003A                   NaN                NaN  \n",
       "...                       ...                ...  \n",
       "312061                    NaN                NaN  \n",
       "314207                    NaN                NaN  \n",
       "314213                    NaN                NaN  \n",
       "315450                    NaN                NaN  \n",
       "318076                    NaN                NaN  \n",
       "\n",
       "[222 rows x 13 columns]"
      ]
     },
     "execution_count": 6,
     "metadata": {},
     "output_type": "execute_result"
    }
   ],
   "source": [
    "df.loc[:, (df.isna().sum()>0)]"
   ]
  },
  {
   "cell_type": "code",
   "execution_count": 7,
   "metadata": {
    "collapsed": false,
    "execution": {
     "iopub.execute_input": "2024-10-18T21:11:56.468707Z",
     "iopub.status.busy": "2024-10-18T21:11:56.467442Z",
     "iopub.status.idle": "2024-10-18T21:11:56.488980Z",
     "shell.execute_reply": "2024-10-18T21:11:56.487568Z"
    }
   },
   "outputs": [
    {
     "data": {
      "text/plain": [
       "state_alt              212\n",
       "next_station_ds        192\n",
       "q_uncert_num_curves     56\n",
       "q_uncert_n              56\n",
       "q_uncert_q10            56\n",
       "q_uncert_q10_upper     118\n",
       "q_uncert_q10_lower     118\n",
       "q_uncert_q50            56\n",
       "q_uncert_q50_upper      66\n",
       "q_uncert_q50_lower      67\n",
       "q_uncert_q90            56\n",
       "q_uncert_q90_upper      61\n",
       "q_uncert_q90_lower      61\n",
       "dtype: int64"
      ]
     },
     "execution_count": 7,
     "metadata": {},
     "output_type": "execute_result"
    }
   ],
   "source": [
    "df.loc[:, (df.isna().sum()>0)].isna().sum()"
   ]
  },
  {
   "cell_type": "code",
   "execution_count": 8,
   "metadata": {
    "collapsed": false,
    "execution": {
     "iopub.execute_input": "2024-10-18T21:11:56.497175Z",
     "iopub.status.busy": "2024-10-18T21:11:56.496194Z",
     "iopub.status.idle": "2024-10-18T21:11:56.504669Z",
     "shell.execute_reply": "2024-10-18T21:11:56.503283Z"
    }
   },
   "outputs": [
    {
     "name": "stdout",
     "output_type": "stream",
     "text": [
      "26\n",
      "streamflow_MLd, streamflow_MLd_inclInfilled, streamflow_mmd, et_morton_actual_SILO,\n",
      "et_morton_point_SILO, et_morton_wet_SILO, et_short_crop_SILO, et_tall_crop_SILO,\n",
      "evap_morton_lake_SILO, evap_pan_SILO, evap_syn_SILO, precipitation_AWAP, precipitation_SILO,\n",
      "precipitation_var_AWAP, solarrad_AWAP, tmax_AWAP, tmin_AWAP, vprp_AWAP, mslp_SILO, radiation_SILO,\n",
      "rh_tmax_SILO, rh_tmin_SILO, tmax_SILO, tmin_SILO, vp_deficit_SILO, vp_SILO\n"
     ]
    }
   ],
   "source": [
    "print(dataset.num_dynamic())\n",
    "print(textwrap.fill(\", \".join(dataset.dynamic_features), width=100))"
   ]
  },
  {
   "cell_type": "code",
   "execution_count": 9,
   "metadata": {
    "collapsed": false,
    "execution": {
     "iopub.execute_input": "2024-10-18T21:11:56.511307Z",
     "iopub.status.busy": "2024-10-18T21:11:56.510305Z",
     "iopub.status.idle": "2024-10-18T21:11:56.600893Z",
     "shell.execute_reply": "2024-10-18T21:11:56.599126Z"
    }
   },
   "outputs": [
    {
     "name": "stdout",
     "output_type": "stream",
     "text": [
      "RainfallRunoff(CAMELS_AUS) with 561 stations, 26 dynamic and 187 static features\n"
     ]
    },
    {
     "name": "stdout",
     "output_type": "stream",
     "text": [
      "station_name, drainage_division, river_region, notes, lat_outlet, long_outlet, lat_centroid,\n",
      "long_centroid, map_zone, catchment_area, state_outlet, state_alt, daystart, daystart_P, daystart_Q,\n",
      "nested_status, next_station_ds, num_nested_within, start_date, end_date, prop_missing_data,\n",
      "q_uncert_unique_curves, q_uncert_rmse_all, q_uncert_rmse_lower, q_uncert_rmse_upper,\n",
      "q_uncert_days_above, q_uncert_Q_above, p_mean, pet_mean, aridity, p_seasonality, frac_snow,\n",
      "high_prec_freq, high_prec_dur, high_prec_timing, low_prec_freq, low_prec_dur, low_prec_timing,\n",
      "sig_mag_BaseMag, sig_mag_BFI, sig_mag_Q_7_day_max, sig_mag_Q_7_day_min, sig_mag_Q_CoV,\n",
      "sig_mag_Q_mean, sig_mag_Q_skew, sig_mag_Q_var, sig_mag_Q5, sig_mag_Q95, sig_mag_VarIdx,\n",
      "sig_freq_high_Q_freq, sig_freq_low_Q_freq, sig_freq_zero_Q_freq, sig_dur_RespTime,\n",
      "sig_dur_high_Q_dur, sig_dur_low_Q_dur, sig_dur_zero_Q_dur, sig_timing_HFD_mean, sig_timing_HFI_mean,\n",
      "sig_roc_AC1, sig_roc_AC1_low, sig_roc_BaseRecesK, sig_roc_FDC_slope, sig_roc_FlashIdx,\n",
      "sig_roc_RecesK_early, sig_roc_RecesVarSeasonality, sig_roc_RLD, sig_other_EventRR,\n",
      "sig_other_PeakDistribution, sig_other_PeakDistribution_low, sig_other_QP_elasticity,\n",
      "sig_other_RR_seasonality, sig_other_SnowDayRatio, sig_other_SnowStorage, sig_other_Spearmans_rho,\n",
      "sig_other_StorageFromBase, sig_other_TotalRR, sig_other_ratio_Event_TotalRR, geol_prim,\n",
      "geol_prim_prop, geol_sec, geol_sec_prop, unconsoldted, igneous, silicsed, carbnatesed, othersed,\n",
      "metamorph, sedvolc, oldrock, claya, clayb, sanda, solum_thickness, ksat, solpawhc, elev_min,\n",
      "elev_max, elev_mean, elev_range, mean_slope_pct, upsdist, strdensity, strahler, elongratio, relief,\n",
      "reliefratio, mrvbf_prop_0, mrvbf_prop_1, mrvbf_prop_2, mrvbf_prop_3, mrvbf_prop_4, mrvbf_prop_5,\n",
      "mrvbf_prop_6, mrvbf_prop_7, mrvbf_prop_8, mrvbf_prop_9, confinement, lc01_extracti, lc03_waterbo,\n",
      "lc04_saltlak, lc05_irrcrop, lc06_irrpast, lc07_irrsuga, lc08_rfcropp, lc09_rfpastu, lc10_rfsugar,\n",
      "lc11_wetlands, lc14_tussclo, lc15_alpineg, lc16_openhum, lc18_opentus, lc19_shrbsca, lc24_shrbden,\n",
      "lc25_shrbope, lc31_forclos, lc32_foropen, lc33_woodope, lc34_woodspa, lc35_urbanar, prop_forested,\n",
      "nvis_grasses_n, nvis_grasses_e, nvis_forests_n, nvis_forests_e, nvis_shrubs_n, nvis_shrubs_e,\n",
      "nvis_woodlands_n, nvis_woodlands_e, nvis_bare_n, nvis_bare_e, nvis_nodata_n, nvis_nodata_e,\n",
      "distupdamw, impound_fac, flow_div_fac, leveebank_fac, infrastruc_fac, settlement_fac,\n",
      "extract_ind_fac, landuse_fac, catchment_di, flow_regime_di, river_di, pop_mean, pop_max, pop_gt_1,\n",
      "pop_gt_10, erosivity, anngro_mega, anngro_meso, anngro_micro, gromega_seas, gromeso_seas,\n",
      "gromicro_seas, npp_ann, npp_1, npp_2, npp_3, npp_4, npp_5, npp_6, npp_7, npp_8, npp_9, npp_10,\n",
      "npp_11, npp_12\n"
     ]
    }
   ],
   "source": [
    "dataset = RainfallRunoff('CAMELS_AUS', path=os.path.join(gscad_path, 'CAMELS'), version=2, verbosity=0)\n",
    "print(dataset)\n",
    "print(textwrap.fill(\", \".join(dataset.static_features), width=100))"
   ]
  },
  {
   "cell_type": "code",
   "execution_count": 10,
   "metadata": {
    "collapsed": false,
    "execution": {
     "iopub.execute_input": "2024-10-18T21:11:56.610959Z",
     "iopub.status.busy": "2024-10-18T21:11:56.609414Z",
     "iopub.status.idle": "2024-10-18T21:11:56.709450Z",
     "shell.execute_reply": "2024-10-18T21:11:56.708121Z"
    }
   },
   "outputs": [
    {
     "name": "stdout",
     "output_type": "stream",
     "text": [
      "(561, 187)"
     ]
    },
    {
     "name": "stdout",
     "output_type": "stream",
     "text": [
      "\n"
     ]
    }
   ],
   "source": [
    "df = dataset.fetch_static_features()\n",
    "print(df.shape)"
   ]
  },
  {
   "cell_type": "code",
   "execution_count": 11,
   "metadata": {
    "collapsed": false,
    "execution": {
     "iopub.execute_input": "2024-10-18T21:11:56.720198Z",
     "iopub.status.busy": "2024-10-18T21:11:56.718990Z",
     "iopub.status.idle": "2024-10-18T21:11:56.744622Z",
     "shell.execute_reply": "2024-10-18T21:11:56.743420Z"
    }
   },
   "outputs": [
    {
     "name": "stdout",
     "output_type": "stream",
     "text": [
      "1643\n"
     ]
    },
    {
     "data": {
      "text/plain": [
       "station_name         0\n",
       "drainage_division    0\n",
       "river_region         0\n",
       "notes                0\n",
       "lat_outlet           0\n",
       "                    ..\n",
       "npp_8                0\n",
       "npp_9                0\n",
       "npp_10               0\n",
       "npp_11               0\n",
       "npp_12               0\n",
       "Length: 187, dtype: int64"
      ]
     },
     "execution_count": 11,
     "metadata": {},
     "output_type": "execute_result"
    }
   ],
   "source": [
    "print(df.isna().sum().sum())\n",
    "df.isna().sum()"
   ]
  },
  {
   "cell_type": "markdown",
   "metadata": {},
   "source": [
    "find those columns which have at least one NaN value\n",
    "\n"
   ]
  },
  {
   "cell_type": "code",
   "execution_count": 12,
   "metadata": {
    "collapsed": false,
    "execution": {
     "iopub.execute_input": "2024-10-18T21:11:56.753805Z",
     "iopub.status.busy": "2024-10-18T21:11:56.752660Z",
     "iopub.status.idle": "2024-10-18T21:11:56.788406Z",
     "shell.execute_reply": "2024-10-18T21:11:56.787139Z"
    }
   },
   "outputs": [
    {
     "data": {
      "text/html": [
       "<div>\n",
       "<style scoped>\n",
       "    .dataframe tbody tr th:only-of-type {\n",
       "        vertical-align: middle;\n",
       "    }\n",
       "\n",
       "    .dataframe tbody tr th {\n",
       "        vertical-align: top;\n",
       "    }\n",
       "\n",
       "    .dataframe thead th {\n",
       "        text-align: right;\n",
       "    }\n",
       "</style>\n",
       "<table border=\"1\" class=\"dataframe\">\n",
       "  <thead>\n",
       "    <tr style=\"text-align: right;\">\n",
       "      <th></th>\n",
       "      <th>state_alt</th>\n",
       "      <th>next_station_ds</th>\n",
       "      <th>q_uncert_unique_curves</th>\n",
       "      <th>q_uncert_rmse_all</th>\n",
       "      <th>q_uncert_rmse_lower</th>\n",
       "      <th>q_uncert_rmse_upper</th>\n",
       "      <th>q_uncert_days_above</th>\n",
       "      <th>q_uncert_Q_above</th>\n",
       "      <th>sig_mag_VarIdx</th>\n",
       "      <th>sig_roc_FDC_slope</th>\n",
       "      <th>sig_other_PeakDistribution_low</th>\n",
       "    </tr>\n",
       "    <tr>\n",
       "      <th>station_id</th>\n",
       "      <th></th>\n",
       "      <th></th>\n",
       "      <th></th>\n",
       "      <th></th>\n",
       "      <th></th>\n",
       "      <th></th>\n",
       "      <th></th>\n",
       "      <th></th>\n",
       "      <th></th>\n",
       "      <th></th>\n",
       "      <th></th>\n",
       "    </tr>\n",
       "  </thead>\n",
       "  <tbody>\n",
       "    <tr>\n",
       "      <th>912101A</th>\n",
       "      <td>NT</td>\n",
       "      <td>NaN</td>\n",
       "      <td>NaN</td>\n",
       "      <td>NaN</td>\n",
       "      <td>NaN</td>\n",
       "      <td>NaN</td>\n",
       "      <td>NaN</td>\n",
       "      <td>NaN</td>\n",
       "      <td>0.292867</td>\n",
       "      <td>-1.916733</td>\n",
       "      <td>-2.180623</td>\n",
       "    </tr>\n",
       "    <tr>\n",
       "      <th>912105A</th>\n",
       "      <td>NT</td>\n",
       "      <td>912101A</td>\n",
       "      <td>NaN</td>\n",
       "      <td>NaN</td>\n",
       "      <td>NaN</td>\n",
       "      <td>NaN</td>\n",
       "      <td>NaN</td>\n",
       "      <td>NaN</td>\n",
       "      <td>0.304694</td>\n",
       "      <td>-1.795139</td>\n",
       "      <td>-1.254491</td>\n",
       "    </tr>\n",
       "    <tr>\n",
       "      <th>915011A</th>\n",
       "      <td>NaN</td>\n",
       "      <td>NaN</td>\n",
       "      <td>NaN</td>\n",
       "      <td>NaN</td>\n",
       "      <td>NaN</td>\n",
       "      <td>NaN</td>\n",
       "      <td>NaN</td>\n",
       "      <td>NaN</td>\n",
       "      <td>1.083646</td>\n",
       "      <td>NaN</td>\n",
       "      <td>-6.090788</td>\n",
       "    </tr>\n",
       "    <tr>\n",
       "      <th>915206A</th>\n",
       "      <td>NaN</td>\n",
       "      <td>NaN</td>\n",
       "      <td>25.0</td>\n",
       "      <td>25.172244</td>\n",
       "      <td>6.506520</td>\n",
       "      <td>20.955888</td>\n",
       "      <td>0.078362</td>\n",
       "      <td>19.011459</td>\n",
       "      <td>1.009843</td>\n",
       "      <td>NaN</td>\n",
       "      <td>-8.491230</td>\n",
       "    </tr>\n",
       "    <tr>\n",
       "      <th>917107A</th>\n",
       "      <td>NaN</td>\n",
       "      <td>NaN</td>\n",
       "      <td>16.0</td>\n",
       "      <td>53.380009</td>\n",
       "      <td>1168.007627</td>\n",
       "      <td>21.192680</td>\n",
       "      <td>0.132802</td>\n",
       "      <td>12.283859</td>\n",
       "      <td>0.641856</td>\n",
       "      <td>-3.957062</td>\n",
       "      <td>-3.631162</td>\n",
       "    </tr>\n",
       "    <tr>\n",
       "      <th>...</th>\n",
       "      <td>...</td>\n",
       "      <td>...</td>\n",
       "      <td>...</td>\n",
       "      <td>...</td>\n",
       "      <td>...</td>\n",
       "      <td>...</td>\n",
       "      <td>...</td>\n",
       "      <td>...</td>\n",
       "      <td>...</td>\n",
       "      <td>...</td>\n",
       "      <td>...</td>\n",
       "    </tr>\n",
       "    <tr>\n",
       "      <th>318150</th>\n",
       "      <td>NaN</td>\n",
       "      <td>318181</td>\n",
       "      <td>8.0</td>\n",
       "      <td>13.679565</td>\n",
       "      <td>13.569136</td>\n",
       "      <td>10.168856</td>\n",
       "      <td>0.000000</td>\n",
       "      <td>0.000000</td>\n",
       "      <td>0.459891</td>\n",
       "      <td>-3.489307</td>\n",
       "      <td>-5.351701</td>\n",
       "    </tr>\n",
       "    <tr>\n",
       "      <th>318181</th>\n",
       "      <td>NaN</td>\n",
       "      <td>NaN</td>\n",
       "      <td>24.0</td>\n",
       "      <td>8.209045</td>\n",
       "      <td>23.363542</td>\n",
       "      <td>5.920785</td>\n",
       "      <td>0.004200</td>\n",
       "      <td>0.450893</td>\n",
       "      <td>0.507649</td>\n",
       "      <td>-3.661257</td>\n",
       "      <td>-5.290249</td>\n",
       "    </tr>\n",
       "    <tr>\n",
       "      <th>318191</th>\n",
       "      <td>NaN</td>\n",
       "      <td>318150</td>\n",
       "      <td>11.0</td>\n",
       "      <td>8.226708</td>\n",
       "      <td>12.538870</td>\n",
       "      <td>6.093167</td>\n",
       "      <td>0.000000</td>\n",
       "      <td>0.000000</td>\n",
       "      <td>0.514683</td>\n",
       "      <td>-3.525028</td>\n",
       "      <td>-8.555535</td>\n",
       "    </tr>\n",
       "    <tr>\n",
       "      <th>318311</th>\n",
       "      <td>NaN</td>\n",
       "      <td>318150</td>\n",
       "      <td>10.0</td>\n",
       "      <td>19.588965</td>\n",
       "      <td>34.652832</td>\n",
       "      <td>14.517310</td>\n",
       "      <td>0.121428</td>\n",
       "      <td>11.333069</td>\n",
       "      <td>0.678704</td>\n",
       "      <td>-4.723863</td>\n",
       "      <td>-7.717046</td>\n",
       "    </tr>\n",
       "    <tr>\n",
       "      <th>319204</th>\n",
       "      <td>NaN</td>\n",
       "      <td>NaN</td>\n",
       "      <td>5.0</td>\n",
       "      <td>6.379150</td>\n",
       "      <td>20.465465</td>\n",
       "      <td>4.794664</td>\n",
       "      <td>0.005493</td>\n",
       "      <td>0.536084</td>\n",
       "      <td>0.683732</td>\n",
       "      <td>-5.213989</td>\n",
       "      <td>-6.477004</td>\n",
       "    </tr>\n",
       "  </tbody>\n",
       "</table>\n",
       "<p>561 rows × 11 columns</p>\n",
       "</div>"
      ],
      "text/plain": [
       "           state_alt next_station_ds  q_uncert_unique_curves  \\\n",
       "station_id                                                     \n",
       "912101A           NT             NaN                     NaN   \n",
       "912105A           NT         912101A                     NaN   \n",
       "915011A          NaN             NaN                     NaN   \n",
       "915206A          NaN             NaN                    25.0   \n",
       "917107A          NaN             NaN                    16.0   \n",
       "...              ...             ...                     ...   \n",
       "318150           NaN          318181                     8.0   \n",
       "318181           NaN             NaN                    24.0   \n",
       "318191           NaN          318150                    11.0   \n",
       "318311           NaN          318150                    10.0   \n",
       "319204           NaN             NaN                     5.0   \n",
       "\n",
       "            q_uncert_rmse_all  q_uncert_rmse_lower  q_uncert_rmse_upper  \\\n",
       "station_id                                                                \n",
       "912101A                   NaN                  NaN                  NaN   \n",
       "912105A                   NaN                  NaN                  NaN   \n",
       "915011A                   NaN                  NaN                  NaN   \n",
       "915206A             25.172244             6.506520            20.955888   \n",
       "917107A             53.380009          1168.007627            21.192680   \n",
       "...                       ...                  ...                  ...   \n",
       "318150              13.679565            13.569136            10.168856   \n",
       "318181               8.209045            23.363542             5.920785   \n",
       "318191               8.226708            12.538870             6.093167   \n",
       "318311              19.588965            34.652832            14.517310   \n",
       "319204               6.379150            20.465465             4.794664   \n",
       "\n",
       "            q_uncert_days_above  q_uncert_Q_above  sig_mag_VarIdx  \\\n",
       "station_id                                                          \n",
       "912101A                     NaN               NaN        0.292867   \n",
       "912105A                     NaN               NaN        0.304694   \n",
       "915011A                     NaN               NaN        1.083646   \n",
       "915206A                0.078362         19.011459        1.009843   \n",
       "917107A                0.132802         12.283859        0.641856   \n",
       "...                         ...               ...             ...   \n",
       "318150                 0.000000          0.000000        0.459891   \n",
       "318181                 0.004200          0.450893        0.507649   \n",
       "318191                 0.000000          0.000000        0.514683   \n",
       "318311                 0.121428         11.333069        0.678704   \n",
       "319204                 0.005493          0.536084        0.683732   \n",
       "\n",
       "            sig_roc_FDC_slope  sig_other_PeakDistribution_low  \n",
       "station_id                                                     \n",
       "912101A             -1.916733                       -2.180623  \n",
       "912105A             -1.795139                       -1.254491  \n",
       "915011A                   NaN                       -6.090788  \n",
       "915206A                   NaN                       -8.491230  \n",
       "917107A             -3.957062                       -3.631162  \n",
       "...                       ...                             ...  \n",
       "318150              -3.489307                       -5.351701  \n",
       "318181              -3.661257                       -5.290249  \n",
       "318191              -3.525028                       -8.555535  \n",
       "318311              -4.723863                       -7.717046  \n",
       "319204              -5.213989                       -6.477004  \n",
       "\n",
       "[561 rows x 11 columns]"
      ]
     },
     "execution_count": 12,
     "metadata": {},
     "output_type": "execute_result"
    }
   ],
   "source": [
    "df.loc[:, (df.isna().sum()>0)]"
   ]
  },
  {
   "cell_type": "code",
   "execution_count": 13,
   "metadata": {
    "collapsed": false,
    "execution": {
     "iopub.execute_input": "2024-10-18T21:11:56.798551Z",
     "iopub.status.busy": "2024-10-18T21:11:56.797636Z",
     "iopub.status.idle": "2024-10-18T21:11:56.820373Z",
     "shell.execute_reply": "2024-10-18T21:11:56.819104Z"
    }
   },
   "outputs": [
    {
     "data": {
      "text/plain": [
       "state_alt                         544\n",
       "next_station_ds                   391\n",
       "q_uncert_unique_curves            102\n",
       "q_uncert_rmse_all                 102\n",
       "q_uncert_rmse_lower               102\n",
       "q_uncert_rmse_upper               102\n",
       "q_uncert_days_above               102\n",
       "q_uncert_Q_above                  102\n",
       "sig_mag_VarIdx                      2\n",
       "sig_roc_FDC_slope                  91\n",
       "sig_other_PeakDistribution_low      3\n",
       "dtype: int64"
      ]
     },
     "execution_count": 13,
     "metadata": {},
     "output_type": "execute_result"
    }
   ],
   "source": [
    "df.loc[:, (df.isna().sum()>0)].isna().sum()"
   ]
  },
  {
   "cell_type": "code",
   "execution_count": 14,
   "metadata": {
    "collapsed": false,
    "execution": {
     "iopub.execute_input": "2024-10-18T21:11:56.829192Z",
     "iopub.status.busy": "2024-10-18T21:11:56.828331Z",
     "iopub.status.idle": "2024-10-18T21:11:56.837952Z",
     "shell.execute_reply": "2024-10-18T21:11:56.836567Z"
    }
   },
   "outputs": [
    {
     "name": "stdout",
     "output_type": "stream",
     "text": [
      "26\n",
      "streamflow_MLd, streamflow_MLd_inclInfilled, streamflow_mmd, et_morton_actual_SILO,\n",
      "et_morton_point_SILO, et_morton_wet_SILO, et_short_crop_SILO, et_tall_crop_SILO,\n",
      "evap_morton_lake_SILO, evap_pan_SILO, evap_syn_SILO, precipitation_AGCD, precipitation_SILO,\n",
      "precipitation_var_AGCD, tmax_AGCD, tmin_AGCD, vapourpres_h09_AGCD, vapourpres_h15_AGCD, mslp_SILO,\n",
      "radiation_SILO, rh_tmax_SILO, rh_tmin_SILO, tmax_SILO, tmin_SILO, vp_deficit_SILO, vp_SILO\n"
     ]
    }
   ],
   "source": [
    "print(dataset.num_dynamic())\n",
    "print(textwrap.fill(\", \".join(dataset.dynamic_features), width=100))"
   ]
  },
  {
   "cell_type": "markdown",
   "metadata": {},
   "source": [
    "## CAMELS_GB\n",
    "\n"
   ]
  },
  {
   "cell_type": "code",
   "execution_count": 15,
   "metadata": {
    "collapsed": false,
    "execution": {
     "iopub.execute_input": "2024-10-18T21:11:56.844217Z",
     "iopub.status.busy": "2024-10-18T21:11:56.843330Z",
     "iopub.status.idle": "2024-10-18T21:11:56.991646Z",
     "shell.execute_reply": "2024-10-18T21:11:56.990023Z"
    }
   },
   "outputs": [
    {
     "name": "stdout",
     "output_type": "stream",
     "text": [
      "RainfallRunoff(CAMELS_GB) with 671 stations, 10 dynamic and 145 static features\n"
     ]
    },
    {
     "name": "stdout",
     "output_type": "stream",
     "text": [
      "q_mean, runoff_ratio, stream_elas, slope_fdc, baseflow_index, baseflow_index_ceh, hfd_mean, Q5, Q95,\n",
      "high_q_freq, high_q_dur, low_q_freq, low_q_dur, zero_q_freq, p_mean, pet_mean, aridity,\n",
      "p_seasonality, frac_snow, high_prec_freq, high_prec_dur, high_prec_timing, low_prec_freq,\n",
      "low_prec_dur, low_prec_timing, dwood_perc, ewood_perc, grass_perc, shrub_perc, crop_perc,\n",
      "urban_perc, inwater_perc, bares_perc, dom_land_cover, benchmark_catch, surfacewater_abs,\n",
      "groundwater_abs, discharges, abs_agriculture_perc, abs_amenities_perc, abs_energy_perc,\n",
      "abs_environmental_perc, abs_industry_perc, abs_watersupply_perc, num_reservoir, reservoir_cap,\n",
      "reservoir_he, reservoir_nav, reservoir_drain, reservoir_wr, reservoir_fs, reservoir_env,\n",
      "reservoir_nousedata, reservoir_year_first, reservoir_year_last, inter_high_perc, inter_mod_perc,\n",
      "inter_low_perc, frac_high_perc, frac_mod_perc, frac_low_perc, no_gw_perc, low_nsig_perc,\n",
      "nsig_low_perc, gauge_name, gauge_lat, gauge_lon, gauge_easting, gauge_northing, gauge_elev, area,\n",
      "dpsbar, elev_mean, elev_min, elev_10, elev_50, elev_90, elev_max, station_type, flow_period_start,\n",
      "flow_period_end, flow_perc_complete, bankfull_flow, structurefull_flow, q5_uncert_upper,\n",
      "q5_uncert_lower, q25_uncert_upper, q25_uncert_lower, q50_uncert_upper, q50_uncert_lower,\n",
      "q75_uncert_upper, q75_uncert_lower, q95_uncert_upper, q95_uncert_lower, q99_uncert_upper,\n",
      "q99_uncert_lower, quncert_meta, sand_perc, sand_perc_missing, silt_perc, silt_perc_missing,\n",
      "clay_perc, clay_perc_missing, organic_perc, organic_perc_missing, bulkdens, bulkdens_missing,\n",
      "bulkdens_5, bulkdens_50, bulkdens_95, tawc, tawc_missing, tawc_5, tawc_50, tawc_95, porosity_cosby,\n",
      "porosity_cosby_missing, porosity_cosby_5, porosity_cosby_50, porosity_cosby_95, porosity_hypres,\n",
      "porosity_hypres_missing, porosity_hypres_5, porosity_hypres_50, porosity_hypres_95,\n",
      "conductivity_cosby, conductivity_cosby_missing, conductivity_cosby_5, conductivity_cosby_50,\n",
      "conductivity_cosby_95, conductivity_hypres, conductivity_hypres_missing, conductivity_hypres_5,\n",
      "conductivity_hypres_50, conductivity_hypres_95, root_depth, root_depth_missing, root_depth_5,\n",
      "root_depth_50, root_depth_95, soil_depth_pelletier, soil_depth_pelletier_missing,\n",
      "soil_depth_pelletier_5, soil_depth_pelletier_50, soil_depth_pelletier_95\n"
     ]
    }
   ],
   "source": [
    "dataset = RainfallRunoff('CAMELS_GB', path=os.path.join(gscad_path, 'CAMELS'), verbosity=0)\n",
    "print(dataset)\n",
    "print(textwrap.fill(\", \".join(dataset.static_features), width=100))"
   ]
  },
  {
   "cell_type": "code",
   "execution_count": 16,
   "metadata": {
    "collapsed": false,
    "execution": {
     "iopub.execute_input": "2024-10-18T21:11:56.999741Z",
     "iopub.status.busy": "2024-10-18T21:11:56.998891Z",
     "iopub.status.idle": "2024-10-18T21:11:57.128213Z",
     "shell.execute_reply": "2024-10-18T21:11:57.126734Z"
    }
   },
   "outputs": [
    {
     "name": "stdout",
     "output_type": "stream",
     "text": [
      "(671, 145)\n"
     ]
    }
   ],
   "source": [
    "df = dataset.fetch_static_features()\n",
    "print(df.shape)"
   ]
  },
  {
   "cell_type": "code",
   "execution_count": 17,
   "metadata": {
    "collapsed": false,
    "execution": {
     "iopub.execute_input": "2024-10-18T21:11:57.137009Z",
     "iopub.status.busy": "2024-10-18T21:11:57.135599Z",
     "iopub.status.idle": "2024-10-18T21:11:57.161730Z",
     "shell.execute_reply": "2024-10-18T21:11:57.160268Z"
    }
   },
   "outputs": [
    {
     "name": "stdout",
     "output_type": "stream",
     "text": [
      "10316\n"
     ]
    },
    {
     "data": {
      "text/plain": [
       "q_mean                          0\n",
       "runoff_ratio                    0\n",
       "stream_elas                     0\n",
       "slope_fdc                       3\n",
       "baseflow_index                  0\n",
       "                               ..\n",
       "soil_depth_pelletier            0\n",
       "soil_depth_pelletier_missing    0\n",
       "soil_depth_pelletier_5          0\n",
       "soil_depth_pelletier_50         0\n",
       "soil_depth_pelletier_95         0\n",
       "Length: 145, dtype: int64"
      ]
     },
     "execution_count": 17,
     "metadata": {},
     "output_type": "execute_result"
    }
   ],
   "source": [
    "print(df.isna().sum().sum())\n",
    "df.isna().sum()"
   ]
  },
  {
   "cell_type": "markdown",
   "metadata": {},
   "source": [
    "find those columns which have at least one NaN value\n",
    "\n"
   ]
  },
  {
   "cell_type": "code",
   "execution_count": 18,
   "metadata": {
    "collapsed": false,
    "execution": {
     "iopub.execute_input": "2024-10-18T21:11:57.171400Z",
     "iopub.status.busy": "2024-10-18T21:11:57.170662Z",
     "iopub.status.idle": "2024-10-18T21:11:57.225211Z",
     "shell.execute_reply": "2024-10-18T21:11:57.223979Z"
    }
   },
   "outputs": [
    {
     "data": {
      "text/html": [
       "<div>\n",
       "<style scoped>\n",
       "    .dataframe tbody tr th:only-of-type {\n",
       "        vertical-align: middle;\n",
       "    }\n",
       "\n",
       "    .dataframe tbody tr th {\n",
       "        vertical-align: top;\n",
       "    }\n",
       "\n",
       "    .dataframe thead th {\n",
       "        text-align: right;\n",
       "    }\n",
       "</style>\n",
       "<table border=\"1\" class=\"dataframe\">\n",
       "  <thead>\n",
       "    <tr style=\"text-align: right;\">\n",
       "      <th></th>\n",
       "      <th>slope_fdc</th>\n",
       "      <th>high_prec_timing</th>\n",
       "      <th>low_prec_timing</th>\n",
       "      <th>surfacewater_abs</th>\n",
       "      <th>groundwater_abs</th>\n",
       "      <th>discharges</th>\n",
       "      <th>abs_agriculture_perc</th>\n",
       "      <th>abs_amenities_perc</th>\n",
       "      <th>abs_energy_perc</th>\n",
       "      <th>abs_environmental_perc</th>\n",
       "      <th>...</th>\n",
       "      <th>q25_uncert_upper</th>\n",
       "      <th>q25_uncert_lower</th>\n",
       "      <th>q50_uncert_upper</th>\n",
       "      <th>q50_uncert_lower</th>\n",
       "      <th>q75_uncert_upper</th>\n",
       "      <th>q75_uncert_lower</th>\n",
       "      <th>q95_uncert_upper</th>\n",
       "      <th>q95_uncert_lower</th>\n",
       "      <th>q99_uncert_upper</th>\n",
       "      <th>q99_uncert_lower</th>\n",
       "    </tr>\n",
       "    <tr>\n",
       "      <th>gauge_id</th>\n",
       "      <th></th>\n",
       "      <th></th>\n",
       "      <th></th>\n",
       "      <th></th>\n",
       "      <th></th>\n",
       "      <th></th>\n",
       "      <th></th>\n",
       "      <th></th>\n",
       "      <th></th>\n",
       "      <th></th>\n",
       "      <th></th>\n",
       "      <th></th>\n",
       "      <th></th>\n",
       "      <th></th>\n",
       "      <th></th>\n",
       "      <th></th>\n",
       "      <th></th>\n",
       "      <th></th>\n",
       "      <th></th>\n",
       "      <th></th>\n",
       "      <th></th>\n",
       "    </tr>\n",
       "  </thead>\n",
       "  <tbody>\n",
       "    <tr>\n",
       "      <th>38017</th>\n",
       "      <td>1.50</td>\n",
       "      <td>son</td>\n",
       "      <td>jja</td>\n",
       "      <td>0.000</td>\n",
       "      <td>0.054</td>\n",
       "      <td>0.005</td>\n",
       "      <td>28.43</td>\n",
       "      <td>0.00</td>\n",
       "      <td>0.00</td>\n",
       "      <td>0.00</td>\n",
       "      <td>...</td>\n",
       "      <td>21.59</td>\n",
       "      <td>-22.91</td>\n",
       "      <td>17.81</td>\n",
       "      <td>-17.37</td>\n",
       "      <td>13.07</td>\n",
       "      <td>-11.96</td>\n",
       "      <td>12.88</td>\n",
       "      <td>-12.67</td>\n",
       "      <td>10.38</td>\n",
       "      <td>-10.58</td>\n",
       "    </tr>\n",
       "    <tr>\n",
       "      <th>42001</th>\n",
       "      <td>3.80</td>\n",
       "      <td>son</td>\n",
       "      <td>jja</td>\n",
       "      <td>0.004</td>\n",
       "      <td>0.149</td>\n",
       "      <td>0.003</td>\n",
       "      <td>2.79</td>\n",
       "      <td>0.00</td>\n",
       "      <td>0.00</td>\n",
       "      <td>0.00</td>\n",
       "      <td>...</td>\n",
       "      <td>26.76</td>\n",
       "      <td>-25.97</td>\n",
       "      <td>15.90</td>\n",
       "      <td>-17.53</td>\n",
       "      <td>25.30</td>\n",
       "      <td>-22.87</td>\n",
       "      <td>24.43</td>\n",
       "      <td>-23.47</td>\n",
       "      <td>14.23</td>\n",
       "      <td>-12.56</td>\n",
       "    </tr>\n",
       "    <tr>\n",
       "      <th>55014</th>\n",
       "      <td>2.78</td>\n",
       "      <td>djf</td>\n",
       "      <td>jja</td>\n",
       "      <td>0.001</td>\n",
       "      <td>0.000</td>\n",
       "      <td>0.000</td>\n",
       "      <td>47.16</td>\n",
       "      <td>0.00</td>\n",
       "      <td>0.00</td>\n",
       "      <td>0.00</td>\n",
       "      <td>...</td>\n",
       "      <td>16.99</td>\n",
       "      <td>-16.77</td>\n",
       "      <td>15.09</td>\n",
       "      <td>-15.04</td>\n",
       "      <td>12.25</td>\n",
       "      <td>-12.34</td>\n",
       "      <td>14.04</td>\n",
       "      <td>-14.03</td>\n",
       "      <td>11.15</td>\n",
       "      <td>-11.15</td>\n",
       "    </tr>\n",
       "    <tr>\n",
       "      <th>27041</th>\n",
       "      <td>2.04</td>\n",
       "      <td>son</td>\n",
       "      <td>mam</td>\n",
       "      <td>0.047</td>\n",
       "      <td>0.053</td>\n",
       "      <td>0.014</td>\n",
       "      <td>58.32</td>\n",
       "      <td>0.12</td>\n",
       "      <td>14.58</td>\n",
       "      <td>0.00</td>\n",
       "      <td>...</td>\n",
       "      <td>14.67</td>\n",
       "      <td>-15.21</td>\n",
       "      <td>14.57</td>\n",
       "      <td>-14.52</td>\n",
       "      <td>14.56</td>\n",
       "      <td>-14.43</td>\n",
       "      <td>12.83</td>\n",
       "      <td>-13.23</td>\n",
       "      <td>9.28</td>\n",
       "      <td>-10.18</td>\n",
       "    </tr>\n",
       "    <tr>\n",
       "      <th>39078</th>\n",
       "      <td>2.02</td>\n",
       "      <td>son</td>\n",
       "      <td>jja</td>\n",
       "      <td>0.000</td>\n",
       "      <td>0.090</td>\n",
       "      <td>0.049</td>\n",
       "      <td>0.65</td>\n",
       "      <td>0.00</td>\n",
       "      <td>0.00</td>\n",
       "      <td>0.00</td>\n",
       "      <td>...</td>\n",
       "      <td>25.60</td>\n",
       "      <td>-26.23</td>\n",
       "      <td>16.68</td>\n",
       "      <td>-16.65</td>\n",
       "      <td>19.92</td>\n",
       "      <td>-19.76</td>\n",
       "      <td>16.59</td>\n",
       "      <td>-16.18</td>\n",
       "      <td>9.20</td>\n",
       "      <td>-8.61</td>\n",
       "    </tr>\n",
       "    <tr>\n",
       "      <th>...</th>\n",
       "      <td>...</td>\n",
       "      <td>...</td>\n",
       "      <td>...</td>\n",
       "      <td>...</td>\n",
       "      <td>...</td>\n",
       "      <td>...</td>\n",
       "      <td>...</td>\n",
       "      <td>...</td>\n",
       "      <td>...</td>\n",
       "      <td>...</td>\n",
       "      <td>...</td>\n",
       "      <td>...</td>\n",
       "      <td>...</td>\n",
       "      <td>...</td>\n",
       "      <td>...</td>\n",
       "      <td>...</td>\n",
       "      <td>...</td>\n",
       "      <td>...</td>\n",
       "      <td>...</td>\n",
       "      <td>...</td>\n",
       "      <td>...</td>\n",
       "    </tr>\n",
       "    <tr>\n",
       "      <th>66006</th>\n",
       "      <td>3.62</td>\n",
       "      <td>son</td>\n",
       "      <td>jja</td>\n",
       "      <td>NaN</td>\n",
       "      <td>NaN</td>\n",
       "      <td>NaN</td>\n",
       "      <td>NaN</td>\n",
       "      <td>NaN</td>\n",
       "      <td>NaN</td>\n",
       "      <td>NaN</td>\n",
       "      <td>...</td>\n",
       "      <td>17.83</td>\n",
       "      <td>-17.47</td>\n",
       "      <td>12.86</td>\n",
       "      <td>-12.66</td>\n",
       "      <td>10.78</td>\n",
       "      <td>-10.53</td>\n",
       "      <td>13.71</td>\n",
       "      <td>-13.75</td>\n",
       "      <td>10.86</td>\n",
       "      <td>-10.95</td>\n",
       "    </tr>\n",
       "    <tr>\n",
       "      <th>39014</th>\n",
       "      <td>1.72</td>\n",
       "      <td>son</td>\n",
       "      <td>jja</td>\n",
       "      <td>0.000</td>\n",
       "      <td>0.217</td>\n",
       "      <td>0.019</td>\n",
       "      <td>0.94</td>\n",
       "      <td>0.00</td>\n",
       "      <td>0.00</td>\n",
       "      <td>0.03</td>\n",
       "      <td>...</td>\n",
       "      <td>14.67</td>\n",
       "      <td>-13.54</td>\n",
       "      <td>14.00</td>\n",
       "      <td>-13.29</td>\n",
       "      <td>12.99</td>\n",
       "      <td>-12.63</td>\n",
       "      <td>9.83</td>\n",
       "      <td>-9.67</td>\n",
       "      <td>NaN</td>\n",
       "      <td>NaN</td>\n",
       "    </tr>\n",
       "    <tr>\n",
       "      <th>42010</th>\n",
       "      <td>1.06</td>\n",
       "      <td>son</td>\n",
       "      <td>jja</td>\n",
       "      <td>0.714</td>\n",
       "      <td>0.560</td>\n",
       "      <td>0.046</td>\n",
       "      <td>66.65</td>\n",
       "      <td>0.00</td>\n",
       "      <td>0.46</td>\n",
       "      <td>9.92</td>\n",
       "      <td>...</td>\n",
       "      <td>14.07</td>\n",
       "      <td>-14.02</td>\n",
       "      <td>11.30</td>\n",
       "      <td>-11.45</td>\n",
       "      <td>10.76</td>\n",
       "      <td>-10.73</td>\n",
       "      <td>9.78</td>\n",
       "      <td>-9.59</td>\n",
       "      <td>10.56</td>\n",
       "      <td>-10.19</td>\n",
       "    </tr>\n",
       "    <tr>\n",
       "      <th>42011</th>\n",
       "      <td>2.06</td>\n",
       "      <td>son</td>\n",
       "      <td>jja</td>\n",
       "      <td>0.000</td>\n",
       "      <td>0.068</td>\n",
       "      <td>0.070</td>\n",
       "      <td>0.69</td>\n",
       "      <td>0.00</td>\n",
       "      <td>0.00</td>\n",
       "      <td>0.00</td>\n",
       "      <td>...</td>\n",
       "      <td>11.80</td>\n",
       "      <td>-11.47</td>\n",
       "      <td>12.42</td>\n",
       "      <td>-12.60</td>\n",
       "      <td>8.67</td>\n",
       "      <td>-8.51</td>\n",
       "      <td>10.04</td>\n",
       "      <td>-9.41</td>\n",
       "      <td>10.72</td>\n",
       "      <td>-10.64</td>\n",
       "    </tr>\n",
       "    <tr>\n",
       "      <th>43009</th>\n",
       "      <td>3.63</td>\n",
       "      <td>son</td>\n",
       "      <td>jja</td>\n",
       "      <td>0.050</td>\n",
       "      <td>0.008</td>\n",
       "      <td>0.026</td>\n",
       "      <td>54.02</td>\n",
       "      <td>1.73</td>\n",
       "      <td>36.56</td>\n",
       "      <td>0.00</td>\n",
       "      <td>...</td>\n",
       "      <td>NaN</td>\n",
       "      <td>NaN</td>\n",
       "      <td>NaN</td>\n",
       "      <td>NaN</td>\n",
       "      <td>NaN</td>\n",
       "      <td>NaN</td>\n",
       "      <td>NaN</td>\n",
       "      <td>NaN</td>\n",
       "      <td>NaN</td>\n",
       "      <td>NaN</td>\n",
       "    </tr>\n",
       "  </tbody>\n",
       "</table>\n",
       "<p>671 rows × 38 columns</p>\n",
       "</div>"
      ],
      "text/plain": [
       "          slope_fdc high_prec_timing low_prec_timing  surfacewater_abs  \\\n",
       "gauge_id                                                                 \n",
       "38017          1.50              son             jja             0.000   \n",
       "42001          3.80              son             jja             0.004   \n",
       "55014          2.78              djf             jja             0.001   \n",
       "27041          2.04              son             mam             0.047   \n",
       "39078          2.02              son             jja             0.000   \n",
       "...             ...              ...             ...               ...   \n",
       "66006          3.62              son             jja               NaN   \n",
       "39014          1.72              son             jja             0.000   \n",
       "42010          1.06              son             jja             0.714   \n",
       "42011          2.06              son             jja             0.000   \n",
       "43009          3.63              son             jja             0.050   \n",
       "\n",
       "          groundwater_abs  discharges  abs_agriculture_perc  \\\n",
       "gauge_id                                                      \n",
       "38017               0.054       0.005                 28.43   \n",
       "42001               0.149       0.003                  2.79   \n",
       "55014               0.000       0.000                 47.16   \n",
       "27041               0.053       0.014                 58.32   \n",
       "39078               0.090       0.049                  0.65   \n",
       "...                   ...         ...                   ...   \n",
       "66006                 NaN         NaN                   NaN   \n",
       "39014               0.217       0.019                  0.94   \n",
       "42010               0.560       0.046                 66.65   \n",
       "42011               0.068       0.070                  0.69   \n",
       "43009               0.008       0.026                 54.02   \n",
       "\n",
       "          abs_amenities_perc  abs_energy_perc  abs_environmental_perc  ...  \\\n",
       "gauge_id                                                               ...   \n",
       "38017                   0.00             0.00                    0.00  ...   \n",
       "42001                   0.00             0.00                    0.00  ...   \n",
       "55014                   0.00             0.00                    0.00  ...   \n",
       "27041                   0.12            14.58                    0.00  ...   \n",
       "39078                   0.00             0.00                    0.00  ...   \n",
       "...                      ...              ...                     ...  ...   \n",
       "66006                    NaN              NaN                     NaN  ...   \n",
       "39014                   0.00             0.00                    0.03  ...   \n",
       "42010                   0.00             0.46                    9.92  ...   \n",
       "42011                   0.00             0.00                    0.00  ...   \n",
       "43009                   1.73            36.56                    0.00  ...   \n",
       "\n",
       "          q25_uncert_upper  q25_uncert_lower  q50_uncert_upper  \\\n",
       "gauge_id                                                         \n",
       "38017                21.59            -22.91             17.81   \n",
       "42001                26.76            -25.97             15.90   \n",
       "55014                16.99            -16.77             15.09   \n",
       "27041                14.67            -15.21             14.57   \n",
       "39078                25.60            -26.23             16.68   \n",
       "...                    ...               ...               ...   \n",
       "66006                17.83            -17.47             12.86   \n",
       "39014                14.67            -13.54             14.00   \n",
       "42010                14.07            -14.02             11.30   \n",
       "42011                11.80            -11.47             12.42   \n",
       "43009                  NaN               NaN               NaN   \n",
       "\n",
       "          q50_uncert_lower  q75_uncert_upper  q75_uncert_lower  \\\n",
       "gauge_id                                                         \n",
       "38017               -17.37             13.07            -11.96   \n",
       "42001               -17.53             25.30            -22.87   \n",
       "55014               -15.04             12.25            -12.34   \n",
       "27041               -14.52             14.56            -14.43   \n",
       "39078               -16.65             19.92            -19.76   \n",
       "...                    ...               ...               ...   \n",
       "66006               -12.66             10.78            -10.53   \n",
       "39014               -13.29             12.99            -12.63   \n",
       "42010               -11.45             10.76            -10.73   \n",
       "42011               -12.60              8.67             -8.51   \n",
       "43009                  NaN               NaN               NaN   \n",
       "\n",
       "          q95_uncert_upper  q95_uncert_lower  q99_uncert_upper  \\\n",
       "gauge_id                                                         \n",
       "38017                12.88            -12.67             10.38   \n",
       "42001                24.43            -23.47             14.23   \n",
       "55014                14.04            -14.03             11.15   \n",
       "27041                12.83            -13.23              9.28   \n",
       "39078                16.59            -16.18              9.20   \n",
       "...                    ...               ...               ...   \n",
       "66006                13.71            -13.75             10.86   \n",
       "39014                 9.83             -9.67               NaN   \n",
       "42010                 9.78             -9.59             10.56   \n",
       "42011                10.04             -9.41             10.72   \n",
       "43009                  NaN               NaN               NaN   \n",
       "\n",
       "          q99_uncert_lower  \n",
       "gauge_id                    \n",
       "38017               -10.58  \n",
       "42001               -12.56  \n",
       "55014               -11.15  \n",
       "27041               -10.18  \n",
       "39078                -8.61  \n",
       "...                    ...  \n",
       "66006               -10.95  \n",
       "39014                  NaN  \n",
       "42010               -10.19  \n",
       "42011               -10.64  \n",
       "43009                  NaN  \n",
       "\n",
       "[671 rows x 38 columns]"
      ]
     },
     "execution_count": 18,
     "metadata": {},
     "output_type": "execute_result"
    }
   ],
   "source": [
    "df.loc[:, (df.isna().sum()>0)]"
   ]
  },
  {
   "cell_type": "code",
   "execution_count": 19,
   "metadata": {
    "collapsed": false,
    "execution": {
     "iopub.execute_input": "2024-10-18T21:11:57.234149Z",
     "iopub.status.busy": "2024-10-18T21:11:57.233385Z",
     "iopub.status.idle": "2024-10-18T21:11:57.256004Z",
     "shell.execute_reply": "2024-10-18T21:11:57.254869Z"
    }
   },
   "outputs": [
    {
     "data": {
      "text/plain": [
       "slope_fdc                   3\n",
       "high_prec_timing           15\n",
       "low_prec_timing             3\n",
       "surfacewater_abs          229\n",
       "groundwater_abs           229\n",
       "discharges                231\n",
       "abs_agriculture_perc      313\n",
       "abs_amenities_perc        313\n",
       "abs_energy_perc           313\n",
       "abs_environmental_perc    313\n",
       "abs_industry_perc         313\n",
       "abs_watersupply_perc      313\n",
       "reservoir_he              509\n",
       "reservoir_nav             509\n",
       "reservoir_drain           509\n",
       "reservoir_wr              509\n",
       "reservoir_fs              509\n",
       "reservoir_env             509\n",
       "reservoir_nousedata       509\n",
       "reservoir_year_first      530\n",
       "reservoir_year_last       530\n",
       "dpsbar                      2\n",
       "elev_mean                   2\n",
       "station_type                1\n",
       "bankfull_flow             310\n",
       "structurefull_flow        408\n",
       "q5_uncert_upper           235\n",
       "q5_uncert_lower           235\n",
       "q25_uncert_upper          173\n",
       "q25_uncert_lower          173\n",
       "q50_uncert_upper          168\n",
       "q50_uncert_lower          168\n",
       "q75_uncert_upper          170\n",
       "q75_uncert_lower          170\n",
       "q95_uncert_upper          195\n",
       "q95_uncert_lower          195\n",
       "q99_uncert_upper          250\n",
       "q99_uncert_lower          250\n",
       "dtype: int64"
      ]
     },
     "execution_count": 19,
     "metadata": {},
     "output_type": "execute_result"
    }
   ],
   "source": [
    "df.loc[:, (df.isna().sum()>0)].isna().sum()"
   ]
  },
  {
   "cell_type": "code",
   "execution_count": 20,
   "metadata": {
    "collapsed": false,
    "execution": {
     "iopub.execute_input": "2024-10-18T21:11:57.265129Z",
     "iopub.status.busy": "2024-10-18T21:11:57.264044Z",
     "iopub.status.idle": "2024-10-18T21:11:57.273046Z",
     "shell.execute_reply": "2024-10-18T21:11:57.271538Z"
    }
   },
   "outputs": [
    {
     "name": "stdout",
     "output_type": "stream",
     "text": [
      "10\n",
      "precipitation, pet, temperature, discharge_spec, discharge_vol, peti, humidity, shortwave_rad,\n",
      "longwave_rad, windspeed\n"
     ]
    }
   ],
   "source": [
    "print(dataset.num_dynamic())\n",
    "print(textwrap.fill(\", \".join(dataset.dynamic_features), width=100))"
   ]
  },
  {
   "cell_type": "markdown",
   "metadata": {},
   "source": [
    "## CAMELS_BR\n",
    "\n"
   ]
  },
  {
   "cell_type": "code",
   "execution_count": 21,
   "metadata": {
    "collapsed": false,
    "execution": {
     "iopub.execute_input": "2024-10-18T21:11:57.280309Z",
     "iopub.status.busy": "2024-10-18T21:11:57.279026Z",
     "iopub.status.idle": "2024-10-18T21:11:57.321367Z",
     "shell.execute_reply": "2024-10-18T21:11:57.320144Z"
    }
   },
   "outputs": [
    {
     "name": "stdout",
     "output_type": "stream",
     "text": [
      "RainfallRunoff(CAMELS_BR) with 897 stations, 10 dynamic and 67 static features\n"
     ]
    }
   ],
   "source": [
    "dataset = RainfallRunoff('CAMELS_BR', path=os.path.join(gscad_path, 'CAMELS'), verbosity=0)\n",
    "print(dataset)"
   ]
  },
  {
   "cell_type": "code",
   "execution_count": 22,
   "metadata": {
    "collapsed": false,
    "execution": {
     "iopub.execute_input": "2024-10-18T21:11:57.329625Z",
     "iopub.status.busy": "2024-10-18T21:11:57.328300Z",
     "iopub.status.idle": "2024-10-18T21:11:57.354565Z",
     "shell.execute_reply": "2024-10-18T21:11:57.353261Z"
    }
   },
   "outputs": [
    {
     "name": "stdout",
     "output_type": "stream",
     "text": [
      "p_mean, pet_mean, et_mean, aridity, p_seasonality, asynchronicity, frac_snow, high_prec_freq,\n",
      "high_prec_dur, high_prec_timing, low_prec_freq, low_prec_dur, low_prec_timing, geol_class_1st,\n",
      "geol_class_1st_perc, geol_class_2nd, geol_class_2nd_perc, carb_rocks_perc, geol_porosity,\n",
      "geol_permeability, consumptive_use, consumptive_use_perc, reservoirs_vol, regulation_degree, q_mean,\n",
      "runoff_ratio, stream_elas, slope_fdc, baseflow_index, hfd_mean, Q5, Q95, high_q_freq, high_q_dur,\n",
      "low_q_freq, low_q_dur, zero_q_freq, crop_perc, crop_mosaic_perc, forest_perc, shrub_perc,\n",
      "grass_perc, barren_perc, imperv_perc, wet_perc, snow_perc, dom_land_cover, dom_land_cover_perc,\n",
      "gauge_name, gauge_region, gauge_lat, gauge_lon, area_ana, area_gsim, area_gsim_quality,\n",
      "q_quality_control_perc, q_stream_stage_perc, sand_perc, silt_perc, clay_perc, org_carbon_content,\n",
      "bedrock_depth, water_table_depth, elev_gauge, elev_mean, slope_mean, area\n"
     ]
    }
   ],
   "source": [
    "print(textwrap.fill(\", \".join(dataset.static_features), width=100))"
   ]
  },
  {
   "cell_type": "code",
   "execution_count": 23,
   "metadata": {
    "collapsed": false,
    "execution": {
     "iopub.execute_input": "2024-10-18T21:11:57.361580Z",
     "iopub.status.busy": "2024-10-18T21:11:57.360989Z",
     "iopub.status.idle": "2024-10-18T21:11:57.467335Z",
     "shell.execute_reply": "2024-10-18T21:11:57.466263Z"
    }
   },
   "outputs": [
    {
     "name": "stdout",
     "output_type": "stream",
     "text": [
      "(897, 67)\n"
     ]
    }
   ],
   "source": [
    "df = dataset.fetch_static_features()\n",
    "print(df.shape)"
   ]
  },
  {
   "cell_type": "code",
   "execution_count": 24,
   "metadata": {
    "collapsed": false,
    "execution": {
     "iopub.execute_input": "2024-10-18T21:11:57.475769Z",
     "iopub.status.busy": "2024-10-18T21:11:57.474863Z",
     "iopub.status.idle": "2024-10-18T21:11:57.500008Z",
     "shell.execute_reply": "2024-10-18T21:11:57.498578Z"
    }
   },
   "outputs": [
    {
     "name": "stdout",
     "output_type": "stream",
     "text": [
      "133\n"
     ]
    },
    {
     "data": {
      "text/plain": [
       "p_mean               0\n",
       "pet_mean             0\n",
       "et_mean              0\n",
       "aridity              0\n",
       "p_seasonality        0\n",
       "                    ..\n",
       "water_table_depth    0\n",
       "elev_gauge           0\n",
       "elev_mean            0\n",
       "slope_mean           0\n",
       "area                 0\n",
       "Length: 67, dtype: int64"
      ]
     },
     "execution_count": 24,
     "metadata": {},
     "output_type": "execute_result"
    }
   ],
   "source": [
    "print(df.isna().sum().sum())\n",
    "df.isna().sum()"
   ]
  },
  {
   "cell_type": "markdown",
   "metadata": {},
   "source": [
    "find those columns which have at least one NaN value\n",
    "\n"
   ]
  },
  {
   "cell_type": "code",
   "execution_count": 25,
   "metadata": {
    "collapsed": false,
    "execution": {
     "iopub.execute_input": "2024-10-18T21:11:57.514584Z",
     "iopub.status.busy": "2024-10-18T21:11:57.513771Z",
     "iopub.status.idle": "2024-10-18T21:11:57.545641Z",
     "shell.execute_reply": "2024-10-18T21:11:57.544581Z"
    }
   },
   "outputs": [
    {
     "data": {
      "text/html": [
       "<div>\n",
       "<style scoped>\n",
       "    .dataframe tbody tr th:only-of-type {\n",
       "        vertical-align: middle;\n",
       "    }\n",
       "\n",
       "    .dataframe tbody tr th {\n",
       "        vertical-align: top;\n",
       "    }\n",
       "\n",
       "    .dataframe thead th {\n",
       "        text-align: right;\n",
       "    }\n",
       "</style>\n",
       "<table border=\"1\" class=\"dataframe\">\n",
       "  <thead>\n",
       "    <tr style=\"text-align: right;\">\n",
       "      <th></th>\n",
       "      <th>frac_snow</th>\n",
       "      <th>high_prec_timing</th>\n",
       "      <th>geol_class_2nd</th>\n",
       "      <th>slope_fdc</th>\n",
       "      <th>baseflow_index</th>\n",
       "      <th>area_ana</th>\n",
       "    </tr>\n",
       "    <tr>\n",
       "      <th>gauge_id</th>\n",
       "      <th></th>\n",
       "      <th></th>\n",
       "      <th></th>\n",
       "      <th></th>\n",
       "      <th></th>\n",
       "      <th></th>\n",
       "    </tr>\n",
       "  </thead>\n",
       "  <tbody>\n",
       "    <tr>\n",
       "      <th>58030000</th>\n",
       "      <td>0.0</td>\n",
       "      <td>djf</td>\n",
       "      <td>acid_plutonic_rocks</td>\n",
       "      <td>1.08954</td>\n",
       "      <td>0.79986</td>\n",
       "      <td>796.0</td>\n",
       "    </tr>\n",
       "    <tr>\n",
       "      <th>57170000</th>\n",
       "      <td>0.0</td>\n",
       "      <td>djf</td>\n",
       "      <td>acid_plutonic_rocks</td>\n",
       "      <td>1.35609</td>\n",
       "      <td>0.76520</td>\n",
       "      <td>980.0</td>\n",
       "    </tr>\n",
       "    <tr>\n",
       "      <th>39580000</th>\n",
       "      <td>0.0</td>\n",
       "      <td>mam</td>\n",
       "      <td>siliciclastic_sedimentary_rocks</td>\n",
       "      <td>1.68712</td>\n",
       "      <td>0.66356</td>\n",
       "      <td>756.0</td>\n",
       "    </tr>\n",
       "    <tr>\n",
       "      <th>41818000</th>\n",
       "      <td>0.0</td>\n",
       "      <td>djf</td>\n",
       "      <td>metamorphics</td>\n",
       "      <td>1.98782</td>\n",
       "      <td>0.64151</td>\n",
       "      <td>16600.0</td>\n",
       "    </tr>\n",
       "    <tr>\n",
       "      <th>58870000</th>\n",
       "      <td>0.0</td>\n",
       "      <td>djf</td>\n",
       "      <td>metamorphics</td>\n",
       "      <td>1.39838</td>\n",
       "      <td>0.71359</td>\n",
       "      <td>1120.0</td>\n",
       "    </tr>\n",
       "    <tr>\n",
       "      <th>...</th>\n",
       "      <td>...</td>\n",
       "      <td>...</td>\n",
       "      <td>...</td>\n",
       "      <td>...</td>\n",
       "      <td>...</td>\n",
       "      <td>...</td>\n",
       "    </tr>\n",
       "    <tr>\n",
       "      <th>26720000</th>\n",
       "      <td>0.0</td>\n",
       "      <td>djf</td>\n",
       "      <td>siliciclastic_sedimentary_rocks</td>\n",
       "      <td>6.72326</td>\n",
       "      <td>0.57567</td>\n",
       "      <td>6610.0</td>\n",
       "    </tr>\n",
       "    <tr>\n",
       "      <th>65925000</th>\n",
       "      <td>0.0</td>\n",
       "      <td>son</td>\n",
       "      <td>NaN</td>\n",
       "      <td>2.24256</td>\n",
       "      <td>0.54385</td>\n",
       "      <td>1660.0</td>\n",
       "    </tr>\n",
       "    <tr>\n",
       "      <th>39560000</th>\n",
       "      <td>0.0</td>\n",
       "      <td>mam</td>\n",
       "      <td>metamorphics</td>\n",
       "      <td>2.14107</td>\n",
       "      <td>0.65966</td>\n",
       "      <td>4910.0</td>\n",
       "    </tr>\n",
       "    <tr>\n",
       "      <th>71550000</th>\n",
       "      <td>0.0</td>\n",
       "      <td>son</td>\n",
       "      <td>siliciclastic_sedimentary_rocks</td>\n",
       "      <td>2.51894</td>\n",
       "      <td>0.58372</td>\n",
       "      <td>NaN</td>\n",
       "    </tr>\n",
       "    <tr>\n",
       "      <th>41539998</th>\n",
       "      <td>0.0</td>\n",
       "      <td>djf</td>\n",
       "      <td>metamorphics</td>\n",
       "      <td>1.74270</td>\n",
       "      <td>0.69456</td>\n",
       "      <td>NaN</td>\n",
       "    </tr>\n",
       "  </tbody>\n",
       "</table>\n",
       "<p>897 rows × 6 columns</p>\n",
       "</div>"
      ],
      "text/plain": [
       "          frac_snow high_prec_timing                   geol_class_2nd  \\\n",
       "gauge_id                                                                \n",
       "58030000        0.0              djf              acid_plutonic_rocks   \n",
       "57170000        0.0              djf              acid_plutonic_rocks   \n",
       "39580000        0.0              mam  siliciclastic_sedimentary_rocks   \n",
       "41818000        0.0              djf                     metamorphics   \n",
       "58870000        0.0              djf                     metamorphics   \n",
       "...             ...              ...                              ...   \n",
       "26720000        0.0              djf  siliciclastic_sedimentary_rocks   \n",
       "65925000        0.0              son                              NaN   \n",
       "39560000        0.0              mam                     metamorphics   \n",
       "71550000        0.0              son  siliciclastic_sedimentary_rocks   \n",
       "41539998        0.0              djf                     metamorphics   \n",
       "\n",
       "          slope_fdc  baseflow_index  area_ana  \n",
       "gauge_id                                       \n",
       "58030000    1.08954         0.79986     796.0  \n",
       "57170000    1.35609         0.76520     980.0  \n",
       "39580000    1.68712         0.66356     756.0  \n",
       "41818000    1.98782         0.64151   16600.0  \n",
       "58870000    1.39838         0.71359    1120.0  \n",
       "...             ...             ...       ...  \n",
       "26720000    6.72326         0.57567    6610.0  \n",
       "65925000    2.24256         0.54385    1660.0  \n",
       "39560000    2.14107         0.65966    4910.0  \n",
       "71550000    2.51894         0.58372       NaN  \n",
       "41539998    1.74270         0.69456       NaN  \n",
       "\n",
       "[897 rows x 6 columns]"
      ]
     },
     "execution_count": 25,
     "metadata": {},
     "output_type": "execute_result"
    }
   ],
   "source": [
    "df.loc[:, (df.isna().sum()>0)]"
   ]
  },
  {
   "cell_type": "code",
   "execution_count": 26,
   "metadata": {
    "collapsed": false,
    "execution": {
     "iopub.execute_input": "2024-10-18T21:11:57.555728Z",
     "iopub.status.busy": "2024-10-18T21:11:57.554583Z",
     "iopub.status.idle": "2024-10-18T21:11:57.575797Z",
     "shell.execute_reply": "2024-10-18T21:11:57.574579Z"
    }
   },
   "outputs": [
    {
     "data": {
      "text/plain": [
       "frac_snow            5\n",
       "high_prec_timing     4\n",
       "geol_class_2nd      47\n",
       "slope_fdc           16\n",
       "baseflow_index      18\n",
       "area_ana            43\n",
       "dtype: int64"
      ]
     },
     "execution_count": 26,
     "metadata": {},
     "output_type": "execute_result"
    }
   ],
   "source": [
    "df.loc[:, (df.isna().sum()>0)].isna().sum()"
   ]
  },
  {
   "cell_type": "code",
   "execution_count": 27,
   "metadata": {
    "collapsed": false,
    "execution": {
     "iopub.execute_input": "2024-10-18T21:11:57.584371Z",
     "iopub.status.busy": "2024-10-18T21:11:57.583574Z",
     "iopub.status.idle": "2024-10-18T21:11:57.594009Z",
     "shell.execute_reply": "2024-10-18T21:11:57.592220Z"
    }
   },
   "outputs": [
    {
     "name": "stdout",
     "output_type": "stream",
     "text": [
      "10\n",
      "streamflow_mm, precipitation_cpc, precipitation_mswep, precipitation_chirps, evapotransp_gleam,\n",
      "evapotransp_mgb, potential_evapotransp_gleam, temperature_min, temperature_mean, temperature_max\n"
     ]
    }
   ],
   "source": [
    "print(dataset.num_dynamic())\n",
    "print(textwrap.fill(\", \".join(dataset.dynamic_features), width=100))"
   ]
  },
  {
   "cell_type": "markdown",
   "metadata": {},
   "source": [
    "## CAMELS_US\n",
    "\n"
   ]
  },
  {
   "cell_type": "code",
   "execution_count": 28,
   "metadata": {
    "collapsed": false,
    "execution": {
     "iopub.execute_input": "2024-10-18T21:11:57.600351Z",
     "iopub.status.busy": "2024-10-18T21:11:57.599610Z",
     "iopub.status.idle": "2024-10-18T21:11:57.643372Z",
     "shell.execute_reply": "2024-10-18T21:11:57.642225Z"
    }
   },
   "outputs": [
    {
     "name": "stdout",
     "output_type": "stream",
     "text": [
      "dataset is already downloaded at /mnt/datawaha/hyex/atr/gscad_database/raw/CAMELS/CAMELS_US\n",
      "RainfallRunoff(CAMELS_US) with 671 stations, 8 dynamic and 59 static features\n"
     ]
    }
   ],
   "source": [
    "dataset = RainfallRunoff('CAMELS_US', path=os.path.join(gscad_path, 'CAMELS'), verbosity=0)\n",
    "print(dataset)"
   ]
  },
  {
   "cell_type": "code",
   "execution_count": 29,
   "metadata": {
    "collapsed": false,
    "execution": {
     "iopub.execute_input": "2024-10-18T21:11:57.652255Z",
     "iopub.status.busy": "2024-10-18T21:11:57.651131Z",
     "iopub.status.idle": "2024-10-18T21:11:57.679805Z",
     "shell.execute_reply": "2024-10-18T21:11:57.678480Z"
    }
   },
   "outputs": [
    {
     "name": "stdout",
     "output_type": "stream",
     "text": [
      "['p_mean', 'pet_mean', 'p_seasonality', 'frac_snow', 'aridity', 'high_prec_freq', 'high_prec_dur', 'high_prec_timing', 'low_prec_freq', 'low_prec_dur', 'low_prec_timing', 'geol_1st_class', 'glim_1st_class_frac', 'geol_2nd_class', 'glim_2nd_class_frac', 'carbonate_rocks_frac', 'geol_porostiy', 'geol_permeability', 'q_mean', 'runoff_ratio', 'slope_fdc', 'baseflow_index', 'stream_elas', 'q5', 'q95', 'high_q_freq', 'high_q_dur', 'low_q_freq', 'low_q_dur', 'zero_q_freq', 'hfd_mean', 'huc_02', 'gauge_name', 'soil_depth_pelletier', 'soil_depth_statsgo', 'soil_porosity', 'soil_conductivity', 'max_water_content', 'sand_frac', 'silt_frac', 'clay_frac', 'water_frac', 'organic_frac', 'other_frac', 'gauge_lat', 'gauge_lon', 'elev_mean', 'slope_mean', 'area_gages2', 'area_geospa_fabric', 'frac_forest', 'lai_max', 'lai_diff', 'gvf_max', 'gvf_diff', 'dom_land_cover_frac', 'dom_land_cover', 'root_depth_50', 'root_depth_99']\n"
     ]
    }
   ],
   "source": [
    "print(dataset.static_features)"
   ]
  },
  {
   "cell_type": "code",
   "execution_count": 30,
   "metadata": {
    "collapsed": false,
    "execution": {
     "iopub.execute_input": "2024-10-18T21:11:57.688082Z",
     "iopub.status.busy": "2024-10-18T21:11:57.686882Z",
     "iopub.status.idle": "2024-10-18T21:11:57.697054Z",
     "shell.execute_reply": "2024-10-18T21:11:57.695556Z"
    }
   },
   "outputs": [
    {
     "name": "stdout",
     "output_type": "stream",
     "text": [
      "8\n",
      "dayl(s), prcp(mm/day), srad(W/m2), swe(mm), tmax(C), tmin(C), vp(Pa), Flow\n"
     ]
    }
   ],
   "source": [
    "print(dataset.num_dynamic())\n",
    "print(textwrap.fill(\", \".join(dataset.dynamic_features), width=100))"
   ]
  },
  {
   "cell_type": "markdown",
   "metadata": {},
   "source": [
    "## CAMELS_CL\n",
    "\n"
   ]
  },
  {
   "cell_type": "code",
   "execution_count": 31,
   "metadata": {
    "collapsed": false,
    "execution": {
     "iopub.execute_input": "2024-10-18T21:11:57.703724Z",
     "iopub.status.busy": "2024-10-18T21:11:57.702760Z",
     "iopub.status.idle": "2024-10-18T21:11:57.798589Z",
     "shell.execute_reply": "2024-10-18T21:11:57.797296Z"
    }
   },
   "outputs": [
    {
     "name": "stdout",
     "output_type": "stream",
     "text": [
      "RainfallRunoff(CAMELS_CL) with 516 stations, 12 dynamic and 104 static features\n"
     ]
    }
   ],
   "source": [
    "dataset = RainfallRunoff('CAMELS_CL', path=os.path.join(gscad_path, 'CAMELS'), verbosity=0)\n",
    "print(dataset)"
   ]
  },
  {
   "cell_type": "code",
   "execution_count": 32,
   "metadata": {
    "collapsed": false,
    "execution": {
     "iopub.execute_input": "2024-10-18T21:11:57.805948Z",
     "iopub.status.busy": "2024-10-18T21:11:57.805123Z",
     "iopub.status.idle": "2024-10-18T21:11:57.879661Z",
     "shell.execute_reply": "2024-10-18T21:11:57.878262Z"
    }
   },
   "outputs": [
    {
     "name": "stdout",
     "output_type": "stream",
     "text": [
      "gauge_name, gauge_lat, gauge_lon, record_period_start, record_period_end, n_obs, area, elev_gauge,\n",
      "elev_mean, elev_med, elev_max, elev_min, slope_mean, nested_inner, nested_outer, location_type,\n",
      "geol_class_1st, geol_class_1st_frac, geol_class_2nd, geol_class_2nd_frac, carb_rocks_frac,\n",
      "crop_frac, nf_frac, fp_frac, grass_frac, shrub_frac, wet_frac, imp_frac, lc_barren, snow_frac,\n",
      "lc_glacier, fp_nf_index, forest_frac, dom_land_cover, dom_land_cover_frac, land_cover_missing,\n",
      "p_mean_cr2met, p_mean_chirps, p_mean_mswep, p_mean_tmpa, pet_mean, aridity_cr2met, aridity_chirps,\n",
      "aridity_mswep, aridity_tmpa, p_seasonality_cr2met, p_seasonality_chirps, p_seasonality_mswep,\n",
      "p_seasonality_tmpa, frac_snow_cr2met, frac_snow_chirps, frac_snow_mswep, frac_snow_tmpa,\n",
      "high_prec_freq_cr2met, high_prec_freq_chirps, high_prec_freq_mswep, high_prec_freq_tmpa,\n",
      "high_prec_dur_cr2met, high_prec_dur_chirps, high_prec_dur_mswep, high_prec_dur_tmpa,\n",
      "high_prec_timing_cr2met, high_prec_timing_chirps, high_prec_timing_mswep, high_prec_timing_tmpa,\n",
      "low_prec_freq_cr2met, low_prec_freq_chirps, low_prec_freq_mswep, low_prec_freq_tmpa,\n",
      "low_prec_dur_cr2met, low_prec_dur_chirps, low_prec_dur_mswep, low_prec_dur_tmpa,\n",
      "low_prec_timing_cr2met, low_prec_timing_chirps, low_prec_timing_mswep, low_prec_timing_tmpa,\n",
      "p_mean_spread, q_mean, runoff_ratio_cr2met, runoff_ratio_chirps, runoff_ratio_mswep,\n",
      "runoff_ratio_tmpa, stream_elas_cr2met, stream_elas_chirps, stream_elas_mswep, stream_elas_tmpa,\n",
      "slope_fdc, baseflow_index, hfd_mean, Q95, Q5, high_q_freq, high_q_dur, low_q_freq, low_q_dur,\n",
      "zero_q_freq, swe_ratio, sur_rights_n, sur_rights_flow, interv_degree, gw_rights_n, gw_rights_flow,\n",
      "big_dam\n"
     ]
    }
   ],
   "source": [
    "print(textwrap.fill(\", \".join(dataset.static_features), width=100))"
   ]
  },
  {
   "cell_type": "code",
   "execution_count": 33,
   "metadata": {
    "collapsed": false,
    "execution": {
     "iopub.execute_input": "2024-10-18T21:11:57.888194Z",
     "iopub.status.busy": "2024-10-18T21:11:57.887192Z",
     "iopub.status.idle": "2024-10-18T21:11:58.710453Z",
     "shell.execute_reply": "2024-10-18T21:11:58.708620Z"
    }
   },
   "outputs": [
    {
     "name": "stdout",
     "output_type": "stream",
     "text": [
      "(516, 104)\n"
     ]
    }
   ],
   "source": [
    "df = dataset.fetch_static_features()\n",
    "print(df.shape)"
   ]
  },
  {
   "cell_type": "code",
   "execution_count": 34,
   "metadata": {
    "collapsed": false,
    "execution": {
     "iopub.execute_input": "2024-10-18T21:11:58.719819Z",
     "iopub.status.busy": "2024-10-18T21:11:58.718671Z",
     "iopub.status.idle": "2024-10-18T21:11:58.782468Z",
     "shell.execute_reply": "2024-10-18T21:11:58.781105Z"
    }
   },
   "outputs": [
    {
     "name": "stdout",
     "output_type": "stream",
     "text": [
      "12185\n"
     ]
    },
    {
     "data": {
      "text/plain": [
       "gauge_id\n",
       "gauge_name             0\n",
       "gauge_lat              0\n",
       "gauge_lon              0\n",
       "record_period_start    0\n",
       "record_period_end      0\n",
       "                      ..\n",
       "sur_rights_flow        0\n",
       "interv_degree          0\n",
       "gw_rights_n            0\n",
       "gw_rights_flow         0\n",
       "big_dam                0\n",
       "Length: 104, dtype: int64"
      ]
     },
     "execution_count": 34,
     "metadata": {},
     "output_type": "execute_result"
    }
   ],
   "source": [
    "print(df.isna().sum().sum())\n",
    "df.isna().sum()"
   ]
  },
  {
   "cell_type": "markdown",
   "metadata": {},
   "source": [
    "find those rows which have at least one NaN value\n",
    "\n"
   ]
  },
  {
   "cell_type": "code",
   "execution_count": 35,
   "metadata": {
    "collapsed": false,
    "execution": {
     "iopub.execute_input": "2024-10-18T21:11:58.792694Z",
     "iopub.status.busy": "2024-10-18T21:11:58.791648Z",
     "iopub.status.idle": "2024-10-18T21:11:58.853861Z",
     "shell.execute_reply": "2024-10-18T21:11:58.852580Z"
    }
   },
   "outputs": [
    {
     "data": {
      "text/html": [
       "<div>\n",
       "<style scoped>\n",
       "    .dataframe tbody tr th:only-of-type {\n",
       "        vertical-align: middle;\n",
       "    }\n",
       "\n",
       "    .dataframe tbody tr th {\n",
       "        vertical-align: top;\n",
       "    }\n",
       "\n",
       "    .dataframe thead th {\n",
       "        text-align: right;\n",
       "    }\n",
       "</style>\n",
       "<table border=\"1\" class=\"dataframe\">\n",
       "  <thead>\n",
       "    <tr style=\"text-align: right;\">\n",
       "      <th>gauge_id</th>\n",
       "      <th>location_type</th>\n",
       "      <th>geol_class_2nd</th>\n",
       "      <th>p_mean_chirps</th>\n",
       "      <th>p_mean_tmpa</th>\n",
       "      <th>aridity_chirps</th>\n",
       "      <th>aridity_tmpa</th>\n",
       "      <th>p_seasonality_chirps</th>\n",
       "      <th>p_seasonality_tmpa</th>\n",
       "      <th>frac_snow_chirps</th>\n",
       "      <th>frac_snow_tmpa</th>\n",
       "      <th>...</th>\n",
       "      <th>baseflow_index</th>\n",
       "      <th>hfd_mean</th>\n",
       "      <th>Q95</th>\n",
       "      <th>Q5</th>\n",
       "      <th>high_q_freq</th>\n",
       "      <th>high_q_dur</th>\n",
       "      <th>low_q_freq</th>\n",
       "      <th>low_q_dur</th>\n",
       "      <th>zero_q_freq</th>\n",
       "      <th>swe_ratio</th>\n",
       "    </tr>\n",
       "  </thead>\n",
       "  <tbody>\n",
       "    <tr>\n",
       "      <th>8220009</th>\n",
       "      <td>NaN</td>\n",
       "      <td>Intermediate plutonic rocks</td>\n",
       "      <td>3.69311266</td>\n",
       "      <td>NaN</td>\n",
       "      <td>0.8586003</td>\n",
       "      <td>NaN</td>\n",
       "      <td>-1.074889369</td>\n",
       "      <td>NaN</td>\n",
       "      <td>0.0000000000000</td>\n",
       "      <td>NaN</td>\n",
       "      <td>...</td>\n",
       "      <td>NaN</td>\n",
       "      <td>NaN</td>\n",
       "      <td>NaN</td>\n",
       "      <td>NaN</td>\n",
       "      <td>NaN</td>\n",
       "      <td>NaN</td>\n",
       "      <td>NaN</td>\n",
       "      <td>NaN</td>\n",
       "      <td>NaN</td>\n",
       "      <td>NaN</td>\n",
       "    </tr>\n",
       "    <tr>\n",
       "      <th>10362001</th>\n",
       "      <td>coastal</td>\n",
       "      <td>Pyroclastics</td>\n",
       "      <td>4.34012320</td>\n",
       "      <td>NaN</td>\n",
       "      <td>0.6072567</td>\n",
       "      <td>NaN</td>\n",
       "      <td>-0.622200375</td>\n",
       "      <td>NaN</td>\n",
       "      <td>0.0002103480252</td>\n",
       "      <td>NaN</td>\n",
       "      <td>...</td>\n",
       "      <td>0.5624186</td>\n",
       "      <td>122.0500</td>\n",
       "      <td>6.015702219</td>\n",
       "      <td>0.10735714728</td>\n",
       "      <td>13.44168511</td>\n",
       "      <td>2.714286</td>\n",
       "      <td>117.13468456</td>\n",
       "      <td>29.341772</td>\n",
       "      <td>0.0000000000</td>\n",
       "      <td>NaN</td>\n",
       "    </tr>\n",
       "    <tr>\n",
       "      <th>7317005</th>\n",
       "      <td>NaN</td>\n",
       "      <td>Basic volcanic rocks</td>\n",
       "      <td>4.72452895</td>\n",
       "      <td>NaN</td>\n",
       "      <td>0.5293816</td>\n",
       "      <td>NaN</td>\n",
       "      <td>-0.960896391</td>\n",
       "      <td>NaN</td>\n",
       "      <td>0.1469334578557</td>\n",
       "      <td>NaN</td>\n",
       "      <td>...</td>\n",
       "      <td>NaN</td>\n",
       "      <td>NaN</td>\n",
       "      <td>NaN</td>\n",
       "      <td>NaN</td>\n",
       "      <td>NaN</td>\n",
       "      <td>NaN</td>\n",
       "      <td>NaN</td>\n",
       "      <td>NaN</td>\n",
       "      <td>NaN</td>\n",
       "      <td>NaN</td>\n",
       "    </tr>\n",
       "    <tr>\n",
       "      <th>2112005</th>\n",
       "      <td>NaN</td>\n",
       "      <td>Unconsolidated sediments</td>\n",
       "      <td>0.21673525</td>\n",
       "      <td>NaN</td>\n",
       "      <td>18.4153050</td>\n",
       "      <td>NaN</td>\n",
       "      <td>1.336308822</td>\n",
       "      <td>NaN</td>\n",
       "      <td>0.0002204325151</td>\n",
       "      <td>NaN</td>\n",
       "      <td>...</td>\n",
       "      <td>NaN</td>\n",
       "      <td>NaN</td>\n",
       "      <td>NaN</td>\n",
       "      <td>NaN</td>\n",
       "      <td>NaN</td>\n",
       "      <td>NaN</td>\n",
       "      <td>NaN</td>\n",
       "      <td>NaN</td>\n",
       "      <td>NaN</td>\n",
       "      <td>NaN</td>\n",
       "    </tr>\n",
       "    <tr>\n",
       "      <th>5746001</th>\n",
       "      <td>NaN</td>\n",
       "      <td>Unconsolidated sediments</td>\n",
       "      <td>1.16770048</td>\n",
       "      <td>NaN</td>\n",
       "      <td>3.1408824</td>\n",
       "      <td>NaN</td>\n",
       "      <td>-1.403499734</td>\n",
       "      <td>NaN</td>\n",
       "      <td>0.0000000000000</td>\n",
       "      <td>NaN</td>\n",
       "      <td>...</td>\n",
       "      <td>0.7183103</td>\n",
       "      <td>124.6000</td>\n",
       "      <td>1.580334352</td>\n",
       "      <td>0.22086357569</td>\n",
       "      <td>2.43736966</td>\n",
       "      <td>2.086957</td>\n",
       "      <td>8.17534408</td>\n",
       "      <td>13.416667</td>\n",
       "      <td>0.0000000000</td>\n",
       "      <td>0.003368185140</td>\n",
       "    </tr>\n",
       "    <tr>\n",
       "      <th>...</th>\n",
       "      <td>...</td>\n",
       "      <td>...</td>\n",
       "      <td>...</td>\n",
       "      <td>...</td>\n",
       "      <td>...</td>\n",
       "      <td>...</td>\n",
       "      <td>...</td>\n",
       "      <td>...</td>\n",
       "      <td>...</td>\n",
       "      <td>...</td>\n",
       "      <td>...</td>\n",
       "      <td>...</td>\n",
       "      <td>...</td>\n",
       "      <td>...</td>\n",
       "      <td>...</td>\n",
       "      <td>...</td>\n",
       "      <td>...</td>\n",
       "      <td>...</td>\n",
       "      <td>...</td>\n",
       "      <td>...</td>\n",
       "      <td>...</td>\n",
       "    </tr>\n",
       "    <tr>\n",
       "      <th>5101001</th>\n",
       "      <td>NaN</td>\n",
       "      <td>Acid plutonic rocks</td>\n",
       "      <td>0.72182012</td>\n",
       "      <td>NaN</td>\n",
       "      <td>4.7505564</td>\n",
       "      <td>NaN</td>\n",
       "      <td>-1.440400284</td>\n",
       "      <td>NaN</td>\n",
       "      <td>0.0038392564541</td>\n",
       "      <td>NaN</td>\n",
       "      <td>...</td>\n",
       "      <td>0.6971627</td>\n",
       "      <td>162.1176</td>\n",
       "      <td>2.386918187</td>\n",
       "      <td>0.01539947218</td>\n",
       "      <td>43.72596796</td>\n",
       "      <td>18.340909</td>\n",
       "      <td>148.08311081</td>\n",
       "      <td>44.803279</td>\n",
       "      <td>0.0000000000</td>\n",
       "      <td>0.344224603708</td>\n",
       "    </tr>\n",
       "    <tr>\n",
       "      <th>10401001</th>\n",
       "      <td>NaN</td>\n",
       "      <td>Metamorphics</td>\n",
       "      <td>4.61487255</td>\n",
       "      <td>NaN</td>\n",
       "      <td>0.5567343</td>\n",
       "      <td>NaN</td>\n",
       "      <td>-0.598618823</td>\n",
       "      <td>NaN</td>\n",
       "      <td>0.0007067884319</td>\n",
       "      <td>NaN</td>\n",
       "      <td>...</td>\n",
       "      <td>NaN</td>\n",
       "      <td>NaN</td>\n",
       "      <td>NaN</td>\n",
       "      <td>NaN</td>\n",
       "      <td>NaN</td>\n",
       "      <td>NaN</td>\n",
       "      <td>NaN</td>\n",
       "      <td>NaN</td>\n",
       "      <td>NaN</td>\n",
       "      <td>NaN</td>\n",
       "    </tr>\n",
       "    <tr>\n",
       "      <th>2110002</th>\n",
       "      <td>NaN</td>\n",
       "      <td>Siliciclastic sedimentary rocks</td>\n",
       "      <td>0.28986612</td>\n",
       "      <td>NaN</td>\n",
       "      <td>11.4299221</td>\n",
       "      <td>NaN</td>\n",
       "      <td>1.555320147</td>\n",
       "      <td>NaN</td>\n",
       "      <td>0.0021539836182</td>\n",
       "      <td>NaN</td>\n",
       "      <td>...</td>\n",
       "      <td>0.9021013</td>\n",
       "      <td>190.0625</td>\n",
       "      <td>0.014444286</td>\n",
       "      <td>0.00737807572</td>\n",
       "      <td>0.00000000</td>\n",
       "      <td>0.000000</td>\n",
       "      <td>0.00000000</td>\n",
       "      <td>0.000000</td>\n",
       "      <td>0.0000000000</td>\n",
       "      <td>NaN</td>\n",
       "    </tr>\n",
       "    <tr>\n",
       "      <th>8350001</th>\n",
       "      <td>NaN</td>\n",
       "      <td>Acid volcanic rocks</td>\n",
       "      <td>8.45346995</td>\n",
       "      <td>NaN</td>\n",
       "      <td>0.3105805</td>\n",
       "      <td>NaN</td>\n",
       "      <td>-0.836864115</td>\n",
       "      <td>NaN</td>\n",
       "      <td>0.0829756992572</td>\n",
       "      <td>NaN</td>\n",
       "      <td>...</td>\n",
       "      <td>NaN</td>\n",
       "      <td>NaN</td>\n",
       "      <td>NaN</td>\n",
       "      <td>NaN</td>\n",
       "      <td>NaN</td>\n",
       "      <td>NaN</td>\n",
       "      <td>NaN</td>\n",
       "      <td>NaN</td>\n",
       "      <td>NaN</td>\n",
       "      <td>NaN</td>\n",
       "    </tr>\n",
       "    <tr>\n",
       "      <th>11315001</th>\n",
       "      <td>NaN</td>\n",
       "      <td>Unconsolidated sediments</td>\n",
       "      <td>2.79655852</td>\n",
       "      <td>NaN</td>\n",
       "      <td>0.7749488</td>\n",
       "      <td>NaN</td>\n",
       "      <td>-0.306493095</td>\n",
       "      <td>NaN</td>\n",
       "      <td>0.1256086732201</td>\n",
       "      <td>NaN</td>\n",
       "      <td>...</td>\n",
       "      <td>NaN</td>\n",
       "      <td>NaN</td>\n",
       "      <td>NaN</td>\n",
       "      <td>NaN</td>\n",
       "      <td>NaN</td>\n",
       "      <td>NaN</td>\n",
       "      <td>NaN</td>\n",
       "      <td>NaN</td>\n",
       "      <td>NaN</td>\n",
       "      <td>NaN</td>\n",
       "    </tr>\n",
       "  </tbody>\n",
       "</table>\n",
       "<p>516 rows × 42 columns</p>\n",
       "</div>"
      ],
      "text/plain": [
       "gauge_id location_type                   geol_class_2nd p_mean_chirps  \\\n",
       "8220009            NaN      Intermediate plutonic rocks    3.69311266   \n",
       "10362001       coastal                     Pyroclastics    4.34012320   \n",
       "7317005            NaN             Basic volcanic rocks    4.72452895   \n",
       "2112005            NaN         Unconsolidated sediments    0.21673525   \n",
       "5746001            NaN         Unconsolidated sediments    1.16770048   \n",
       "...                ...                              ...           ...   \n",
       "5101001            NaN              Acid plutonic rocks    0.72182012   \n",
       "10401001           NaN                     Metamorphics    4.61487255   \n",
       "2110002            NaN  Siliciclastic sedimentary rocks    0.28986612   \n",
       "8350001            NaN              Acid volcanic rocks    8.45346995   \n",
       "11315001           NaN         Unconsolidated sediments    2.79655852   \n",
       "\n",
       "gauge_id p_mean_tmpa aridity_chirps aridity_tmpa p_seasonality_chirps  \\\n",
       "8220009          NaN      0.8586003          NaN         -1.074889369   \n",
       "10362001         NaN      0.6072567          NaN         -0.622200375   \n",
       "7317005          NaN      0.5293816          NaN         -0.960896391   \n",
       "2112005          NaN     18.4153050          NaN          1.336308822   \n",
       "5746001          NaN      3.1408824          NaN         -1.403499734   \n",
       "...              ...            ...          ...                  ...   \n",
       "5101001          NaN      4.7505564          NaN         -1.440400284   \n",
       "10401001         NaN      0.5567343          NaN         -0.598618823   \n",
       "2110002          NaN     11.4299221          NaN          1.555320147   \n",
       "8350001          NaN      0.3105805          NaN         -0.836864115   \n",
       "11315001         NaN      0.7749488          NaN         -0.306493095   \n",
       "\n",
       "gauge_id p_seasonality_tmpa frac_snow_chirps frac_snow_tmpa  ...  \\\n",
       "8220009                 NaN  0.0000000000000            NaN  ...   \n",
       "10362001                NaN  0.0002103480252            NaN  ...   \n",
       "7317005                 NaN  0.1469334578557            NaN  ...   \n",
       "2112005                 NaN  0.0002204325151            NaN  ...   \n",
       "5746001                 NaN  0.0000000000000            NaN  ...   \n",
       "...                     ...              ...            ...  ...   \n",
       "5101001                 NaN  0.0038392564541            NaN  ...   \n",
       "10401001                NaN  0.0007067884319            NaN  ...   \n",
       "2110002                 NaN  0.0021539836182            NaN  ...   \n",
       "8350001                 NaN  0.0829756992572            NaN  ...   \n",
       "11315001                NaN  0.1256086732201            NaN  ...   \n",
       "\n",
       "gauge_id baseflow_index  hfd_mean           Q95             Q5   high_q_freq  \\\n",
       "8220009             NaN       NaN           NaN            NaN           NaN   \n",
       "10362001      0.5624186  122.0500   6.015702219  0.10735714728   13.44168511   \n",
       "7317005             NaN       NaN           NaN            NaN           NaN   \n",
       "2112005             NaN       NaN           NaN            NaN           NaN   \n",
       "5746001       0.7183103  124.6000   1.580334352  0.22086357569    2.43736966   \n",
       "...                 ...       ...           ...            ...           ...   \n",
       "5101001       0.6971627  162.1176   2.386918187  0.01539947218   43.72596796   \n",
       "10401001            NaN       NaN           NaN            NaN           NaN   \n",
       "2110002       0.9021013  190.0625   0.014444286  0.00737807572    0.00000000   \n",
       "8350001             NaN       NaN           NaN            NaN           NaN   \n",
       "11315001            NaN       NaN           NaN            NaN           NaN   \n",
       "\n",
       "gauge_id  high_q_dur    low_q_freq   low_q_dur   zero_q_freq        swe_ratio  \n",
       "8220009          NaN           NaN         NaN           NaN              NaN  \n",
       "10362001    2.714286  117.13468456   29.341772  0.0000000000              NaN  \n",
       "7317005          NaN           NaN         NaN           NaN              NaN  \n",
       "2112005          NaN           NaN         NaN           NaN              NaN  \n",
       "5746001     2.086957    8.17534408   13.416667  0.0000000000   0.003368185140  \n",
       "...              ...           ...         ...           ...              ...  \n",
       "5101001    18.340909  148.08311081   44.803279  0.0000000000   0.344224603708  \n",
       "10401001         NaN           NaN         NaN           NaN              NaN  \n",
       "2110002     0.000000    0.00000000    0.000000  0.0000000000              NaN  \n",
       "8350001          NaN           NaN         NaN           NaN              NaN  \n",
       "11315001         NaN           NaN         NaN           NaN              NaN  \n",
       "\n",
       "[516 rows x 42 columns]"
      ]
     },
     "execution_count": 35,
     "metadata": {},
     "output_type": "execute_result"
    }
   ],
   "source": [
    "df.loc[:, (df.isna().sum()>0)]"
   ]
  },
  {
   "cell_type": "code",
   "execution_count": 36,
   "metadata": {
    "collapsed": false,
    "execution": {
     "iopub.execute_input": "2024-10-18T21:11:58.865188Z",
     "iopub.status.busy": "2024-10-18T21:11:58.864361Z",
     "iopub.status.idle": "2024-10-18T21:11:58.916645Z",
     "shell.execute_reply": "2024-10-18T21:11:58.915367Z"
    }
   },
   "outputs": [
    {
     "data": {
      "text/plain": [
       "gauge_id\n",
       "location_type              386\n",
       "geol_class_2nd              16\n",
       "p_mean_chirps               43\n",
       "p_mean_tmpa                516\n",
       "aridity_chirps              43\n",
       "aridity_tmpa               516\n",
       "p_seasonality_chirps        43\n",
       "p_seasonality_tmpa         516\n",
       "frac_snow_chirps            43\n",
       "frac_snow_tmpa             516\n",
       "high_prec_freq_chirps       43\n",
       "high_prec_freq_tmpa        516\n",
       "high_prec_dur_chirps        43\n",
       "high_prec_dur_tmpa         516\n",
       "high_prec_timing_chirps     43\n",
       "high_prec_timing_tmpa      516\n",
       "low_prec_freq_chirps        43\n",
       "low_prec_freq_tmpa         516\n",
       "low_prec_dur_chirps         43\n",
       "low_prec_dur_tmpa          516\n",
       "low_prec_timing_chirps      43\n",
       "low_prec_timing_tmpa       516\n",
       "q_mean                     278\n",
       "runoff_ratio_cr2met        278\n",
       "runoff_ratio_chirps        297\n",
       "runoff_ratio_mswep         278\n",
       "runoff_ratio_tmpa          516\n",
       "stream_elas_cr2met         278\n",
       "stream_elas_chirps         297\n",
       "stream_elas_mswep          278\n",
       "stream_elas_tmpa           516\n",
       "slope_fdc                  278\n",
       "baseflow_index             278\n",
       "hfd_mean                   278\n",
       "Q95                        278\n",
       "Q5                         278\n",
       "high_q_freq                278\n",
       "high_q_dur                 278\n",
       "low_q_freq                 278\n",
       "low_q_dur                  278\n",
       "zero_q_freq                278\n",
       "swe_ratio                  397\n",
       "dtype: int64"
      ]
     },
     "execution_count": 36,
     "metadata": {},
     "output_type": "execute_result"
    }
   ],
   "source": [
    "df.loc[:, (df.isna().sum()>0)].isna().sum()"
   ]
  },
  {
   "cell_type": "code",
   "execution_count": 37,
   "metadata": {
    "collapsed": false,
    "execution": {
     "iopub.execute_input": "2024-10-18T21:11:58.925058Z",
     "iopub.status.busy": "2024-10-18T21:11:58.924379Z",
     "iopub.status.idle": "2024-10-18T21:11:58.933546Z",
     "shell.execute_reply": "2024-10-18T21:11:58.932129Z"
    }
   },
   "outputs": [
    {
     "name": "stdout",
     "output_type": "stream",
     "text": [
      "12\n",
      "streamflow_m3s, streamflow_mm, precip_cr2met, precip_chirps, precip_mswep, precip_tmpa, tmin_cr2met,\n",
      "tmax_cr2met, tmean_cr2met, pet_8d_modis, pet_hargreaves, swe\n"
     ]
    }
   ],
   "source": [
    "print(dataset.num_dynamic())\n",
    "print(textwrap.fill(\", \".join(dataset.dynamic_features), width=100))"
   ]
  },
  {
   "cell_type": "markdown",
   "metadata": {},
   "source": [
    "## CAMELS_DK\n",
    "\n"
   ]
  },
  {
   "cell_type": "code",
   "execution_count": 38,
   "metadata": {
    "collapsed": false,
    "execution": {
     "iopub.execute_input": "2024-10-18T21:11:58.941494Z",
     "iopub.status.busy": "2024-10-18T21:11:58.940606Z",
     "iopub.status.idle": "2024-10-18T21:11:59.261300Z",
     "shell.execute_reply": "2024-10-18T21:11:59.259896Z"
    }
   },
   "outputs": [
    {
     "name": "stdout",
     "output_type": "stream",
     "text": [
      "RainfallRunoff(CAMELS_DK) with 304 stations, 13 dynamic and 119 static features\n"
     ]
    }
   ],
   "source": [
    "dataset = RainfallRunoff('CAMELS_DK', path=os.path.join(gscad_path, 'CAMELS'), verbosity=0)\n",
    "print(dataset)"
   ]
  },
  {
   "cell_type": "code",
   "execution_count": 39,
   "metadata": {
    "collapsed": false,
    "execution": {
     "iopub.execute_input": "2024-10-18T21:11:59.273969Z",
     "iopub.status.busy": "2024-10-18T21:11:59.272967Z",
     "iopub.status.idle": "2024-10-18T21:11:59.284618Z",
     "shell.execute_reply": "2024-10-18T21:11:59.283203Z"
    }
   },
   "outputs": [
    {
     "name": "stdout",
     "output_type": "stream",
     "text": [
      "p_mean, t_mean, pet_mean, aridity, high_prec_freq, high_prec_dur, high_prec_timing, low_prec_freq,\n",
      "low_prec_dur, low_prec_timing, frac_snow_daily, p_seasonality, pct_aeolain_sand, pct_water_deposit,\n",
      "pct_marsh, pct_marine_sand, pct_beach, pct_sandy_till, pct_till, pct_glaf_sand, pct_glal_clay,\n",
      "pct_down_sand, pct_glam_clay, chalk_d, uaquifer_t, uaquifer_d, uclay_t, usand_t,\n",
      "pct_forest_levin_2011, pct_agriculture_levin_2011, pct_water_levin_2011, pct_urban_levin_2011,\n",
      "pct_naturedry_levin_2011, pct_naturewet_levin_2011, pct_forest_levin_2016,\n",
      "pct_agriculture_levin_2016, pct_water_levin_2016, pct_urban_levin_2016, pct_naturedry_levin_2016,\n",
      "pct_naturewet_levin_2016, pct_forest_levin_2018, pct_agriculture_levin_2018, pct_water_levin_2018,\n",
      "pct_urban_levin_2018, pct_naturedry_levin_2018, pct_naturewet_levin_2018, pct_forest_levin_2021,\n",
      "pct_agriculture_levin_2021, pct_water_levin_2021, pct_urban_levin_2021, pct_naturedry_levin_2021,\n",
      "pct_naturewet_levin_2021, pct_forest_corine_1990, pct_agriculture_corine_1990,\n",
      "pct_water_corine_1990, pct_urban_corine_1990, pct_wetlands_corine_1990, pct_forest_corine_2000,\n",
      "pct_agriculture_corine_2000, pct_water_corine_2000, pct_urban_corine_2000, pct_wetlands_corine_2000,\n",
      "pct_forest_corine_2006, pct_agriculture_corine_2006, pct_water_corine_2006, pct_urban_corine_2006,\n",
      "pct_wetlands_corine_2006, pct_forest_corine_2012, pct_agriculture_corine_2012,\n",
      "pct_water_corine_2012, pct_urban_corine_2012, pct_wetlands_corine_2012, pct_forest_corine_2018,\n",
      "pct_agriculture_corine_2018, pct_water_corine_2018, pct_urban_corine_2018, pct_wetlands_corine_2018,\n",
      "root_depth, pct_sand, pct_silt, pct_clay, pct_organic, pct_gravel, tawc, bulk_density,\n",
      "pct_claynor_30, pct_claynor_60, pct_claynor_100, pct_claynor_200, pct_fsandno_30, pct_fsandno_60,\n",
      "pct_fsandno_100, pct_fsandno_200, pct_gsandno_30, pct_gsandno_60, pct_gsandno_100, pct_gsandno_200,\n",
      "FC, HCC, KS, MRC, THS, WP, catch_outlet_lon, catch_outlet_lat, catch_flow_dir, catch_accum_number,\n",
      "catch_area, gauged_type, gauge_record_pct, dem_mean, dem_max, dem_median, dem_min, slope_mean,\n",
      "slope_median, slope_max, slope_min, pct_flat_area\n"
     ]
    }
   ],
   "source": [
    "print(textwrap.fill(\", \".join(dataset.static_features), width=100))"
   ]
  },
  {
   "cell_type": "code",
   "execution_count": 40,
   "metadata": {
    "collapsed": false,
    "execution": {
     "iopub.execute_input": "2024-10-18T21:11:59.293550Z",
     "iopub.status.busy": "2024-10-18T21:11:59.292676Z",
     "iopub.status.idle": "2024-10-18T21:11:59.564754Z",
     "shell.execute_reply": "2024-10-18T21:11:59.563023Z"
    }
   },
   "outputs": [
    {
     "name": "stdout",
     "output_type": "stream",
     "text": [
      "(304, 119)\n"
     ]
    }
   ],
   "source": [
    "df = dataset.fetch_static_features()\n",
    "print(df.shape)"
   ]
  },
  {
   "cell_type": "code",
   "execution_count": 41,
   "metadata": {
    "collapsed": false,
    "execution": {
     "iopub.execute_input": "2024-10-18T21:11:59.573902Z",
     "iopub.status.busy": "2024-10-18T21:11:59.572956Z",
     "iopub.status.idle": "2024-10-18T21:11:59.600886Z",
     "shell.execute_reply": "2024-10-18T21:11:59.599746Z"
    }
   },
   "outputs": [
    {
     "name": "stdout",
     "output_type": "stream",
     "text": [
      "23\n"
     ]
    },
    {
     "data": {
      "text/plain": [
       "p_mean            0\n",
       "t_mean            0\n",
       "pet_mean          0\n",
       "aridity           0\n",
       "high_prec_freq    0\n",
       "                 ..\n",
       "slope_mean        0\n",
       "slope_median      0\n",
       "slope_max         0\n",
       "slope_min         0\n",
       "pct_flat_area     0\n",
       "Length: 119, dtype: int64"
      ]
     },
     "execution_count": 41,
     "metadata": {},
     "output_type": "execute_result"
    }
   ],
   "source": [
    "print(df.isna().sum().sum())\n",
    "df.isna().sum()"
   ]
  },
  {
   "cell_type": "markdown",
   "metadata": {},
   "source": [
    "find those columns which have at least one NaN value\n",
    "\n"
   ]
  },
  {
   "cell_type": "code",
   "execution_count": 42,
   "metadata": {
    "collapsed": false,
    "execution": {
     "iopub.execute_input": "2024-10-18T21:11:59.609721Z",
     "iopub.status.busy": "2024-10-18T21:11:59.608978Z",
     "iopub.status.idle": "2024-10-18T21:11:59.641824Z",
     "shell.execute_reply": "2024-10-18T21:11:59.640705Z"
    }
   },
   "outputs": [
    {
     "data": {
      "text/html": [
       "<div>\n",
       "<style scoped>\n",
       "    .dataframe tbody tr th:only-of-type {\n",
       "        vertical-align: middle;\n",
       "    }\n",
       "\n",
       "    .dataframe tbody tr th {\n",
       "        vertical-align: top;\n",
       "    }\n",
       "\n",
       "    .dataframe thead th {\n",
       "        text-align: right;\n",
       "    }\n",
       "</style>\n",
       "<table border=\"1\" class=\"dataframe\">\n",
       "  <thead>\n",
       "    <tr style=\"text-align: right;\">\n",
       "      <th></th>\n",
       "      <th>chalk_d</th>\n",
       "      <th>uaquifer_t</th>\n",
       "      <th>uaquifer_d</th>\n",
       "      <th>uclay_t</th>\n",
       "      <th>usand_t</th>\n",
       "      <th>gauge_record_pct</th>\n",
       "    </tr>\n",
       "  </thead>\n",
       "  <tbody>\n",
       "    <tr>\n",
       "      <th>16200607</th>\n",
       "      <td>348.941440</td>\n",
       "      <td>16.930742</td>\n",
       "      <td>6.166402</td>\n",
       "      <td>5.468584</td>\n",
       "      <td>5.671323</td>\n",
       "      <td>100.000000</td>\n",
       "    </tr>\n",
       "    <tr>\n",
       "      <th>37470466</th>\n",
       "      <td>451.491863</td>\n",
       "      <td>46.024319</td>\n",
       "      <td>0.630618</td>\n",
       "      <td>0.550030</td>\n",
       "      <td>31.309439</td>\n",
       "      <td>100.000000</td>\n",
       "    </tr>\n",
       "    <tr>\n",
       "      <th>67221267</th>\n",
       "      <td>82.682739</td>\n",
       "      <td>10.650221</td>\n",
       "      <td>30.316439</td>\n",
       "      <td>28.674266</td>\n",
       "      <td>0.580311</td>\n",
       "      <td>100.000000</td>\n",
       "    </tr>\n",
       "    <tr>\n",
       "      <th>35321353</th>\n",
       "      <td>425.690145</td>\n",
       "      <td>39.533252</td>\n",
       "      <td>7.186167</td>\n",
       "      <td>6.985663</td>\n",
       "      <td>0.198207</td>\n",
       "      <td>100.000000</td>\n",
       "    </tr>\n",
       "    <tr>\n",
       "      <th>53411137</th>\n",
       "      <td>287.510620</td>\n",
       "      <td>8.634338</td>\n",
       "      <td>15.445959</td>\n",
       "      <td>15.021151</td>\n",
       "      <td>0.210060</td>\n",
       "      <td>100.000000</td>\n",
       "    </tr>\n",
       "    <tr>\n",
       "      <th>...</th>\n",
       "      <td>...</td>\n",
       "      <td>...</td>\n",
       "      <td>...</td>\n",
       "      <td>...</td>\n",
       "      <td>...</td>\n",
       "      <td>...</td>\n",
       "    </tr>\n",
       "    <tr>\n",
       "      <th>32211121</th>\n",
       "      <td>68.721796</td>\n",
       "      <td>8.509604</td>\n",
       "      <td>7.125480</td>\n",
       "      <td>6.253781</td>\n",
       "      <td>1.478004</td>\n",
       "      <td>54.840134</td>\n",
       "    </tr>\n",
       "    <tr>\n",
       "      <th>42320708</th>\n",
       "      <td>155.292211</td>\n",
       "      <td>9.827164</td>\n",
       "      <td>24.663791</td>\n",
       "      <td>21.955691</td>\n",
       "      <td>1.744912</td>\n",
       "      <td>100.000000</td>\n",
       "    </tr>\n",
       "    <tr>\n",
       "      <th>71270476</th>\n",
       "      <td>10.931980</td>\n",
       "      <td>45.329497</td>\n",
       "      <td>9.366122</td>\n",
       "      <td>9.176942</td>\n",
       "      <td>0.364699</td>\n",
       "      <td>100.000000</td>\n",
       "    </tr>\n",
       "    <tr>\n",
       "      <th>32240800</th>\n",
       "      <td>19.045147</td>\n",
       "      <td>28.712421</td>\n",
       "      <td>9.834996</td>\n",
       "      <td>9.284840</td>\n",
       "      <td>0.198684</td>\n",
       "      <td>100.000000</td>\n",
       "    </tr>\n",
       "    <tr>\n",
       "      <th>42600042</th>\n",
       "      <td>124.778317</td>\n",
       "      <td>17.442115</td>\n",
       "      <td>12.625913</td>\n",
       "      <td>12.289986</td>\n",
       "      <td>2.165011</td>\n",
       "      <td>90.673026</td>\n",
       "    </tr>\n",
       "  </tbody>\n",
       "</table>\n",
       "<p>304 rows × 6 columns</p>\n",
       "</div>"
      ],
      "text/plain": [
       "             chalk_d  uaquifer_t  uaquifer_d    uclay_t    usand_t  \\\n",
       "16200607  348.941440   16.930742    6.166402   5.468584   5.671323   \n",
       "37470466  451.491863   46.024319    0.630618   0.550030  31.309439   \n",
       "67221267   82.682739   10.650221   30.316439  28.674266   0.580311   \n",
       "35321353  425.690145   39.533252    7.186167   6.985663   0.198207   \n",
       "53411137  287.510620    8.634338   15.445959  15.021151   0.210060   \n",
       "...              ...         ...         ...        ...        ...   \n",
       "32211121   68.721796    8.509604    7.125480   6.253781   1.478004   \n",
       "42320708  155.292211    9.827164   24.663791  21.955691   1.744912   \n",
       "71270476   10.931980   45.329497    9.366122   9.176942   0.364699   \n",
       "32240800   19.045147   28.712421    9.834996   9.284840   0.198684   \n",
       "42600042  124.778317   17.442115   12.625913  12.289986   2.165011   \n",
       "\n",
       "          gauge_record_pct  \n",
       "16200607        100.000000  \n",
       "37470466        100.000000  \n",
       "67221267        100.000000  \n",
       "35321353        100.000000  \n",
       "53411137        100.000000  \n",
       "...                    ...  \n",
       "32211121         54.840134  \n",
       "42320708        100.000000  \n",
       "71270476        100.000000  \n",
       "32240800        100.000000  \n",
       "42600042         90.673026  \n",
       "\n",
       "[304 rows x 6 columns]"
      ]
     },
     "execution_count": 42,
     "metadata": {},
     "output_type": "execute_result"
    }
   ],
   "source": [
    "df.loc[:, (df.isna().sum()>0)]"
   ]
  },
  {
   "cell_type": "code",
   "execution_count": 43,
   "metadata": {
    "collapsed": false,
    "execution": {
     "iopub.execute_input": "2024-10-18T21:11:59.651537Z",
     "iopub.status.busy": "2024-10-18T21:11:59.650270Z",
     "iopub.status.idle": "2024-10-18T21:11:59.668857Z",
     "shell.execute_reply": "2024-10-18T21:11:59.667638Z"
    }
   },
   "outputs": [
    {
     "data": {
      "text/plain": [
       "chalk_d             3\n",
       "uaquifer_t          3\n",
       "uaquifer_d          3\n",
       "uclay_t             3\n",
       "usand_t             3\n",
       "gauge_record_pct    8\n",
       "dtype: int64"
      ]
     },
     "execution_count": 43,
     "metadata": {},
     "output_type": "execute_result"
    }
   ],
   "source": [
    "df.loc[:, (df.isna().sum()>0)].isna().sum()"
   ]
  },
  {
   "cell_type": "code",
   "execution_count": 44,
   "metadata": {
    "collapsed": false,
    "execution": {
     "iopub.execute_input": "2024-10-18T21:11:59.676732Z",
     "iopub.status.busy": "2024-10-18T21:11:59.675902Z",
     "iopub.status.idle": "2024-10-18T21:11:59.684370Z",
     "shell.execute_reply": "2024-10-18T21:11:59.683087Z"
    }
   },
   "outputs": [
    {
     "name": "stdout",
     "output_type": "stream",
     "text": [
      "13\n",
      "pcp_mm, mean_temp_C, makkink_pet_mm, DKM_dtp, DKM_eta, DKM_wcr, DKM_sdr, DKM_sre, DKM_gwh, Qdkm,\n",
      "DKM_irr, Abstraction, obs_q_cms\n"
     ]
    }
   ],
   "source": [
    "print(dataset.num_dynamic())\n",
    "print(textwrap.fill(\", \".join(dataset.dynamic_features), width=100))"
   ]
  },
  {
   "cell_type": "markdown",
   "metadata": {},
   "source": [
    "## CAMELS_CH\n",
    "\n"
   ]
  },
  {
   "cell_type": "code",
   "execution_count": 45,
   "metadata": {
    "collapsed": false,
    "execution": {
     "iopub.execute_input": "2024-10-18T21:11:59.691179Z",
     "iopub.status.busy": "2024-10-18T21:11:59.690000Z",
     "iopub.status.idle": "2024-10-18T21:11:59.895756Z",
     "shell.execute_reply": "2024-10-18T21:11:59.894303Z"
    }
   },
   "outputs": [
    {
     "name": "stdout",
     "output_type": "stream",
     "text": [
      "RainfallRunoff(CAMELS_CH) with 331 stations, 9 dynamic and 209 static features\n"
     ]
    }
   ],
   "source": [
    "dataset = RainfallRunoff('CAMELS_CH', path=os.path.join(gscad_path, 'CAMELS'), verbosity=0)\n",
    "print(dataset)"
   ]
  },
  {
   "cell_type": "code",
   "execution_count": 46,
   "metadata": {
    "collapsed": false,
    "execution": {
     "iopub.execute_input": "2024-10-18T21:11:59.905240Z",
     "iopub.status.busy": "2024-10-18T21:11:59.904135Z",
     "iopub.status.idle": "2024-10-18T21:12:00.016996Z",
     "shell.execute_reply": "2024-10-18T21:12:00.015618Z"
    }
   },
   "outputs": [
    {
     "name": "stdout",
     "output_type": "stream",
     "text": [
      "ind_start_date, ind_end_date, ind_number_of_years, p_mean, pet_mean, aridity, p_seasonality,\n",
      "frac_snow, high_prec_freq, high_prec_dur, high_prec_timing, low_prec_freq, low_prec_dur,\n",
      "low_prec_timing, geo_porosity, geo_log10_permeability, unconsol_sediments,\n",
      "siliciclastic_sedimentary, mixed_sedimentary, carbonate_sedimentary, pyroclastic, acid_volcanic,\n",
      "basic_volcanic, acid_plutonic, intermediate_plutonic, basic_plutonic, metamorphics, water_geo,\n",
      "ice_geo, osm, omm, usm, api, amk, sus, dup, sal, oos, mpk, aap, fju, hes, mps, ups, ops, tie, ukd,\n",
      "uod, ood, qua, glac_area, glac_vol, glac_mass, glac_area_neighbours, n_inhabitants,\n",
      "dens_inhabitants, hp_count, hp_qturb, hp_inst_turb, hp_max_power, num_reservoir, reservoir_cap,\n",
      "reservoir_he, reservoir_fs, reservoir_irr, reservoir_nousedata, reservoir_year_first,\n",
      "reservoir_year_last, unconsol_coarse_perc, unconsol_medium_perc, unconsol_fine_perc,\n",
      "unconsol_imperm_perc, hardrock_perc, hardrock_imperm_perc, karst_perc, water_perc, null_perc,\n",
      "ext_area_perc, sign_start_date, sign_end_date, sign_number_of_years, q_mean, runoff_ratio,\n",
      "stream_elas, slope_fdc, baseflow_index_landson, hfd_mean, Q5, Q95, high_q_freq, high_q_dur,\n",
      "low_q_freq, low_q_dur, zero_q_freq, crop_perc, grass_perc, scrub_perc, dwood_perc, mixed_wood_perc,\n",
      "ewood_perc, wetlands_perc, inwater_perc, ice_perc, loose_rock_perc, rock_perc, urban_perc,\n",
      "dom_land_cover, sand_perc, sand_perc_5, sand_perc_25, sand_perc_50, sand_perc_75, sand_perc_90,\n",
      "sand_perc_skewness, sand_perc_missing, silt_perc, silt_perc_5, silt_perc_25, silt_perc_50,\n",
      "silt_perc_75, silt_perc_90, silt_perc_skewness, silt_perc_missing, clay_perc, clay_perc_5,\n",
      "clay_perc_25, clay_perc_50, clay_perc_75, clay_perc_90, clay_perc_skewness, clay_perc_missing,\n",
      "organic_perc, organic_perc_5, organic_perc_25, organic_perc_50, organic_perc_75, organic_perc_90,\n",
      "organic_perc_skewness, organic_perc_missing, bulk_dens, bulk_dens_5, bulk_dens_25, bulk_dens_50,\n",
      "bulk_dens_75, bulk_dens_90, bulk_dens_skewness, bulk_dens_missing, tot_avail_water,\n",
      "tot_avail_water_5, tot_avail_water_25, tot_avail_water_50, tot_avail_water_75, tot_avail_water_90,\n",
      "tot_avail_water_skewness, tot_avail_water_missing, root_depth, root_depth_5, root_depth_25,\n",
      "root_depth_50, root_depth_75, root_depth_90, root_depth_skewness, root_depth_missing,\n",
      "coarse_fragm_perc, coarse_fragm_perc_5, coarse_fragm_perc_25, coarse_fragm_perc_50,\n",
      "coarse_fragm_perc_75, coarse_fragm_perc_90, coarse_fragm_perc_skewness, coarse_fragm_perc_missing,\n",
      "porosity, porosity_5, porosity_25, porosity_50, porosity_75, porosity_90, porosity_skewness,\n",
      "porosity_missing, conductivity, conductivity_5, conductivity_25, conductivity_50, conductivity_75,\n",
      "conductivity_90, conductivity_skewness, conductivity_missing, country, gauge_name, water_body_name,\n",
      "id6, water_body_type, gauge_lon, gauge_lat, gauge_easting, gauge_northing, gauge_elevation, area,\n",
      "elev_mean, elev_min, elev_percentile10, elev_percentile25, elev_percentile50, elev_percentile75,\n",
      "elev_percentile90, elev_max, slope_mean, flat_area_perc, steep_area_perc\n"
     ]
    }
   ],
   "source": [
    "print(textwrap.fill(\", \".join(dataset.static_features), width=100))"
   ]
  },
  {
   "cell_type": "code",
   "execution_count": 47,
   "metadata": {
    "collapsed": false,
    "execution": {
     "iopub.execute_input": "2024-10-18T21:12:00.025534Z",
     "iopub.status.busy": "2024-10-18T21:12:00.024668Z",
     "iopub.status.idle": "2024-10-18T21:12:00.140325Z",
     "shell.execute_reply": "2024-10-18T21:12:00.139058Z"
    }
   },
   "outputs": [
    {
     "name": "stdout",
     "output_type": "stream",
     "text": [
      "(331, 209)\n"
     ]
    }
   ],
   "source": [
    "df = dataset.fetch_static_features()\n",
    "print(df.shape)"
   ]
  },
  {
   "cell_type": "code",
   "execution_count": 48,
   "metadata": {
    "collapsed": false,
    "execution": {
     "iopub.execute_input": "2024-10-18T21:12:00.148045Z",
     "iopub.status.busy": "2024-10-18T21:12:00.146861Z",
     "iopub.status.idle": "2024-10-18T21:12:00.177956Z",
     "shell.execute_reply": "2024-10-18T21:12:00.176867Z"
    }
   },
   "outputs": [
    {
     "name": "stdout",
     "output_type": "stream",
     "text": [
      "2097\n"
     ]
    },
    {
     "data": {
      "text/plain": [
       "ind_start_date         0\n",
       "ind_end_date           0\n",
       "ind_number_of_years    0\n",
       "p_mean                 0\n",
       "pet_mean               0\n",
       "                      ..\n",
       "elev_percentile90      0\n",
       "elev_max               0\n",
       "slope_mean             0\n",
       "flat_area_perc         0\n",
       "steep_area_perc        0\n",
       "Length: 209, dtype: int64"
      ]
     },
     "execution_count": 48,
     "metadata": {},
     "output_type": "execute_result"
    }
   ],
   "source": [
    "print(df.isna().sum().sum())\n",
    "df.isna().sum()"
   ]
  },
  {
   "cell_type": "markdown",
   "metadata": {},
   "source": [
    "find those columns which have at least one NaN value\n",
    "\n"
   ]
  },
  {
   "cell_type": "code",
   "execution_count": 49,
   "metadata": {
    "collapsed": false,
    "execution": {
     "iopub.execute_input": "2024-10-18T21:12:00.190598Z",
     "iopub.status.busy": "2024-10-18T21:12:00.189633Z",
     "iopub.status.idle": "2024-10-18T21:12:00.245572Z",
     "shell.execute_reply": "2024-10-18T21:12:00.244313Z"
    }
   },
   "outputs": [
    {
     "data": {
      "text/html": [
       "<div>\n",
       "<style scoped>\n",
       "    .dataframe tbody tr th:only-of-type {\n",
       "        vertical-align: middle;\n",
       "    }\n",
       "\n",
       "    .dataframe tbody tr th {\n",
       "        vertical-align: top;\n",
       "    }\n",
       "\n",
       "    .dataframe thead th {\n",
       "        text-align: right;\n",
       "    }\n",
       "</style>\n",
       "<table border=\"1\" class=\"dataframe\">\n",
       "  <thead>\n",
       "    <tr style=\"text-align: right;\">\n",
       "      <th></th>\n",
       "      <th>p_seasonality</th>\n",
       "      <th>frac_snow</th>\n",
       "      <th>high_prec_timing</th>\n",
       "      <th>low_prec_timing</th>\n",
       "      <th>reservoir_he</th>\n",
       "      <th>reservoir_fs</th>\n",
       "      <th>reservoir_irr</th>\n",
       "      <th>reservoir_nousedata</th>\n",
       "      <th>reservoir_year_first</th>\n",
       "      <th>reservoir_year_last</th>\n",
       "      <th>...</th>\n",
       "      <th>baseflow_index_landson</th>\n",
       "      <th>hfd_mean</th>\n",
       "      <th>Q5</th>\n",
       "      <th>Q95</th>\n",
       "      <th>high_q_freq</th>\n",
       "      <th>high_q_dur</th>\n",
       "      <th>low_q_freq</th>\n",
       "      <th>low_q_dur</th>\n",
       "      <th>zero_q_freq</th>\n",
       "      <th>silt_perc_skewness</th>\n",
       "    </tr>\n",
       "    <tr>\n",
       "      <th>gauge_id</th>\n",
       "      <th></th>\n",
       "      <th></th>\n",
       "      <th></th>\n",
       "      <th></th>\n",
       "      <th></th>\n",
       "      <th></th>\n",
       "      <th></th>\n",
       "      <th></th>\n",
       "      <th></th>\n",
       "      <th></th>\n",
       "      <th></th>\n",
       "      <th></th>\n",
       "      <th></th>\n",
       "      <th></th>\n",
       "      <th></th>\n",
       "      <th></th>\n",
       "      <th></th>\n",
       "      <th></th>\n",
       "      <th></th>\n",
       "      <th></th>\n",
       "      <th></th>\n",
       "    </tr>\n",
       "  </thead>\n",
       "  <tbody>\n",
       "    <tr>\n",
       "      <th>2004</th>\n",
       "      <td>0.159</td>\n",
       "      <td>0.039</td>\n",
       "      <td>jja</td>\n",
       "      <td>son</td>\n",
       "      <td>NaN</td>\n",
       "      <td>NaN</td>\n",
       "      <td>NaN</td>\n",
       "      <td>NaN</td>\n",
       "      <td>NaN</td>\n",
       "      <td>NaN</td>\n",
       "      <td>...</td>\n",
       "      <td>NaN</td>\n",
       "      <td>NaN</td>\n",
       "      <td>NaN</td>\n",
       "      <td>NaN</td>\n",
       "      <td>NaN</td>\n",
       "      <td>NaN</td>\n",
       "      <td>NaN</td>\n",
       "      <td>NaN</td>\n",
       "      <td>NaN</td>\n",
       "      <td>-0.252</td>\n",
       "    </tr>\n",
       "    <tr>\n",
       "      <th>2007</th>\n",
       "      <td>-0.118</td>\n",
       "      <td>0.170</td>\n",
       "      <td>djf</td>\n",
       "      <td>son</td>\n",
       "      <td>NaN</td>\n",
       "      <td>NaN</td>\n",
       "      <td>NaN</td>\n",
       "      <td>NaN</td>\n",
       "      <td>NaN</td>\n",
       "      <td>NaN</td>\n",
       "      <td>...</td>\n",
       "      <td>NaN</td>\n",
       "      <td>NaN</td>\n",
       "      <td>NaN</td>\n",
       "      <td>NaN</td>\n",
       "      <td>NaN</td>\n",
       "      <td>NaN</td>\n",
       "      <td>NaN</td>\n",
       "      <td>NaN</td>\n",
       "      <td>NaN</td>\n",
       "      <td>0.635</td>\n",
       "    </tr>\n",
       "    <tr>\n",
       "      <th>2009</th>\n",
       "      <td>0.078</td>\n",
       "      <td>0.436</td>\n",
       "      <td>jja</td>\n",
       "      <td>son</td>\n",
       "      <td>0.999</td>\n",
       "      <td>0.0</td>\n",
       "      <td>0.001</td>\n",
       "      <td>0.0</td>\n",
       "      <td>1914.0</td>\n",
       "      <td>1989.0</td>\n",
       "      <td>...</td>\n",
       "      <td>0.787</td>\n",
       "      <td>243.282</td>\n",
       "      <td>1.279</td>\n",
       "      <td>6.207</td>\n",
       "      <td>0.000</td>\n",
       "      <td>0.000</td>\n",
       "      <td>0.051</td>\n",
       "      <td>2.000</td>\n",
       "      <td>0.0</td>\n",
       "      <td>0.285</td>\n",
       "    </tr>\n",
       "    <tr>\n",
       "      <th>2011</th>\n",
       "      <td>0.106</td>\n",
       "      <td>0.474</td>\n",
       "      <td>son</td>\n",
       "      <td>son</td>\n",
       "      <td>0.998</td>\n",
       "      <td>0.0</td>\n",
       "      <td>0.002</td>\n",
       "      <td>0.0</td>\n",
       "      <td>1927.0</td>\n",
       "      <td>1989.0</td>\n",
       "      <td>...</td>\n",
       "      <td>0.751</td>\n",
       "      <td>263.667</td>\n",
       "      <td>0.821</td>\n",
       "      <td>6.681</td>\n",
       "      <td>0.051</td>\n",
       "      <td>1.000</td>\n",
       "      <td>0.436</td>\n",
       "      <td>1.000</td>\n",
       "      <td>0.0</td>\n",
       "      <td>0.267</td>\n",
       "    </tr>\n",
       "    <tr>\n",
       "      <th>2014</th>\n",
       "      <td>0.279</td>\n",
       "      <td>0.223</td>\n",
       "      <td>jja</td>\n",
       "      <td>son</td>\n",
       "      <td>1.000</td>\n",
       "      <td>0.0</td>\n",
       "      <td>0.000</td>\n",
       "      <td>0.0</td>\n",
       "      <td>1910.0</td>\n",
       "      <td>2015.0</td>\n",
       "      <td>...</td>\n",
       "      <td>NaN</td>\n",
       "      <td>NaN</td>\n",
       "      <td>NaN</td>\n",
       "      <td>NaN</td>\n",
       "      <td>NaN</td>\n",
       "      <td>NaN</td>\n",
       "      <td>NaN</td>\n",
       "      <td>NaN</td>\n",
       "      <td>NaN</td>\n",
       "      <td>0.421</td>\n",
       "    </tr>\n",
       "    <tr>\n",
       "      <th>...</th>\n",
       "      <td>...</td>\n",
       "      <td>...</td>\n",
       "      <td>...</td>\n",
       "      <td>...</td>\n",
       "      <td>...</td>\n",
       "      <td>...</td>\n",
       "      <td>...</td>\n",
       "      <td>...</td>\n",
       "      <td>...</td>\n",
       "      <td>...</td>\n",
       "      <td>...</td>\n",
       "      <td>...</td>\n",
       "      <td>...</td>\n",
       "      <td>...</td>\n",
       "      <td>...</td>\n",
       "      <td>...</td>\n",
       "      <td>...</td>\n",
       "      <td>...</td>\n",
       "      <td>...</td>\n",
       "      <td>...</td>\n",
       "      <td>...</td>\n",
       "    </tr>\n",
       "    <tr>\n",
       "      <th>6007</th>\n",
       "      <td>0.228</td>\n",
       "      <td>0.379</td>\n",
       "      <td>son</td>\n",
       "      <td>djf</td>\n",
       "      <td>1.000</td>\n",
       "      <td>0.0</td>\n",
       "      <td>0.000</td>\n",
       "      <td>0.0</td>\n",
       "      <td>2010.0</td>\n",
       "      <td>2010.0</td>\n",
       "      <td>...</td>\n",
       "      <td>0.715</td>\n",
       "      <td>211.333</td>\n",
       "      <td>1.298</td>\n",
       "      <td>8.789</td>\n",
       "      <td>2.005</td>\n",
       "      <td>1.714</td>\n",
       "      <td>2.451</td>\n",
       "      <td>7.333</td>\n",
       "      <td>0.0</td>\n",
       "      <td>0.393</td>\n",
       "    </tr>\n",
       "    <tr>\n",
       "      <th>6008</th>\n",
       "      <td>NaN</td>\n",
       "      <td>NaN</td>\n",
       "      <td>son</td>\n",
       "      <td>djf</td>\n",
       "      <td>NaN</td>\n",
       "      <td>NaN</td>\n",
       "      <td>NaN</td>\n",
       "      <td>NaN</td>\n",
       "      <td>NaN</td>\n",
       "      <td>NaN</td>\n",
       "      <td>...</td>\n",
       "      <td>0.602</td>\n",
       "      <td>188.875</td>\n",
       "      <td>0.632</td>\n",
       "      <td>10.751</td>\n",
       "      <td>4.385</td>\n",
       "      <td>2.593</td>\n",
       "      <td>29.315</td>\n",
       "      <td>8.069</td>\n",
       "      <td>0.0</td>\n",
       "      <td>-0.603</td>\n",
       "    </tr>\n",
       "    <tr>\n",
       "      <th>6009</th>\n",
       "      <td>NaN</td>\n",
       "      <td>NaN</td>\n",
       "      <td>son</td>\n",
       "      <td>djf</td>\n",
       "      <td>NaN</td>\n",
       "      <td>NaN</td>\n",
       "      <td>NaN</td>\n",
       "      <td>NaN</td>\n",
       "      <td>NaN</td>\n",
       "      <td>NaN</td>\n",
       "      <td>...</td>\n",
       "      <td>0.318</td>\n",
       "      <td>191.714</td>\n",
       "      <td>0.127</td>\n",
       "      <td>15.376</td>\n",
       "      <td>26.897</td>\n",
       "      <td>2.667</td>\n",
       "      <td>155.228</td>\n",
       "      <td>12.056</td>\n",
       "      <td>0.0</td>\n",
       "      <td>0.310</td>\n",
       "    </tr>\n",
       "    <tr>\n",
       "      <th>6010</th>\n",
       "      <td>NaN</td>\n",
       "      <td>NaN</td>\n",
       "      <td>son</td>\n",
       "      <td>djf</td>\n",
       "      <td>NaN</td>\n",
       "      <td>NaN</td>\n",
       "      <td>NaN</td>\n",
       "      <td>NaN</td>\n",
       "      <td>NaN</td>\n",
       "      <td>NaN</td>\n",
       "      <td>...</td>\n",
       "      <td>0.494</td>\n",
       "      <td>198.400</td>\n",
       "      <td>1.002</td>\n",
       "      <td>12.617</td>\n",
       "      <td>12.195</td>\n",
       "      <td>2.103</td>\n",
       "      <td>4.998</td>\n",
       "      <td>3.571</td>\n",
       "      <td>0.0</td>\n",
       "      <td>-0.744</td>\n",
       "    </tr>\n",
       "    <tr>\n",
       "      <th>6011</th>\n",
       "      <td>0.272</td>\n",
       "      <td>0.110</td>\n",
       "      <td>NaN</td>\n",
       "      <td>djf</td>\n",
       "      <td>1.000</td>\n",
       "      <td>0.0</td>\n",
       "      <td>0.000</td>\n",
       "      <td>0.0</td>\n",
       "      <td>1918.0</td>\n",
       "      <td>2010.0</td>\n",
       "      <td>...</td>\n",
       "      <td>0.697</td>\n",
       "      <td>204.250</td>\n",
       "      <td>1.165</td>\n",
       "      <td>10.371</td>\n",
       "      <td>0.000</td>\n",
       "      <td>0.000</td>\n",
       "      <td>0.000</td>\n",
       "      <td>0.000</td>\n",
       "      <td>0.0</td>\n",
       "      <td>0.272</td>\n",
       "    </tr>\n",
       "  </tbody>\n",
       "</table>\n",
       "<p>331 rows × 26 columns</p>\n",
       "</div>"
      ],
      "text/plain": [
       "          p_seasonality  frac_snow high_prec_timing low_prec_timing  \\\n",
       "gauge_id                                                              \n",
       "2004              0.159      0.039              jja             son   \n",
       "2007             -0.118      0.170              djf             son   \n",
       "2009              0.078      0.436              jja             son   \n",
       "2011              0.106      0.474              son             son   \n",
       "2014              0.279      0.223              jja             son   \n",
       "...                 ...        ...              ...             ...   \n",
       "6007              0.228      0.379              son             djf   \n",
       "6008                NaN        NaN              son             djf   \n",
       "6009                NaN        NaN              son             djf   \n",
       "6010                NaN        NaN              son             djf   \n",
       "6011              0.272      0.110              NaN             djf   \n",
       "\n",
       "          reservoir_he  reservoir_fs  reservoir_irr  reservoir_nousedata  \\\n",
       "gauge_id                                                                   \n",
       "2004               NaN           NaN            NaN                  NaN   \n",
       "2007               NaN           NaN            NaN                  NaN   \n",
       "2009             0.999           0.0          0.001                  0.0   \n",
       "2011             0.998           0.0          0.002                  0.0   \n",
       "2014             1.000           0.0          0.000                  0.0   \n",
       "...                ...           ...            ...                  ...   \n",
       "6007             1.000           0.0          0.000                  0.0   \n",
       "6008               NaN           NaN            NaN                  NaN   \n",
       "6009               NaN           NaN            NaN                  NaN   \n",
       "6010               NaN           NaN            NaN                  NaN   \n",
       "6011             1.000           0.0          0.000                  0.0   \n",
       "\n",
       "          reservoir_year_first  reservoir_year_last  ...  \\\n",
       "gauge_id                                             ...   \n",
       "2004                       NaN                  NaN  ...   \n",
       "2007                       NaN                  NaN  ...   \n",
       "2009                    1914.0               1989.0  ...   \n",
       "2011                    1927.0               1989.0  ...   \n",
       "2014                    1910.0               2015.0  ...   \n",
       "...                        ...                  ...  ...   \n",
       "6007                    2010.0               2010.0  ...   \n",
       "6008                       NaN                  NaN  ...   \n",
       "6009                       NaN                  NaN  ...   \n",
       "6010                       NaN                  NaN  ...   \n",
       "6011                    1918.0               2010.0  ...   \n",
       "\n",
       "         baseflow_index_landson hfd_mean     Q5     Q95  high_q_freq  \\\n",
       "gauge_id                                                               \n",
       "2004                        NaN      NaN    NaN     NaN          NaN   \n",
       "2007                        NaN      NaN    NaN     NaN          NaN   \n",
       "2009                      0.787  243.282  1.279   6.207        0.000   \n",
       "2011                      0.751  263.667  0.821   6.681        0.051   \n",
       "2014                        NaN      NaN    NaN     NaN          NaN   \n",
       "...                         ...      ...    ...     ...          ...   \n",
       "6007                      0.715  211.333  1.298   8.789        2.005   \n",
       "6008                      0.602  188.875  0.632  10.751        4.385   \n",
       "6009                      0.318  191.714  0.127  15.376       26.897   \n",
       "6010                      0.494  198.400  1.002  12.617       12.195   \n",
       "6011                      0.697  204.250  1.165  10.371        0.000   \n",
       "\n",
       "          high_q_dur  low_q_freq  low_q_dur  zero_q_freq  silt_perc_skewness  \n",
       "gauge_id                                                                      \n",
       "2004             NaN         NaN        NaN          NaN              -0.252  \n",
       "2007             NaN         NaN        NaN          NaN               0.635  \n",
       "2009           0.000       0.051      2.000          0.0               0.285  \n",
       "2011           1.000       0.436      1.000          0.0               0.267  \n",
       "2014             NaN         NaN        NaN          NaN               0.421  \n",
       "...              ...         ...        ...          ...                 ...  \n",
       "6007           1.714       2.451      7.333          0.0               0.393  \n",
       "6008           2.593      29.315      8.069          0.0              -0.603  \n",
       "6009           2.667     155.228     12.056          0.0               0.310  \n",
       "6010           2.103       4.998      3.571          0.0              -0.744  \n",
       "6011           0.000       0.000      0.000          0.0               0.272  \n",
       "\n",
       "[331 rows x 26 columns]"
      ]
     },
     "execution_count": 49,
     "metadata": {},
     "output_type": "execute_result"
    }
   ],
   "source": [
    "df.loc[:, (df.isna().sum()>0)]"
   ]
  },
  {
   "cell_type": "code",
   "execution_count": 50,
   "metadata": {
    "collapsed": false,
    "execution": {
     "iopub.execute_input": "2024-10-18T21:12:00.254707Z",
     "iopub.status.busy": "2024-10-18T21:12:00.253877Z",
     "iopub.status.idle": "2024-10-18T21:12:00.275356Z",
     "shell.execute_reply": "2024-10-18T21:12:00.274058Z"
    }
   },
   "outputs": [
    {
     "data": {
      "text/plain": [
       "p_seasonality              54\n",
       "frac_snow                  54\n",
       "high_prec_timing           13\n",
       "low_prec_timing             5\n",
       "reservoir_he              223\n",
       "reservoir_fs              223\n",
       "reservoir_irr             223\n",
       "reservoir_nousedata       223\n",
       "reservoir_year_first      223\n",
       "reservoir_year_last       223\n",
       "sign_start_date            42\n",
       "sign_end_date              42\n",
       "q_mean                     42\n",
       "runoff_ratio               42\n",
       "stream_elas                44\n",
       "slope_fdc                  42\n",
       "baseflow_index_landson     42\n",
       "hfd_mean                   42\n",
       "Q5                         42\n",
       "Q95                        42\n",
       "high_q_freq                42\n",
       "high_q_dur                 42\n",
       "low_q_freq                 42\n",
       "low_q_dur                  42\n",
       "zero_q_freq                42\n",
       "silt_perc_skewness          1\n",
       "dtype: int64"
      ]
     },
     "execution_count": 50,
     "metadata": {},
     "output_type": "execute_result"
    }
   ],
   "source": [
    "df.loc[:, (df.isna().sum()>0)].isna().sum()"
   ]
  },
  {
   "cell_type": "code",
   "execution_count": 51,
   "metadata": {
    "collapsed": false,
    "execution": {
     "iopub.execute_input": "2024-10-18T21:12:00.309637Z",
     "iopub.status.busy": "2024-10-18T21:12:00.308615Z",
     "iopub.status.idle": "2024-10-18T21:12:00.318267Z",
     "shell.execute_reply": "2024-10-18T21:12:00.316918Z"
    }
   },
   "outputs": [
    {
     "name": "stdout",
     "output_type": "stream",
     "text": [
      "9\n",
      "obs_q_cms, obs_q_mmd, waterlevel(m), pcp_mm, min_temp_C, mean_temp_C, max_temp_C, rel_sun_dur(%),\n",
      "swe_mm\n"
     ]
    }
   ],
   "source": [
    "print(dataset.num_dynamic())\n",
    "print(textwrap.fill(\", \".join(dataset.dynamic_features), width=100))"
   ]
  },
  {
   "cell_type": "markdown",
   "metadata": {},
   "source": [
    "## CAMELS_DE\n",
    "\n"
   ]
  },
  {
   "cell_type": "code",
   "execution_count": 52,
   "metadata": {
    "collapsed": false,
    "execution": {
     "iopub.execute_input": "2024-10-18T21:12:00.326885Z",
     "iopub.status.busy": "2024-10-18T21:12:00.325633Z",
     "iopub.status.idle": "2024-10-18T21:12:00.767582Z",
     "shell.execute_reply": "2024-10-18T21:12:00.766060Z"
    }
   },
   "outputs": [
    {
     "name": "stdout",
     "output_type": "stream",
     "text": [
      "RainfallRunoff(CAMELS_DE) with 1555 stations, 21 dynamic and 111 static features\n"
     ]
    }
   ],
   "source": [
    "dataset = RainfallRunoff('CAMELS_DE', path=os.path.join(gscad_path, 'CAMELS'), verbosity=0)\n",
    "print(dataset)"
   ]
  },
  {
   "cell_type": "code",
   "execution_count": 53,
   "metadata": {
    "collapsed": false,
    "execution": {
     "iopub.execute_input": "2024-10-18T21:12:00.776855Z",
     "iopub.status.busy": "2024-10-18T21:12:00.775935Z",
     "iopub.status.idle": "2024-10-18T21:12:00.907383Z",
     "shell.execute_reply": "2024-10-18T21:12:00.905830Z"
    }
   },
   "outputs": [
    {
     "name": "stdout",
     "output_type": "stream",
     "text": [
      "p_mean, p_seasonality, frac_snow, high_prec_freq, high_prec_dur, high_prec_timing, low_prec_freq,\n",
      "low_prec_dur, low_prec_timing, dams_names, dams_river_names, dams_num, dams_year_first,\n",
      "dams_year_last, dams_total_lake_area, dams_total_lake_volume, dams_purposes, aquitard_perc,\n",
      "aquifer_perc, aquifer_aquitard_mixed_perc, kf_very_high_perc, kf_high_perc, kf_medium_perc,\n",
      "kf_moderate_perc, kf_low_perc, kf_very_low_perc, kf_extremely_low_perc, kf_very_high_to_high_perc,\n",
      "kf_medium_to_moderate_perc, kf_low_to_extremely_low_perc, kf_highly_variable_perc,\n",
      "kf_moderate_to_low_perc, cavity_fissure_perc, cavity_pores_perc, cavity_fissure_karst_perc,\n",
      "cavity_fissure_pores_perc, rocktype_sediment_perc, rocktype_metamorphite_perc,\n",
      "rocktype_magmatite_perc, consolidation_solid_rock_perc, consolidation_unconsolidated_rock_perc,\n",
      "geochemical_rocktype_silicate_perc, geochemical_rocktype_silicate_carbonatic_perc,\n",
      "geochemical_rocktype_carbonatic_perc, geochemical_rocktype_sulfatic_perc,\n",
      "geochemical_rocktype_silicate_organic_components_perc,\n",
      "geochemical_rocktype_anthropogenically_modified_through_filling_perc,\n",
      "geochemical_rocktype_sulfatic_halitic_perc, geochemical_rocktype_halitic_perc, waterbody_perc,\n",
      "no_data_perc, q_mean, runoff_ratio, flow_period_start, flow_period_end, flow_perc_complete,\n",
      "slope_fdc, hfd_mean, Q5, Q95, high_q_freq, high_q_dur, low_q_freq, low_q_dur, zero_q_freq,\n",
      "artificial_surfaces_perc, agricultural_areas_perc, forests_and_seminatural_areas_perc,\n",
      "wetlands_perc, water_bodies_perc, training_perc_complete, validation_perc_complete,\n",
      "testing_perc_complete, NSE_lstm, NSE_conceptual, clay_0_30cm_mean, clay_30_100cm_mean,\n",
      "clay_100_200cm_mean, silt_0_30cm_mean, silt_30_100cm_mean, silt_100_200cm_mean, sand_0_30cm_mean,\n",
      "sand_30_100cm_mean, sand_100_200cm_mean, coarse_fragments_0_30cm_mean,\n",
      "coarse_fragments_30_100cm_mean, coarse_fragments_100_200cm_mean, bulk_density_0_30cm_mean,\n",
      "bulk_density_30_100cm_mean, bulk_density_100_200cm_mean, soil_organic_carbon_0_30cm_mean,\n",
      "soil_organic_carbon_30_100cm_mean, soil_organic_carbon_100_200cm_mean, provider_id, gauge_name,\n",
      "water_body_name, federal_state, gauge_lat, gauge_lon, gauge_easting, gauge_northing,\n",
      "gauge_elev_metadata, area_metadata, gauge_elev, area, elev_mean, elev_min, elev_5, elev_50, elev_95,\n",
      "elev_max\n"
     ]
    }
   ],
   "source": [
    "print(textwrap.fill(\", \".join(dataset.static_features), width=100))"
   ]
  },
  {
   "cell_type": "code",
   "execution_count": 54,
   "metadata": {
    "collapsed": false,
    "execution": {
     "iopub.execute_input": "2024-10-18T21:12:00.915566Z",
     "iopub.status.busy": "2024-10-18T21:12:00.914623Z",
     "iopub.status.idle": "2024-10-18T21:12:01.076312Z",
     "shell.execute_reply": "2024-10-18T21:12:01.074877Z"
    }
   },
   "outputs": [
    {
     "name": "stdout",
     "output_type": "stream",
     "text": [
      "(1555, 111)\n"
     ]
    }
   ],
   "source": [
    "df = dataset.fetch_static_features()\n",
    "print(df.shape)"
   ]
  },
  {
   "cell_type": "code",
   "execution_count": 55,
   "metadata": {
    "collapsed": false,
    "execution": {
     "iopub.execute_input": "2024-10-18T21:12:01.086674Z",
     "iopub.status.busy": "2024-10-18T21:12:01.085762Z",
     "iopub.status.idle": "2024-10-18T21:12:01.124065Z",
     "shell.execute_reply": "2024-10-18T21:12:01.122771Z"
    }
   },
   "outputs": [
    {
     "name": "stdout",
     "output_type": "stream",
     "text": [
      "6862\n"
     ]
    },
    {
     "data": {
      "text/plain": [
       "p_mean            0\n",
       "p_seasonality     0\n",
       "frac_snow         0\n",
       "high_prec_freq    0\n",
       "high_prec_dur     0\n",
       "                 ..\n",
       "elev_min          0\n",
       "elev_5            0\n",
       "elev_50           0\n",
       "elev_95           0\n",
       "elev_max          0\n",
       "Length: 111, dtype: int64"
      ]
     },
     "execution_count": 55,
     "metadata": {},
     "output_type": "execute_result"
    }
   ],
   "source": [
    "print(df.isna().sum().sum())\n",
    "df.isna().sum()"
   ]
  },
  {
   "cell_type": "markdown",
   "metadata": {},
   "source": [
    "find those columns which have at least one NaN value\n",
    "\n"
   ]
  },
  {
   "cell_type": "code",
   "execution_count": 56,
   "metadata": {
    "collapsed": false,
    "execution": {
     "iopub.execute_input": "2024-10-18T21:12:01.133736Z",
     "iopub.status.busy": "2024-10-18T21:12:01.132468Z",
     "iopub.status.idle": "2024-10-18T21:12:01.184808Z",
     "shell.execute_reply": "2024-10-18T21:12:01.183164Z"
    }
   },
   "outputs": [
    {
     "data": {
      "text/html": [
       "<div>\n",
       "<style scoped>\n",
       "    .dataframe tbody tr th:only-of-type {\n",
       "        vertical-align: middle;\n",
       "    }\n",
       "\n",
       "    .dataframe tbody tr th {\n",
       "        vertical-align: top;\n",
       "    }\n",
       "\n",
       "    .dataframe thead th {\n",
       "        text-align: right;\n",
       "    }\n",
       "</style>\n",
       "<table border=\"1\" class=\"dataframe\">\n",
       "  <thead>\n",
       "    <tr style=\"text-align: right;\">\n",
       "      <th></th>\n",
       "      <th>high_prec_timing</th>\n",
       "      <th>low_prec_timing</th>\n",
       "      <th>dams_names</th>\n",
       "      <th>dams_river_names</th>\n",
       "      <th>dams_year_first</th>\n",
       "      <th>dams_year_last</th>\n",
       "      <th>dams_total_lake_area</th>\n",
       "      <th>dams_total_lake_volume</th>\n",
       "      <th>dams_purposes</th>\n",
       "      <th>NSE_lstm</th>\n",
       "      <th>NSE_conceptual</th>\n",
       "      <th>gauge_elev_metadata</th>\n",
       "    </tr>\n",
       "    <tr>\n",
       "      <th>gauge_id</th>\n",
       "      <th></th>\n",
       "      <th></th>\n",
       "      <th></th>\n",
       "      <th></th>\n",
       "      <th></th>\n",
       "      <th></th>\n",
       "      <th></th>\n",
       "      <th></th>\n",
       "      <th></th>\n",
       "      <th></th>\n",
       "      <th></th>\n",
       "      <th></th>\n",
       "    </tr>\n",
       "  </thead>\n",
       "  <tbody>\n",
       "    <tr>\n",
       "      <th>DEA11180</th>\n",
       "      <td>jja</td>\n",
       "      <td>mam</td>\n",
       "      <td>Aabachtalsperre|Borchen Hochwasserrückhaltebec...</td>\n",
       "      <td>Aabookach (Afte)|Afte bzw. Wiele|Altenau (Alme...</td>\n",
       "      <td>1930.0</td>\n",
       "      <td>1996.0</td>\n",
       "      <td>10.28</td>\n",
       "      <td>71.90</td>\n",
       "      <td>Water supply|Recreational use|Flood control</td>\n",
       "      <td>0.929</td>\n",
       "      <td>0.854</td>\n",
       "      <td>30.86</td>\n",
       "    </tr>\n",
       "    <tr>\n",
       "      <th>DEE10940</th>\n",
       "      <td>jja</td>\n",
       "      <td>mam</td>\n",
       "      <td>NaN</td>\n",
       "      <td>NaN</td>\n",
       "      <td>NaN</td>\n",
       "      <td>NaN</td>\n",
       "      <td>0.00</td>\n",
       "      <td>0.00</td>\n",
       "      <td>NaN</td>\n",
       "      <td>0.094</td>\n",
       "      <td>0.140</td>\n",
       "      <td>69.77</td>\n",
       "    </tr>\n",
       "    <tr>\n",
       "      <th>DE911160</th>\n",
       "      <td>jja</td>\n",
       "      <td>mam</td>\n",
       "      <td>NaN</td>\n",
       "      <td>NaN</td>\n",
       "      <td>NaN</td>\n",
       "      <td>NaN</td>\n",
       "      <td>0.00</td>\n",
       "      <td>0.00</td>\n",
       "      <td>NaN</td>\n",
       "      <td>0.841</td>\n",
       "      <td>0.844</td>\n",
       "      <td>NaN</td>\n",
       "    </tr>\n",
       "    <tr>\n",
       "      <th>DE212640</th>\n",
       "      <td>jja</td>\n",
       "      <td>son</td>\n",
       "      <td>NaN</td>\n",
       "      <td>NaN</td>\n",
       "      <td>NaN</td>\n",
       "      <td>NaN</td>\n",
       "      <td>0.00</td>\n",
       "      <td>0.00</td>\n",
       "      <td>NaN</td>\n",
       "      <td>0.727</td>\n",
       "      <td>0.620</td>\n",
       "      <td>326.68</td>\n",
       "    </tr>\n",
       "    <tr>\n",
       "      <th>DE112130</th>\n",
       "      <td>mam</td>\n",
       "      <td>mam</td>\n",
       "      <td>NaN</td>\n",
       "      <td>NaN</td>\n",
       "      <td>NaN</td>\n",
       "      <td>NaN</td>\n",
       "      <td>0.00</td>\n",
       "      <td>0.00</td>\n",
       "      <td>NaN</td>\n",
       "      <td>0.688</td>\n",
       "      <td>0.605</td>\n",
       "      <td>105.48</td>\n",
       "    </tr>\n",
       "    <tr>\n",
       "      <th>...</th>\n",
       "      <td>...</td>\n",
       "      <td>...</td>\n",
       "      <td>...</td>\n",
       "      <td>...</td>\n",
       "      <td>...</td>\n",
       "      <td>...</td>\n",
       "      <td>...</td>\n",
       "      <td>...</td>\n",
       "      <td>...</td>\n",
       "      <td>...</td>\n",
       "      <td>...</td>\n",
       "      <td>...</td>\n",
       "    </tr>\n",
       "    <tr>\n",
       "      <th>DEF13210</th>\n",
       "      <td>jja</td>\n",
       "      <td>mam</td>\n",
       "      <td>NaN</td>\n",
       "      <td>NaN</td>\n",
       "      <td>NaN</td>\n",
       "      <td>NaN</td>\n",
       "      <td>0.00</td>\n",
       "      <td>0.00</td>\n",
       "      <td>NaN</td>\n",
       "      <td>0.917</td>\n",
       "      <td>NaN</td>\n",
       "      <td>NaN</td>\n",
       "    </tr>\n",
       "    <tr>\n",
       "      <th>DEF10460</th>\n",
       "      <td>jja</td>\n",
       "      <td>mam</td>\n",
       "      <td>NaN</td>\n",
       "      <td>NaN</td>\n",
       "      <td>NaN</td>\n",
       "      <td>NaN</td>\n",
       "      <td>0.00</td>\n",
       "      <td>0.00</td>\n",
       "      <td>NaN</td>\n",
       "      <td>0.574</td>\n",
       "      <td>0.355</td>\n",
       "      <td>NaN</td>\n",
       "    </tr>\n",
       "    <tr>\n",
       "      <th>DE912320</th>\n",
       "      <td>jja</td>\n",
       "      <td>mam</td>\n",
       "      <td>NaN</td>\n",
       "      <td>NaN</td>\n",
       "      <td>NaN</td>\n",
       "      <td>NaN</td>\n",
       "      <td>0.00</td>\n",
       "      <td>0.00</td>\n",
       "      <td>NaN</td>\n",
       "      <td>0.770</td>\n",
       "      <td>0.589</td>\n",
       "      <td>NaN</td>\n",
       "    </tr>\n",
       "    <tr>\n",
       "      <th>DEA11090</th>\n",
       "      <td>jja</td>\n",
       "      <td>mam</td>\n",
       "      <td>Aabachtalsperre|Borchen Hochwasserrückhaltebec...</td>\n",
       "      <td>Afte bzw. Wiele|Aabookach (Afte)|Altenau (Alme...</td>\n",
       "      <td>1974.0</td>\n",
       "      <td>1996.0</td>\n",
       "      <td>5.37</td>\n",
       "      <td>39.41</td>\n",
       "      <td>Water supply|Flood control</td>\n",
       "      <td>0.928</td>\n",
       "      <td>0.884</td>\n",
       "      <td>63.64</td>\n",
       "    </tr>\n",
       "    <tr>\n",
       "      <th>DE213310</th>\n",
       "      <td>jja</td>\n",
       "      <td>son</td>\n",
       "      <td>NaN</td>\n",
       "      <td>NaN</td>\n",
       "      <td>NaN</td>\n",
       "      <td>NaN</td>\n",
       "      <td>0.00</td>\n",
       "      <td>0.00</td>\n",
       "      <td>NaN</td>\n",
       "      <td>0.637</td>\n",
       "      <td>0.512</td>\n",
       "      <td>542.11</td>\n",
       "    </tr>\n",
       "  </tbody>\n",
       "</table>\n",
       "<p>1555 rows × 12 columns</p>\n",
       "</div>"
      ],
      "text/plain": [
       "         high_prec_timing low_prec_timing  \\\n",
       "gauge_id                                    \n",
       "DEA11180              jja             mam   \n",
       "DEE10940              jja             mam   \n",
       "DE911160              jja             mam   \n",
       "DE212640              jja             son   \n",
       "DE112130              mam             mam   \n",
       "...                   ...             ...   \n",
       "DEF13210              jja             mam   \n",
       "DEF10460              jja             mam   \n",
       "DE912320              jja             mam   \n",
       "DEA11090              jja             mam   \n",
       "DE213310              jja             son   \n",
       "\n",
       "                                                 dams_names  \\\n",
       "gauge_id                                                      \n",
       "DEA11180  Aabachtalsperre|Borchen Hochwasserrückhaltebec...   \n",
       "DEE10940                                                NaN   \n",
       "DE911160                                                NaN   \n",
       "DE212640                                                NaN   \n",
       "DE112130                                                NaN   \n",
       "...                                                     ...   \n",
       "DEF13210                                                NaN   \n",
       "DEF10460                                                NaN   \n",
       "DE912320                                                NaN   \n",
       "DEA11090  Aabachtalsperre|Borchen Hochwasserrückhaltebec...   \n",
       "DE213310                                                NaN   \n",
       "\n",
       "                                           dams_river_names  dams_year_first  \\\n",
       "gauge_id                                                                       \n",
       "DEA11180  Aabookach (Afte)|Afte bzw. Wiele|Altenau (Alme...           1930.0   \n",
       "DEE10940                                                NaN              NaN   \n",
       "DE911160                                                NaN              NaN   \n",
       "DE212640                                                NaN              NaN   \n",
       "DE112130                                                NaN              NaN   \n",
       "...                                                     ...              ...   \n",
       "DEF13210                                                NaN              NaN   \n",
       "DEF10460                                                NaN              NaN   \n",
       "DE912320                                                NaN              NaN   \n",
       "DEA11090  Afte bzw. Wiele|Aabookach (Afte)|Altenau (Alme...           1974.0   \n",
       "DE213310                                                NaN              NaN   \n",
       "\n",
       "          dams_year_last  dams_total_lake_area  dams_total_lake_volume  \\\n",
       "gauge_id                                                                 \n",
       "DEA11180          1996.0                 10.28                   71.90   \n",
       "DEE10940             NaN                  0.00                    0.00   \n",
       "DE911160             NaN                  0.00                    0.00   \n",
       "DE212640             NaN                  0.00                    0.00   \n",
       "DE112130             NaN                  0.00                    0.00   \n",
       "...                  ...                   ...                     ...   \n",
       "DEF13210             NaN                  0.00                    0.00   \n",
       "DEF10460             NaN                  0.00                    0.00   \n",
       "DE912320             NaN                  0.00                    0.00   \n",
       "DEA11090          1996.0                  5.37                   39.41   \n",
       "DE213310             NaN                  0.00                    0.00   \n",
       "\n",
       "                                        dams_purposes  NSE_lstm  \\\n",
       "gauge_id                                                          \n",
       "DEA11180  Water supply|Recreational use|Flood control     0.929   \n",
       "DEE10940                                          NaN     0.094   \n",
       "DE911160                                          NaN     0.841   \n",
       "DE212640                                          NaN     0.727   \n",
       "DE112130                                          NaN     0.688   \n",
       "...                                               ...       ...   \n",
       "DEF13210                                          NaN     0.917   \n",
       "DEF10460                                          NaN     0.574   \n",
       "DE912320                                          NaN     0.770   \n",
       "DEA11090                   Water supply|Flood control     0.928   \n",
       "DE213310                                          NaN     0.637   \n",
       "\n",
       "          NSE_conceptual  gauge_elev_metadata  \n",
       "gauge_id                                       \n",
       "DEA11180           0.854                30.86  \n",
       "DEE10940           0.140                69.77  \n",
       "DE911160           0.844                  NaN  \n",
       "DE212640           0.620               326.68  \n",
       "DE112130           0.605               105.48  \n",
       "...                  ...                  ...  \n",
       "DEF13210             NaN                  NaN  \n",
       "DEF10460           0.355                  NaN  \n",
       "DE912320           0.589                  NaN  \n",
       "DEA11090           0.884                63.64  \n",
       "DE213310           0.512               542.11  \n",
       "\n",
       "[1555 rows x 12 columns]"
      ]
     },
     "execution_count": 56,
     "metadata": {},
     "output_type": "execute_result"
    }
   ],
   "source": [
    "df.loc[:, (df.isna().sum()>0)]"
   ]
  },
  {
   "cell_type": "code",
   "execution_count": 57,
   "metadata": {
    "collapsed": false,
    "execution": {
     "iopub.execute_input": "2024-10-18T21:12:01.195681Z",
     "iopub.status.busy": "2024-10-18T21:12:01.194238Z",
     "iopub.status.idle": "2024-10-18T21:12:01.223669Z",
     "shell.execute_reply": "2024-10-18T21:12:01.222351Z"
    }
   },
   "outputs": [
    {
     "data": {
      "text/plain": [
       "high_prec_timing             8\n",
       "low_prec_timing              3\n",
       "dams_names                1240\n",
       "dams_river_names          1240\n",
       "dams_year_first           1251\n",
       "dams_year_last            1251\n",
       "dams_total_lake_area        41\n",
       "dams_total_lake_volume       2\n",
       "dams_purposes             1241\n",
       "NSE_lstm                    43\n",
       "NSE_conceptual             157\n",
       "gauge_elev_metadata        385\n",
       "dtype: int64"
      ]
     },
     "execution_count": 57,
     "metadata": {},
     "output_type": "execute_result"
    }
   ],
   "source": [
    "df.loc[:, (df.isna().sum()>0)].isna().sum()"
   ]
  },
  {
   "cell_type": "code",
   "execution_count": 58,
   "metadata": {
    "collapsed": false,
    "execution": {
     "iopub.execute_input": "2024-10-18T21:12:01.233748Z",
     "iopub.status.busy": "2024-10-18T21:12:01.232585Z",
     "iopub.status.idle": "2024-10-18T21:12:01.834579Z",
     "shell.execute_reply": "2024-10-18T21:12:01.833089Z"
    }
   },
   "outputs": [
    {
     "name": "stdout",
     "output_type": "stream",
     "text": [
      "21\n"
     ]
    },
    {
     "name": "stdout",
     "output_type": "stream",
     "text": [
      "obs_q_cms, obs_q_mmd, water_level, mean_pcp_mm, min_pcp_mm, median_pcp_mm, max_pcp_mm, std_pcp_mm,\n",
      "mean_rh_%, min_rh_%, median_rh_%, max_rh_%, std_rh_%, radiation_global_mean, radiation_global_min,\n",
      "radiation_global_median, radiation_global_max, radiation_global_stdev, mean_temp_C, min_temp_C,\n",
      "max_temp_C\n"
     ]
    }
   ],
   "source": [
    "print(dataset.num_dynamic())\n",
    "print(textwrap.fill(\", \".join(dataset.dynamic_features), width=100))"
   ]
  },
  {
   "cell_type": "markdown",
   "metadata": {},
   "source": [
    "## CAMELS_SE\n",
    "\n"
   ]
  },
  {
   "cell_type": "code",
   "execution_count": 59,
   "metadata": {
    "collapsed": false,
    "execution": {
     "iopub.execute_input": "2024-10-18T21:12:01.843071Z",
     "iopub.status.busy": "2024-10-18T21:12:01.841937Z",
     "iopub.status.idle": "2024-10-18T21:12:01.920394Z",
     "shell.execute_reply": "2024-10-18T21:12:01.919013Z"
    }
   },
   "outputs": [
    {
     "name": "stdout",
     "output_type": "stream",
     "text": [
      "RainfallRunoff(CAMELS_SE) with 50 stations, 4 dynamic and 76 static features\n"
     ]
    }
   ],
   "source": [
    "dataset = RainfallRunoff('CAMELS_SE', path=os.path.join(gscad_path, 'CAMELS'), verbosity=0)\n",
    "print(dataset)"
   ]
  },
  {
   "cell_type": "code",
   "execution_count": 60,
   "metadata": {
    "collapsed": false,
    "execution": {
     "iopub.execute_input": "2024-10-18T21:12:01.930658Z",
     "iopub.status.busy": "2024-10-18T21:12:01.929226Z",
     "iopub.status.idle": "2024-10-18T21:12:01.940254Z",
     "shell.execute_reply": "2024-10-18T21:12:01.938714Z"
    }
   },
   "outputs": [
    {
     "name": "stdout",
     "output_type": "stream",
     "text": [
      "S02_Qcoeff_CNP_91_20, S07_Qmean_autumn_hs, Name, S14_T_maxQ_d1_CNP_61_90, Water_percentage,\n",
      "S09_LFfreq_CNP_91_20, Forest_percentage, S08_Qmean_winter_hs, S14_T_maxQ_d1_hs, Elevation_mabsl,\n",
      "S14_T_maxQ_d1_CNP_91_20, Shrubs_and_grassland_percentage, Slope_mean_degree, Latitude_WGS84,\n",
      "S05_Qmean_spring_CNP_91_20, S07_Qmean_autumn_CNP_91_20, S05_Qmean_spring_CNP_61_90,\n",
      "Postglacial_sand_and_gravel_percentage_sc, S13_HFfreq_CNP_61_90, S15_maxQ_d30_CNP_91_20,\n",
      "S10_T_minQ_d30_hs, S05_Qmean_spring_hs, S09_LFfreq_hs, DOR, RegVol_m3, Till_percentage_sc,\n",
      "S12_minQ_d30_hs, Longitude_WGS84, Open_land_percentage, S15_maxQ_d30_hs, S01_Qmean_CNP_61_90,\n",
      "S08_Qmean_winter_CNP_61_90, Bedrock_percentage_sc, S08_Qmean_winter_CNP_91_20,\n",
      "S15_maxQ_d30_CNP_61_90, S04_SPD_CNP_61_90, S04_SPD_CNP_91_20, S03_COM_hs, S12_minQ_d30_CNP_91_20,\n",
      "Pmean_mm_year, S16_maxQ_d1_CNP_91_20, Area_km2, Till_and_weathered_deposit_percentage_sc,\n",
      "S12_minQ_d30_CNP_61_90, S03_COM_CNP_91_20, Glaciers_percentage, S06_Qmean_summer_CNP_91_20,\n",
      "S10_T_minQ_d30_CNP_91_20, Silt_percentage_sc, S03_COM_CNP_61_90, S13_HFfreq_CNP_91_20,\n",
      "S11_minQ_d7_CNP_61_90, Wetlands_percentage, S16_maxQ_d1_hs, S02_Qcoeff_CNP_61_90, S11_minQ_d7_hs,\n",
      "Peat_percentage_sc, S11_minQ_d7_CNP_91_20, Glacier_percentage_sc, Urban_percentage, S13_HFfreq_hs,\n",
      "S04_SPD_hs, S06_Qmean_summer_CNP_61_90, S01_Qmean_hs, Water_percentage_sc,\n",
      "Clayey_till_and_clay_till_percentage_sc, S02_Qcoeff_hs, S16_maxQ_d1_CNP_61_90, S06_Qmean_summer_hs,\n",
      "S10_T_minQ_d30_CNP_61_90, S01_Qmean_CNP_91_20, S07_Qmean_autumn_CNP_61_90, Tmean_C,\n",
      "S09_LFfreq_CNP_61_90, Glaciofluvial_sediment_percentage_sc, Agriculture_percentage\n"
     ]
    }
   ],
   "source": [
    "print(textwrap.fill(\", \".join(dataset.static_features), width=100))"
   ]
  },
  {
   "cell_type": "code",
   "execution_count": 61,
   "metadata": {
    "collapsed": false,
    "execution": {
     "iopub.execute_input": "2024-10-18T21:12:01.946620Z",
     "iopub.status.busy": "2024-10-18T21:12:01.945832Z",
     "iopub.status.idle": "2024-10-18T21:12:01.996975Z",
     "shell.execute_reply": "2024-10-18T21:12:01.995681Z"
    }
   },
   "outputs": [
    {
     "name": "stdout",
     "output_type": "stream",
     "text": [
      "(50, 76)\n"
     ]
    }
   ],
   "source": [
    "df = dataset.fetch_static_features()\n",
    "print(df.shape)"
   ]
  },
  {
   "cell_type": "code",
   "execution_count": 62,
   "metadata": {
    "collapsed": false,
    "execution": {
     "iopub.execute_input": "2024-10-18T21:12:02.008852Z",
     "iopub.status.busy": "2024-10-18T21:12:02.007525Z",
     "iopub.status.idle": "2024-10-18T21:12:02.027654Z",
     "shell.execute_reply": "2024-10-18T21:12:02.026327Z"
    }
   },
   "outputs": [
    {
     "name": "stdout",
     "output_type": "stream",
     "text": [
      "0\n"
     ]
    },
    {
     "data": {
      "text/plain": [
       "S02_Qcoeff_CNP_91_20                    0\n",
       "S07_Qmean_autumn_hs                     0\n",
       "Name                                    0\n",
       "S14_T_maxQ_d1_CNP_61_90                 0\n",
       "Water_percentage                        0\n",
       "                                       ..\n",
       "S07_Qmean_autumn_CNP_61_90              0\n",
       "Tmean_C                                 0\n",
       "S09_LFfreq_CNP_61_90                    0\n",
       "Glaciofluvial_sediment_percentage_sc    0\n",
       "Agriculture_percentage                  0\n",
       "Length: 76, dtype: int64"
      ]
     },
     "execution_count": 62,
     "metadata": {},
     "output_type": "execute_result"
    }
   ],
   "source": [
    "print(df.isna().sum().sum())\n",
    "df.isna().sum()"
   ]
  },
  {
   "cell_type": "markdown",
   "metadata": {},
   "source": [
    "find those columns which have at least one NaN value\n",
    "\n"
   ]
  },
  {
   "cell_type": "code",
   "execution_count": 63,
   "metadata": {
    "collapsed": false,
    "execution": {
     "iopub.execute_input": "2024-10-18T21:12:02.034805Z",
     "iopub.status.busy": "2024-10-18T21:12:02.033992Z",
     "iopub.status.idle": "2024-10-18T21:12:02.045873Z",
     "shell.execute_reply": "2024-10-18T21:12:02.044519Z"
    }
   },
   "outputs": [
    {
     "name": "stdout",
     "output_type": "stream",
     "text": [
      "No NaN values\n"
     ]
    }
   ],
   "source": [
    "if df.isna().sum().sum()>0:\n",
    "    df.loc[:, (df.isna().sum()>0)]\n",
    "else:\n",
    "    print('No NaN values')"
   ]
  },
  {
   "cell_type": "code",
   "execution_count": 64,
   "metadata": {
    "collapsed": false,
    "execution": {
     "iopub.execute_input": "2024-10-18T21:12:02.052092Z",
     "iopub.status.busy": "2024-10-18T21:12:02.051009Z",
     "iopub.status.idle": "2024-10-18T21:12:02.066938Z",
     "shell.execute_reply": "2024-10-18T21:12:02.065645Z"
    }
   },
   "outputs": [
    {
     "data": {
      "text/plain": [
       "Series([], dtype: float64)"
      ]
     },
     "execution_count": 64,
     "metadata": {},
     "output_type": "execute_result"
    }
   ],
   "source": [
    "df.loc[:, (df.isna().sum()>0)].isna().sum()"
   ]
  },
  {
   "cell_type": "code",
   "execution_count": 65,
   "metadata": {
    "collapsed": false,
    "execution": {
     "iopub.execute_input": "2024-10-18T21:12:02.072800Z",
     "iopub.status.busy": "2024-10-18T21:12:02.072101Z",
     "iopub.status.idle": "2024-10-18T21:12:02.080700Z",
     "shell.execute_reply": "2024-10-18T21:12:02.079488Z"
    }
   },
   "outputs": [
    {
     "name": "stdout",
     "output_type": "stream",
     "text": [
      "4\n",
      "obs_q_cms, obs_q_mmd, pcp_mm, mean_temp_C\n"
     ]
    }
   ],
   "source": [
    "print(dataset.num_dynamic())\n",
    "print(textwrap.fill(\", \".join(dataset.dynamic_features), width=100))"
   ]
  },
  {
   "cell_type": "markdown",
   "metadata": {},
   "source": [
    "## CAMELS_IND\n",
    "\n"
   ]
  },
  {
   "cell_type": "code",
   "execution_count": 66,
   "metadata": {
    "collapsed": false,
    "execution": {
     "iopub.execute_input": "2024-10-18T21:12:02.089049Z",
     "iopub.status.busy": "2024-10-18T21:12:02.087855Z",
     "iopub.status.idle": "2024-10-18T21:12:02.682485Z",
     "shell.execute_reply": "2024-10-18T21:12:02.680630Z"
    }
   },
   "outputs": [
    {
     "name": "stdout",
     "output_type": "stream",
     "text": [
      "RainfallRunoff(CAMELS_IND) with 472 stations, 20 dynamic and 210 static features\n"
     ]
    }
   ],
   "source": [
    "dataset = RainfallRunoff('CAMELS_IND', path=os.path.join(gscad_path, 'CAMELS'), verbosity=0)\n",
    "print(dataset)"
   ]
  },
  {
   "cell_type": "code",
   "execution_count": 67,
   "metadata": {
    "collapsed": false,
    "execution": {
     "iopub.execute_input": "2024-10-18T21:12:02.693284Z",
     "iopub.status.busy": "2024-10-18T21:12:02.691600Z",
     "iopub.status.idle": "2024-10-18T21:12:02.703993Z",
     "shell.execute_reply": "2024-10-18T21:12:02.702375Z"
    }
   },
   "outputs": [
    {
     "name": "stdout",
     "output_type": "stream",
     "text": [
      "cwc_lat, cwc_lon, ghi_lat, ghi_lon, elev_mean, elev_median, elev_min, elev_max, slope_mean,\n",
      "slope_median, slope_min, slope_max, cwc_area, ghi_area, gauge_elevation, dspbar, soil_depth,\n",
      "soil_conductivity_top, soil_conductivity_sub, soil_awc_top, soil_awc_sub, soil_awsc_min,\n",
      "soil_awsc_max, soil_awsc_major, sand_frac_top, sand_frac_sub, silt_frac_top, silt_frac_sub,\n",
      "clay_frac_top, clay_frac_sub, gravel_frac_top, gravel_frac_sub, bulkdens_top_major,\n",
      "bulkdense_top_mean, bulkdens_sub_major, bulkdens_sub_mean, org_carb_top_major, org_carb_top_mean,\n",
      "org_carb_sub_major, org_carb_sub_mean, organic_frac_top, organic_frac_sub, hsg_major, wtd, p_mean,\n",
      "p_max, p_mean_anum, p_monthly_variability, p_annual_variability, p_unif, high_prec_freq,\n",
      "high_prec_dur, max_high_prec_dur, high_prec_timing, low_prec_freq, low_prec_dur, max_low_prec_dur,\n",
      "low_prec_timing, asynchronicity, tmin_mean, tmax_mean, pet_mean, pet_min, pet_max, pet_mean_anum,\n",
      "pet_gleam_mean, aet_gleam_mean, evap_canopy_mean, evap_canopy_min, evap_canopy_max,\n",
      "evap_canopy_anum, evap_surface_mean, evap_surface_min, evap_surface_max, evap_surface_anum,\n",
      "aridity_p_pet, aridity_pet_aet, ai_mean, rel_hum_mean, srad_lw_mean, srad_sw_mean, wind_mean,\n",
      "sm_lvl1_mean, sm_lvl2_mean, sm_lvl3_mean, sm_lvl4_mean, num_dams, res_store_sum, n_dams,\n",
      "first_dam_year, last_dam_year, total_storage, reservoir_index, irrigation_frac, hydroelec_frac,\n",
      "drinking_frac, flood_frac, overflow_frac, navigation_frac, tailing_frac, pop_density_2000,\n",
      "pop_density_2005, pop_density_2010, pop_density_2015, pop_density_2020, urban_frac_1985,\n",
      "urban_frac_1995, urban_frac_2005, crops_frac_1985, crops_frac_1995, crops_frac_2005, water_frac,\n",
      "trees_frac, flooded_veg_frac, crops_frac, built_area_frac, bare_frac, range_frac, dom_land_cover,\n",
      "dom_land_cover_frac, lai_mean, lai_min, lai_max, lai_diff, geol_porosity, geol_permeability,\n",
      "geol_class_1st, geol_class_1st_frac, geol_class_2nd, geol_class_2nd_frac, carb_rocks_frac, q_mean,\n",
      "runoff_ratio, streamflow_elas, slope_fdc, bfi, q_cv, q_10, q_25, q_50, q_75, q_90, q_zero,\n",
      "q_low_days, freq_q_low, q_high_days, freq_q_high, annual_q, mean_anum_flow, cen_time, gini_flow,\n",
      "annual_max_1day, annual_max_3day, annual_max_7day, annual_max_30day, annual_max_90day,\n",
      "annual_min_7day, month_1day_max, month_1day_min, doy_min_flow, doy_max_flow, doy_min_flow_7,\n",
      "doy_max_flow_7, mean_jan_flow, mean_feb_flow, mean_mar_flow, mean_apr_flow, mean_may_flow,\n",
      "mean_jun_flow, mean_jul_flow, mean_aug_flow, mean_sep_flow, mean_oct_flow, mean_nov_flow,\n",
      "mean_dec_flow, cv_jan_flow, cv_feb_flow, cv_mar_flow, cv_apr_flow, cv_may_flow, cv_jun_flow,\n",
      "cv_jul_flow, cv_aug_flow, cv_sep_flow, cv_oct_flow, cv_nov_flow, cv_dec_flow, mean_swmn_flow,\n",
      "mean_atmn_flow, mean_wint_flow, mean_sumr_flow, q_mean_swmn, q_5_swmn, q_25_swmn, q_50_swmn,\n",
      "q_75_swmn, q_95_swmn, rise_rate_mean, rise_rate_median, rise_days, fall_rate_mean, fall_rate_median,\n",
      "fall_days, num_hyd_alt, ghi_stn_id, cwc_site_name, river_basin, cwc_river, ghi_group,\n",
      "flow_availability\n"
     ]
    }
   ],
   "source": [
    "print(textwrap.fill(\", \".join(dataset.static_features), width=100))"
   ]
  },
  {
   "cell_type": "code",
   "execution_count": 68,
   "metadata": {
    "collapsed": false,
    "execution": {
     "iopub.execute_input": "2024-10-18T21:12:02.710627Z",
     "iopub.status.busy": "2024-10-18T21:12:02.709716Z",
     "iopub.status.idle": "2024-10-18T21:12:02.836152Z",
     "shell.execute_reply": "2024-10-18T21:12:02.834618Z"
    }
   },
   "outputs": [
    {
     "name": "stdout",
     "output_type": "stream",
     "text": [
      "(472, 210)\n"
     ]
    }
   ],
   "source": [
    "df = dataset.fetch_static_features()\n",
    "print(df.shape)"
   ]
  },
  {
   "cell_type": "code",
   "execution_count": 69,
   "metadata": {
    "collapsed": false,
    "execution": {
     "iopub.execute_input": "2024-10-18T21:12:02.846156Z",
     "iopub.status.busy": "2024-10-18T21:12:02.844694Z",
     "iopub.status.idle": "2024-10-18T21:12:02.879454Z",
     "shell.execute_reply": "2024-10-18T21:12:02.878076Z"
    }
   },
   "outputs": [
    {
     "name": "stdout",
     "output_type": "stream",
     "text": [
      "20322\n"
     ]
    },
    {
     "data": {
      "text/plain": [
       "cwc_lat              0\n",
       "cwc_lon              0\n",
       "ghi_lat              0\n",
       "ghi_lon              0\n",
       "elev_mean            0\n",
       "                    ..\n",
       "cwc_site_name        0\n",
       "river_basin          0\n",
       "cwc_river            0\n",
       "ghi_group            0\n",
       "flow_availability    0\n",
       "Length: 210, dtype: int64"
      ]
     },
     "execution_count": 69,
     "metadata": {},
     "output_type": "execute_result"
    }
   ],
   "source": [
    "print(df.isna().sum().sum())\n",
    "df.isna().sum()"
   ]
  },
  {
   "cell_type": "markdown",
   "metadata": {},
   "source": [
    "find those columns which have at least one NaN value\n",
    "\n"
   ]
  },
  {
   "cell_type": "code",
   "execution_count": 70,
   "metadata": {
    "collapsed": false,
    "execution": {
     "iopub.execute_input": "2024-10-18T21:12:02.887317Z",
     "iopub.status.busy": "2024-10-18T21:12:02.886104Z",
     "iopub.status.idle": "2024-10-18T21:12:02.938810Z",
     "shell.execute_reply": "2024-10-18T21:12:02.937708Z"
    }
   },
   "outputs": [
    {
     "data": {
      "text/html": [
       "<div>\n",
       "<style scoped>\n",
       "    .dataframe tbody tr th:only-of-type {\n",
       "        vertical-align: middle;\n",
       "    }\n",
       "\n",
       "    .dataframe tbody tr th {\n",
       "        vertical-align: top;\n",
       "    }\n",
       "\n",
       "    .dataframe thead th {\n",
       "        text-align: right;\n",
       "    }\n",
       "</style>\n",
       "<table border=\"1\" class=\"dataframe\">\n",
       "  <thead>\n",
       "    <tr style=\"text-align: right;\">\n",
       "      <th></th>\n",
       "      <th>bulkdens_sub_major</th>\n",
       "      <th>bulkdens_sub_mean</th>\n",
       "      <th>first_dam_year</th>\n",
       "      <th>last_dam_year</th>\n",
       "      <th>reservoir_index</th>\n",
       "      <th>irrigation_frac</th>\n",
       "      <th>hydroelec_frac</th>\n",
       "      <th>drinking_frac</th>\n",
       "      <th>flood_frac</th>\n",
       "      <th>overflow_frac</th>\n",
       "      <th>...</th>\n",
       "      <th>q_50_swmn</th>\n",
       "      <th>q_75_swmn</th>\n",
       "      <th>q_95_swmn</th>\n",
       "      <th>rise_rate_mean</th>\n",
       "      <th>rise_rate_median</th>\n",
       "      <th>rise_days</th>\n",
       "      <th>fall_rate_mean</th>\n",
       "      <th>fall_rate_median</th>\n",
       "      <th>fall_days</th>\n",
       "      <th>num_hyd_alt</th>\n",
       "    </tr>\n",
       "    <tr>\n",
       "      <th>gauge_id</th>\n",
       "      <th></th>\n",
       "      <th></th>\n",
       "      <th></th>\n",
       "      <th></th>\n",
       "      <th></th>\n",
       "      <th></th>\n",
       "      <th></th>\n",
       "      <th></th>\n",
       "      <th></th>\n",
       "      <th></th>\n",
       "      <th></th>\n",
       "      <th></th>\n",
       "      <th></th>\n",
       "      <th></th>\n",
       "      <th></th>\n",
       "      <th></th>\n",
       "      <th></th>\n",
       "      <th></th>\n",
       "      <th></th>\n",
       "      <th></th>\n",
       "      <th></th>\n",
       "    </tr>\n",
       "  </thead>\n",
       "  <tbody>\n",
       "    <tr>\n",
       "      <th>3001</th>\n",
       "      <td>1.33</td>\n",
       "      <td>1.291356</td>\n",
       "      <td>1909.0</td>\n",
       "      <td>1909.0</td>\n",
       "      <td>NaN</td>\n",
       "      <td>1.000000</td>\n",
       "      <td>0.000000</td>\n",
       "      <td>0.000000</td>\n",
       "      <td>0.000000</td>\n",
       "      <td>0.000000</td>\n",
       "      <td>...</td>\n",
       "      <td>0.420</td>\n",
       "      <td>1.117</td>\n",
       "      <td>3.524</td>\n",
       "      <td>NaN</td>\n",
       "      <td>NaN</td>\n",
       "      <td>NaN</td>\n",
       "      <td>NaN</td>\n",
       "      <td>NaN</td>\n",
       "      <td>NaN</td>\n",
       "      <td>NaN</td>\n",
       "    </tr>\n",
       "    <tr>\n",
       "      <th>3002</th>\n",
       "      <td>1.45</td>\n",
       "      <td>1.450000</td>\n",
       "      <td>1982.0</td>\n",
       "      <td>1982.0</td>\n",
       "      <td>0.000688</td>\n",
       "      <td>1.000000</td>\n",
       "      <td>0.000000</td>\n",
       "      <td>0.000000</td>\n",
       "      <td>0.000000</td>\n",
       "      <td>0.000000</td>\n",
       "      <td>...</td>\n",
       "      <td>1.323</td>\n",
       "      <td>3.437</td>\n",
       "      <td>9.681</td>\n",
       "      <td>38.509</td>\n",
       "      <td>3.07</td>\n",
       "      <td>62.00</td>\n",
       "      <td>-15.864</td>\n",
       "      <td>-0.810</td>\n",
       "      <td>150.50</td>\n",
       "      <td>78.611</td>\n",
       "    </tr>\n",
       "    <tr>\n",
       "      <th>3003</th>\n",
       "      <td>1.21</td>\n",
       "      <td>1.210000</td>\n",
       "      <td>1907.0</td>\n",
       "      <td>2009.0</td>\n",
       "      <td>NaN</td>\n",
       "      <td>1.000000</td>\n",
       "      <td>0.000000</td>\n",
       "      <td>0.000000</td>\n",
       "      <td>0.000000</td>\n",
       "      <td>0.000000</td>\n",
       "      <td>...</td>\n",
       "      <td>NaN</td>\n",
       "      <td>NaN</td>\n",
       "      <td>NaN</td>\n",
       "      <td>NaN</td>\n",
       "      <td>NaN</td>\n",
       "      <td>NaN</td>\n",
       "      <td>NaN</td>\n",
       "      <td>NaN</td>\n",
       "      <td>NaN</td>\n",
       "      <td>NaN</td>\n",
       "    </tr>\n",
       "    <tr>\n",
       "      <th>3004</th>\n",
       "      <td>1.21</td>\n",
       "      <td>1.211649</td>\n",
       "      <td>1800.0</td>\n",
       "      <td>2003.0</td>\n",
       "      <td>NaN</td>\n",
       "      <td>0.969697</td>\n",
       "      <td>0.030303</td>\n",
       "      <td>0.000000</td>\n",
       "      <td>0.000000</td>\n",
       "      <td>0.000000</td>\n",
       "      <td>...</td>\n",
       "      <td>NaN</td>\n",
       "      <td>NaN</td>\n",
       "      <td>NaN</td>\n",
       "      <td>NaN</td>\n",
       "      <td>NaN</td>\n",
       "      <td>NaN</td>\n",
       "      <td>NaN</td>\n",
       "      <td>NaN</td>\n",
       "      <td>NaN</td>\n",
       "      <td>NaN</td>\n",
       "    </tr>\n",
       "    <tr>\n",
       "      <th>3005</th>\n",
       "      <td>1.21</td>\n",
       "      <td>1.218816</td>\n",
       "      <td>1903.0</td>\n",
       "      <td>2013.0</td>\n",
       "      <td>0.507788</td>\n",
       "      <td>0.928962</td>\n",
       "      <td>0.016393</td>\n",
       "      <td>0.005464</td>\n",
       "      <td>0.027322</td>\n",
       "      <td>0.005464</td>\n",
       "      <td>...</td>\n",
       "      <td>1.369</td>\n",
       "      <td>3.503</td>\n",
       "      <td>12.083</td>\n",
       "      <td>324.324</td>\n",
       "      <td>5.46</td>\n",
       "      <td>131.75</td>\n",
       "      <td>-186.758</td>\n",
       "      <td>-4.480</td>\n",
       "      <td>228.80</td>\n",
       "      <td>141.000</td>\n",
       "    </tr>\n",
       "    <tr>\n",
       "      <th>...</th>\n",
       "      <td>...</td>\n",
       "      <td>...</td>\n",
       "      <td>...</td>\n",
       "      <td>...</td>\n",
       "      <td>...</td>\n",
       "      <td>...</td>\n",
       "      <td>...</td>\n",
       "      <td>...</td>\n",
       "      <td>...</td>\n",
       "      <td>...</td>\n",
       "      <td>...</td>\n",
       "      <td>...</td>\n",
       "      <td>...</td>\n",
       "      <td>...</td>\n",
       "      <td>...</td>\n",
       "      <td>...</td>\n",
       "      <td>...</td>\n",
       "      <td>...</td>\n",
       "      <td>...</td>\n",
       "      <td>...</td>\n",
       "      <td>...</td>\n",
       "    </tr>\n",
       "    <tr>\n",
       "      <th>17021</th>\n",
       "      <td>NaN</td>\n",
       "      <td>1.291081</td>\n",
       "      <td>NaN</td>\n",
       "      <td>NaN</td>\n",
       "      <td>NaN</td>\n",
       "      <td>1.000000</td>\n",
       "      <td>0.000000</td>\n",
       "      <td>0.000000</td>\n",
       "      <td>0.000000</td>\n",
       "      <td>0.000000</td>\n",
       "      <td>...</td>\n",
       "      <td>NaN</td>\n",
       "      <td>NaN</td>\n",
       "      <td>NaN</td>\n",
       "      <td>NaN</td>\n",
       "      <td>NaN</td>\n",
       "      <td>NaN</td>\n",
       "      <td>NaN</td>\n",
       "      <td>NaN</td>\n",
       "      <td>NaN</td>\n",
       "      <td>NaN</td>\n",
       "    </tr>\n",
       "    <tr>\n",
       "      <th>17022</th>\n",
       "      <td>NaN</td>\n",
       "      <td>1.318424</td>\n",
       "      <td>1940.0</td>\n",
       "      <td>2007.0</td>\n",
       "      <td>1.030649</td>\n",
       "      <td>0.705882</td>\n",
       "      <td>0.058824</td>\n",
       "      <td>0.000000</td>\n",
       "      <td>0.058824</td>\n",
       "      <td>0.000000</td>\n",
       "      <td>...</td>\n",
       "      <td>0.000</td>\n",
       "      <td>0.002</td>\n",
       "      <td>0.015</td>\n",
       "      <td>12.834</td>\n",
       "      <td>0.43</td>\n",
       "      <td>78.20</td>\n",
       "      <td>-8.761</td>\n",
       "      <td>-0.410</td>\n",
       "      <td>114.95</td>\n",
       "      <td>87.350</td>\n",
       "    </tr>\n",
       "    <tr>\n",
       "      <th>17023</th>\n",
       "      <td>NaN</td>\n",
       "      <td>1.211304</td>\n",
       "      <td>1922.0</td>\n",
       "      <td>2011.0</td>\n",
       "      <td>NaN</td>\n",
       "      <td>0.545455</td>\n",
       "      <td>0.000000</td>\n",
       "      <td>0.000000</td>\n",
       "      <td>0.000000</td>\n",
       "      <td>0.000000</td>\n",
       "      <td>...</td>\n",
       "      <td>NaN</td>\n",
       "      <td>NaN</td>\n",
       "      <td>NaN</td>\n",
       "      <td>NaN</td>\n",
       "      <td>NaN</td>\n",
       "      <td>NaN</td>\n",
       "      <td>NaN</td>\n",
       "      <td>NaN</td>\n",
       "      <td>NaN</td>\n",
       "      <td>NaN</td>\n",
       "    </tr>\n",
       "    <tr>\n",
       "      <th>17024</th>\n",
       "      <td>NaN</td>\n",
       "      <td>1.320490</td>\n",
       "      <td>1940.0</td>\n",
       "      <td>2007.0</td>\n",
       "      <td>0.942509</td>\n",
       "      <td>0.705882</td>\n",
       "      <td>0.058824</td>\n",
       "      <td>0.000000</td>\n",
       "      <td>0.058824</td>\n",
       "      <td>0.000000</td>\n",
       "      <td>...</td>\n",
       "      <td>0.000</td>\n",
       "      <td>0.000</td>\n",
       "      <td>0.000</td>\n",
       "      <td>55.641</td>\n",
       "      <td>5.30</td>\n",
       "      <td>21.65</td>\n",
       "      <td>-32.892</td>\n",
       "      <td>-3.045</td>\n",
       "      <td>36.60</td>\n",
       "      <td>26.333</td>\n",
       "    </tr>\n",
       "    <tr>\n",
       "      <th>17025</th>\n",
       "      <td>NaN</td>\n",
       "      <td>1.330000</td>\n",
       "      <td>NaN</td>\n",
       "      <td>NaN</td>\n",
       "      <td>NaN</td>\n",
       "      <td>NaN</td>\n",
       "      <td>NaN</td>\n",
       "      <td>NaN</td>\n",
       "      <td>NaN</td>\n",
       "      <td>NaN</td>\n",
       "      <td>...</td>\n",
       "      <td>NaN</td>\n",
       "      <td>NaN</td>\n",
       "      <td>NaN</td>\n",
       "      <td>NaN</td>\n",
       "      <td>NaN</td>\n",
       "      <td>NaN</td>\n",
       "      <td>NaN</td>\n",
       "      <td>NaN</td>\n",
       "      <td>NaN</td>\n",
       "      <td>NaN</td>\n",
       "    </tr>\n",
       "  </tbody>\n",
       "</table>\n",
       "<p>472 rows × 86 columns</p>\n",
       "</div>"
      ],
      "text/plain": [
       "          bulkdens_sub_major  bulkdens_sub_mean  first_dam_year  \\\n",
       "gauge_id                                                          \n",
       "3001                    1.33           1.291356          1909.0   \n",
       "3002                    1.45           1.450000          1982.0   \n",
       "3003                    1.21           1.210000          1907.0   \n",
       "3004                    1.21           1.211649          1800.0   \n",
       "3005                    1.21           1.218816          1903.0   \n",
       "...                      ...                ...             ...   \n",
       "17021                    NaN           1.291081             NaN   \n",
       "17022                    NaN           1.318424          1940.0   \n",
       "17023                    NaN           1.211304          1922.0   \n",
       "17024                    NaN           1.320490          1940.0   \n",
       "17025                    NaN           1.330000             NaN   \n",
       "\n",
       "          last_dam_year  reservoir_index  irrigation_frac  hydroelec_frac  \\\n",
       "gauge_id                                                                    \n",
       "3001             1909.0              NaN         1.000000        0.000000   \n",
       "3002             1982.0         0.000688         1.000000        0.000000   \n",
       "3003             2009.0              NaN         1.000000        0.000000   \n",
       "3004             2003.0              NaN         0.969697        0.030303   \n",
       "3005             2013.0         0.507788         0.928962        0.016393   \n",
       "...                 ...              ...              ...             ...   \n",
       "17021               NaN              NaN         1.000000        0.000000   \n",
       "17022            2007.0         1.030649         0.705882        0.058824   \n",
       "17023            2011.0              NaN         0.545455        0.000000   \n",
       "17024            2007.0         0.942509         0.705882        0.058824   \n",
       "17025               NaN              NaN              NaN             NaN   \n",
       "\n",
       "          drinking_frac  flood_frac  overflow_frac  ...  q_50_swmn  q_75_swmn  \\\n",
       "gauge_id                                            ...                         \n",
       "3001           0.000000    0.000000       0.000000  ...      0.420      1.117   \n",
       "3002           0.000000    0.000000       0.000000  ...      1.323      3.437   \n",
       "3003           0.000000    0.000000       0.000000  ...        NaN        NaN   \n",
       "3004           0.000000    0.000000       0.000000  ...        NaN        NaN   \n",
       "3005           0.005464    0.027322       0.005464  ...      1.369      3.503   \n",
       "...                 ...         ...            ...  ...        ...        ...   \n",
       "17021          0.000000    0.000000       0.000000  ...        NaN        NaN   \n",
       "17022          0.000000    0.058824       0.000000  ...      0.000      0.002   \n",
       "17023          0.000000    0.000000       0.000000  ...        NaN        NaN   \n",
       "17024          0.000000    0.058824       0.000000  ...      0.000      0.000   \n",
       "17025               NaN         NaN            NaN  ...        NaN        NaN   \n",
       "\n",
       "         q_95_swmn  rise_rate_mean  rise_rate_median  rise_days  \\\n",
       "gauge_id                                                          \n",
       "3001         3.524             NaN               NaN        NaN   \n",
       "3002         9.681          38.509              3.07      62.00   \n",
       "3003           NaN             NaN               NaN        NaN   \n",
       "3004           NaN             NaN               NaN        NaN   \n",
       "3005        12.083         324.324              5.46     131.75   \n",
       "...            ...             ...               ...        ...   \n",
       "17021          NaN             NaN               NaN        NaN   \n",
       "17022        0.015          12.834              0.43      78.20   \n",
       "17023          NaN             NaN               NaN        NaN   \n",
       "17024        0.000          55.641              5.30      21.65   \n",
       "17025          NaN             NaN               NaN        NaN   \n",
       "\n",
       "          fall_rate_mean  fall_rate_median  fall_days  num_hyd_alt  \n",
       "gauge_id                                                            \n",
       "3001                 NaN               NaN        NaN          NaN  \n",
       "3002             -15.864            -0.810     150.50       78.611  \n",
       "3003                 NaN               NaN        NaN          NaN  \n",
       "3004                 NaN               NaN        NaN          NaN  \n",
       "3005            -186.758            -4.480     228.80      141.000  \n",
       "...                  ...               ...        ...          ...  \n",
       "17021                NaN               NaN        NaN          NaN  \n",
       "17022             -8.761            -0.410     114.95       87.350  \n",
       "17023                NaN               NaN        NaN          NaN  \n",
       "17024            -32.892            -3.045      36.60       26.333  \n",
       "17025                NaN               NaN        NaN          NaN  \n",
       "\n",
       "[472 rows x 86 columns]"
      ]
     },
     "execution_count": 70,
     "metadata": {},
     "output_type": "execute_result"
    }
   ],
   "source": [
    "df.loc[:, (df.isna().sum()>0)]"
   ]
  },
  {
   "cell_type": "code",
   "execution_count": 71,
   "metadata": {
    "collapsed": false,
    "execution": {
     "iopub.execute_input": "2024-10-18T21:12:02.947500Z",
     "iopub.status.busy": "2024-10-18T21:12:02.946677Z",
     "iopub.status.idle": "2024-10-18T21:12:02.971200Z",
     "shell.execute_reply": "2024-10-18T21:12:02.969905Z"
    }
   },
   "outputs": [
    {
     "data": {
      "text/plain": [
       "bulkdens_sub_major    136\n",
       "bulkdens_sub_mean       2\n",
       "first_dam_year         74\n",
       "last_dam_year          74\n",
       "reservoir_index       244\n",
       "                     ... \n",
       "rise_days             299\n",
       "fall_rate_mean        299\n",
       "fall_rate_median      299\n",
       "fall_days             299\n",
       "num_hyd_alt           299\n",
       "Length: 86, dtype: int64"
      ]
     },
     "execution_count": 71,
     "metadata": {},
     "output_type": "execute_result"
    }
   ],
   "source": [
    "df.loc[:, (df.isna().sum()>0)].isna().sum()"
   ]
  },
  {
   "cell_type": "code",
   "execution_count": 72,
   "metadata": {
    "collapsed": false,
    "execution": {
     "iopub.execute_input": "2024-10-18T21:12:02.980342Z",
     "iopub.status.busy": "2024-10-18T21:12:02.979300Z",
     "iopub.status.idle": "2024-10-18T21:12:02.988396Z",
     "shell.execute_reply": "2024-10-18T21:12:02.986785Z"
    }
   },
   "outputs": [
    {
     "name": "stdout",
     "output_type": "stream",
     "text": [
      "20\n",
      "pcp_mm, max_temp_C, min_temp_C, mean_temp_C, srad_lw(w/m2), srad_sw(w/m2), wind_u(m/s), wind_v(m/s),\n",
      "windspeed_ms, rh_%, pet(mm/day), pet_gleam(mm/day), aet_gleam(mm/day), evap_canopy(kg/m2/s),\n",
      "evap_surface(kg/m2/s), sm_lvl1(kg/m2), sm_lvl2(kg/m2), sm_lvl3(kg/m2), sm_lvl4(kg/m2), obs_q_cms\n"
     ]
    }
   ],
   "source": [
    "print(dataset.num_dynamic())\n",
    "print(textwrap.fill(\", \".join(dataset.dynamic_features), width=100))"
   ]
  },
  {
   "cell_type": "markdown",
   "metadata": {},
   "source": [
    "## LamaHCE\n",
    "\n"
   ]
  },
  {
   "cell_type": "code",
   "execution_count": 73,
   "metadata": {
    "collapsed": false,
    "execution": {
     "iopub.execute_input": "2024-10-18T21:12:02.995351Z",
     "iopub.status.busy": "2024-10-18T21:12:02.994188Z",
     "iopub.status.idle": "2024-10-18T21:12:03.409173Z",
     "shell.execute_reply": "2024-10-18T21:12:03.407926Z"
    }
   },
   "outputs": [
    {
     "name": "stdout",
     "output_type": "stream",
     "text": [
      "RainfallRunoff(LamaHCE) with 859 stations, 22 dynamic and 80 static features\n"
     ]
    }
   ],
   "source": [
    "dataset = RainfallRunoff('LamaHCE', timestep='D', data_type='total_upstrm', path=gscad_path, verbosity=0)\n",
    "print(dataset)"
   ]
  },
  {
   "cell_type": "code",
   "execution_count": 74,
   "metadata": {
    "collapsed": false,
    "execution": {
     "iopub.execute_input": "2024-10-18T21:12:03.417499Z",
     "iopub.status.busy": "2024-10-18T21:12:03.416620Z",
     "iopub.status.idle": "2024-10-18T21:12:03.427121Z",
     "shell.execute_reply": "2024-10-18T21:12:03.425610Z"
    }
   },
   "outputs": [
    {
     "name": "stdout",
     "output_type": "stream",
     "text": [
      "area_calc, elev_mean, elev_med, elev_std, elev_ran, slope_mean, mvert_dist, mvert_ang, elon_ratio,\n",
      "strm_dens, p_mean, et0_mean, eta_mean, aridity, p_season, frac_snow, hi_prec_fr, hi_prec_du,\n",
      "hi_prec_ti, lo_prec_fr, lo_prec_du, lo_prec_ti, lc_dom, agr_fra, bare_fra, forest_fra, glac_fra,\n",
      "lake_fra, urban_fra, lai_max, lai_diff, ndvi_max, ndvi_min, gvf_max, gvf_diff, bedrk_dep, root_dep,\n",
      "soil_poros, soil_condu, soil_tawc, sand_fra, silt_fra, clay_fra, grav_fra, oc_fra, gc_dom,\n",
      "gc_ig_fra, gc_mt_fra, gc_pa_fra, gc_pb_fra, gc_pi_fra, gc_py_fra, gc_sc_fra, gc_sm_fra, gc_ss_fra,\n",
      "gc_su_fra, gc_va_fra, gc_vb_fra, gc_wb_fra, geol_perme, geol_poros, govnr, name, river, area_gov,\n",
      "elev, lon, lat, country, fedstate, region, obsbeg_day, obsbeg_hr, obsend, typimpact, diur_art,\n",
      "diur_glac, degimpact, gaps, area_ratio\n"
     ]
    }
   ],
   "source": [
    "print(textwrap.fill(\", \".join(dataset.static_features), width=100))"
   ]
  },
  {
   "cell_type": "code",
   "execution_count": 75,
   "metadata": {
    "collapsed": false,
    "execution": {
     "iopub.execute_input": "2024-10-18T21:12:03.436693Z",
     "iopub.status.busy": "2024-10-18T21:12:03.435583Z",
     "iopub.status.idle": "2024-10-18T21:12:03.511698Z",
     "shell.execute_reply": "2024-10-18T21:12:03.509830Z"
    }
   },
   "outputs": [
    {
     "name": "stdout",
     "output_type": "stream",
     "text": [
      "(859, 80)\n"
     ]
    }
   ],
   "source": [
    "df = dataset.fetch_static_features()\n",
    "print(df.shape)"
   ]
  },
  {
   "cell_type": "code",
   "execution_count": 76,
   "metadata": {
    "collapsed": false,
    "execution": {
     "iopub.execute_input": "2024-10-18T21:12:03.519087Z",
     "iopub.status.busy": "2024-10-18T21:12:03.517541Z",
     "iopub.status.idle": "2024-10-18T21:12:03.547817Z",
     "shell.execute_reply": "2024-10-18T21:12:03.546507Z"
    }
   },
   "outputs": [
    {
     "name": "stdout",
     "output_type": "stream",
     "text": [
      "46\n"
     ]
    },
    {
     "data": {
      "text/plain": [
       "area_calc     0\n",
       "elev_mean     0\n",
       "elev_med      0\n",
       "elev_std      0\n",
       "elev_ran      0\n",
       "             ..\n",
       "diur_art      0\n",
       "diur_glac     0\n",
       "degimpact     0\n",
       "gaps          0\n",
       "area_ratio    0\n",
       "Length: 80, dtype: int64"
      ]
     },
     "execution_count": 76,
     "metadata": {},
     "output_type": "execute_result"
    }
   ],
   "source": [
    "print(df.isna().sum().sum())\n",
    "df.isna().sum()"
   ]
  },
  {
   "cell_type": "markdown",
   "metadata": {},
   "source": [
    "find those columns which have at least one NaN value\n",
    "\n"
   ]
  },
  {
   "cell_type": "code",
   "execution_count": 77,
   "metadata": {
    "collapsed": false,
    "execution": {
     "iopub.execute_input": "2024-10-18T21:12:03.557198Z",
     "iopub.status.busy": "2024-10-18T21:12:03.555809Z",
     "iopub.status.idle": "2024-10-18T21:12:03.585896Z",
     "shell.execute_reply": "2024-10-18T21:12:03.584640Z"
    }
   },
   "outputs": [
    {
     "data": {
      "text/html": [
       "<div>\n",
       "<style scoped>\n",
       "    .dataframe tbody tr th:only-of-type {\n",
       "        vertical-align: middle;\n",
       "    }\n",
       "\n",
       "    .dataframe tbody tr th {\n",
       "        vertical-align: top;\n",
       "    }\n",
       "\n",
       "    .dataframe thead th {\n",
       "        text-align: right;\n",
       "    }\n",
       "</style>\n",
       "<table border=\"1\" class=\"dataframe\">\n",
       "  <thead>\n",
       "    <tr style=\"text-align: right;\">\n",
       "      <th></th>\n",
       "      <th>hi_prec_ti</th>\n",
       "      <th>lo_prec_ti</th>\n",
       "      <th>geol_perme</th>\n",
       "    </tr>\n",
       "    <tr>\n",
       "      <th>ID</th>\n",
       "      <th></th>\n",
       "      <th></th>\n",
       "      <th></th>\n",
       "    </tr>\n",
       "  </thead>\n",
       "  <tbody>\n",
       "    <tr>\n",
       "      <th>826</th>\n",
       "      <td>NaN</td>\n",
       "      <td>son</td>\n",
       "      <td>-12.4</td>\n",
       "    </tr>\n",
       "    <tr>\n",
       "      <th>819</th>\n",
       "      <td>son</td>\n",
       "      <td>djf</td>\n",
       "      <td>-11.5</td>\n",
       "    </tr>\n",
       "    <tr>\n",
       "      <th>79</th>\n",
       "      <td>jja</td>\n",
       "      <td>djf</td>\n",
       "      <td>-13.3</td>\n",
       "    </tr>\n",
       "    <tr>\n",
       "      <th>696</th>\n",
       "      <td>jja</td>\n",
       "      <td>djf</td>\n",
       "      <td>-12.2</td>\n",
       "    </tr>\n",
       "    <tr>\n",
       "      <th>98</th>\n",
       "      <td>jja</td>\n",
       "      <td>djf</td>\n",
       "      <td>-12.0</td>\n",
       "    </tr>\n",
       "    <tr>\n",
       "      <th>...</th>\n",
       "      <td>...</td>\n",
       "      <td>...</td>\n",
       "      <td>...</td>\n",
       "    </tr>\n",
       "    <tr>\n",
       "      <th>261</th>\n",
       "      <td>jja</td>\n",
       "      <td>djf</td>\n",
       "      <td>-12.1</td>\n",
       "    </tr>\n",
       "    <tr>\n",
       "      <th>587</th>\n",
       "      <td>jja</td>\n",
       "      <td>djf</td>\n",
       "      <td>-12.9</td>\n",
       "    </tr>\n",
       "    <tr>\n",
       "      <th>827</th>\n",
       "      <td>jja</td>\n",
       "      <td>son</td>\n",
       "      <td>-12.6</td>\n",
       "    </tr>\n",
       "    <tr>\n",
       "      <th>250</th>\n",
       "      <td>jja</td>\n",
       "      <td>djf</td>\n",
       "      <td>-13.4</td>\n",
       "    </tr>\n",
       "    <tr>\n",
       "      <th>72</th>\n",
       "      <td>jja</td>\n",
       "      <td>djf</td>\n",
       "      <td>-12.4</td>\n",
       "    </tr>\n",
       "  </tbody>\n",
       "</table>\n",
       "<p>859 rows × 3 columns</p>\n",
       "</div>"
      ],
      "text/plain": [
       "    hi_prec_ti lo_prec_ti  geol_perme\n",
       "ID                                   \n",
       "826        NaN        son       -12.4\n",
       "819        son        djf       -11.5\n",
       "79         jja        djf       -13.3\n",
       "696        jja        djf       -12.2\n",
       "98         jja        djf       -12.0\n",
       "..         ...        ...         ...\n",
       "261        jja        djf       -12.1\n",
       "587        jja        djf       -12.9\n",
       "827        jja        son       -12.6\n",
       "250        jja        djf       -13.4\n",
       "72         jja        djf       -12.4\n",
       "\n",
       "[859 rows x 3 columns]"
      ]
     },
     "execution_count": 77,
     "metadata": {},
     "output_type": "execute_result"
    }
   ],
   "source": [
    "df.loc[:, (df.isna().sum()>0)]"
   ]
  },
  {
   "cell_type": "code",
   "execution_count": 78,
   "metadata": {
    "collapsed": false,
    "execution": {
     "iopub.execute_input": "2024-10-18T21:12:03.595258Z",
     "iopub.status.busy": "2024-10-18T21:12:03.594272Z",
     "iopub.status.idle": "2024-10-18T21:12:03.617161Z",
     "shell.execute_reply": "2024-10-18T21:12:03.616009Z"
    }
   },
   "outputs": [
    {
     "data": {
      "text/plain": [
       "hi_prec_ti    42\n",
       "lo_prec_ti     3\n",
       "geol_perme     1\n",
       "dtype: int64"
      ]
     },
     "execution_count": 78,
     "metadata": {},
     "output_type": "execute_result"
    }
   ],
   "source": [
    "df.loc[:, (df.isna().sum()>0)].isna().sum()"
   ]
  },
  {
   "cell_type": "code",
   "execution_count": 79,
   "metadata": {
    "collapsed": false,
    "execution": {
     "iopub.execute_input": "2024-10-18T21:12:03.624252Z",
     "iopub.status.busy": "2024-10-18T21:12:03.623084Z",
     "iopub.status.idle": "2024-10-18T21:12:03.965094Z",
     "shell.execute_reply": "2024-10-18T21:12:03.963773Z"
    }
   },
   "outputs": [
    {
     "name": "stdout",
     "output_type": "stream",
     "text": [
      "22\n",
      "max_temp_C, mean_temp_C, min_temp_C, 2m_dp_temp_max, 2m_dp_temp_mean, 2m_dp_temp_min, 10m_wind_u,\n",
      "10m_wind_v, fcst_alb, lai_high_veg, lai_low_veg, swe_mm, surf_net_solar_rad_max,\n",
      "surf_net_solar_rad_mean, surf_net_therm_rad_max, surf_net_therm_rad_mean, surf_press, total_et,\n",
      "pcp_mm, volsw_123, volsw_4, obs_q_cms\n"
     ]
    }
   ],
   "source": [
    "print(dataset.num_dynamic())\n",
    "print(textwrap.fill(\", \".join(dataset.dynamic_features), width=100))"
   ]
  },
  {
   "cell_type": "code",
   "execution_count": 80,
   "metadata": {
    "collapsed": false,
    "execution": {
     "iopub.execute_input": "2024-10-18T21:12:03.975691Z",
     "iopub.status.busy": "2024-10-18T21:12:03.974334Z",
     "iopub.status.idle": "2024-10-18T21:12:10.550425Z",
     "shell.execute_reply": "2024-10-18T21:12:10.548688Z"
    }
   },
   "outputs": [
    {
     "name": "stdout",
     "output_type": "stream",
     "text": [
      "RainfallRunoff(LamaHCE) with 859 stations, 16 dynamic and 84 static features\n"
     ]
    }
   ],
   "source": [
    "dataset = RainfallRunoff('LamaHCE', timestep='H', data_type='total_upstrm', path=gscad_path, verbosity=0)\n",
    "print(dataset)"
   ]
  },
  {
   "cell_type": "code",
   "execution_count": 81,
   "metadata": {
    "collapsed": false,
    "execution": {
     "iopub.execute_input": "2024-10-18T21:12:10.562100Z",
     "iopub.status.busy": "2024-10-18T21:12:10.560043Z",
     "iopub.status.idle": "2024-10-18T21:12:10.573889Z",
     "shell.execute_reply": "2024-10-18T21:12:10.572384Z"
    }
   },
   "outputs": [
    {
     "name": "stdout",
     "output_type": "stream",
     "text": [
      "area_calc, elev_mean, elev_med, elev_std, elev_ran, slope_mean, mvert_dist, mvert_ang, elon_ratio,\n",
      "strm_dens, p_mean, et0_mean, eta_mean, arid_1, arid_2, p_season, frac_snow, hi_prec_fr, hi_prec_du,\n",
      "hi_prec_ti, lo_prec_fr, lo_prec_du, lo_prec_ti, lc_dom, agr_fra, bare_fra, forest_fra, glac_fra,\n",
      "lake_fra, urban_fra, lai_max, lai_diff, ndvi_max, ndvi_min, gvf_max, gvf_diff, bedrk_dep, root_dep,\n",
      "soil_poros, soil_condu, soil_tawc, sand_fra, silt_fra, clay_fra, grav_fra, oc_fra, gc_dom,\n",
      "gc_ig_fra, gc_mt_fra, gc_pa_fra, gc_pb_fra, gc_pi_fra, gc_py_fra, gc_sc_fra, gc_sm_fra, gc_ss_fra,\n",
      "gc_su_fra, gc_va_fra, gc_vb_fra, gc_wb_fra, geol_perme, geol_poros, govnr, name, river, area_gov,\n",
      "elev, lon, lat, country, fedstate, region, obsbeg_day, obsbeg_hr, obsend, gaps_pre, gaps_post,\n",
      "area_ratio, nrs_euhyd, nrs_rivat, typimpact, diur_art, diur_glac, degimpact\n"
     ]
    }
   ],
   "source": [
    "print(textwrap.fill(\", \".join(dataset.static_features), width=100))"
   ]
  },
  {
   "cell_type": "code",
   "execution_count": 82,
   "metadata": {
    "collapsed": false,
    "execution": {
     "iopub.execute_input": "2024-10-18T21:12:10.582084Z",
     "iopub.status.busy": "2024-10-18T21:12:10.581083Z",
     "iopub.status.idle": "2024-10-18T21:12:10.659530Z",
     "shell.execute_reply": "2024-10-18T21:12:10.658405Z"
    }
   },
   "outputs": [
    {
     "name": "stdout",
     "output_type": "stream",
     "text": [
      "(859, 84)\n"
     ]
    }
   ],
   "source": [
    "df = dataset.fetch_static_features()\n",
    "print(df.shape)"
   ]
  },
  {
   "cell_type": "code",
   "execution_count": 83,
   "metadata": {
    "collapsed": false,
    "execution": {
     "iopub.execute_input": "2024-10-18T21:12:10.667227Z",
     "iopub.status.busy": "2024-10-18T21:12:10.666279Z",
     "iopub.status.idle": "2024-10-18T21:12:10.694310Z",
     "shell.execute_reply": "2024-10-18T21:12:10.693288Z"
    }
   },
   "outputs": [
    {
     "name": "stdout",
     "output_type": "stream",
     "text": [
      "65\n"
     ]
    },
    {
     "data": {
      "text/plain": [
       "area_calc     0\n",
       "elev_mean     0\n",
       "elev_med      0\n",
       "elev_std      0\n",
       "elev_ran      0\n",
       "             ..\n",
       "nrs_rivat    19\n",
       "typimpact     0\n",
       "diur_art      0\n",
       "diur_glac     0\n",
       "degimpact     0\n",
       "Length: 84, dtype: int64"
      ]
     },
     "execution_count": 83,
     "metadata": {},
     "output_type": "execute_result"
    }
   ],
   "source": [
    "print(df.isna().sum().sum())\n",
    "df.isna().sum()"
   ]
  },
  {
   "cell_type": "markdown",
   "metadata": {},
   "source": [
    "find those columns which have at least one NaN value\n",
    "\n"
   ]
  },
  {
   "cell_type": "code",
   "execution_count": 84,
   "metadata": {
    "collapsed": false,
    "execution": {
     "iopub.execute_input": "2024-10-18T21:12:10.701418Z",
     "iopub.status.busy": "2024-10-18T21:12:10.700057Z",
     "iopub.status.idle": "2024-10-18T21:12:10.730929Z",
     "shell.execute_reply": "2024-10-18T21:12:10.729654Z"
    }
   },
   "outputs": [
    {
     "data": {
      "text/html": [
       "<div>\n",
       "<style scoped>\n",
       "    .dataframe tbody tr th:only-of-type {\n",
       "        vertical-align: middle;\n",
       "    }\n",
       "\n",
       "    .dataframe tbody tr th {\n",
       "        vertical-align: top;\n",
       "    }\n",
       "\n",
       "    .dataframe thead th {\n",
       "        text-align: right;\n",
       "    }\n",
       "</style>\n",
       "<table border=\"1\" class=\"dataframe\">\n",
       "  <thead>\n",
       "    <tr style=\"text-align: right;\">\n",
       "      <th></th>\n",
       "      <th>hi_prec_ti</th>\n",
       "      <th>lo_prec_ti</th>\n",
       "      <th>geol_perme</th>\n",
       "      <th>nrs_rivat</th>\n",
       "    </tr>\n",
       "    <tr>\n",
       "      <th>ID</th>\n",
       "      <th></th>\n",
       "      <th></th>\n",
       "      <th></th>\n",
       "      <th></th>\n",
       "    </tr>\n",
       "  </thead>\n",
       "  <tbody>\n",
       "    <tr>\n",
       "      <th>826</th>\n",
       "      <td>NaN</td>\n",
       "      <td>son</td>\n",
       "      <td>-12.4</td>\n",
       "      <td>20376803.0</td>\n",
       "    </tr>\n",
       "    <tr>\n",
       "      <th>819</th>\n",
       "      <td>son</td>\n",
       "      <td>djf</td>\n",
       "      <td>-11.5</td>\n",
       "      <td>20464042.0</td>\n",
       "    </tr>\n",
       "    <tr>\n",
       "      <th>79</th>\n",
       "      <td>jja</td>\n",
       "      <td>djf</td>\n",
       "      <td>-13.3</td>\n",
       "      <td>20454049.0</td>\n",
       "    </tr>\n",
       "    <tr>\n",
       "      <th>696</th>\n",
       "      <td>jja</td>\n",
       "      <td>djf</td>\n",
       "      <td>-12.2</td>\n",
       "      <td>20424102.0</td>\n",
       "    </tr>\n",
       "    <tr>\n",
       "      <th>98</th>\n",
       "      <td>jja</td>\n",
       "      <td>djf</td>\n",
       "      <td>-12.0</td>\n",
       "      <td>20440228.0</td>\n",
       "    </tr>\n",
       "    <tr>\n",
       "      <th>...</th>\n",
       "      <td>...</td>\n",
       "      <td>...</td>\n",
       "      <td>...</td>\n",
       "      <td>...</td>\n",
       "    </tr>\n",
       "    <tr>\n",
       "      <th>261</th>\n",
       "      <td>jja</td>\n",
       "      <td>djf</td>\n",
       "      <td>-12.1</td>\n",
       "      <td>20428827.0</td>\n",
       "    </tr>\n",
       "    <tr>\n",
       "      <th>587</th>\n",
       "      <td>jja</td>\n",
       "      <td>djf</td>\n",
       "      <td>-12.9</td>\n",
       "      <td>20461304.0</td>\n",
       "    </tr>\n",
       "    <tr>\n",
       "      <th>827</th>\n",
       "      <td>jja</td>\n",
       "      <td>son</td>\n",
       "      <td>-12.6</td>\n",
       "      <td>20379436.0</td>\n",
       "    </tr>\n",
       "    <tr>\n",
       "      <th>250</th>\n",
       "      <td>jja</td>\n",
       "      <td>djf</td>\n",
       "      <td>-13.4</td>\n",
       "      <td>20441631.0</td>\n",
       "    </tr>\n",
       "    <tr>\n",
       "      <th>72</th>\n",
       "      <td>jja</td>\n",
       "      <td>djf</td>\n",
       "      <td>-12.4</td>\n",
       "      <td>20451775.0</td>\n",
       "    </tr>\n",
       "  </tbody>\n",
       "</table>\n",
       "<p>859 rows × 4 columns</p>\n",
       "</div>"
      ],
      "text/plain": [
       "    hi_prec_ti lo_prec_ti  geol_perme   nrs_rivat\n",
       "ID                                               \n",
       "826        NaN        son       -12.4  20376803.0\n",
       "819        son        djf       -11.5  20464042.0\n",
       "79         jja        djf       -13.3  20454049.0\n",
       "696        jja        djf       -12.2  20424102.0\n",
       "98         jja        djf       -12.0  20440228.0\n",
       "..         ...        ...         ...         ...\n",
       "261        jja        djf       -12.1  20428827.0\n",
       "587        jja        djf       -12.9  20461304.0\n",
       "827        jja        son       -12.6  20379436.0\n",
       "250        jja        djf       -13.4  20441631.0\n",
       "72         jja        djf       -12.4  20451775.0\n",
       "\n",
       "[859 rows x 4 columns]"
      ]
     },
     "execution_count": 84,
     "metadata": {},
     "output_type": "execute_result"
    }
   ],
   "source": [
    "df.loc[:, (df.isna().sum()>0)]"
   ]
  },
  {
   "cell_type": "code",
   "execution_count": 85,
   "metadata": {
    "collapsed": false,
    "execution": {
     "iopub.execute_input": "2024-10-18T21:12:10.737574Z",
     "iopub.status.busy": "2024-10-18T21:12:10.736300Z",
     "iopub.status.idle": "2024-10-18T21:12:10.758087Z",
     "shell.execute_reply": "2024-10-18T21:12:10.756789Z"
    }
   },
   "outputs": [
    {
     "data": {
      "text/plain": [
       "hi_prec_ti    42\n",
       "lo_prec_ti     3\n",
       "geol_perme     1\n",
       "nrs_rivat     19\n",
       "dtype: int64"
      ]
     },
     "execution_count": 85,
     "metadata": {},
     "output_type": "execute_result"
    }
   ],
   "source": [
    "df.loc[:, (df.isna().sum()>0)].isna().sum()"
   ]
  },
  {
   "cell_type": "code",
   "execution_count": 86,
   "metadata": {
    "collapsed": false,
    "execution": {
     "iopub.execute_input": "2024-10-18T21:12:10.766329Z",
     "iopub.status.busy": "2024-10-18T21:12:10.765231Z",
     "iopub.status.idle": "2024-10-18T21:12:16.915530Z",
     "shell.execute_reply": "2024-10-18T21:12:16.914223Z"
    }
   },
   "outputs": [
    {
     "name": "stdout",
     "output_type": "stream",
     "text": [
      "16\n"
     ]
    },
    {
     "name": "stdout",
     "output_type": "stream",
     "text": [
      "mean_temp_C, 2m_dp_temp, 10m_wind_u, 10m_wind_v, fcst_alb, lai_high_veg, lai_low_veg, swe_mm,\n",
      "surf_net_solar_rad, surf_net_therm_rad, surf_press, total_et, pcp_mm, volsw_123, volsw_4, obs_q_cms\n"
     ]
    }
   ],
   "source": [
    "print(dataset.num_dynamic())\n",
    "print(textwrap.fill(\", \".join(dataset.dynamic_features), width=100))"
   ]
  },
  {
   "cell_type": "markdown",
   "metadata": {},
   "source": [
    "## LamaHIce\n",
    "\n"
   ]
  },
  {
   "cell_type": "code",
   "execution_count": 87,
   "metadata": {
    "collapsed": false,
    "execution": {
     "iopub.execute_input": "2024-10-18T21:12:16.927287Z",
     "iopub.status.busy": "2024-10-18T21:12:16.925389Z",
     "iopub.status.idle": "2024-10-18T21:12:17.068788Z",
     "shell.execute_reply": "2024-10-18T21:12:17.067790Z"
    }
   },
   "outputs": [
    {
     "name": "stdout",
     "output_type": "stream",
     "text": [
      "RainfallRunoff(LamaHIce) with 111 stations, 36 dynamic and 154 static features\n"
     ]
    }
   ],
   "source": [
    "dataset = RainfallRunoff('LamaHIce', timestep='D', data_type='total_upstrm', \n",
    "                         path=os.path.join(gscad_path, 'LamaHIce_daily'), verbosity=0)\n",
    "print(dataset)"
   ]
  },
  {
   "cell_type": "code",
   "execution_count": 88,
   "metadata": {
    "collapsed": false,
    "execution": {
     "iopub.execute_input": "2024-10-18T21:12:17.075704Z",
     "iopub.status.busy": "2024-10-18T21:12:17.075060Z",
     "iopub.status.idle": "2024-10-18T21:12:17.086335Z",
     "shell.execute_reply": "2024-10-18T21:12:17.084671Z"
    }
   },
   "outputs": [
    {
     "name": "stdout",
     "output_type": "stream",
     "text": [
      "area_calc_basin, elev_mean_basin, elev_med_basin, elev_ran_basin, elev_std_basin, slope_mean_basin,\n",
      "mvert_dist_basin, mvert_ang_basin, asp_mean_basin, elon_ratio_basin, strm_dens_basin, p_mean_basin,\n",
      "ref_et_mean_basin, aridity_basin, p_season_basin, frac_snow_basin, high_prec_fr_basin,\n",
      "high_prec_du_basin, high_prec_timing_basin, lo_prec_fr_basin, low_prec_du_basin,\n",
      "low_prec_timing_basin, p_mean_ERA5L_basin, pet_mean_ERA5L_basin, aridity_ERA5L_basin,\n",
      "p_season_ERA5L_basin, frac_snow_ERA5L_basin, high_prec_fr_ERA5L_basin, high_prec_du_ERA5L_basin,\n",
      "high_prec_timing_ERA5L_basin, lo_prec_fr_ERA5L_basin, low_prec_du_ERA5L_basin,\n",
      "low_prec_timing_ERA5L_basin, q_mean_basin, runoff_ratio_basin, hfd_mean_basin, slope_fdc_basin,\n",
      "baseflow_index_ladson_basin, stream_elas_basin, high_q_freq_basin, high_q_dur_basin, Q95_basin,\n",
      "low_q_freq_basin, low_q_dur_basin, Q5_basin, lc_dom_basin, agr_fra_basin, bare_fra_basin,\n",
      "forest_fra_basin, glac_fra_basin, lake_fra_basin, urban_fra_basin, scrub_fra_basin, wetl_fra_basin,\n",
      "lai_max_basin, lai_diff_basin, ndvi_max_basin, ndvi_min_basin, gvf_max_basin, gvf_diff_basin,\n",
      "bedrk_dep_basin, root_dep_basin, soil_poros_basin, soil_tawc_basin, sand_fra_basin, silt_fra_basin,\n",
      "clay_fra_basin, grav_fra_basin, oc_fra_basin, gc_dom_basin, gc_pa_fra_basin, gc_pb_fra_basin,\n",
      "gc_va_fra_basin, gc_vb_fra_basin, gc_23_dom_basin, gc_23_pavr_basin, gc_23_pb_basin,\n",
      "gc_23_vapy_basin, gc_23_vbsr_basin, gc_23_vbpy_basin, gc_23_vb_basin, g_dom_NI_basin,\n",
      "g621_fra_basin, g701_fra_basin, g743_fra_basin, g746_fra_basin, gbinn_fra_basin, ggnew_fra_basin,\n",
      "ggold_fra_basin, ghraun_fra_basin, gbnew_fra_basin, gbold_fra_basin, gmob_fra_basin,\n",
      "gsgos_fra_basin, gsinn_fra_basin, gsn_fra_basin, gsnew_fra_basin, gsold_fra_basin, g_frac_basin,\n",
      "g_area_basin, g_mean_el_basin, g_min_el_basin, g_max_el_basin, g_aspect_basin, g_slope_basin,\n",
      "g_slopel20_basin, g_lon_basin, g_lat_basin, degimpact_basin, typimpact_basin, Q_all_basin,\n",
      "P_ERA5L_all_basin, PET_ERA5L_all_basin, ET_ERA5L_all_basin, water_year_all_basin, P_rav_all_basin,\n",
      "PET_rav_all_basin, ET_rav_all_basin, Q_unfiltered_basin, P_ERA5L_unfiltered_basin,\n",
      "PET_ERA5L_unfiltered_basin, ET_ERA5L_unfiltered_basin, water_year_unfiltered_basin,\n",
      "P_rav_unfiltered_basin, PET_rav_unfiltered_basin, ET_rav_unfiltered_basin, V_no_gauge, name_gauge,\n",
      "river_gauge, VHM_no_gauge, gaps_hourly_gauge, obsbeg_day_gauge, obsend_day_gauge, obsbeg_hr_gauge,\n",
      "obsend_hr_gauge, typimpact_gauge, degimpact_gauge, elevation_gauge, lat_gauge, lon_gauge,\n",
      "geometry_gauge, q_mean_gauge, runoff_ratio_gauge, stream_elas_gauge, slope_fdc_gauge,\n",
      "baseflow_index_ladson_gauge, hfd_mean_gauge, Q5_gauge, Q95_gauge, high_q_freq_gauge,\n",
      "high_q_dur_gauge, low_q_freq_gauge, low_q_dur_gauge, zero_q_freq_gauge\n"
     ]
    }
   ],
   "source": [
    "print(textwrap.fill(\", \".join(dataset.static_features), width=100))"
   ]
  },
  {
   "cell_type": "code",
   "execution_count": 89,
   "metadata": {
    "collapsed": false,
    "execution": {
     "iopub.execute_input": "2024-10-18T21:12:17.093398Z",
     "iopub.status.busy": "2024-10-18T21:12:17.092556Z",
     "iopub.status.idle": "2024-10-18T21:12:17.163462Z",
     "shell.execute_reply": "2024-10-18T21:12:17.162409Z"
    }
   },
   "outputs": [
    {
     "name": "stdout",
     "output_type": "stream",
     "text": [
      "(111, 154)\n"
     ]
    }
   ],
   "source": [
    "df = dataset.fetch_static_features()\n",
    "print(df.shape)"
   ]
  },
  {
   "cell_type": "code",
   "execution_count": 90,
   "metadata": {
    "collapsed": false,
    "execution": {
     "iopub.execute_input": "2024-10-18T21:12:17.170818Z",
     "iopub.status.busy": "2024-10-18T21:12:17.169943Z",
     "iopub.status.idle": "2024-10-18T21:12:17.201149Z",
     "shell.execute_reply": "2024-10-18T21:12:17.200040Z"
    }
   },
   "outputs": [
    {
     "name": "stdout",
     "output_type": "stream",
     "text": [
      "2013\n"
     ]
    },
    {
     "data": {
      "text/plain": [
       "area_calc_basin       0\n",
       "elev_mean_basin       0\n",
       "elev_med_basin        0\n",
       "elev_ran_basin        0\n",
       "elev_std_basin        0\n",
       "                     ..\n",
       "high_q_freq_gauge    67\n",
       "high_q_dur_gauge     67\n",
       "low_q_freq_gauge     70\n",
       "low_q_dur_gauge      70\n",
       "zero_q_freq_gauge    37\n",
       "Length: 154, dtype: int64"
      ]
     },
     "execution_count": 90,
     "metadata": {},
     "output_type": "execute_result"
    }
   ],
   "source": [
    "print(df.isna().sum().sum())\n",
    "df.isna().sum()"
   ]
  },
  {
   "cell_type": "markdown",
   "metadata": {},
   "source": [
    "find those columns which have at least one NaN value\n",
    "\n"
   ]
  },
  {
   "cell_type": "code",
   "execution_count": 91,
   "metadata": {
    "collapsed": false,
    "execution": {
     "iopub.execute_input": "2024-10-18T21:12:17.211829Z",
     "iopub.status.busy": "2024-10-18T21:12:17.210816Z",
     "iopub.status.idle": "2024-10-18T21:12:17.254544Z",
     "shell.execute_reply": "2024-10-18T21:12:17.253455Z"
    }
   },
   "outputs": [
    {
     "data": {
      "text/html": [
       "<div>\n",
       "<style scoped>\n",
       "    .dataframe tbody tr th:only-of-type {\n",
       "        vertical-align: middle;\n",
       "    }\n",
       "\n",
       "    .dataframe tbody tr th {\n",
       "        vertical-align: top;\n",
       "    }\n",
       "\n",
       "    .dataframe thead th {\n",
       "        text-align: right;\n",
       "    }\n",
       "</style>\n",
       "<table border=\"1\" class=\"dataframe\">\n",
       "  <thead>\n",
       "    <tr style=\"text-align: right;\">\n",
       "      <th></th>\n",
       "      <th>high_prec_timing_basin</th>\n",
       "      <th>low_prec_timing_basin</th>\n",
       "      <th>low_prec_timing_ERA5L_basin</th>\n",
       "      <th>q_mean_basin</th>\n",
       "      <th>runoff_ratio_basin</th>\n",
       "      <th>hfd_mean_basin</th>\n",
       "      <th>slope_fdc_basin</th>\n",
       "      <th>baseflow_index_ladson_basin</th>\n",
       "      <th>stream_elas_basin</th>\n",
       "      <th>high_q_freq_basin</th>\n",
       "      <th>...</th>\n",
       "      <th>slope_fdc_gauge</th>\n",
       "      <th>baseflow_index_ladson_gauge</th>\n",
       "      <th>hfd_mean_gauge</th>\n",
       "      <th>Q5_gauge</th>\n",
       "      <th>Q95_gauge</th>\n",
       "      <th>high_q_freq_gauge</th>\n",
       "      <th>high_q_dur_gauge</th>\n",
       "      <th>low_q_freq_gauge</th>\n",
       "      <th>low_q_dur_gauge</th>\n",
       "      <th>zero_q_freq_gauge</th>\n",
       "    </tr>\n",
       "    <tr>\n",
       "      <th>id</th>\n",
       "      <th></th>\n",
       "      <th></th>\n",
       "      <th></th>\n",
       "      <th></th>\n",
       "      <th></th>\n",
       "      <th></th>\n",
       "      <th></th>\n",
       "      <th></th>\n",
       "      <th></th>\n",
       "      <th></th>\n",
       "      <th></th>\n",
       "      <th></th>\n",
       "      <th></th>\n",
       "      <th></th>\n",
       "      <th></th>\n",
       "      <th></th>\n",
       "      <th></th>\n",
       "      <th></th>\n",
       "      <th></th>\n",
       "      <th></th>\n",
       "      <th></th>\n",
       "    </tr>\n",
       "  </thead>\n",
       "  <tbody>\n",
       "    <tr>\n",
       "      <th>79</th>\n",
       "      <td>djf</td>\n",
       "      <td>jja</td>\n",
       "      <td>mam</td>\n",
       "      <td>9.389</td>\n",
       "      <td>1.786</td>\n",
       "      <td>179.900</td>\n",
       "      <td>0.404</td>\n",
       "      <td>0.901</td>\n",
       "      <td>0.507</td>\n",
       "      <td>NaN</td>\n",
       "      <td>...</td>\n",
       "      <td>0.404174</td>\n",
       "      <td>0.900813</td>\n",
       "      <td>179.900000</td>\n",
       "      <td>7.497704</td>\n",
       "      <td>12.687769</td>\n",
       "      <td>NaN</td>\n",
       "      <td>NaN</td>\n",
       "      <td>NaN</td>\n",
       "      <td>NaN</td>\n",
       "      <td>0.0</td>\n",
       "    </tr>\n",
       "    <tr>\n",
       "      <th>98</th>\n",
       "      <td>djf</td>\n",
       "      <td>jja</td>\n",
       "      <td>mam</td>\n",
       "      <td>5.952</td>\n",
       "      <td>1.178</td>\n",
       "      <td>179.800</td>\n",
       "      <td>0.561</td>\n",
       "      <td>0.822</td>\n",
       "      <td>0.666</td>\n",
       "      <td>NaN</td>\n",
       "      <td>...</td>\n",
       "      <td>0.560945</td>\n",
       "      <td>0.821769</td>\n",
       "      <td>179.800000</td>\n",
       "      <td>4.036522</td>\n",
       "      <td>9.131344</td>\n",
       "      <td>NaN</td>\n",
       "      <td>NaN</td>\n",
       "      <td>NaN</td>\n",
       "      <td>NaN</td>\n",
       "      <td>0.0</td>\n",
       "    </tr>\n",
       "    <tr>\n",
       "      <th>25</th>\n",
       "      <td>djf</td>\n",
       "      <td>jja</td>\n",
       "      <td>mam</td>\n",
       "      <td>10.317</td>\n",
       "      <td>2.346</td>\n",
       "      <td>175.167</td>\n",
       "      <td>1.441</td>\n",
       "      <td>0.756</td>\n",
       "      <td>0.579</td>\n",
       "      <td>0.077</td>\n",
       "      <td>...</td>\n",
       "      <td>1.440679</td>\n",
       "      <td>0.755520</td>\n",
       "      <td>175.166667</td>\n",
       "      <td>2.592731</td>\n",
       "      <td>24.071443</td>\n",
       "      <td>0.077236</td>\n",
       "      <td>1.000000</td>\n",
       "      <td>10.581360</td>\n",
       "      <td>22.833333</td>\n",
       "      <td>0.0</td>\n",
       "    </tr>\n",
       "    <tr>\n",
       "      <th>1</th>\n",
       "      <td>djf</td>\n",
       "      <td>jja</td>\n",
       "      <td>jja</td>\n",
       "      <td>4.546</td>\n",
       "      <td>1.115</td>\n",
       "      <td>153.417</td>\n",
       "      <td>2.715</td>\n",
       "      <td>0.561</td>\n",
       "      <td>1.365</td>\n",
       "      <td>4.001</td>\n",
       "      <td>...</td>\n",
       "      <td>2.715291</td>\n",
       "      <td>0.560762</td>\n",
       "      <td>153.416667</td>\n",
       "      <td>0.996230</td>\n",
       "      <td>12.549089</td>\n",
       "      <td>4.000913</td>\n",
       "      <td>1.714286</td>\n",
       "      <td>6.084722</td>\n",
       "      <td>3.173913</td>\n",
       "      <td>0.0</td>\n",
       "    </tr>\n",
       "    <tr>\n",
       "      <th>34</th>\n",
       "      <td>son</td>\n",
       "      <td>jja</td>\n",
       "      <td>jja</td>\n",
       "      <td>NaN</td>\n",
       "      <td>NaN</td>\n",
       "      <td>NaN</td>\n",
       "      <td>NaN</td>\n",
       "      <td>NaN</td>\n",
       "      <td>NaN</td>\n",
       "      <td>NaN</td>\n",
       "      <td>...</td>\n",
       "      <td>NaN</td>\n",
       "      <td>NaN</td>\n",
       "      <td>NaN</td>\n",
       "      <td>NaN</td>\n",
       "      <td>NaN</td>\n",
       "      <td>NaN</td>\n",
       "      <td>NaN</td>\n",
       "      <td>NaN</td>\n",
       "      <td>NaN</td>\n",
       "      <td>NaN</td>\n",
       "    </tr>\n",
       "    <tr>\n",
       "      <th>...</th>\n",
       "      <td>...</td>\n",
       "      <td>...</td>\n",
       "      <td>...</td>\n",
       "      <td>...</td>\n",
       "      <td>...</td>\n",
       "      <td>...</td>\n",
       "      <td>...</td>\n",
       "      <td>...</td>\n",
       "      <td>...</td>\n",
       "      <td>...</td>\n",
       "      <td>...</td>\n",
       "      <td>...</td>\n",
       "      <td>...</td>\n",
       "      <td>...</td>\n",
       "      <td>...</td>\n",
       "      <td>...</td>\n",
       "      <td>...</td>\n",
       "      <td>...</td>\n",
       "      <td>...</td>\n",
       "      <td>...</td>\n",
       "      <td>...</td>\n",
       "    </tr>\n",
       "    <tr>\n",
       "      <th>94</th>\n",
       "      <td>djf</td>\n",
       "      <td>jja</td>\n",
       "      <td>jja</td>\n",
       "      <td>NaN</td>\n",
       "      <td>NaN</td>\n",
       "      <td>NaN</td>\n",
       "      <td>NaN</td>\n",
       "      <td>NaN</td>\n",
       "      <td>NaN</td>\n",
       "      <td>NaN</td>\n",
       "      <td>...</td>\n",
       "      <td>NaN</td>\n",
       "      <td>NaN</td>\n",
       "      <td>NaN</td>\n",
       "      <td>NaN</td>\n",
       "      <td>NaN</td>\n",
       "      <td>NaN</td>\n",
       "      <td>NaN</td>\n",
       "      <td>NaN</td>\n",
       "      <td>NaN</td>\n",
       "      <td>NaN</td>\n",
       "    </tr>\n",
       "    <tr>\n",
       "      <th>54</th>\n",
       "      <td>djf</td>\n",
       "      <td>jja</td>\n",
       "      <td>jja</td>\n",
       "      <td>6.365</td>\n",
       "      <td>1.014</td>\n",
       "      <td>NaN</td>\n",
       "      <td>3.767</td>\n",
       "      <td>0.388</td>\n",
       "      <td>0.929</td>\n",
       "      <td>24.223</td>\n",
       "      <td>...</td>\n",
       "      <td>3.766742</td>\n",
       "      <td>0.387571</td>\n",
       "      <td>NaN</td>\n",
       "      <td>0.418586</td>\n",
       "      <td>28.213980</td>\n",
       "      <td>24.222513</td>\n",
       "      <td>4.384615</td>\n",
       "      <td>110.276178</td>\n",
       "      <td>11.533333</td>\n",
       "      <td>0.0</td>\n",
       "    </tr>\n",
       "    <tr>\n",
       "      <th>77</th>\n",
       "      <td>djf</td>\n",
       "      <td>jja</td>\n",
       "      <td>jja</td>\n",
       "      <td>2.218</td>\n",
       "      <td>0.781</td>\n",
       "      <td>238.889</td>\n",
       "      <td>1.384</td>\n",
       "      <td>0.719</td>\n",
       "      <td>0.459</td>\n",
       "      <td>0.619</td>\n",
       "      <td>...</td>\n",
       "      <td>1.383765</td>\n",
       "      <td>0.718648</td>\n",
       "      <td>238.888889</td>\n",
       "      <td>0.960756</td>\n",
       "      <td>4.925316</td>\n",
       "      <td>0.618980</td>\n",
       "      <td>1.714286</td>\n",
       "      <td>0.670562</td>\n",
       "      <td>1.857143</td>\n",
       "      <td>0.0</td>\n",
       "    </tr>\n",
       "    <tr>\n",
       "      <th>80</th>\n",
       "      <td>djf</td>\n",
       "      <td>mam</td>\n",
       "      <td>mam</td>\n",
       "      <td>4.225</td>\n",
       "      <td>0.871</td>\n",
       "      <td>179.000</td>\n",
       "      <td>1.945</td>\n",
       "      <td>0.583</td>\n",
       "      <td>0.913</td>\n",
       "      <td>1.927</td>\n",
       "      <td>...</td>\n",
       "      <td>1.945021</td>\n",
       "      <td>0.583472</td>\n",
       "      <td>179.000000</td>\n",
       "      <td>1.272295</td>\n",
       "      <td>11.076516</td>\n",
       "      <td>1.926544</td>\n",
       "      <td>1.416667</td>\n",
       "      <td>0.339978</td>\n",
       "      <td>1.000000</td>\n",
       "      <td>0.0</td>\n",
       "    </tr>\n",
       "    <tr>\n",
       "      <th>72</th>\n",
       "      <td>son</td>\n",
       "      <td>jja</td>\n",
       "      <td>jja</td>\n",
       "      <td>NaN</td>\n",
       "      <td>NaN</td>\n",
       "      <td>NaN</td>\n",
       "      <td>NaN</td>\n",
       "      <td>NaN</td>\n",
       "      <td>NaN</td>\n",
       "      <td>NaN</td>\n",
       "      <td>...</td>\n",
       "      <td>NaN</td>\n",
       "      <td>NaN</td>\n",
       "      <td>NaN</td>\n",
       "      <td>NaN</td>\n",
       "      <td>NaN</td>\n",
       "      <td>NaN</td>\n",
       "      <td>NaN</td>\n",
       "      <td>NaN</td>\n",
       "      <td>NaN</td>\n",
       "      <td>NaN</td>\n",
       "    </tr>\n",
       "  </tbody>\n",
       "</table>\n",
       "<p>111 rows × 53 columns</p>\n",
       "</div>"
      ],
      "text/plain": [
       "   high_prec_timing_basin low_prec_timing_basin low_prec_timing_ERA5L_basin  \\\n",
       "id                                                                            \n",
       "79                    djf                   jja                         mam   \n",
       "98                    djf                   jja                         mam   \n",
       "25                    djf                   jja                         mam   \n",
       "1                     djf                   jja                         jja   \n",
       "34                    son                   jja                         jja   \n",
       "..                    ...                   ...                         ...   \n",
       "94                    djf                   jja                         jja   \n",
       "54                    djf                   jja                         jja   \n",
       "77                    djf                   jja                         jja   \n",
       "80                    djf                   mam                         mam   \n",
       "72                    son                   jja                         jja   \n",
       "\n",
       "    q_mean_basin  runoff_ratio_basin  hfd_mean_basin  slope_fdc_basin  \\\n",
       "id                                                                      \n",
       "79         9.389               1.786         179.900            0.404   \n",
       "98         5.952               1.178         179.800            0.561   \n",
       "25        10.317               2.346         175.167            1.441   \n",
       "1          4.546               1.115         153.417            2.715   \n",
       "34           NaN                 NaN             NaN              NaN   \n",
       "..           ...                 ...             ...              ...   \n",
       "94           NaN                 NaN             NaN              NaN   \n",
       "54         6.365               1.014             NaN            3.767   \n",
       "77         2.218               0.781         238.889            1.384   \n",
       "80         4.225               0.871         179.000            1.945   \n",
       "72           NaN                 NaN             NaN              NaN   \n",
       "\n",
       "    baseflow_index_ladson_basin  stream_elas_basin  high_q_freq_basin  ...  \\\n",
       "id                                                                     ...   \n",
       "79                        0.901              0.507                NaN  ...   \n",
       "98                        0.822              0.666                NaN  ...   \n",
       "25                        0.756              0.579              0.077  ...   \n",
       "1                         0.561              1.365              4.001  ...   \n",
       "34                          NaN                NaN                NaN  ...   \n",
       "..                          ...                ...                ...  ...   \n",
       "94                          NaN                NaN                NaN  ...   \n",
       "54                        0.388              0.929             24.223  ...   \n",
       "77                        0.719              0.459              0.619  ...   \n",
       "80                        0.583              0.913              1.927  ...   \n",
       "72                          NaN                NaN                NaN  ...   \n",
       "\n",
       "    slope_fdc_gauge  baseflow_index_ladson_gauge  hfd_mean_gauge  Q5_gauge  \\\n",
       "id                                                                           \n",
       "79         0.404174                     0.900813      179.900000  7.497704   \n",
       "98         0.560945                     0.821769      179.800000  4.036522   \n",
       "25         1.440679                     0.755520      175.166667  2.592731   \n",
       "1          2.715291                     0.560762      153.416667  0.996230   \n",
       "34              NaN                          NaN             NaN       NaN   \n",
       "..              ...                          ...             ...       ...   \n",
       "94              NaN                          NaN             NaN       NaN   \n",
       "54         3.766742                     0.387571             NaN  0.418586   \n",
       "77         1.383765                     0.718648      238.888889  0.960756   \n",
       "80         1.945021                     0.583472      179.000000  1.272295   \n",
       "72              NaN                          NaN             NaN       NaN   \n",
       "\n",
       "    Q95_gauge  high_q_freq_gauge  high_q_dur_gauge  low_q_freq_gauge  \\\n",
       "id                                                                     \n",
       "79  12.687769                NaN               NaN               NaN   \n",
       "98   9.131344                NaN               NaN               NaN   \n",
       "25  24.071443           0.077236          1.000000         10.581360   \n",
       "1   12.549089           4.000913          1.714286          6.084722   \n",
       "34        NaN                NaN               NaN               NaN   \n",
       "..        ...                ...               ...               ...   \n",
       "94        NaN                NaN               NaN               NaN   \n",
       "54  28.213980          24.222513          4.384615        110.276178   \n",
       "77   4.925316           0.618980          1.714286          0.670562   \n",
       "80  11.076516           1.926544          1.416667          0.339978   \n",
       "72        NaN                NaN               NaN               NaN   \n",
       "\n",
       "    low_q_dur_gauge  zero_q_freq_gauge  \n",
       "id                                      \n",
       "79              NaN                0.0  \n",
       "98              NaN                0.0  \n",
       "25        22.833333                0.0  \n",
       "1          3.173913                0.0  \n",
       "34              NaN                NaN  \n",
       "..              ...                ...  \n",
       "94              NaN                NaN  \n",
       "54        11.533333                0.0  \n",
       "77         1.857143                0.0  \n",
       "80         1.000000                0.0  \n",
       "72              NaN                NaN  \n",
       "\n",
       "[111 rows x 53 columns]"
      ]
     },
     "execution_count": 91,
     "metadata": {},
     "output_type": "execute_result"
    }
   ],
   "source": [
    "df.loc[:, (df.isna().sum()>0)]"
   ]
  },
  {
   "cell_type": "code",
   "execution_count": 92,
   "metadata": {
    "collapsed": false,
    "execution": {
     "iopub.execute_input": "2024-10-18T21:12:17.265331Z",
     "iopub.status.busy": "2024-10-18T21:12:17.264033Z",
     "iopub.status.idle": "2024-10-18T21:12:17.286590Z",
     "shell.execute_reply": "2024-10-18T21:12:17.285408Z"
    }
   },
   "outputs": [
    {
     "data": {
      "text/plain": [
       "high_prec_timing_basin          4\n",
       "low_prec_timing_basin           1\n",
       "low_prec_timing_ERA5L_basin     2\n",
       "q_mean_basin                   37\n",
       "runoff_ratio_basin             37\n",
       "hfd_mean_basin                 42\n",
       "slope_fdc_basin                37\n",
       "baseflow_index_ladson_basin    37\n",
       "stream_elas_basin              37\n",
       "high_q_freq_basin              67\n",
       "high_q_dur_basin               67\n",
       "Q95_basin                      37\n",
       "low_q_freq_basin               70\n",
       "low_q_dur_basin                70\n",
       "Q5_basin                       37\n",
       "g_mean_el_basin                47\n",
       "g_min_el_basin                 47\n",
       "g_max_el_basin                 47\n",
       "g_aspect_basin                 47\n",
       "g_slope_basin                  47\n",
       "g_slopel20_basin               47\n",
       "g_lon_basin                    47\n",
       "g_lat_basin                    47\n",
       "Q_all_basin                    37\n",
       "P_ERA5L_all_basin              37\n",
       "PET_ERA5L_all_basin            37\n",
       "ET_ERA5L_all_basin             37\n",
       "water_year_all_basin           37\n",
       "P_rav_all_basin                37\n",
       "PET_rav_all_basin              37\n",
       "ET_rav_all_basin               37\n",
       "Q_unfiltered_basin             14\n",
       "P_ERA5L_unfiltered_basin       14\n",
       "PET_ERA5L_unfiltered_basin     14\n",
       "ET_ERA5L_unfiltered_basin      14\n",
       "water_year_unfiltered_basin    14\n",
       "P_rav_unfiltered_basin         14\n",
       "PET_rav_unfiltered_basin       14\n",
       "ET_rav_unfiltered_basin        14\n",
       "gaps_hourly_gauge              35\n",
       "q_mean_gauge                   37\n",
       "runoff_ratio_gauge             37\n",
       "stream_elas_gauge              37\n",
       "slope_fdc_gauge                37\n",
       "baseflow_index_ladson_gauge    37\n",
       "hfd_mean_gauge                 42\n",
       "Q5_gauge                       37\n",
       "Q95_gauge                      37\n",
       "high_q_freq_gauge              67\n",
       "high_q_dur_gauge               67\n",
       "low_q_freq_gauge               70\n",
       "low_q_dur_gauge                70\n",
       "zero_q_freq_gauge              37\n",
       "dtype: int64"
      ]
     },
     "execution_count": 92,
     "metadata": {},
     "output_type": "execute_result"
    }
   ],
   "source": [
    "df.loc[:, (df.isna().sum()>0)].isna().sum()"
   ]
  },
  {
   "cell_type": "code",
   "execution_count": 93,
   "metadata": {
    "collapsed": false,
    "execution": {
     "iopub.execute_input": "2024-10-18T21:12:17.295588Z",
     "iopub.status.busy": "2024-10-18T21:12:17.294093Z",
     "iopub.status.idle": "2024-10-18T21:12:17.340094Z",
     "shell.execute_reply": "2024-10-18T21:12:17.339045Z"
    }
   },
   "outputs": [
    {
     "name": "stdout",
     "output_type": "stream",
     "text": [
      "36\n",
      "max_temp_C, mean_temp_C, min_temp_C, 2m_dp_temp_max, 2m_dp_temp_mean, 2m_dp_temp_min, 10m_wind_u,\n",
      "10m_wind_v, fcst_alb, lai_high_veg, lai_low_veg, swe, surf_net_solar_rad_max,\n",
      "surf_net_solar_rad_mean, surf_net_therm_rad_max, surf_net_therm_rad_mean, surf_press, total_et,\n",
      "pcp_mm, pet_mm, volsw_123, volsw_4, ref_et_mm, surf_press_rav, total_et_rav, prec_carra,\n",
      "2m_temp_rav, 10m_wind_u_rav, 10m_wind_v_rav, surf_dwn_therm_rad_rav, surf_outg_therm_rad_rav,\n",
      "surf_dwn_solar_rad_rav, 2m_qv_rav, prec_rav, grdflx_rav, obs_q_cms\n"
     ]
    }
   ],
   "source": [
    "print(dataset.num_dynamic())\n",
    "print(textwrap.fill(\", \".join(dataset.dynamic_features), width=100))"
   ]
  },
  {
   "cell_type": "code",
   "execution_count": 94,
   "metadata": {
    "collapsed": false,
    "execution": {
     "iopub.execute_input": "2024-10-18T21:12:17.346364Z",
     "iopub.status.busy": "2024-10-18T21:12:17.345470Z",
     "iopub.status.idle": "2024-10-18T21:12:17.478453Z",
     "shell.execute_reply": "2024-10-18T21:12:17.477144Z"
    }
   },
   "outputs": [
    {
     "name": "stdout",
     "output_type": "stream",
     "text": [
      "RainfallRunoff(LamaHIce) with 76 stations, 28 dynamic and 154 static features\n"
     ]
    }
   ],
   "source": [
    "dataset = RainfallRunoff('LamaHIce', timestep='H', data_type='total_upstrm', path=gscad_path, verbosity=0)\n",
    "print(dataset)"
   ]
  },
  {
   "cell_type": "code",
   "execution_count": 95,
   "metadata": {
    "collapsed": false,
    "execution": {
     "iopub.execute_input": "2024-10-18T21:12:17.486424Z",
     "iopub.status.busy": "2024-10-18T21:12:17.485171Z",
     "iopub.status.idle": "2024-10-18T21:12:17.495075Z",
     "shell.execute_reply": "2024-10-18T21:12:17.493807Z"
    }
   },
   "outputs": [
    {
     "name": "stdout",
     "output_type": "stream",
     "text": [
      "area_calc_basin, elev_mean_basin, elev_med_basin, elev_ran_basin, elev_std_basin, slope_mean_basin,\n",
      "mvert_dist_basin, mvert_ang_basin, asp_mean_basin, elon_ratio_basin, strm_dens_basin, p_mean_basin,\n",
      "ref_et_mean_basin, aridity_basin, p_season_basin, frac_snow_basin, high_prec_fr_basin,\n",
      "high_prec_du_basin, high_prec_timing_basin, lo_prec_fr_basin, low_prec_du_basin,\n",
      "low_prec_timing_basin, p_mean_ERA5L_basin, pet_mean_ERA5L_basin, aridity_ERA5L_basin,\n",
      "p_season_ERA5L_basin, frac_snow_ERA5L_basin, high_prec_fr_ERA5L_basin, high_prec_du_ERA5L_basin,\n",
      "high_prec_timing_ERA5L_basin, lo_prec_fr_ERA5L_basin, low_prec_du_ERA5L_basin,\n",
      "low_prec_timing_ERA5L_basin, q_mean_basin, runoff_ratio_basin, hfd_mean_basin, slope_fdc_basin,\n",
      "baseflow_index_ladson_basin, stream_elas_basin, high_q_freq_basin, high_q_dur_basin, Q95_basin,\n",
      "low_q_freq_basin, low_q_dur_basin, Q5_basin, lc_dom_basin, agr_fra_basin, bare_fra_basin,\n",
      "forest_fra_basin, glac_fra_basin, lake_fra_basin, urban_fra_basin, scrub_fra_basin, wetl_fra_basin,\n",
      "lai_max_basin, lai_diff_basin, ndvi_max_basin, ndvi_min_basin, gvf_max_basin, gvf_diff_basin,\n",
      "bedrk_dep_basin, root_dep_basin, soil_poros_basin, soil_tawc_basin, sand_fra_basin, silt_fra_basin,\n",
      "clay_fra_basin, grav_fra_basin, oc_fra_basin, gc_dom_basin, gc_pa_fra_basin, gc_pb_fra_basin,\n",
      "gc_va_fra_basin, gc_vb_fra_basin, gc_23_dom_basin, gc_23_pavr_basin, gc_23_pb_basin,\n",
      "gc_23_vapy_basin, gc_23_vbsr_basin, gc_23_vbpy_basin, gc_23_vb_basin, g_dom_NI_basin,\n",
      "g621_fra_basin, g701_fra_basin, g743_fra_basin, g746_fra_basin, gbinn_fra_basin, ggnew_fra_basin,\n",
      "ggold_fra_basin, ghraun_fra_basin, gbnew_fra_basin, gbold_fra_basin, gmob_fra_basin,\n",
      "gsgos_fra_basin, gsinn_fra_basin, gsn_fra_basin, gsnew_fra_basin, gsold_fra_basin, g_frac_basin,\n",
      "g_area_basin, g_mean_el_basin, g_min_el_basin, g_max_el_basin, g_aspect_basin, g_slope_basin,\n",
      "g_slopel20_basin, g_lon_basin, g_lat_basin, degimpact_basin, typimpact_basin, Q_all_basin,\n",
      "P_ERA5L_all_basin, PET_ERA5L_all_basin, ET_ERA5L_all_basin, water_year_all_basin, P_rav_all_basin,\n",
      "PET_rav_all_basin, ET_rav_all_basin, Q_unfiltered_basin, P_ERA5L_unfiltered_basin,\n",
      "PET_ERA5L_unfiltered_basin, ET_ERA5L_unfiltered_basin, water_year_unfiltered_basin,\n",
      "P_rav_unfiltered_basin, PET_rav_unfiltered_basin, ET_rav_unfiltered_basin, V_no_gauge, name_gauge,\n",
      "river_gauge, VHM_no_gauge, gaps_hourly_gauge, obsbeg_day_gauge, obsend_day_gauge, obsbeg_hr_gauge,\n",
      "obsend_hr_gauge, typimpact_gauge, degimpact_gauge, elevation_gauge, lat_gauge, lon_gauge,\n",
      "geometry_gauge, q_mean_gauge, runoff_ratio_gauge, stream_elas_gauge, slope_fdc_gauge,\n",
      "baseflow_index_ladson_gauge, hfd_mean_gauge, Q5_gauge, Q95_gauge, high_q_freq_gauge,\n",
      "high_q_dur_gauge, low_q_freq_gauge, low_q_dur_gauge, zero_q_freq_gauge\n"
     ]
    }
   ],
   "source": [
    "print(textwrap.fill(\", \".join(dataset.static_features), width=100))"
   ]
  },
  {
   "cell_type": "code",
   "execution_count": 96,
   "metadata": {
    "collapsed": false,
    "execution": {
     "iopub.execute_input": "2024-10-18T21:12:17.502158Z",
     "iopub.status.busy": "2024-10-18T21:12:17.501397Z",
     "iopub.status.idle": "2024-10-18T21:12:17.567128Z",
     "shell.execute_reply": "2024-10-18T21:12:17.565980Z"
    }
   },
   "outputs": [
    {
     "name": "stdout",
     "output_type": "stream",
     "text": [
      "(76, 154)\n"
     ]
    }
   ],
   "source": [
    "df = dataset.fetch_static_features()\n",
    "print(df.shape)"
   ]
  },
  {
   "cell_type": "code",
   "execution_count": 97,
   "metadata": {
    "collapsed": false,
    "execution": {
     "iopub.execute_input": "2024-10-18T21:12:17.576386Z",
     "iopub.status.busy": "2024-10-18T21:12:17.575446Z",
     "iopub.status.idle": "2024-10-18T21:12:17.606207Z",
     "shell.execute_reply": "2024-10-18T21:12:17.604739Z"
    }
   },
   "outputs": [
    {
     "name": "stdout",
     "output_type": "stream",
     "text": [
      "1121\n"
     ]
    },
    {
     "data": {
      "text/plain": [
       "area_calc_basin       0\n",
       "elev_mean_basin       0\n",
       "elev_med_basin        0\n",
       "elev_ran_basin        0\n",
       "elev_std_basin        0\n",
       "                     ..\n",
       "high_q_freq_gauge    41\n",
       "high_q_dur_gauge     41\n",
       "low_q_freq_gauge     46\n",
       "low_q_dur_gauge      46\n",
       "zero_q_freq_gauge    18\n",
       "Length: 154, dtype: int64"
      ]
     },
     "execution_count": 97,
     "metadata": {},
     "output_type": "execute_result"
    }
   ],
   "source": [
    "print(df.isna().sum().sum())\n",
    "df.isna().sum()"
   ]
  },
  {
   "cell_type": "markdown",
   "metadata": {},
   "source": [
    "find those columns which have at least one NaN value\n",
    "\n"
   ]
  },
  {
   "cell_type": "code",
   "execution_count": 98,
   "metadata": {
    "collapsed": false,
    "execution": {
     "iopub.execute_input": "2024-10-18T21:12:17.613985Z",
     "iopub.status.busy": "2024-10-18T21:12:17.613053Z",
     "iopub.status.idle": "2024-10-18T21:12:17.656560Z",
     "shell.execute_reply": "2024-10-18T21:12:17.655342Z"
    }
   },
   "outputs": [
    {
     "data": {
      "text/html": [
       "<div>\n",
       "<style scoped>\n",
       "    .dataframe tbody tr th:only-of-type {\n",
       "        vertical-align: middle;\n",
       "    }\n",
       "\n",
       "    .dataframe tbody tr th {\n",
       "        vertical-align: top;\n",
       "    }\n",
       "\n",
       "    .dataframe thead th {\n",
       "        text-align: right;\n",
       "    }\n",
       "</style>\n",
       "<table border=\"1\" class=\"dataframe\">\n",
       "  <thead>\n",
       "    <tr style=\"text-align: right;\">\n",
       "      <th></th>\n",
       "      <th>high_prec_timing_basin</th>\n",
       "      <th>low_prec_timing_ERA5L_basin</th>\n",
       "      <th>q_mean_basin</th>\n",
       "      <th>runoff_ratio_basin</th>\n",
       "      <th>hfd_mean_basin</th>\n",
       "      <th>slope_fdc_basin</th>\n",
       "      <th>baseflow_index_ladson_basin</th>\n",
       "      <th>stream_elas_basin</th>\n",
       "      <th>high_q_freq_basin</th>\n",
       "      <th>high_q_dur_basin</th>\n",
       "      <th>...</th>\n",
       "      <th>slope_fdc_gauge</th>\n",
       "      <th>baseflow_index_ladson_gauge</th>\n",
       "      <th>hfd_mean_gauge</th>\n",
       "      <th>Q5_gauge</th>\n",
       "      <th>Q95_gauge</th>\n",
       "      <th>high_q_freq_gauge</th>\n",
       "      <th>high_q_dur_gauge</th>\n",
       "      <th>low_q_freq_gauge</th>\n",
       "      <th>low_q_dur_gauge</th>\n",
       "      <th>zero_q_freq_gauge</th>\n",
       "    </tr>\n",
       "    <tr>\n",
       "      <th>id</th>\n",
       "      <th></th>\n",
       "      <th></th>\n",
       "      <th></th>\n",
       "      <th></th>\n",
       "      <th></th>\n",
       "      <th></th>\n",
       "      <th></th>\n",
       "      <th></th>\n",
       "      <th></th>\n",
       "      <th></th>\n",
       "      <th></th>\n",
       "      <th></th>\n",
       "      <th></th>\n",
       "      <th></th>\n",
       "      <th></th>\n",
       "      <th></th>\n",
       "      <th></th>\n",
       "      <th></th>\n",
       "      <th></th>\n",
       "      <th></th>\n",
       "      <th></th>\n",
       "    </tr>\n",
       "  </thead>\n",
       "  <tbody>\n",
       "    <tr>\n",
       "      <th>79</th>\n",
       "      <td>djf</td>\n",
       "      <td>mam</td>\n",
       "      <td>9.389</td>\n",
       "      <td>1.786</td>\n",
       "      <td>179.900</td>\n",
       "      <td>0.404</td>\n",
       "      <td>0.901</td>\n",
       "      <td>0.507</td>\n",
       "      <td>NaN</td>\n",
       "      <td>NaN</td>\n",
       "      <td>...</td>\n",
       "      <td>0.404174</td>\n",
       "      <td>0.900813</td>\n",
       "      <td>179.900000</td>\n",
       "      <td>7.497704</td>\n",
       "      <td>12.687769</td>\n",
       "      <td>NaN</td>\n",
       "      <td>NaN</td>\n",
       "      <td>NaN</td>\n",
       "      <td>NaN</td>\n",
       "      <td>0.0</td>\n",
       "    </tr>\n",
       "    <tr>\n",
       "      <th>98</th>\n",
       "      <td>djf</td>\n",
       "      <td>mam</td>\n",
       "      <td>5.952</td>\n",
       "      <td>1.178</td>\n",
       "      <td>179.800</td>\n",
       "      <td>0.561</td>\n",
       "      <td>0.822</td>\n",
       "      <td>0.666</td>\n",
       "      <td>NaN</td>\n",
       "      <td>NaN</td>\n",
       "      <td>...</td>\n",
       "      <td>0.560945</td>\n",
       "      <td>0.821769</td>\n",
       "      <td>179.800000</td>\n",
       "      <td>4.036522</td>\n",
       "      <td>9.131344</td>\n",
       "      <td>NaN</td>\n",
       "      <td>NaN</td>\n",
       "      <td>NaN</td>\n",
       "      <td>NaN</td>\n",
       "      <td>0.0</td>\n",
       "    </tr>\n",
       "    <tr>\n",
       "      <th>25</th>\n",
       "      <td>djf</td>\n",
       "      <td>mam</td>\n",
       "      <td>10.317</td>\n",
       "      <td>2.346</td>\n",
       "      <td>175.167</td>\n",
       "      <td>1.441</td>\n",
       "      <td>0.756</td>\n",
       "      <td>0.579</td>\n",
       "      <td>0.077</td>\n",
       "      <td>1.000</td>\n",
       "      <td>...</td>\n",
       "      <td>1.440679</td>\n",
       "      <td>0.755520</td>\n",
       "      <td>175.166667</td>\n",
       "      <td>2.592731</td>\n",
       "      <td>24.071443</td>\n",
       "      <td>0.077236</td>\n",
       "      <td>1.000000</td>\n",
       "      <td>10.581360</td>\n",
       "      <td>22.833333</td>\n",
       "      <td>0.0</td>\n",
       "    </tr>\n",
       "    <tr>\n",
       "      <th>1</th>\n",
       "      <td>djf</td>\n",
       "      <td>jja</td>\n",
       "      <td>4.546</td>\n",
       "      <td>1.115</td>\n",
       "      <td>153.417</td>\n",
       "      <td>2.715</td>\n",
       "      <td>0.561</td>\n",
       "      <td>1.365</td>\n",
       "      <td>4.001</td>\n",
       "      <td>1.714</td>\n",
       "      <td>...</td>\n",
       "      <td>2.715291</td>\n",
       "      <td>0.560762</td>\n",
       "      <td>153.416667</td>\n",
       "      <td>0.996230</td>\n",
       "      <td>12.549089</td>\n",
       "      <td>4.000913</td>\n",
       "      <td>1.714286</td>\n",
       "      <td>6.084722</td>\n",
       "      <td>3.173913</td>\n",
       "      <td>0.0</td>\n",
       "    </tr>\n",
       "    <tr>\n",
       "      <th>34</th>\n",
       "      <td>son</td>\n",
       "      <td>jja</td>\n",
       "      <td>NaN</td>\n",
       "      <td>NaN</td>\n",
       "      <td>NaN</td>\n",
       "      <td>NaN</td>\n",
       "      <td>NaN</td>\n",
       "      <td>NaN</td>\n",
       "      <td>NaN</td>\n",
       "      <td>NaN</td>\n",
       "      <td>...</td>\n",
       "      <td>NaN</td>\n",
       "      <td>NaN</td>\n",
       "      <td>NaN</td>\n",
       "      <td>NaN</td>\n",
       "      <td>NaN</td>\n",
       "      <td>NaN</td>\n",
       "      <td>NaN</td>\n",
       "      <td>NaN</td>\n",
       "      <td>NaN</td>\n",
       "      <td>NaN</td>\n",
       "    </tr>\n",
       "    <tr>\n",
       "      <th>...</th>\n",
       "      <td>...</td>\n",
       "      <td>...</td>\n",
       "      <td>...</td>\n",
       "      <td>...</td>\n",
       "      <td>...</td>\n",
       "      <td>...</td>\n",
       "      <td>...</td>\n",
       "      <td>...</td>\n",
       "      <td>...</td>\n",
       "      <td>...</td>\n",
       "      <td>...</td>\n",
       "      <td>...</td>\n",
       "      <td>...</td>\n",
       "      <td>...</td>\n",
       "      <td>...</td>\n",
       "      <td>...</td>\n",
       "      <td>...</td>\n",
       "      <td>...</td>\n",
       "      <td>...</td>\n",
       "      <td>...</td>\n",
       "      <td>...</td>\n",
       "    </tr>\n",
       "    <tr>\n",
       "      <th>61</th>\n",
       "      <td>djf</td>\n",
       "      <td>mam</td>\n",
       "      <td>NaN</td>\n",
       "      <td>NaN</td>\n",
       "      <td>NaN</td>\n",
       "      <td>NaN</td>\n",
       "      <td>NaN</td>\n",
       "      <td>NaN</td>\n",
       "      <td>NaN</td>\n",
       "      <td>NaN</td>\n",
       "      <td>...</td>\n",
       "      <td>NaN</td>\n",
       "      <td>NaN</td>\n",
       "      <td>NaN</td>\n",
       "      <td>NaN</td>\n",
       "      <td>NaN</td>\n",
       "      <td>NaN</td>\n",
       "      <td>NaN</td>\n",
       "      <td>NaN</td>\n",
       "      <td>NaN</td>\n",
       "      <td>NaN</td>\n",
       "    </tr>\n",
       "    <tr>\n",
       "      <th>94</th>\n",
       "      <td>djf</td>\n",
       "      <td>jja</td>\n",
       "      <td>NaN</td>\n",
       "      <td>NaN</td>\n",
       "      <td>NaN</td>\n",
       "      <td>NaN</td>\n",
       "      <td>NaN</td>\n",
       "      <td>NaN</td>\n",
       "      <td>NaN</td>\n",
       "      <td>NaN</td>\n",
       "      <td>...</td>\n",
       "      <td>NaN</td>\n",
       "      <td>NaN</td>\n",
       "      <td>NaN</td>\n",
       "      <td>NaN</td>\n",
       "      <td>NaN</td>\n",
       "      <td>NaN</td>\n",
       "      <td>NaN</td>\n",
       "      <td>NaN</td>\n",
       "      <td>NaN</td>\n",
       "      <td>NaN</td>\n",
       "    </tr>\n",
       "    <tr>\n",
       "      <th>54</th>\n",
       "      <td>djf</td>\n",
       "      <td>jja</td>\n",
       "      <td>6.365</td>\n",
       "      <td>1.014</td>\n",
       "      <td>NaN</td>\n",
       "      <td>3.767</td>\n",
       "      <td>0.388</td>\n",
       "      <td>0.929</td>\n",
       "      <td>24.223</td>\n",
       "      <td>4.385</td>\n",
       "      <td>...</td>\n",
       "      <td>3.766742</td>\n",
       "      <td>0.387571</td>\n",
       "      <td>NaN</td>\n",
       "      <td>0.418586</td>\n",
       "      <td>28.213980</td>\n",
       "      <td>24.222513</td>\n",
       "      <td>4.384615</td>\n",
       "      <td>110.276178</td>\n",
       "      <td>11.533333</td>\n",
       "      <td>0.0</td>\n",
       "    </tr>\n",
       "    <tr>\n",
       "      <th>80</th>\n",
       "      <td>djf</td>\n",
       "      <td>mam</td>\n",
       "      <td>4.225</td>\n",
       "      <td>0.871</td>\n",
       "      <td>179.000</td>\n",
       "      <td>1.945</td>\n",
       "      <td>0.583</td>\n",
       "      <td>0.913</td>\n",
       "      <td>1.927</td>\n",
       "      <td>1.417</td>\n",
       "      <td>...</td>\n",
       "      <td>1.945021</td>\n",
       "      <td>0.583472</td>\n",
       "      <td>179.000000</td>\n",
       "      <td>1.272295</td>\n",
       "      <td>11.076516</td>\n",
       "      <td>1.926544</td>\n",
       "      <td>1.416667</td>\n",
       "      <td>0.339978</td>\n",
       "      <td>1.000000</td>\n",
       "      <td>0.0</td>\n",
       "    </tr>\n",
       "    <tr>\n",
       "      <th>72</th>\n",
       "      <td>son</td>\n",
       "      <td>jja</td>\n",
       "      <td>NaN</td>\n",
       "      <td>NaN</td>\n",
       "      <td>NaN</td>\n",
       "      <td>NaN</td>\n",
       "      <td>NaN</td>\n",
       "      <td>NaN</td>\n",
       "      <td>NaN</td>\n",
       "      <td>NaN</td>\n",
       "      <td>...</td>\n",
       "      <td>NaN</td>\n",
       "      <td>NaN</td>\n",
       "      <td>NaN</td>\n",
       "      <td>NaN</td>\n",
       "      <td>NaN</td>\n",
       "      <td>NaN</td>\n",
       "      <td>NaN</td>\n",
       "      <td>NaN</td>\n",
       "      <td>NaN</td>\n",
       "      <td>NaN</td>\n",
       "    </tr>\n",
       "  </tbody>\n",
       "</table>\n",
       "<p>76 rows × 51 columns</p>\n",
       "</div>"
      ],
      "text/plain": [
       "   high_prec_timing_basin low_prec_timing_ERA5L_basin  q_mean_basin  \\\n",
       "id                                                                    \n",
       "79                    djf                         mam         9.389   \n",
       "98                    djf                         mam         5.952   \n",
       "25                    djf                         mam        10.317   \n",
       "1                     djf                         jja         4.546   \n",
       "34                    son                         jja           NaN   \n",
       "..                    ...                         ...           ...   \n",
       "61                    djf                         mam           NaN   \n",
       "94                    djf                         jja           NaN   \n",
       "54                    djf                         jja         6.365   \n",
       "80                    djf                         mam         4.225   \n",
       "72                    son                         jja           NaN   \n",
       "\n",
       "    runoff_ratio_basin  hfd_mean_basin  slope_fdc_basin  \\\n",
       "id                                                        \n",
       "79               1.786         179.900            0.404   \n",
       "98               1.178         179.800            0.561   \n",
       "25               2.346         175.167            1.441   \n",
       "1                1.115         153.417            2.715   \n",
       "34                 NaN             NaN              NaN   \n",
       "..                 ...             ...              ...   \n",
       "61                 NaN             NaN              NaN   \n",
       "94                 NaN             NaN              NaN   \n",
       "54               1.014             NaN            3.767   \n",
       "80               0.871         179.000            1.945   \n",
       "72                 NaN             NaN              NaN   \n",
       "\n",
       "    baseflow_index_ladson_basin  stream_elas_basin  high_q_freq_basin  \\\n",
       "id                                                                      \n",
       "79                        0.901              0.507                NaN   \n",
       "98                        0.822              0.666                NaN   \n",
       "25                        0.756              0.579              0.077   \n",
       "1                         0.561              1.365              4.001   \n",
       "34                          NaN                NaN                NaN   \n",
       "..                          ...                ...                ...   \n",
       "61                          NaN                NaN                NaN   \n",
       "94                          NaN                NaN                NaN   \n",
       "54                        0.388              0.929             24.223   \n",
       "80                        0.583              0.913              1.927   \n",
       "72                          NaN                NaN                NaN   \n",
       "\n",
       "    high_q_dur_basin  ...  slope_fdc_gauge  baseflow_index_ladson_gauge  \\\n",
       "id                    ...                                                 \n",
       "79               NaN  ...         0.404174                     0.900813   \n",
       "98               NaN  ...         0.560945                     0.821769   \n",
       "25             1.000  ...         1.440679                     0.755520   \n",
       "1              1.714  ...         2.715291                     0.560762   \n",
       "34               NaN  ...              NaN                          NaN   \n",
       "..               ...  ...              ...                          ...   \n",
       "61               NaN  ...              NaN                          NaN   \n",
       "94               NaN  ...              NaN                          NaN   \n",
       "54             4.385  ...         3.766742                     0.387571   \n",
       "80             1.417  ...         1.945021                     0.583472   \n",
       "72               NaN  ...              NaN                          NaN   \n",
       "\n",
       "    hfd_mean_gauge  Q5_gauge  Q95_gauge  high_q_freq_gauge  high_q_dur_gauge  \\\n",
       "id                                                                             \n",
       "79      179.900000  7.497704  12.687769                NaN               NaN   \n",
       "98      179.800000  4.036522   9.131344                NaN               NaN   \n",
       "25      175.166667  2.592731  24.071443           0.077236          1.000000   \n",
       "1       153.416667  0.996230  12.549089           4.000913          1.714286   \n",
       "34             NaN       NaN        NaN                NaN               NaN   \n",
       "..             ...       ...        ...                ...               ...   \n",
       "61             NaN       NaN        NaN                NaN               NaN   \n",
       "94             NaN       NaN        NaN                NaN               NaN   \n",
       "54             NaN  0.418586  28.213980          24.222513          4.384615   \n",
       "80      179.000000  1.272295  11.076516           1.926544          1.416667   \n",
       "72             NaN       NaN        NaN                NaN               NaN   \n",
       "\n",
       "    low_q_freq_gauge  low_q_dur_gauge  zero_q_freq_gauge  \n",
       "id                                                        \n",
       "79               NaN              NaN                0.0  \n",
       "98               NaN              NaN                0.0  \n",
       "25         10.581360        22.833333                0.0  \n",
       "1           6.084722         3.173913                0.0  \n",
       "34               NaN              NaN                NaN  \n",
       "..               ...              ...                ...  \n",
       "61               NaN              NaN                NaN  \n",
       "94               NaN              NaN                NaN  \n",
       "54        110.276178        11.533333                0.0  \n",
       "80          0.339978         1.000000                0.0  \n",
       "72               NaN              NaN                NaN  \n",
       "\n",
       "[76 rows x 51 columns]"
      ]
     },
     "execution_count": 98,
     "metadata": {},
     "output_type": "execute_result"
    }
   ],
   "source": [
    "df.loc[:, (df.isna().sum()>0)]"
   ]
  },
  {
   "cell_type": "code",
   "execution_count": 99,
   "metadata": {
    "collapsed": false,
    "execution": {
     "iopub.execute_input": "2024-10-18T21:12:17.663992Z",
     "iopub.status.busy": "2024-10-18T21:12:17.663299Z",
     "iopub.status.idle": "2024-10-18T21:12:17.683657Z",
     "shell.execute_reply": "2024-10-18T21:12:17.682300Z"
    }
   },
   "outputs": [
    {
     "data": {
      "text/plain": [
       "high_prec_timing_basin          3\n",
       "low_prec_timing_ERA5L_basin     2\n",
       "q_mean_basin                   18\n",
       "runoff_ratio_basin             18\n",
       "hfd_mean_basin                 21\n",
       "slope_fdc_basin                18\n",
       "baseflow_index_ladson_basin    18\n",
       "stream_elas_basin              18\n",
       "high_q_freq_basin              41\n",
       "high_q_dur_basin               41\n",
       "Q95_basin                      18\n",
       "low_q_freq_basin               46\n",
       "low_q_dur_basin                46\n",
       "Q5_basin                       18\n",
       "g_mean_el_basin                36\n",
       "g_min_el_basin                 36\n",
       "g_max_el_basin                 36\n",
       "g_aspect_basin                 36\n",
       "g_slope_basin                  36\n",
       "g_slopel20_basin               36\n",
       "g_lon_basin                    36\n",
       "g_lat_basin                    36\n",
       "Q_all_basin                    18\n",
       "P_ERA5L_all_basin              18\n",
       "PET_ERA5L_all_basin            18\n",
       "ET_ERA5L_all_basin             18\n",
       "water_year_all_basin           18\n",
       "P_rav_all_basin                18\n",
       "PET_rav_all_basin              18\n",
       "ET_rav_all_basin               18\n",
       "Q_unfiltered_basin              3\n",
       "P_ERA5L_unfiltered_basin        3\n",
       "PET_ERA5L_unfiltered_basin      3\n",
       "ET_ERA5L_unfiltered_basin       3\n",
       "water_year_unfiltered_basin     3\n",
       "P_rav_unfiltered_basin          3\n",
       "PET_rav_unfiltered_basin        3\n",
       "ET_rav_unfiltered_basin         3\n",
       "q_mean_gauge                   18\n",
       "runoff_ratio_gauge             18\n",
       "stream_elas_gauge              18\n",
       "slope_fdc_gauge                18\n",
       "baseflow_index_ladson_gauge    18\n",
       "hfd_mean_gauge                 21\n",
       "Q5_gauge                       18\n",
       "Q95_gauge                      18\n",
       "high_q_freq_gauge              41\n",
       "high_q_dur_gauge               41\n",
       "low_q_freq_gauge               46\n",
       "low_q_dur_gauge                46\n",
       "zero_q_freq_gauge              18\n",
       "dtype: int64"
      ]
     },
     "execution_count": 99,
     "metadata": {},
     "output_type": "execute_result"
    }
   ],
   "source": [
    "df.loc[:, (df.isna().sum()>0)].isna().sum()"
   ]
  },
  {
   "cell_type": "code",
   "execution_count": 100,
   "metadata": {
    "collapsed": false,
    "execution": {
     "iopub.execute_input": "2024-10-18T21:12:17.690048Z",
     "iopub.status.busy": "2024-10-18T21:12:17.689285Z",
     "iopub.status.idle": "2024-10-18T21:12:17.735874Z",
     "shell.execute_reply": "2024-10-18T21:12:17.734460Z"
    }
   },
   "outputs": [
    {
     "name": "stdout",
     "output_type": "stream",
     "text": [
      "28\n",
      "mean_temp_C, 2m_dp_temp, 10m_wind_u, 10m_wind_v, fcst_alb, lai_high_veg, lai_low_veg, swe,\n",
      "surf_net_solar_rad, surf_net_therm_rad, surf_press, total_et, pcp_mm, pet_mm, volsw_123, volsw_4,\n",
      "surf_press_rav, total_et_rav, 2m_temp_rav, 10m_wind_u_rav, 10m_wind_v_rav, surf_dwn_therm_rad_rav,\n",
      "surf_outg_therm_rad_rav, surf_dwn_solar_rad_rav, 2m_qv_rav, prec_rav, grdflx_rav, obs_q_cms\n"
     ]
    }
   ],
   "source": [
    "print(dataset.num_dynamic())\n",
    "print(textwrap.fill(\", \".join(dataset.dynamic_features), width=100))"
   ]
  },
  {
   "cell_type": "markdown",
   "metadata": {},
   "source": [
    "## HYSETS\n",
    "\n"
   ]
  },
  {
   "cell_type": "code",
   "execution_count": 101,
   "metadata": {
    "collapsed": false,
    "execution": {
     "iopub.execute_input": "2024-10-18T21:12:17.743621Z",
     "iopub.status.busy": "2024-10-18T21:12:17.742863Z",
     "iopub.status.idle": "2024-10-18T21:12:18.280316Z",
     "shell.execute_reply": "2024-10-18T21:12:18.278918Z"
    }
   },
   "outputs": [
    {
     "name": "stdout",
     "output_type": "stream",
     "text": [
      "RainfallRunoff(HYSETS) with 14425 stations, 5 dynamic and 28 static features\n"
     ]
    }
   ],
   "source": [
    "dataset = RainfallRunoff('HYSETS', path=os.path.join(gscad_path, 'HYSETS'), verbosity=0)\n",
    "print(dataset)"
   ]
  },
  {
   "cell_type": "code",
   "execution_count": 102,
   "metadata": {
    "collapsed": false,
    "execution": {
     "iopub.execute_input": "2024-10-18T21:12:18.290386Z",
     "iopub.status.busy": "2024-10-18T21:12:18.289437Z",
     "iopub.status.idle": "2024-10-18T21:12:18.483749Z",
     "shell.execute_reply": "2024-10-18T21:12:18.482176Z"
    }
   },
   "outputs": [
    {
     "name": "stdout",
     "output_type": "stream",
     "text": [
      "Source, Name, Official_ID, Centroid_Lat_deg_N, Centroid_Lon_deg_E, Drainage_Area_km2,\n",
      "Drainage_Area_GSIM_km2, Flag_GSIM_boundaries, Flag_Artificial_Boundaries, Elevation_m, Slope_deg,\n",
      "Gravelius, Perimeter, Flag_Shape_Extraction, Aspect_deg, Flag_Terrain_Extraction,\n",
      "Land_Use_Forest_frac, Land_Use_Grass_frac, Land_Use_Wetland_frac, Land_Use_Water_frac,\n",
      "Land_Use_Urban_frac, Land_Use_Shrubs_frac, Land_Use_Crops_frac, Land_Use_Snow_Ice_frac,\n",
      "Flag_Land_Use_Extraction, Permeability_logk_m2, Porosity_frac, Flag_Subsoil_Extraction"
     ]
    },
    {
     "name": "stdout",
     "output_type": "stream",
     "text": [
      "\n"
     ]
    }
   ],
   "source": [
    "print(textwrap.fill(\", \".join(dataset.static_features), width=100))"
   ]
  },
  {
   "cell_type": "code",
   "execution_count": 103,
   "metadata": {
    "collapsed": false,
    "execution": {
     "iopub.execute_input": "2024-10-18T21:12:18.492513Z",
     "iopub.status.busy": "2024-10-18T21:12:18.491486Z",
     "iopub.status.idle": "2024-10-18T21:12:19.078178Z",
     "shell.execute_reply": "2024-10-18T21:12:19.076675Z"
    }
   },
   "outputs": [
    {
     "name": "stdout",
     "output_type": "stream",
     "text": [
      "(14425, 28)\n"
     ]
    }
   ],
   "source": [
    "df = dataset.fetch_static_features()\n",
    "print(df.shape)"
   ]
  },
  {
   "cell_type": "code",
   "execution_count": 104,
   "metadata": {
    "collapsed": false,
    "execution": {
     "iopub.execute_input": "2024-10-18T21:12:19.087522Z",
     "iopub.status.busy": "2024-10-18T21:12:19.085963Z",
     "iopub.status.idle": "2024-10-18T21:12:19.135594Z",
     "shell.execute_reply": "2024-10-18T21:12:19.134023Z"
    }
   },
   "outputs": [
    {
     "name": "stdout",
     "output_type": "stream",
     "text": [
      "20179\n"
     ]
    },
    {
     "data": {
      "text/plain": [
       "Source                            0\n",
       "Name                              0\n",
       "Official_ID                       0\n",
       "Centroid_Lat_deg_N                0\n",
       "Centroid_Lon_deg_E                0\n",
       "Drainage_Area_km2                 0\n",
       "Drainage_Area_GSIM_km2        13561\n",
       "Flag_GSIM_boundaries              0\n",
       "Flag_Artificial_Boundaries        0\n",
       "Elevation_m                       6\n",
       "Slope_deg                         6\n",
       "Gravelius                      1633\n",
       "Perimeter                      1633\n",
       "Flag_Shape_Extraction             0\n",
       "Aspect_deg                        6\n",
       "Flag_Terrain_Extraction           0\n",
       "Land_Use_Forest_frac             13\n",
       "Land_Use_Grass_frac              13\n",
       "Land_Use_Wetland_frac            13\n",
       "Land_Use_Water_frac              13\n",
       "Land_Use_Urban_frac              13\n",
       "Land_Use_Shrubs_frac             13\n",
       "Land_Use_Crops_frac              13\n",
       "Land_Use_Snow_Ice_frac           13\n",
       "Flag_Land_Use_Extraction          0\n",
       "Permeability_logk_m2           1615\n",
       "Porosity_frac                  1615\n",
       "Flag_Subsoil_Extraction           0\n",
       "dtype: int64"
      ]
     },
     "execution_count": 104,
     "metadata": {},
     "output_type": "execute_result"
    }
   ],
   "source": [
    "print(df.isna().sum().sum())\n",
    "df.isna().sum()"
   ]
  },
  {
   "cell_type": "markdown",
   "metadata": {},
   "source": [
    "find those columns which have at least one NaN value\n",
    "\n"
   ]
  },
  {
   "cell_type": "code",
   "execution_count": 105,
   "metadata": {
    "collapsed": false,
    "execution": {
     "iopub.execute_input": "2024-10-18T21:12:19.145489Z",
     "iopub.status.busy": "2024-10-18T21:12:19.144316Z",
     "iopub.status.idle": "2024-10-18T21:12:19.199357Z",
     "shell.execute_reply": "2024-10-18T21:12:19.198187Z"
    }
   },
   "outputs": [
    {
     "data": {
      "text/html": [
       "<div>\n",
       "<style scoped>\n",
       "    .dataframe tbody tr th:only-of-type {\n",
       "        vertical-align: middle;\n",
       "    }\n",
       "\n",
       "    .dataframe tbody tr th {\n",
       "        vertical-align: top;\n",
       "    }\n",
       "\n",
       "    .dataframe thead th {\n",
       "        text-align: right;\n",
       "    }\n",
       "</style>\n",
       "<table border=\"1\" class=\"dataframe\">\n",
       "  <thead>\n",
       "    <tr style=\"text-align: right;\">\n",
       "      <th></th>\n",
       "      <th>Drainage_Area_GSIM_km2</th>\n",
       "      <th>Elevation_m</th>\n",
       "      <th>Slope_deg</th>\n",
       "      <th>Gravelius</th>\n",
       "      <th>Perimeter</th>\n",
       "      <th>Aspect_deg</th>\n",
       "      <th>Land_Use_Forest_frac</th>\n",
       "      <th>Land_Use_Grass_frac</th>\n",
       "      <th>Land_Use_Wetland_frac</th>\n",
       "      <th>Land_Use_Water_frac</th>\n",
       "      <th>Land_Use_Urban_frac</th>\n",
       "      <th>Land_Use_Shrubs_frac</th>\n",
       "      <th>Land_Use_Crops_frac</th>\n",
       "      <th>Land_Use_Snow_Ice_frac</th>\n",
       "      <th>Permeability_logk_m2</th>\n",
       "      <th>Porosity_frac</th>\n",
       "    </tr>\n",
       "    <tr>\n",
       "      <th>Watershed_ID</th>\n",
       "      <th></th>\n",
       "      <th></th>\n",
       "      <th></th>\n",
       "      <th></th>\n",
       "      <th></th>\n",
       "      <th></th>\n",
       "      <th></th>\n",
       "      <th></th>\n",
       "      <th></th>\n",
       "      <th></th>\n",
       "      <th></th>\n",
       "      <th></th>\n",
       "      <th></th>\n",
       "      <th></th>\n",
       "      <th></th>\n",
       "      <th></th>\n",
       "    </tr>\n",
       "  </thead>\n",
       "  <tbody>\n",
       "    <tr>\n",
       "      <th>1</th>\n",
       "      <td>NaN</td>\n",
       "      <td>362.3</td>\n",
       "      <td>3.5329</td>\n",
       "      <td>2.7834</td>\n",
       "      <td>1194.505</td>\n",
       "      <td>130.4023</td>\n",
       "      <td>0.7869</td>\n",
       "      <td>0.0147</td>\n",
       "      <td>0.0645</td>\n",
       "      <td>0.0258</td>\n",
       "      <td>0.0089</td>\n",
       "      <td>0.0749</td>\n",
       "      <td>0.0242</td>\n",
       "      <td>0.0</td>\n",
       "      <td>-14.719327</td>\n",
       "      <td>0.180905</td>\n",
       "    </tr>\n",
       "    <tr>\n",
       "      <th>2</th>\n",
       "      <td>NaN</td>\n",
       "      <td>353.4</td>\n",
       "      <td>4.6633</td>\n",
       "      <td>2.0656</td>\n",
       "      <td>269.164</td>\n",
       "      <td>91.7329</td>\n",
       "      <td>0.8452</td>\n",
       "      <td>0.0102</td>\n",
       "      <td>0.0228</td>\n",
       "      <td>0.0219</td>\n",
       "      <td>0.0174</td>\n",
       "      <td>0.0410</td>\n",
       "      <td>0.0414</td>\n",
       "      <td>0.0</td>\n",
       "      <td>-14.056491</td>\n",
       "      <td>0.206450</td>\n",
       "    </tr>\n",
       "    <tr>\n",
       "      <th>3</th>\n",
       "      <td>2693.814</td>\n",
       "      <td>293.3</td>\n",
       "      <td>4.4690</td>\n",
       "      <td>2.0620</td>\n",
       "      <td>381.994</td>\n",
       "      <td>223.9510</td>\n",
       "      <td>0.8207</td>\n",
       "      <td>0.0093</td>\n",
       "      <td>0.0032</td>\n",
       "      <td>0.0487</td>\n",
       "      <td>0.0230</td>\n",
       "      <td>0.0351</td>\n",
       "      <td>0.0600</td>\n",
       "      <td>0.0</td>\n",
       "      <td>-14.537390</td>\n",
       "      <td>0.165357</td>\n",
       "    </tr>\n",
       "    <tr>\n",
       "      <th>4</th>\n",
       "      <td>NaN</td>\n",
       "      <td>276.5</td>\n",
       "      <td>4.1819</td>\n",
       "      <td>2.4682</td>\n",
       "      <td>413.839</td>\n",
       "      <td>120.7400</td>\n",
       "      <td>0.6837</td>\n",
       "      <td>0.0226</td>\n",
       "      <td>0.1024</td>\n",
       "      <td>0.0630</td>\n",
       "      <td>0.0115</td>\n",
       "      <td>0.0641</td>\n",
       "      <td>0.0528</td>\n",
       "      <td>0.0</td>\n",
       "      <td>-14.687869</td>\n",
       "      <td>0.170597</td>\n",
       "    </tr>\n",
       "    <tr>\n",
       "      <th>5</th>\n",
       "      <td>NaN</td>\n",
       "      <td>201.8</td>\n",
       "      <td>2.8061</td>\n",
       "      <td>NaN</td>\n",
       "      <td>NaN</td>\n",
       "      <td>56.8902</td>\n",
       "      <td>0.0000</td>\n",
       "      <td>0.0000</td>\n",
       "      <td>0.0000</td>\n",
       "      <td>0.0000</td>\n",
       "      <td>0.0000</td>\n",
       "      <td>0.0000</td>\n",
       "      <td>1.0000</td>\n",
       "      <td>0.0</td>\n",
       "      <td>NaN</td>\n",
       "      <td>NaN</td>\n",
       "    </tr>\n",
       "    <tr>\n",
       "      <th>...</th>\n",
       "      <td>...</td>\n",
       "      <td>...</td>\n",
       "      <td>...</td>\n",
       "      <td>...</td>\n",
       "      <td>...</td>\n",
       "      <td>...</td>\n",
       "      <td>...</td>\n",
       "      <td>...</td>\n",
       "      <td>...</td>\n",
       "      <td>...</td>\n",
       "      <td>...</td>\n",
       "      <td>...</td>\n",
       "      <td>...</td>\n",
       "      <td>...</td>\n",
       "      <td>...</td>\n",
       "      <td>...</td>\n",
       "    </tr>\n",
       "    <tr>\n",
       "      <th>14421</th>\n",
       "      <td>NaN</td>\n",
       "      <td>1987.9</td>\n",
       "      <td>17.1982</td>\n",
       "      <td>2.0752</td>\n",
       "      <td>208.852</td>\n",
       "      <td>28.9860</td>\n",
       "      <td>0.5356</td>\n",
       "      <td>0.0330</td>\n",
       "      <td>0.0000</td>\n",
       "      <td>0.0000</td>\n",
       "      <td>0.0202</td>\n",
       "      <td>0.0170</td>\n",
       "      <td>0.3941</td>\n",
       "      <td>0.0</td>\n",
       "      <td>-13.160658</td>\n",
       "      <td>0.096755</td>\n",
       "    </tr>\n",
       "    <tr>\n",
       "      <th>14422</th>\n",
       "      <td>NaN</td>\n",
       "      <td>769.5</td>\n",
       "      <td>6.5921</td>\n",
       "      <td>1.5715</td>\n",
       "      <td>325.714</td>\n",
       "      <td>110.5607</td>\n",
       "      <td>0.1348</td>\n",
       "      <td>0.3106</td>\n",
       "      <td>0.0025</td>\n",
       "      <td>0.0024</td>\n",
       "      <td>0.0305</td>\n",
       "      <td>0.0300</td>\n",
       "      <td>0.4874</td>\n",
       "      <td>0.0</td>\n",
       "      <td>-12.698509</td>\n",
       "      <td>0.119993</td>\n",
       "    </tr>\n",
       "    <tr>\n",
       "      <th>14423</th>\n",
       "      <td>NaN</td>\n",
       "      <td>1883.2</td>\n",
       "      <td>14.7005</td>\n",
       "      <td>2.5953</td>\n",
       "      <td>1621.229</td>\n",
       "      <td>224.3422</td>\n",
       "      <td>0.8674</td>\n",
       "      <td>0.0437</td>\n",
       "      <td>0.0000</td>\n",
       "      <td>0.0026</td>\n",
       "      <td>0.0027</td>\n",
       "      <td>0.0429</td>\n",
       "      <td>0.0408</td>\n",
       "      <td>0.0</td>\n",
       "      <td>-12.976926</td>\n",
       "      <td>0.090284</td>\n",
       "    </tr>\n",
       "    <tr>\n",
       "      <th>14424</th>\n",
       "      <td>NaN</td>\n",
       "      <td>1791.2</td>\n",
       "      <td>12.1021</td>\n",
       "      <td>2.4269</td>\n",
       "      <td>1288.932</td>\n",
       "      <td>184.5177</td>\n",
       "      <td>0.7720</td>\n",
       "      <td>0.1524</td>\n",
       "      <td>0.0000</td>\n",
       "      <td>0.0013</td>\n",
       "      <td>0.0029</td>\n",
       "      <td>0.0474</td>\n",
       "      <td>0.0241</td>\n",
       "      <td>0.0</td>\n",
       "      <td>-12.968686</td>\n",
       "      <td>0.094042</td>\n",
       "    </tr>\n",
       "    <tr>\n",
       "      <th>14425</th>\n",
       "      <td>NaN</td>\n",
       "      <td>2179.1</td>\n",
       "      <td>5.9444</td>\n",
       "      <td>2.0769</td>\n",
       "      <td>165.762</td>\n",
       "      <td>112.0832</td>\n",
       "      <td>0.1605</td>\n",
       "      <td>0.5639</td>\n",
       "      <td>0.0000</td>\n",
       "      <td>0.0012</td>\n",
       "      <td>0.0091</td>\n",
       "      <td>0.1116</td>\n",
       "      <td>0.1536</td>\n",
       "      <td>0.0</td>\n",
       "      <td>-12.792099</td>\n",
       "      <td>0.168963</td>\n",
       "    </tr>\n",
       "  </tbody>\n",
       "</table>\n",
       "<p>14425 rows × 16 columns</p>\n",
       "</div>"
      ],
      "text/plain": [
       "              Drainage_Area_GSIM_km2  Elevation_m  Slope_deg  Gravelius  \\\n",
       "Watershed_ID                                                              \n",
       "1                                NaN        362.3     3.5329     2.7834   \n",
       "2                                NaN        353.4     4.6633     2.0656   \n",
       "3                           2693.814        293.3     4.4690     2.0620   \n",
       "4                                NaN        276.5     4.1819     2.4682   \n",
       "5                                NaN        201.8     2.8061        NaN   \n",
       "...                              ...          ...        ...        ...   \n",
       "14421                            NaN       1987.9    17.1982     2.0752   \n",
       "14422                            NaN        769.5     6.5921     1.5715   \n",
       "14423                            NaN       1883.2    14.7005     2.5953   \n",
       "14424                            NaN       1791.2    12.1021     2.4269   \n",
       "14425                            NaN       2179.1     5.9444     2.0769   \n",
       "\n",
       "              Perimeter  Aspect_deg  Land_Use_Forest_frac  \\\n",
       "Watershed_ID                                                \n",
       "1              1194.505    130.4023                0.7869   \n",
       "2               269.164     91.7329                0.8452   \n",
       "3               381.994    223.9510                0.8207   \n",
       "4               413.839    120.7400                0.6837   \n",
       "5                   NaN     56.8902                0.0000   \n",
       "...                 ...         ...                   ...   \n",
       "14421           208.852     28.9860                0.5356   \n",
       "14422           325.714    110.5607                0.1348   \n",
       "14423          1621.229    224.3422                0.8674   \n",
       "14424          1288.932    184.5177                0.7720   \n",
       "14425           165.762    112.0832                0.1605   \n",
       "\n",
       "              Land_Use_Grass_frac  Land_Use_Wetland_frac  Land_Use_Water_frac  \\\n",
       "Watershed_ID                                                                    \n",
       "1                          0.0147                 0.0645               0.0258   \n",
       "2                          0.0102                 0.0228               0.0219   \n",
       "3                          0.0093                 0.0032               0.0487   \n",
       "4                          0.0226                 0.1024               0.0630   \n",
       "5                          0.0000                 0.0000               0.0000   \n",
       "...                           ...                    ...                  ...   \n",
       "14421                      0.0330                 0.0000               0.0000   \n",
       "14422                      0.3106                 0.0025               0.0024   \n",
       "14423                      0.0437                 0.0000               0.0026   \n",
       "14424                      0.1524                 0.0000               0.0013   \n",
       "14425                      0.5639                 0.0000               0.0012   \n",
       "\n",
       "              Land_Use_Urban_frac  Land_Use_Shrubs_frac  Land_Use_Crops_frac  \\\n",
       "Watershed_ID                                                                   \n",
       "1                          0.0089                0.0749               0.0242   \n",
       "2                          0.0174                0.0410               0.0414   \n",
       "3                          0.0230                0.0351               0.0600   \n",
       "4                          0.0115                0.0641               0.0528   \n",
       "5                          0.0000                0.0000               1.0000   \n",
       "...                           ...                   ...                  ...   \n",
       "14421                      0.0202                0.0170               0.3941   \n",
       "14422                      0.0305                0.0300               0.4874   \n",
       "14423                      0.0027                0.0429               0.0408   \n",
       "14424                      0.0029                0.0474               0.0241   \n",
       "14425                      0.0091                0.1116               0.1536   \n",
       "\n",
       "              Land_Use_Snow_Ice_frac  Permeability_logk_m2  Porosity_frac  \n",
       "Watershed_ID                                                               \n",
       "1                                0.0            -14.719327       0.180905  \n",
       "2                                0.0            -14.056491       0.206450  \n",
       "3                                0.0            -14.537390       0.165357  \n",
       "4                                0.0            -14.687869       0.170597  \n",
       "5                                0.0                   NaN            NaN  \n",
       "...                              ...                   ...            ...  \n",
       "14421                            0.0            -13.160658       0.096755  \n",
       "14422                            0.0            -12.698509       0.119993  \n",
       "14423                            0.0            -12.976926       0.090284  \n",
       "14424                            0.0            -12.968686       0.094042  \n",
       "14425                            0.0            -12.792099       0.168963  \n",
       "\n",
       "[14425 rows x 16 columns]"
      ]
     },
     "execution_count": 105,
     "metadata": {},
     "output_type": "execute_result"
    }
   ],
   "source": [
    "df.loc[:, (df.isna().sum()>0)]"
   ]
  },
  {
   "cell_type": "code",
   "execution_count": 106,
   "metadata": {
    "collapsed": false,
    "execution": {
     "iopub.execute_input": "2024-10-18T21:12:19.207661Z",
     "iopub.status.busy": "2024-10-18T21:12:19.206926Z",
     "iopub.status.idle": "2024-10-18T21:12:19.246104Z",
     "shell.execute_reply": "2024-10-18T21:12:19.244870Z"
    }
   },
   "outputs": [
    {
     "data": {
      "text/plain": [
       "Drainage_Area_GSIM_km2    13561\n",
       "Elevation_m                   6\n",
       "Slope_deg                     6\n",
       "Gravelius                  1633\n",
       "Perimeter                  1633\n",
       "Aspect_deg                    6\n",
       "Land_Use_Forest_frac         13\n",
       "Land_Use_Grass_frac          13\n",
       "Land_Use_Wetland_frac        13\n",
       "Land_Use_Water_frac          13\n",
       "Land_Use_Urban_frac          13\n",
       "Land_Use_Shrubs_frac         13\n",
       "Land_Use_Crops_frac          13\n",
       "Land_Use_Snow_Ice_frac       13\n",
       "Permeability_logk_m2       1615\n",
       "Porosity_frac              1615\n",
       "dtype: int64"
      ]
     },
     "execution_count": 106,
     "metadata": {},
     "output_type": "execute_result"
    }
   ],
   "source": [
    "df.loc[:, (df.isna().sum()>0)].isna().sum()"
   ]
  },
  {
   "cell_type": "code",
   "execution_count": 107,
   "metadata": {
    "collapsed": false,
    "execution": {
     "iopub.execute_input": "2024-10-18T21:12:19.254530Z",
     "iopub.status.busy": "2024-10-18T21:12:19.253623Z",
     "iopub.status.idle": "2024-10-18T21:12:19.264713Z",
     "shell.execute_reply": "2024-10-18T21:12:19.262943Z"
    }
   },
   "outputs": [
    {
     "name": "stdout",
     "output_type": "stream",
     "text": [
      "5\n",
      "discharge, swe, tasmin, tasmax, pr\n"
     ]
    }
   ],
   "source": [
    "print(dataset.num_dynamic())\n",
    "print(textwrap.fill(\", \".join(dataset.dynamic_features), width=100))"
   ]
  },
  {
   "cell_type": "markdown",
   "metadata": {},
   "source": [
    "## GRDCCaravan\n",
    "\n"
   ]
  },
  {
   "cell_type": "code",
   "execution_count": 108,
   "metadata": {
    "collapsed": false,
    "execution": {
     "iopub.execute_input": "2024-10-18T21:12:19.271413Z",
     "iopub.status.busy": "2024-10-18T21:12:19.270198Z",
     "iopub.status.idle": "2024-10-18T21:12:19.957218Z",
     "shell.execute_reply": "2024-10-18T21:12:19.955926Z"
    }
   },
   "outputs": [
    {
     "name": "stdout",
     "output_type": "stream",
     "text": [
      "RainfallRunoff(GRDCCaravan) with 5357 stations, 39 dynamic and 211 static features\n"
     ]
    }
   ],
   "source": [
    "dataset = RainfallRunoff('GRDCCaravan', path=gscad_path, verbosity=0)\n",
    "print(dataset)"
   ]
  },
  {
   "cell_type": "code",
   "execution_count": 109,
   "metadata": {
    "collapsed": false,
    "execution": {
     "iopub.execute_input": "2024-10-18T21:12:19.966007Z",
     "iopub.status.busy": "2024-10-18T21:12:19.964718Z",
     "iopub.status.idle": "2024-10-18T21:12:19.974824Z",
     "shell.execute_reply": "2024-10-18T21:12:19.973487Z"
    }
   },
   "outputs": [
    {
     "name": "stdout",
     "output_type": "stream",
     "text": [
      "gauge_lat, gauge_lon, gauge_name, country, area, sgr_dk_sav, glc_pc_s06, glc_pc_s07, nli_ix_sav,\n",
      "glc_pc_s04, glc_pc_s05, glc_pc_s02, glc_pc_s03, glc_pc_s01, pet_mm_syr, glc_pc_s08, glc_pc_s09,\n",
      "swc_pc_s09, ele_mt_smx, tbi_cl_smj, swc_pc_s01, swc_pc_s02, swc_pc_s03, swc_pc_s04, swc_pc_s05,\n",
      "swc_pc_s06, swc_pc_s07, swc_pc_s08, crp_pc_sse, glc_pc_s22, glc_pc_s20, glc_pc_s21, wet_pc_sg1,\n",
      "wet_pc_sg2, pac_pc_sse, swc_pc_s10, swc_pc_s11, swc_pc_s12, clz_cl_smj, gwt_cm_sav, glc_pc_s17,\n",
      "glc_pc_s18, hft_ix_s93, glc_pc_s15, ire_pc_sse, glc_pc_s16, glc_pc_s13, prm_pc_sse, glc_pc_s14,\n",
      "glc_pc_s11, glc_pc_s12, glc_pc_s10, kar_pc_sse, slp_dg_sav, glc_pc_s19, tmp_dc_s07, tmp_dc_s08,\n",
      "tmp_dc_s05, tmp_dc_s06, tmp_dc_s09, for_pc_sse, aet_mm_s06, aet_mm_s05, aet_mm_s08, aet_mm_s07,\n",
      "aet_mm_s09, tmp_dc_s10, tmp_dc_s11, aet_mm_s02, aet_mm_s01, tmp_dc_s12, aet_mm_s04, aet_mm_s03,\n",
      "lit_cl_smj, tmp_dc_s03, tmp_dc_s04, tmp_dc_s01, tmp_dc_s02, cls_cl_smj, pre_mm_syr, pnv_pc_s01,\n",
      "pnv_pc_s04, pnv_pc_s05, pnv_pc_s02, rdd_mk_sav, ele_mt_smn, pnv_pc_s03, pnv_pc_s08, pnv_pc_s09,\n",
      "pnv_pc_s06, pnv_pc_s07, wet_cl_smj, snw_pc_syr, pnv_pc_s11, pnv_pc_s12, pnv_pc_s10, pnv_pc_s15,\n",
      "pnv_pc_s13, pnv_pc_s14, cmi_ix_syr, pet_mm_s11, pet_mm_s12, pet_mm_s10, tmp_dc_smn, wet_pc_s08,\n",
      "wet_pc_s09, slt_pc_sav, wet_pc_s02, wet_pc_s03, wet_pc_s01, hdi_ix_sav, wet_pc_s06, wet_pc_s07,\n",
      "wet_pc_s04, wet_pc_s05, fec_cl_smj, glc_cl_smj, swc_pc_syr, hft_ix_s09, soc_th_sav, gdp_ud_sav,\n",
      "gdp_ud_ssu, tmp_dc_smx, cly_pc_sav, pet_mm_s02, pet_mm_s03, pet_mm_s01, snw_pc_smx, ppd_pk_sav,\n",
      "pet_mm_s08, aet_mm_s11, pet_mm_s09, aet_mm_s10, pet_mm_s06, pet_mm_s07, aet_mm_s12, pet_mm_s04,\n",
      "pet_mm_s05, inu_pc_slt, ero_kh_sav, aet_mm_syr, cmi_ix_s10, cmi_ix_s11, cmi_ix_s12, ari_ix_sav,\n",
      "tmp_dc_syr, tec_cl_smj, fmh_cl_smj, inu_pc_smn, pnv_cl_smj, pre_mm_s08, pre_mm_s09, run_mm_syr,\n",
      "pre_mm_s06, pre_mm_s07, pre_mm_s04, pre_mm_s05, snd_pc_sav, pre_mm_s02, pre_mm_s03, ele_mt_sav,\n",
      "pre_mm_s01, urb_pc_sse, lka_pc_sse, pre_mm_s10, snw_pc_s01, snw_pc_s02, snw_pc_s03, snw_pc_s04,\n",
      "snw_pc_s05, snw_pc_s06, gla_pc_sse, snw_pc_s07, snw_pc_s08, snw_pc_s09, inu_pc_smx, pre_mm_s11,\n",
      "pre_mm_s12, cmi_ix_s07, cmi_ix_s08, cmi_ix_s05, cmi_ix_s06, cmi_ix_s09, snw_pc_s10, snw_pc_s11,\n",
      "snw_pc_s12, cmi_ix_s03, cmi_ix_s04, cmi_ix_s01, cmi_ix_s02, pst_pc_sse, dis_m3_pmn, dis_m3_pmx,\n",
      "dis_m3_pyr, lkv_mc_usu, rev_mc_usu, ria_ha_usu, riv_tc_usu, pop_ct_usu, dor_pc_pva,\n",
      "area_fraction_used_for_aggregation, p_mean, pet_mean, aridity, frac_snow, moisture_index,\n",
      "seasonality, high_prec_freq, high_prec_dur, low_prec_freq, low_prec_dur\n"
     ]
    }
   ],
   "source": [
    "print(textwrap.fill(\", \".join(dataset.static_features), width=100))"
   ]
  },
  {
   "cell_type": "code",
   "execution_count": 110,
   "metadata": {
    "collapsed": false,
    "execution": {
     "iopub.execute_input": "2024-10-18T21:12:19.982883Z",
     "iopub.status.busy": "2024-10-18T21:12:19.981735Z",
     "iopub.status.idle": "2024-10-18T21:12:20.690588Z",
     "shell.execute_reply": "2024-10-18T21:12:20.689175Z"
    }
   },
   "outputs": [
    {
     "name": "stdout",
     "output_type": "stream",
     "text": [
      "(5357, 211)\n"
     ]
    }
   ],
   "source": [
    "df = dataset.fetch_static_features()\n",
    "print(df.shape)"
   ]
  },
  {
   "cell_type": "code",
   "execution_count": 111,
   "metadata": {
    "collapsed": false,
    "execution": {
     "iopub.execute_input": "2024-10-18T21:12:20.699004Z",
     "iopub.status.busy": "2024-10-18T21:12:20.698183Z",
     "iopub.status.idle": "2024-10-18T21:12:20.747919Z",
     "shell.execute_reply": "2024-10-18T21:12:20.746552Z"
    }
   },
   "outputs": [
    {
     "name": "stdout",
     "output_type": "stream",
     "text": [
      "0\n"
     ]
    },
    {
     "data": {
      "text/plain": [
       "gauge_lat         0\n",
       "gauge_lon         0\n",
       "gauge_name        0\n",
       "country           0\n",
       "area              0\n",
       "                 ..\n",
       "seasonality       0\n",
       "high_prec_freq    0\n",
       "high_prec_dur     0\n",
       "low_prec_freq     0\n",
       "low_prec_dur      0\n",
       "Length: 211, dtype: int64"
      ]
     },
     "execution_count": 111,
     "metadata": {},
     "output_type": "execute_result"
    }
   ],
   "source": [
    "print(df.isna().sum().sum())\n",
    "df.isna().sum()"
   ]
  },
  {
   "cell_type": "markdown",
   "metadata": {},
   "source": [
    "find those columns which have at least one NaN value\n",
    "\n"
   ]
  },
  {
   "cell_type": "code",
   "execution_count": 112,
   "metadata": {
    "collapsed": false,
    "execution": {
     "iopub.execute_input": "2024-10-18T21:12:20.758076Z",
     "iopub.status.busy": "2024-10-18T21:12:20.756880Z",
     "iopub.status.idle": "2024-10-18T21:12:20.782923Z",
     "shell.execute_reply": "2024-10-18T21:12:20.781640Z"
    }
   },
   "outputs": [
    {
     "name": "stdout",
     "output_type": "stream",
     "text": [
      "No NaN values\n"
     ]
    }
   ],
   "source": [
    "if df.isna().sum().sum()>0:\n",
    "    df.loc[:, (df.isna().sum()>0)]\n",
    "else:\n",
    "    print('No NaN values')"
   ]
  },
  {
   "cell_type": "code",
   "execution_count": 113,
   "metadata": {
    "collapsed": false,
    "execution": {
     "iopub.execute_input": "2024-10-18T21:12:20.791111Z",
     "iopub.status.busy": "2024-10-18T21:12:20.789898Z",
     "iopub.status.idle": "2024-10-18T21:12:20.839500Z",
     "shell.execute_reply": "2024-10-18T21:12:20.838402Z"
    }
   },
   "outputs": [
    {
     "data": {
      "text/plain": [
       "Series([], dtype: float64)"
      ]
     },
     "execution_count": 113,
     "metadata": {},
     "output_type": "execute_result"
    }
   ],
   "source": [
    "df.loc[:, (df.isna().sum()>0)].isna().sum()"
   ]
  },
  {
   "cell_type": "code",
   "execution_count": 114,
   "metadata": {
    "collapsed": false,
    "execution": {
     "iopub.execute_input": "2024-10-18T21:12:20.867563Z",
     "iopub.status.busy": "2024-10-18T21:12:20.866280Z",
     "iopub.status.idle": "2024-10-18T21:12:20.878226Z",
     "shell.execute_reply": "2024-10-18T21:12:20.876682Z"
    }
   },
   "outputs": [
    {
     "name": "stdout",
     "output_type": "stream",
     "text": [
      "39\n",
      "snow_depth_water_equivalent_mean, surface_net_solar_radiation_mean,\n",
      "surface_net_thermal_radiation_mean, surface_pressure_mean, mean_temp_C,\n",
      "dewpoint_temperature_2m_mean, u_component_of_wind_10m_mean, v_component_of_wind_10m_mean,\n",
      "volumetric_soil_water_layer_1_mean, volumetric_soil_water_layer_2_mean,\n",
      "volumetric_soil_water_layer_3_mean, volumetric_soil_water_layer_4_mean,\n",
      "snow_depth_water_equivalent_min, surface_net_solar_radiation_min, surface_net_thermal_radiation_min,\n",
      "surface_pressure_min, max_temp_C, dewpoint_temperature_2m_min, u_component_of_wind_10m_min,\n",
      "v_component_of_wind_10m_min, volumetric_soil_water_layer_1_min, volumetric_soil_water_layer_2_min,\n",
      "volumetric_soil_water_layer_3_min, volumetric_soil_water_layer_4_min,\n",
      "snow_depth_water_equivalent_max, surface_net_solar_radiation_max, surface_net_thermal_radiation_max,\n",
      "surface_pressure_max, temperature_2m_max, dewpoint_temperature_2m_max, u_component_of_wind_10m_max,\n",
      "v_component_of_wind_10m_max, volumetric_soil_water_layer_1_max, volumetric_soil_water_layer_2_max,\n",
      "volumetric_soil_water_layer_3_max, volumetric_soil_water_layer_4_max, pcp_mm,\n",
      "potential_evaporation_sum, obs_q_cms\n"
     ]
    }
   ],
   "source": [
    "print(dataset.num_dynamic())\n",
    "print(textwrap.fill(\", \".join(dataset.dynamic_features), width=100))"
   ]
  },
  {
   "cell_type": "markdown",
   "metadata": {},
   "source": [
    "## Bull\n",
    "\n"
   ]
  },
  {
   "cell_type": "code",
   "execution_count": 115,
   "metadata": {
    "collapsed": false,
    "execution": {
     "iopub.execute_input": "2024-10-18T21:12:20.885309Z",
     "iopub.status.busy": "2024-10-18T21:12:20.884271Z",
     "iopub.status.idle": "2024-10-18T21:12:21.408631Z",
     "shell.execute_reply": "2024-10-18T21:12:21.406680Z"
    }
   },
   "outputs": [
    {
     "name": "stdout",
     "output_type": "stream",
     "text": [
      "RainfallRunoff(Bull) with 484 stations, 55 dynamic and 214 static features\n"
     ]
    }
   ],
   "source": [
    "dataset = RainfallRunoff('Bull', path=gscad_path, verbosity=0)\n",
    "print(dataset)"
   ]
  },
  {
   "cell_type": "code",
   "execution_count": 116,
   "metadata": {
    "collapsed": false,
    "execution": {
     "iopub.execute_input": "2024-10-18T21:12:21.416666Z",
     "iopub.status.busy": "2024-10-18T21:12:21.415714Z",
     "iopub.status.idle": "2024-10-18T21:12:21.427355Z",
     "shell.execute_reply": "2024-10-18T21:12:21.425947Z"
    }
   },
   "outputs": [
    {
     "name": "stdout",
     "output_type": "stream",
     "text": [
      "dis_m3_pmn, aet_mm_s11, nli_ix_sav, hdi_ix_sav, tmp_dc_smx, snw_pc_s04, cmi_ix_s03, gauge_lat,\n",
      "crp_pc_sse, wet_pc_s04, pre_mm_s05, tmp_dc_s02, gla_pc_sse, area, swc_pc_s09, kar_pc_sse,\n",
      "pnv_pc_s03, cmi_ix_s02, glc_pc_s06, cmi_ix_syr, ppd_pk_sav, glc_pc_s11, tmp_dc_s08, ari_ix_sav,\n",
      "glc_pc_s03, swc_pc_s01, pnv_pc_s12, wet_pc_s05, snw_pc_s11, aet_mm_s03, pst_pc_sse, glc_cl_smj,\n",
      "pnv_pc_s15, pet_mm_syr, pnv_pc_s07, wet_pc_s08, pnv_pc_s10, run_mm_syr, snw_pc_s06, glc_pc_s12,\n",
      "tec_cl_smj, wet_pc_sg2, low_prec_dur, gwt_cm_sav, tmp_dc_s06, pre_mm_s02, pre_mm_s03, pnv_pc_s05,\n",
      "ire_pc_sse, sgr_dk_sav, snw_pc_s09, pet_mm_s11, area_fraction_used_for_aggregation, tmp_dc_s07,\n",
      "swc_pc_s02, hft_ix_s09, aridity, swc_pc_s07, swc_pc_s10, cly_pc_sav, aet_mm_s02, cmi_ix_s10,\n",
      "pre_mm_s04, glc_pc_s04, clz_cl_smj, glc_pc_s14, snw_pc_s01, wet_pc_sg1, snw_pc_s12, pet_mean,\n",
      "pnv_pc_s06, slt_pc_sav, gdp_ud_ssu, pre_mm_s08, moisture_index, glc_pc_s10, swc_pc_s08, snw_pc_s07,\n",
      "glc_pc_s01, tmp_dc_s09, pnv_cl_smj, swc_pc_s03, pnv_pc_s09, tbi_cl_smj, pre_mm_s09, fmh_cl_smj,\n",
      "ria_ha_usu, wet_pc_s07, aet_mm_s07, hft_ix_s93, pet_mm_s03, pop_ct_usu, slp_dg_sav, cmi_ix_s01,\n",
      "gauge_name, cmi_ix_s12, country, swc_pc_s04, wet_pc_s09, glc_pc_s21, cls_cl_smj, aet_mm_s06,\n",
      "pnv_pc_s08, lka_pc_sse, low_prec_freq, pnv_pc_s02, snd_pc_sav, glc_pc_s08, pre_mm_s12, snw_pc_s03,\n",
      "pre_mm_s10, swc_pc_s05, swc_pc_s12, high_prec_freq, aet_mm_s10, cmi_ix_s08, wet_pc_s03, fec_cl_smj,\n",
      "area_hydroatlas, ele_mt_smx, snw_pc_s02, tmp_dc_s11, rev_mc_usu, aet_mm_s08, pet_mm_s02, pnv_pc_s13,\n",
      "inu_pc_smx, glc_pc_s07, tmp_dc_s01, glc_pc_s20, wet_pc_s01, wet_cl_smj, tmp_dc_s04, wet_pc_s02,\n",
      "aet_mm_s09, prm_pc_sse, tmp_dc_s05, pet_mm_s08, cmi_ix_s06, snw_pc_s10, glc_pc_s16, glc_pc_s15,\n",
      "snw_pc_syr, snw_pc_s05, soc_th_sav, pet_mm_s01, snw_pc_s08, frac_snow, glc_pc_s22, rdd_mk_sav,\n",
      "pre_mm_syr, pre_mm_s01, pre_mm_s11, pre_mm_s06, aet_mm_syr, glc_pc_s19, gdp_ud_sav, cmi_ix_s04,\n",
      "dis_m3_pyr, pre_mm_s07, wet_pc_s06, inu_pc_slt, p_mean, glc_pc_s02, aet_mm_s05, ero_kh_sav,\n",
      "seasonality, lkv_mc_usu, aet_mm_s01, ele_mt_smn, swc_pc_syr, non-altered, urb_pc_sse, pet_mm_s07,\n",
      "pet_mm_s10, snw_pc_smx, pet_mm_s04, tmp_dc_syr, ele_mt_sav, aet_mm_s12, dor_pc_pva, tmp_dc_s03,\n",
      "tmp_dc_smn, tmp_dc_s12, pnv_pc_s04, pnv_pc_s14, gauge_lon, glc_pc_s18, lit_cl_smj, glc_pc_s09,\n",
      "swc_pc_s11, tmp_dc_s10, pac_pc_sse, high_prec_dur, pet_mm_s12, pnv_pc_s11, riv_tc_usu, NSE,\n",
      "cmi_ix_s05, pet_mm_s06, inu_pc_smn, pet_mm_s05, pnv_pc_s01, for_pc_sse, dis_m3_pmx, swc_pc_s06,\n",
      "cmi_ix_s09, glc_pc_s05, pet_mm_s09, glc_pc_s13, cmi_ix_s07, aet_mm_s04, glc_pc_s17, cmi_ix_s11\n"
     ]
    }
   ],
   "source": [
    "print(textwrap.fill(\", \".join(dataset.static_features), width=100))"
   ]
  },
  {
   "cell_type": "code",
   "execution_count": 117,
   "metadata": {
    "collapsed": false,
    "execution": {
     "iopub.execute_input": "2024-10-18T21:12:21.435390Z",
     "iopub.status.busy": "2024-10-18T21:12:21.433897Z",
     "iopub.status.idle": "2024-10-18T21:12:21.530170Z",
     "shell.execute_reply": "2024-10-18T21:12:21.528926Z"
    }
   },
   "outputs": [
    {
     "name": "stdout",
     "output_type": "stream",
     "text": [
      "(484, 214)\n"
     ]
    }
   ],
   "source": [
    "df = dataset.fetch_static_features()\n",
    "print(df.shape)"
   ]
  },
  {
   "cell_type": "code",
   "execution_count": 118,
   "metadata": {
    "collapsed": false,
    "execution": {
     "iopub.execute_input": "2024-10-18T21:12:21.540431Z",
     "iopub.status.busy": "2024-10-18T21:12:21.539499Z",
     "iopub.status.idle": "2024-10-18T21:12:21.578581Z",
     "shell.execute_reply": "2024-10-18T21:12:21.577014Z"
    }
   },
   "outputs": [
    {
     "name": "stdout",
     "output_type": "stream",
     "text": [
      "0\n"
     ]
    },
    {
     "data": {
      "text/plain": [
       "dis_m3_pmn    0\n",
       "aet_mm_s11    0\n",
       "nli_ix_sav    0\n",
       "hdi_ix_sav    0\n",
       "tmp_dc_smx    0\n",
       "             ..\n",
       "glc_pc_s13    0\n",
       "cmi_ix_s07    0\n",
       "aet_mm_s04    0\n",
       "glc_pc_s17    0\n",
       "cmi_ix_s11    0\n",
       "Length: 214, dtype: int64"
      ]
     },
     "execution_count": 118,
     "metadata": {},
     "output_type": "execute_result"
    }
   ],
   "source": [
    "print(df.isna().sum().sum())\n",
    "df.isna().sum()"
   ]
  },
  {
   "cell_type": "markdown",
   "metadata": {},
   "source": [
    "find those columns which have at least one NaN value\n",
    "\n"
   ]
  },
  {
   "cell_type": "code",
   "execution_count": 119,
   "metadata": {
    "collapsed": false,
    "execution": {
     "iopub.execute_input": "2024-10-18T21:12:21.587870Z",
     "iopub.status.busy": "2024-10-18T21:12:21.586501Z",
     "iopub.status.idle": "2024-10-18T21:12:21.608771Z",
     "shell.execute_reply": "2024-10-18T21:12:21.607578Z"
    }
   },
   "outputs": [
    {
     "name": "stdout",
     "output_type": "stream",
     "text": [
      "No NaN values"
     ]
    },
    {
     "name": "stdout",
     "output_type": "stream",
     "text": [
      "\n"
     ]
    }
   ],
   "source": [
    "if df.isna().sum().sum()>0:\n",
    "    df.loc[:, (df.isna().sum()>0)]\n",
    "else:\n",
    "    print('No NaN values')"
   ]
  },
  {
   "cell_type": "code",
   "execution_count": 120,
   "metadata": {
    "collapsed": false,
    "execution": {
     "iopub.execute_input": "2024-10-18T21:12:21.619063Z",
     "iopub.status.busy": "2024-10-18T21:12:21.617677Z",
     "iopub.status.idle": "2024-10-18T21:12:21.648834Z",
     "shell.execute_reply": "2024-10-18T21:12:21.647743Z"
    }
   },
   "outputs": [
    {
     "data": {
      "text/plain": [
       "Series([], dtype: float64)"
      ]
     },
     "execution_count": 120,
     "metadata": {},
     "output_type": "execute_result"
    }
   ],
   "source": [
    "df.loc[:, (df.isna().sum()>0)].isna().sum()"
   ]
  },
  {
   "cell_type": "code",
   "execution_count": 121,
   "metadata": {
    "collapsed": false,
    "execution": {
     "iopub.execute_input": "2024-10-18T21:12:21.657165Z",
     "iopub.status.busy": "2024-10-18T21:12:21.656075Z",
     "iopub.status.idle": "2024-10-18T21:12:21.664859Z",
     "shell.execute_reply": "2024-10-18T21:12:21.663432Z"
    }
   },
   "outputs": [
    {
     "name": "stdout",
     "output_type": "stream",
     "text": [
      "55\n",
      "['streamflow', 'temperature_max_AEMET', 'temperature_min_AEMET', 'temperature_mean_AEMET', 'total_precipitation_AEMET', 'potential_evapotranspiration_AEMET', 'snow_depth_water_equivalent_mean_BULL', 'surface_net_solar_radiation_mean_BULL', 'surface_net_thermal_radiation_mean_BULL', 'surface_pressure_mean_BULL', 'temperature_2m_mean_BULL', 'dewpoint_temperature_2m_mean_BULL', 'u_component_of_wind_10m_mean_BULL', 'v_component_of_wind_10m_mean_BULL', 'volumetric_soil_water_layer_1_mean_BULL', 'volumetric_soil_water_layer_2_mean_BULL', 'volumetric_soil_water_layer_3_mean_BULL', 'volumetric_soil_water_layer_4_mean_BULL', 'snow_depth_water_equivalent_min_BULL', 'surface_net_solar_radiation_min_BULL', 'surface_net_thermal_radiation_min_BULL', 'surface_pressure_min_BULL', 'temperature_2m_min_BULL', 'dewpoint_temperature_2m_min_BULL', 'u_component_of_wind_10m_min_BULL', 'v_component_of_wind_10m_min_BULL', 'volumetric_soil_water_layer_1_min_BULL', 'volumetric_soil_water_layer_2_min_BULL', 'volumetric_soil_water_layer_3_min_BULL', 'volumetric_soil_water_layer_4_min_BULL', 'snow_depth_water_equivalent_max_BULL', 'surface_net_solar_radiation_max_BULL', 'surface_net_thermal_radiation_max_BULL', 'surface_pressure_max_BULL', 'temperature_2m_max_BULL', 'dewpoint_temperature_2m_max_BULL', 'u_component_of_wind_10m_max_BULL', 'v_component_of_wind_10m_max_BULL', 'volumetric_soil_water_layer_1_max_BULL', 'volumetric_soil_water_layer_2_max_BULL', 'volumetric_soil_water_layer_3_max_BULL', 'volumetric_soil_water_layer_4_max_BULL', 'total_precipitation_sum_BULL', 'potential_evaporation_sum_BULL', 'streamflow_BULL', 'temperature_max_ERA5_Land', 'temperature_min_ERA5_Land', 'temperature_mean_ERA5_Land', 'total_precipitation_ERA5_Land', 'potential_evapotranspiration_ERA5_Land', 'temperature_max_EMO1_arc', 'temperature_min_EMO1_arc', 'temperature_mean_EMO1_arc', 'total_precipitation_EMO1_arc', 'potential_evapotranspiration_EMO1_arc']\n"
     ]
    }
   ],
   "source": [
    "print(dataset.num_dynamic())\n",
    "print(dataset.dynamic_features)"
   ]
  },
  {
   "cell_type": "markdown",
   "metadata": {},
   "source": [
    "## WaterBenchIowa\n",
    "\n"
   ]
  },
  {
   "cell_type": "code",
   "execution_count": 122,
   "metadata": {
    "collapsed": false,
    "execution": {
     "iopub.execute_input": "2024-10-18T21:12:21.671428Z",
     "iopub.status.busy": "2024-10-18T21:12:21.670262Z",
     "iopub.status.idle": "2024-10-18T21:12:21.681829Z",
     "shell.execute_reply": "2024-10-18T21:12:21.680643Z"
    }
   },
   "outputs": [
    {
     "name": "stdout",
     "output_type": "stream",
     "text": [
      "RainfallRunoff(WaterBenchIowa) with 125 stations, 3 dynamic and 7 static features\n"
     ]
    }
   ],
   "source": [
    "dataset = RainfallRunoff('WaterBenchIowa', path=gscad_path, verbosity=0)\n",
    "print(dataset)"
   ]
  },
  {
   "cell_type": "code",
   "execution_count": 123,
   "metadata": {
    "collapsed": false,
    "execution": {
     "iopub.execute_input": "2024-10-18T21:12:21.687678Z",
     "iopub.status.busy": "2024-10-18T21:12:21.686657Z",
     "iopub.status.idle": "2024-10-18T21:12:21.695060Z",
     "shell.execute_reply": "2024-10-18T21:12:21.693784Z"
    }
   },
   "outputs": [
    {
     "name": "stdout",
     "output_type": "stream",
     "text": [
      "travel_time, area, slope, loam, silt, sandy_clay_loam, silty_clay_loam\n"
     ]
    }
   ],
   "source": [
    "print(textwrap.fill(\", \".join(dataset.static_features), width=100))"
   ]
  },
  {
   "cell_type": "code",
   "execution_count": 124,
   "metadata": {
    "collapsed": false,
    "execution": {
     "iopub.execute_input": "2024-10-18T21:12:21.703156Z",
     "iopub.status.busy": "2024-10-18T21:12:21.701901Z",
     "iopub.status.idle": "2024-10-18T21:12:23.017637Z",
     "shell.execute_reply": "2024-10-18T21:12:23.016313Z"
    }
   },
   "outputs": [
    {
     "name": "stdout",
     "output_type": "stream",
     "text": [
      "(125, 7)\n"
     ]
    }
   ],
   "source": [
    "df = dataset.fetch_static_features()\n",
    "print(df.shape)"
   ]
  },
  {
   "cell_type": "code",
   "execution_count": 125,
   "metadata": {
    "collapsed": false,
    "execution": {
     "iopub.execute_input": "2024-10-18T21:12:23.027291Z",
     "iopub.status.busy": "2024-10-18T21:12:23.026345Z",
     "iopub.status.idle": "2024-10-18T21:12:23.045122Z",
     "shell.execute_reply": "2024-10-18T21:12:23.043765Z"
    }
   },
   "outputs": [
    {
     "name": "stdout",
     "output_type": "stream",
     "text": [
      "0\n"
     ]
    },
    {
     "data": {
      "text/plain": [
       "travel_time        0\n",
       "area               0\n",
       "slope              0\n",
       "loam               0\n",
       "silt               0\n",
       "sandy_clay_loam    0\n",
       "silty_clay_loam    0\n",
       "dtype: int64"
      ]
     },
     "execution_count": 125,
     "metadata": {},
     "output_type": "execute_result"
    }
   ],
   "source": [
    "print(df.isna().sum().sum())\n",
    "df.isna().sum()"
   ]
  },
  {
   "cell_type": "markdown",
   "metadata": {},
   "source": [
    "find those columns which have at least one NaN value\n",
    "\n"
   ]
  },
  {
   "cell_type": "code",
   "execution_count": 126,
   "metadata": {
    "collapsed": false,
    "execution": {
     "iopub.execute_input": "2024-10-18T21:12:23.052416Z",
     "iopub.status.busy": "2024-10-18T21:12:23.051117Z",
     "iopub.status.idle": "2024-10-18T21:12:23.063436Z",
     "shell.execute_reply": "2024-10-18T21:12:23.062057Z"
    }
   },
   "outputs": [
    {
     "name": "stdout",
     "output_type": "stream",
     "text": [
      "No NaN values\n"
     ]
    }
   ],
   "source": [
    "if df.isna().sum().sum()>0:\n",
    "    df.loc[:, (df.isna().sum()>0)]\n",
    "else:\n",
    "    print('No NaN values')"
   ]
  },
  {
   "cell_type": "code",
   "execution_count": 127,
   "metadata": {
    "collapsed": false,
    "execution": {
     "iopub.execute_input": "2024-10-18T21:12:23.071419Z",
     "iopub.status.busy": "2024-10-18T21:12:23.069997Z",
     "iopub.status.idle": "2024-10-18T21:12:23.087250Z",
     "shell.execute_reply": "2024-10-18T21:12:23.085875Z"
    }
   },
   "outputs": [
    {
     "data": {
      "text/plain": [
       "Series([], dtype: float64)"
      ]
     },
     "execution_count": 127,
     "metadata": {},
     "output_type": "execute_result"
    }
   ],
   "source": [
    "df.loc[:, (df.isna().sum()>0)].isna().sum()"
   ]
  },
  {
   "cell_type": "code",
   "execution_count": 128,
   "metadata": {
    "collapsed": false,
    "execution": {
     "iopub.execute_input": "2024-10-18T21:12:23.094664Z",
     "iopub.status.busy": "2024-10-18T21:12:23.093707Z",
     "iopub.status.idle": "2024-10-18T21:12:23.102790Z",
     "shell.execute_reply": "2024-10-18T21:12:23.101515Z"
    }
   },
   "outputs": [
    {
     "name": "stdout",
     "output_type": "stream",
     "text": [
      "3\n",
      "precipitation, et, discharge\n"
     ]
    }
   ],
   "source": [
    "print(dataset.num_dynamic())\n",
    "print(textwrap.fill(\", \".join(dataset.dynamic_features), width=100))"
   ]
  },
  {
   "cell_type": "markdown",
   "metadata": {},
   "source": [
    "## CCAM\n",
    "\n"
   ]
  },
  {
   "cell_type": "code",
   "execution_count": 129,
   "metadata": {
    "collapsed": false,
    "execution": {
     "iopub.execute_input": "2024-10-18T21:12:23.109723Z",
     "iopub.status.busy": "2024-10-18T21:12:23.108900Z",
     "iopub.status.idle": "2024-10-18T21:12:23.129969Z",
     "shell.execute_reply": "2024-10-18T21:12:23.128545Z"
    }
   },
   "outputs": [
    {
     "name": "stdout",
     "output_type": "stream",
     "text": [
      "RainfallRunoff(CCAM) with 102 stations, 16 dynamic and 124 static features\n"
     ]
    }
   ],
   "source": [
    "dataset = RainfallRunoff('CCAM', path=gscad_path, verbosity=0)\n",
    "print(dataset)"
   ]
  },
  {
   "cell_type": "code",
   "execution_count": 130,
   "metadata": {
    "collapsed": false,
    "execution": {
     "iopub.execute_input": "2024-10-18T21:12:23.138768Z",
     "iopub.status.busy": "2024-10-18T21:12:23.137734Z",
     "iopub.status.idle": "2024-10-18T21:12:23.149813Z",
     "shell.execute_reply": "2024-10-18T21:12:23.148653Z"
    }
   },
   "outputs": [
    {
     "name": "stdout",
     "output_type": "stream",
     "text": [
      "area, barren, bdticm, bldfie_sl1, bldfie_sl2, bldfie_sl3, bldfie_sl4, bldfie_sl5, bldfie_sl6,\n",
      "bldfie_sl7, cecsol_sl1, cecsol_sl2, cecsol_sl3, cecsol_sl4, cecsol_sl5, cecsol_sl6, cecsol_sl7,\n",
      "circulatory_ratio, clay, closed_shrubland, compactness_coefficient, cropland,\n",
      "cropland_natural_vegetaion, deciduous_broadleaf_tree, deciduous_needleleaf_tree, elev,\n",
      "elongation_ratio, ev, evergreen_broadleaf_tree, evergreen_needleleaf_tree, evp_mean, form_factor,\n",
      "frac_snow_daily, geol_permeability, geol_porosity, grassland, grav, gst_mean, high_prec_dur,\n",
      "high_prec_freq, high_prec_timing, ig, lai_dif, lai_max, lat, length, length_continuous_runoff,\n",
      "log_k_s_l1, log_k_s_l2, log_k_s_l3, log_k_s_l4, log_k_s_l5, log_k_s_l6, lon, low_prec_dur,\n",
      "low_prec_freq, low_prec_timing, mixed_forest, mt, nd, ndvi_mean, open_shrubland, orcdrc_sl1,\n",
      "orcdrc_sl2, orcdrc_sl3, orcdrc_sl4, orcdrc_sl5, orcdrc_sl6, orcdrc_sl7, pa, pb, pdep,\n",
      "permanent_wetland, pet_mean, phihox_sl1, phihox_sl2, phihox_sl3, phihox_sl4, phihox_sl5, phihox_sl6,\n",
      "phihox_sl7, pi, pop, pop_dnsty, por, pre_mean, prs_mean, py, rhu_mean, root_depth_50, root_depth_99,\n",
      "sand, savanna, sc, shape_factor, silt, slope, sm, snow_and_ice, som, ss, ssd_mean, su, tem_mean,\n",
      "theta_s_l1, theta_s_l2, theta_s_l3, theta_s_l4, theta_s_l5, theta_s_l6, tksatu_l1, tksatu_l2,\n",
      "tksatu_l3, tksatu_l4, tksatu_l5, tksatu_l6, urban_and_built-up_land, va, vb, vi, water_bodies, wb,\n",
      "win_mean, woody_savanna\n"
     ]
    }
   ],
   "source": [
    "print(textwrap.fill(\", \".join(dataset.static_features), width=100))"
   ]
  },
  {
   "cell_type": "code",
   "execution_count": 131,
   "metadata": {
    "collapsed": false,
    "execution": {
     "iopub.execute_input": "2024-10-18T21:12:23.155684Z",
     "iopub.status.busy": "2024-10-18T21:12:23.154817Z",
     "iopub.status.idle": "2024-10-18T21:12:23.358717Z",
     "shell.execute_reply": "2024-10-18T21:12:23.357363Z"
    }
   },
   "outputs": [
    {
     "name": "stdout",
     "output_type": "stream",
     "text": [
      "(102, 124)\n"
     ]
    }
   ],
   "source": [
    "df = dataset.fetch_static_features()\n",
    "print(df.shape)"
   ]
  },
  {
   "cell_type": "code",
   "execution_count": 132,
   "metadata": {
    "collapsed": false,
    "execution": {
     "iopub.execute_input": "2024-10-18T21:12:23.368229Z",
     "iopub.status.busy": "2024-10-18T21:12:23.366889Z",
     "iopub.status.idle": "2024-10-18T21:12:23.396813Z",
     "shell.execute_reply": "2024-10-18T21:12:23.395464Z"
    }
   },
   "outputs": [
    {
     "name": "stdout",
     "output_type": "stream",
     "text": [
      "0\n"
     ]
    },
    {
     "data": {
      "text/plain": [
       "area             0\n",
       "barren           0\n",
       "bdticm           0\n",
       "bldfie_sl1       0\n",
       "bldfie_sl2       0\n",
       "                ..\n",
       "vi               0\n",
       "water_bodies     0\n",
       "wb               0\n",
       "win_mean         0\n",
       "woody_savanna    0\n",
       "Length: 124, dtype: int64"
      ]
     },
     "execution_count": 132,
     "metadata": {},
     "output_type": "execute_result"
    }
   ],
   "source": [
    "print(df.isna().sum().sum())\n",
    "df.isna().sum()"
   ]
  },
  {
   "cell_type": "markdown",
   "metadata": {},
   "source": [
    "find those columns which have at least one NaN value\n",
    "\n"
   ]
  },
  {
   "cell_type": "code",
   "execution_count": 133,
   "metadata": {
    "collapsed": false,
    "execution": {
     "iopub.execute_input": "2024-10-18T21:12:23.404598Z",
     "iopub.status.busy": "2024-10-18T21:12:23.403548Z",
     "iopub.status.idle": "2024-10-18T21:12:23.421598Z",
     "shell.execute_reply": "2024-10-18T21:12:23.420195Z"
    }
   },
   "outputs": [
    {
     "name": "stdout",
     "output_type": "stream",
     "text": [
      "No NaN values\n"
     ]
    }
   ],
   "source": [
    "if df.isna().sum().sum()>0:\n",
    "    df.loc[:, (df.isna().sum()>0)]\n",
    "else:\n",
    "    print('No NaN values')"
   ]
  },
  {
   "cell_type": "code",
   "execution_count": 134,
   "metadata": {
    "collapsed": false,
    "execution": {
     "iopub.execute_input": "2024-10-18T21:12:23.428778Z",
     "iopub.status.busy": "2024-10-18T21:12:23.427817Z",
     "iopub.status.idle": "2024-10-18T21:12:23.451221Z",
     "shell.execute_reply": "2024-10-18T21:12:23.449820Z"
    }
   },
   "outputs": [
    {
     "data": {
      "text/plain": [
       "Series([], dtype: float64)"
      ]
     },
     "execution_count": 134,
     "metadata": {},
     "output_type": "execute_result"
    }
   ],
   "source": [
    "df.loc[:, (df.isna().sum()>0)].isna().sum()"
   ]
  },
  {
   "cell_type": "code",
   "execution_count": 135,
   "metadata": {
    "collapsed": false,
    "execution": {
     "iopub.execute_input": "2024-10-18T21:12:23.458741Z",
     "iopub.status.busy": "2024-10-18T21:12:23.457418Z",
     "iopub.status.idle": "2024-10-18T21:12:23.466267Z",
     "shell.execute_reply": "2024-10-18T21:12:23.464976Z"
    }
   },
   "outputs": [
    {
     "name": "stdout",
     "output_type": "stream",
     "text": [
      "16\n",
      "pre, evp, gst_mean, prs_mean, tem_mean, rhu, win_mean, gst_min, prs_min, tem_min, gst_max, prs_max,\n",
      "tem_max, ssd, win_max, q\n"
     ]
    }
   ],
   "source": [
    "print(dataset.num_dynamic())\n",
    "print(textwrap.fill(\", \".join(dataset.dynamic_features), width=100))"
   ]
  },
  {
   "cell_type": "markdown",
   "metadata": {},
   "source": [
    "## CABra\n",
    "\n"
   ]
  },
  {
   "cell_type": "code",
   "execution_count": 136,
   "metadata": {
    "collapsed": false,
    "execution": {
     "iopub.execute_input": "2024-10-18T21:12:23.472455Z",
     "iopub.status.busy": "2024-10-18T21:12:23.471392Z",
     "iopub.status.idle": "2024-10-18T21:12:23.606487Z",
     "shell.execute_reply": "2024-10-18T21:12:23.605151Z"
    }
   },
   "outputs": [
    {
     "name": "stdout",
     "output_type": "stream",
     "text": [
      "RainfallRunoff(CABra) with 735 stations, 12 dynamic and 97 static features\n"
     ]
    }
   ],
   "source": [
    "dataset = RainfallRunoff('CABra', path=gscad_path, verbosity=0)\n",
    "print(dataset)"
   ]
  },
  {
   "cell_type": "code",
   "execution_count": 137,
   "metadata": {
    "collapsed": false,
    "execution": {
     "iopub.execute_input": "2024-10-18T21:12:23.613657Z",
     "iopub.status.busy": "2024-10-18T21:12:23.612706Z",
     "iopub.status.idle": "2024-10-18T21:12:23.720703Z",
     "shell.execute_reply": "2024-10-18T21:12:23.719250Z"
    }
   },
   "outputs": [
    {
     "name": "stdout",
     "output_type": "stream",
     "text": [
      "ANA_ID, clim_p, clim_tmin, clim_tmax, clim_rh, clim_wind, clim_srad, clim_et, clim_pet,\n",
      "aridity_index, p_seasonality, clim_quality, ANA_ID, longitude, latitude, gauge_hreg, gauge_biome,\n",
      "gauge_state, missing_data, series_length, quality_index, ANA_ID, catch_lith, sub_porosity,\n",
      "sub_permeability, sub_hconduc, ANA_ID, aquif_name, aquif_type, catch_wtd, catch_hand, hand_class,\n",
      "well_number, well_static, well_dynamic, ANA_ID, dist_urban, cover_urban, cover_crops, res_number,\n",
      "res_area, res_volume, res_regulation, water_demand, hdisturb_index, ANA_ID, cover_main, cover_bare,\n",
      "cover_forest, cover_crops, cover_grass, cover_moss, cover_shrub, cover_urban, cover_snow,\n",
      "cover_waterp, cover_waters, ndvi_djf, ndvi_mam, ndvi_jja, ndvi_son, ANA_ID, soil_type,\n",
      "soil_textclass, soil_sand, soil_silt, soil_clay, soil_carbon, soil_bulk, soil_depth, ANA_ID, q_mean,\n",
      "q_1, q_5, q_95, q_99, q_lf, q_ld, q_hf, q_hd, q_hfd, q_zero, q_cv, q_lcv, q_hcv, q_elasticity,\n",
      "fdc_slope, baseflow_index, runoff_coef, ANA_ID, catch_area, elev_mean, elev_min, elev_max,\n",
      "elev_gauge, catch_slope, catch_order\n"
     ]
    }
   ],
   "source": [
    "print(textwrap.fill(\", \".join(dataset.static_features), width=100))"
   ]
  },
  {
   "cell_type": "code",
   "execution_count": 138,
   "metadata": {
    "collapsed": false,
    "execution": {
     "iopub.execute_input": "2024-10-18T21:12:23.728228Z",
     "iopub.status.busy": "2024-10-18T21:12:23.727136Z",
     "iopub.status.idle": "2024-10-18T21:12:23.957347Z",
     "shell.execute_reply": "2024-10-18T21:12:23.955969Z"
    }
   },
   "outputs": [
    {
     "name": "stdout",
     "output_type": "stream",
     "text": [
      "(735, 97)\n"
     ]
    }
   ],
   "source": [
    "df = dataset.fetch_static_features()\n",
    "print(df.shape)"
   ]
  },
  {
   "cell_type": "code",
   "execution_count": 139,
   "metadata": {
    "collapsed": false,
    "execution": {
     "iopub.execute_input": "2024-10-18T21:12:23.965091Z",
     "iopub.status.busy": "2024-10-18T21:12:23.963699Z",
     "iopub.status.idle": "2024-10-18T21:12:23.989875Z",
     "shell.execute_reply": "2024-10-18T21:12:23.988617Z"
    }
   },
   "outputs": [
    {
     "name": "stdout",
     "output_type": "stream",
     "text": [
      "0\n"
     ]
    },
    {
     "data": {
      "text/plain": [
       "ANA_ID         0\n",
       "clim_p         0\n",
       "clim_tmin      0\n",
       "clim_tmax      0\n",
       "clim_rh        0\n",
       "              ..\n",
       "elev_min       0\n",
       "elev_max       0\n",
       "elev_gauge     0\n",
       "catch_slope    0\n",
       "catch_order    0\n",
       "Length: 97, dtype: int64"
      ]
     },
     "execution_count": 139,
     "metadata": {},
     "output_type": "execute_result"
    }
   ],
   "source": [
    "print(df.isna().sum().sum())\n",
    "df.isna().sum()"
   ]
  },
  {
   "cell_type": "markdown",
   "metadata": {},
   "source": [
    "find those columns which have at least one NaN value\n",
    "\n"
   ]
  },
  {
   "cell_type": "code",
   "execution_count": 140,
   "metadata": {
    "collapsed": false,
    "execution": {
     "iopub.execute_input": "2024-10-18T21:12:23.997995Z",
     "iopub.status.busy": "2024-10-18T21:12:23.997228Z",
     "iopub.status.idle": "2024-10-18T21:12:24.014165Z",
     "shell.execute_reply": "2024-10-18T21:12:24.012850Z"
    }
   },
   "outputs": [
    {
     "name": "stdout",
     "output_type": "stream",
     "text": [
      "No NaN values\n"
     ]
    }
   ],
   "source": [
    "if df.isna().sum().sum()>0:\n",
    "    df.loc[:, (df.isna().sum()>0)]\n",
    "else:\n",
    "    print('No NaN values')"
   ]
  },
  {
   "cell_type": "code",
   "execution_count": 141,
   "metadata": {
    "collapsed": false,
    "execution": {
     "iopub.execute_input": "2024-10-18T21:12:24.020681Z",
     "iopub.status.busy": "2024-10-18T21:12:24.019469Z",
     "iopub.status.idle": "2024-10-18T21:12:24.039004Z",
     "shell.execute_reply": "2024-10-18T21:12:24.037505Z"
    }
   },
   "outputs": [
    {
     "data": {
      "text/plain": [
       "Series([], dtype: float64)"
      ]
     },
     "execution_count": 141,
     "metadata": {},
     "output_type": "execute_result"
    }
   ],
   "source": [
    "df.loc[:, (df.isna().sum()>0)].isna().sum()"
   ]
  },
  {
   "cell_type": "code",
   "execution_count": 142,
   "metadata": {
    "collapsed": false,
    "execution": {
     "iopub.execute_input": "2024-10-18T21:12:24.046165Z",
     "iopub.status.busy": "2024-10-18T21:12:24.045037Z",
     "iopub.status.idle": "2024-10-18T21:12:24.054290Z",
     "shell.execute_reply": "2024-10-18T21:12:24.053046Z"
    }
   },
   "outputs": [
    {
     "name": "stdout",
     "output_type": "stream",
     "text": [
      "12\n",
      "p_ens, tmin_ens, tmax_ens, rh_ens, wnd_ens, srad_ens, et_ens, pet_pm, pet_pt, pet_hg, Quality,\n",
      "Streamflow\n"
     ]
    }
   ],
   "source": [
    "print(dataset.num_dynamic())\n",
    "print(textwrap.fill(\", \".join(dataset.dynamic_features), width=100))"
   ]
  },
  {
   "cell_type": "markdown",
   "metadata": {},
   "source": [
    "## Simbi\n",
    "\n"
   ]
  },
  {
   "cell_type": "code",
   "execution_count": 143,
   "metadata": {
    "collapsed": false,
    "execution": {
     "iopub.execute_input": "2024-10-18T21:12:24.060332Z",
     "iopub.status.busy": "2024-10-18T21:12:24.059518Z",
     "iopub.status.idle": "2024-10-18T21:12:24.195337Z",
     "shell.execute_reply": "2024-10-18T21:12:24.193811Z"
    }
   },
   "outputs": [
    {
     "name": "stdout",
     "output_type": "stream",
     "text": [
      "RainfallRunoff(Simbi) with 70 stations, 3 dynamic and 232 static features\n"
     ]
    }
   ],
   "source": [
    "dataset = RainfallRunoff('Simbi', path= gscad_path, verbosity=0)\n",
    "print(dataset)"
   ]
  },
  {
   "cell_type": "code",
   "execution_count": 144,
   "metadata": {
    "collapsed": false,
    "execution": {
     "iopub.execute_input": "2024-10-18T21:12:24.202627Z",
     "iopub.status.busy": "2024-10-18T21:12:24.201658Z",
     "iopub.status.idle": "2024-10-18T21:12:24.212250Z",
     "shell.execute_reply": "2024-10-18T21:12:24.210944Z"
    }
   },
   "outputs": [
    {
     "name": "stdout",
     "output_type": "stream",
     "text": [
      "Stream_density, Savannahs with other presence_lc_98, Dense agroforestry systems_lc_98, Forest_lc_98,\n",
      "Medium-density agricultural crops_lc_98, Pasture with other presence_lc_98, River beds & recent\n",
      "alluvium_lc_98, Dense agricultural crops_lc_98, Rock outcrops & bare soil_lc_98, Savannahs_lc_98,\n",
      "Wetlands_lc_98, Water plan_lc_98, Discontinuous urban_lc_98, Continuous urban_lc_98,\n",
      "Mangroves_lc_98, Beaches & dunes_lc_98, Saline areas_lc_98, Ports & airports_lc_98, Dominant\n",
      "pastures_lc_98, Quarry_lc_98, Industrial areas_lc_98, Mixed Forest_lc_95, Open Shrubland_lc_95,\n",
      "Woodland_lc_95, Deciduous Needleleaf Forest_lc_95, Evergreen Broadleaf Forest_lc_95,\n",
      "Grassland_lc_95, Water_lc_95, Wooded Grassland_lc_95, Closed Shrubland_lc_95, Urban_lc_95,\n",
      "Cropland_lc_95, Evergreen Needleleaf Forest_lc_95, Deciduous Broadleaf Forest_lc_95, Hard\n",
      "limestone_geol, Andesites & rhyodacites_geol, Alluvium & detrital materials_geol, Diorite &\n",
      "tonalite_geol, Flysch & sandstone & limestone_geol, Marl & sand_geol, Basalt_geol, Marl & marly\n",
      "limestone_geol, Volcano-sedimentary rock_geol, Ultrabasic rocks_geol, Marly limestone_geol, Lon_Exu,\n",
      "Lat_Exu, Lon_Cent, Lat_Cent, Area, Gravelius, Slope, Min_Elv, Max_Elv, Sd_Elv, Cumul_Freq_1%,\n",
      "Cumul_Freq_2%, Cumul_Freq_3%, Cumul_Freq_4%, Cumul_Freq_5%, Cumul_Freq_6%, Cumul_Freq_7%,\n",
      "Cumul_Freq_8%, Cumul_Freq_9%, Cumul_Freq_10%, Cumul_Freq_11%, Cumul_Freq_12%, Cumul_Freq_13%,\n",
      "Cumul_Freq_14%, Cumul_Freq_15%, Cumul_Freq_16%, Cumul_Freq_17%, Cumul_Freq_18%, Cumul_Freq_19%,\n",
      "Cumul_Freq_20%, Cumul_Freq_21%, Cumul_Freq_22%, Cumul_Freq_23%, Cumul_Freq_24%, Cumul_Freq_25%,\n",
      "Cumul_Freq_26%, Cumul_Freq_27%, Cumul_Freq_28%, Cumul_Freq_29%, Cumul_Freq_30%, Cumul_Freq_31%,\n",
      "Cumul_Freq_32%, Cumul_Freq_33%, Cumul_Freq_34%, Cumul_Freq_35%, Cumul_Freq_36%, Cumul_Freq_37%,\n",
      "Cumul_Freq_38%, Cumul_Freq_39%, Cumul_Freq_40%, Cumul_Freq_41%, Cumul_Freq_42%, Cumul_Freq_43%,\n",
      "Cumul_Freq_44%, Cumul_Freq_45%, Cumul_Freq_46%, Cumul_Freq_47%, Cumul_Freq_48%, Cumul_Freq_49%,\n",
      "Cumul_Freq_50%, Cumul_Freq_51%, Cumul_Freq_52%, Cumul_Freq_53%, Cumul_Freq_54%, Cumul_Freq_55%,\n",
      "Cumul_Freq_56%, Cumul_Freq_57%, Cumul_Freq_58%, Cumul_Freq_59%, Cumul_Freq_60%, Cumul_Freq_61%,\n",
      "Cumul_Freq_62%, Cumul_Freq_63%, Cumul_Freq_64%, Cumul_Freq_65%, Cumul_Freq_66%, Cumul_Freq_67%,\n",
      "Cumul_Freq_68%, Cumul_Freq_69%, Cumul_Freq_70%, Cumul_Freq_71%, Cumul_Freq_72%, Cumul_Freq_73%,\n",
      "Cumul_Freq_74%, Cumul_Freq_75%, Cumul_Freq_76%, Cumul_Freq_77%, Cumul_Freq_78%, Cumul_Freq_79%,\n",
      "Cumul_Freq_80%, Cumul_Freq_81%, Cumul_Freq_82%, Cumul_Freq_83%, Cumul_Freq_84%, Cumul_Freq_85%,\n",
      "Cumul_Freq_86%, Cumul_Freq_87%, Cumul_Freq_88%, Cumul_Freq_89%, Cumul_Freq_90%, Cumul_Freq_91%,\n",
      "Cumul_Freq_92%, Cumul_Freq_93%, Cumul_Freq_94%, Cumul_Freq_95%, Cumul_Freq_96%, Cumul_Freq_97%,\n",
      "Cumul_Freq_98%, Cumul_Freq_99%, Cumul_Freq_100%, Alluvial aquifers with free water, Low permeability\n",
      "sedimentary formation, Karst aquifer, Crystalline formation, Fissured & partitioned carbonate\n",
      "aquifers, Highly permeable fissured & porous carbonate aquifers, Carbonate aquifers with marl\n",
      "intercalation, More productive alluvial area, Alluvial aquifers with partly confined water,\n",
      "Carb_Rocks_Perc, Sedim_Perc, Magma_Perc, BFI_d, BFI1_d, BFI2_d, BFI3_d, Q_mm_d_hq_dur,\n",
      "Q1_mm_d_hq_dur, Q2_mm_d_hq_dur, Q3_mm_d_hq_dur, Q_mm_d_hq_freq, Q1_mm_d_hq_freq, Q2_mm_d_hq_freq,\n",
      "Q3_mm_d_hq_freq, Q_mm_d_lq_dur, Q1_mm_d_lq_dur, Q2_mm_d_lq_dur, Q3_mm_d_lq_dur, Q_mm_d_lq_freq,\n",
      "Q1_mm_d_lq_freq, Q2_mm_d_lq_freq, Q3_mm_d_lq_freq, Q_mm_d_mean, Q1_mm_d_mean, Q2_mm_d_mean,\n",
      "Q3_mm_d_mean, Q_mm_d_q5, Q1_mm_d_q5, Q2_mm_d_q5, Q3_mm_d_q5, Q_mm_d_q95, Q1_mm_d_q95, Q2_mm_d_q95,\n",
      "Q3_mm_d_q95, Aridity_mon_arid, Runoff_Ratio_mon_arid, P_mon_avg, Temp_mon_avg, ETP_mon_avg,\n",
      "Q_mon_avg, Q1_mon_avg, Q2_mon_avg, Q3_mon_avg, P_min5_mon_QMNA5, Q_min5_mon_QMNA5,\n",
      "Q1_min5_mon_QMNA5, Q2_min5_mon_QMNA5, Q3_min5_mon_QMNA5, P_max10_mon_QMXA10, Q_max10_mon_QMXA10,\n",
      "Q1_max10_mon_QMXA10, Q2_max10_mon_QMXA10, Q3_max10_mon_QMXA10, P_5_mon_q5, Temp_5_mon_q5,\n",
      "ETP_5_mon_q5, Q_5_mon_q5, Q1_5_mon_q5, Q2_5_mon_q5, Q3_5_mon_q5, P_95_mon_q95, Temp_95_mon_q95,\n",
      "ETP_95_mon_q95, Q_95_mon_q95, Q1_95_mon_q95, Q2_95_mon_q95, Q3_95_mon_q95\n"
     ]
    }
   ],
   "source": [
    "print(textwrap.fill(\", \".join(dataset.static_features), width=100))"
   ]
  },
  {
   "cell_type": "code",
   "execution_count": 145,
   "metadata": {
    "collapsed": false,
    "execution": {
     "iopub.execute_input": "2024-10-18T21:12:24.218973Z",
     "iopub.status.busy": "2024-10-18T21:12:24.217875Z",
     "iopub.status.idle": "2024-10-18T21:12:24.401662Z",
     "shell.execute_reply": "2024-10-18T21:12:24.400140Z"
    }
   },
   "outputs": [
    {
     "name": "stdout",
     "output_type": "stream",
     "text": [
      "(24, 232)\n"
     ]
    }
   ],
   "source": [
    "df = dataset.fetch_static_features()\n",
    "print(df.shape)"
   ]
  },
  {
   "cell_type": "code",
   "execution_count": 146,
   "metadata": {
    "collapsed": false,
    "execution": {
     "iopub.execute_input": "2024-10-18T21:12:24.410286Z",
     "iopub.status.busy": "2024-10-18T21:12:24.408940Z",
     "iopub.status.idle": "2024-10-18T21:12:24.431399Z",
     "shell.execute_reply": "2024-10-18T21:12:24.429767Z"
    }
   },
   "outputs": [
    {
     "name": "stdout",
     "output_type": "stream",
     "text": [
      "96\n"
     ]
    },
    {
     "data": {
      "text/plain": [
       "Stream_density                             0\n",
       "Savannahs with other presence_lc_98        0\n",
       "Dense agroforestry systems_lc_98           0\n",
       "Forest_lc_98                               0\n",
       "Medium-density agricultural crops_lc_98    0\n",
       "                                          ..\n",
       "ETP_95_mon_q95                             0\n",
       "Q_95_mon_q95                               0\n",
       "Q1_95_mon_q95                              0\n",
       "Q2_95_mon_q95                              0\n",
       "Q3_95_mon_q95                              0\n",
       "Length: 232, dtype: int64"
      ]
     },
     "execution_count": 146,
     "metadata": {},
     "output_type": "execute_result"
    }
   ],
   "source": [
    "print(df.isna().sum().sum())\n",
    "df.isna().sum()"
   ]
  },
  {
   "cell_type": "markdown",
   "metadata": {},
   "source": [
    "find those columns which have at least one NaN value\n",
    "\n"
   ]
  },
  {
   "cell_type": "code",
   "execution_count": 147,
   "metadata": {
    "collapsed": false,
    "execution": {
     "iopub.execute_input": "2024-10-18T21:12:24.439930Z",
     "iopub.status.busy": "2024-10-18T21:12:24.438669Z",
     "iopub.status.idle": "2024-10-18T21:12:24.504034Z",
     "shell.execute_reply": "2024-10-18T21:12:24.502903Z"
    }
   },
   "outputs": [
    {
     "data": {
      "text/html": [
       "<div>\n",
       "<style scoped>\n",
       "    .dataframe tbody tr th:only-of-type {\n",
       "        vertical-align: middle;\n",
       "    }\n",
       "\n",
       "    .dataframe tbody tr th {\n",
       "        vertical-align: top;\n",
       "    }\n",
       "\n",
       "    .dataframe thead th {\n",
       "        text-align: right;\n",
       "    }\n",
       "</style>\n",
       "<table border=\"1\" class=\"dataframe\">\n",
       "  <thead>\n",
       "    <tr style=\"text-align: right;\">\n",
       "      <th></th>\n",
       "      <th>BFI_d</th>\n",
       "      <th>BFI1_d</th>\n",
       "      <th>BFI2_d</th>\n",
       "      <th>BFI3_d</th>\n",
       "      <th>Q_mm_d_hq_dur</th>\n",
       "      <th>Q1_mm_d_hq_dur</th>\n",
       "      <th>Q2_mm_d_hq_dur</th>\n",
       "      <th>Q3_mm_d_hq_dur</th>\n",
       "      <th>Q_mm_d_hq_freq</th>\n",
       "      <th>Q1_mm_d_hq_freq</th>\n",
       "      <th>...</th>\n",
       "      <th>Q2_mm_d_mean</th>\n",
       "      <th>Q3_mm_d_mean</th>\n",
       "      <th>Q_mm_d_q5</th>\n",
       "      <th>Q1_mm_d_q5</th>\n",
       "      <th>Q2_mm_d_q5</th>\n",
       "      <th>Q3_mm_d_q5</th>\n",
       "      <th>Q_mm_d_q95</th>\n",
       "      <th>Q1_mm_d_q95</th>\n",
       "      <th>Q2_mm_d_q95</th>\n",
       "      <th>Q3_mm_d_q95</th>\n",
       "    </tr>\n",
       "  </thead>\n",
       "  <tbody>\n",
       "    <tr>\n",
       "      <th>001</th>\n",
       "      <td>0.49</td>\n",
       "      <td>0.46</td>\n",
       "      <td>0.68</td>\n",
       "      <td>0.55</td>\n",
       "      <td>1.62</td>\n",
       "      <td>2.12</td>\n",
       "      <td>5.00</td>\n",
       "      <td>3.67</td>\n",
       "      <td>0.86</td>\n",
       "      <td>2.43</td>\n",
       "      <td>...</td>\n",
       "      <td>1.15</td>\n",
       "      <td>1.18</td>\n",
       "      <td>0.4</td>\n",
       "      <td>0.2</td>\n",
       "      <td>0.3</td>\n",
       "      <td>0.2</td>\n",
       "      <td>3.10</td>\n",
       "      <td>3.30</td>\n",
       "      <td>2.70</td>\n",
       "      <td>3.10</td>\n",
       "    </tr>\n",
       "    <tr>\n",
       "      <th>004</th>\n",
       "      <td>0.38</td>\n",
       "      <td>0.59</td>\n",
       "      <td>0.38</td>\n",
       "      <td>0.42</td>\n",
       "      <td>2.00</td>\n",
       "      <td>1.98</td>\n",
       "      <td>3.62</td>\n",
       "      <td>3.71</td>\n",
       "      <td>5.00</td>\n",
       "      <td>5.38</td>\n",
       "      <td>...</td>\n",
       "      <td>2.27</td>\n",
       "      <td>2.23</td>\n",
       "      <td>0.6</td>\n",
       "      <td>0.6</td>\n",
       "      <td>0.3</td>\n",
       "      <td>0.3</td>\n",
       "      <td>4.80</td>\n",
       "      <td>6.90</td>\n",
       "      <td>8.60</td>\n",
       "      <td>8.15</td>\n",
       "    </tr>\n",
       "    <tr>\n",
       "      <th>006</th>\n",
       "      <td>0.50</td>\n",
       "      <td>0.47</td>\n",
       "      <td>0.66</td>\n",
       "      <td>0.61</td>\n",
       "      <td>1.89</td>\n",
       "      <td>1.90</td>\n",
       "      <td>3.26</td>\n",
       "      <td>2.72</td>\n",
       "      <td>1.00</td>\n",
       "      <td>5.52</td>\n",
       "      <td>...</td>\n",
       "      <td>1.21</td>\n",
       "      <td>1.36</td>\n",
       "      <td>0.4</td>\n",
       "      <td>0.5</td>\n",
       "      <td>0.4</td>\n",
       "      <td>0.4</td>\n",
       "      <td>3.60</td>\n",
       "      <td>4.10</td>\n",
       "      <td>3.20</td>\n",
       "      <td>3.50</td>\n",
       "    </tr>\n",
       "    <tr>\n",
       "      <th>007</th>\n",
       "      <td>0.47</td>\n",
       "      <td>0.49</td>\n",
       "      <td>0.53</td>\n",
       "      <td>0.50</td>\n",
       "      <td>2.33</td>\n",
       "      <td>2.65</td>\n",
       "      <td>1.62</td>\n",
       "      <td>1.96</td>\n",
       "      <td>2.50</td>\n",
       "      <td>5.05</td>\n",
       "      <td>...</td>\n",
       "      <td>2.08</td>\n",
       "      <td>2.04</td>\n",
       "      <td>0.5</td>\n",
       "      <td>0.3</td>\n",
       "      <td>0.5</td>\n",
       "      <td>0.5</td>\n",
       "      <td>5.50</td>\n",
       "      <td>6.00</td>\n",
       "      <td>5.60</td>\n",
       "      <td>5.60</td>\n",
       "    </tr>\n",
       "    <tr>\n",
       "      <th>008</th>\n",
       "      <td>NaN</td>\n",
       "      <td>NaN</td>\n",
       "      <td>NaN</td>\n",
       "      <td>NaN</td>\n",
       "      <td>NaN</td>\n",
       "      <td>NaN</td>\n",
       "      <td>NaN</td>\n",
       "      <td>NaN</td>\n",
       "      <td>NaN</td>\n",
       "      <td>NaN</td>\n",
       "      <td>...</td>\n",
       "      <td>NaN</td>\n",
       "      <td>NaN</td>\n",
       "      <td>NaN</td>\n",
       "      <td>NaN</td>\n",
       "      <td>NaN</td>\n",
       "      <td>NaN</td>\n",
       "      <td>NaN</td>\n",
       "      <td>NaN</td>\n",
       "      <td>NaN</td>\n",
       "      <td>NaN</td>\n",
       "    </tr>\n",
       "    <tr>\n",
       "      <th>010</th>\n",
       "      <td>0.32</td>\n",
       "      <td>0.29</td>\n",
       "      <td>0.21</td>\n",
       "      <td>0.31</td>\n",
       "      <td>2.85</td>\n",
       "      <td>6.08</td>\n",
       "      <td>3.61</td>\n",
       "      <td>5.23</td>\n",
       "      <td>8.23</td>\n",
       "      <td>20.86</td>\n",
       "      <td>...</td>\n",
       "      <td>2.30</td>\n",
       "      <td>2.19</td>\n",
       "      <td>0.4</td>\n",
       "      <td>0.2</td>\n",
       "      <td>0.1</td>\n",
       "      <td>0.1</td>\n",
       "      <td>6.70</td>\n",
       "      <td>7.00</td>\n",
       "      <td>7.60</td>\n",
       "      <td>7.10</td>\n",
       "    </tr>\n",
       "    <tr>\n",
       "      <th>023</th>\n",
       "      <td>0.20</td>\n",
       "      <td>0.16</td>\n",
       "      <td>0.34</td>\n",
       "      <td>0.29</td>\n",
       "      <td>1.91</td>\n",
       "      <td>3.65</td>\n",
       "      <td>3.11</td>\n",
       "      <td>4.37</td>\n",
       "      <td>7.79</td>\n",
       "      <td>20.14</td>\n",
       "      <td>...</td>\n",
       "      <td>1.86</td>\n",
       "      <td>1.81</td>\n",
       "      <td>0.3</td>\n",
       "      <td>0.2</td>\n",
       "      <td>0.2</td>\n",
       "      <td>0.2</td>\n",
       "      <td>5.58</td>\n",
       "      <td>6.90</td>\n",
       "      <td>6.20</td>\n",
       "      <td>6.70</td>\n",
       "    </tr>\n",
       "    <tr>\n",
       "      <th>024</th>\n",
       "      <td>0.42</td>\n",
       "      <td>0.38</td>\n",
       "      <td>0.42</td>\n",
       "      <td>0.39</td>\n",
       "      <td>1.75</td>\n",
       "      <td>3.38</td>\n",
       "      <td>2.14</td>\n",
       "      <td>2.27</td>\n",
       "      <td>2.75</td>\n",
       "      <td>15.14</td>\n",
       "      <td>...</td>\n",
       "      <td>1.43</td>\n",
       "      <td>1.38</td>\n",
       "      <td>0.1</td>\n",
       "      <td>0.3</td>\n",
       "      <td>0.5</td>\n",
       "      <td>0.4</td>\n",
       "      <td>3.70</td>\n",
       "      <td>4.70</td>\n",
       "      <td>4.50</td>\n",
       "      <td>4.50</td>\n",
       "    </tr>\n",
       "    <tr>\n",
       "      <th>029</th>\n",
       "      <td>0.39</td>\n",
       "      <td>0.38</td>\n",
       "      <td>0.28</td>\n",
       "      <td>0.33</td>\n",
       "      <td>1.56</td>\n",
       "      <td>2.43</td>\n",
       "      <td>3.51</td>\n",
       "      <td>3.18</td>\n",
       "      <td>2.71</td>\n",
       "      <td>6.95</td>\n",
       "      <td>...</td>\n",
       "      <td>2.01</td>\n",
       "      <td>2.13</td>\n",
       "      <td>0.7</td>\n",
       "      <td>0.2</td>\n",
       "      <td>0.1</td>\n",
       "      <td>0.1</td>\n",
       "      <td>4.50</td>\n",
       "      <td>6.50</td>\n",
       "      <td>6.20</td>\n",
       "      <td>6.30</td>\n",
       "    </tr>\n",
       "    <tr>\n",
       "      <th>036</th>\n",
       "      <td>NaN</td>\n",
       "      <td>NaN</td>\n",
       "      <td>NaN</td>\n",
       "      <td>NaN</td>\n",
       "      <td>NaN</td>\n",
       "      <td>NaN</td>\n",
       "      <td>NaN</td>\n",
       "      <td>NaN</td>\n",
       "      <td>NaN</td>\n",
       "      <td>NaN</td>\n",
       "      <td>...</td>\n",
       "      <td>NaN</td>\n",
       "      <td>NaN</td>\n",
       "      <td>NaN</td>\n",
       "      <td>NaN</td>\n",
       "      <td>NaN</td>\n",
       "      <td>NaN</td>\n",
       "      <td>NaN</td>\n",
       "      <td>NaN</td>\n",
       "      <td>NaN</td>\n",
       "      <td>NaN</td>\n",
       "    </tr>\n",
       "    <tr>\n",
       "      <th>037</th>\n",
       "      <td>0.41</td>\n",
       "      <td>0.24</td>\n",
       "      <td>0.47</td>\n",
       "      <td>0.34</td>\n",
       "      <td>1.33</td>\n",
       "      <td>9.02</td>\n",
       "      <td>3.51</td>\n",
       "      <td>7.03</td>\n",
       "      <td>0.38</td>\n",
       "      <td>36.10</td>\n",
       "      <td>...</td>\n",
       "      <td>0.80</td>\n",
       "      <td>0.71</td>\n",
       "      <td>0.2</td>\n",
       "      <td>0.0</td>\n",
       "      <td>0.0</td>\n",
       "      <td>0.0</td>\n",
       "      <td>2.90</td>\n",
       "      <td>2.60</td>\n",
       "      <td>3.00</td>\n",
       "      <td>2.90</td>\n",
       "    </tr>\n",
       "    <tr>\n",
       "      <th>041</th>\n",
       "      <td>0.39</td>\n",
       "      <td>0.39</td>\n",
       "      <td>0.61</td>\n",
       "      <td>0.52</td>\n",
       "      <td>0.00</td>\n",
       "      <td>6.14</td>\n",
       "      <td>2.00</td>\n",
       "      <td>4.06</td>\n",
       "      <td>0.00</td>\n",
       "      <td>14.90</td>\n",
       "      <td>...</td>\n",
       "      <td>0.94</td>\n",
       "      <td>0.93</td>\n",
       "      <td>0.2</td>\n",
       "      <td>0.0</td>\n",
       "      <td>0.0</td>\n",
       "      <td>0.0</td>\n",
       "      <td>3.00</td>\n",
       "      <td>3.30</td>\n",
       "      <td>3.10</td>\n",
       "      <td>3.20</td>\n",
       "    </tr>\n",
       "    <tr>\n",
       "      <th>044</th>\n",
       "      <td>0.25</td>\n",
       "      <td>0.32</td>\n",
       "      <td>0.28</td>\n",
       "      <td>0.36</td>\n",
       "      <td>1.38</td>\n",
       "      <td>7.22</td>\n",
       "      <td>6.06</td>\n",
       "      <td>11.37</td>\n",
       "      <td>9.86</td>\n",
       "      <td>40.24</td>\n",
       "      <td>...</td>\n",
       "      <td>0.81</td>\n",
       "      <td>0.89</td>\n",
       "      <td>0.2</td>\n",
       "      <td>0.0</td>\n",
       "      <td>0.0</td>\n",
       "      <td>0.0</td>\n",
       "      <td>4.46</td>\n",
       "      <td>4.25</td>\n",
       "      <td>4.10</td>\n",
       "      <td>4.10</td>\n",
       "    </tr>\n",
       "    <tr>\n",
       "      <th>045</th>\n",
       "      <td>0.42</td>\n",
       "      <td>0.52</td>\n",
       "      <td>0.39</td>\n",
       "      <td>0.44</td>\n",
       "      <td>1.60</td>\n",
       "      <td>2.95</td>\n",
       "      <td>1.85</td>\n",
       "      <td>2.15</td>\n",
       "      <td>0.17</td>\n",
       "      <td>2.95</td>\n",
       "      <td>...</td>\n",
       "      <td>0.44</td>\n",
       "      <td>0.43</td>\n",
       "      <td>0.1</td>\n",
       "      <td>0.1</td>\n",
       "      <td>0.1</td>\n",
       "      <td>0.1</td>\n",
       "      <td>1.00</td>\n",
       "      <td>1.20</td>\n",
       "      <td>1.25</td>\n",
       "      <td>1.10</td>\n",
       "    </tr>\n",
       "    <tr>\n",
       "      <th>051</th>\n",
       "      <td>0.18</td>\n",
       "      <td>0.23</td>\n",
       "      <td>0.21</td>\n",
       "      <td>0.13</td>\n",
       "      <td>2.27</td>\n",
       "      <td>3.62</td>\n",
       "      <td>2.89</td>\n",
       "      <td>3.22</td>\n",
       "      <td>12.00</td>\n",
       "      <td>13.10</td>\n",
       "      <td>...</td>\n",
       "      <td>2.15</td>\n",
       "      <td>1.61</td>\n",
       "      <td>0.2</td>\n",
       "      <td>0.1</td>\n",
       "      <td>0.2</td>\n",
       "      <td>0.1</td>\n",
       "      <td>4.50</td>\n",
       "      <td>3.80</td>\n",
       "      <td>7.95</td>\n",
       "      <td>6.00</td>\n",
       "    </tr>\n",
       "    <tr>\n",
       "      <th>052</th>\n",
       "      <td>0.29</td>\n",
       "      <td>0.49</td>\n",
       "      <td>0.62</td>\n",
       "      <td>0.58</td>\n",
       "      <td>3.11</td>\n",
       "      <td>1.90</td>\n",
       "      <td>2.53</td>\n",
       "      <td>2.44</td>\n",
       "      <td>33.50</td>\n",
       "      <td>2.71</td>\n",
       "      <td>...</td>\n",
       "      <td>3.01</td>\n",
       "      <td>2.88</td>\n",
       "      <td>0.0</td>\n",
       "      <td>0.2</td>\n",
       "      <td>1.0</td>\n",
       "      <td>0.8</td>\n",
       "      <td>9.96</td>\n",
       "      <td>8.40</td>\n",
       "      <td>8.70</td>\n",
       "      <td>8.70</td>\n",
       "    </tr>\n",
       "    <tr>\n",
       "      <th>053</th>\n",
       "      <td>0.12</td>\n",
       "      <td>0.31</td>\n",
       "      <td>0.10</td>\n",
       "      <td>0.11</td>\n",
       "      <td>1.89</td>\n",
       "      <td>2.30</td>\n",
       "      <td>6.26</td>\n",
       "      <td>8.01</td>\n",
       "      <td>14.33</td>\n",
       "      <td>12.62</td>\n",
       "      <td>...</td>\n",
       "      <td>2.85</td>\n",
       "      <td>2.72</td>\n",
       "      <td>0.2</td>\n",
       "      <td>0.4</td>\n",
       "      <td>0.0</td>\n",
       "      <td>0.0</td>\n",
       "      <td>6.90</td>\n",
       "      <td>9.00</td>\n",
       "      <td>16.95</td>\n",
       "      <td>15.60</td>\n",
       "    </tr>\n",
       "    <tr>\n",
       "      <th>056</th>\n",
       "      <td>0.15</td>\n",
       "      <td>0.22</td>\n",
       "      <td>0.49</td>\n",
       "      <td>0.47</td>\n",
       "      <td>1.78</td>\n",
       "      <td>3.49</td>\n",
       "      <td>4.20</td>\n",
       "      <td>4.84</td>\n",
       "      <td>10.55</td>\n",
       "      <td>11.29</td>\n",
       "      <td>...</td>\n",
       "      <td>1.32</td>\n",
       "      <td>1.28</td>\n",
       "      <td>0.1</td>\n",
       "      <td>0.1</td>\n",
       "      <td>0.3</td>\n",
       "      <td>0.2</td>\n",
       "      <td>4.30</td>\n",
       "      <td>4.00</td>\n",
       "      <td>4.00</td>\n",
       "      <td>4.30</td>\n",
       "    </tr>\n",
       "    <tr>\n",
       "      <th>057</th>\n",
       "      <td>NaN</td>\n",
       "      <td>NaN</td>\n",
       "      <td>NaN</td>\n",
       "      <td>NaN</td>\n",
       "      <td>NaN</td>\n",
       "      <td>NaN</td>\n",
       "      <td>NaN</td>\n",
       "      <td>NaN</td>\n",
       "      <td>NaN</td>\n",
       "      <td>NaN</td>\n",
       "      <td>...</td>\n",
       "      <td>NaN</td>\n",
       "      <td>NaN</td>\n",
       "      <td>NaN</td>\n",
       "      <td>NaN</td>\n",
       "      <td>NaN</td>\n",
       "      <td>NaN</td>\n",
       "      <td>NaN</td>\n",
       "      <td>NaN</td>\n",
       "      <td>NaN</td>\n",
       "      <td>NaN</td>\n",
       "    </tr>\n",
       "    <tr>\n",
       "      <th>058</th>\n",
       "      <td>0.32</td>\n",
       "      <td>0.29</td>\n",
       "      <td>0.27</td>\n",
       "      <td>0.06</td>\n",
       "      <td>2.32</td>\n",
       "      <td>3.71</td>\n",
       "      <td>5.87</td>\n",
       "      <td>6.16</td>\n",
       "      <td>20.00</td>\n",
       "      <td>38.29</td>\n",
       "      <td>...</td>\n",
       "      <td>1.12</td>\n",
       "      <td>1.50</td>\n",
       "      <td>0.1</td>\n",
       "      <td>0.1</td>\n",
       "      <td>0.0</td>\n",
       "      <td>0.0</td>\n",
       "      <td>2.80</td>\n",
       "      <td>8.00</td>\n",
       "      <td>4.80</td>\n",
       "      <td>6.80</td>\n",
       "    </tr>\n",
       "    <tr>\n",
       "      <th>060</th>\n",
       "      <td>0.26</td>\n",
       "      <td>0.44</td>\n",
       "      <td>0.53</td>\n",
       "      <td>0.41</td>\n",
       "      <td>2.17</td>\n",
       "      <td>3.03</td>\n",
       "      <td>2.42</td>\n",
       "      <td>2.20</td>\n",
       "      <td>9.67</td>\n",
       "      <td>9.67</td>\n",
       "      <td>...</td>\n",
       "      <td>1.47</td>\n",
       "      <td>1.48</td>\n",
       "      <td>0.2</td>\n",
       "      <td>0.3</td>\n",
       "      <td>0.4</td>\n",
       "      <td>0.4</td>\n",
       "      <td>4.80</td>\n",
       "      <td>5.00</td>\n",
       "      <td>4.00</td>\n",
       "      <td>4.50</td>\n",
       "    </tr>\n",
       "    <tr>\n",
       "      <th>061</th>\n",
       "      <td>0.30</td>\n",
       "      <td>0.33</td>\n",
       "      <td>0.49</td>\n",
       "      <td>0.41</td>\n",
       "      <td>1.85</td>\n",
       "      <td>2.41</td>\n",
       "      <td>2.38</td>\n",
       "      <td>2.35</td>\n",
       "      <td>6.92</td>\n",
       "      <td>12.71</td>\n",
       "      <td>...</td>\n",
       "      <td>3.11</td>\n",
       "      <td>2.87</td>\n",
       "      <td>0.6</td>\n",
       "      <td>0.4</td>\n",
       "      <td>0.7</td>\n",
       "      <td>0.5</td>\n",
       "      <td>8.90</td>\n",
       "      <td>9.10</td>\n",
       "      <td>9.30</td>\n",
       "      <td>9.20</td>\n",
       "    </tr>\n",
       "    <tr>\n",
       "      <th>065</th>\n",
       "      <td>0.25</td>\n",
       "      <td>0.28</td>\n",
       "      <td>0.34</td>\n",
       "      <td>0.31</td>\n",
       "      <td>2.30</td>\n",
       "      <td>2.39</td>\n",
       "      <td>2.81</td>\n",
       "      <td>2.37</td>\n",
       "      <td>11.75</td>\n",
       "      <td>17.52</td>\n",
       "      <td>...</td>\n",
       "      <td>1.70</td>\n",
       "      <td>1.72</td>\n",
       "      <td>0.2</td>\n",
       "      <td>0.3</td>\n",
       "      <td>0.3</td>\n",
       "      <td>0.3</td>\n",
       "      <td>6.00</td>\n",
       "      <td>6.20</td>\n",
       "      <td>5.90</td>\n",
       "      <td>6.20</td>\n",
       "    </tr>\n",
       "    <tr>\n",
       "      <th>068</th>\n",
       "      <td>0.52</td>\n",
       "      <td>0.55</td>\n",
       "      <td>0.55</td>\n",
       "      <td>0.55</td>\n",
       "      <td>2.12</td>\n",
       "      <td>2.67</td>\n",
       "      <td>2.53</td>\n",
       "      <td>3.12</td>\n",
       "      <td>2.83</td>\n",
       "      <td>3.05</td>\n",
       "      <td>...</td>\n",
       "      <td>2.09</td>\n",
       "      <td>2.31</td>\n",
       "      <td>0.6</td>\n",
       "      <td>0.4</td>\n",
       "      <td>0.3</td>\n",
       "      <td>0.3</td>\n",
       "      <td>4.60</td>\n",
       "      <td>6.60</td>\n",
       "      <td>4.90</td>\n",
       "      <td>6.10</td>\n",
       "    </tr>\n",
       "  </tbody>\n",
       "</table>\n",
       "<p>24 rows × 32 columns</p>\n",
       "</div>"
      ],
      "text/plain": [
       "     BFI_d  BFI1_d  BFI2_d  BFI3_d  Q_mm_d_hq_dur  Q1_mm_d_hq_dur  \\\n",
       "001   0.49    0.46    0.68    0.55           1.62            2.12   \n",
       "004   0.38    0.59    0.38    0.42           2.00            1.98   \n",
       "006   0.50    0.47    0.66    0.61           1.89            1.90   \n",
       "007   0.47    0.49    0.53    0.50           2.33            2.65   \n",
       "008    NaN     NaN     NaN     NaN            NaN             NaN   \n",
       "010   0.32    0.29    0.21    0.31           2.85            6.08   \n",
       "023   0.20    0.16    0.34    0.29           1.91            3.65   \n",
       "024   0.42    0.38    0.42    0.39           1.75            3.38   \n",
       "029   0.39    0.38    0.28    0.33           1.56            2.43   \n",
       "036    NaN     NaN     NaN     NaN            NaN             NaN   \n",
       "037   0.41    0.24    0.47    0.34           1.33            9.02   \n",
       "041   0.39    0.39    0.61    0.52           0.00            6.14   \n",
       "044   0.25    0.32    0.28    0.36           1.38            7.22   \n",
       "045   0.42    0.52    0.39    0.44           1.60            2.95   \n",
       "051   0.18    0.23    0.21    0.13           2.27            3.62   \n",
       "052   0.29    0.49    0.62    0.58           3.11            1.90   \n",
       "053   0.12    0.31    0.10    0.11           1.89            2.30   \n",
       "056   0.15    0.22    0.49    0.47           1.78            3.49   \n",
       "057    NaN     NaN     NaN     NaN            NaN             NaN   \n",
       "058   0.32    0.29    0.27    0.06           2.32            3.71   \n",
       "060   0.26    0.44    0.53    0.41           2.17            3.03   \n",
       "061   0.30    0.33    0.49    0.41           1.85            2.41   \n",
       "065   0.25    0.28    0.34    0.31           2.30            2.39   \n",
       "068   0.52    0.55    0.55    0.55           2.12            2.67   \n",
       "\n",
       "     Q2_mm_d_hq_dur  Q3_mm_d_hq_dur  Q_mm_d_hq_freq  Q1_mm_d_hq_freq  ...  \\\n",
       "001            5.00            3.67            0.86             2.43  ...   \n",
       "004            3.62            3.71            5.00             5.38  ...   \n",
       "006            3.26            2.72            1.00             5.52  ...   \n",
       "007            1.62            1.96            2.50             5.05  ...   \n",
       "008             NaN             NaN             NaN              NaN  ...   \n",
       "010            3.61            5.23            8.23            20.86  ...   \n",
       "023            3.11            4.37            7.79            20.14  ...   \n",
       "024            2.14            2.27            2.75            15.14  ...   \n",
       "029            3.51            3.18            2.71             6.95  ...   \n",
       "036             NaN             NaN             NaN              NaN  ...   \n",
       "037            3.51            7.03            0.38            36.10  ...   \n",
       "041            2.00            4.06            0.00            14.90  ...   \n",
       "044            6.06           11.37            9.86            40.24  ...   \n",
       "045            1.85            2.15            0.17             2.95  ...   \n",
       "051            2.89            3.22           12.00            13.10  ...   \n",
       "052            2.53            2.44           33.50             2.71  ...   \n",
       "053            6.26            8.01           14.33            12.62  ...   \n",
       "056            4.20            4.84           10.55            11.29  ...   \n",
       "057             NaN             NaN             NaN              NaN  ...   \n",
       "058            5.87            6.16           20.00            38.29  ...   \n",
       "060            2.42            2.20            9.67             9.67  ...   \n",
       "061            2.38            2.35            6.92            12.71  ...   \n",
       "065            2.81            2.37           11.75            17.52  ...   \n",
       "068            2.53            3.12            2.83             3.05  ...   \n",
       "\n",
       "     Q2_mm_d_mean  Q3_mm_d_mean  Q_mm_d_q5  Q1_mm_d_q5  Q2_mm_d_q5  \\\n",
       "001          1.15          1.18        0.4         0.2         0.3   \n",
       "004          2.27          2.23        0.6         0.6         0.3   \n",
       "006          1.21          1.36        0.4         0.5         0.4   \n",
       "007          2.08          2.04        0.5         0.3         0.5   \n",
       "008           NaN           NaN        NaN         NaN         NaN   \n",
       "010          2.30          2.19        0.4         0.2         0.1   \n",
       "023          1.86          1.81        0.3         0.2         0.2   \n",
       "024          1.43          1.38        0.1         0.3         0.5   \n",
       "029          2.01          2.13        0.7         0.2         0.1   \n",
       "036           NaN           NaN        NaN         NaN         NaN   \n",
       "037          0.80          0.71        0.2         0.0         0.0   \n",
       "041          0.94          0.93        0.2         0.0         0.0   \n",
       "044          0.81          0.89        0.2         0.0         0.0   \n",
       "045          0.44          0.43        0.1         0.1         0.1   \n",
       "051          2.15          1.61        0.2         0.1         0.2   \n",
       "052          3.01          2.88        0.0         0.2         1.0   \n",
       "053          2.85          2.72        0.2         0.4         0.0   \n",
       "056          1.32          1.28        0.1         0.1         0.3   \n",
       "057           NaN           NaN        NaN         NaN         NaN   \n",
       "058          1.12          1.50        0.1         0.1         0.0   \n",
       "060          1.47          1.48        0.2         0.3         0.4   \n",
       "061          3.11          2.87        0.6         0.4         0.7   \n",
       "065          1.70          1.72        0.2         0.3         0.3   \n",
       "068          2.09          2.31        0.6         0.4         0.3   \n",
       "\n",
       "     Q3_mm_d_q5  Q_mm_d_q95  Q1_mm_d_q95  Q2_mm_d_q95  Q3_mm_d_q95  \n",
       "001         0.2        3.10         3.30         2.70         3.10  \n",
       "004         0.3        4.80         6.90         8.60         8.15  \n",
       "006         0.4        3.60         4.10         3.20         3.50  \n",
       "007         0.5        5.50         6.00         5.60         5.60  \n",
       "008         NaN         NaN          NaN          NaN          NaN  \n",
       "010         0.1        6.70         7.00         7.60         7.10  \n",
       "023         0.2        5.58         6.90         6.20         6.70  \n",
       "024         0.4        3.70         4.70         4.50         4.50  \n",
       "029         0.1        4.50         6.50         6.20         6.30  \n",
       "036         NaN         NaN          NaN          NaN          NaN  \n",
       "037         0.0        2.90         2.60         3.00         2.90  \n",
       "041         0.0        3.00         3.30         3.10         3.20  \n",
       "044         0.0        4.46         4.25         4.10         4.10  \n",
       "045         0.1        1.00         1.20         1.25         1.10  \n",
       "051         0.1        4.50         3.80         7.95         6.00  \n",
       "052         0.8        9.96         8.40         8.70         8.70  \n",
       "053         0.0        6.90         9.00        16.95        15.60  \n",
       "056         0.2        4.30         4.00         4.00         4.30  \n",
       "057         NaN         NaN          NaN          NaN          NaN  \n",
       "058         0.0        2.80         8.00         4.80         6.80  \n",
       "060         0.4        4.80         5.00         4.00         4.50  \n",
       "061         0.5        8.90         9.10         9.30         9.20  \n",
       "065         0.3        6.00         6.20         5.90         6.20  \n",
       "068         0.3        4.60         6.60         4.90         6.10  \n",
       "\n",
       "[24 rows x 32 columns]"
      ]
     },
     "execution_count": 147,
     "metadata": {},
     "output_type": "execute_result"
    }
   ],
   "source": [
    "df.loc[:, (df.isna().sum()>0)]"
   ]
  },
  {
   "cell_type": "code",
   "execution_count": 148,
   "metadata": {
    "collapsed": false,
    "execution": {
     "iopub.execute_input": "2024-10-18T21:12:24.515476Z",
     "iopub.status.busy": "2024-10-18T21:12:24.514233Z",
     "iopub.status.idle": "2024-10-18T21:12:24.534014Z",
     "shell.execute_reply": "2024-10-18T21:12:24.532716Z"
    }
   },
   "outputs": [
    {
     "data": {
      "text/plain": [
       "BFI_d              3\n",
       "BFI1_d             3\n",
       "BFI2_d             3\n",
       "BFI3_d             3\n",
       "Q_mm_d_hq_dur      3\n",
       "Q1_mm_d_hq_dur     3\n",
       "Q2_mm_d_hq_dur     3\n",
       "Q3_mm_d_hq_dur     3\n",
       "Q_mm_d_hq_freq     3\n",
       "Q1_mm_d_hq_freq    3\n",
       "Q2_mm_d_hq_freq    3\n",
       "Q3_mm_d_hq_freq    3\n",
       "Q_mm_d_lq_dur      3\n",
       "Q1_mm_d_lq_dur     3\n",
       "Q2_mm_d_lq_dur     3\n",
       "Q3_mm_d_lq_dur     3\n",
       "Q_mm_d_lq_freq     3\n",
       "Q1_mm_d_lq_freq    3\n",
       "Q2_mm_d_lq_freq    3\n",
       "Q3_mm_d_lq_freq    3\n",
       "Q_mm_d_mean        3\n",
       "Q1_mm_d_mean       3\n",
       "Q2_mm_d_mean       3\n",
       "Q3_mm_d_mean       3\n",
       "Q_mm_d_q5          3\n",
       "Q1_mm_d_q5         3\n",
       "Q2_mm_d_q5         3\n",
       "Q3_mm_d_q5         3\n",
       "Q_mm_d_q95         3\n",
       "Q1_mm_d_q95        3\n",
       "Q2_mm_d_q95        3\n",
       "Q3_mm_d_q95        3\n",
       "dtype: int64"
      ]
     },
     "execution_count": 148,
     "metadata": {},
     "output_type": "execute_result"
    }
   ],
   "source": [
    "df.loc[:, (df.isna().sum()>0)].isna().sum()"
   ]
  },
  {
   "cell_type": "code",
   "execution_count": 149,
   "metadata": {
    "collapsed": false,
    "execution": {
     "iopub.execute_input": "2024-10-18T21:12:24.540660Z",
     "iopub.status.busy": "2024-10-18T21:12:24.539833Z",
     "iopub.status.idle": "2024-10-18T21:12:24.548925Z",
     "shell.execute_reply": "2024-10-18T21:12:24.547451Z"
    }
   },
   "outputs": [
    {
     "name": "stdout",
     "output_type": "stream",
     "text": [
      "3\n",
      "q, pcp, temp\n"
     ]
    }
   ],
   "source": [
    "print(dataset.num_dynamic())\n",
    "print(textwrap.fill(\", \".join(dataset.dynamic_features), width=100))"
   ]
  }
 ],
 "metadata": {
  "kernelspec": {
   "display_name": "Python 3",
   "language": "python",
   "name": "python3"
  },
  "language_info": {
   "codemirror_mode": {
    "name": "ipython",
    "version": 3
   },
   "file_extension": ".py",
   "mimetype": "text/x-python",
   "name": "python",
   "nbconvert_exporter": "python",
   "pygments_lexer": "ipython3",
   "version": "3.12.4"
  }
 },
 "nbformat": 4,
 "nbformat_minor": 0
}
